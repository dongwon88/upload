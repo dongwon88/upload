{
 "metadata": {
  "name": "",
  "signature": "sha256:c4b6724c902cd1045714892bc0d09f1987afa8d76210b3e6d191b297e02361a8"
 },
 "nbformat": 3,
 "nbformat_minor": 0,
 "worksheets": [
  {
   "cells": [
    {
     "cell_type": "code",
     "collapsed": false,
     "input": [
      "from numpy import *\n",
      "from time import sleep\n",
      "\n",
      "# SMO \uc54c\uace0\ub9ac\uc998\uc744 \uc704\ud55c \ub3c4\uc6c0 \ud568\uc218\n",
      "\n",
      "def loadDataSet(fileName):\n",
      "    dataMat = []; labelMat = []\n",
      "    fr = open(fileName)\n",
      "    for line in fr.readlines():\n",
      "        lineArr = line.strip().split('\\t')\n",
      "        dataMat.append([float(lineArr[0]), float(lineArr[1])])\n",
      "        labelMat.append(float(lineArr[2]))\n",
      "    return dataMat,labelMat\n",
      "\n",
      "def selectJrand(i,m):\n",
      "    j=i #we want to select any J not equal to i\n",
      "    while (j==i):\n",
      "        j = int(random.uniform(0,m))\n",
      "    return j\n",
      "\n",
      "def clipAlpha(aj,H,L):\n",
      "    if aj > H: \n",
      "        aj = H\n",
      "    if L > aj:\n",
      "        aj = L\n",
      "    return aj"
     ],
     "language": "python",
     "metadata": {},
     "outputs": [],
     "prompt_number": 57
    },
    {
     "cell_type": "code",
     "collapsed": false,
     "input": [
      "import svmMLiA\n",
      "dataArr, labelArr = svmMLiA.loadDataSet('testSet.txt')\n",
      "print labelArr"
     ],
     "language": "python",
     "metadata": {},
     "outputs": [
      {
       "output_type": "stream",
       "stream": "stdout",
       "text": [
        "[-1.0, -1.0, 1.0, -1.0, 1.0, 1.0, 1.0, -1.0, -1.0, -1.0, -1.0, -1.0, -1.0, 1.0, -1.0, 1.0, 1.0, -1.0, 1.0, -1.0, -1.0, -1.0, 1.0, -1.0, -1.0, 1.0, 1.0, -1.0, -1.0, -1.0, -1.0, 1.0, 1.0, 1.0, 1.0, -1.0, 1.0, -1.0, -1.0, 1.0, -1.0, -1.0, -1.0, -1.0, 1.0, 1.0, 1.0, 1.0, 1.0, -1.0, 1.0, 1.0, -1.0, -1.0, 1.0, 1.0, -1.0, 1.0, -1.0, -1.0, -1.0, -1.0, 1.0, -1.0, 1.0, -1.0, -1.0, 1.0, 1.0, 1.0, -1.0, 1.0, 1.0, -1.0, -1.0, 1.0, -1.0, 1.0, 1.0, 1.0, 1.0, 1.0, 1.0, 1.0, -1.0, -1.0, -1.0, -1.0, 1.0, -1.0, 1.0, 1.0, 1.0, -1.0, -1.0, -1.0, -1.0, -1.0, -1.0, -1.0]\n"
       ]
      }
     ],
     "prompt_number": 58
    },
    {
     "cell_type": "code",
     "collapsed": false,
     "input": [
      "# \uac04\ub7b5\ud55c \ud615\ud0dc\uc758 SMO \uc54c\uace0\ub9ac\uc998\n",
      "\n",
      "def smoSimple(dataMatIn, classLabels, C, toler, maxIter):\n",
      "    dataMatrix = mat(dataMatIn); labelMat = mat(classLabels).transpose()\n",
      "    b = 0; m,n = shape(dataMatrix)\n",
      "    alphas = mat(zeros((m,1)))\n",
      "    iter = 0\n",
      "    while (iter < maxIter):\n",
      "        alphaPairsChanged = 0\n",
      "        for i in range(m):\n",
      "            fXi = float(multiply(alphas,labelMat).T*(dataMatrix*dataMatrix[i,:].T)) + b\n",
      "            Ei = fXi - float(labelMat[i])#if checks if an example violates KKT conditions\n",
      "            if ((labelMat[i]*Ei < -toler) and (alphas[i] < C)) or ((labelMat[i]*Ei > toler) and (alphas[i] > 0)):\n",
      "                j = selectJrand(i,m)\n",
      "                fXj = float(multiply(alphas,labelMat).T*(dataMatrix*dataMatrix[j,:].T)) + b\n",
      "                Ej = fXj - float(labelMat[j])\n",
      "                alphaIold = alphas[i].copy(); alphaJold = alphas[j].copy();\n",
      "                if (labelMat[i] != labelMat[j]):\n",
      "                    L = max(0, alphas[j] - alphas[i])\n",
      "                    H = min(C, C + alphas[j] - alphas[i])\n",
      "                else:\n",
      "                    L = max(0, alphas[j] + alphas[i] - C)\n",
      "                    H = min(C, alphas[j] + alphas[i])\n",
      "                if L==H: print \"L==H\"; continue\n",
      "                eta = 2.0 * dataMatrix[i,:]*dataMatrix[j,:].T - dataMatrix[i,:]*dataMatrix[i,:].T - dataMatrix[j,:]*dataMatrix[j,:].T\n",
      "                if eta >= 0: print \"eta>=0\"; continue\n",
      "                alphas[j] -= labelMat[j]*(Ei - Ej)/eta\n",
      "                alphas[j] = clipAlpha(alphas[j],H,L)\n",
      "                if (abs(alphas[j] - alphaJold) < 0.00001): print \"j not moving enough\"; continue\n",
      "                alphas[i] += labelMat[j]*labelMat[i]*(alphaJold - alphas[j])#update i by the same amount as j\n",
      "                                                                        #the update is in the oppostie direction\n",
      "                b1 = b - Ei- labelMat[i]*(alphas[i]-alphaIold)*dataMatrix[i,:]*dataMatrix[i,:].T - labelMat[j]*(alphas[j]-alphaJold)*dataMatrix[i,:]*dataMatrix[j,:].T\n",
      "                b2 = b - Ej- labelMat[i]*(alphas[i]-alphaIold)*dataMatrix[i,:]*dataMatrix[j,:].T - labelMat[j]*(alphas[j]-alphaJold)*dataMatrix[j,:]*dataMatrix[j,:].T\n",
      "                if (0 < alphas[i]) and (C > alphas[i]): b = b1\n",
      "                elif (0 < alphas[j]) and (C > alphas[j]): b = b2\n",
      "                else: b = (b1 + b2)/2.0\n",
      "                alphaPairsChanged += 1\n",
      "                print \"iter: %d i:%d, pairs changed %d\" % (iter,i,alphaPairsChanged)\n",
      "        if (alphaPairsChanged == 0): iter += 1\n",
      "        else: iter = 0\n",
      "        print \"iteration number: %d\" % iter\n",
      "    return b,alphas"
     ],
     "language": "python",
     "metadata": {},
     "outputs": [],
     "prompt_number": 59
    },
    {
     "cell_type": "code",
     "collapsed": false,
     "input": [
      "b, alphas = svmMLiA.smoSimple(dataArr, labelArr, 0.6, 0.001, 40)"
     ],
     "language": "python",
     "metadata": {},
     "outputs": [
      {
       "output_type": "stream",
       "stream": "stdout",
       "text": [
        "iter: 0 i:0, pairs changed 1\n",
        "L==H\n",
        "j not moving enough\n",
        "j not moving enough\n",
        "j not moving enough\n",
        "j not moving enough\n",
        "j not moving enough\n",
        "j not moving enough\n",
        "L==H\n",
        "L==H\n",
        "L==H\n",
        "j not moving enough\n",
        "L==H\n",
        "L==H"
       ]
      },
      {
       "output_type": "stream",
       "stream": "stdout",
       "text": [
        "\n",
        "L==H\n",
        "L==H\n",
        "L==H\n",
        "j not moving enough"
       ]
      },
      {
       "output_type": "stream",
       "stream": "stdout",
       "text": [
        "\n",
        "j not moving enough\n",
        "L==H\n",
        "iteration number: 0\n",
        "L==H\n",
        "iter: 0 i:10, pairs changed 1\n",
        "j not moving enough\n",
        "L==H"
       ]
      },
      {
       "output_type": "stream",
       "stream": "stdout",
       "text": [
        "\n",
        "L==H\n",
        "L==H\n",
        "j not moving enough"
       ]
      },
      {
       "output_type": "stream",
       "stream": "stdout",
       "text": [
        "\n",
        "iteration number: 0\n",
        "j not moving enough\n",
        "L==H\n",
        "j not moving enough\n",
        "L==H\n",
        "L==H"
       ]
      },
      {
       "output_type": "stream",
       "stream": "stdout",
       "text": [
        "\n",
        "j not moving enough"
       ]
      },
      {
       "output_type": "stream",
       "stream": "stdout",
       "text": [
        "\n",
        "iteration number: 1\n",
        "j not moving enough\n",
        "L==H\n",
        "j not moving enough\n",
        "j not moving enough\n",
        "L==H"
       ]
      },
      {
       "output_type": "stream",
       "stream": "stdout",
       "text": [
        "\n",
        "j not moving enough"
       ]
      },
      {
       "output_type": "stream",
       "stream": "stdout",
       "text": [
        "\n",
        "iteration number: 2\n",
        "j not moving enough\n",
        "j not moving enough\n",
        "j not moving enough\n",
        "j not moving enough\n",
        "j not moving enough"
       ]
      },
      {
       "output_type": "stream",
       "stream": "stdout",
       "text": [
        "\n",
        "L==H"
       ]
      },
      {
       "output_type": "stream",
       "stream": "stdout",
       "text": [
        "\n",
        "iteration number: 3\n",
        "j not moving enough\n",
        "j not moving enough\n",
        "L==H\n",
        "j not moving enough\n",
        "L==H"
       ]
      },
      {
       "output_type": "stream",
       "stream": "stdout",
       "text": [
        "\n",
        "L==H"
       ]
      },
      {
       "output_type": "stream",
       "stream": "stdout",
       "text": [
        "\n",
        "iteration number: 4\n",
        "j not moving enough\n",
        "L==H\n",
        "L==H\n",
        "L==H\n",
        "j not moving enough"
       ]
      },
      {
       "output_type": "stream",
       "stream": "stdout",
       "text": [
        "\n",
        "j not moving enough"
       ]
      },
      {
       "output_type": "stream",
       "stream": "stdout",
       "text": [
        "\n",
        "iteration number: 5\n",
        "j not moving enough\n",
        "j not moving enough\n",
        "j not moving enough\n",
        "j not moving enough\n",
        "j not moving enough"
       ]
      },
      {
       "output_type": "stream",
       "stream": "stdout",
       "text": [
        "\n",
        "j not moving enough"
       ]
      },
      {
       "output_type": "stream",
       "stream": "stdout",
       "text": [
        "\n",
        "iteration number: 6\n",
        "j not moving enough\n",
        "L==H\n",
        "L==H\n",
        "j not moving enough\n",
        "L==H"
       ]
      },
      {
       "output_type": "stream",
       "stream": "stdout",
       "text": [
        "\n",
        "L==H"
       ]
      },
      {
       "output_type": "stream",
       "stream": "stdout",
       "text": [
        "\n",
        "iteration number: 7\n",
        "iter: 7 i:0, pairs changed 1\n",
        "L==H"
       ]
      },
      {
       "output_type": "stream",
       "stream": "stdout",
       "text": [
        "\n",
        "j not moving enough\n",
        "iter: 7 i:17, pairs changed 2\n",
        "j not moving enough\n",
        "L==H"
       ]
      },
      {
       "output_type": "stream",
       "stream": "stdout",
       "text": [
        "\n",
        "j not moving enough\n",
        "iteration number: 0"
       ]
      },
      {
       "output_type": "stream",
       "stream": "stdout",
       "text": [
        "\n",
        "j not moving enough\n",
        "j not moving enough\n",
        "L==H"
       ]
      },
      {
       "output_type": "stream",
       "stream": "stdout",
       "text": [
        "\n",
        "j not moving enough\n",
        "j not moving enough"
       ]
      },
      {
       "output_type": "stream",
       "stream": "stdout",
       "text": [
        "\n",
        "iteration number: 1"
       ]
      },
      {
       "output_type": "stream",
       "stream": "stdout",
       "text": [
        "\n",
        "iter: 1 i:0, pairs changed 1\n",
        "j not moving enough\n",
        "j not moving enough\n",
        "j not moving enough"
       ]
      },
      {
       "output_type": "stream",
       "stream": "stdout",
       "text": [
        "\n",
        "L==H\n",
        "j not moving enough"
       ]
      },
      {
       "output_type": "stream",
       "stream": "stdout",
       "text": [
        "\n",
        "L==H\n",
        "j not moving enough\n",
        "iteration number: 0"
       ]
      },
      {
       "output_type": "stream",
       "stream": "stdout",
       "text": [
        "\n",
        "iter: 0 i:10, pairs changed 1\n",
        "j not moving enough\n",
        "j not moving enough\n",
        "L==H\n",
        "j not moving enough"
       ]
      },
      {
       "output_type": "stream",
       "stream": "stdout",
       "text": [
        "\n",
        "iteration number: 0\n",
        "j not moving enough"
       ]
      },
      {
       "output_type": "stream",
       "stream": "stdout",
       "text": [
        "\n",
        "j not moving enough\n",
        "j not moving enough\n",
        "j not moving enough\n",
        "j not moving enough"
       ]
      },
      {
       "output_type": "stream",
       "stream": "stdout",
       "text": [
        "\n",
        "iteration number: 1"
       ]
      },
      {
       "output_type": "stream",
       "stream": "stdout",
       "text": [
        "\n",
        "j not moving enough\n",
        "j not moving enough\n",
        "j not moving enough\n",
        "j not moving enough\n",
        "j not moving enough\n",
        "iteration number: 2"
       ]
      },
      {
       "output_type": "stream",
       "stream": "stdout",
       "text": [
        "\n",
        "j not moving enough\n",
        "j not moving enough\n",
        "L==H\n",
        "j not moving enough\n",
        "j not moving enough"
       ]
      },
      {
       "output_type": "stream",
       "stream": "stdout",
       "text": [
        "\n",
        "iteration number: 3"
       ]
      },
      {
       "output_type": "stream",
       "stream": "stdout",
       "text": [
        "\n",
        "j not moving enough\n",
        "j not moving enough\n",
        "L==H\n",
        "L==H\n",
        "j not moving enough"
       ]
      },
      {
       "output_type": "stream",
       "stream": "stdout",
       "text": [
        "\n",
        "iteration number: 4"
       ]
      },
      {
       "output_type": "stream",
       "stream": "stdout",
       "text": [
        "\n",
        "j not moving enough\n",
        "j not moving enough\n",
        "L==H\n",
        "j not moving enough\n",
        "j not moving enough"
       ]
      },
      {
       "output_type": "stream",
       "stream": "stdout",
       "text": [
        "\n",
        "iteration number: 5\n",
        "j not moving enough"
       ]
      },
      {
       "output_type": "stream",
       "stream": "stdout",
       "text": [
        "\n",
        "j not moving enough\n",
        "L==H\n",
        "j not moving enough\n",
        "j not moving enough\n",
        "iteration number: 6"
       ]
      },
      {
       "output_type": "stream",
       "stream": "stdout",
       "text": [
        "\n",
        "j not moving enough\n",
        "j not moving enough\n",
        "L==H\n",
        "L==H\n",
        "j not moving enough\n",
        "iteration number: 7"
       ]
      },
      {
       "output_type": "stream",
       "stream": "stdout",
       "text": [
        "\n",
        "j not moving enough\n",
        "j not moving enough\n",
        "L==H\n",
        "L==H\n",
        "j not moving enough\n",
        "iteration number: 8\n",
        "j not moving enough"
       ]
      },
      {
       "output_type": "stream",
       "stream": "stdout",
       "text": [
        "\n",
        "j not moving enough\n",
        "L==H\n",
        "L==H\n",
        "j not moving enough\n",
        "iteration number: 9\n",
        "iter: 9 i:8, pairs changed 1"
       ]
      },
      {
       "output_type": "stream",
       "stream": "stdout",
       "text": [
        "\n",
        "j not moving enough\n",
        "j not moving enough\n",
        "L==H\n",
        "j not moving enough\n",
        "j not moving enough\n",
        "j not moving enough\n",
        "iteration number: 0"
       ]
      },
      {
       "output_type": "stream",
       "stream": "stdout",
       "text": [
        "\n",
        "j not moving enough\n",
        "L==H\n",
        "L==H\n",
        "j not moving enough\n",
        "j not moving enough\n",
        "j not moving enough\n",
        "iteration number: 1"
       ]
      },
      {
       "output_type": "stream",
       "stream": "stdout",
       "text": [
        "\n",
        "j not moving enough\n",
        "L==H\n",
        "L==H\n",
        "iter: 1 i:30, pairs changed 1\n",
        "j not moving enough\n",
        "iteration number: 0"
       ]
      },
      {
       "output_type": "stream",
       "stream": "stdout",
       "text": [
        "\n",
        "j not moving enough\n",
        "j not moving enough\n",
        "j not moving enough\n",
        "L==H\n",
        "L==H\n",
        "j not moving enough\n",
        "iteration number: 1"
       ]
      },
      {
       "output_type": "stream",
       "stream": "stdout",
       "text": [
        "\n",
        "j not moving enough\n",
        "j not moving enough\n",
        "j not moving enough\n",
        "L==H\n",
        "L==H\n",
        "j not moving enough\n",
        "iteration number: 2"
       ]
      },
      {
       "output_type": "stream",
       "stream": "stdout",
       "text": [
        "\n",
        "j not moving enough\n",
        "j not moving enough\n",
        "j not moving enough\n",
        "j not moving enough\n",
        "L==H\n",
        "j not moving enough\n",
        "iteration number: 3"
       ]
      },
      {
       "output_type": "stream",
       "stream": "stdout",
       "text": [
        "\n",
        "j not moving enough\n",
        "j not moving enough\n",
        "j not moving enough\n",
        "L==H\n",
        "L==H\n",
        "j not moving enough\n",
        "iteration number: 4"
       ]
      },
      {
       "output_type": "stream",
       "stream": "stdout",
       "text": [
        "\n",
        "j not moving enough\n",
        "j not moving enough\n",
        "j not moving enough\n",
        "j not moving enough\n",
        "L==H\n",
        "iter: 4 i:52, pairs changed 1\n",
        "j not moving enough\n",
        "j not moving enough\n",
        "j not moving enough\n",
        "iteration number: 0"
       ]
      },
      {
       "output_type": "stream",
       "stream": "stdout",
       "text": [
        "\n",
        "j not moving enough\n",
        "j not moving enough\n",
        "j not moving enough\n",
        "iter: 0 i:30, pairs changed 1\n",
        "j not moving enough\n",
        "iteration number: 0"
       ]
      },
      {
       "output_type": "stream",
       "stream": "stdout",
       "text": [
        "\n",
        "j not moving enough\n",
        "j not moving enough\n",
        "j not moving enough\n",
        "L==H\n",
        "j not moving enough\n",
        "j not moving enough\n",
        "iteration number: 1"
       ]
      },
      {
       "output_type": "stream",
       "stream": "stdout",
       "text": [
        "\n",
        "j not moving enough\n",
        "j not moving enough\n",
        "j not moving enough\n",
        "L==H\n",
        "j not moving enough\n",
        "j not moving enough\n",
        "iteration number: 2"
       ]
      },
      {
       "output_type": "stream",
       "stream": "stdout",
       "text": [
        "\n",
        "j not moving enough\n",
        "j not moving enough\n",
        "j not moving enough\n",
        "L==H\n",
        "j not moving enough\n",
        "j not moving enough\n",
        "iteration number: 3"
       ]
      },
      {
       "output_type": "stream",
       "stream": "stdout",
       "text": [
        "\n",
        "j not moving enough\n",
        "j not moving enough\n",
        "j not moving enough\n",
        "L==H\n",
        "j not moving enough\n",
        "j not moving enough\n",
        "iteration number: 4"
       ]
      },
      {
       "output_type": "stream",
       "stream": "stdout",
       "text": [
        "\n",
        "j not moving enough\n",
        "j not moving enough\n",
        "j not moving enough\n",
        "L==H\n",
        "iter: 4 i:29, pairs changed 1\n",
        "j not moving enough\n",
        "j not moving enough\n",
        "j not moving enough\n",
        "iteration number: 0"
       ]
      },
      {
       "output_type": "stream",
       "stream": "stdout",
       "text": [
        "\n",
        "j not moving enough\n",
        "j not moving enough\n",
        "j not moving enough"
       ]
      },
      {
       "output_type": "stream",
       "stream": "stdout",
       "text": [
        "\n",
        "j not moving enough\n",
        "L==H\n",
        "j not moving enough\n",
        "iteration number: 1"
       ]
      },
      {
       "output_type": "stream",
       "stream": "stdout",
       "text": [
        "\n",
        "j not moving enough\n",
        "j not moving enough\n",
        "j not moving enough\n",
        "j not moving enough\n",
        "j not moving enough"
       ]
      },
      {
       "output_type": "stream",
       "stream": "stdout",
       "text": [
        "\n",
        "j not moving enough\n",
        "iteration number: 2"
       ]
      },
      {
       "output_type": "stream",
       "stream": "stdout",
       "text": [
        "\n",
        "j not moving enough\n",
        "j not moving enough\n",
        "iter: 2 i:17, pairs changed 1\n",
        "j not moving enough\n",
        "j not moving enough\n",
        "j not moving enough"
       ]
      },
      {
       "output_type": "stream",
       "stream": "stdout",
       "text": [
        "\n",
        "j not moving enough\n",
        "j not moving enough\n",
        "iteration number: 0"
       ]
      },
      {
       "output_type": "stream",
       "stream": "stdout",
       "text": [
        "\n",
        "j not moving enough\n",
        "j not moving enough\n",
        "j not moving enough\n",
        "j not moving enough\n",
        "j not moving enough\n",
        "j not moving enough\n",
        "j not moving enough\n",
        "iteration number: 1"
       ]
      },
      {
       "output_type": "stream",
       "stream": "stdout",
       "text": [
        "\n",
        "j not moving enough\n",
        "j not moving enough\n",
        "j not moving enough\n",
        "j not moving enough\n",
        "j not moving enough\n",
        "j not moving enough\n",
        "j not moving enough\n",
        "iteration number: 2"
       ]
      },
      {
       "output_type": "stream",
       "stream": "stdout",
       "text": [
        "\n",
        "j not moving enough\n",
        "j not moving enough\n",
        "j not moving enough\n",
        "j not moving enough\n",
        "j not moving enough\n",
        "j not moving enough\n",
        "j not moving enough\n",
        "iteration number: 3"
       ]
      },
      {
       "output_type": "stream",
       "stream": "stdout",
       "text": [
        "\n",
        "j not moving enough\n",
        "j not moving enough\n",
        "j not moving enough\n",
        "j not moving enough\n",
        "j not moving enough\n",
        "L==H\n",
        "j not moving enough\n",
        "iteration number: 4\n"
       ]
      },
      {
       "output_type": "stream",
       "stream": "stdout",
       "text": [
        "j not moving enough\n",
        "j not moving enough\n",
        "j not moving enough\n",
        "j not moving enough\n",
        "j not moving enough\n",
        "j not moving enough\n",
        "j not moving enough\n",
        "iteration number: 5\n",
        "iter: 5 i:8, pairs changed 1"
       ]
      },
      {
       "output_type": "stream",
       "stream": "stdout",
       "text": [
        "\n",
        "j not moving enough\n",
        "j not moving enough\n",
        "j not moving enough\n",
        "j not moving enough\n",
        "j not moving enough\n",
        "j not moving enough\n",
        "iteration number: 0"
       ]
      },
      {
       "output_type": "stream",
       "stream": "stdout",
       "text": [
        "\n",
        "j not moving enough\n",
        "j not moving enough\n",
        "j not moving enough\n",
        "iter: 0 i:29, pairs changed 1\n",
        "j not moving enough\n",
        "j not moving enough\n",
        "j not moving enough\n",
        "j not moving enough\n",
        "iteration number: 0"
       ]
      },
      {
       "output_type": "stream",
       "stream": "stdout",
       "text": [
        "\n",
        "j not moving enough\n",
        "j not moving enough\n",
        "j not moving enough\n",
        "j not moving enough\n",
        "j not moving enough"
       ]
      },
      {
       "output_type": "stream",
       "stream": "stdout",
       "text": [
        "\n",
        "j not moving enough\n",
        "j not moving enough\n",
        "L==H\n",
        "iteration number: 1\n",
        "j not moving enough\n",
        "j not moving enough\n",
        "j not moving enough\n",
        "j not moving enough"
       ]
      },
      {
       "output_type": "stream",
       "stream": "stdout",
       "text": [
        "\n",
        "j not moving enough\n",
        "j not moving enough"
       ]
      },
      {
       "output_type": "stream",
       "stream": "stdout",
       "text": [
        "\n",
        "j not moving enough\n",
        "j not moving enough"
       ]
      },
      {
       "output_type": "stream",
       "stream": "stdout",
       "text": [
        "\n",
        "iteration number: 2\n",
        "j not moving enough\n",
        "iter: 2 i:10, pairs changed 1"
       ]
      },
      {
       "output_type": "stream",
       "stream": "stdout",
       "text": [
        "\n",
        "j not moving enough\n",
        "j not moving enough\n",
        "j not moving enough\n",
        "j not moving enough"
       ]
      },
      {
       "output_type": "stream",
       "stream": "stdout",
       "text": [
        "\n",
        "j not moving enough\n",
        "iteration number: 0"
       ]
      },
      {
       "output_type": "stream",
       "stream": "stdout",
       "text": [
        "\n",
        "j not moving enough\n",
        "j not moving enough\n",
        "j not moving enough\n",
        "j not moving enough\n",
        "j not moving enough"
       ]
      },
      {
       "output_type": "stream",
       "stream": "stdout",
       "text": [
        "\n",
        "j not moving enough\n",
        "iteration number: 1\n",
        "j not moving enough"
       ]
      },
      {
       "output_type": "stream",
       "stream": "stdout",
       "text": [
        "\n",
        "iter: 1 i:17, pairs changed 1"
       ]
      },
      {
       "output_type": "stream",
       "stream": "stdout",
       "text": [
        "\n",
        "j not moving enough\n",
        "j not moving enough\n",
        "j not moving enough"
       ]
      },
      {
       "output_type": "stream",
       "stream": "stdout",
       "text": [
        "\n",
        "j not moving enough\n",
        "iteration number: 0\n",
        "j not moving enough"
       ]
      },
      {
       "output_type": "stream",
       "stream": "stdout",
       "text": [
        "\n",
        "j not moving enough\n",
        "j not moving enough\n",
        "L==H"
       ]
      },
      {
       "output_type": "stream",
       "stream": "stdout",
       "text": [
        "\n",
        "j not moving enough\n",
        "iteration number: 1"
       ]
      },
      {
       "output_type": "stream",
       "stream": "stdout",
       "text": [
        "\n",
        "j not moving enough\n",
        "j not moving enough\n",
        "j not moving enough\n",
        "j not moving enough"
       ]
      },
      {
       "output_type": "stream",
       "stream": "stdout",
       "text": [
        "\n",
        "j not moving enough\n",
        "iteration number: 2"
       ]
      },
      {
       "output_type": "stream",
       "stream": "stdout",
       "text": [
        "\n",
        "j not moving enough\n",
        "j not moving enough"
       ]
      },
      {
       "output_type": "stream",
       "stream": "stdout",
       "text": [
        "\n",
        "j not moving enough\n",
        "j not moving enough\n",
        "j not moving enough\n",
        "iteration number: 3"
       ]
      },
      {
       "output_type": "stream",
       "stream": "stdout",
       "text": [
        "\n",
        "j not moving enough\n",
        "j not moving enough\n",
        "j not moving enough\n",
        "L==H\n",
        "j not moving enough"
       ]
      },
      {
       "output_type": "stream",
       "stream": "stdout",
       "text": [
        "\n",
        "iteration number: 4\n",
        "j not moving enough\n",
        "j not moving enough\n",
        "iter: 4 i:29, pairs changed 1"
       ]
      },
      {
       "output_type": "stream",
       "stream": "stdout",
       "text": [
        "\n",
        "j not moving enough\n",
        "L==H\n",
        "j not moving enough\n",
        "j not moving enough\n",
        "iteration number: 0"
       ]
      },
      {
       "output_type": "stream",
       "stream": "stdout",
       "text": [
        "\n",
        "j not moving enough\n",
        "j not moving enough\n",
        "j not moving enough\n",
        "j not moving enough"
       ]
      },
      {
       "output_type": "stream",
       "stream": "stdout",
       "text": [
        "\n",
        "j not moving enough\n",
        "j not moving enough\n",
        "iteration number: 1\n",
        "j not moving enough\n",
        "j not moving enough"
       ]
      },
      {
       "output_type": "stream",
       "stream": "stdout",
       "text": [
        "\n",
        "j not moving enough\n",
        "j not moving enough\n",
        "iter: 1 i:55, pairs changed 1\n",
        "iteration number: 0"
       ]
      },
      {
       "output_type": "stream",
       "stream": "stdout",
       "text": [
        "\n",
        "j not moving enough\n",
        "iter: 0 i:17, pairs changed 1\n",
        "j not moving enough"
       ]
      },
      {
       "output_type": "stream",
       "stream": "stdout",
       "text": [
        "\n",
        "j not moving enough\n",
        "j not moving enough\n",
        "j not moving enough\n",
        "iteration number: 0"
       ]
      },
      {
       "output_type": "stream",
       "stream": "stdout",
       "text": [
        "\n",
        "j not moving enough\n",
        "j not moving enough\n",
        "iter: 0 i:52, pairs changed 1\n",
        "j not moving enough\n",
        "j not moving enough\n",
        "iteration number: 0"
       ]
      },
      {
       "output_type": "stream",
       "stream": "stdout",
       "text": [
        "\n",
        "j not moving enough\n",
        "j not moving enough\n",
        "j not moving enough\n",
        "L==H"
       ]
      },
      {
       "output_type": "stream",
       "stream": "stdout",
       "text": [
        "\n",
        "j not moving enough\n",
        "iteration number: 1"
       ]
      },
      {
       "output_type": "stream",
       "stream": "stdout",
       "text": [
        "\n",
        "j not moving enough\n",
        "j not moving enough\n",
        "j not moving enough\n",
        "j not moving enough"
       ]
      },
      {
       "output_type": "stream",
       "stream": "stdout",
       "text": [
        "\n",
        "j not moving enough\n",
        "iteration number: 2"
       ]
      },
      {
       "output_type": "stream",
       "stream": "stdout",
       "text": [
        "\n",
        "j not moving enough\n",
        "j not moving enough\n",
        "j not moving enough\n",
        "j not moving enough\n",
        "j not moving enough\n",
        "iteration number: 3"
       ]
      },
      {
       "output_type": "stream",
       "stream": "stdout",
       "text": [
        "\n",
        "j not moving enough\n",
        "j not moving enough\n",
        "j not moving enough\n",
        "L==H\n",
        "j not moving enough\n",
        "iteration number: 4"
       ]
      },
      {
       "output_type": "stream",
       "stream": "stdout",
       "text": [
        "\n",
        "j not moving enough\n",
        "j not moving enough\n",
        "j not moving enough\n",
        "L==H\n",
        "j not moving enough\n",
        "iteration number: 5"
       ]
      },
      {
       "output_type": "stream",
       "stream": "stdout",
       "text": [
        "\n",
        "j not moving enough\n",
        "j not moving enough\n",
        "j not moving enough\n",
        "j not moving enough\n",
        "j not moving enough"
       ]
      },
      {
       "output_type": "stream",
       "stream": "stdout",
       "text": [
        "\n",
        "iteration number: 6\n",
        "j not moving enough"
       ]
      },
      {
       "output_type": "stream",
       "stream": "stdout",
       "text": [
        "\n",
        "j not moving enough\n",
        "j not moving enough\n",
        "j not moving enough"
       ]
      },
      {
       "output_type": "stream",
       "stream": "stdout",
       "text": [
        "\n",
        "j not moving enough\n",
        "iteration number: 7\n",
        "j not moving enough\n",
        "j not moving enough"
       ]
      },
      {
       "output_type": "stream",
       "stream": "stdout",
       "text": [
        "\n",
        "j not moving enough\n",
        "L==H"
       ]
      },
      {
       "output_type": "stream",
       "stream": "stdout",
       "text": [
        "\n",
        "iter: 7 i:55, pairs changed 1\n",
        "iteration number: 0\n",
        "j not moving enough\n",
        "j not moving enough"
       ]
      },
      {
       "output_type": "stream",
       "stream": "stdout",
       "text": [
        "\n",
        "j not moving enough\n",
        "iter: 0 i:52, pairs changed 1\n",
        "j not moving enough\n",
        "iteration number: 0"
       ]
      },
      {
       "output_type": "stream",
       "stream": "stdout",
       "text": [
        "\n",
        "j not moving enough\n",
        "j not moving enough\n",
        "j not moving enough\n",
        "j not moving enough\n",
        "iteration number: 1"
       ]
      },
      {
       "output_type": "stream",
       "stream": "stdout",
       "text": [
        "\n",
        "j not moving enough\n",
        "j not moving enough\n",
        "j not moving enough\n",
        "j not moving enough"
       ]
      },
      {
       "output_type": "stream",
       "stream": "stdout",
       "text": [
        "\n",
        "iteration number: 2"
       ]
      },
      {
       "output_type": "stream",
       "stream": "stdout",
       "text": [
        "\n",
        "iter: 2 i:17, pairs changed 1"
       ]
      },
      {
       "output_type": "stream",
       "stream": "stdout",
       "text": [
        "\n",
        "iter: 2 i:29, pairs changed 2\n",
        "j not moving enough\n",
        "iteration number: 0"
       ]
      },
      {
       "output_type": "stream",
       "stream": "stdout",
       "text": [
        "\n",
        "j not moving enough\n",
        "j not moving enough\n",
        "iter: 0 i:23, pairs changed 1\n",
        "j not moving enough"
       ]
      },
      {
       "output_type": "stream",
       "stream": "stdout",
       "text": [
        "\n",
        "j not moving enough\n",
        "j not moving enough"
       ]
      },
      {
       "output_type": "stream",
       "stream": "stdout",
       "text": [
        "\n",
        "j not moving enough\n",
        "iteration number: 0"
       ]
      },
      {
       "output_type": "stream",
       "stream": "stdout",
       "text": [
        "\n",
        "j not moving enough\n",
        "iter: 0 i:29, pairs changed 1\n",
        "j not moving enough\n",
        "j not moving enough\n",
        "iteration number: 0"
       ]
      },
      {
       "output_type": "stream",
       "stream": "stdout",
       "text": [
        "\n",
        "j not moving enough\n",
        "j not moving enough\n",
        "j not moving enough\n",
        "j not moving enough\n",
        "iteration number: 1"
       ]
      },
      {
       "output_type": "stream",
       "stream": "stdout",
       "text": [
        "\n",
        "j not moving enough\n",
        "j not moving enough\n",
        "j not moving enough\n",
        "iter: 1 i:55, pairs changed 1\n",
        "iteration number: 0"
       ]
      },
      {
       "output_type": "stream",
       "stream": "stdout",
       "text": [
        "\n",
        "iter: 0 i:8, pairs changed 1\n",
        "j not moving enough\n",
        "j not moving enough\n",
        "j not moving enough\n",
        "L==H\n",
        "j not moving enough"
       ]
      },
      {
       "output_type": "stream",
       "stream": "stdout",
       "text": [
        "\n",
        "j not moving enough\n",
        "j not moving enough\n",
        "L==H\n",
        "L==H\n",
        "L==H\n",
        "iteration number: 0\n",
        "j not moving enough\n",
        "j not moving enough"
       ]
      },
      {
       "output_type": "stream",
       "stream": "stdout",
       "text": [
        "\n",
        "j not moving enough\n",
        "iter: 0 i:30, pairs changed 1\n",
        "j not moving enough"
       ]
      },
      {
       "output_type": "stream",
       "stream": "stdout",
       "text": [
        "\n",
        "iteration number: 0\n",
        "j not moving enough"
       ]
      },
      {
       "output_type": "stream",
       "stream": "stdout",
       "text": [
        "\n",
        "j not moving enough\n",
        "iter: 0 i:23, pairs changed 1\n",
        "j not moving enough\n",
        "j not moving enough\n",
        "j not moving enough"
       ]
      },
      {
       "output_type": "stream",
       "stream": "stdout",
       "text": [
        "\n",
        "j not moving enough\n",
        "iteration number: 0\n",
        "j not moving enough\n",
        "j not moving enough\n",
        "j not moving enough\n",
        "j not moving enough"
       ]
      },
      {
       "output_type": "stream",
       "stream": "stdout",
       "text": [
        "\n",
        "iter: 0 i:55, pairs changed 1\n",
        "iteration number: 0\n",
        "j not moving enough\n",
        "iter: 0 i:23, pairs changed 1"
       ]
      },
      {
       "output_type": "stream",
       "stream": "stdout",
       "text": [
        "\n",
        "j not moving enough\n",
        "j not moving enough\n",
        "j not moving enough\n",
        "iteration number: 0\n",
        "j not moving enough"
       ]
      },
      {
       "output_type": "stream",
       "stream": "stdout",
       "text": [
        "\n",
        "j not moving enough\n",
        "j not moving enough\n",
        "j not moving enough\n",
        "j not moving enough\n",
        "iteration number: 1"
       ]
      },
      {
       "output_type": "stream",
       "stream": "stdout",
       "text": [
        "\n",
        "j not moving enough\n",
        "j not moving enough\n",
        "j not moving enough\n",
        "j not moving enough\n",
        "j not moving enough\n",
        "iteration number: 2"
       ]
      },
      {
       "output_type": "stream",
       "stream": "stdout",
       "text": [
        "\n",
        "j not moving enough\n",
        "iter: 2 i:17, pairs changed 1\n",
        "j not moving enough\n",
        "j not moving enough\n",
        "j not moving enough\n",
        "j not moving enough\n",
        "iteration number: 0"
       ]
      },
      {
       "output_type": "stream",
       "stream": "stdout",
       "text": [
        "\n",
        "j not moving enough\n",
        "iter: 0 i:23, pairs changed 1"
       ]
      },
      {
       "output_type": "stream",
       "stream": "stdout",
       "text": [
        "\n",
        "j not moving enough\n",
        "j not moving enough\n",
        "j not moving enough"
       ]
      },
      {
       "output_type": "stream",
       "stream": "stdout",
       "text": [
        "\n",
        "iteration number: 0\n",
        "j not moving enough\n",
        "j not moving enough"
       ]
      },
      {
       "output_type": "stream",
       "stream": "stdout",
       "text": [
        "\n",
        "j not moving enough\n",
        "j not moving enough\n",
        "iter: 0 i:55, pairs changed 1\n",
        "iteration number: 0"
       ]
      },
      {
       "output_type": "stream",
       "stream": "stdout",
       "text": [
        "\n",
        "iter: 0 i:8, pairs changed 1\n",
        "j not moving enough"
       ]
      },
      {
       "output_type": "stream",
       "stream": "stdout",
       "text": [
        "\n",
        "j not moving enough\n",
        "j not moving enough\n",
        "j not moving enough"
       ]
      },
      {
       "output_type": "stream",
       "stream": "stdout",
       "text": [
        "\n",
        "L==H\n",
        "iter: 0 i:55, pairs changed 2\n",
        "iteration number: 0\n",
        "j not moving enough"
       ]
      },
      {
       "output_type": "stream",
       "stream": "stdout",
       "text": [
        "\n",
        "j not moving enough\n",
        "j not moving enough\n",
        "j not moving enough"
       ]
      },
      {
       "output_type": "stream",
       "stream": "stdout",
       "text": [
        "\n",
        "L==H\n",
        "iteration number: 1"
       ]
      },
      {
       "output_type": "stream",
       "stream": "stdout",
       "text": [
        "\n",
        "iter: 1 i:17, pairs changed 1"
       ]
      },
      {
       "output_type": "stream",
       "stream": "stdout",
       "text": [
        "\n",
        "j not moving enough\n",
        "iter: 1 i:52, pairs changed 2\n",
        "L==H\n",
        "j not moving enough\n",
        "iteration number: 0"
       ]
      },
      {
       "output_type": "stream",
       "stream": "stdout",
       "text": [
        "\n",
        "j not moving enough\n",
        "j not moving enough"
       ]
      },
      {
       "output_type": "stream",
       "stream": "stdout",
       "text": [
        "\n",
        "j not moving enough\n",
        "iteration number: 1\n",
        "j not moving enough\n",
        "L==H"
       ]
      },
      {
       "output_type": "stream",
       "stream": "stdout",
       "text": [
        "\n",
        "j not moving enough\n",
        "iteration number: 2\n",
        "j not moving enough"
       ]
      },
      {
       "output_type": "stream",
       "stream": "stdout",
       "text": [
        "\n",
        "j not moving enough\n",
        "j not moving enough"
       ]
      },
      {
       "output_type": "stream",
       "stream": "stdout",
       "text": [
        "\n",
        "iteration number: 3"
       ]
      },
      {
       "output_type": "stream",
       "stream": "stdout",
       "text": [
        "\n",
        "j not moving enough\n",
        "L==H\n",
        "j not moving enough"
       ]
      },
      {
       "output_type": "stream",
       "stream": "stdout",
       "text": [
        "\n",
        "iteration number: 4\n",
        "j not moving enough"
       ]
      },
      {
       "output_type": "stream",
       "stream": "stdout",
       "text": [
        "\n",
        "L==H\n",
        "j not moving enough\n",
        "iteration number: 5"
       ]
      },
      {
       "output_type": "stream",
       "stream": "stdout",
       "text": [
        "\n",
        "j not moving enough\n",
        "L==H"
       ]
      },
      {
       "output_type": "stream",
       "stream": "stdout",
       "text": [
        "\n",
        "j not moving enough\n",
        "iteration number: 6\n",
        "j not moving enough"
       ]
      },
      {
       "output_type": "stream",
       "stream": "stdout",
       "text": [
        "\n",
        "j not moving enough\n",
        "j not moving enough\n",
        "iteration number: 7"
       ]
      },
      {
       "output_type": "stream",
       "stream": "stdout",
       "text": [
        "\n",
        "iter: 7 i:29, pairs changed 1\n",
        "j not moving enough\n",
        "j not moving enough\n",
        "iteration number: 0"
       ]
      },
      {
       "output_type": "stream",
       "stream": "stdout",
       "text": [
        "\n",
        "j not moving enough\n",
        "j not moving enough\n",
        "j not moving enough"
       ]
      },
      {
       "output_type": "stream",
       "stream": "stdout",
       "text": [
        "\n",
        "iteration number: 1\n",
        "j not moving enough\n",
        "j not moving enough"
       ]
      },
      {
       "output_type": "stream",
       "stream": "stdout",
       "text": [
        "\n",
        "j not moving enough\n",
        "iteration number: 2"
       ]
      },
      {
       "output_type": "stream",
       "stream": "stdout",
       "text": [
        "\n",
        "j not moving enough\n",
        "j not moving enough"
       ]
      },
      {
       "output_type": "stream",
       "stream": "stdout",
       "text": [
        "\n",
        "j not moving enough\n",
        "iteration number: 3\n",
        "j not moving enough\n",
        "j not moving enough"
       ]
      },
      {
       "output_type": "stream",
       "stream": "stdout",
       "text": [
        "\n",
        "j not moving enough\n",
        "iteration number: 4\n",
        "j not moving enough"
       ]
      },
      {
       "output_type": "stream",
       "stream": "stdout",
       "text": [
        "\n",
        "j not moving enough\n",
        "j not moving enough\n",
        "iteration number: 5"
       ]
      },
      {
       "output_type": "stream",
       "stream": "stdout",
       "text": [
        "\n",
        "j not moving enough\n",
        "j not moving enough"
       ]
      },
      {
       "output_type": "stream",
       "stream": "stdout",
       "text": [
        "\n",
        "j not moving enough\n",
        "iteration number: 6\n",
        "j not moving enough"
       ]
      },
      {
       "output_type": "stream",
       "stream": "stdout",
       "text": [
        "\n",
        "j not moving enough\n",
        "j not moving enough\n",
        "iteration number: 7"
       ]
      },
      {
       "output_type": "stream",
       "stream": "stdout",
       "text": [
        "\n",
        "j not moving enough\n",
        "j not moving enough"
       ]
      },
      {
       "output_type": "stream",
       "stream": "stdout",
       "text": [
        "\n",
        "j not moving enough\n",
        "iteration number: 8\n",
        "j not moving enough"
       ]
      },
      {
       "output_type": "stream",
       "stream": "stdout",
       "text": [
        "\n",
        "j not moving enough"
       ]
      },
      {
       "output_type": "stream",
       "stream": "stdout",
       "text": [
        "\n",
        "j not moving enough\n",
        "iteration number: 9"
       ]
      },
      {
       "output_type": "stream",
       "stream": "stdout",
       "text": [
        "\n",
        "j not moving enough\n",
        "j not moving enough\n",
        "j not moving enough\n",
        "iteration number: 10"
       ]
      },
      {
       "output_type": "stream",
       "stream": "stdout",
       "text": [
        "\n",
        "j not moving enough\n",
        "j not moving enough"
       ]
      },
      {
       "output_type": "stream",
       "stream": "stdout",
       "text": [
        "\n",
        "j not moving enough\n",
        "iteration number: 11"
       ]
      },
      {
       "output_type": "stream",
       "stream": "stdout",
       "text": [
        "\n",
        "j not moving enough\n",
        "j not moving enough\n",
        "j not moving enough\n",
        "iteration number: 12"
       ]
      },
      {
       "output_type": "stream",
       "stream": "stdout",
       "text": [
        "\n",
        "j not moving enough\n",
        "j not moving enough"
       ]
      },
      {
       "output_type": "stream",
       "stream": "stdout",
       "text": [
        "\n",
        "j not moving enough\n",
        "iteration number: 13"
       ]
      },
      {
       "output_type": "stream",
       "stream": "stdout",
       "text": [
        "\n",
        "j not moving enough\n",
        "j not moving enough\n",
        "j not moving enough\n",
        "iteration number: 14"
       ]
      },
      {
       "output_type": "stream",
       "stream": "stdout",
       "text": [
        "\n",
        "j not moving enough\n",
        "j not moving enough\n",
        "j not moving enough\n",
        "iteration number: 15"
       ]
      },
      {
       "output_type": "stream",
       "stream": "stdout",
       "text": [
        "\n",
        "j not moving enough\n",
        "j not moving enough"
       ]
      },
      {
       "output_type": "stream",
       "stream": "stdout",
       "text": [
        "\n",
        "j not moving enough\n",
        "iteration number: 16"
       ]
      },
      {
       "output_type": "stream",
       "stream": "stdout",
       "text": [
        "\n",
        "j not moving enough\n",
        "j not moving enough\n",
        "j not moving enough\n",
        "iteration number: 17"
       ]
      },
      {
       "output_type": "stream",
       "stream": "stdout",
       "text": [
        "\n",
        "j not moving enough"
       ]
      },
      {
       "output_type": "stream",
       "stream": "stdout",
       "text": [
        "\n",
        "j not moving enough\n",
        "j not moving enough\n",
        "iteration number: 18\n",
        "j not moving enough\n",
        "j not moving enough"
       ]
      },
      {
       "output_type": "stream",
       "stream": "stdout",
       "text": [
        "\n",
        "j not moving enough\n",
        "iteration number: 19"
       ]
      },
      {
       "output_type": "stream",
       "stream": "stdout",
       "text": [
        "\n",
        "j not moving enough\n",
        "j not moving enough\n",
        "j not moving enough\n",
        "iteration number: 20"
       ]
      },
      {
       "output_type": "stream",
       "stream": "stdout",
       "text": [
        "\n",
        "j not moving enough\n",
        "j not moving enough\n",
        "j not moving enough\n",
        "iteration number: 21"
       ]
      },
      {
       "output_type": "stream",
       "stream": "stdout",
       "text": [
        "\n",
        "j not moving enough\n",
        "j not moving enough\n",
        "j not moving enough\n",
        "iteration number: 22"
       ]
      },
      {
       "output_type": "stream",
       "stream": "stdout",
       "text": [
        "\n",
        "j not moving enough\n",
        "j not moving enough"
       ]
      },
      {
       "output_type": "stream",
       "stream": "stdout",
       "text": [
        "\n",
        "j not moving enough\n",
        "iteration number: 23"
       ]
      },
      {
       "output_type": "stream",
       "stream": "stdout",
       "text": [
        "\n",
        "j not moving enough\n",
        "j not moving enough\n",
        "j not moving enough\n",
        "iteration number: 24"
       ]
      },
      {
       "output_type": "stream",
       "stream": "stdout",
       "text": [
        "\n",
        "j not moving enough\n",
        "j not moving enough"
       ]
      },
      {
       "output_type": "stream",
       "stream": "stdout",
       "text": [
        "\n",
        "j not moving enough\n",
        "iteration number: 25"
       ]
      },
      {
       "output_type": "stream",
       "stream": "stdout",
       "text": [
        "\n",
        "j not moving enough"
       ]
      },
      {
       "output_type": "stream",
       "stream": "stdout",
       "text": [
        "\n",
        "j not moving enough\n",
        "iter: 25 i:55, pairs changed 1\n",
        "iteration number: 0\n",
        "j not moving enough"
       ]
      },
      {
       "output_type": "stream",
       "stream": "stdout",
       "text": [
        "\n",
        "j not moving enough\n",
        "j not moving enough\n",
        "j not moving enough\n",
        "iteration number: 1\n",
        "j not moving enough"
       ]
      },
      {
       "output_type": "stream",
       "stream": "stdout",
       "text": [
        "\n",
        "j not moving enough\n",
        "j not moving enough"
       ]
      },
      {
       "output_type": "stream",
       "stream": "stdout",
       "text": [
        "\n",
        "j not moving enough\n",
        "iteration number: 2\n",
        "j not moving enough"
       ]
      },
      {
       "output_type": "stream",
       "stream": "stdout",
       "text": [
        "\n",
        "j not moving enough\n",
        "j not moving enough\n",
        "j not moving enough"
       ]
      },
      {
       "output_type": "stream",
       "stream": "stdout",
       "text": [
        "\n",
        "iteration number: 3"
       ]
      },
      {
       "output_type": "stream",
       "stream": "stdout",
       "text": [
        "\n",
        "L==H"
       ]
      },
      {
       "output_type": "stream",
       "stream": "stdout",
       "text": [
        "\n",
        "j not moving enough\n",
        "j not moving enough\n",
        "j not moving enough"
       ]
      },
      {
       "output_type": "stream",
       "stream": "stdout",
       "text": [
        "\n",
        "iteration number: 4\n",
        "j not moving enough\n",
        "j not moving enough\n",
        "j not moving enough"
       ]
      },
      {
       "output_type": "stream",
       "stream": "stdout",
       "text": [
        "\n",
        "j not moving enough\n",
        "iteration number: 5\n",
        "L==H"
       ]
      },
      {
       "output_type": "stream",
       "stream": "stdout",
       "text": [
        "\n",
        "j not moving enough\n",
        "j not moving enough\n",
        "j not moving enough\n",
        "iteration number: 6\n",
        "iter: 6 i:23, pairs changed 1"
       ]
      },
      {
       "output_type": "stream",
       "stream": "stdout",
       "text": [
        "\n",
        "j not moving enough\n",
        "j not moving enough\n",
        "j not moving enough\n",
        "iteration number: 0"
       ]
      },
      {
       "output_type": "stream",
       "stream": "stdout",
       "text": [
        "\n",
        "j not moving enough\n",
        "j not moving enough\n",
        "iter: 0 i:52, pairs changed 1"
       ]
      },
      {
       "output_type": "stream",
       "stream": "stdout",
       "text": [
        "\n",
        "j not moving enough\n",
        "j not moving enough\n",
        "iteration number: 0\n",
        "j not moving enough\n",
        "j not moving enough\n",
        "iter: 0 i:54, pairs changed 1"
       ]
      },
      {
       "output_type": "stream",
       "stream": "stdout",
       "text": [
        "\n",
        "j not moving enough\n",
        "iteration number: 0\n",
        "j not moving enough\n",
        "j not moving enough\n",
        "j not moving enough"
       ]
      },
      {
       "output_type": "stream",
       "stream": "stdout",
       "text": [
        "\n",
        "j not moving enough\n",
        "iteration number: 1\n",
        "j not moving enough"
       ]
      },
      {
       "output_type": "stream",
       "stream": "stdout",
       "text": [
        "\n",
        "j not moving enough\n",
        "j not moving enough\n",
        "j not moving enough\n",
        "iteration number: 2"
       ]
      },
      {
       "output_type": "stream",
       "stream": "stdout",
       "text": [
        "\n",
        "j not moving enough\n",
        "j not moving enough\n",
        "j not moving enough\n",
        "j not moving enough\n",
        "iteration number: 3"
       ]
      },
      {
       "output_type": "stream",
       "stream": "stdout",
       "text": [
        "\n",
        "j not moving enough\n",
        "j not moving enough\n",
        "j not moving enough\n",
        "j not moving enough\n",
        "iteration number: 4"
       ]
      },
      {
       "output_type": "stream",
       "stream": "stdout",
       "text": [
        "\n",
        "j not moving enough\n",
        "j not moving enough\n",
        "j not moving enough\n",
        "j not moving enough\n",
        "iteration number: 5"
       ]
      },
      {
       "output_type": "stream",
       "stream": "stdout",
       "text": [
        "\n",
        "j not moving enough\n",
        "j not moving enough"
       ]
      },
      {
       "output_type": "stream",
       "stream": "stdout",
       "text": [
        "\n",
        "j not moving enough\n",
        "j not moving enough\n",
        "iteration number: 6"
       ]
      },
      {
       "output_type": "stream",
       "stream": "stdout",
       "text": [
        "\n",
        "j not moving enough\n",
        "j not moving enough\n",
        "j not moving enough"
       ]
      },
      {
       "output_type": "stream",
       "stream": "stdout",
       "text": [
        "\n",
        "j not moving enough\n",
        "iteration number: 7"
       ]
      },
      {
       "output_type": "stream",
       "stream": "stdout",
       "text": [
        "\n",
        "j not moving enough\n",
        "j not moving enough\n",
        "j not moving enough\n",
        "j not moving enough\n",
        "iteration number: 8"
       ]
      },
      {
       "output_type": "stream",
       "stream": "stdout",
       "text": [
        "\n",
        "j not moving enough"
       ]
      },
      {
       "output_type": "stream",
       "stream": "stdout",
       "text": [
        "\n",
        "j not moving enough\n",
        "j not moving enough\n",
        "j not moving enough\n",
        "iteration number: 9"
       ]
      },
      {
       "output_type": "stream",
       "stream": "stdout",
       "text": [
        "\n",
        "j not moving enough\n",
        "j not moving enough\n",
        "j not moving enough\n",
        "j not moving enough\n",
        "iteration number: 10\n",
        "j not moving enough"
       ]
      },
      {
       "output_type": "stream",
       "stream": "stdout",
       "text": [
        "\n",
        "j not moving enough\n",
        "j not moving enough\n",
        "j not moving enough"
       ]
      },
      {
       "output_type": "stream",
       "stream": "stdout",
       "text": [
        "\n",
        "iteration number: 11\n",
        "j not moving enough\n",
        "j not moving enough"
       ]
      },
      {
       "output_type": "stream",
       "stream": "stdout",
       "text": [
        "\n",
        "j not moving enough\n",
        "j not moving enough\n",
        "iteration number: 12"
       ]
      },
      {
       "output_type": "stream",
       "stream": "stdout",
       "text": [
        "\n",
        "j not moving enough\n",
        "j not moving enough\n",
        "j not moving enough"
       ]
      },
      {
       "output_type": "stream",
       "stream": "stdout",
       "text": [
        "\n",
        "j not moving enough\n",
        "iteration number: 13\n",
        "j not moving enough\n",
        "j not moving enough"
       ]
      },
      {
       "output_type": "stream",
       "stream": "stdout",
       "text": [
        "\n",
        "j not moving enough"
       ]
      },
      {
       "output_type": "stream",
       "stream": "stdout",
       "text": [
        "\n",
        "j not moving enough\n",
        "iteration number: 14"
       ]
      },
      {
       "output_type": "stream",
       "stream": "stdout",
       "text": [
        "\n",
        "j not moving enough\n",
        "j not moving enough\n",
        "j not moving enough\n",
        "j not moving enough\n",
        "iteration number: 15"
       ]
      },
      {
       "output_type": "stream",
       "stream": "stdout",
       "text": [
        "\n",
        "j not moving enough\n",
        "j not moving enough\n",
        "j not moving enough"
       ]
      },
      {
       "output_type": "stream",
       "stream": "stdout",
       "text": [
        "\n",
        "j not moving enough\n",
        "iteration number: 16"
       ]
      },
      {
       "output_type": "stream",
       "stream": "stdout",
       "text": [
        "\n",
        "j not moving enough\n",
        "j not moving enough\n",
        "j not moving enough\n",
        "j not moving enough"
       ]
      },
      {
       "output_type": "stream",
       "stream": "stdout",
       "text": [
        "\n",
        "iteration number: 17\n",
        "j not moving enough"
       ]
      },
      {
       "output_type": "stream",
       "stream": "stdout",
       "text": [
        "\n",
        "j not moving enough\n",
        "j not moving enough\n",
        "j not moving enough\n",
        "iteration number: 18"
       ]
      },
      {
       "output_type": "stream",
       "stream": "stdout",
       "text": [
        "\n",
        "j not moving enough\n",
        "j not moving enough"
       ]
      },
      {
       "output_type": "stream",
       "stream": "stdout",
       "text": [
        "\n",
        "j not moving enough\n",
        "j not moving enough\n",
        "iteration number: 19\n",
        "j not moving enough"
       ]
      },
      {
       "output_type": "stream",
       "stream": "stdout",
       "text": [
        "\n",
        "j not moving enough\n",
        "j not moving enough\n",
        "iter: 19 i:55, pairs changed 1\n",
        "iteration number: 0"
       ]
      },
      {
       "output_type": "stream",
       "stream": "stdout",
       "text": [
        "\n",
        "j not moving enough\n",
        "j not moving enough"
       ]
      },
      {
       "output_type": "stream",
       "stream": "stdout",
       "text": [
        "\n",
        "iteration number: 1\n",
        "j not moving enough"
       ]
      },
      {
       "output_type": "stream",
       "stream": "stdout",
       "text": [
        "\n",
        "j not moving enough\n",
        "iteration number: 2"
       ]
      },
      {
       "output_type": "stream",
       "stream": "stdout",
       "text": [
        "\n",
        "j not moving enough\n",
        "j not moving enough\n",
        "iteration number: 3"
       ]
      },
      {
       "output_type": "stream",
       "stream": "stdout",
       "text": [
        "\n",
        "j not moving enough\n",
        "j not moving enough"
       ]
      },
      {
       "output_type": "stream",
       "stream": "stdout",
       "text": [
        "\n",
        "iteration number: 4\n",
        "j not moving enough"
       ]
      },
      {
       "output_type": "stream",
       "stream": "stdout",
       "text": [
        "\n",
        "j not moving enough\n",
        "iteration number: 5\n",
        "j not moving enough"
       ]
      },
      {
       "output_type": "stream",
       "stream": "stdout",
       "text": [
        "\n",
        "j not moving enough\n",
        "iteration number: 6\n",
        "j not moving enough"
       ]
      },
      {
       "output_type": "stream",
       "stream": "stdout",
       "text": [
        "\n",
        "j not moving enough\n",
        "iteration number: 7\n",
        "j not moving enough"
       ]
      },
      {
       "output_type": "stream",
       "stream": "stdout",
       "text": [
        "\n",
        "j not moving enough\n",
        "iteration number: 8\n",
        "j not moving enough"
       ]
      },
      {
       "output_type": "stream",
       "stream": "stdout",
       "text": [
        "\n",
        "j not moving enough\n",
        "iteration number: 9"
       ]
      },
      {
       "output_type": "stream",
       "stream": "stdout",
       "text": [
        "\n",
        "j not moving enough\n",
        "j not moving enough\n",
        "iteration number: 10"
       ]
      },
      {
       "output_type": "stream",
       "stream": "stdout",
       "text": [
        "\n",
        "j not moving enough\n",
        "j not moving enough\n",
        "iteration number: 11"
       ]
      },
      {
       "output_type": "stream",
       "stream": "stdout",
       "text": [
        "\n",
        "j not moving enough"
       ]
      },
      {
       "output_type": "stream",
       "stream": "stdout",
       "text": [
        "\n",
        "j not moving enough\n",
        "iteration number: 12"
       ]
      },
      {
       "output_type": "stream",
       "stream": "stdout",
       "text": [
        "\n",
        "j not moving enough"
       ]
      },
      {
       "output_type": "stream",
       "stream": "stdout",
       "text": [
        "\n",
        "j not moving enough\n",
        "iteration number: 13"
       ]
      },
      {
       "output_type": "stream",
       "stream": "stdout",
       "text": [
        "\n",
        "j not moving enough"
       ]
      },
      {
       "output_type": "stream",
       "stream": "stdout",
       "text": [
        "\n",
        "j not moving enough\n",
        "iteration number: 14"
       ]
      },
      {
       "output_type": "stream",
       "stream": "stdout",
       "text": [
        "\n",
        "j not moving enough\n",
        "j not moving enough"
       ]
      },
      {
       "output_type": "stream",
       "stream": "stdout",
       "text": [
        "\n",
        "iteration number: 15"
       ]
      },
      {
       "output_type": "stream",
       "stream": "stdout",
       "text": [
        "\n",
        "j not moving enough\n",
        "j not moving enough\n",
        "iteration number: 16\n",
        "j not moving enough"
       ]
      },
      {
       "output_type": "stream",
       "stream": "stdout",
       "text": [
        "\n",
        "j not moving enough\n",
        "iteration number: 17\n",
        "j not moving enough"
       ]
      },
      {
       "output_type": "stream",
       "stream": "stdout",
       "text": [
        "\n",
        "j not moving enough\n",
        "iteration number: 18\n",
        "j not moving enough"
       ]
      },
      {
       "output_type": "stream",
       "stream": "stdout",
       "text": [
        "\n",
        "j not moving enough\n",
        "iteration number: 19"
       ]
      },
      {
       "output_type": "stream",
       "stream": "stdout",
       "text": [
        "\n",
        "j not moving enough\n",
        "j not moving enough\n",
        "iteration number: 20"
       ]
      },
      {
       "output_type": "stream",
       "stream": "stdout",
       "text": [
        "\n",
        "j not moving enough\n",
        "j not moving enough"
       ]
      },
      {
       "output_type": "stream",
       "stream": "stdout",
       "text": [
        "\n",
        "iteration number: 21\n",
        "j not moving enough\n",
        "j not moving enough"
       ]
      },
      {
       "output_type": "stream",
       "stream": "stdout",
       "text": [
        "\n",
        "iteration number: 22\n",
        "j not moving enough\n",
        "j not moving enough"
       ]
      },
      {
       "output_type": "stream",
       "stream": "stdout",
       "text": [
        "\n",
        "iteration number: 23\n",
        "j not moving enough\n",
        "j not moving enough"
       ]
      },
      {
       "output_type": "stream",
       "stream": "stdout",
       "text": [
        "\n",
        "iteration number: 24\n",
        "j not moving enough\n",
        "j not moving enough"
       ]
      },
      {
       "output_type": "stream",
       "stream": "stdout",
       "text": [
        "\n",
        "iteration number: 25\n",
        "j not moving enough"
       ]
      },
      {
       "output_type": "stream",
       "stream": "stdout",
       "text": [
        "\n",
        "j not moving enough\n",
        "iteration number: 26"
       ]
      },
      {
       "output_type": "stream",
       "stream": "stdout",
       "text": [
        "\n",
        "j not moving enough\n",
        "j not moving enough\n",
        "iteration number: 27"
       ]
      },
      {
       "output_type": "stream",
       "stream": "stdout",
       "text": [
        "\n",
        "j not moving enough"
       ]
      },
      {
       "output_type": "stream",
       "stream": "stdout",
       "text": [
        "\n",
        "j not moving enough\n",
        "iteration number: 28"
       ]
      },
      {
       "output_type": "stream",
       "stream": "stdout",
       "text": [
        "\n",
        "j not moving enough\n",
        "j not moving enough\n",
        "iteration number: 29"
       ]
      },
      {
       "output_type": "stream",
       "stream": "stdout",
       "text": [
        "\n",
        "j not moving enough\n",
        "j not moving enough\n",
        "iteration number: 30"
       ]
      },
      {
       "output_type": "stream",
       "stream": "stdout",
       "text": [
        "\n",
        "j not moving enough\n",
        "j not moving enough\n",
        "iteration number: 31"
       ]
      },
      {
       "output_type": "stream",
       "stream": "stdout",
       "text": [
        "\n",
        "j not moving enough\n",
        "j not moving enough"
       ]
      },
      {
       "output_type": "stream",
       "stream": "stdout",
       "text": [
        "\n",
        "iteration number: 32\n",
        "j not moving enough\n",
        "j not moving enough"
       ]
      },
      {
       "output_type": "stream",
       "stream": "stdout",
       "text": [
        "\n",
        "iteration number: 33\n",
        "j not moving enough\n",
        "j not moving enough"
       ]
      },
      {
       "output_type": "stream",
       "stream": "stdout",
       "text": [
        "\n",
        "iteration number: 34\n",
        "j not moving enough\n",
        "j not moving enough"
       ]
      },
      {
       "output_type": "stream",
       "stream": "stdout",
       "text": [
        "\n",
        "iteration number: 35"
       ]
      },
      {
       "output_type": "stream",
       "stream": "stdout",
       "text": [
        "\n",
        "j not moving enough\n",
        "j not moving enough\n",
        "iteration number: 36"
       ]
      },
      {
       "output_type": "stream",
       "stream": "stdout",
       "text": [
        "\n",
        "j not moving enough\n",
        "j not moving enough\n",
        "iteration number: 37"
       ]
      },
      {
       "output_type": "stream",
       "stream": "stdout",
       "text": [
        "\n",
        "j not moving enough\n",
        "j not moving enough"
       ]
      },
      {
       "output_type": "stream",
       "stream": "stdout",
       "text": [
        "\n",
        "iteration number: 38\n",
        "j not moving enough"
       ]
      },
      {
       "output_type": "stream",
       "stream": "stdout",
       "text": [
        "\n",
        "j not moving enough\n",
        "iteration number: 39"
       ]
      },
      {
       "output_type": "stream",
       "stream": "stdout",
       "text": [
        "\n",
        "j not moving enough\n",
        "j not moving enough"
       ]
      },
      {
       "output_type": "stream",
       "stream": "stdout",
       "text": [
        "\n",
        "iteration number: 40\n"
       ]
      }
     ],
     "prompt_number": 60
    },
    {
     "cell_type": "code",
     "collapsed": false,
     "input": [
      "b"
     ],
     "language": "python",
     "metadata": {},
     "outputs": [
      {
       "metadata": {},
       "output_type": "pyout",
       "prompt_number": 61,
       "text": [
        "matrix([[-3.78703119]])"
       ]
      }
     ],
     "prompt_number": 61
    },
    {
     "cell_type": "code",
     "collapsed": false,
     "input": [
      "alphas[alphas>0]"
     ],
     "language": "python",
     "metadata": {},
     "outputs": [
      {
       "metadata": {},
       "output_type": "pyout",
       "prompt_number": 62,
       "text": [
        "matrix([[  1.87307398e-01,   3.93653541e-02,   1.37001022e-01,\n",
        "           1.47451495e-17,   3.63673775e-01]])"
       ]
      }
     ],
     "prompt_number": 62
    },
    {
     "cell_type": "code",
     "collapsed": false,
     "input": [
      "for i in range(100):\n",
      "    if alphas[i] > 0.0: print dataArr[i], labelArr[i]"
     ],
     "language": "python",
     "metadata": {},
     "outputs": [
      {
       "output_type": "stream",
       "stream": "stdout",
       "text": [
        "[4.658191, 3.507396] -1.0\n",
        "[3.457096, -0.082216] -1.0\n",
        "[2.893743, -1.643468] -1.0\n",
        "[5.286862, -2.358286] 1.0\n",
        "[6.080573, 0.418886] 1.0\n"
       ]
      }
     ],
     "prompt_number": 63
    },
    {
     "cell_type": "code",
     "collapsed": false,
     "input": [
      "# \uc804\uccb4 \ud50c\ub7ab SMO\uc5d0 \ub300\ud55c \uc9c0\uc9c0 \ud568\uc218\n",
      "\n",
      "class optStruct:\n",
      "    def __init__(self,dataMatIn, classLabels, C, toler, kTup):  # Initialize the structure with the parameters \n",
      "        self.X = dataMatIn\n",
      "        self.labelMat = classLabels\n",
      "        self.C = C\n",
      "        self.tol = toler\n",
      "        self.m = shape(dataMatIn)[0]\n",
      "        self.alphas = mat(zeros((self.m,1)))\n",
      "        self.b = 0\n",
      "        self.eCache = mat(zeros((self.m,2))) #first column is valid flag\n",
      "        self.K = mat(zeros((self.m,self.m)))\n",
      "        for i in range(self.m):\n",
      "            self.K[:,i] = kernelTrans(self.X, self.X[i,:], kTup)\n",
      "        \n",
      "def calcEk(oS, k):\n",
      "    fXk = float(multiply(oS.alphas,oS.labelMat).T*oS.K[:,k] + oS.b)\n",
      "    Ek = fXk - float(oS.labelMat[k])\n",
      "    return Ek\n",
      "        \n",
      "def selectJ(i, oS, Ei):         #this is the second choice -heurstic, and calcs Ej\n",
      "    maxK = -1; maxDeltaE = 0; Ej = 0\n",
      "    oS.eCache[i] = [1,Ei]  #set valid #choose the alpha that gives the maximum delta E\n",
      "    validEcacheList = nonzero(oS.eCache[:,0].A)[0]\n",
      "    if (len(validEcacheList)) > 1:\n",
      "        for k in validEcacheList:   #loop through valid Ecache values and find the one that maximizes delta E\n",
      "            if k == i: continue #don't calc for i, waste of time\n",
      "            Ek = calcEk(oS, k)\n",
      "            deltaE = abs(Ei - Ek)\n",
      "            if (deltaE > maxDeltaE):\n",
      "                maxK = k; maxDeltaE = deltaE; Ej = Ek\n",
      "        return maxK, Ej\n",
      "    else:   #in this case (first time around) we don't have any valid eCache values\n",
      "        j = selectJrand(i, oS.m)\n",
      "        Ej = calcEk(oS, j)\n",
      "    return j, Ej\n",
      "\n",
      "def updateEk(oS, k):#after any alpha has changed update the new value in the cache\n",
      "    Ek = calcEk(oS, k)\n",
      "    oS.eCache[k] = [1,Ek]"
     ],
     "language": "python",
     "metadata": {},
     "outputs": [],
     "prompt_number": 64
    },
    {
     "cell_type": "code",
     "collapsed": false,
     "input": [
      "# \uc804\uccb4 \ud50c\ub7ab SMO \ucd5c\uc801\ud654 \uc808\ucc28\n",
      "\n",
      "def innerL(i, oS):\n",
      "    Ei = calcEk(oS, i)\n",
      "    if ((oS.labelMat[i]*Ei < -oS.tol) and (oS.alphas[i] < oS.C)) or ((oS.labelMat[i]*Ei > oS.tol) and (oS.alphas[i] > 0)):\n",
      "        j,Ej = selectJ(i, oS, Ei) #this has been changed from selectJrand\n",
      "        alphaIold = oS.alphas[i].copy(); alphaJold = oS.alphas[j].copy();\n",
      "        if (oS.labelMat[i] != oS.labelMat[j]):\n",
      "            L = max(0, oS.alphas[j] - oS.alphas[i])\n",
      "            H = min(oS.C, oS.C + oS.alphas[j] - oS.alphas[i])\n",
      "        else:\n",
      "            L = max(0, oS.alphas[j] + oS.alphas[i] - oS.C)\n",
      "            H = min(oS.C, oS.alphas[j] + oS.alphas[i])\n",
      "        if L==H: print \"L==H\"; return 0\n",
      "        eta = 2.0 * oS.K[i,j] - oS.K[i,i] - oS.K[j,j] #changed for kernel\n",
      "        if eta >= 0: print \"eta>=0\"; return 0\n",
      "        oS.alphas[j] -= oS.labelMat[j]*(Ei - Ej)/eta\n",
      "        oS.alphas[j] = clipAlpha(oS.alphas[j],H,L)\n",
      "        updateEk(oS, j) #added this for the Ecache\n",
      "        if (abs(oS.alphas[j] - alphaJold) < 0.00001): print \"j not moving enough\"; return 0\n",
      "        oS.alphas[i] += oS.labelMat[j]*oS.labelMat[i]*(alphaJold - oS.alphas[j])#update i by the same amount as j\n",
      "        updateEk(oS, i) #added this for the Ecache                    #the update is in the oppostie direction\n",
      "        b1 = oS.b - Ei- oS.labelMat[i]*(oS.alphas[i]-alphaIold)*oS.K[i,i] - oS.labelMat[j]*(oS.alphas[j]-alphaJold)*oS.K[i,j]\n",
      "        b2 = oS.b - Ej- oS.labelMat[i]*(oS.alphas[i]-alphaIold)*oS.K[i,j]- oS.labelMat[j]*(oS.alphas[j]-alphaJold)*oS.K[j,j]\n",
      "        if (0 < oS.alphas[i]) and (oS.C > oS.alphas[i]): oS.b = b1\n",
      "        elif (0 < oS.alphas[j]) and (oS.C > oS.alphas[j]): oS.b = b2\n",
      "        else: oS.b = (b1 + b2)/2.0\n",
      "        return 1\n",
      "    else: return 0"
     ],
     "language": "python",
     "metadata": {},
     "outputs": [],
     "prompt_number": 65
    },
    {
     "cell_type": "code",
     "collapsed": false,
     "input": [
      "# \uc804\uccb4 \ud50c\ub7ab SMO \uc678\ubd80 \ubc18\ubcf5\ubb38\n",
      "\n",
      "def smoP(dataMatIn, classLabels, C, toler, maxIter,kTup=('lin', 0)):    #full Platt SMO\n",
      "    oS = optStruct(mat(dataMatIn),mat(classLabels).transpose(),C,toler, kTup)\n",
      "    iter = 0\n",
      "    entireSet = True; alphaPairsChanged = 0\n",
      "    while (iter < maxIter) and ((alphaPairsChanged > 0) or (entireSet)):\n",
      "        alphaPairsChanged = 0\n",
      "        if entireSet:   #go over all\n",
      "            for i in range(oS.m):        \n",
      "                alphaPairsChanged += innerL(i,oS)\n",
      "                print \"fullSet, iter: %d i:%d, pairs changed %d\" % (iter,i,alphaPairsChanged)\n",
      "            iter += 1\n",
      "        else:#go over non-bound (railed) alphas\n",
      "            nonBoundIs = nonzero((oS.alphas.A > 0) * (oS.alphas.A < C))[0]\n",
      "            for i in nonBoundIs:\n",
      "                alphaPairsChanged += innerL(i,oS)\n",
      "                print \"non-bound, iter: %d i:%d, pairs changed %d\" % (iter,i,alphaPairsChanged)\n",
      "            iter += 1\n",
      "        if entireSet: entireSet = False #toggle entire set loop\n",
      "        elif (alphaPairsChanged == 0): entireSet = True  \n",
      "        print \"iteration number: %d\" % iter\n",
      "    return oS.b,oS.alphas"
     ],
     "language": "python",
     "metadata": {},
     "outputs": [],
     "prompt_number": 66
    },
    {
     "cell_type": "code",
     "collapsed": false,
     "input": [
      "dataArr, labelArr = svmMLiA.loadDataSet('testSet.txt')\n",
      "b, alphas = svmMLiA.smoP(dataArr, labelArr, 0.6, 0.001, 40)"
     ],
     "language": "python",
     "metadata": {},
     "outputs": [
      {
       "output_type": "stream",
       "stream": "stdout",
       "text": [
        "L==H\n",
        "fullSet, iter: 0 i:0, pairs changed 0\n",
        "L==H\n",
        "fullSet, iter: 0 i:1, pairs changed 0\n",
        "fullSet, iter: 0 i:2, pairs changed 1\n",
        "L==H\n",
        "fullSet, iter: 0 i:3, pairs changed 1\n",
        "fullSet, iter: 0 i:4, pairs changed 2\n",
        "fullSet, iter: 0 i:5, pairs changed 2\n",
        "fullSet, iter: 0 i:6, pairs changed 2\n",
        "j not moving enough\n",
        "fullSet, iter: 0 i:7, pairs changed 2\n",
        "L==H\n",
        "fullSet, iter: 0 i:8, pairs changed 2\n",
        "fullSet, iter: 0 i:9, pairs changed 2\n",
        "L==H\n",
        "fullSet, iter: 0 i:10, pairs changed 2\n",
        "L==H\n",
        "fullSet, iter: 0 i:11, pairs changed 2\n",
        "L==H\n",
        "fullSet, iter: 0 i:12, pairs changed 2\n",
        "fullSet, iter: 0 i:13, pairs changed 2\n",
        "L==H\n",
        "fullSet, iter: 0 i:14, pairs changed 2\n",
        "fullSet, iter: 0 i:15, pairs changed 2\n",
        "fullSet, iter: 0 i:16, pairs changed 2\n",
        "L==H\n",
        "fullSet, iter: 0 i:17, pairs changed 2\n",
        "fullSet, iter: 0 i:18, pairs changed 3\n",
        "fullSet, iter: 0 i:19, pairs changed 3"
       ]
      },
      {
       "output_type": "stream",
       "stream": "stdout",
       "text": [
        "\n",
        "fullSet, iter: 0 i:20, pairs changed 3\n",
        "fullSet, iter: 0 i:21, pairs changed 3\n",
        "j not moving enough\n",
        "fullSet, iter: 0 i:22, pairs changed 3\n",
        "L==H\n",
        "fullSet, iter: 0 i:23, pairs changed 3\n",
        "L==H\n",
        "fullSet, iter: 0 i:24, pairs changed 3\n",
        "fullSet, iter: 0 i:25, pairs changed 4\n",
        "j not moving enough\n",
        "fullSet, iter: 0 i:26, pairs changed 4\n",
        "fullSet, iter: 0 i:27, pairs changed 4\n",
        "fullSet, iter: 0 i:28, pairs changed 4\n",
        "L==H"
       ]
      },
      {
       "output_type": "stream",
       "stream": "stdout",
       "text": [
        "\n",
        "fullSet, iter: 0 i:29, pairs changed 4\n",
        "fullSet, iter: 0 i:30, pairs changed 4\n",
        "fullSet, iter: 0 i:31, pairs changed 4\n",
        "fullSet, iter: 0 i:32, pairs changed 4\n",
        "fullSet, iter: 0 i:33, pairs changed 4\n",
        "fullSet, iter: 0 i:34, pairs changed 4\n",
        "fullSet, iter: 0 i:35, pairs changed 4\n",
        "fullSet, iter: 0 i:36, pairs changed 4\n",
        "fullSet, iter: 0 i:37, pairs changed 4\n",
        "fullSet, iter: 0 i:38, pairs changed 4\n",
        "fullSet, iter: 0 i:39, pairs changed 4\n",
        "fullSet, iter: 0 i:40, pairs changed 4\n",
        "fullSet, iter: 0 i:41, pairs changed 4\n",
        "fullSet, iter: 0 i:42, pairs changed 4\n",
        "fullSet, iter: 0 i:43, pairs changed 4\n",
        "fullSet, iter: 0 i:44, pairs changed 4\n",
        "fullSet, iter: 0 i:45, pairs changed 4\n",
        "fullSet, iter: 0 i:46, pairs changed 5\n",
        "fullSet, iter: 0 i:47, pairs changed 5\n",
        "fullSet, iter: 0 i:48, pairs changed 5\n",
        "fullSet, iter: 0 i:49, pairs changed 5\n",
        "fullSet, iter: 0 i:50, pairs changed 5\n",
        "fullSet, iter: 0 i:51, pairs changed 5\n",
        "L==H\n",
        "fullSet, iter: 0 i:52, pairs changed 5\n",
        "fullSet, iter: 0 i:53, pairs changed 5\n",
        "L==H"
       ]
      },
      {
       "output_type": "stream",
       "stream": "stdout",
       "text": [
        "\n",
        "fullSet, iter: 0 i:54, pairs changed 5\n",
        "L==H\n",
        "fullSet, iter: 0 i:55, pairs changed 5\n",
        "fullSet, iter: 0 i:56, pairs changed 5\n",
        "fullSet, iter: 0 i:57, pairs changed 5\n",
        "fullSet, iter: 0 i:58, pairs changed 5\n",
        "fullSet, iter: 0 i:59, pairs changed 5\n",
        "fullSet, iter: 0 i:60, pairs changed 5\n",
        "fullSet, iter: 0 i:61, pairs changed 5\n",
        "fullSet, iter: 0 i:62, pairs changed 5\n",
        "fullSet, iter: 0 i:63, pairs changed 5\n",
        "fullSet, iter: 0 i:64, pairs changed 5\n",
        "fullSet, iter: 0 i:65, pairs changed 5\n",
        "fullSet, iter: 0 i:66, pairs changed 5\n",
        "fullSet, iter: 0 i:67, pairs changed 5\n",
        "fullSet, iter: 0 i:68, pairs changed 5\n",
        "L==H\n",
        "fullSet, iter: 0 i:69, pairs changed 5\n",
        "fullSet, iter: 0 i:70, pairs changed 5\n",
        "fullSet, iter: 0 i:71, pairs changed 5\n",
        "fullSet, iter: 0 i:72, pairs changed 5\n",
        "fullSet, iter: 0 i:73, pairs changed 5\n",
        "fullSet, iter: 0 i:74, pairs changed 5\n",
        "fullSet, iter: 0 i:75, pairs changed 5\n",
        "fullSet, iter: 0 i:76, pairs changed 5\n",
        "fullSet, iter: 0 i:77, pairs changed 5\n",
        "fullSet, iter: 0 i:78, pairs changed 5\n",
        "fullSet, iter: 0 i:79, pairs changed 5\n",
        "fullSet, iter: 0 i:80, pairs changed 5\n",
        "fullSet, iter: 0 i:81, pairs changed 5\n",
        "fullSet, iter: 0 i:82, pairs changed 5\n",
        "fullSet, iter: 0 i:83, pairs changed 5\n",
        "fullSet, iter: 0 i:84, pairs changed 5\n",
        "fullSet, iter: 0 i:85, pairs changed 5\n",
        "fullSet, iter: 0 i:86, pairs changed 5\n",
        "fullSet, iter: 0 i:87, pairs changed 5\n",
        "fullSet, iter: 0 i:88, pairs changed 5\n",
        "fullSet, iter: 0 i:89, pairs changed 5\n",
        "fullSet, iter: 0 i:90, pairs changed 5\n",
        "fullSet, iter: 0 i:91, pairs changed 5\n",
        "fullSet, iter: 0 i:92, pairs changed 5\n",
        "fullSet, iter: 0 i:93, pairs changed 5\n",
        "fullSet, iter: 0 i:94, pairs changed 6"
       ]
      },
      {
       "output_type": "stream",
       "stream": "stdout",
       "text": [
        "\n",
        "fullSet, iter: 0 i:95, pairs changed 6\n",
        "fullSet, iter: 0 i:96, pairs changed 6\n",
        "j not moving enough\n",
        "fullSet, iter: 0 i:97, pairs changed 6\n",
        "fullSet, iter: 0 i:98, pairs changed 6\n",
        "fullSet, iter: 0 i:99, pairs changed 6\n",
        "iteration number: 1\n",
        "j not moving enough\n",
        "non-bound, iter: 1 i:0, pairs changed 0\n",
        "j not moving enough\n",
        "non-bound, iter: 1 i:3, pairs changed 0\n",
        "j not moving enough\n",
        "non-bound, iter: 1 i:4, pairs changed 0\n",
        "j not moving enough"
       ]
      },
      {
       "output_type": "stream",
       "stream": "stdout",
       "text": [
        "\n",
        "non-bound, iter: 1 i:17, pairs changed 0\n",
        "j not moving enough\n",
        "non-bound, iter: 1 i:18, pairs changed 0\n",
        "j not moving enough\n",
        "non-bound, iter: 1 i:25, pairs changed 0\n",
        "j not moving enough\n",
        "non-bound, iter: 1 i:46, pairs changed 0\n",
        "non-bound, iter: 1 i:55, pairs changed 0\n",
        "non-bound, iter: 1 i:94, pairs changed 0\n",
        "iteration number: 2\n",
        "j not moving enough"
       ]
      },
      {
       "output_type": "stream",
       "stream": "stdout",
       "text": [
        "\n",
        "fullSet, iter: 2 i:0, pairs changed 0\n",
        "fullSet, iter: 2 i:1, pairs changed 0\n",
        "fullSet, iter: 2 i:2, pairs changed 0\n",
        "j not moving enough\n",
        "fullSet, iter: 2 i:3, pairs changed 0\n",
        "j not moving enough\n",
        "fullSet, iter: 2 i:4, pairs changed 0\n",
        "fullSet, iter: 2 i:5, pairs changed 0\n",
        "fullSet, iter: 2 i:6, pairs changed 0\n",
        "fullSet, iter: 2 i:7, pairs changed 0\n",
        "j not moving enough\n",
        "fullSet, iter: 2 i:8, pairs changed 0\n",
        "fullSet, iter: 2 i:9, pairs changed 0\n",
        "j not moving enough"
       ]
      },
      {
       "output_type": "stream",
       "stream": "stdout",
       "text": [
        "\n",
        "fullSet, iter: 2 i:10, pairs changed 0\n",
        "fullSet, iter: 2 i:11, pairs changed 0\n",
        "fullSet, iter: 2 i:12, pairs changed 0\n",
        "fullSet, iter: 2 i:13, pairs changed 0\n",
        "fullSet, iter: 2 i:14, pairs changed 0\n",
        "fullSet, iter: 2 i:15, pairs changed 0\n",
        "fullSet, iter: 2 i:16, pairs changed 0\n",
        "j not moving enough\n",
        "fullSet, iter: 2 i:17, pairs changed 0\n",
        "j not moving enough"
       ]
      },
      {
       "output_type": "stream",
       "stream": "stdout",
       "text": [
        "\n",
        "fullSet, iter: 2 i:18, pairs changed 0\n",
        "fullSet, iter: 2 i:19, pairs changed 0\n",
        "fullSet, iter: 2 i:20, pairs changed 0\n",
        "fullSet, iter: 2 i:21, pairs changed 0\n",
        "fullSet, iter: 2 i:22, pairs changed 0\n",
        "L==H\n",
        "fullSet, iter: 2 i:23, pairs changed 0\n",
        "j not moving enough\n",
        "fullSet, iter: 2 i:24, pairs changed 0\n",
        "j not moving enough\n",
        "fullSet, iter: 2 i:25, pairs changed 0\n",
        "fullSet, iter: 2 i:26, pairs changed 0\n",
        "fullSet, iter: 2 i:27, pairs changed 0\n",
        "fullSet, iter: 2 i:28, pairs changed 0\n",
        "L==H\n",
        "fullSet, iter: 2 i:29, pairs changed 0\n",
        "j not moving enough\n",
        "fullSet, iter: 2 i:30, pairs changed 0\n",
        "fullSet, iter: 2 i:31, pairs changed 0\n",
        "fullSet, iter: 2 i:32, pairs changed 0\n",
        "fullSet, iter: 2 i:33, pairs changed 0\n",
        "fullSet, iter: 2 i:34, pairs changed 0\n",
        "fullSet, iter: 2 i:35, pairs changed 0\n",
        "fullSet, iter: 2 i:36, pairs changed 0\n",
        "fullSet, iter: 2 i:37, pairs changed 0\n",
        "fullSet, iter: 2 i:38, pairs changed 0\n",
        "fullSet, iter: 2 i:39, pairs changed 0\n",
        "fullSet, iter: 2 i:40, pairs changed 0\n",
        "fullSet, iter: 2 i:41, pairs changed 0\n",
        "fullSet, iter: 2 i:42, pairs changed 0\n",
        "fullSet, iter: 2 i:43, pairs changed 0\n",
        "fullSet, iter: 2 i:44, pairs changed 0\n",
        "fullSet, iter: 2 i:45, pairs changed 0\n",
        "j not moving enough"
       ]
      },
      {
       "output_type": "stream",
       "stream": "stdout",
       "text": [
        "\n",
        "fullSet, iter: 2 i:46, pairs changed 0\n",
        "fullSet, iter: 2 i:47, pairs changed 0\n",
        "fullSet, iter: 2 i:48, pairs changed 0\n",
        "fullSet, iter: 2 i:49, pairs changed 0\n",
        "fullSet, iter: 2 i:50, pairs changed 0\n",
        "fullSet, iter: 2 i:51, pairs changed 0\n",
        "L==H\n",
        "fullSet, iter: 2 i:52, pairs changed 0\n",
        "fullSet, iter: 2 i:53, pairs changed 0\n",
        "L==H\n",
        "fullSet, iter: 2 i:54, pairs changed 0\n",
        "fullSet, iter: 2 i:55, pairs changed 0\n",
        "fullSet, iter: 2 i:56, pairs changed 0\n",
        "fullSet, iter: 2 i:57, pairs changed 0\n",
        "fullSet, iter: 2 i:58, pairs changed 0\n",
        "fullSet, iter: 2 i:59, pairs changed 0\n",
        "fullSet, iter: 2 i:60, pairs changed 0\n",
        "fullSet, iter: 2 i:61, pairs changed 0\n",
        "fullSet, iter: 2 i:62, pairs changed 0\n",
        "fullSet, iter: 2 i:63, pairs changed 0\n",
        "fullSet, iter: 2 i:64, pairs changed 0\n",
        "fullSet, iter: 2 i:65, pairs changed 0\n",
        "fullSet, iter: 2 i:66, pairs changed 0\n",
        "fullSet, iter: 2 i:67, pairs changed 0\n",
        "fullSet, iter: 2 i:68, pairs changed 0\n",
        "fullSet, iter: 2 i:69, pairs changed 0\n",
        "fullSet, iter: 2 i:70, pairs changed 0\n",
        "fullSet, iter: 2 i:71, pairs changed 0\n",
        "fullSet, iter: 2 i:72, pairs changed 0\n",
        "fullSet, iter: 2 i:73, pairs changed 0\n",
        "fullSet, iter: 2 i:74, pairs changed 0\n",
        "fullSet, iter: 2 i:75, pairs changed 0\n",
        "fullSet, iter: 2 i:76, pairs changed 0\n",
        "fullSet, iter: 2 i:77, pairs changed 0\n",
        "fullSet, iter: 2 i:78, pairs changed 0\n",
        "fullSet, iter: 2 i:79, pairs changed 0\n",
        "fullSet, iter: 2 i:80, pairs changed 0\n",
        "fullSet, iter: 2 i:81, pairs changed 0\n",
        "fullSet, iter: 2 i:82, pairs changed 0\n",
        "fullSet, iter: 2 i:83, pairs changed 0\n",
        "fullSet, iter: 2 i:84, pairs changed 0\n",
        "fullSet, iter: 2 i:85, pairs changed 0\n",
        "fullSet, iter: 2 i:86, pairs changed 0"
       ]
      },
      {
       "output_type": "stream",
       "stream": "stdout",
       "text": [
        "\n",
        "fullSet, iter: 2 i:87, pairs changed 0\n",
        "fullSet, iter: 2 i:88, pairs changed 0\n",
        "fullSet, iter: 2 i:89, pairs changed 0\n",
        "fullSet, iter: 2 i:90, pairs changed 0\n",
        "fullSet, iter: 2 i:91, pairs changed 0\n",
        "fullSet, iter: 2 i:92, pairs changed 0\n",
        "fullSet, iter: 2 i:93, pairs changed 0\n",
        "fullSet, iter: 2 i:94, pairs changed 0\n",
        "fullSet, iter: 2 i:95, pairs changed 0\n",
        "fullSet, iter: 2 i:96, pairs changed 0\n",
        "j not moving enough\n",
        "fullSet, iter: 2 i:97, pairs changed 0\n",
        "fullSet, iter: 2 i:98, pairs changed 0\n",
        "fullSet, iter: 2 i:99, pairs changed 0\n",
        "iteration number: 3\n"
       ]
      }
     ],
     "prompt_number": 67
    },
    {
     "cell_type": "code",
     "collapsed": false,
     "input": [
      "ws = svmMLiA.calcWs(alphas, dataArr, labelArr)\n",
      "print ws"
     ],
     "language": "python",
     "metadata": {},
     "outputs": [
      {
       "output_type": "stream",
       "stream": "stdout",
       "text": [
        "[[ 0.65307162]\n",
        " [-0.17196128]]\n"
       ]
      }
     ],
     "prompt_number": 68
    },
    {
     "cell_type": "code",
     "collapsed": false,
     "input": [
      "def calcWs(alphas,dataArr,classLabels):\n",
      "    X = mat(dataArr); labelMat = mat(classLabels).transpose()\n",
      "    m,n = shape(X)\n",
      "    w = zeros((n,1))\n",
      "    for i in range(m):\n",
      "        w += multiply(alphas[i]*labelMat[i],X[i,:].T)\n",
      "    return w"
     ],
     "language": "python",
     "metadata": {},
     "outputs": [],
     "prompt_number": 69
    },
    {
     "cell_type": "code",
     "collapsed": false,
     "input": [
      "datMat = mat(dataArr)\n",
      "datMat[0] * mat(ws) + b"
     ],
     "language": "python",
     "metadata": {},
     "outputs": [
      {
       "metadata": {},
       "output_type": "pyout",
       "prompt_number": 75,
       "text": [
        "matrix([[-0.92555695]])"
       ]
      }
     ],
     "prompt_number": 75
    },
    {
     "cell_type": "code",
     "collapsed": false,
     "input": [
      "labelArr[0]"
     ],
     "language": "python",
     "metadata": {},
     "outputs": [
      {
       "metadata": {},
       "output_type": "pyout",
       "prompt_number": 71,
       "text": [
        "-1.0"
       ]
      }
     ],
     "prompt_number": 71
    },
    {
     "cell_type": "code",
     "collapsed": false,
     "input": [
      "datMat[2] * mat(ws) + b"
     ],
     "language": "python",
     "metadata": {},
     "outputs": [
      {
       "metadata": {},
       "output_type": "pyout",
       "prompt_number": 73,
       "text": [
        "matrix([[ 2.30436336]])"
       ]
      }
     ],
     "prompt_number": 73
    },
    {
     "cell_type": "code",
     "collapsed": false,
     "input": [
      "labelArr[2]"
     ],
     "language": "python",
     "metadata": {},
     "outputs": [
      {
       "metadata": {},
       "output_type": "pyout",
       "prompt_number": 77,
       "text": [
        "1.0"
       ]
      }
     ],
     "prompt_number": 77
    },
    {
     "cell_type": "code",
     "collapsed": false,
     "input": [
      "datMat[1]*mat(ws)+b"
     ],
     "language": "python",
     "metadata": {},
     "outputs": [
      {
       "metadata": {},
       "output_type": "pyout",
       "prompt_number": 79,
       "text": [
        "matrix([[-1.36706674]])"
       ]
      }
     ],
     "prompt_number": 79
    },
    {
     "cell_type": "code",
     "collapsed": false,
     "input": [
      "labelArr[1]"
     ],
     "language": "python",
     "metadata": {},
     "outputs": [
      {
       "metadata": {},
       "output_type": "pyout",
       "prompt_number": 81,
       "text": [
        "-1.0"
       ]
      }
     ],
     "prompt_number": 81
    },
    {
     "cell_type": "code",
     "collapsed": false,
     "input": [
      "def kernelTrans(X, A, kTup): #calc the kernel or transform data to a higher dimensional space\n",
      "    m,n = shape(X)\n",
      "    K = mat(zeros((m,1)))\n",
      "    if kTup[0]=='lin': K = X * A.T   #linear kernel\n",
      "    elif kTup[0]=='rbf':\n",
      "        for j in range(m):\n",
      "            deltaRow = X[j,:] - A\n",
      "            K[j] = deltaRow*deltaRow.T\n",
      "        K = exp(K/(-1*kTup[1]**2)) #divide in NumPy is element-wise not matrix like Matlab\n",
      "    else: raise NameError('Houston We Have a Problem -- \\\n",
      "    That Kernel is not recognized')\n",
      "    return K\n",
      "\n",
      "class optStruct:\n",
      "    def __init__(self,dataMatIn, classLabels, C, toler, kTup):  # Initialize the structure with the parameters \n",
      "        self.X = dataMatIn\n",
      "        self.labelMat = classLabels\n",
      "        self.C = C\n",
      "        self.tol = toler\n",
      "        self.m = shape(dataMatIn)[0]\n",
      "        self.alphas = mat(zeros((self.m,1)))\n",
      "        self.b = 0\n",
      "        self.eCache = mat(zeros((self.m,2))) #first column is valid flag\n",
      "        self.K = mat(zeros((self.m,self.m)))\n",
      "        for i in range(self.m):\n",
      "            self.K[:,i] = kernelTrans(self.X, self.X[i,:], kTup)"
     ],
     "language": "python",
     "metadata": {},
     "outputs": [],
     "prompt_number": 83
    },
    {
     "cell_type": "code",
     "collapsed": false,
     "input": [
      "def innerL(i, oS):\n",
      "    Ei = calcEk(oS, i)\n",
      "    if ((oS.labelMat[i]*Ei < -oS.tol) and (oS.alphas[i] < oS.C)) or ((oS.labelMat[i]*Ei > oS.tol) and (oS.alphas[i] > 0)):\n",
      "        j,Ej = selectJ(i, oS, Ei) #this has been changed from selectJrand\n",
      "        alphaIold = oS.alphas[i].copy(); alphaJold = oS.alphas[j].copy();\n",
      "        if (oS.labelMat[i] != oS.labelMat[j]):\n",
      "            L = max(0, oS.alphas[j] - oS.alphas[i])\n",
      "            H = min(oS.C, oS.C + oS.alphas[j] - oS.alphas[i])\n",
      "        else:\n",
      "            L = max(0, oS.alphas[j] + oS.alphas[i] - oS.C)\n",
      "            H = min(oS.C, oS.alphas[j] + oS.alphas[i])\n",
      "        if L==H: print \"L==H\"; return 0\n",
      "        eta = 2.0 * oS.K[i,j] - oS.K[i,i] - oS.K[j,j] #changed for kernel\n",
      "        if eta >= 0: print \"eta>=0\"; return 0\n",
      "        oS.alphas[j] -= oS.labelMat[j]*(Ei - Ej)/eta\n",
      "        oS.alphas[j] = clipAlpha(oS.alphas[j],H,L)\n",
      "        updateEk(oS, j) #added this for the Ecache\n",
      "        if (abs(oS.alphas[j] - alphaJold) < 0.00001): print \"j not moving enough\"; return 0\n",
      "        oS.alphas[i] += oS.labelMat[j]*oS.labelMat[i]*(alphaJold - oS.alphas[j])#update i by the same amount as j\n",
      "        updateEk(oS, i) #added this for the Ecache                    #the update is in the oppostie direction\n",
      "        b1 = oS.b - Ei- oS.labelMat[i]*(oS.alphas[i]-alphaIold)*oS.K[i,i] - oS.labelMat[j]*(oS.alphas[j]-alphaJold)*oS.K[i,j]\n",
      "        b2 = oS.b - Ej- oS.labelMat[i]*(oS.alphas[i]-alphaIold)*oS.K[i,j]- oS.labelMat[j]*(oS.alphas[j]-alphaJold)*oS.K[j,j]\n",
      "        if (0 < oS.alphas[i]) and (oS.C > oS.alphas[i]): oS.b = b1\n",
      "        elif (0 < oS.alphas[j]) and (oS.C > oS.alphas[j]): oS.b = b2\n",
      "        else: oS.b = (b1 + b2)/2.0\n",
      "        return 1\n",
      "    else: return 0\n",
      "    \n",
      "def calcEk(oS, k):\n",
      "    fXk = float(multiply(oS.alphas,oS.labelMat).T*oS.K[:,k] + oS.b)\n",
      "    Ek = fXk - float(oS.labelMat[k])\n",
      "    return Ek"
     ],
     "language": "python",
     "metadata": {},
     "outputs": [],
     "prompt_number": 85
    },
    {
     "cell_type": "code",
     "collapsed": false,
     "input": [
      "def testRbf(k1=1.3):\n",
      "    dataArr,labelArr = loadDataSet('testSetRBF.txt')\n",
      "    b,alphas = smoP(dataArr, labelArr, 200, 0.0001, 10000, ('rbf', k1)) #C=200 important\n",
      "    datMat=mat(dataArr); labelMat = mat(labelArr).transpose()\n",
      "    svInd=nonzero(alphas.A>0)[0]\n",
      "    sVs=datMat[svInd] #get matrix of only support vectors\n",
      "    labelSV = labelMat[svInd];\n",
      "    print \"there are %d Support Vectors\" % shape(sVs)[0]\n",
      "    m,n = shape(datMat)\n",
      "    errorCount = 0\n",
      "    for i in range(m):\n",
      "        kernelEval = kernelTrans(sVs,datMat[i,:],('rbf', k1))\n",
      "        predict=kernelEval.T * multiply(labelSV,alphas[svInd]) + b\n",
      "        if sign(predict)!=sign(labelArr[i]): errorCount += 1\n",
      "    print \"the training error rate is: %f\" % (float(errorCount)/m)\n",
      "    dataArr,labelArr = loadDataSet('testSetRBF2.txt')\n",
      "    errorCount = 0\n",
      "    datMat=mat(dataArr); labelMat = mat(labelArr).transpose()\n",
      "    m,n = shape(datMat)\n",
      "    for i in range(m):\n",
      "        kernelEval = kernelTrans(sVs,datMat[i,:],('rbf', k1))\n",
      "        predict=kernelEval.T * multiply(labelSV,alphas[svInd]) + b\n",
      "        if sign(predict)!=sign(labelArr[i]): errorCount += 1    \n",
      "    print \"the test error rate is: %f\" % (float(errorCount)/m)  "
     ],
     "language": "python",
     "metadata": {},
     "outputs": [],
     "prompt_number": 87
    },
    {
     "cell_type": "code",
     "collapsed": false,
     "input": [
      "svmMLiA.testRbf()"
     ],
     "language": "python",
     "metadata": {},
     "outputs": [
      {
       "output_type": "stream",
       "stream": "stdout",
       "text": [
        "fullSet, iter: 0 i:0, pairs changed 1\n",
        "fullSet, iter: 0 i:1, pairs changed 1\n",
        "fullSet, iter: 0 i:2, pairs changed 2\n",
        "fullSet, iter: 0 i:3, pairs changed 3\n",
        "fullSet, iter: 0 i:4, pairs changed 3\n",
        "fullSet, iter: 0 i:5, pairs changed 4\n",
        "fullSet, iter: 0 i:6, pairs changed 5\n",
        "fullSet, iter: 0 i:7, pairs changed 5\n",
        "fullSet, iter: 0 i:8, pairs changed 6\n",
        "fullSet, iter: 0 i:9, pairs changed 6\n",
        "fullSet, iter: 0 i:10, pairs changed 7\n",
        "fullSet, iter: 0 i:11, pairs changed 7\n",
        "fullSet, iter: 0 i:12, pairs changed 7\n",
        "fullSet, iter: 0 i:13, pairs changed 8\n",
        "fullSet, iter: 0 i:14, pairs changed 9\n",
        "fullSet, iter: 0 i:15, pairs changed 10\n",
        "fullSet, iter: 0 i:16, pairs changed 11\n",
        "fullSet, iter: 0 i:17, pairs changed 12\n",
        "fullSet, iter: 0 i:18, pairs changed 12\n",
        "fullSet, iter: 0 i:19, pairs changed 12\n",
        "fullSet, iter: 0 i:20, pairs changed 12\n",
        "fullSet, iter: 0 i:21, pairs changed 13"
       ]
      },
      {
       "output_type": "stream",
       "stream": "stdout",
       "text": [
        "\n",
        "j not moving enough\n",
        "fullSet, iter: 0 i:22, pairs changed 13\n",
        "j not moving enough\n",
        "fullSet, iter: 0 i:23, pairs changed 13\n",
        "fullSet, iter: 0 i:24, pairs changed 13\n",
        "fullSet, iter: 0 i:25, pairs changed 13\n",
        "fullSet, iter: 0 i:26, pairs changed 14\n",
        "fullSet, iter: 0 i:27, pairs changed 15\n",
        "fullSet, iter: 0 i:28, pairs changed 16\n",
        "fullSet, iter: 0 i:29, pairs changed 17\n",
        "fullSet, iter: 0 i:30, pairs changed 17\n",
        "fullSet, iter: 0 i:31, pairs changed 18\n",
        "fullSet, iter: 0 i:32, pairs changed 18\n",
        "fullSet, iter: 0 i:33, pairs changed 18\n",
        "fullSet, iter: 0 i:34, pairs changed 18\n",
        "fullSet, iter: 0 i:35, pairs changed 18\n",
        "fullSet, iter: 0 i:36, pairs changed 19"
       ]
      },
      {
       "output_type": "stream",
       "stream": "stdout",
       "text": [
        "\n",
        "fullSet, iter: 0 i:37, pairs changed 19\n",
        "fullSet, iter: 0 i:38, pairs changed 19\n",
        "fullSet, iter: 0 i:39, pairs changed 19\n",
        "j not moving enough\n",
        "fullSet, iter: 0 i:40, pairs changed 19\n",
        "L==H\n",
        "fullSet, iter: 0 i:41, pairs changed 19\n",
        "L==H"
       ]
      },
      {
       "output_type": "stream",
       "stream": "stdout",
       "text": [
        "\n",
        "fullSet, iter: 0 i:42, pairs changed 19\n",
        "fullSet, iter: 0 i:43, pairs changed 19\n",
        "fullSet, iter: 0 i:44, pairs changed 19\n",
        "fullSet, iter: 0 i:45, pairs changed 20\n",
        "fullSet, iter: 0 i:46, pairs changed 20\n",
        "fullSet, iter: 0 i:47, pairs changed 20\n",
        "fullSet, iter: 0 i:48, pairs changed 21"
       ]
      },
      {
       "output_type": "stream",
       "stream": "stdout",
       "text": [
        "\n",
        "fullSet, iter: 0 i:49, pairs changed 21\n",
        "fullSet, iter: 0 i:50, pairs changed 22\n",
        "j not moving enough\n",
        "fullSet, iter: 0 i:51, pairs changed 22\n",
        "j not moving enough"
       ]
      },
      {
       "output_type": "stream",
       "stream": "stdout",
       "text": [
        "\n",
        "fullSet, iter: 0 i:52, pairs changed 22\n",
        "fullSet, iter: 0 i:53, pairs changed 22\n",
        "fullSet, iter: 0 i:54, pairs changed 23\n",
        "fullSet, iter: 0 i:55, pairs changed 23\n",
        "j not moving enough\n",
        "fullSet, iter: 0 i:56, pairs changed 23\n",
        "fullSet, iter: 0 i:57, pairs changed 23\n",
        "L==H"
       ]
      },
      {
       "output_type": "stream",
       "stream": "stdout",
       "text": [
        "\n",
        "fullSet, iter: 0 i:58, pairs changed 23\n",
        "fullSet, iter: 0 i:59, pairs changed 23\n",
        "fullSet, iter: 0 i:60, pairs changed 23\n",
        "j not moving enough\n",
        "fullSet, iter: 0 i:61, pairs changed 23\n",
        "j not moving enough\n",
        "fullSet, iter: 0 i:62, pairs changed 23\n",
        "fullSet, iter: 0 i:63, pairs changed 23\n",
        "fullSet, iter: 0 i:64, pairs changed 23\n",
        "fullSet, iter: 0 i:65, pairs changed 23\n",
        "fullSet, iter: 0 i:66, pairs changed 23\n",
        "fullSet, iter: 0 i:67, pairs changed 23\n",
        "fullSet, iter: 0 i:68, pairs changed 23\n",
        "fullSet, iter: 0 i:69, pairs changed 23\n",
        "fullSet, iter: 0 i:70, pairs changed 23\n",
        "fullSet, iter: 0 i:71, pairs changed 23\n",
        "fullSet, iter: 0 i:72, pairs changed 23\n",
        "fullSet, iter: 0 i:73, pairs changed 23\n",
        "fullSet, iter: 0 i:74, pairs changed 24"
       ]
      },
      {
       "output_type": "stream",
       "stream": "stdout",
       "text": [
        "\n",
        "fullSet, iter: 0 i:75, pairs changed 24\n",
        "L==H\n",
        "fullSet, iter: 0 i:76, pairs changed 24\n",
        "fullSet, iter: 0 i:77, pairs changed 24\n",
        "fullSet, iter: 0 i:78, pairs changed 24\n",
        "fullSet, iter: 0 i:79, pairs changed 24\n",
        "fullSet, iter: 0 i:80, pairs changed 24\n",
        "fullSet, iter: 0 i:81, pairs changed 24\n",
        "L==H"
       ]
      },
      {
       "output_type": "stream",
       "stream": "stdout",
       "text": [
        "\n",
        "fullSet, iter: 0 i:82, pairs changed 24\n",
        "fullSet, iter: 0 i:83, pairs changed 24\n",
        "fullSet, iter: 0 i:84, pairs changed 24\n",
        "L==H\n",
        "fullSet, iter: 0 i:85, pairs changed 24\n",
        "fullSet, iter: 0 i:86, pairs changed 24\n",
        "L==H\n",
        "fullSet, iter: 0 i:87, pairs changed 24\n",
        "fullSet, iter: 0 i:88, pairs changed 24\n",
        "fullSet, iter: 0 i:89, pairs changed 24\n",
        "L==H"
       ]
      },
      {
       "output_type": "stream",
       "stream": "stdout",
       "text": [
        "\n",
        "fullSet, iter: 0 i:90, pairs changed 24\n",
        "L==H\n",
        "fullSet, iter: 0 i:91, pairs changed 24\n",
        "fullSet, iter: 0 i:92, pairs changed 24\n",
        "fullSet, iter: 0 i:93, pairs changed 24\n",
        "fullSet, iter: 0 i:94, pairs changed 24\n",
        "fullSet, iter: 0 i:95, pairs changed 24\n",
        "L==H\n",
        "fullSet, iter: 0 i:96, pairs changed 24\n",
        "L==H\n",
        "fullSet, iter: 0 i:97, pairs changed 24\n",
        "fullSet, iter: 0 i:98, pairs changed 24\n",
        "L==H"
       ]
      },
      {
       "output_type": "stream",
       "stream": "stdout",
       "text": [
        "\n",
        "fullSet, iter: 0 i:99, pairs changed 24\n",
        "iteration number: 1\n",
        "non-bound, iter: 1 i:0, pairs changed 1\n",
        "non-bound, iter: 1 i:2, pairs changed 2"
       ]
      },
      {
       "output_type": "stream",
       "stream": "stdout",
       "text": [
        "\n",
        "j not moving enough\n",
        "non-bound, iter: 1 i:3, pairs changed 2\n",
        "j not moving enough\n",
        "non-bound, iter: 1 i:6, pairs changed 2\n",
        "j not moving enough\n",
        "non-bound, iter: 1 i:10, pairs changed 2\n",
        "j not moving enough\n",
        "non-bound, iter: 1 i:13, pairs changed 2\n",
        "non-bound, iter: 1 i:14, pairs changed 3"
       ]
      },
      {
       "output_type": "stream",
       "stream": "stdout",
       "text": [
        "\n",
        "j not moving enough\n",
        "non-bound, iter: 1 i:16, pairs changed 3\n",
        "j not moving enough\n",
        "non-bound, iter: 1 i:17, pairs changed 3\n",
        "j not moving enough"
       ]
      },
      {
       "output_type": "stream",
       "stream": "stdout",
       "text": [
        "\n",
        "non-bound, iter: 1 i:21, pairs changed 3\n",
        "j not moving enough\n",
        "non-bound, iter: 1 i:26, pairs changed 3\n",
        "non-bound, iter: 1 i:27, pairs changed 4\n",
        "j not moving enough\n",
        "non-bound, iter: 1 i:28, pairs changed 4\n",
        "j not moving enough\n",
        "non-bound, iter: 1 i:29, pairs changed 4\n",
        "j not moving enough"
       ]
      },
      {
       "output_type": "stream",
       "stream": "stdout",
       "text": [
        "\n",
        "non-bound, iter: 1 i:31, pairs changed 4\n",
        "j not moving enough\n",
        "non-bound, iter: 1 i:36, pairs changed 4\n",
        "j not moving enough\n",
        "non-bound, iter: 1 i:42, pairs changed 4\n",
        "j not moving enough"
       ]
      },
      {
       "output_type": "stream",
       "stream": "stdout",
       "text": [
        "\n",
        "non-bound, iter: 1 i:45, pairs changed 4\n",
        "j not moving enough\n",
        "non-bound, iter: 1 i:48, pairs changed 4\n",
        "j not moving enough\n",
        "non-bound, iter: 1 i:50, pairs changed 4\n",
        "j not moving enough"
       ]
      },
      {
       "output_type": "stream",
       "stream": "stdout",
       "text": [
        "\n",
        "non-bound, iter: 1 i:54, pairs changed 4\n",
        "j not moving enough\n",
        "non-bound, iter: 1 i:74, pairs changed 4\n",
        "iteration number: 2\n",
        "j not moving enough\n",
        "non-bound, iter: 2 i:0, pairs changed 0\n",
        "j not moving enough"
       ]
      },
      {
       "output_type": "stream",
       "stream": "stdout",
       "text": [
        "\n",
        "non-bound, iter: 2 i:3, pairs changed 0\n",
        "j not moving enough\n",
        "non-bound, iter: 2 i:6, pairs changed 0\n",
        "j not moving enough\n",
        "non-bound, iter: 2 i:10, pairs changed 0\n",
        "j not moving enough"
       ]
      },
      {
       "output_type": "stream",
       "stream": "stdout",
       "text": [
        "\n",
        "non-bound, iter: 2 i:13, pairs changed 0\n",
        "j not moving enough\n",
        "non-bound, iter: 2 i:14, pairs changed 0\n",
        "j not moving enough"
       ]
      },
      {
       "output_type": "stream",
       "stream": "stdout",
       "text": [
        "\n",
        "non-bound, iter: 2 i:16, pairs changed 0\n",
        "j not moving enough\n",
        "non-bound, iter: 2 i:17, pairs changed 0\n",
        "non-bound, iter: 2 i:21, pairs changed 0\n",
        "j not moving enough\n",
        "non-bound, iter: 2 i:26, pairs changed 0\n",
        "non-bound, iter: 2 i:27, pairs changed 0\n",
        "j not moving enough"
       ]
      },
      {
       "output_type": "stream",
       "stream": "stdout",
       "text": [
        "\n",
        "non-bound, iter: 2 i:28, pairs changed 0\n",
        "j not moving enough\n",
        "non-bound, iter: 2 i:29, pairs changed 0\n",
        "j not moving enough"
       ]
      },
      {
       "output_type": "stream",
       "stream": "stdout",
       "text": [
        "\n",
        "non-bound, iter: 2 i:31, pairs changed 0\n",
        "j not moving enough\n",
        "non-bound, iter: 2 i:36, pairs changed 0\n",
        "j not moving enough"
       ]
      },
      {
       "output_type": "stream",
       "stream": "stdout",
       "text": [
        "\n",
        "non-bound, iter: 2 i:42, pairs changed 0\n",
        "j not moving enough\n",
        "non-bound, iter: 2 i:45, pairs changed 0\n",
        "j not moving enough\n",
        "non-bound, iter: 2 i:48, pairs changed 0\n",
        "j not moving enough"
       ]
      },
      {
       "output_type": "stream",
       "stream": "stdout",
       "text": [
        "\n",
        "non-bound, iter: 2 i:50, pairs changed 0\n",
        "j not moving enough\n",
        "non-bound, iter: 2 i:54, pairs changed 0\n",
        "j not moving enough\n",
        "non-bound, iter: 2 i:74, pairs changed 0\n",
        "j not moving enough"
       ]
      },
      {
       "output_type": "stream",
       "stream": "stdout",
       "text": [
        "\n",
        "non-bound, iter: 2 i:76, pairs changed 0\n",
        "iteration number: 3\n",
        "j not moving enough\n",
        "fullSet, iter: 3 i:0, pairs changed 0\n",
        "fullSet, iter: 3 i:1, pairs changed 0\n",
        "fullSet, iter: 3 i:2, pairs changed 0\n",
        "j not moving enough"
       ]
      },
      {
       "output_type": "stream",
       "stream": "stdout",
       "text": [
        "\n",
        "fullSet, iter: 3 i:3, pairs changed 0\n",
        "fullSet, iter: 3 i:4, pairs changed 0\n",
        "fullSet, iter: 3 i:5, pairs changed 0\n",
        "j not moving enough\n",
        "fullSet, iter: 3 i:6, pairs changed 0\n",
        "j not moving enough\n",
        "fullSet, iter: 3 i:7, pairs changed 0\n",
        "fullSet, iter: 3 i:8, pairs changed 0\n",
        "j not moving enough\n",
        "fullSet, iter: 3 i:9, pairs changed 0\n",
        "j not moving enough"
       ]
      },
      {
       "output_type": "stream",
       "stream": "stdout",
       "text": [
        "\n",
        "fullSet, iter: 3 i:10, pairs changed 0\n",
        "fullSet, iter: 3 i:11, pairs changed 0\n",
        "j not moving enough\n",
        "fullSet, iter: 3 i:12, pairs changed 0\n",
        "j not moving enough\n",
        "fullSet, iter: 3 i:13, pairs changed 0\n",
        "j not moving enough"
       ]
      },
      {
       "output_type": "stream",
       "stream": "stdout",
       "text": [
        "\n",
        "fullSet, iter: 3 i:14, pairs changed 0\n",
        "fullSet, iter: 3 i:15, pairs changed 0\n",
        "j not moving enough\n",
        "fullSet, iter: 3 i:16, pairs changed 0\n",
        "j not moving enough\n",
        "fullSet, iter: 3 i:17, pairs changed 0\n",
        "j not moving enough"
       ]
      },
      {
       "output_type": "stream",
       "stream": "stdout",
       "text": [
        "\n",
        "fullSet, iter: 3 i:18, pairs changed 0\n",
        "j not moving enough\n",
        "fullSet, iter: 3 i:19, pairs changed 0\n",
        "fullSet, iter: 3 i:20, pairs changed 0\n",
        "fullSet, iter: 3 i:21, pairs changed 0\n",
        "fullSet, iter: 3 i:22, pairs changed 0\n",
        "j not moving enough"
       ]
      },
      {
       "output_type": "stream",
       "stream": "stdout",
       "text": [
        "\n",
        "fullSet, iter: 3 i:23, pairs changed 0\n",
        "fullSet, iter: 3 i:24, pairs changed 0\n",
        "fullSet, iter: 3 i:25, pairs changed 0\n",
        "j not moving enough\n",
        "fullSet, iter: 3 i:26, pairs changed 0\n",
        "fullSet, iter: 3 i:27, pairs changed 0\n",
        "j not moving enough\n",
        "fullSet, iter: 3 i:28, pairs changed 0\n",
        "j not moving enough"
       ]
      },
      {
       "output_type": "stream",
       "stream": "stdout",
       "text": [
        "\n",
        "fullSet, iter: 3 i:29, pairs changed 0\n",
        "fullSet, iter: 3 i:30, pairs changed 0\n",
        "j not moving enough\n",
        "fullSet, iter: 3 i:31, pairs changed 0\n",
        "fullSet, iter: 3 i:32, pairs changed 0\n",
        "j not moving enough\n",
        "fullSet, iter: 3 i:33, pairs changed 0\n",
        "j not moving enough"
       ]
      },
      {
       "output_type": "stream",
       "stream": "stdout",
       "text": [
        "\n",
        "fullSet, iter: 3 i:34, pairs changed 0\n",
        "fullSet, iter: 3 i:35, pairs changed 0\n",
        "j not moving enough\n",
        "fullSet, iter: 3 i:36, pairs changed 0\n",
        "fullSet, iter: 3 i:37, pairs changed 0\n",
        "fullSet, iter: 3 i:38, pairs changed 0\n",
        "fullSet, iter: 3 i:39, pairs changed 0\n",
        "j not moving enough\n",
        "fullSet, iter: 3 i:40, pairs changed 0\n",
        "L==H\n",
        "fullSet, iter: 3 i:41, pairs changed 0\n",
        "j not moving enough"
       ]
      },
      {
       "output_type": "stream",
       "stream": "stdout",
       "text": [
        "\n",
        "fullSet, iter: 3 i:42, pairs changed 0\n",
        "fullSet, iter: 3 i:43, pairs changed 0\n",
        "fullSet, iter: 3 i:44, pairs changed 0\n",
        "j not moving enough\n",
        "fullSet, iter: 3 i:45, pairs changed 0\n",
        "fullSet, iter: 3 i:46, pairs changed 0\n",
        "fullSet, iter: 3 i:47, pairs changed 0\n",
        "j not moving enough\n",
        "fullSet, iter: 3 i:48, pairs changed 0\n",
        "fullSet, iter: 3 i:49, pairs changed 0\n",
        "j not moving enough"
       ]
      },
      {
       "output_type": "stream",
       "stream": "stdout",
       "text": [
        "\n",
        "fullSet, iter: 3 i:50, pairs changed 0\n",
        "j not moving enough\n",
        "fullSet, iter: 3 i:51, pairs changed 0\n",
        "fullSet, iter: 3 i:52, pairs changed 0\n",
        "fullSet, iter: 3 i:53, pairs changed 0\n",
        "j not moving enough\n",
        "fullSet, iter: 3 i:54, pairs changed 0\n",
        "fullSet, iter: 3 i:55, pairs changed 0\n",
        "j not moving enough"
       ]
      },
      {
       "output_type": "stream",
       "stream": "stdout",
       "text": [
        "\n",
        "fullSet, iter: 3 i:56, pairs changed 0\n",
        "fullSet, iter: 3 i:57, pairs changed 0\n",
        "L==H\n",
        "fullSet, iter: 3 i:58, pairs changed 0\n",
        "fullSet, iter: 3 i:59, pairs changed 0\n",
        "fullSet, iter: 3 i:60, pairs changed 0\n",
        "j not moving enough\n",
        "fullSet, iter: 3 i:61, pairs changed 0\n",
        "j not moving enough\n",
        "fullSet, iter: 3 i:62, pairs changed 0\n",
        "fullSet, iter: 3 i:63, pairs changed 0\n",
        "fullSet, iter: 3 i:64, pairs changed 0\n",
        "fullSet, iter: 3 i:65, pairs changed 0\n",
        "fullSet, iter: 3 i:66, pairs changed 0\n",
        "fullSet, iter: 3 i:67, pairs changed 0\n",
        "j not moving enough"
       ]
      },
      {
       "output_type": "stream",
       "stream": "stdout",
       "text": [
        "\n",
        "fullSet, iter: 3 i:68, pairs changed 0\n",
        "fullSet, iter: 3 i:69, pairs changed 0\n",
        "fullSet, iter: 3 i:70, pairs changed 0\n",
        "j not moving enough\n",
        "fullSet, iter: 3 i:71, pairs changed 0\n",
        "fullSet, iter: 3 i:72, pairs changed 0\n",
        "fullSet, iter: 3 i:73, pairs changed 0\n",
        "j not moving enough"
       ]
      },
      {
       "output_type": "stream",
       "stream": "stdout",
       "text": [
        "\n",
        "fullSet, iter: 3 i:74, pairs changed 0\n",
        "j not moving enough"
       ]
      },
      {
       "output_type": "stream",
       "stream": "stdout",
       "text": [
        "\n",
        "fullSet, iter: 3 i:75, pairs changed 0\n",
        "j not moving enough"
       ]
      },
      {
       "output_type": "stream",
       "stream": "stdout",
       "text": [
        "\n",
        "fullSet, iter: 3 i:76, pairs changed 0\n",
        "fullSet, iter: 3 i:77, pairs changed 0\n",
        "fullSet, iter: 3 i:78, pairs changed 0\n",
        "fullSet, iter: 3 i:79, pairs changed 0\n",
        "j not moving enough\n",
        "fullSet, iter: 3 i:80, pairs changed 0\n",
        "fullSet, iter: 3 i:81, pairs changed 0\n",
        "fullSet, iter: 3 i:82, pairs changed 0\n",
        "fullSet, iter: 3 i:83, pairs changed 0\n",
        "fullSet, iter: 3 i:84, pairs changed 0\n",
        "fullSet, iter: 3 i:85, pairs changed 0\n",
        "fullSet, iter: 3 i:86, pairs changed 0\n",
        "L==H\n",
        "fullSet, iter: 3 i:87, pairs changed 0\n",
        "fullSet, iter: 3 i:88, pairs changed 0"
       ]
      },
      {
       "output_type": "stream",
       "stream": "stdout",
       "text": [
        "\n",
        "fullSet, iter: 3 i:89, pairs changed 0\n",
        "fullSet, iter: 3 i:90, pairs changed 0\n",
        "fullSet, iter: 3 i:91, pairs changed 0\n",
        "fullSet, iter: 3 i:92, pairs changed 0\n",
        "fullSet, iter: 3 i:93, pairs changed 0\n",
        "fullSet, iter: 3 i:94, pairs changed 0\n",
        "fullSet, iter: 3 i:95, pairs changed 0\n",
        "fullSet, iter: 3 i:96, pairs changed 0\n",
        "fullSet, iter: 3 i:97, pairs changed 0\n",
        "fullSet, iter: 3 i:98, pairs changed 0\n",
        "fullSet, iter: 3 i:99, pairs changed 0\n",
        "iteration number: 4\n",
        "there are 22 Support Vectors\n",
        "the training error rate is: 0.000000"
       ]
      },
      {
       "output_type": "stream",
       "stream": "stdout",
       "text": [
        "\n",
        "the test error rate is: 0.080000"
       ]
      },
      {
       "output_type": "stream",
       "stream": "stdout",
       "text": [
        "\n"
       ]
      }
     ],
     "prompt_number": 88
    }
   ],
   "metadata": {}
  }
 ]
}