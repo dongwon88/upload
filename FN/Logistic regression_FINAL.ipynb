{
 "metadata": {
  "name": "",
  "signature": "sha256:2a06dce2d382a82623b79fd93bfa198816453185b4c9773009d8996f45203470"
 },
 "nbformat": 3,
 "nbformat_minor": 0,
 "worksheets": [
  {
   "cells": [
    {
     "cell_type": "code",
     "collapsed": false,
     "input": [
      "from numpy import *\n",
      "%matplotlib inline"
     ],
     "language": "python",
     "metadata": {},
     "outputs": [],
     "prompt_number": 1
    },
    {
     "cell_type": "code",
     "collapsed": false,
     "input": [
      "##Logistic regression gradient ascent optimization functions\n",
      "\n",
      "from numpy import *\n",
      "\n",
      "def loadDataSet():\n",
      "    dataMat = []; labelMat = []\n",
      "    fr = open('testSet.txt')\n",
      "    for line in fr.readlines():\n",
      "        lineArr = line.strip().split()\n",
      "        dataMat.append([1.0, float(lineArr[0]), float(lineArr[1])])\n",
      "        labelMat.append(int(lineArr[2]))\n",
      "    return dataMat,labelMat\n",
      "\n",
      "def sigmoid(inX):\n",
      "    return 1.0/(1+exp(-inX))\n",
      "\n",
      "def gradAscent(dataMatIn, classLabels):\n",
      "    dataMatrix = mat(dataMatIn)             #convert to NumPy matrix\n",
      "    labelMat = mat(classLabels).transpose() #convert to NumPy matrix\n",
      "    m,n = shape(dataMatrix)\n",
      "    alpha = 0.001\n",
      "    maxCycles = 500\n",
      "    weights = ones((n,1))\n",
      "    for k in range(maxCycles):              #heavy on matrix operations\n",
      "        h = sigmoid(dataMatrix*weights)     #matrix mult\n",
      "        error = (labelMat - h)              #vector subtraction\n",
      "        weights = weights + alpha * dataMatrix.transpose()* error #matrix mult\n",
      "    return weights"
     ],
     "language": "python",
     "metadata": {},
     "outputs": [],
     "prompt_number": 2
    },
    {
     "cell_type": "code",
     "collapsed": false,
     "input": [
      "dataArr, labelMat = loadDataSet()\n",
      "gradAscent(dataArr, labelMat)"
     ],
     "language": "python",
     "metadata": {},
     "outputs": [
      {
       "metadata": {},
       "output_type": "pyout",
       "prompt_number": 3,
       "text": [
        "matrix([[ 4.12414349],\n",
        "        [ 0.48007329],\n",
        "        [-0.6168482 ]])"
       ]
      }
     ],
     "prompt_number": 3
    },
    {
     "cell_type": "code",
     "collapsed": false,
     "input": [
      "#Plotting the logistic regression best-fit line and dataset\n",
      "\n",
      "def plotBestFit(weights):\n",
      "    import matplotlib.pyplot as plt\n",
      "    dataMat,labelMat=loadDataSet()\n",
      "    dataArr = array(dataMat)\n",
      "    n = shape(dataArr)[0] \n",
      "    xcord1 = []; ycord1 = []\n",
      "    xcord2 = []; ycord2 = []\n",
      "    for i in range(n):\n",
      "        if int(labelMat[i])== 1:\n",
      "            xcord1.append(dataArr[i,1]); ycord1.append(dataArr[i,2])\n",
      "        else:\n",
      "            xcord2.append(dataArr[i,1]); ycord2.append(dataArr[i,2])\n",
      "    fig = plt.figure()\n",
      "    ax = fig.add_subplot(111)\n",
      "    ax.scatter(xcord1, ycord1, s=30, c='red', marker='s')\n",
      "    ax.scatter(xcord2, ycord2, s=30, c='green')\n",
      "    x = arange(-3.0, 3.0, 0.1)\n",
      "    y = (-weights[0]-weights[1]*x)/weights[2]\n",
      "    ax.plot(x, y)\n",
      "    plt.xlabel('X1'); plt.ylabel('X2');\n",
      "    plt.show()"
     ],
     "language": "python",
     "metadata": {},
     "outputs": [],
     "prompt_number": 4
    },
    {
     "cell_type": "code",
     "collapsed": false,
     "input": [
      "dataMat, labelMat = loadDataSet()\n",
      "weights = gradAscent(dataMat, labelMat)\n",
      "plotBestFit(weights.getA())"
     ],
     "language": "python",
     "metadata": {},
     "outputs": [
      {
       "metadata": {},
       "output_type": "display_data",
       "png": "[encoded data removed]",
       "text": [
        "<matplotlib.figure.Figure at 0xa7b8588>"
       ]
      }
     ],
     "prompt_number": 5
    },
    {
     "cell_type": "code",
     "collapsed": false,
     "input": [
      "# Stochastic gradient ascent\n",
      "\n",
      "def stocGradAscent0(dataMatrix, classLabels):\n",
      "    m,n = shape(dataMatrix)\n",
      "    alpha = 0.01\n",
      "    weights = ones(n)   #initialize to all ones\n",
      "    for i in range(m):\n",
      "        h = sigmoid(sum(dataMatrix[i]*weights))\n",
      "        error = classLabels[i] - h\n",
      "        weights = weights + alpha * error * dataMatrix[i]\n",
      "    return weights"
     ],
     "language": "python",
     "metadata": {},
     "outputs": [],
     "prompt_number": 6
    },
    {
     "cell_type": "code",
     "collapsed": false,
     "input": [
      "weights = stocGradAscent0(array(dataArr), labelMat)\n",
      "plotBestFit(weights)"
     ],
     "language": "python",
     "metadata": {},
     "outputs": [
      {
       "metadata": {},
       "output_type": "display_data",
       "png": "[encoded data removed]",
       "text": [
        "<matplotlib.figure.Figure at 0xaa2abe0>"
       ]
      }
     ],
     "prompt_number": 7
    },
    {
     "cell_type": "code",
     "collapsed": false,
     "input": [
      "# Modified stochastic gradient ascent\n",
      "\n",
      "def stocGradAscent1(dataMatrix, classLabels, numIter=150):\n",
      "    m,n = shape(dataMatrix)\n",
      "    weights = ones(n)   #initialize to all ones\n",
      "    for j in range(numIter):\n",
      "        dataIndex = range(m)\n",
      "        for i in range(m):\n",
      "            alpha = 4/(1.0+j+i)+0.0001    #apha decreases with iteration, does not \n",
      "            randIndex = int(random.uniform(0,len(dataIndex)))#go to 0 because of the constant\n",
      "            h = sigmoid(sum(dataMatrix[randIndex]*weights))\n",
      "            error = classLabels[randIndex] - h\n",
      "            weights = weights + alpha * error * dataMatrix[randIndex]\n",
      "            del(dataIndex[randIndex])\n",
      "    return weights"
     ],
     "language": "python",
     "metadata": {},
     "outputs": [],
     "prompt_number": 8
    },
    {
     "cell_type": "code",
     "collapsed": false,
     "input": [
      "weights = stocGradAscent1(array(dataArr), labelMat)\n",
      "plotBestFit(weights)"
     ],
     "language": "python",
     "metadata": {},
     "outputs": [
      {
       "metadata": {},
       "output_type": "display_data",
       "png": "[encoded data removed]",
       "text": [
        "<matplotlib.figure.Figure at 0xaa9f390>"
       ]
      }
     ],
     "prompt_number": 9
    },
    {
     "cell_type": "code",
     "collapsed": false,
     "input": [
      "weights = stocGradAscent1(array(dataArr), labelMat, 500)\n",
      "plotBestFit(weights)"
     ],
     "language": "python",
     "metadata": {},
     "outputs": [
      {
       "metadata": {},
       "output_type": "display_data",
       "png": "[encoded data removed]",
       "text": [
        "<matplotlib.figure.Figure at 0xaf06eb8>"
       ]
      }
     ],
     "prompt_number": 10
    },
    {
     "cell_type": "code",
     "collapsed": false,
     "input": [
      "#Logistic regression classification function\n",
      "\n",
      "def classifyVector(inX, weights):   #\ubd84\ub958\n",
      "    prob = sigmoid(sum(inX*weights))\n",
      "    if prob > 0.5: return 1.0   # 0.5\ubcf4\ub2e4 \ud06c\uba74 1\ub85c, \uc774 \uc678\uc758 \uc870\uac74\uc740 0\uc73c\ub85c \ubd84\ub958\n",
      "    else: return 0.0\n",
      "\n",
      "def colicTest():\n",
      "    frTrain = open('horseColicTraining.txt'); frTest = open('horseColicTest.txt')  # train\uacfc test txt\ud30c\uc77c\uc744 \ubd88\ub7ec\uc634\n",
      "    trainingSet = []; trainingLabels = []\n",
      "    for line in frTrain.readlines(): # txt\ud30c\uc77c\uc758 \ub370\uc774\ud130\ub97c \uc77d\uc74c (\ud589X\uc5f4)\n",
      "        currLine = line.strip().split('\\t')\n",
      "        lineArr =[]\n",
      "        for i in range(21):\n",
      "            lineArr.append(float(currLine[i]))\n",
      "        trainingSet.append(lineArr)\n",
      "        trainingLabels.append(float(currLine[21]))\n",
      "    trainWeights = stocGradAscent1(array(trainingSet), trainingLabels, 1000)   # Modified stochastic gradient ascent\ub85c weight \uacc4\uc0b0\n",
      "   \n",
      "    print trainWeights   # weight \ucd9c\ub825\n",
      "    print \"\\n\"\n",
      "    \n",
      "    errorCount = 0; numTestVec = 0.0   # errorRate\ub97c \uacc4\uc0b0\ud558\uae30 \uc704\ud55c \ubcc0\uc218\uc120\uc5b8\n",
      "    for line in frTest.readlines():\n",
      "        numTestVec += 1.0\n",
      "        currLine = line.strip().split('\\t')\n",
      "        lineArr =[]\n",
      "        for i in range(21):\n",
      "            lineArr.append(float(currLine[i]))\n",
      "        if int(classifyVector(array(lineArr), trainWeights))!= int(currLine[21]):   # error\uac00 \ubc1c\uc0dd\ud560 \ub54c\ub9c8\ub2e4 Count\n",
      "            errorCount += 1\n",
      "    errorRate = (float(errorCount)/numTestVec)\n",
      "    print \"the error rate of this test is: %f\" % errorRate\n",
      "    print \"(numTestVec: %d,\" %numTestVec + \" errorCount: %d)\" %errorCount\n",
      "    return errorRate\n",
      "\n",
      "def multiTest():\n",
      "    numTests = 10; errorSum=0.0\n",
      "    for k in range(numTests):\n",
      "        errorSum += colicTest(index)\n",
      "    print \"after %d iterations the average error rate is: %f\" % (numTests, errorSum/float(numTests))   #\ud3c9\uade0 \uc5d0\ub7ec\uc728\uc744 \ucd9c\ub825"
     ],
     "language": "python",
     "metadata": {},
     "outputs": [],
     "prompt_number": 50
    },
    {
     "cell_type": "code",
     "collapsed": false,
     "input": [
      "multiTest()"
     ],
     "language": "python",
     "metadata": {},
     "outputs": [
      {
       "output_type": "stream",
       "stream": "stdout",
       "text": [
        "No 1 \n",
        "\n",
        "[  9.54492275  -1.14787708   1.25709375  -0.64345917   0.49697671\n",
        "  -3.21736802   2.72678554  -3.61961793  -6.76944544  -4.6853463\n",
        "  10.26447425 -12.72927327  13.70287957   7.77500971  -6.2344474\n",
        "   2.02716402  -1.30478569  -0.26725584   0.18784417  -2.21495156\n",
        "  -1.21358725]\n",
        "\n",
        "\n",
        "the error rate of this test is: 0.298507\n",
        "(numTestVec: 67, errorCount: 20)\n",
        "No 1 \n"
       ]
      },
      {
       "output_type": "stream",
       "stream": "stdout",
       "text": [
        "\n",
        "[  8.82963343  -1.10214519   1.18325556  -0.7598329    0.10837814\n",
        "  -3.21417936   3.12655256  -3.29982834  -7.60171381  -4.69567246\n",
        "  10.79145286 -12.30465184  14.43954346   7.52942277  -6.4659631\n",
        "   2.07630375  -1.78901933   0.05051703  -0.09250567  -2.35802975\n",
        "  -1.50070492]\n",
        "\n",
        "\n",
        "the error rate of this test is: 0.358209\n",
        "(numTestVec: 67, errorCount: 24)\n",
        "No 1 \n"
       ]
      },
      {
       "output_type": "stream",
       "stream": "stdout",
       "text": [
        "\n",
        "[  9.09916699  -1.2688491    1.20456005  -0.63468329   0.4604712\n",
        "  -2.62094718   2.97841601  -3.45972615  -6.93976103  -4.57727969\n",
        "  10.45747797 -12.56053102  13.63598289   7.31392909  -6.49809772\n",
        "   1.71627468  -1.29343908  -0.19437573  -0.21710592  -2.1629585\n",
        "  -1.02423011]\n",
        "\n",
        "\n",
        "the error rate of this test is: 0.343284\n",
        "(numTestVec: 67, errorCount: 23)\n"
       ]
      },
      {
       "ename": "KeyboardInterrupt",
       "evalue": "",
       "output_type": "pyerr",
       "traceback": [
        "\u001b[1;31m---------------------------------------------------------------------------\u001b[0m\n\u001b[1;31mKeyboardInterrupt\u001b[0m                         Traceback (most recent call last)",
        "\u001b[1;32m<ipython-input-49-6ea633b86690>\u001b[0m in \u001b[0;36m<module>\u001b[1;34m()\u001b[0m\n\u001b[1;32m----> 1\u001b[1;33m \u001b[0mmultiTest\u001b[0m\u001b[1;33m(\u001b[0m\u001b[1;33m)\u001b[0m\u001b[1;33m\u001b[0m\u001b[0m\n\u001b[0m",
        "\u001b[1;32m<ipython-input-48-2ea452976fba>\u001b[0m in \u001b[0;36mmultiTest\u001b[1;34m()\u001b[0m\n\u001b[0;32m     40\u001b[0m     \u001b[0mnumTests\u001b[0m \u001b[1;33m=\u001b[0m \u001b[1;36m10\u001b[0m\u001b[1;33m;\u001b[0m \u001b[0merrorSum\u001b[0m\u001b[1;33m=\u001b[0m\u001b[1;36m0.0\u001b[0m\u001b[1;33m;\u001b[0m \u001b[0mindex\u001b[0m \u001b[1;33m=\u001b[0m \u001b[1;36m0\u001b[0m\u001b[1;33m\u001b[0m\u001b[0m\n\u001b[0;32m     41\u001b[0m     \u001b[1;32mfor\u001b[0m \u001b[0mk\u001b[0m \u001b[1;32min\u001b[0m \u001b[0mrange\u001b[0m\u001b[1;33m(\u001b[0m\u001b[0mnumTests\u001b[0m\u001b[1;33m)\u001b[0m\u001b[1;33m:\u001b[0m\u001b[1;33m\u001b[0m\u001b[0m\n\u001b[1;32m---> 42\u001b[1;33m         \u001b[0merrorSum\u001b[0m \u001b[1;33m+=\u001b[0m \u001b[0mcolicTest\u001b[0m\u001b[1;33m(\u001b[0m\u001b[0mindex\u001b[0m\u001b[1;33m)\u001b[0m\u001b[1;33m\u001b[0m\u001b[0m\n\u001b[0m\u001b[0;32m     43\u001b[0m     \u001b[1;32mprint\u001b[0m \u001b[1;34m\"after %d iterations the average error rate is: %f\"\u001b[0m \u001b[1;33m%\u001b[0m \u001b[1;33m(\u001b[0m\u001b[0mnumTests\u001b[0m\u001b[1;33m,\u001b[0m \u001b[0merrorSum\u001b[0m\u001b[1;33m/\u001b[0m\u001b[0mfloat\u001b[0m\u001b[1;33m(\u001b[0m\u001b[0mnumTests\u001b[0m\u001b[1;33m)\u001b[0m\u001b[1;33m)\u001b[0m\u001b[1;33m\u001b[0m\u001b[0m\n",
        "\u001b[1;32m<ipython-input-48-2ea452976fba>\u001b[0m in \u001b[0;36mcolicTest\u001b[1;34m(index)\u001b[0m\n\u001b[0;32m     16\u001b[0m         \u001b[0mtrainingSet\u001b[0m\u001b[1;33m.\u001b[0m\u001b[0mappend\u001b[0m\u001b[1;33m(\u001b[0m\u001b[0mlineArr\u001b[0m\u001b[1;33m)\u001b[0m\u001b[1;33m\u001b[0m\u001b[0m\n\u001b[0;32m     17\u001b[0m         \u001b[0mtrainingLabels\u001b[0m\u001b[1;33m.\u001b[0m\u001b[0mappend\u001b[0m\u001b[1;33m(\u001b[0m\u001b[0mfloat\u001b[0m\u001b[1;33m(\u001b[0m\u001b[0mcurrLine\u001b[0m\u001b[1;33m[\u001b[0m\u001b[1;36m21\u001b[0m\u001b[1;33m]\u001b[0m\u001b[1;33m)\u001b[0m\u001b[1;33m)\u001b[0m\u001b[1;33m\u001b[0m\u001b[0m\n\u001b[1;32m---> 18\u001b[1;33m     \u001b[0mtrainWeights\u001b[0m \u001b[1;33m=\u001b[0m \u001b[0mstocGradAscent1\u001b[0m\u001b[1;33m(\u001b[0m\u001b[0marray\u001b[0m\u001b[1;33m(\u001b[0m\u001b[0mtrainingSet\u001b[0m\u001b[1;33m)\u001b[0m\u001b[1;33m,\u001b[0m \u001b[0mtrainingLabels\u001b[0m\u001b[1;33m,\u001b[0m \u001b[1;36m1000\u001b[0m\u001b[1;33m)\u001b[0m   \u001b[1;31m# Modified stochastic gradient ascent\ub85c weight \uacc4\uc0b0\u001b[0m\u001b[1;33m\u001b[0m\u001b[0m\n\u001b[0m\u001b[0;32m     19\u001b[0m \u001b[1;33m\u001b[0m\u001b[0m\n\u001b[0;32m     20\u001b[0m     \u001b[0mindex\u001b[0m \u001b[1;33m=\u001b[0m \u001b[0mindex\u001b[0m\u001b[1;33m+\u001b[0m\u001b[1;36m1\u001b[0m\u001b[1;33m\u001b[0m\u001b[0m\n",
        "\u001b[1;32m<ipython-input-8-79b65b4308d9>\u001b[0m in \u001b[0;36mstocGradAscent1\u001b[1;34m(dataMatrix, classLabels, numIter)\u001b[0m\n\u001b[0;32m      9\u001b[0m             \u001b[0malpha\u001b[0m \u001b[1;33m=\u001b[0m \u001b[1;36m4\u001b[0m\u001b[1;33m/\u001b[0m\u001b[1;33m(\u001b[0m\u001b[1;36m1.0\u001b[0m\u001b[1;33m+\u001b[0m\u001b[0mj\u001b[0m\u001b[1;33m+\u001b[0m\u001b[0mi\u001b[0m\u001b[1;33m)\u001b[0m\u001b[1;33m+\u001b[0m\u001b[1;36m0.0001\u001b[0m    \u001b[1;31m#apha decreases with iteration, does not\u001b[0m\u001b[1;33m\u001b[0m\u001b[0m\n\u001b[0;32m     10\u001b[0m             \u001b[0mrandIndex\u001b[0m \u001b[1;33m=\u001b[0m \u001b[0mint\u001b[0m\u001b[1;33m(\u001b[0m\u001b[0mrandom\u001b[0m\u001b[1;33m.\u001b[0m\u001b[0muniform\u001b[0m\u001b[1;33m(\u001b[0m\u001b[1;36m0\u001b[0m\u001b[1;33m,\u001b[0m\u001b[0mlen\u001b[0m\u001b[1;33m(\u001b[0m\u001b[0mdataIndex\u001b[0m\u001b[1;33m)\u001b[0m\u001b[1;33m)\u001b[0m\u001b[1;33m)\u001b[0m\u001b[1;31m#go to 0 because of the constant\u001b[0m\u001b[1;33m\u001b[0m\u001b[0m\n\u001b[1;32m---> 11\u001b[1;33m             \u001b[0mh\u001b[0m \u001b[1;33m=\u001b[0m \u001b[0msigmoid\u001b[0m\u001b[1;33m(\u001b[0m\u001b[0msum\u001b[0m\u001b[1;33m(\u001b[0m\u001b[0mdataMatrix\u001b[0m\u001b[1;33m[\u001b[0m\u001b[0mrandIndex\u001b[0m\u001b[1;33m]\u001b[0m\u001b[1;33m*\u001b[0m\u001b[0mweights\u001b[0m\u001b[1;33m)\u001b[0m\u001b[1;33m)\u001b[0m\u001b[1;33m\u001b[0m\u001b[0m\n\u001b[0m\u001b[0;32m     12\u001b[0m             \u001b[0merror\u001b[0m \u001b[1;33m=\u001b[0m \u001b[0mclassLabels\u001b[0m\u001b[1;33m[\u001b[0m\u001b[0mrandIndex\u001b[0m\u001b[1;33m]\u001b[0m \u001b[1;33m-\u001b[0m \u001b[0mh\u001b[0m\u001b[1;33m\u001b[0m\u001b[0m\n\u001b[0;32m     13\u001b[0m             \u001b[0mweights\u001b[0m \u001b[1;33m=\u001b[0m \u001b[0mweights\u001b[0m \u001b[1;33m+\u001b[0m \u001b[0malpha\u001b[0m \u001b[1;33m*\u001b[0m \u001b[0merror\u001b[0m \u001b[1;33m*\u001b[0m \u001b[0mdataMatrix\u001b[0m\u001b[1;33m[\u001b[0m\u001b[0mrandIndex\u001b[0m\u001b[1;33m]\u001b[0m\u001b[1;33m\u001b[0m\u001b[0m\n",
        "\u001b[1;32mC:\\Users\\LDW\\Anaconda\\lib\\site-packages\\numpy\\core\\fromnumeric.pyc\u001b[0m in \u001b[0;36msum\u001b[1;34m(a, axis, dtype, out, keepdims)\u001b[0m\n\u001b[0;32m   1714\u001b[0m     \u001b[1;32melse\u001b[0m\u001b[1;33m:\u001b[0m\u001b[1;33m\u001b[0m\u001b[0m\n\u001b[0;32m   1715\u001b[0m         return _methods._sum(a, axis=axis, dtype=dtype,\n\u001b[1;32m-> 1716\u001b[1;33m                             out=out, keepdims=keepdims)\n\u001b[0m\u001b[0;32m   1717\u001b[0m \u001b[1;33m\u001b[0m\u001b[0m\n\u001b[0;32m   1718\u001b[0m \u001b[1;32mdef\u001b[0m \u001b[0mproduct\u001b[0m \u001b[1;33m(\u001b[0m\u001b[0ma\u001b[0m\u001b[1;33m,\u001b[0m \u001b[0maxis\u001b[0m\u001b[1;33m=\u001b[0m\u001b[0mNone\u001b[0m\u001b[1;33m,\u001b[0m \u001b[0mdtype\u001b[0m\u001b[1;33m=\u001b[0m\u001b[0mNone\u001b[0m\u001b[1;33m,\u001b[0m \u001b[0mout\u001b[0m\u001b[1;33m=\u001b[0m\u001b[0mNone\u001b[0m\u001b[1;33m,\u001b[0m \u001b[0mkeepdims\u001b[0m\u001b[1;33m=\u001b[0m\u001b[0mFalse\u001b[0m\u001b[1;33m)\u001b[0m\u001b[1;33m:\u001b[0m\u001b[1;33m\u001b[0m\u001b[0m\n",
        "\u001b[1;31mKeyboardInterrupt\u001b[0m: "
       ]
      }
     ],
     "prompt_number": 49
    }
   ],
   "metadata": {}
  }
 ]
}