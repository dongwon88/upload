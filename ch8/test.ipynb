{
 "metadata": {
  "name": "",
  "signature": "sha256:8e90a22443b7eba276988b44c52890e8001c7c407a9e26166c79ea0bb39bc495"
 },
 "nbformat": 3,
 "nbformat_minor": 0,
 "worksheets": [
  {
   "cells": [
    {
     "cell_type": "code",
     "collapsed": false,
     "input": [
      "import sympy as sp\n",
      "\n",
      "x,y,w = sp.symbols('x y w')\n",
      "\n",
      "a=sp.Matrix([[x**2, x],[x**2, y]])\n",
      "print a.diff(x)\n",
      "\n",
      "import numpy as np\n",
      "np.eye(3)\n",
      "np.identity(3)"
     ],
     "language": "python",
     "metadata": {},
     "outputs": [
      {
       "output_type": "stream",
       "stream": "stdout",
       "text": [
        "Matrix([[2*x, 1], [2*x, 0]])\n"
       ]
      },
      {
       "metadata": {},
       "output_type": "pyout",
       "prompt_number": 9,
       "text": [
        "array([[ 1.,  0.,  0.],\n",
        "       [ 0.,  1.,  0.],\n",
        "       [ 0.,  0.,  1.]])"
       ]
      }
     ],
     "prompt_number": 9
    },
    {
     "cell_type": "code",
     "collapsed": false,
     "input": [
      "X=sp.Matrix([[1,2],[1,4],[1,6]])\n",
      "Y=sp.Matrix([3,6,7])\n",
      "xTx = X.T*X\n",
      "xTxI=xTx.inv()\n",
      "xTyT=X.T*Y\n",
      "\n",
      "print \"xTxI = \", xTxI\n",
      "print \"xTxI = \", xTyT\n",
      "print \"weight = \", xTxI*xTyT"
     ],
     "language": "python",
     "metadata": {},
     "outputs": [
      {
       "output_type": "stream",
       "stream": "stdout",
       "text": [
        "xTxI =  Matrix([[7/3, -1/2], [-1/2, 1/8]])\n",
        "xTxI =  Matrix([[16], [72]])\n",
        "weight =  Matrix([[4/3], [1]])\n"
       ]
      }
     ],
     "prompt_number": 12
    },
    {
     "cell_type": "code",
     "collapsed": false,
     "input": [],
     "language": "python",
     "metadata": {},
     "outputs": []
    }
   ],
   "metadata": {}
  }
 ]
}