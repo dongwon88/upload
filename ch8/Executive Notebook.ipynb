{
 "metadata": {
  "name": "",
  "signature": "sha256:35047e48c374d4cbe37c7f9e804c089777e986b6312fd1654ad20f3bd4582816"
 },
 "nbformat": 3,
 "nbformat_minor": 0,
 "worksheets": [
  {
   "cells": [
    {
     "cell_type": "heading",
     "level": 1,
     "metadata": {},
     "source": [
      "\ud68c\uadc0"
     ]
    },
    {
     "cell_type": "markdown",
     "metadata": {},
     "source": [
      "##-----------------------------------------------------------\n",
      "##8.1 \ud68c\uadc0 (Regression)\n",
      "\n",
      "<n> \n",
      "\n",
      "\ud68c\uadc0\ub97c \uc0ac\uc6a9\ud558\ub294 \uc774\uc720 ==>\n",
      "\n",
      "<b><u>\uc218\uce58\ud615 \ubaa9\uc801\uac12\uc744 \uc608\uce21\ud558\uae30\uc704\ud574\uc11c!!</u></b>\n",
      "<n>\n",
      "----------------------------------------------------------------------------------------------------------------------------------\n",
      "\uc608) \uc5b4\ub290 \ub0a8\uc790\uac00 \ud0c0\uace0 \uc788\ub294 \uc790\ub3d9\ucc28\uc758 \ub9c8\ub825\uc744 \ud655\uc778\ud558\uae30 \uc704\ud55c \ud568\uc218 ==> <b>(\ud68c\uadc0\ubc29\uc815\uc2dd)</b> \n",
      "<n>\n",
      "\n",
      "$\uc790\ub3d9\ucc28\uc758 \ub9c8\ub825 = 0.0015*\uc5f0\ubd09-0.99*\ub77c\ub514\uc624\ub97c \ub4e3\ub294 \uc2dc\uac04$\n",
      "\n",
      "<n>\n",
      "0.0015, 0.99\ub294 <b>\ud68c\uadc0 \uac00\uc911\uce58!!</b>\n",
      "----------------------------------------------------------------------------------------------------------------------------------\n",
      "<n>\n"
     ]
    },
    {
     "cell_type": "markdown",
     "metadata": {},
     "source": [
      "----------------------------------------------------------------------------------------------------------------------------------\n",
      "\n",
      "\ud68c\uadc0\uc5d0\uc11c \ud544\uc694\ud55c \uac83\uc740 : <b> \uc77c\ubc18\uc801\uc73c\ub85c \uc218\uce58\ud615 \ub370\uc774\ud130</b>\uc774\uba70, \uba85\ubaa9\ud615 \uac12\uc758 \uacbd\uc6b0 <b>\uc774\uc9c4\ud615 \uac12</b>\uc73c\ub85c \ubcc0\uacbd\ud558\uc5ec \uc0ac\uc6a9\n",
      "<n>\n",
      "\n",
      "\ud68c\uadc0 \uacb0\uacfc\ub97c \uac80\uc0ac\ud560 \ub54c\ub294 : \ubaa8\ub378\uc758 \uc131\uacfc\ub97c \uce21\uc815\ud558\uae30 \uc704\ud574 <b> R2 \ub610\ub294 \uc608\uce21 \uac12\uacfc \ub370\uc774\ud130 \uac04\uc758 \uc0c1\uad00\uad00\uacc4 </b>\n",
      "\n",
      "----------------------------------------------------------------------------------------------------------------------------------"
     ]
    },
    {
     "cell_type": "markdown",
     "metadata": {},
     "source": [
      "\uc785\ub825 \uac12 ==> <b>\ud589\ub82c $X$</b> <n>\n",
      "\n",
      "\ud68c\uadc0 \uac00\uc911\uce58 ==> <b>$w$</b>\n",
      "<n>\n",
      "\n",
      "\uc774\uc5d0 \ub300\ud55c \ub370\uc774\ud130\uc758 \uc77c\ubd80\uc778 $X_1$ \uc774 \uc8fc\uc5b4\uc84c\uc744 \ub54c \uc608\uce21\uac12 $y_1$\uc740?\n",
      "<n>\n",
      "\n",
      "<b>$y_1 = X_1^Tw$</b>\n",
      "\n",
      "<n>\n",
      "\n",
      "<b>\ud68c\uadc0 \uac00\uc911\uce58\uc5d0 \ub300\ud55c \ubca1\ud130 $w$\ub294 \uc5b4\ub5bb\uac8c \ucc3e\ub294\uac00?</b>\n",
      "<n>\n",
      "<b><u>==> \uc624\ub958\ub97c \ucd5c\uc18c\ud654 \ud558\ub294 \ubc29\ubc95\uc73c\ub85c \ucc3e\ub294\ub2e4</u></b> : <big><b>\uc624\ub958\uac12\uc758 \uc81c\uacf1\uc73c\ub85c!</b></big>"
     ]
    },
    {
     "cell_type": "markdown",
     "metadata": {},
     "source": [
      "$$\\sum_{i=1}^{m}(y_i - x_i^tw)^2$$\n",
      "\n",
      "<n>\n",
      "\uc774\uc5d0 \ub300\ud55c \uc815\ub9ac\ub294\n",
      "\n",
      "\\begin{equation*} \\hat{w} = (X^TX)^-1{X^T}y  \\end{equation*} \ub85c \uc815\ub9ac \ud560 \uc218 \uc788\uc74c.\n",
      "\n",
      "\uc5ec\uae30\uc11c\uc758 \uac00\uc7a5 \uc911\uc694\ud55c \ubd80\ubd84\uc740 <n>\n",
      "$$(X^TX)^-1$$ (\uc5ed\ud589\ub82c\uc774 \ubc18\ub4dc\uc2dc \uc874\uc7ac\ud574\uc57c\ud568)\n"
     ]
    },
    {
     "cell_type": "code",
     "collapsed": false,
     "input": [
      "import regression\n",
      "\n",
      "from numpy import *\n",
      "\n",
      "xArr, yArr = regression.loadDataSet('ex0.txt')"
     ],
     "language": "python",
     "metadata": {},
     "outputs": [],
     "prompt_number": 1
    },
    {
     "cell_type": "code",
     "collapsed": false,
     "input": [
      "xArr[0:2]"
     ],
     "language": "python",
     "metadata": {},
     "outputs": [
      {
       "metadata": {},
       "output_type": "pyout",
       "prompt_number": 2,
       "text": [
        "[[1.0, 0.067732], [1.0, 0.42781]]"
       ]
      }
     ],
     "prompt_number": 2
    },
    {
     "cell_type": "markdown",
     "metadata": {},
     "source": [
      "\uccab \ubc88\uc9f8 \uac12\uc740 \ud56d\uc0c1 1. x0 \uac12\uc740 \uacc4\uc0b0\uc5d0 \ud544\uc694\ud55c \uc0c1\uc218\uc758 \uae30\uc900\uc73c\ub85c, \uc6b0\ub9ac\uac00 \uc124\uc815\ud55c \uac83\n",
      "\ub450 \ubc88\uc9f8 \uac12\uc740 x1 ==> \ud50c\ub86f\uc5d0 \uc0ac\uc6a9\ub418\ub294 \uac12\n",
      "\n",
      "standRegres()\ub97c \ud655\uc778!!"
     ]
    },
    {
     "cell_type": "code",
     "collapsed": false,
     "input": [
      "ws = regression.standRegres(xArr, yArr)\n",
      "\n",
      "ws"
     ],
     "language": "python",
     "metadata": {},
     "outputs": [
      {
       "metadata": {},
       "output_type": "pyout",
       "prompt_number": 3,
       "text": [
        "matrix([[ 3.00774324],\n",
        "        [ 1.69532264]])"
       ]
      }
     ],
     "prompt_number": 3
    },
    {
     "cell_type": "markdown",
     "metadata": {},
     "source": [
      "\ubcc0\uc218 ws\uc5d0\ub294 \uac00\uc911\uce58\uac00 \ub4e4\uc5b4\uc788\uc74c. \n",
      "\uccab \ubc88\uc9f8 \uac12\uc740 \uc6b0\ub9ac\uac00 \uc120\uc815\ud55c \uc0c1\uc218\ub85c \uacf1\ud55c \uac83.\n",
      "\ub450 \ubc88\uc9f8 \uac12\uc740 \uc785\ub825 \ubcc0\uc218 X1\uc744 \uacf1\ud55c \uac12. \n",
      "\n",
      "x0 = 1\ub85c \uac00\uc815 \ud588\uc73c\ubbc0\ub85c, y = ws[0] + ws[1] * x1\uc744 \uad6c\ud558\uac8c \ub428.\n",
      "\n",
      "\ub610\ud55c, \uc2e4\uc81c \ub370\uc774\ud130\uac00 \uc544\ub2cc \uc608\uce21\ub41c y\ub97c \ud638\ucd9c\ud558\uae38 \uc6d0\ud558\ubbc0\ub85c, \uc5ec\uae30\uc11c\ub294 yHat\uc744 \ud638\ucd9c\ud568.\n",
      "\uc0c8\ub85c\uc6b4 ws\ub97c \uac00\uc9c0\uace0 yHat\uc744 \uacc4\uc0b0!!"
     ]
    },
    {
     "cell_type": "code",
     "collapsed": false,
     "input": [
      "xMat = mat(xArr)\n",
      "yMat = mat(yArr)\n",
      "yHat = xMat * ws ## \ucd5c\uc801\uc758 \ubca1\ud130\uac00 \uad6c\ud574\uc84c\ub2e4\uace0 \uac00\uc815\ud558\uace0, \uc5ec\uae30\uc5d0 \ud574\ub2f9\ud558\ub294 yHat-\ucd5c\uc801\uc758 Regression \uac12\uc744 \uad6c\ud55c\ub2e4!\n",
      "\n"
     ],
     "language": "python",
     "metadata": {},
     "outputs": [],
     "prompt_number": 4
    },
    {
     "cell_type": "code",
     "collapsed": false,
     "input": [
      "import matplotlib.pyplot as plt\n",
      "#%pylab inline\n",
      "fig = plt.figure()\n",
      "ax = fig.add_subplot(111)\n",
      "ax.scatter(xMat[:,1].flatten().A[0], yMat.T[:,0].flatten().A[0])\n",
      "\n",
      "xCopy = xMat.copy()\n",
      "xCopy.sort(0)\n",
      "yHat = xCopy * ws\n",
      "ax.plot(xCopy[:,1], yHat)"
     ],
     "language": "python",
     "metadata": {},
     "outputs": [
      {
       "metadata": {},
       "output_type": "pyout",
       "prompt_number": 5,
       "text": [
        "[<matplotlib.lines.Line2D at 0xa213f28>]"
       ]
      },
      {
       "metadata": {},
       "output_type": "display_data",
       "png": "[encoded data removed]",
       "text": [
        "<matplotlib.figure.Figure at 0xa0b22b0>"
       ]
      }
     ],
     "prompt_number": 5
    },
    {
     "cell_type": "markdown",
     "metadata": {},
     "source": [
      "\uc774 \uba85\ub839\uc740 \uadf8\ub9bc\uc744 \uc0dd\uc131 ==> \uc6d0\ubcf8\ub370\uc774\ud130\ub97c \ud50c\ub86f\ud558\uac8c \ub9cc\ub4e6.\n",
      "\n",
      "\uacc4\uc0b0\ub41c \ucd5c\uc801\uc120\uc744 \ud50c\ub86f\ud558\uae30 \uc704\ud574, yHat \uac12\uc744 \ud50c\ub86f\ud574\uc57c \ud568. (\ud574\ub2f9 \ub370\uc774\ud130\uac00 \uc21c\ucc28\uc801\uc774\uc9c0 \uc54a\uc73c\uba74, Pyplot\uc5d0\uc11c \ubb38\uc81c!!!\n",
      "<b>\uc624\ub984\ucc28\uc21c\uc73c\ub85c \uc810\uc744 \uc815\ub82c</b>"
     ]
    },
    {
     "cell_type": "markdown",
     "metadata": {},
     "source": [
      "Numpy \ub77c\uc774\ube0c\ub7ec\ub9ac \uc0c1, \uc0c1\uad00\uacc4\uc218 \uba85\ub839\uc5b4 \uc788\uc74c.\n",
      "\n",
      "\ucd94\uc815\uacb0\uacfc\uc640 \uc2e4\uc81c \ub370\uc774\ud130 \uac04 \uc0c1\uad00\uad00\uacc4 ==> corrcoef(yEstimate, yActual)\uc774\ub77c\ub294 \uba85\ub839\uc73c\ub85c \uacc4\uc0b0"
     ]
    },
    {
     "cell_type": "code",
     "collapsed": false,
     "input": [
      "yHat = xMat * ws"
     ],
     "language": "python",
     "metadata": {},
     "outputs": [],
     "prompt_number": 6
    },
    {
     "cell_type": "code",
     "collapsed": false,
     "input": [
      "corrcoef(yHat.T, yMat)"
     ],
     "language": "python",
     "metadata": {},
     "outputs": [
      {
       "metadata": {},
       "output_type": "pyout",
       "prompt_number": 7,
       "text": [
        "array([[ 1.        ,  0.98647356],\n",
        "       [ 0.98647356,  1.        ]])"
       ]
      }
     ],
     "prompt_number": 7
    },
    {
     "cell_type": "markdown",
     "metadata": {},
     "source": [
      "\uc774\uac83\uc740 \ube44\uad50 \uac00\ub2a5\ud55c \ubaa8\ub4e0 \uc30d\uc758 \uc0c1\uad00\uad00\uacc4 \uc81c\uacf5\n",
      "\n",
      "\ub300\uac01\uc120 \uc0c1\uc5d0 \uc788\ub294 \uc6d0\uc18c\ub4e4\uc740 \ubaa8\ub450 1.0\uc774 \ub428.\n",
      "<b>yHat\uacfc yMat \uac04\uc758 \uc0c1\uad00\uad00\uacc4\ub294 \uc57d 0.98</b>\n",
      "----------------------------------------------------------------------------------------------------------------------------------"
     ]
    },
    {
     "cell_type": "markdown",
     "metadata": {},
     "source": [
      "##------------------------------------------------------------------------\n",
      "\n",
      "## 8.2 \uc9c0\uc5ed\uc801 \uac00\uc911\uce58\uac00 \ubd80\uc5ec\ub41c \uc120\ud615\ud68c\uadc0\n",
      "<n>\n",
      "\n",
      "\ubd80\uc871\uc801\ud569\uc5d0 \ub300\ud55c \uacbd\ud5a5\uc744 \ubcf4\uc774\ub294\uac83\uc774 \uc77c\ubc18\uc801\uc778 \uc120\ud615\ud68c\uadc0\n",
      "\uc77c\ubc18\uc801\uc73c\ub85c\ub294 \ud3c9\uade0\uc81c\uacf1 \uc624\ub958\ub97c \uc0ac\uc6a9\ud558\uc5ec \uc624\ub958\uac00 \uac00\uc7a5 \uc791\uc740 \uac12\uc744 \uad6c\ud558\uae30 \ub54c\ubb38\uc5d0<n>\n",
      "\n",
      "<b>\ucd94\uc815\uac12\uc5d0 \uc131\ud5a5\uc774 \uc5c6\ub2e4.</b>\n",
      "\n",
      "<n>\n",
      "\ub530\ub77c\uc11c, \ucd94\uc815\uac12\uc5d0 \uc131\ud5a5(Bias)\uc744 \ucd94\uac00\ud558\uc5ec \ud3c9\uade0\uc81c\uacf1 \uc624\ub958\ub97c \ucd5c\uc18c\ud654 \ud558\ub294 \uac83!\n",
      "<n>\n",
      "\ud574\uacb0\ubc29\uc548\uc740 ==> <b>\uc9c0\uc5ed\uc801 \uac00\uc911\uce58\uac00 \ubd80\uc5ec\ub41c \uc120\ud615\ud68c\uadc0(Locally Weighted Linear Regression)</b>\n",
      "\n",
      "<n>\n",
      "\n",
      "<b>\\begin{equation*} \\hat{w} = (X^TWX)^{-1}X^TW_y  \\end{equation*} </b>\n",
      "\n",
      "<n>\n",
      "$W$\ub294 \ub370\uc774\ud130 \uc810\uc5d0 \uac00\uc911\uce58\ub97c \ubd80\uc5ec\ud558\uae30 \uc704\ud574 \uc0ac\uc6a9\ub418\ub294 \ud589\ub82c\n",
      "\n",
      "<n>\n",
      "LWLR\uc740 \ub2e4\ub978\uc810\ub4e4\ubcf4\ub2e4 \ub354 \uac00\uae4c\uc6b4 \uc810\uc5d0 \ub354 \ub9ce\uc740 \uac00\uc911\uce58\ub97c \ubd80\uc5ec\ud568.\n",
      "<n>\n",
      "<b>\uac00\uc7a5 \uc77c\ubc18\uc801\uc778 \ucee4\ub110\uc740 \uac00\uc6b0\uc2a4 \ud655\ub960 \ubd84\ud3ec</b>\n",
      "\n",
      "\\begin{equation*} w(i, i) = exp(\\frac{|x^{(i) - x}|}{-2k^2}) \\end{equation*}\n",
      "\n",
      "\uc774 \uc2dd\uc740 \ub300\uac01\uc120\uc0c1\uc758 \uc6d0\uc18c\ub9cc\uc774 \uc874\uc7ac\ud558\ub294 \uac00\uc911\uce58\ud589\ub82c $W$\ub97c \ub9cc\ub4e6.\n",
      "<n>\n",
      "\ub370\uc774\ud130 \uc810 $x$\uac00 \ub2e4\ub978 \uc810\ub4e4\uc5d0 \ub354 \uac00\uae4c\uc6cc\uc9c8 \uc218\ub85d $w(i,i)$\ub294 \ub354\uc6b1 \ucee4\uc9c0\uac8c \ub428.\n",
      "\n",
      "<b> $k$ \ub294 \uc0ac\uc6a9\uc790 \uc815\uc758 \uc0c1\uc218 </b>\n"
     ]
    },
    {
     "cell_type": "code",
     "collapsed": false,
     "input": [
      "reload(regression)"
     ],
     "language": "python",
     "metadata": {},
     "outputs": [
      {
       "metadata": {},
       "output_type": "pyout",
       "prompt_number": 8,
       "text": [
        "<module 'regression' from 'regression.pyc'>"
       ]
      }
     ],
     "prompt_number": 8
    },
    {
     "cell_type": "code",
     "collapsed": false,
     "input": [
      "xArr,yArr=regression.loadDataSet('ex0.txt')\n",
      "yArr[0]"
     ],
     "language": "python",
     "metadata": {},
     "outputs": [
      {
       "metadata": {},
       "output_type": "pyout",
       "prompt_number": 9,
       "text": [
        "3.176513"
       ]
      }
     ],
     "prompt_number": 9
    },
    {
     "cell_type": "code",
     "collapsed": false,
     "input": [
      "regression.lwlr(xArr[0],xArr,yArr,1.0)"
     ],
     "language": "python",
     "metadata": {},
     "outputs": [
      {
       "metadata": {},
       "output_type": "pyout",
       "prompt_number": 10,
       "text": [
        "matrix([[ 3.12204471]])"
       ]
      }
     ],
     "prompt_number": 10
    },
    {
     "cell_type": "code",
     "collapsed": false,
     "input": [
      "regression.lwlr(xArr[0],xArr,yArr,0.001)"
     ],
     "language": "python",
     "metadata": {},
     "outputs": [
      {
       "metadata": {},
       "output_type": "pyout",
       "prompt_number": 11,
       "text": [
        "matrix([[ 3.20175729]])"
       ]
      }
     ],
     "prompt_number": 11
    },
    {
     "cell_type": "code",
     "collapsed": false,
     "input": [
      "yHat = regression.lwlrTest(xArr, xArr, yArr,1.0)\n",
      "yHat001 = regression.lwlrTest(xArr, xArr, yArr,0.01)\n",
      "yHat0003 = regression.lwlrTest(xArr, xArr, yArr,0.003)\n",
      "\n",
      "## \ub370\uc774\ud130 \uc810\uc744 \ubaa8\ub450 \ud3c9\uac00 \ud568\n",
      "\n",
      "##print yHat1\n",
      "##print yHat001\n",
      "##print yHat0003\n",
      "\n",
      "srtInd = xMat[:,1].argsort(0)\n",
      "xSort=xMat[srtInd][:,0,:]"
     ],
     "language": "python",
     "metadata": {},
     "outputs": [],
     "prompt_number": 13
    },
    {
     "cell_type": "markdown",
     "metadata": {},
     "source": [
      "## \ucc45\uc758 \uadf8\ub9bc 8.5\ucc38\uace0\n",
      "\n",
      "k \uac12 (1.0 / 0.01 / 0.003)\uc73c\ub85c \uc124\uc815\ud558\uc600\uc744 \uc2dc \uadf8\ub9bc"
     ]
    },
    {
     "cell_type": "code",
     "collapsed": false,
     "input": [
      "import matplotlib.pyplot as plt\n",
      "fig1 = plt.figure()\n",
      "fig2 = plt.figure()\n",
      "fig3 = plt.figure()\n",
      "\n",
      "ax = fig1.add_subplot(111)\n",
      "ax.plot(xSort[:,1],yHat[srtInd])\n",
      "ax.scatter(xMat[:,1].flatten().A[0], mat(yArr).T.flatten().A[0] , s=2, c='red')\n",
      "## \ud45c\uc900 \ud68c\uadc0\uc640 \uac19\uc740 \uacb0\uacfc (\ubd80\uc871\uc801\ud569)\n",
      "\n",
      "ax2 = fig2.add_subplot(111)\n",
      "ax2.plot(xSort[:,1],yHat001[srtInd])\n",
      "ax2.scatter(xMat[:,1].flatten().A[0], mat(yArr).T.flatten().A[0] , s=2, c='red')\n",
      "## \ub370\uc774\ud130 \ub0b4\uc758 \uae30\ubcf8\uc801\uc778 \ud328\ud134\uc744 \uacc4\uc0b0\ud558\ub294\ub370 \ub354 \ub9ce\uc740 \uc791\uc5c5\uc744 \ud558\uac8c \ub428 \n",
      "\n",
      "ax3 = fig3.add_subplot(111)\n",
      "ax3.plot(xSort[:,1],yHat0003[srtInd])\n",
      "ax3.scatter(xMat[:,1].flatten().A[0], mat(yArr).T.flatten().A[0] , s=2, c='red')\n",
      "## \ub108\ubb34 \ub09c\uc7a1\ud558\uba70, \ub370\uc774\ud130\ub97c \uc5f0\uacb0\ud558\ub294 \uc120\uc5d0 \ub108\ubb34 \ub9de\ucdb0\uc800 \uc788\uc74c (\uacfc\uc801\ud569)\n"
     ],
     "language": "python",
     "metadata": {},
     "outputs": [
      {
       "metadata": {},
       "output_type": "pyout",
       "prompt_number": 14,
       "text": [
        "<matplotlib.collections.PathCollection at 0xa77b8d0>"
       ]
      },
      {
       "metadata": {},
       "output_type": "display_data",
       "png": "[encoded data removed]",
       "text": [
        "<matplotlib.figure.Figure at 0xa5376d8>"
       ]
      },
      {
       "metadata": {},
       "output_type": "display_data",
       "png": "[encoded data removed]",
       "text": [
        "<matplotlib.figure.Figure at 0xa537710>"
       ]
      },
      {
       "metadata": {},
       "output_type": "display_data",
       "png": "[encoded data removed]",
       "text": [
        "<matplotlib.figure.Figure at 0xa537a58>"
       ]
      }
     ],
     "prompt_number": 14
    },
    {
     "cell_type": "markdown",
     "metadata": {},
     "source": [
      "## LWLR\uc758 \uacbd\uc6b0\n",
      "<b> \ub9ce\uc740 \uacc4\uc0b0\uc774 \ud544\uc694\ud55c \ubb38\uc81c\uac00 \uc788\uc74c.</b>\n"
     ]
    },
    {
     "cell_type": "markdown",
     "metadata": {},
     "source": [
      "8.3 \uc804\ubcf5\ub098\uc774 \uc608\uce21\ud558\uae30"
     ]
    },
    {
     "cell_type": "code",
     "collapsed": false,
     "input": [
      "abX,abY=regression.loadDataSet('abalone.txt')\n",
      "yHat01=regression.lwlrTest(abX[0:99],abX[0:99],abY[0:99],0.1)\n",
      "yHat1=regression.lwlrTest(abX[0:99],abX[0:99],abY[0:99],1)\n",
      "yHat10=regression.lwlrTest(abX[0:99],abX[0:99],abY[0:99],10)\n",
      "\n",
      "##yHat001_t = regression.lwlrTest(abX[0:99],abX[0:99],abY[0:99],0.01)\n",
      "##yHat0003_t = regression.lwlrTest(abX[0:99],abX[0:99],abY[0:99],0.003)"
     ],
     "language": "python",
     "metadata": {},
     "outputs": [],
     "prompt_number": 15
    },
    {
     "cell_type": "code",
     "collapsed": false,
     "input": [
      "regression.rssError(abY[0:99],yHat01.T)"
     ],
     "language": "python",
     "metadata": {},
     "outputs": [
      {
       "metadata": {},
       "output_type": "pyout",
       "prompt_number": 16,
       "text": [
        "56.787551986059476"
       ]
      }
     ],
     "prompt_number": 16
    },
    {
     "cell_type": "code",
     "collapsed": false,
     "input": [
      "regression.rssError(abY[0:99],yHat1.T)"
     ],
     "language": "python",
     "metadata": {},
     "outputs": [
      {
       "metadata": {},
       "output_type": "pyout",
       "prompt_number": 17,
       "text": [
        "429.89056187017201"
       ]
      }
     ],
     "prompt_number": 17
    },
    {
     "cell_type": "code",
     "collapsed": false,
     "input": [
      "regression.rssError(abY[0:99],yHat10.T)"
     ],
     "language": "python",
     "metadata": {},
     "outputs": [
      {
       "metadata": {},
       "output_type": "pyout",
       "prompt_number": 18,
       "text": [
        "549.11817088282521"
       ]
      }
     ],
     "prompt_number": 18
    },
    {
     "cell_type": "code",
     "collapsed": false,
     "input": [
      "yHat01=regression.lwlrTest(abX[100:199],abX[0:99],abY[0:99],0.1)\n",
      "\n",
      "regression.rssError(abY[100:199],yHat01.T)"
     ],
     "language": "python",
     "metadata": {},
     "outputs": [
      {
       "metadata": {},
       "output_type": "pyout",
       "prompt_number": 19,
       "text": [
        "4495122.4441739423"
       ]
      }
     ],
     "prompt_number": 19
    },
    {
     "cell_type": "code",
     "collapsed": false,
     "input": [
      "yHat1=regression.lwlrTest(abX[100:199],abX[0:99],abY[0:99],1)\n",
      "\n",
      "regression.rssError(abY[100:199],yHat1.T)"
     ],
     "language": "python",
     "metadata": {},
     "outputs": [
      {
       "metadata": {},
       "output_type": "pyout",
       "prompt_number": 20,
       "text": [
        "573.52614418973155"
       ]
      }
     ],
     "prompt_number": 20
    },
    {
     "cell_type": "code",
     "collapsed": false,
     "input": [
      "yHat10=regression.lwlrTest(abX[100:199],abX[0:99],abY[0:99],10)\n",
      "\n",
      "regression.rssError(abY[100:199],yHat10.T)"
     ],
     "language": "python",
     "metadata": {},
     "outputs": [
      {
       "metadata": {},
       "output_type": "pyout",
       "prompt_number": 22,
       "text": [
        "517.57119053839051"
       ]
      }
     ],
     "prompt_number": 22
    },
    {
     "cell_type": "code",
     "collapsed": false,
     "input": [
      "ws = regression.standRegres(abX[0:99],abY[0:99])\n",
      "yHat=mat(abX[100:199])*ws\n",
      "regression.rssError(abY[100:199],yHat.T.A)"
     ],
     "language": "python",
     "metadata": {},
     "outputs": [
      {
       "metadata": {},
       "output_type": "pyout",
       "prompt_number": 23,
       "text": [
        "518.63631532430873"
       ]
      }
     ],
     "prompt_number": 23
    },
    {
     "cell_type": "markdown",
     "metadata": {},
     "source": [
      "## ----------------------------------------------------------------------\n",
      "\n",
      "## 8.4 \ub370\uc774\ud130\ub97c \ucd95\uc18c\ud558\uae30 \uc704\ud55c \ucd95\uc18c \uacc4\uc218\n",
      "\n",
      "<b>\ub370\uc774\ud130\uc758 \uc18d\uc131 > \ub370\uc774\ud130\uc758 \uc810</b> \uc774\ub77c\uba74?\n",
      "<n>\n",
      "==> \uc120\ud615 \ud68c\uadc0\uac00 \ubd88\uac00 ==> \uc774\uc720\ub294? ${(X^TX)}^{-1}$ \uc624\ub958\n",
      "<n>\n",
      "<b>\ub370\uc774\ud130\uc758 \uc18d\uc131 < \ub370\uc774\ud130\uc758 \uc810</b> \uc774\ub77c\uba74?\n",
      "<n>\n",
      "==> <b>\"\ub370\uc774\ud130 \ud589\ub82c $X$\uc5d0 \uc804\uccb4 \uc21c\uc704\uac00 \uc5c6\ub2e4\uace0 \ud568\"</b>\n",
      "\n",
      "<b>\uc774\ub7ec\ud55c \ubb38\uc81c\ub97c \ud574\uacb0\ud558\uae30 \uc704\ud55c</b>\n",
      "\n",
      "## 8.4.1 \ub2a5\ud615 \ud68c\uadc0(Ridge Regression)\n",
      "\n",
      "\ucd94\uac00 \ud589\ub82c\uc778 $I\\lambda$ \ub97c \ub354\ud568\n",
      "<n>\n",
      "\n",
      "<b>$X^TX+I\\lambda$\uc758 \uc5ed\ud589\ub82c\uc744 \uad6c\ud560 \uc218 \uc788\uac8c \ub9cc\ub4e6.</b>\n",
      "<n>\n",
      "\n",
      "(\ud589\ub82c $I$\uc758 \uacbd\uc6b0, \ub300\uac01 \uc6d0\uc18c\uac00 1\uc774\uba70, \ub098\uba38\uc9c0\ub294 0\uc778 \n",
      "<n>\n",
      "$m * m$\uc758 \ub2e8\uc704 \ud589\ub82c-Identity Matrix \uc774\uba70, \n",
      "<n>\n",
      "\n",
      "<b>\\begin{equation*} \\hat{w}=(X^TX+I\\lambda)^{-1}X^TWy  \\end{equation*} </b>\n"
     ]
    },
    {
     "cell_type": "code",
     "collapsed": false,
     "input": [
      "reload(regression)"
     ],
     "language": "python",
     "metadata": {},
     "outputs": [
      {
       "metadata": {},
       "output_type": "pyout",
       "prompt_number": 24,
       "text": [
        "<module 'regression' from 'regression.pyc'>"
       ]
      }
     ],
     "prompt_number": 24
    },
    {
     "cell_type": "code",
     "collapsed": false,
     "input": [
      "abX,abY=regression.loadDataSet('abalone.txt')\n",
      "ridgeWeights=regression.ridgeTest(abX,abY)"
     ],
     "language": "python",
     "metadata": {},
     "outputs": [],
     "prompt_number": 25
    },
    {
     "cell_type": "code",
     "collapsed": false,
     "input": [
      "import matplotlib.pyplot as plt\n",
      "fig1 = plt.figure()\n",
      "ax1 = fig1.add_subplot(111)\n",
      "ax1.plot(ridgeWeights)\n",
      "plt.show()"
     ],
     "language": "python",
     "metadata": {},
     "outputs": [
      {
       "metadata": {},
       "output_type": "display_data",
       "png": "[encoded data removed]",
       "text": [
        "<matplotlib.figure.Figure at 0xa5539b0>"
       ]
      }
     ],
     "prompt_number": 26
    },
    {
     "cell_type": "markdown",
     "metadata": {},
     "source": [
      "##8.4.3 \uc804\ubc29\ud5a5 \ub2e8\uacc4\ubcc4 \ud68c\uadc0\n",
      "\n",
      "<b>\ub2e8\uacc4\ubcc4 \uc120\ud615\ud68c\uadc0(Stagewise Linear Regression)</b>\n",
      "<n>\n",
      "\ud0d0\uc695 \uc54c\uace0\ub9ac\uc998(Greedy Algorithm)\uc774\ub77c\uace0\ub3c4 \ud558\uba70, <b>\uc54c\uace0\ub9ac\uc998\uc758 \uac01 \ub2e8\uacc4\ub294 \uc624\ub958\uac00 \ucd5c\uc18c\uac00 \ub418\ub3c4\ub85d</b>\ud568.\n",
      "\n",
      "\n",
      "<img src = \"1.algorithm.png\">"
     ]
    },
    {
     "cell_type": "markdown",
     "metadata": {},
     "source": [
      "<b>\ub2e8\uacc4\uc801 \ud68c\uadc0\ubd84\uc11d (Stepwise Regression) </b>\n",
      "<n>\n",
      "<b>1. \uc804\ubc29\ud5a5 \uc120\ud0dd (Forward selection) </b> : \uc0c1\uad00\uad00\uacc4\uac00 \uac00\uc7a5 \ud070 \ubcc0\uc218\ubd80\ud130 \ud558\ub098\uc529 \uc120\ud0dd\ud558\ub294 \ubc29\ubc95 (\ub354 \uc774\uc0c1 \uac1c\uc120\uc774 \uc548\ub418\uba74 \uc911\uc9c0)\n",
      "<n>\n",
      "<b>2. \uc5ed\ubc29\ud5a5 \uc81c\uac70 (Backward elimination) </b> : \ubaa8\ub4e0 \ubcc0\uc218\ub97c \ud3ec\ud568\ud55c Full model\uc5d0\uc11c\ubd80\ud130 \uc2dc\uc791\ud558\uc5ec \uc0c1\uad00\uad00\uacc4\uac00 \uac00\uc7a5 \uc791\uc740 \ubcc0\uc218\ubd80\ud130 \ud558\ub098\uc529 \uc81c\uac70\ud558\ub294 \ubc29\ubc95 (\ub354 \uc774\uc0c1 \uac1c\uc120\uc774 \uc548\ub418\uba74 \uc911\uc9c0)\n",
      "<n>\n",
      "<b>3. \uc591\ubc29\ud5a5 \uc81c\uac70 (Bidirectional elimination) </b> : \uc804\ubc29\ud5a5 \uc120\ud0dd\uacfc \uc5ed\ubc29\ud5a5 \uc81c\uac70\uac00 \uc870\ud569\ub41c \ubc29\ubc95\uc73c\ub85c, \ubcc0\uc218\ub97c \ucd94\uac00\ud560\uc9c0 \uc81c\uac70\ud560\uc9c0 \uac01 \ub2e8\uacc4\ub9c8\ub2e4 \ud14c\uc2a4\ud2b8\ud558\uc5ec \uacb0\uc815\ud558\ub294 \ubc29\ubc95 \n",
      "<n> (\uc804\ubc29\ud5a5 \uc120\ud0dd\uc744 \uc0ac\uc6a9\ud560 \ub54c \ud55c \ubcc0\uc218\uac00 \uc120\ud0dd\ub418\uba74 \uc774\ubbf8 \uc120\ud0dd\ub41c \ubcc0\uc218 \uc911 \uc911\uc694\ud558\uc9c0 \uc54a\uc740 \ubcc0\uc218\uac00 \uc874\uc7ac\ud560 \uc218\ub3c4 \uc788\uae30\uc5d0 \uac01 \ub2e8\uacc4\uc5d0\uc11c \uc774\ubbf8 \uc120\ud0dd\ub41c \ubcc0\uc218\ub4e4\uc758 \uc911\uc694\ub3c4\ub3c4 \ub2e4\uc2dc \uac80\uc0ac\ud558\uc5ec \uc911\uc694\ud558\uc9c0 \uc54a\uc740 \ubcc0\uc218\ub97c \uc81c\uac70\ud558\ub294 \ubc29\ubc95)\n",
      "<n>"
     ]
    },
    {
     "cell_type": "code",
     "collapsed": false,
     "input": [
      "def regularize(xMat):\n",
      "    inMat = xMat.copy()\n",
      "    inMeans = mean(inMat, 0)\n",
      "    inVar = var(inMat,0)\n",
      "    inMat = (inMat - inMeans) / inVar\n",
      "    return inMat\n",
      "\n",
      "def stageWise(xArr,yArr,eps=0.01,numIt=100):  ## eps: \uac01 \ubc18\ubcf5\uc5d0\uc11c \ucc98\ub9ac\ud558\uac8c \ub420 \ub2e8\uacc4\uc758 \ud06c\uae30, numIt = \ubc18\ubcf5 \ud69f\uc218\n",
      "    xMat = mat(xArr); yMat=mat(yArr).T  ## \uc785\ub825\ub370\uc774\ud130\ub97c \ud589\ub82c\ub85c \ubcc0\ud658\n",
      "    yMean = mean(yMat,0)\n",
      "    yMat = yMat - yMean\n",
      "    xMat = regularize(xMat)   ## \uc815\uaddc\ud654\n",
      "    m,n=shape(xMat)\n",
      "    ws = zeros((n,1)); wsTest = ws.copy(); wsMax = ws.copy()   ## Greedy Algorithm\uc5d0\uc11c \uc0ac\uc6a9\ud558\uae30 \uc704\ud574 \ub450 \uac1c\uc758 \ubcf5\uc0ac\ubcf8\uc744 \uc0dd\uc131\n",
      "    \n",
      "    for i in range(numIt):\n",
      "        \n",
      "        print ws.T\n",
      "        lowestError = inf;   ## \uc624\ub958\ub294 \ucd08\uae30\uc5d0 \ubb34\ud55c\ub300\ub85c \uc124\uc815\n",
      "        \n",
      "        for j in range(n):\n",
      "            \n",
      "            for sign in [-1,1]:\n",
      "                wsTest = ws.copy()\n",
      "                wsTest[j] += eps*sign\n",
      "                yTest = xMat*wsTest\n",
      "                rssE = rssError(yMat.A,yTest.A)   ## rssError\ud568\uc218 -> ((yArr-yHatArr)**2).sum() : \uc81c\uacf1\uc758 \uc624\ub958\ub85c \uacc4\uc0b0\n",
      "                \n",
      "                if rssE < lowestError:\n",
      "                    lowestError = rssE   ## \ubaa8\ub4e0 \uc624\ub958\uc640 \ube44\uad50\ud558\uba74\uc11c \uac00\uc7a5 \ub0ae\uc740 \uc624\ub958\ub85c \uac31\uc2e0 \n",
      "                    wsMax = wsTest\n",
      "                \n",
      "            ws = wsMax.copy()\n",
      "            returnMat[i,:]=ws.T\n",
      "        return returnMat"
     ],
     "language": "python",
     "metadata": {},
     "outputs": [],
     "prompt_number": 33
    },
    {
     "cell_type": "code",
     "collapsed": false,
     "input": [
      "reload(regression)\n",
      "xArr,yArr=regression.loadDataSet('abalone.txt')\n",
      "regression.stageWise(xArr,yArr,0.01,200)"
     ],
     "language": "python",
     "metadata": {},
     "outputs": [
      {
       "output_type": "stream",
       "stream": "stdout",
       "text": [
        "[[ 0.  0.  0.  0.  0.  0.  0.  0.]]\n",
        "[[ 0.    0.    0.    0.01  0.    0.    0.    0.  ]]\n",
        "[[ 0.    0.    0.    0.02  0.    0.    0.    0.  ]]\n",
        "[[ 0.    0.    0.    0.03  0.    0.    0.    0.  ]]\n",
        "[[ 0.    0.    0.    0.04  0.    0.    0.    0.  ]]\n",
        "[[ 0.    0.    0.    0.05  0.    0.    0.    0.  ]]\n",
        "[[ 0.    0.    0.    0.06  0.    0.    0.    0.  ]]"
       ]
      },
      {
       "output_type": "stream",
       "stream": "stdout",
       "text": [
        "\n",
        "[[ 0.    0.    0.01  0.06  0.    0.    0.    0.  ]]\n",
        "[[ 0.    0.    0.01  0.06  0.    0.    0.    0.01]]\n",
        "[[ 0.    0.    0.01  0.06  0.    0.    0.    0.02]]\n",
        "[[ 0.    0.    0.01  0.06  0.    0.    0.    0.03]]"
       ]
      },
      {
       "output_type": "stream",
       "stream": "stdout",
       "text": [
        "\n",
        "[[ 0.    0.    0.01  0.06  0.    0.    0.    0.04]]\n",
        "[[ 0.    0.    0.01  0.06  0.    0.    0.    0.05]]\n",
        "[[ 0.    0.    0.01  0.06  0.    0.    0.    0.06]]\n",
        "[[ 0.    0.    0.01  0.06  0.    0.    0.    0.07]]"
       ]
      },
      {
       "output_type": "stream",
       "stream": "stdout",
       "text": [
        "\n",
        "[[ 0.    0.    0.01  0.06  0.    0.    0.    0.08]]\n",
        "[[ 0.    0.    0.01  0.05  0.    0.    0.    0.08]]\n",
        "[[ 0.    0.    0.01  0.05  0.    0.    0.    0.09]]"
       ]
      },
      {
       "output_type": "stream",
       "stream": "stdout",
       "text": [
        "\n",
        "[[ 0.    0.    0.01  0.05  0.    0.    0.    0.1 ]]\n",
        "[[ 0.    0.    0.01  0.05  0.    0.    0.    0.11]]\n",
        "[[ 0.    0.    0.01  0.05  0.   -0.01  0.    0.11]]"
       ]
      },
      {
       "output_type": "stream",
       "stream": "stdout",
       "text": [
        "\n",
        "[[ 0.    0.    0.01  0.05  0.   -0.02  0.    0.11]]\n",
        "[[ 0.    0.    0.01  0.05  0.   -0.02  0.    0.12]]\n",
        "[[ 0.    0.    0.01  0.05  0.   -0.03  0.    0.12]]"
       ]
      },
      {
       "output_type": "stream",
       "stream": "stdout",
       "text": [
        "\n",
        "[[ 0.    0.    0.01  0.05  0.   -0.03  0.    0.13]]\n",
        "[[ 0.    0.    0.01  0.05  0.   -0.04  0.    0.13]]\n",
        "[[ 0.    0.    0.01  0.05  0.   -0.05  0.    0.13]]\n",
        "[[ 0.    0.    0.01  0.05  0.   -0.05  0.    0.14]]"
       ]
      },
      {
       "output_type": "stream",
       "stream": "stdout",
       "text": [
        "\n",
        "[[ 0.    0.    0.01  0.05  0.   -0.06  0.    0.14]]\n",
        "[[ 0.    0.    0.01  0.05  0.   -0.07  0.    0.14]]\n",
        "[[ 0.    0.    0.01  0.05  0.   -0.07  0.    0.15]]\n",
        "[[ 0.    0.    0.01  0.05  0.   -0.08  0.    0.15]]"
       ]
      },
      {
       "output_type": "stream",
       "stream": "stdout",
       "text": [
        "\n",
        "[[ 0.    0.    0.01  0.05  0.   -0.08  0.    0.16]]\n",
        "[[ 0.    0.    0.01  0.05  0.   -0.09  0.    0.16]]\n",
        "[[ 0.    0.    0.01  0.05  0.   -0.1   0.    0.16]]"
       ]
      },
      {
       "output_type": "stream",
       "stream": "stdout",
       "text": [
        "\n",
        "[[ 0.    0.    0.01  0.05  0.   -0.1   0.    0.17]]\n",
        "[[ 0.    0.    0.01  0.05  0.   -0.11  0.    0.17]]\n",
        "[[ 0.    0.    0.01  0.05  0.   -0.12  0.    0.17]]"
       ]
      },
      {
       "output_type": "stream",
       "stream": "stdout",
       "text": [
        "\n",
        "[[ 0.    0.    0.01  0.05  0.   -0.12  0.    0.18]]\n",
        "[[ 0.    0.    0.01  0.05  0.   -0.13  0.    0.18]]\n",
        "[[ 0.    0.    0.01  0.05  0.   -0.13  0.    0.19]]\n",
        "[[ 0.    0.    0.01  0.05  0.   -0.14  0.    0.19]]"
       ]
      },
      {
       "output_type": "stream",
       "stream": "stdout",
       "text": [
        "\n",
        "[[ 0.    0.    0.01  0.05  0.   -0.15  0.    0.19]]\n",
        "[[ 0.    0.    0.01  0.05  0.   -0.15  0.    0.2 ]]\n",
        "[[ 0.    0.    0.01  0.05  0.   -0.16  0.    0.2 ]]\n",
        "[[ 0.    0.    0.01  0.05  0.   -0.16  0.    0.21]]"
       ]
      },
      {
       "output_type": "stream",
       "stream": "stdout",
       "text": [
        "\n",
        "[[ 0.    0.    0.01  0.05  0.   -0.17  0.    0.21]]\n",
        "[[ 0.    0.    0.01  0.05  0.   -0.18  0.    0.21]]\n",
        "[[ 0.    0.    0.01  0.05  0.   -0.18  0.    0.22]]\n",
        "[[ 0.    0.    0.01  0.05  0.   -0.19  0.    0.22]]"
       ]
      },
      {
       "output_type": "stream",
       "stream": "stdout",
       "text": [
        "\n",
        "[[ 0.    0.    0.01  0.05  0.   -0.2   0.    0.22]]\n",
        "[[ 0.    0.    0.01  0.05  0.   -0.2   0.    0.23]]\n",
        "[[ 0.    0.    0.01  0.05  0.   -0.21  0.    0.23]]\n",
        "[[ 0.    0.    0.01  0.05  0.   -0.21  0.    0.24]]"
       ]
      },
      {
       "output_type": "stream",
       "stream": "stdout",
       "text": [
        "\n",
        "[[ 0.    0.    0.01  0.05  0.   -0.22  0.    0.24]]\n",
        "[[ 0.    0.    0.01  0.05  0.   -0.23  0.    0.24]]\n",
        "[[ 0.    0.    0.01  0.05  0.   -0.23  0.    0.25]]\n",
        "[[ 0.    0.    0.01  0.05  0.   -0.24  0.    0.25]]"
       ]
      },
      {
       "output_type": "stream",
       "stream": "stdout",
       "text": [
        "\n",
        "[[ 0.    0.    0.01  0.05  0.   -0.25  0.    0.25]]\n",
        "[[ 0.    0.    0.02  0.05  0.   -0.25  0.    0.25]]\n",
        "[[ 0.    0.    0.02  0.04  0.   -0.25  0.    0.25]]"
       ]
      },
      {
       "output_type": "stream",
       "stream": "stdout",
       "text": [
        "\n",
        "[[ 0.    0.    0.03  0.04  0.   -0.25  0.    0.25]]\n",
        "[[ 0.    0.    0.03  0.04  0.   -0.25  0.    0.26]]"
       ]
      },
      {
       "output_type": "stream",
       "stream": "stdout",
       "text": [
        "\n",
        "[[ 0.    0.    0.03  0.04  0.   -0.26  0.    0.26]]\n",
        "[[ 0.    0.    0.03  0.04  0.   -0.26  0.    0.27]]\n",
        "[[ 0.    0.    0.03  0.04  0.   -0.27  0.    0.27]]"
       ]
      },
      {
       "output_type": "stream",
       "stream": "stdout",
       "text": [
        "\n",
        "[[ 0.    0.    0.03  0.04  0.   -0.28  0.    0.27]]\n",
        "[[ 0.    0.    0.03  0.04  0.   -0.28  0.    0.28]]\n",
        "[[ 0.    0.    0.03  0.04  0.   -0.29  0.    0.28]]\n",
        "[[ 0.    0.    0.03  0.04  0.   -0.29  0.    0.29]]"
       ]
      },
      {
       "output_type": "stream",
       "stream": "stdout",
       "text": [
        "\n",
        "[[ 0.    0.    0.03  0.04  0.   -0.3   0.    0.29]]\n",
        "[[ 0.    0.    0.03  0.04  0.   -0.31  0.    0.29]]\n",
        "[[ 0.    0.    0.04  0.04  0.   -0.31  0.    0.29]]"
       ]
      },
      {
       "output_type": "stream",
       "stream": "stdout",
       "text": [
        "\n",
        "[[ 0.    0.    0.04  0.04  0.   -0.32  0.    0.29]]\n",
        "[[ 0.    0.    0.04  0.04  0.   -0.33  0.    0.29]]\n",
        "[[ 0.    0.    0.04  0.04  0.   -0.33  0.    0.3 ]]\n",
        "[[ 0.    0.    0.04  0.04  0.   -0.34  0.    0.3 ]]"
       ]
      },
      {
       "output_type": "stream",
       "stream": "stdout",
       "text": [
        "\n",
        "[[ 0.    0.    0.04  0.04  0.   -0.35  0.    0.3 ]]\n",
        "[[ 0.    0.    0.05  0.04  0.   -0.35  0.    0.3 ]]\n",
        "[[ 0.    0.    0.05  0.04  0.   -0.36  0.    0.3 ]]"
       ]
      },
      {
       "output_type": "stream",
       "stream": "stdout",
       "text": [
        "\n",
        "[[ 0.    0.    0.05  0.04  0.   -0.37  0.    0.3 ]]\n",
        "[[ 0.    0.    0.05  0.04  0.   -0.37  0.    0.31]]\n",
        "[[ 0.    0.    0.05  0.04  0.   -0.38  0.    0.31]]\n",
        "[[ 0.    0.    0.05  0.04  0.   -0.39  0.    0.31]]"
       ]
      },
      {
       "output_type": "stream",
       "stream": "stdout",
       "text": [
        "\n",
        "[[ 0.    0.    0.06  0.04  0.   -0.39  0.    0.31]]\n",
        "[[ 0.    0.    0.06  0.04  0.   -0.4   0.    0.31]]\n",
        "[[ 0.    0.    0.06  0.04  0.   -0.41  0.    0.31]]"
       ]
      },
      {
       "output_type": "stream",
       "stream": "stdout",
       "text": [
        "\n",
        "[[ 0.    0.    0.06  0.04  0.   -0.41  0.    0.32]]\n",
        "[[ 0.    0.    0.06  0.04  0.   -0.42  0.    0.32]]\n",
        "[[ 0.    0.    0.06  0.04  0.   -0.42  0.    0.33]]"
       ]
      },
      {
       "output_type": "stream",
       "stream": "stdout",
       "text": [
        "\n",
        "[[ 0.    0.    0.06  0.04  0.   -0.43  0.    0.33]]\n",
        "[[ 0.    0.    0.06  0.04  0.   -0.44  0.    0.33]]\n",
        "[[ 0.    0.    0.06  0.04  0.   -0.44  0.    0.34]]\n",
        "[[ 0.    0.    0.06  0.04  0.   -0.45  0.    0.34]]"
       ]
      },
      {
       "output_type": "stream",
       "stream": "stdout",
       "text": [
        "\n",
        "[[ 0.    0.    0.06  0.04  0.   -0.46  0.    0.34]]\n",
        "[[ 0.    0.    0.07  0.04  0.   -0.46  0.    0.34]]\n",
        "[[ 0.    0.    0.07  0.03  0.   -0.46  0.    0.34]]"
       ]
      },
      {
       "output_type": "stream",
       "stream": "stdout",
       "text": [
        "\n",
        "[[ 0.    0.    0.08  0.03  0.   -0.46  0.    0.34]]\n",
        "[[ 0.    0.    0.08  0.03  0.   -0.46  0.    0.35]]\n",
        "[[ 0.    0.    0.08  0.03  0.   -0.47  0.    0.35]]"
       ]
      },
      {
       "output_type": "stream",
       "stream": "stdout",
       "text": [
        "\n",
        "[[ 0.    0.    0.08  0.03  0.   -0.47  0.    0.36]]\n",
        "[[ 0.    0.    0.08  0.03  0.   -0.48  0.    0.36]]\n",
        "[[ 0.    0.    0.08  0.03  0.   -0.49  0.    0.36]]"
       ]
      },
      {
       "output_type": "stream",
       "stream": "stdout",
       "text": [
        "\n",
        "[[ 0.    0.    0.09  0.03  0.   -0.49  0.    0.36]]\n",
        "[[ 0.    0.    0.09  0.03  0.   -0.5   0.    0.36]]\n",
        "[[ 0.    0.    0.09  0.03  0.   -0.51  0.    0.36]]\n",
        "[[ 0.    0.    0.09  0.03  0.   -0.51  0.    0.37]]"
       ]
      },
      {
       "output_type": "stream",
       "stream": "stdout",
       "text": [
        "\n",
        "[[ 0.    0.    0.09  0.03  0.   -0.52  0.    0.37]]\n",
        "[[ 0.    0.    0.09  0.03  0.01 -0.52  0.    0.37]]\n",
        "[[ 0.01  0.    0.09  0.03  0.01 -0.52  0.    0.37]]"
       ]
      },
      {
       "output_type": "stream",
       "stream": "stdout",
       "text": [
        "\n",
        "[[ 0.01  0.    0.09  0.03  0.01 -0.53  0.    0.37]]\n",
        "[[ 0.01  0.    0.09  0.03  0.02 -0.53  0.    0.37]]\n",
        "[[ 0.01  0.    0.09  0.03  0.03 -0.53  0.    0.37]]\n",
        "[[ 0.01  0.    0.09  0.03  0.04 -0.53  0.    0.37]]\n",
        "[[ 0.01  0.    0.09  0.03  0.04 -0.54  0.    0.37]]"
       ]
      },
      {
       "output_type": "stream",
       "stream": "stdout",
       "text": [
        "\n",
        "[[ 0.01  0.    0.09  0.03  0.05 -0.54  0.    0.37]]\n",
        "[[ 0.01  0.    0.09  0.03  0.06 -0.54  0.    0.37]]\n",
        "[[ 0.01  0.    0.09  0.03  0.06 -0.55  0.    0.37]]"
       ]
      },
      {
       "output_type": "stream",
       "stream": "stdout",
       "text": [
        "\n",
        "[[ 0.01  0.    0.09  0.03  0.07 -0.55  0.    0.37]]\n",
        "[[ 0.01  0.    0.09  0.03  0.08 -0.55  0.    0.37]]\n",
        "[[ 0.01  0.    0.09  0.03  0.08 -0.56  0.    0.37]]\n",
        "[[ 0.01  0.    0.09  0.03  0.09 -0.56  0.    0.37]]\n",
        "[[ 0.01  0.    0.09  0.03  0.1  -0.56  0.    0.37]]"
       ]
      },
      {
       "output_type": "stream",
       "stream": "stdout",
       "text": [
        "\n",
        "[[ 0.02  0.    0.09  0.03  0.1  -0.56  0.    0.37]]\n",
        "[[ 0.02  0.    0.09  0.03  0.1  -0.57  0.    0.37]]\n",
        "[[ 0.02  0.    0.09  0.03  0.11 -0.57  0.    0.37]]\n",
        "[[ 0.02  0.    0.09  0.03  0.12 -0.57  0.    0.37]]"
       ]
      },
      {
       "output_type": "stream",
       "stream": "stdout",
       "text": [
        "\n",
        "[[ 0.02  0.    0.09  0.03  0.13 -0.57  0.    0.37]]\n",
        "[[ 0.02  0.    0.09  0.03  0.13 -0.58  0.    0.37]]\n",
        "[[ 0.02  0.    0.09  0.03  0.14 -0.58  0.    0.37]]\n",
        "[[ 0.02  0.    0.09  0.03  0.15 -0.58  0.    0.37]]\n",
        "[[ 0.02  0.    0.09  0.03  0.15 -0.59  0.    0.37]]"
       ]
      },
      {
       "output_type": "stream",
       "stream": "stdout",
       "text": [
        "\n",
        "[[ 0.02  0.    0.09  0.03  0.16 -0.59  0.    0.37]]\n",
        "[[ 0.02  0.    0.09  0.03  0.17 -0.59  0.    0.37]]\n",
        "[[ 0.02  0.    0.09  0.03  0.17 -0.6   0.    0.37]]"
       ]
      },
      {
       "output_type": "stream",
       "stream": "stdout",
       "text": [
        "\n",
        "[[ 0.02  0.    0.09  0.03  0.18 -0.6   0.    0.37]]\n",
        "[[ 0.02  0.    0.09  0.03  0.19 -0.6   0.    0.37]]\n",
        "[[ 0.03  0.    0.09  0.03  0.19 -0.6   0.    0.37]]\n",
        "[[ 0.03  0.    0.09  0.03  0.19 -0.61  0.    0.37]]"
       ]
      },
      {
       "output_type": "stream",
       "stream": "stdout",
       "text": [
        "\n",
        "[[ 0.03  0.    0.09  0.03  0.2  -0.61  0.    0.37]]\n",
        "[[ 0.03  0.    0.09  0.03  0.21 -0.61  0.    0.37]]\n",
        "[[ 0.04  0.    0.09  0.03  0.21 -0.61  0.    0.37]]\n",
        "[[ 0.04  0.    0.09  0.03  0.22 -0.61  0.    0.37]]"
       ]
      },
      {
       "output_type": "stream",
       "stream": "stdout",
       "text": [
        "\n",
        "[[ 0.04  0.    0.09  0.03  0.22 -0.62  0.    0.37]]\n",
        "[[ 0.04  0.    0.09  0.03  0.23 -0.62  0.    0.37]]\n",
        "[[ 0.04  0.    0.09  0.03  0.24 -0.62  0.    0.37]]\n",
        "[[ 0.04  0.    0.09  0.03  0.24 -0.63  0.    0.37]]\n",
        "[[ 0.04  0.    0.09  0.03  0.25 -0.63  0.    0.37]]"
       ]
      },
      {
       "output_type": "stream",
       "stream": "stdout",
       "text": [
        "\n",
        "[[ 0.04  0.    0.09  0.03  0.26 -0.63  0.    0.37]]\n",
        "[[ 0.04  0.    0.09  0.03  0.26 -0.63  0.    0.36]]\n",
        "[[ 0.04  0.    0.09  0.03  0.27 -0.63  0.    0.36]]\n",
        "[[ 0.04  0.    0.09  0.03  0.28 -0.63  0.    0.36]]"
       ]
      },
      {
       "output_type": "stream",
       "stream": "stdout",
       "text": [
        "\n",
        "[[ 0.04  0.    0.09  0.03  0.29 -0.63  0.    0.36]]\n",
        "[[ 0.04  0.    0.09  0.03  0.29 -0.64  0.    0.36]]\n",
        "[[ 0.04  0.    0.09  0.03  0.3  -0.64  0.    0.36]]\n",
        "[[ 0.04  0.    0.09  0.03  0.31 -0.64  0.    0.36]]"
       ]
      },
      {
       "output_type": "stream",
       "stream": "stdout",
       "text": [
        "\n",
        "[[ 0.05  0.    0.09  0.03  0.31 -0.64  0.    0.36]]\n",
        "[[ 0.04  0.    0.09  0.03  0.31 -0.64  0.    0.36]]\n",
        "[[ 0.05  0.    0.09  0.03  0.31 -0.64  0.    0.36]]\n",
        "[[ 0.04  0.    0.09  0.03  0.31 -0.64  0.    0.36]]\n",
        "[[ 0.05  0.    0.09  0.03  0.31 -0.64  0.    0.36]]"
       ]
      },
      {
       "output_type": "stream",
       "stream": "stdout",
       "text": [
        "\n",
        "[[ 0.04  0.    0.09  0.03  0.31 -0.64  0.    0.36]]\n",
        "[[ 0.05  0.    0.09  0.03  0.31 -0.64  0.    0.36]]\n",
        "[[ 0.04  0.    0.09  0.03  0.31 -0.64  0.    0.36]]\n",
        "[[ 0.05  0.    0.09  0.03  0.31 -0.64  0.    0.36]]"
       ]
      },
      {
       "output_type": "stream",
       "stream": "stdout",
       "text": [
        "\n",
        "[[ 0.04  0.    0.09  0.03  0.31 -0.64  0.    0.36]]\n",
        "[[ 0.05  0.    0.09  0.03  0.31 -0.64  0.    0.36]]\n",
        "[[ 0.04  0.    0.09  0.03  0.31 -0.64  0.    0.36]]"
       ]
      },
      {
       "output_type": "stream",
       "stream": "stdout",
       "text": [
        "\n",
        "[[ 0.05  0.    0.09  0.03  0.31 -0.64  0.    0.36]]\n",
        "[[ 0.04  0.    0.09  0.03  0.31 -0.64  0.    0.36]]\n",
        "[[ 0.05  0.    0.09  0.03  0.31 -0.64  0.    0.36]]\n",
        "[[ 0.04  0.    0.09  0.03  0.31 -0.64  0.    0.36]]"
       ]
      },
      {
       "output_type": "stream",
       "stream": "stdout",
       "text": [
        "\n",
        "[[ 0.05  0.    0.09  0.03  0.31 -0.64  0.    0.36]]\n",
        "[[ 0.04  0.    0.09  0.03  0.31 -0.64  0.    0.36]]"
       ]
      },
      {
       "output_type": "stream",
       "stream": "stdout",
       "text": [
        "\n",
        "[[ 0.05  0.    0.09  0.03  0.31 -0.64  0.    0.36]]\n",
        "[[ 0.04  0.    0.09  0.03  0.31 -0.64  0.    0.36]]\n",
        "[[ 0.05  0.    0.09  0.03  0.31 -0.64  0.    0.36]]"
       ]
      },
      {
       "output_type": "stream",
       "stream": "stdout",
       "text": [
        "\n",
        "[[ 0.04  0.    0.09  0.03  0.31 -0.64  0.    0.36]]\n",
        "[[ 0.05  0.    0.09  0.03  0.31 -0.64  0.    0.36]]"
       ]
      },
      {
       "output_type": "stream",
       "stream": "stdout",
       "text": [
        "\n",
        "[[ 0.04  0.    0.09  0.03  0.31 -0.64  0.    0.36]]\n",
        "[[ 0.05  0.    0.09  0.03  0.31 -0.64  0.    0.36]]"
       ]
      },
      {
       "output_type": "stream",
       "stream": "stdout",
       "text": [
        "\n",
        "[[ 0.04  0.    0.09  0.03  0.31 -0.64  0.    0.36]]\n",
        "[[ 0.05  0.    0.09  0.03  0.31 -0.64  0.    0.36]]\n",
        "[[ 0.04  0.    0.09  0.03  0.31 -0.64  0.    0.36]]\n",
        "[[ 0.05  0.    0.09  0.03  0.31 -0.64  0.    0.36]]\n",
        "[[ 0.04  0.    0.09  0.03  0.31 -0.64  0.    0.36]]"
       ]
      },
      {
       "output_type": "stream",
       "stream": "stdout",
       "text": [
        "\n",
        "[[ 0.05  0.    0.09  0.03  0.31 -0.64  0.    0.36]]\n",
        "[[ 0.04  0.    0.09  0.03  0.31 -0.64  0.    0.36]]\n",
        "[[ 0.05  0.    0.09  0.03  0.31 -0.64  0.    0.36]]\n",
        "[[ 0.04  0.    0.09  0.03  0.31 -0.64  0.    0.36]]"
       ]
      },
      {
       "output_type": "stream",
       "stream": "stdout",
       "text": [
        "\n",
        "[[ 0.05  0.    0.09  0.03  0.31 -0.64  0.    0.36]]\n",
        "[[ 0.04  0.    0.09  0.03  0.31 -0.64  0.    0.36]]\n",
        "[[ 0.05  0.    0.09  0.03  0.31 -0.64  0.    0.36]]\n",
        "[[ 0.04  0.    0.09  0.03  0.31 -0.64  0.    0.36]]\n",
        "[[ 0.05  0.    0.09  0.03  0.31 -0.64  0.    0.36]]"
       ]
      },
      {
       "output_type": "stream",
       "stream": "stdout",
       "text": [
        "\n",
        "[[ 0.04  0.    0.09  0.03  0.31 -0.64  0.    0.36]]\n",
        "[[ 0.05  0.    0.09  0.03  0.31 -0.64  0.    0.36]]\n",
        "[[ 0.04  0.    0.09  0.03  0.31 -0.64  0.    0.36]]\n",
        "[[ 0.05  0.    0.09  0.03  0.31 -0.64  0.    0.36]]"
       ]
      },
      {
       "output_type": "stream",
       "stream": "stdout",
       "text": [
        "\n",
        "[[ 0.04  0.    0.09  0.03  0.31 -0.64  0.    0.36]]\n"
       ]
      }
     ],
     "prompt_number": 30
    },
    {
     "cell_type": "markdown",
     "metadata": {},
     "source": [
      "\uc5ec\uae30\uc11c\uc758 w1\uacfc w6\uc740 \uc815\ud655\ud788 0\n",
      "<n>\n",
      "\uadf8\ub7ec\ubbc0\ub85c \uc774 \ubcc0\uc218\ub4e4\uc740 \uacb0\uacfc\uc5d0 \uae30\uc5ec\ud558\uc9c0 \uc54a\uc74c\n",
      "<n>\n",
      "==> \ud544\uc694 \uc5c6\ub294 \ubcc0\uc218\ub4e4\uc744 \uac78\ub7ec\ub0c4\n",
      "\n"
     ]
    },
    {
     "cell_type": "code",
     "collapsed": false,
     "input": [
      "regression.stageWise(xArr,yArr,0.001,5000)"
     ],
     "language": "python",
     "metadata": {},
     "outputs": [
      {
       "output_type": "stream",
       "stream": "stdout",
       "text": [
        "[[ 0.  0.  0.  0.  0.  0.  0.  0.]]\n",
        "[[ 0.     0.     0.     0.001  0.     0.     0.     0.   ]]\n",
        "[[ 0.     0.     0.     0.002  0.     0.     0.     0.   ]]\n",
        "[[ 0.     0.     0.     0.003  0.     0.     0.     0.   ]]\n",
        "[[ 0.     0.     0.     0.004  0.     0.     0.     0.   ]]"
       ]
      },
      {
       "output_type": "stream",
       "stream": "stdout",
       "text": [
        "\n",
        "[[ 0.     0.     0.     0.005  0.     0.     0.     0.   ]]\n",
        "[[ 0.     0.     0.     0.006  0.     0.     0.     0.   ]]\n",
        "[[ 0.     0.     0.     0.007  0.     0.     0.     0.   ]]\n",
        "[[ 0.     0.     0.     0.008  0.     0.     0.     0.   ]]\n",
        "[[ 0.     0.     0.     0.009  0.     0.     0.     0.   ]]"
       ]
      },
      {
       "output_type": "stream",
       "stream": "stdout",
       "text": [
        "\n",
        "[[ 0.    0.    0.    0.01  0.    0.    0.    0.  ]]\n",
        "[[ 0.     0.     0.     0.011  0.     0.     0.     0.   ]]\n",
        "[[ 0.     0.     0.     0.012  0.     0.     0.     0.   ]]"
       ]
      },
      {
       "output_type": "stream",
       "stream": "stdout",
       "text": [
        "\n",
        "[[ 0.     0.     0.     0.013  0.     0.     0.     0.   ]]\n",
        "[[ 0.     0.     0.     0.014  0.     0.     0.     0.   ]]\n",
        "[[ 0.     0.     0.     0.015  0.     0.     0.     0.   ]]"
       ]
      },
      {
       "output_type": "stream",
       "stream": "stdout",
       "text": [
        "\n",
        "[[ 0.     0.     0.     0.016  0.     0.     0.     0.   ]]\n",
        "[[ 0.     0.     0.     0.017  0.     0.     0.     0.   ]]\n",
        "[[ 0.     0.     0.     0.018  0.     0.     0.     0.   ]]"
       ]
      },
      {
       "output_type": "stream",
       "stream": "stdout",
       "text": [
        "\n",
        "[[ 0.     0.     0.     0.019  0.     0.     0.     0.   ]]\n",
        "[[ 0.    0.    0.    0.02  0.    0.    0.    0.  ]]\n",
        "[[ 0.     0.     0.     0.021  0.     0.     0.     0.   ]]\n",
        "[[ 0.     0.     0.     0.022  0.     0.     0.     0.   ]]"
       ]
      },
      {
       "output_type": "stream",
       "stream": "stdout",
       "text": [
        "\n",
        "[[ 0.     0.     0.     0.023  0.     0.     0.     0.   ]]\n",
        "[[ 0.     0.     0.     0.024  0.     0.     0.     0.   ]]\n",
        "[[ 0.     0.     0.     0.025  0.     0.     0.     0.   ]]"
       ]
      },
      {
       "output_type": "stream",
       "stream": "stdout",
       "text": [
        "\n",
        "[[ 0.     0.     0.     0.026  0.     0.     0.     0.   ]]\n",
        "[[ 0.     0.     0.     0.027  0.     0.     0.     0.   ]]\n",
        "[[ 0.     0.     0.     0.028  0.     0.     0.     0.   ]]"
       ]
      },
      {
       "output_type": "stream",
       "stream": "stdout",
       "text": [
        "\n",
        "[[ 0.     0.     0.     0.029  0.     0.     0.     0.   ]]\n",
        "[[ 0.    0.    0.    0.03  0.    0.    0.    0.  ]]\n",
        "[[ 0.     0.     0.     0.031  0.     0.     0.     0.   ]]"
       ]
      },
      {
       "output_type": "stream",
       "stream": "stdout",
       "text": [
        "\n",
        "[[ 0.     0.     0.     0.032  0.     0.     0.     0.   ]]\n",
        "[[ 0.     0.     0.     0.033  0.     0.     0.     0.   ]]"
       ]
      },
      {
       "output_type": "stream",
       "stream": "stdout",
       "text": [
        "\n",
        "[[ 0.     0.     0.     0.034  0.     0.     0.     0.   ]]\n",
        "[[ 0.     0.     0.     0.035  0.     0.     0.     0.   ]]"
       ]
      },
      {
       "output_type": "stream",
       "stream": "stdout",
       "text": [
        "\n",
        "[[ 0.     0.     0.     0.036  0.     0.     0.     0.   ]]\n",
        "[[ 0.     0.     0.     0.037  0.     0.     0.     0.   ]]"
       ]
      },
      {
       "output_type": "stream",
       "stream": "stdout",
       "text": [
        "\n",
        "[[ 0.     0.     0.     0.038  0.     0.     0.     0.   ]]\n",
        "[[ 0.     0.     0.     0.039  0.     0.     0.     0.   ]]"
       ]
      },
      {
       "output_type": "stream",
       "stream": "stdout",
       "text": [
        "\n",
        "[[ 0.    0.    0.    0.04  0.    0.    0.    0.  ]]\n",
        "[[ 0.     0.     0.     0.041  0.     0.     0.     0.   ]]"
       ]
      },
      {
       "output_type": "stream",
       "stream": "stdout",
       "text": [
        "\n",
        "[[ 0.     0.     0.     0.042  0.     0.     0.     0.   ]]\n",
        "[[ 0.     0.     0.     0.043  0.     0.     0.     0.   ]]\n",
        "[[ 0.     0.     0.     0.044  0.     0.     0.     0.   ]]"
       ]
      },
      {
       "output_type": "stream",
       "stream": "stdout",
       "text": [
        "\n",
        "[[ 0.     0.     0.     0.045  0.     0.     0.     0.   ]]\n",
        "[[ 0.     0.     0.     0.046  0.     0.     0.     0.   ]]"
       ]
      },
      {
       "output_type": "stream",
       "stream": "stdout",
       "text": [
        "\n",
        "[[ 0.     0.     0.     0.047  0.     0.     0.     0.   ]]\n",
        "[[ 0.     0.     0.     0.048  0.     0.     0.     0.   ]]"
       ]
      },
      {
       "output_type": "stream",
       "stream": "stdout",
       "text": [
        "\n",
        "[[ 0.     0.     0.     0.049  0.     0.     0.     0.   ]]\n",
        "[[ 0.    0.    0.    0.05  0.    0.    0.    0.  ]]\n",
        "[[ 0.     0.     0.     0.051  0.     0.     0.     0.   ]]\n",
        "[[ 0.     0.     0.     0.052  0.     0.     0.     0.   ]]"
       ]
      },
      {
       "output_type": "stream",
       "stream": "stdout",
       "text": [
        "\n",
        "[[ 0.     0.     0.     0.053  0.     0.     0.     0.   ]]\n",
        "[[ 0.     0.     0.     0.054  0.     0.     0.     0.   ]]\n",
        "[[ 0.     0.     0.     0.055  0.     0.     0.     0.   ]]\n",
        "[[ 0.     0.     0.     0.056  0.     0.     0.     0.   ]]"
       ]
      },
      {
       "output_type": "stream",
       "stream": "stdout",
       "text": [
        "\n",
        "[[ 0.     0.     0.     0.057  0.     0.     0.     0.   ]]\n",
        "[[ 0.     0.     0.     0.058  0.     0.     0.     0.   ]]\n",
        "[[ 0.     0.     0.     0.059  0.     0.     0.     0.   ]]"
       ]
      },
      {
       "output_type": "stream",
       "stream": "stdout",
       "text": [
        "\n",
        "[[ 0.    0.    0.    0.06  0.    0.    0.    0.  ]]\n",
        "[[ 0.     0.     0.     0.061  0.     0.     0.     0.   ]]"
       ]
      },
      {
       "output_type": "stream",
       "stream": "stdout",
       "text": [
        "\n",
        "[[ 0.     0.     0.     0.062  0.     0.     0.     0.   ]]\n",
        "[[ 0.     0.     0.     0.063  0.     0.     0.     0.   ]]"
       ]
      },
      {
       "output_type": "stream",
       "stream": "stdout",
       "text": [
        "\n",
        "[[ 0.     0.     0.     0.064  0.     0.     0.     0.   ]]\n",
        "[[ 0.     0.     0.     0.065  0.     0.     0.     0.   ]]\n",
        "[[ 0.     0.     0.001  0.065  0.     0.     0.     0.   ]]"
       ]
      },
      {
       "output_type": "stream",
       "stream": "stdout",
       "text": [
        "\n",
        "[[ 0.     0.     0.002  0.065  0.     0.     0.     0.   ]]\n",
        "[[ 0.     0.     0.003  0.065  0.     0.     0.     0.   ]]"
       ]
      },
      {
       "output_type": "stream",
       "stream": "stdout",
       "text": [
        "\n",
        "[[ 0.     0.     0.004  0.065  0.     0.     0.     0.   ]]\n",
        "[[ 0.     0.     0.005  0.065  0.     0.     0.     0.   ]]"
       ]
      },
      {
       "output_type": "stream",
       "stream": "stdout",
       "text": [
        "\n",
        "[[ 0.     0.     0.005  0.065  0.     0.     0.     0.001]]"
       ]
      },
      {
       "output_type": "stream",
       "stream": "stdout",
       "text": [
        "\n",
        "[[ 0.     0.     0.005  0.065  0.     0.     0.     0.002]]"
       ]
      },
      {
       "output_type": "stream",
       "stream": "stdout",
       "text": [
        "\n",
        "[[ 0.     0.     0.005  0.065  0.     0.     0.     0.003]]\n",
        "[[ 0.     0.     0.005  0.065  0.     0.     0.     0.004]]\n",
        "[[ 0.     0.     0.005  0.065  0.     0.     0.     0.005]]\n",
        "[[ 0.     0.     0.005  0.065  0.     0.     0.     0.006]]"
       ]
      },
      {
       "output_type": "stream",
       "stream": "stdout",
       "text": [
        "\n",
        "[[ 0.     0.     0.005  0.065  0.     0.     0.     0.007]]\n",
        "[[ 0.     0.     0.005  0.065  0.     0.     0.     0.008]]\n",
        "[[ 0.     0.     0.005  0.065  0.     0.     0.     0.009]]"
       ]
      },
      {
       "output_type": "stream",
       "stream": "stdout",
       "text": [
        "\n",
        "[[ 0.     0.     0.005  0.065  0.     0.     0.     0.01 ]]\n",
        "[[ 0.     0.     0.005  0.065  0.     0.     0.     0.011]]\n",
        "[[ 0.     0.     0.005  0.065  0.     0.     0.     0.012]]"
       ]
      },
      {
       "output_type": "stream",
       "stream": "stdout",
       "text": [
        "\n",
        "[[ 0.     0.     0.005  0.065  0.     0.     0.     0.013]]\n",
        "[[ 0.     0.     0.005  0.065  0.     0.     0.     0.014]]"
       ]
      },
      {
       "output_type": "stream",
       "stream": "stdout",
       "text": [
        "\n",
        "[[ 0.     0.     0.005  0.065  0.     0.     0.     0.015]]\n",
        "[[ 0.     0.     0.005  0.065  0.     0.     0.     0.016]]"
       ]
      },
      {
       "output_type": "stream",
       "stream": "stdout",
       "text": [
        "\n",
        "[[ 0.     0.     0.005  0.065  0.     0.     0.     0.017]]\n",
        "[[ 0.     0.     0.005  0.065  0.     0.     0.     0.018]]\n",
        "[[ 0.     0.     0.005  0.065  0.     0.     0.     0.019]]"
       ]
      },
      {
       "output_type": "stream",
       "stream": "stdout",
       "text": [
        "\n",
        "[[ 0.     0.     0.005  0.065  0.     0.     0.     0.02 ]]\n",
        "[[ 0.     0.     0.005  0.065  0.     0.     0.     0.021]]\n",
        "[[ 0.     0.     0.005  0.065  0.     0.     0.     0.022]]"
       ]
      },
      {
       "output_type": "stream",
       "stream": "stdout",
       "text": [
        "\n",
        "[[ 0.     0.     0.005  0.065  0.     0.     0.     0.023]]\n",
        "[[ 0.     0.     0.005  0.065  0.     0.     0.     0.024]]\n",
        "[[ 0.     0.     0.005  0.065  0.     0.     0.     0.025]]"
       ]
      },
      {
       "output_type": "stream",
       "stream": "stdout",
       "text": [
        "\n",
        "[[ 0.     0.     0.005  0.065  0.     0.     0.     0.026]]"
       ]
      },
      {
       "output_type": "stream",
       "stream": "stdout",
       "text": [
        "\n",
        "[[ 0.     0.     0.005  0.065  0.     0.     0.     0.027]]\n",
        "[[ 0.     0.     0.005  0.065  0.     0.     0.     0.028]]\n",
        "[[ 0.     0.     0.005  0.065  0.     0.     0.     0.029]]\n",
        "[[ 0.     0.     0.005  0.065  0.     0.     0.     0.03 ]]"
       ]
      },
      {
       "output_type": "stream",
       "stream": "stdout",
       "text": [
        "\n",
        "[[ 0.     0.     0.005  0.065  0.     0.     0.     0.031]]\n",
        "[[ 0.     0.     0.005  0.065  0.     0.     0.     0.032]]"
       ]
      },
      {
       "output_type": "stream",
       "stream": "stdout",
       "text": [
        "\n",
        "[[ 0.     0.     0.005  0.065  0.     0.     0.     0.033]]\n",
        "[[ 0.     0.     0.005  0.065  0.     0.     0.     0.034]]"
       ]
      },
      {
       "output_type": "stream",
       "stream": "stdout",
       "text": [
        "\n",
        "[[ 0.     0.     0.005  0.065  0.     0.     0.     0.035]]\n",
        "[[ 0.     0.     0.005  0.065  0.     0.     0.     0.036]]"
       ]
      },
      {
       "output_type": "stream",
       "stream": "stdout",
       "text": [
        "\n",
        "[[ 0.     0.     0.005  0.065  0.     0.     0.     0.037]]\n",
        "[[ 0.     0.     0.005  0.065  0.     0.     0.     0.038]]\n",
        "[[ 0.     0.     0.005  0.065  0.     0.     0.     0.039]]"
       ]
      },
      {
       "output_type": "stream",
       "stream": "stdout",
       "text": [
        "\n",
        "[[ 0.     0.     0.005  0.065  0.     0.     0.     0.04 ]]"
       ]
      },
      {
       "output_type": "stream",
       "stream": "stdout",
       "text": [
        "\n",
        "[[ 0.     0.     0.005  0.065  0.     0.     0.     0.041]]\n",
        "[[ 0.     0.     0.005  0.065  0.     0.     0.     0.042]]\n",
        "[[ 0.     0.     0.005  0.065  0.     0.     0.     0.043]]"
       ]
      },
      {
       "output_type": "stream",
       "stream": "stdout",
       "text": [
        "\n",
        "[[ 0.     0.     0.005  0.065  0.     0.     0.     0.044]]\n",
        "[[ 0.     0.     0.005  0.065  0.     0.     0.     0.045]]\n",
        "[[ 0.     0.     0.005  0.065  0.     0.     0.     0.046]]"
       ]
      },
      {
       "output_type": "stream",
       "stream": "stdout",
       "text": [
        "\n",
        "[[ 0.     0.     0.005  0.065  0.     0.     0.     0.047]]\n",
        "[[ 0.     0.     0.005  0.065  0.     0.     0.     0.048]]"
       ]
      },
      {
       "output_type": "stream",
       "stream": "stdout",
       "text": [
        "\n",
        "[[ 0.     0.     0.005  0.065  0.     0.     0.     0.049]]"
       ]
      },
      {
       "output_type": "stream",
       "stream": "stdout",
       "text": [
        "\n",
        "[[ 0.     0.     0.005  0.065  0.     0.     0.     0.05 ]]\n",
        "[[ 0.     0.     0.005  0.065  0.     0.     0.     0.051]]\n",
        "[[ 0.     0.     0.005  0.065  0.     0.     0.     0.052]]"
       ]
      },
      {
       "output_type": "stream",
       "stream": "stdout",
       "text": [
        "\n",
        "[[ 0.     0.     0.005  0.065  0.     0.     0.     0.053]]\n",
        "[[ 0.     0.     0.005  0.064  0.     0.     0.     0.053]]\n",
        "[[ 0.     0.     0.005  0.064  0.     0.     0.     0.054]]"
       ]
      },
      {
       "output_type": "stream",
       "stream": "stdout",
       "text": [
        "\n",
        "[[ 0.     0.     0.005  0.064  0.     0.     0.     0.055]]\n",
        "[[ 0.     0.     0.005  0.064  0.     0.     0.     0.056]]\n",
        "[[ 0.     0.     0.005  0.064  0.     0.     0.     0.057]]\n",
        "[[ 0.     0.     0.005  0.063  0.     0.     0.     0.057]]\n",
        "[[ 0.     0.     0.005  0.063  0.     0.     0.     0.058]]"
       ]
      },
      {
       "output_type": "stream",
       "stream": "stdout",
       "text": [
        "\n",
        "[[ 0.     0.     0.005  0.063  0.     0.     0.     0.059]]\n",
        "[[ 0.     0.     0.005  0.063  0.     0.     0.     0.06 ]]\n",
        "[[ 0.     0.     0.005  0.063  0.     0.     0.     0.061]]\n",
        "[[ 0.     0.     0.005  0.062  0.     0.     0.     0.061]]\n",
        "[[ 0.     0.     0.005  0.062  0.     0.     0.     0.062]]"
       ]
      },
      {
       "output_type": "stream",
       "stream": "stdout",
       "text": [
        "\n",
        "[[ 0.     0.     0.005  0.062  0.     0.     0.     0.063]]\n",
        "[[ 0.     0.     0.005  0.062  0.     0.     0.     0.064]]\n",
        "[[ 0.     0.     0.005  0.061  0.     0.     0.     0.064]]\n",
        "[[ 0.     0.     0.005  0.061  0.     0.     0.     0.065]]"
       ]
      },
      {
       "output_type": "stream",
       "stream": "stdout",
       "text": [
        "\n",
        "[[ 0.     0.     0.005  0.061  0.     0.     0.     0.066]]\n",
        "[[ 0.     0.     0.005  0.061  0.     0.     0.     0.067]]"
       ]
      },
      {
       "output_type": "stream",
       "stream": "stdout",
       "text": [
        "\n",
        "[[ 0.     0.     0.005  0.061  0.     0.     0.     0.068]]\n",
        "[[ 0.     0.     0.005  0.06   0.     0.     0.     0.068]]\n",
        "[[ 0.     0.     0.005  0.06   0.     0.     0.     0.069]]\n",
        "[[ 0.     0.     0.005  0.06   0.     0.     0.     0.07 ]]"
       ]
      },
      {
       "output_type": "stream",
       "stream": "stdout",
       "text": [
        "\n",
        "[[ 0.     0.     0.005  0.06   0.     0.     0.     0.071]]\n",
        "[[ 0.     0.     0.005  0.06   0.     0.     0.     0.072]]"
       ]
      },
      {
       "output_type": "stream",
       "stream": "stdout",
       "text": [
        "\n",
        "[[ 0.     0.     0.005  0.059  0.     0.     0.     0.072]]\n",
        "[[ 0.     0.     0.005  0.059  0.     0.     0.     0.073]]"
       ]
      },
      {
       "output_type": "stream",
       "stream": "stdout",
       "text": [
        "\n",
        "[[ 0.     0.     0.005  0.059  0.     0.     0.     0.074]]\n",
        "[[ 0.     0.     0.005  0.059  0.     0.     0.     0.075]]\n",
        "[[ 0.     0.     0.005  0.059  0.     0.     0.     0.076]]\n",
        "[[ 0.     0.     0.005  0.058  0.     0.     0.     0.076]]"
       ]
      },
      {
       "output_type": "stream",
       "stream": "stdout",
       "text": [
        "\n",
        "[[ 0.     0.     0.005  0.058  0.     0.     0.     0.077]]\n",
        "[[ 0.     0.     0.005  0.058  0.     0.     0.     0.078]]\n",
        "[[ 0.     0.     0.005  0.058  0.     0.     0.     0.079]]"
       ]
      },
      {
       "output_type": "stream",
       "stream": "stdout",
       "text": [
        "\n",
        "[[ 0.     0.     0.005  0.057  0.     0.     0.     0.079]]\n",
        "[[ 0.     0.     0.005  0.057  0.     0.     0.     0.08 ]]\n",
        "[[ 0.     0.     0.005  0.057  0.     0.     0.     0.081]]"
       ]
      },
      {
       "output_type": "stream",
       "stream": "stdout",
       "text": [
        "\n",
        "[[ 0.     0.     0.005  0.057  0.     0.     0.     0.082]]\n",
        "[[ 0.     0.     0.005  0.057  0.     0.     0.     0.083]]\n",
        "[[ 0.     0.     0.005  0.056  0.     0.     0.     0.083]]\n",
        "[[ 0.     0.     0.005  0.056  0.     0.     0.     0.084]]"
       ]
      },
      {
       "output_type": "stream",
       "stream": "stdout",
       "text": [
        "\n",
        "[[ 0.     0.     0.005  0.056  0.     0.     0.     0.085]]\n",
        "[[ 0.     0.     0.005  0.056  0.     0.     0.     0.086]]\n",
        "[[ 0.     0.     0.005  0.056  0.     0.     0.     0.087]]\n",
        "[[ 0.     0.     0.005  0.055  0.     0.     0.     0.087]]"
       ]
      },
      {
       "output_type": "stream",
       "stream": "stdout",
       "text": [
        "\n",
        "[[ 0.     0.     0.005  0.055  0.     0.     0.     0.088]]\n",
        "[[ 0.     0.     0.005  0.055  0.     0.     0.     0.089]]\n",
        "[[ 0.     0.     0.005  0.055  0.     0.     0.     0.09 ]]\n",
        "[[ 0.     0.     0.005  0.054  0.     0.     0.     0.09 ]]"
       ]
      },
      {
       "output_type": "stream",
       "stream": "stdout",
       "text": [
        "\n",
        "[[ 0.     0.     0.005  0.054  0.     0.     0.     0.091]]\n",
        "[[ 0.     0.     0.005  0.054  0.     0.     0.     0.092]]\n",
        "[[ 0.     0.     0.005  0.054  0.     0.     0.     0.093]]\n",
        "[[ 0.     0.     0.005  0.054  0.     0.     0.     0.094]]"
       ]
      },
      {
       "output_type": "stream",
       "stream": "stdout",
       "text": [
        "\n",
        "[[ 0.     0.     0.005  0.053  0.     0.     0.     0.094]]\n",
        "[[ 0.     0.     0.005  0.053  0.     0.     0.     0.095]]\n",
        "[[ 0.     0.     0.005  0.053  0.     0.     0.     0.096]]\n",
        "[[ 0.     0.     0.005  0.053  0.     0.     0.     0.097]]\n",
        "[[ 0.     0.     0.005  0.053  0.     0.     0.     0.098]]"
       ]
      },
      {
       "output_type": "stream",
       "stream": "stdout",
       "text": [
        "\n",
        "[[ 0.     0.     0.005  0.052  0.     0.     0.     0.098]]\n",
        "[[ 0.     0.     0.005  0.052  0.     0.     0.     0.099]]\n",
        "[[ 0.     0.     0.005  0.052  0.     0.     0.     0.1  ]]\n",
        "[[ 0.     0.     0.005  0.052  0.     0.     0.     0.101]]\n",
        "[[ 0.     0.     0.005  0.052  0.     0.     0.     0.102]]\n",
        "[[ 0.     0.     0.005  0.051  0.     0.     0.     0.102]]"
       ]
      },
      {
       "output_type": "stream",
       "stream": "stdout",
       "text": [
        "\n",
        "[[ 0.     0.     0.005  0.051  0.     0.     0.     0.103]]\n",
        "[[ 0.     0.     0.005  0.051  0.     0.     0.     0.104]]\n",
        "[[ 0.     0.     0.005  0.051  0.     0.     0.     0.105]]\n",
        "[[ 0.     0.     0.005  0.05   0.     0.     0.     0.105]]"
       ]
      },
      {
       "output_type": "stream",
       "stream": "stdout",
       "text": [
        "\n",
        "[[ 0.     0.     0.005  0.05   0.     0.     0.     0.106]]\n",
        "[[ 0.     0.     0.005  0.05   0.     0.     0.     0.107]]\n",
        "[[ 0.     0.     0.005  0.05   0.     0.     0.     0.108]]\n",
        "[[ 0.     0.     0.005  0.05   0.     0.     0.     0.109]]"
       ]
      },
      {
       "output_type": "stream",
       "stream": "stdout",
       "text": [
        "\n",
        "[[ 0.     0.     0.005  0.049  0.     0.     0.     0.109]]\n",
        "[[ 0.     0.     0.005  0.049  0.     0.     0.     0.11 ]]\n",
        "[[ 0.     0.     0.005  0.049  0.     0.     0.     0.111]]"
       ]
      },
      {
       "output_type": "stream",
       "stream": "stdout",
       "text": [
        "\n",
        "[[ 0.     0.     0.005  0.049  0.     0.     0.     0.112]]\n",
        "[[ 0.     0.     0.005  0.049  0.     0.     0.     0.113]]\n",
        "[[ 0.     0.     0.005  0.048  0.     0.     0.     0.113]]"
       ]
      },
      {
       "output_type": "stream",
       "stream": "stdout",
       "text": [
        "\n",
        "[[ 0.     0.     0.005  0.048  0.     0.     0.     0.114]]\n",
        "[[ 0.     0.     0.005  0.048  0.     0.     0.     0.115]]\n",
        "[[ 0.     0.     0.005  0.048  0.     0.     0.     0.116]]\n",
        "[[ 0.     0.     0.005  0.047  0.     0.     0.     0.116]]\n",
        "[[ 0.     0.     0.005  0.047  0.     0.     0.     0.117]]"
       ]
      },
      {
       "output_type": "stream",
       "stream": "stdout",
       "text": [
        "\n",
        "[[ 0.     0.     0.005  0.047  0.     0.     0.     0.118]]\n",
        "[[ 0.     0.     0.005  0.047  0.     0.     0.     0.119]]\n",
        "[[ 0.     0.     0.005  0.047  0.     0.     0.     0.12 ]]"
       ]
      },
      {
       "output_type": "stream",
       "stream": "stdout",
       "text": [
        "\n",
        "[[ 0.     0.     0.005  0.046  0.     0.     0.     0.12 ]]\n",
        "[[ 0.     0.     0.005  0.046  0.     0.     0.     0.121]]\n",
        "[[ 0.     0.     0.005  0.046  0.     0.     0.     0.122]]\n",
        "[[ 0.     0.     0.005  0.046  0.     0.     0.     0.123]]"
       ]
      },
      {
       "output_type": "stream",
       "stream": "stdout",
       "text": [
        "\n",
        "[[ 0.     0.     0.005  0.046  0.    -0.001  0.     0.123]]\n",
        "[[ 0.     0.     0.005  0.046  0.    -0.002  0.     0.123]]\n",
        "[[ 0.     0.     0.005  0.046  0.    -0.002  0.     0.124]]\n",
        "[[ 0.     0.     0.005  0.046  0.    -0.003  0.     0.124]]\n",
        "[[ 0.     0.     0.005  0.046  0.    -0.003  0.     0.125]]"
       ]
      },
      {
       "output_type": "stream",
       "stream": "stdout",
       "text": [
        "\n",
        "[[ 0.     0.     0.005  0.046  0.    -0.004  0.     0.125]]\n",
        "[[ 0.     0.     0.005  0.046  0.    -0.005  0.     0.125]]\n",
        "[[ 0.     0.     0.005  0.046  0.    -0.005  0.     0.126]]\n",
        "[[ 0.     0.     0.005  0.046  0.    -0.006  0.     0.126]]\n",
        "[[ 0.     0.     0.005  0.046  0.    -0.007  0.     0.126]]"
       ]
      },
      {
       "output_type": "stream",
       "stream": "stdout",
       "text": [
        "\n",
        "[[ 0.     0.     0.005  0.046  0.    -0.007  0.     0.127]]\n",
        "[[ 0.     0.     0.005  0.046  0.    -0.008  0.     0.127]]\n",
        "[[ 0.     0.     0.005  0.046  0.    -0.008  0.     0.128]]\n",
        "[[ 0.     0.     0.005  0.046  0.    -0.009  0.     0.128]]\n",
        "[[ 0.     0.     0.005  0.046  0.    -0.01   0.     0.128]]"
       ]
      },
      {
       "output_type": "stream",
       "stream": "stdout",
       "text": [
        "\n",
        "[[ 0.     0.     0.005  0.046  0.    -0.01   0.     0.129]]\n",
        "[[ 0.     0.     0.005  0.046  0.    -0.011  0.     0.129]]\n",
        "[[ 0.     0.     0.005  0.046  0.    -0.012  0.     0.129]]\n",
        "[[ 0.     0.     0.005  0.046  0.    -0.012  0.     0.13 ]]"
       ]
      },
      {
       "output_type": "stream",
       "stream": "stdout",
       "text": [
        "\n",
        "[[ 0.     0.     0.005  0.046  0.    -0.013  0.     0.13 ]]\n",
        "[[ 0.     0.     0.005  0.046  0.    -0.013  0.     0.131]]\n",
        "[[ 0.     0.     0.005  0.046  0.    -0.014  0.     0.131]]\n",
        "[[ 0.     0.     0.005  0.046  0.    -0.015  0.     0.131]]\n",
        "[[ 0.     0.     0.005  0.046  0.    -0.015  0.     0.132]]"
       ]
      },
      {
       "output_type": "stream",
       "stream": "stdout",
       "text": [
        "\n",
        "[[ 0.     0.     0.005  0.046  0.    -0.016  0.     0.132]]\n",
        "[[ 0.     0.     0.005  0.046  0.    -0.016  0.     0.133]]\n",
        "[[ 0.     0.     0.005  0.046  0.    -0.017  0.     0.133]]\n",
        "[[ 0.     0.     0.005  0.046  0.    -0.018  0.     0.133]]"
       ]
      },
      {
       "output_type": "stream",
       "stream": "stdout",
       "text": [
        "\n",
        "[[ 0.     0.     0.005  0.046  0.    -0.018  0.     0.134]]\n",
        "[[ 0.     0.     0.005  0.046  0.    -0.019  0.     0.134]]\n",
        "[[ 0.     0.     0.005  0.046  0.    -0.02   0.     0.134]]\n",
        "[[ 0.     0.     0.005  0.046  0.    -0.02   0.     0.135]]"
       ]
      },
      {
       "output_type": "stream",
       "stream": "stdout",
       "text": [
        "\n",
        "[[ 0.     0.     0.005  0.046  0.    -0.021  0.     0.135]]"
       ]
      },
      {
       "output_type": "stream",
       "stream": "stdout",
       "text": [
        "\n",
        "[[ 0.     0.     0.005  0.046  0.    -0.021  0.     0.136]]\n",
        "[[ 0.     0.     0.005  0.045  0.    -0.021  0.     0.136]]"
       ]
      },
      {
       "output_type": "stream",
       "stream": "stdout",
       "text": [
        "\n",
        "[[ 0.     0.     0.005  0.045  0.    -0.021  0.     0.137]]\n",
        "[[ 0.     0.     0.005  0.045  0.    -0.021  0.     0.138]]\n",
        "[[ 0.     0.     0.005  0.045  0.    -0.022  0.     0.138]]\n",
        "[[ 0.     0.     0.005  0.045  0.    -0.022  0.     0.139]]"
       ]
      },
      {
       "output_type": "stream",
       "stream": "stdout",
       "text": [
        "\n",
        "[[ 0.     0.     0.005  0.045  0.    -0.023  0.     0.139]]\n",
        "[[ 0.     0.     0.005  0.045  0.    -0.023  0.     0.14 ]]\n",
        "[[ 0.     0.     0.005  0.045  0.    -0.024  0.     0.14 ]]"
       ]
      },
      {
       "output_type": "stream",
       "stream": "stdout",
       "text": [
        "\n",
        "[[ 0.     0.     0.005  0.045  0.    -0.025  0.     0.14 ]]\n",
        "[[ 0.     0.     0.005  0.045  0.    -0.025  0.     0.141]]\n",
        "[[ 0.     0.     0.005  0.045  0.    -0.026  0.     0.141]]\n",
        "[[ 0.     0.     0.005  0.045  0.    -0.027  0.     0.141]]\n",
        "[[ 0.     0.     0.005  0.045  0.    -0.027  0.     0.142]]"
       ]
      },
      {
       "output_type": "stream",
       "stream": "stdout",
       "text": [
        "\n",
        "[[ 0.     0.     0.005  0.045  0.    -0.028  0.     0.142]]\n",
        "[[ 0.     0.     0.005  0.045  0.    -0.028  0.     0.143]]\n",
        "[[ 0.     0.     0.005  0.045  0.    -0.029  0.     0.143]]\n",
        "[[ 0.     0.     0.005  0.045  0.    -0.03   0.     0.143]]"
       ]
      },
      {
       "output_type": "stream",
       "stream": "stdout",
       "text": [
        "\n",
        "[[ 0.     0.     0.005  0.045  0.    -0.03   0.     0.144]]\n",
        "[[ 0.     0.     0.005  0.045  0.    -0.031  0.     0.144]]\n",
        "[[ 0.     0.     0.005  0.045  0.    -0.032  0.     0.144]]"
       ]
      },
      {
       "output_type": "stream",
       "stream": "stdout",
       "text": [
        "\n",
        "[[ 0.     0.     0.005  0.045  0.    -0.032  0.     0.145]]\n",
        "[[ 0.     0.     0.005  0.045  0.    -0.033  0.     0.145]]\n",
        "[[ 0.     0.     0.005  0.045  0.    -0.033  0.     0.146]]"
       ]
      },
      {
       "output_type": "stream",
       "stream": "stdout",
       "text": [
        "\n",
        "[[ 0.     0.     0.005  0.045  0.    -0.034  0.     0.146]]\n",
        "[[ 0.     0.     0.005  0.045  0.    -0.035  0.     0.146]]\n",
        "[[ 0.     0.     0.005  0.045  0.    -0.035  0.     0.147]]"
       ]
      },
      {
       "output_type": "stream",
       "stream": "stdout",
       "text": [
        "\n",
        "[[ 0.     0.     0.005  0.045  0.    -0.036  0.     0.147]]\n",
        "[[ 0.     0.     0.005  0.045  0.    -0.037  0.     0.147]]\n",
        "[[ 0.     0.     0.005  0.045  0.    -0.037  0.     0.148]]"
       ]
      },
      {
       "output_type": "stream",
       "stream": "stdout",
       "text": [
        "\n",
        "[[ 0.     0.     0.005  0.045  0.    -0.038  0.     0.148]]\n",
        "[[ 0.     0.     0.005  0.045  0.    -0.038  0.     0.149]]\n",
        "[[ 0.     0.     0.005  0.045  0.    -0.039  0.     0.149]]\n",
        "[[ 0.     0.     0.005  0.045  0.    -0.04   0.     0.149]]"
       ]
      },
      {
       "output_type": "stream",
       "stream": "stdout",
       "text": [
        "\n",
        "[[ 0.     0.     0.005  0.045  0.    -0.04   0.     0.15 ]]\n",
        "[[ 0.     0.     0.005  0.045  0.    -0.041  0.     0.15 ]]\n",
        "[[ 0.     0.     0.005  0.045  0.    -0.041  0.     0.151]]\n",
        "[[ 0.     0.     0.005  0.045  0.    -0.042  0.     0.151]]"
       ]
      },
      {
       "output_type": "stream",
       "stream": "stdout",
       "text": [
        "\n",
        "[[ 0.     0.     0.005  0.045  0.    -0.043  0.     0.151]]\n",
        "[[ 0.     0.     0.005  0.045  0.    -0.043  0.     0.152]]"
       ]
      },
      {
       "output_type": "stream",
       "stream": "stdout",
       "text": [
        "\n",
        "[[ 0.     0.     0.005  0.045  0.    -0.044  0.     0.152]]\n",
        "[[ 0.     0.     0.005  0.045  0.    -0.045  0.     0.152]]\n",
        "[[ 0.     0.     0.005  0.045  0.    -0.045  0.     0.153]]\n",
        "[[ 0.     0.     0.005  0.045  0.    -0.046  0.     0.153]]\n",
        "[[ 0.     0.     0.005  0.045  0.    -0.046  0.     0.154]]"
       ]
      },
      {
       "output_type": "stream",
       "stream": "stdout",
       "text": [
        "\n",
        "[[ 0.     0.     0.005  0.045  0.    -0.047  0.     0.154]]\n",
        "[[ 0.     0.     0.005  0.045  0.    -0.048  0.     0.154]]\n",
        "[[ 0.     0.     0.005  0.045  0.    -0.048  0.     0.155]]\n",
        "[[ 0.     0.     0.005  0.045  0.    -0.049  0.     0.155]]"
       ]
      },
      {
       "output_type": "stream",
       "stream": "stdout",
       "text": [
        "\n",
        "[[ 0.     0.     0.005  0.045  0.    -0.05   0.     0.155]]\n",
        "[[ 0.     0.     0.005  0.045  0.    -0.05   0.     0.156]]\n",
        "[[ 0.     0.     0.005  0.045  0.    -0.051  0.     0.156]]\n",
        "[[ 0.     0.     0.005  0.045  0.    -0.051  0.     0.157]]"
       ]
      },
      {
       "output_type": "stream",
       "stream": "stdout",
       "text": [
        "\n",
        "[[ 0.     0.     0.005  0.045  0.    -0.052  0.     0.157]]\n",
        "[[ 0.     0.     0.005  0.045  0.    -0.053  0.     0.157]]\n",
        "[[ 0.     0.     0.005  0.045  0.    -0.053  0.     0.158]]\n",
        "[[ 0.     0.     0.005  0.045  0.    -0.054  0.     0.158]]\n",
        "[[ 0.     0.     0.005  0.045  0.    -0.055  0.     0.158]]"
       ]
      },
      {
       "output_type": "stream",
       "stream": "stdout",
       "text": [
        "\n",
        "[[ 0.     0.     0.005  0.045  0.    -0.055  0.     0.159]]\n",
        "[[ 0.     0.     0.005  0.045  0.    -0.056  0.     0.159]]\n",
        "[[ 0.     0.     0.005  0.045  0.    -0.056  0.     0.16 ]]\n",
        "[[ 0.     0.     0.005  0.045  0.    -0.057  0.     0.16 ]]"
       ]
      },
      {
       "output_type": "stream",
       "stream": "stdout",
       "text": [
        "\n",
        "[[ 0.     0.     0.005  0.045  0.    -0.058  0.     0.16 ]]\n",
        "[[ 0.     0.     0.005  0.045  0.    -0.058  0.     0.161]]"
       ]
      },
      {
       "output_type": "stream",
       "stream": "stdout",
       "text": [
        "\n",
        "[[ 0.     0.     0.005  0.045  0.    -0.059  0.     0.161]]\n",
        "[[ 0.     0.     0.005  0.045  0.    -0.059  0.     0.162]]"
       ]
      },
      {
       "output_type": "stream",
       "stream": "stdout",
       "text": [
        "\n",
        "[[ 0.     0.     0.005  0.044  0.    -0.059  0.     0.162]]\n",
        "[[ 0.     0.     0.005  0.044  0.    -0.059  0.     0.163]]\n",
        "[[ 0.     0.     0.005  0.044  0.    -0.059  0.     0.164]]"
       ]
      },
      {
       "output_type": "stream",
       "stream": "stdout",
       "text": [
        "\n",
        "[[ 0.     0.     0.005  0.044  0.    -0.06   0.     0.164]]\n",
        "[[ 0.     0.     0.005  0.044  0.    -0.06   0.     0.165]]\n",
        "[[ 0.     0.     0.005  0.044  0.    -0.061  0.     0.165]]"
       ]
      },
      {
       "output_type": "stream",
       "stream": "stdout",
       "text": [
        "\n",
        "[[ 0.     0.     0.005  0.044  0.    -0.061  0.     0.166]]\n",
        "[[ 0.     0.     0.005  0.044  0.    -0.062  0.     0.166]]"
       ]
      },
      {
       "output_type": "stream",
       "stream": "stdout",
       "text": [
        "\n",
        "[[ 0.     0.     0.005  0.044  0.    -0.063  0.     0.166]]\n",
        "[[ 0.     0.     0.005  0.044  0.    -0.063  0.     0.167]]\n",
        "[[ 0.     0.     0.005  0.044  0.    -0.064  0.     0.167]]\n",
        "[[ 0.     0.     0.005  0.044  0.    -0.065  0.     0.167]]\n",
        "[[ 0.     0.     0.005  0.044  0.    -0.065  0.     0.168]]"
       ]
      },
      {
       "output_type": "stream",
       "stream": "stdout",
       "text": [
        "\n",
        "[[ 0.     0.     0.005  0.044  0.    -0.066  0.     0.168]]\n",
        "[[ 0.     0.     0.005  0.044  0.    -0.066  0.     0.169]]"
       ]
      },
      {
       "output_type": "stream",
       "stream": "stdout",
       "text": [
        "\n",
        "[[ 0.     0.     0.005  0.044  0.    -0.067  0.     0.169]]\n",
        "[[ 0.     0.     0.005  0.044  0.    -0.068  0.     0.169]]\n",
        "[[ 0.     0.     0.005  0.044  0.    -0.068  0.     0.17 ]]\n",
        "[[ 0.     0.     0.005  0.044  0.    -0.069  0.     0.17 ]]\n",
        "[[ 0.     0.     0.005  0.044  0.    -0.07   0.     0.17 ]]"
       ]
      },
      {
       "output_type": "stream",
       "stream": "stdout",
       "text": [
        "\n",
        "[[ 0.     0.     0.005  0.044  0.    -0.07   0.     0.171]]"
       ]
      },
      {
       "output_type": "stream",
       "stream": "stdout",
       "text": [
        "\n",
        "[[ 0.     0.     0.005  0.044  0.    -0.071  0.     0.171]]\n",
        "[[ 0.     0.     0.005  0.044  0.    -0.071  0.     0.172]]\n",
        "[[ 0.     0.     0.005  0.044  0.    -0.072  0.     0.172]]"
       ]
      },
      {
       "output_type": "stream",
       "stream": "stdout",
       "text": [
        "\n",
        "[[ 0.     0.     0.005  0.044  0.    -0.073  0.     0.172]]\n",
        "[[ 0.     0.     0.005  0.044  0.    -0.073  0.     0.173]]\n",
        "[[ 0.     0.     0.005  0.044  0.    -0.074  0.     0.173]]\n",
        "[[ 0.     0.     0.005  0.044  0.    -0.075  0.     0.173]]"
       ]
      },
      {
       "output_type": "stream",
       "stream": "stdout",
       "text": [
        "\n",
        "[[ 0.     0.     0.005  0.044  0.    -0.075  0.     0.174]]\n",
        "[[ 0.     0.     0.005  0.044  0.    -0.076  0.     0.174]]\n",
        "[[ 0.     0.     0.005  0.044  0.    -0.076  0.     0.175]]\n",
        "[[ 0.     0.     0.005  0.044  0.    -0.077  0.     0.175]]"
       ]
      },
      {
       "output_type": "stream",
       "stream": "stdout",
       "text": [
        "\n",
        "[[ 0.     0.     0.005  0.044  0.    -0.078  0.     0.175]]\n",
        "[[ 0.     0.     0.005  0.044  0.    -0.078  0.     0.176]]\n",
        "[[ 0.     0.     0.005  0.044  0.    -0.079  0.     0.176]]\n",
        "[[ 0.     0.     0.005  0.044  0.    -0.08   0.     0.176]]"
       ]
      },
      {
       "output_type": "stream",
       "stream": "stdout",
       "text": [
        "\n",
        "[[ 0.     0.     0.005  0.044  0.    -0.08   0.     0.177]]\n",
        "[[ 0.     0.     0.005  0.044  0.    -0.081  0.     0.177]]\n",
        "[[ 0.     0.     0.005  0.044  0.    -0.081  0.     0.178]]\n",
        "[[ 0.     0.     0.005  0.044  0.    -0.082  0.     0.178]]\n",
        "[[ 0.     0.     0.005  0.044  0.    -0.083  0.     0.178]]"
       ]
      },
      {
       "output_type": "stream",
       "stream": "stdout",
       "text": [
        "\n",
        "[[ 0.     0.     0.005  0.044  0.    -0.083  0.     0.179]]\n",
        "[[ 0.     0.     0.005  0.044  0.    -0.084  0.     0.179]]\n",
        "[[ 0.     0.     0.005  0.044  0.    -0.084  0.     0.18 ]]\n",
        "[[ 0.     0.     0.005  0.044  0.    -0.085  0.     0.18 ]]\n",
        "[[ 0.     0.     0.005  0.044  0.    -0.086  0.     0.18 ]]\n",
        "[[ 0.     0.     0.005  0.044  0.    -0.086  0.     0.181]]"
       ]
      },
      {
       "output_type": "stream",
       "stream": "stdout",
       "text": [
        "\n",
        "[[ 0.     0.     0.005  0.044  0.    -0.087  0.     0.181]]\n",
        "[[ 0.     0.     0.005  0.044  0.    -0.088  0.     0.181]]\n",
        "[[ 0.     0.     0.005  0.044  0.    -0.088  0.     0.182]]\n",
        "[[ 0.     0.     0.005  0.044  0.    -0.089  0.     0.182]]"
       ]
      },
      {
       "output_type": "stream",
       "stream": "stdout",
       "text": [
        "\n",
        "[[ 0.     0.     0.005  0.044  0.    -0.089  0.     0.183]]\n",
        "[[ 0.     0.     0.005  0.044  0.    -0.09   0.     0.183]]\n",
        "[[ 0.     0.     0.005  0.044  0.    -0.091  0.     0.183]]\n",
        "[[ 0.     0.     0.005  0.044  0.    -0.091  0.     0.184]]\n",
        "[[ 0.     0.     0.005  0.044  0.    -0.092  0.     0.184]]\n",
        "[[ 0.     0.     0.005  0.044  0.    -0.093  0.     0.184]]"
       ]
      },
      {
       "output_type": "stream",
       "stream": "stdout",
       "text": [
        "\n",
        "[[ 0.     0.     0.005  0.044  0.    -0.093  0.     0.185]]\n",
        "[[ 0.     0.     0.005  0.044  0.    -0.094  0.     0.185]]\n",
        "[[ 0.     0.     0.005  0.044  0.    -0.094  0.     0.186]]\n",
        "[[ 0.     0.     0.005  0.043  0.    -0.094  0.     0.186]]"
       ]
      },
      {
       "output_type": "stream",
       "stream": "stdout",
       "text": [
        "\n",
        "[[ 0.     0.     0.005  0.043  0.    -0.094  0.     0.187]]\n",
        "[[ 0.     0.     0.005  0.043  0.    -0.094  0.     0.188]]\n",
        "[[ 0.     0.     0.005  0.043  0.    -0.095  0.     0.188]]\n",
        "[[ 0.     0.     0.005  0.043  0.    -0.095  0.     0.189]]\n",
        "[[ 0.     0.     0.005  0.043  0.    -0.096  0.     0.189]]"
       ]
      },
      {
       "output_type": "stream",
       "stream": "stdout",
       "text": [
        "\n",
        "[[ 0.     0.     0.005  0.043  0.    -0.096  0.     0.19 ]]\n",
        "[[ 0.     0.     0.005  0.043  0.    -0.097  0.     0.19 ]]\n",
        "[[ 0.     0.     0.005  0.043  0.    -0.098  0.     0.19 ]]\n",
        "[[ 0.     0.     0.005  0.043  0.    -0.098  0.     0.191]]"
       ]
      },
      {
       "output_type": "stream",
       "stream": "stdout",
       "text": [
        "\n",
        "[[ 0.     0.     0.005  0.043  0.    -0.099  0.     0.191]]\n",
        "[[ 0.     0.     0.005  0.043  0.    -0.1    0.     0.191]]\n",
        "[[ 0.     0.     0.005  0.043  0.    -0.1    0.     0.192]]\n",
        "[[ 0.     0.     0.005  0.043  0.    -0.101  0.     0.192]]\n",
        "[[ 0.     0.     0.005  0.043  0.    -0.101  0.     0.193]]\n",
        "[[ 0.     0.     0.005  0.043  0.    -0.102  0.     0.193]]"
       ]
      },
      {
       "output_type": "stream",
       "stream": "stdout",
       "text": [
        "\n",
        "[[ 0.     0.     0.005  0.043  0.    -0.103  0.     0.193]]\n",
        "[[ 0.     0.     0.005  0.043  0.    -0.103  0.     0.194]]\n",
        "[[ 0.     0.     0.005  0.043  0.    -0.104  0.     0.194]]\n",
        "[[ 0.     0.     0.005  0.043  0.    -0.104  0.     0.195]]"
       ]
      },
      {
       "output_type": "stream",
       "stream": "stdout",
       "text": [
        "\n",
        "[[ 0.     0.     0.005  0.043  0.    -0.105  0.     0.195]]\n",
        "[[ 0.     0.     0.005  0.043  0.    -0.106  0.     0.195]]\n",
        "[[ 0.     0.     0.005  0.043  0.    -0.106  0.     0.196]]\n",
        "[[ 0.     0.     0.005  0.043  0.    -0.107  0.     0.196]]"
       ]
      },
      {
       "output_type": "stream",
       "stream": "stdout",
       "text": [
        "\n",
        "[[ 0.     0.     0.005  0.043  0.    -0.108  0.     0.196]]\n",
        "[[ 0.     0.     0.005  0.043  0.    -0.108  0.     0.197]]\n",
        "[[ 0.     0.     0.005  0.043  0.    -0.109  0.     0.197]]\n",
        "[[ 0.     0.     0.005  0.043  0.    -0.109  0.     0.198]]\n",
        "[[ 0.     0.     0.005  0.043  0.    -0.11   0.     0.198]]"
       ]
      },
      {
       "output_type": "stream",
       "stream": "stdout",
       "text": [
        "\n",
        "[[ 0.     0.     0.005  0.043  0.    -0.111  0.     0.198]]\n",
        "[[ 0.     0.     0.005  0.043  0.    -0.111  0.     0.199]]\n",
        "[[ 0.     0.     0.005  0.043  0.    -0.112  0.     0.199]]\n",
        "[[ 0.     0.     0.005  0.043  0.    -0.113  0.     0.199]]\n",
        "[[ 0.     0.     0.005  0.043  0.    -0.113  0.     0.2  ]]"
       ]
      },
      {
       "output_type": "stream",
       "stream": "stdout",
       "text": [
        "\n",
        "[[ 0.     0.     0.005  0.043  0.    -0.114  0.     0.2  ]]\n",
        "[[ 0.     0.     0.005  0.043  0.    -0.114  0.     0.201]]\n",
        "[[ 0.     0.     0.005  0.043  0.    -0.115  0.     0.201]]\n",
        "[[ 0.     0.     0.005  0.043  0.    -0.116  0.     0.201]]"
       ]
      },
      {
       "output_type": "stream",
       "stream": "stdout",
       "text": [
        "\n",
        "[[ 0.     0.     0.005  0.043  0.    -0.116  0.     0.202]]\n",
        "[[ 0.     0.     0.005  0.043  0.    -0.117  0.     0.202]]\n",
        "[[ 0.     0.     0.005  0.043  0.    -0.118  0.     0.202]]\n",
        "[[ 0.     0.     0.005  0.043  0.    -0.118  0.     0.203]]\n",
        "[[ 0.     0.     0.005  0.043  0.    -0.119  0.     0.203]]\n",
        "[[ 0.     0.     0.005  0.043  0.    -0.119  0.     0.204]]"
       ]
      },
      {
       "output_type": "stream",
       "stream": "stdout",
       "text": [
        "\n",
        "[[ 0.     0.     0.005  0.043  0.    -0.12   0.     0.204]]\n",
        "[[ 0.     0.     0.005  0.043  0.    -0.121  0.     0.204]]\n",
        "[[ 0.     0.     0.005  0.043  0.    -0.121  0.     0.205]]\n",
        "[[ 0.     0.     0.005  0.043  0.    -0.122  0.     0.205]]\n",
        "[[ 0.     0.     0.005  0.043  0.    -0.123  0.     0.205]]\n",
        "[[ 0.     0.     0.005  0.043  0.    -0.123  0.     0.206]]"
       ]
      },
      {
       "output_type": "stream",
       "stream": "stdout",
       "text": [
        "\n",
        "[[ 0.     0.     0.005  0.043  0.    -0.124  0.     0.206]]\n",
        "[[ 0.     0.     0.005  0.043  0.    -0.124  0.     0.207]]\n",
        "[[ 0.     0.     0.005  0.043  0.    -0.125  0.     0.207]]\n",
        "[[ 0.     0.     0.005  0.043  0.    -0.126  0.     0.207]]\n",
        "[[ 0.     0.     0.005  0.043  0.    -0.126  0.     0.208]]"
       ]
      },
      {
       "output_type": "stream",
       "stream": "stdout",
       "text": [
        "\n",
        "[[ 0.     0.     0.005  0.043  0.    -0.127  0.     0.208]]\n",
        "[[ 0.     0.     0.005  0.043  0.    -0.127  0.     0.209]]\n",
        "[[ 0.     0.     0.005  0.042  0.    -0.127  0.     0.209]]\n",
        "[[ 0.     0.     0.005  0.042  0.    -0.127  0.     0.21 ]]\n",
        "[[ 0.     0.     0.005  0.042  0.    -0.127  0.     0.211]]"
       ]
      },
      {
       "output_type": "stream",
       "stream": "stdout",
       "text": [
        "\n",
        "[[ 0.     0.     0.005  0.042  0.    -0.128  0.     0.211]]\n",
        "[[ 0.     0.     0.005  0.042  0.    -0.128  0.     0.212]]\n",
        "[[ 0.     0.     0.005  0.042  0.    -0.129  0.     0.212]]\n",
        "[[ 0.     0.     0.005  0.042  0.    -0.129  0.     0.213]]\n",
        "[[ 0.     0.     0.005  0.042  0.    -0.13   0.     0.213]]\n",
        "[[ 0.     0.     0.005  0.042  0.    -0.131  0.     0.213]]"
       ]
      },
      {
       "output_type": "stream",
       "stream": "stdout",
       "text": [
        "\n",
        "[[ 0.     0.     0.005  0.042  0.    -0.131  0.     0.214]]\n",
        "[[ 0.     0.     0.005  0.042  0.    -0.132  0.     0.214]]\n",
        "[[ 0.     0.     0.005  0.042  0.    -0.133  0.     0.214]]\n",
        "[[ 0.     0.     0.006  0.042  0.    -0.133  0.     0.214]]\n",
        "[[ 0.     0.     0.006  0.042  0.    -0.134  0.     0.214]]"
       ]
      },
      {
       "output_type": "stream",
       "stream": "stdout",
       "text": [
        "\n",
        "[[ 0.     0.     0.006  0.042  0.    -0.135  0.     0.214]]\n",
        "[[ 0.     0.     0.006  0.042  0.    -0.135  0.     0.215]]\n",
        "[[ 0.     0.     0.006  0.042  0.    -0.136  0.     0.215]]\n",
        "[[ 0.     0.     0.006  0.042  0.    -0.137  0.     0.215]]\n",
        "[[ 0.     0.     0.006  0.042  0.    -0.137  0.     0.216]]"
       ]
      },
      {
       "output_type": "stream",
       "stream": "stdout",
       "text": [
        "\n",
        "[[ 0.     0.     0.006  0.042  0.    -0.138  0.     0.216]]\n",
        "[[ 0.     0.     0.006  0.042  0.    -0.138  0.     0.217]]\n",
        "[[ 0.     0.     0.006  0.042  0.    -0.139  0.     0.217]]\n",
        "[[ 0.     0.     0.006  0.042  0.    -0.14   0.     0.217]]"
       ]
      },
      {
       "output_type": "stream",
       "stream": "stdout",
       "text": [
        "\n",
        "[[ 0.     0.     0.007  0.042  0.    -0.14   0.     0.217]]\n",
        "[[ 0.     0.     0.007  0.042  0.    -0.141  0.     0.217]]\n",
        "[[ 0.     0.     0.007  0.042  0.    -0.142  0.     0.217]]\n",
        "[[ 0.     0.     0.007  0.042  0.    -0.142  0.     0.218]]\n",
        "[[ 0.     0.     0.007  0.042  0.    -0.143  0.     0.218]]"
       ]
      },
      {
       "output_type": "stream",
       "stream": "stdout",
       "text": [
        "\n",
        "[[ 0.     0.     0.007  0.042  0.    -0.144  0.     0.218]]\n",
        "[[ 0.     0.     0.008  0.042  0.    -0.144  0.     0.218]]\n",
        "[[ 0.     0.     0.008  0.042  0.    -0.145  0.     0.218]]\n",
        "[[ 0.     0.     0.008  0.042  0.    -0.146  0.     0.218]]\n",
        "[[ 0.     0.     0.008  0.042  0.    -0.146  0.     0.219]]\n",
        "[[ 0.     0.     0.008  0.042  0.    -0.147  0.     0.219]]"
       ]
      },
      {
       "output_type": "stream",
       "stream": "stdout",
       "text": [
        "\n",
        "[[ 0.     0.     0.008  0.042  0.    -0.147  0.     0.22 ]]\n",
        "[[ 0.     0.     0.008  0.042  0.    -0.148  0.     0.22 ]]\n",
        "[[ 0.     0.     0.008  0.042  0.    -0.149  0.     0.22 ]]\n",
        "[[ 0.     0.     0.009  0.042  0.    -0.149  0.     0.22 ]]\n",
        "[[ 0.     0.     0.009  0.041  0.    -0.149  0.     0.22 ]]\n",
        "[[ 0.     0.     0.01   0.041  0.    -0.149  0.     0.22 ]]"
       ]
      },
      {
       "output_type": "stream",
       "stream": "stdout",
       "text": [
        "\n",
        "[[ 0.     0.     0.01   0.041  0.    -0.149  0.     0.221]]\n",
        "[[ 0.     0.     0.01   0.041  0.    -0.15   0.     0.221]]\n",
        "[[ 0.     0.     0.01   0.041  0.    -0.15   0.     0.222]]\n",
        "[[ 0.     0.     0.01   0.041  0.    -0.151  0.     0.222]]"
       ]
      },
      {
       "output_type": "stream",
       "stream": "stdout",
       "text": [
        "\n",
        "[[ 0.     0.     0.01   0.041  0.    -0.152  0.     0.222]]\n",
        "[[ 0.     0.     0.01   0.041  0.    -0.152  0.     0.223]]\n",
        "[[ 0.     0.     0.01   0.041  0.    -0.153  0.     0.223]]\n",
        "[[ 0.     0.     0.01   0.041  0.    -0.154  0.     0.223]]\n",
        "[[ 0.     0.     0.011  0.041  0.    -0.154  0.     0.223]]"
       ]
      },
      {
       "output_type": "stream",
       "stream": "stdout",
       "text": [
        "\n",
        "[[ 0.     0.     0.011  0.041  0.    -0.155  0.     0.223]]\n",
        "[[ 0.     0.     0.011  0.041  0.    -0.156  0.     0.223]]\n",
        "[[ 0.     0.     0.011  0.041  0.    -0.156  0.     0.224]]\n",
        "[[ 0.     0.     0.011  0.041  0.    -0.157  0.     0.224]]\n",
        "[[ 0.     0.     0.011  0.041  0.    -0.158  0.     0.224]]\n",
        "[[ 0.     0.     0.012  0.041  0.    -0.158  0.     0.224]]"
       ]
      },
      {
       "output_type": "stream",
       "stream": "stdout",
       "text": [
        "\n",
        "[[ 0.     0.     0.012  0.041  0.    -0.159  0.     0.224]]\n",
        "[[ 0.     0.     0.012  0.041  0.    -0.16   0.     0.224]]\n",
        "[[ 0.     0.     0.012  0.041  0.    -0.16   0.     0.225]]\n",
        "[[ 0.     0.     0.012  0.041  0.    -0.161  0.     0.225]]"
       ]
      },
      {
       "output_type": "stream",
       "stream": "stdout",
       "text": [
        "\n",
        "[[ 0.     0.     0.012  0.041  0.    -0.161  0.     0.226]]\n",
        "[[ 0.     0.     0.012  0.041  0.    -0.162  0.     0.226]]\n",
        "[[ 0.     0.     0.012  0.041  0.    -0.163  0.     0.226]]\n",
        "[[ 0.     0.     0.013  0.041  0.    -0.163  0.     0.226]]"
       ]
      },
      {
       "output_type": "stream",
       "stream": "stdout",
       "text": [
        "\n",
        "[[ 0.     0.     0.013  0.041  0.    -0.164  0.     0.226]]\n",
        "[[ 0.     0.     0.013  0.041  0.    -0.165  0.     0.226]]\n",
        "[[ 0.     0.     0.013  0.041  0.    -0.165  0.     0.227]]\n",
        "[[ 0.     0.     0.013  0.041  0.    -0.166  0.     0.227]]\n",
        "[[ 0.     0.     0.013  0.041  0.    -0.167  0.     0.227]]\n",
        "[[ 0.     0.     0.014  0.041  0.    -0.167  0.     0.227]]"
       ]
      },
      {
       "output_type": "stream",
       "stream": "stdout",
       "text": [
        "\n",
        "[[ 0.     0.     0.014  0.041  0.    -0.168  0.     0.227]]\n",
        "[[ 0.     0.     0.014  0.041  0.    -0.169  0.     0.227]]\n",
        "[[ 0.     0.     0.014  0.041  0.    -0.169  0.     0.228]]\n",
        "[[ 0.     0.     0.014  0.041  0.    -0.17   0.     0.228]]\n",
        "[[ 0.     0.     0.014  0.041  0.    -0.171  0.     0.228]]"
       ]
      },
      {
       "output_type": "stream",
       "stream": "stdout",
       "text": [
        "\n",
        "[[ 0.     0.     0.014  0.041  0.    -0.171  0.     0.229]]\n",
        "[[ 0.     0.     0.014  0.041  0.    -0.172  0.     0.229]]\n",
        "[[ 0.     0.     0.014  0.041  0.    -0.172  0.     0.23 ]]"
       ]
      },
      {
       "output_type": "stream",
       "stream": "stdout",
       "text": [
        "\n",
        "[[ 0.     0.     0.014  0.041  0.    -0.173  0.     0.23 ]]\n",
        "[[ 0.     0.     0.014  0.041  0.    -0.174  0.     0.23 ]]\n",
        "[[ 0.     0.     0.015  0.041  0.    -0.174  0.     0.23 ]]\n",
        "[[ 0.     0.     0.015  0.04   0.    -0.174  0.     0.23 ]]\n",
        "[[ 0.     0.     0.016  0.04   0.    -0.174  0.     0.23 ]]"
       ]
      },
      {
       "output_type": "stream",
       "stream": "stdout",
       "text": [
        "\n",
        "[[ 0.     0.     0.016  0.04   0.    -0.174  0.     0.231]]\n",
        "[[ 0.     0.     0.016  0.04   0.    -0.175  0.     0.231]]"
       ]
      },
      {
       "output_type": "stream",
       "stream": "stdout",
       "text": [
        "\n",
        "[[ 0.     0.     0.016  0.04   0.    -0.175  0.     0.232]]\n",
        "[[ 0.     0.     0.016  0.04   0.    -0.176  0.     0.232]]\n",
        "[[ 0.     0.     0.016  0.04   0.    -0.177  0.     0.232]]\n",
        "[[ 0.     0.     0.017  0.04   0.    -0.177  0.     0.232]]\n",
        "[[ 0.     0.     0.017  0.04   0.    -0.178  0.     0.232]]"
       ]
      },
      {
       "output_type": "stream",
       "stream": "stdout",
       "text": [
        "\n",
        "[[ 0.     0.     0.017  0.04   0.    -0.179  0.     0.232]]\n",
        "[[ 0.     0.     0.017  0.04   0.    -0.179  0.     0.233]]\n",
        "[[ 0.     0.     0.017  0.04   0.    -0.18   0.     0.233]]"
       ]
      },
      {
       "output_type": "stream",
       "stream": "stdout",
       "text": [
        "\n",
        "[[ 0.     0.     0.017  0.04   0.    -0.181  0.     0.233]]\n",
        "[[ 0.     0.     0.018  0.04   0.    -0.181  0.     0.233]]\n",
        "[[ 0.     0.     0.018  0.04   0.    -0.182  0.     0.233]]\n",
        "[[ 0.     0.     0.018  0.04   0.    -0.183  0.     0.233]]"
       ]
      },
      {
       "output_type": "stream",
       "stream": "stdout",
       "text": [
        "\n",
        "[[ 0.     0.     0.018  0.04   0.    -0.183  0.     0.234]]\n",
        "[[ 0.     0.     0.018  0.04   0.    -0.184  0.     0.234]]\n",
        "[[ 0.     0.     0.018  0.04   0.    -0.185  0.     0.234]]\n",
        "[[ 0.     0.     0.018  0.04   0.    -0.185  0.     0.235]]"
       ]
      },
      {
       "output_type": "stream",
       "stream": "stdout",
       "text": [
        "\n",
        "[[ 0.     0.     0.018  0.04   0.    -0.186  0.     0.235]]\n",
        "[[ 0.     0.     0.018  0.04   0.    -0.186  0.     0.236]]\n",
        "[[ 0.     0.     0.018  0.04   0.    -0.187  0.     0.236]]\n",
        "[[ 0.     0.     0.018  0.04   0.    -0.188  0.     0.236]]"
       ]
      },
      {
       "output_type": "stream",
       "stream": "stdout",
       "text": [
        "\n",
        "[[ 0.     0.     0.019  0.04   0.    -0.188  0.     0.236]]\n",
        "[[ 0.     0.     0.019  0.04   0.    -0.189  0.     0.236]]\n",
        "[[ 0.     0.     0.019  0.04   0.    -0.19   0.     0.236]]\n",
        "[[ 0.     0.     0.019  0.04   0.    -0.19   0.     0.237]]\n",
        "[[ 0.     0.     0.019  0.04   0.    -0.191  0.     0.237]]"
       ]
      },
      {
       "output_type": "stream",
       "stream": "stdout",
       "text": [
        "\n",
        "[[ 0.     0.     0.019  0.04   0.    -0.192  0.     0.237]]\n",
        "[[ 0.     0.     0.02   0.04   0.    -0.192  0.     0.237]]\n",
        "[[ 0.     0.     0.02   0.04   0.    -0.193  0.     0.237]]\n",
        "[[ 0.     0.     0.02   0.04   0.    -0.194  0.     0.237]]\n",
        "[[ 0.     0.     0.02   0.04   0.    -0.194  0.     0.238]]"
       ]
      },
      {
       "output_type": "stream",
       "stream": "stdout",
       "text": [
        "\n",
        "[[ 0.     0.     0.02   0.04   0.    -0.195  0.     0.238]]\n",
        "[[ 0.     0.     0.02   0.04   0.    -0.195  0.     0.239]]\n",
        "[[ 0.     0.     0.02   0.039  0.    -0.195  0.     0.239]]\n",
        "[[ 0.     0.     0.021  0.039  0.    -0.195  0.     0.239]]\n",
        "[[ 0.     0.     0.022  0.039  0.    -0.195  0.     0.239]]\n",
        "[[ 0.     0.     0.022  0.039  0.    -0.196  0.     0.239]]"
       ]
      },
      {
       "output_type": "stream",
       "stream": "stdout",
       "text": [
        "\n",
        "[[ 0.     0.     0.022  0.039  0.    -0.197  0.     0.239]]\n",
        "[[ 0.     0.     0.022  0.039  0.    -0.197  0.     0.24 ]]\n",
        "[[ 0.     0.     0.022  0.039  0.    -0.198  0.     0.24 ]]\n",
        "[[ 0.     0.     0.022  0.039  0.    -0.199  0.     0.24 ]]\n",
        "[[ 0.     0.     0.022  0.039  0.    -0.199  0.     0.241]]"
       ]
      },
      {
       "output_type": "stream",
       "stream": "stdout",
       "text": [
        "\n",
        "[[ 0.     0.     0.022  0.039  0.    -0.2    0.     0.241]]\n",
        "[[ 0.     0.     0.022  0.039  0.    -0.2    0.     0.242]]\n",
        "[[ 0.     0.     0.022  0.039  0.    -0.201  0.     0.242]]\n",
        "[[ 0.     0.     0.022  0.039  0.    -0.202  0.     0.242]]\n",
        "[[ 0.     0.     0.023  0.039  0.    -0.202  0.     0.242]]\n",
        "[[ 0.     0.     0.023  0.039  0.    -0.203  0.     0.242]]"
       ]
      },
      {
       "output_type": "stream",
       "stream": "stdout",
       "text": [
        "\n",
        "[[ 0.     0.     0.023  0.039  0.    -0.204  0.     0.242]]\n",
        "[[ 0.     0.     0.023  0.039  0.    -0.204  0.     0.243]]\n",
        "[[ 0.     0.     0.023  0.039  0.    -0.205  0.     0.243]]\n",
        "[[ 0.     0.     0.023  0.039  0.    -0.206  0.     0.243]]\n",
        "[[ 0.     0.     0.024  0.039  0.    -0.206  0.     0.243]]"
       ]
      },
      {
       "output_type": "stream",
       "stream": "stdout",
       "text": [
        "\n",
        "[[ 0.     0.     0.024  0.039  0.    -0.207  0.     0.243]]\n",
        "[[ 0.     0.     0.024  0.039  0.    -0.208  0.     0.243]]\n",
        "[[ 0.     0.     0.024  0.039  0.    -0.208  0.     0.244]]\n",
        "[[ 0.     0.     0.024  0.039  0.    -0.209  0.     0.244]]\n",
        "[[ 0.     0.     0.024  0.039  0.    -0.209  0.     0.245]]\n",
        "[[ 0.     0.     0.024  0.039  0.    -0.21   0.     0.245]]"
       ]
      },
      {
       "output_type": "stream",
       "stream": "stdout",
       "text": [
        "\n",
        "[[ 0.     0.     0.024  0.039  0.    -0.211  0.     0.245]]\n",
        "[[ 0.     0.     0.025  0.039  0.    -0.211  0.     0.245]]\n",
        "[[ 0.     0.     0.025  0.039  0.    -0.212  0.     0.245]]"
       ]
      },
      {
       "output_type": "stream",
       "stream": "stdout",
       "text": [
        "\n",
        "[[ 0.     0.     0.025  0.039  0.    -0.213  0.     0.245]]\n",
        "[[ 0.     0.     0.025  0.039  0.    -0.213  0.     0.246]]\n",
        "[[ 0.     0.     0.025  0.039  0.    -0.214  0.     0.246]]"
       ]
      },
      {
       "output_type": "stream",
       "stream": "stdout",
       "text": [
        "\n",
        "[[ 0.     0.     0.025  0.039  0.    -0.215  0.     0.246]]\n",
        "[[ 0.     0.     0.025  0.039  0.    -0.215  0.     0.247]]\n",
        "[[ 0.     0.     0.025  0.039  0.    -0.216  0.     0.247]]\n",
        "[[ 0.     0.     0.025  0.039  0.    -0.217  0.     0.247]]\n",
        "[[ 0.     0.     0.026  0.039  0.    -0.217  0.     0.247]]"
       ]
      },
      {
       "output_type": "stream",
       "stream": "stdout",
       "text": [
        "\n",
        "[[ 0.     0.     0.026  0.039  0.    -0.218  0.     0.247]]\n",
        "[[ 0.     0.     0.026  0.039  0.    -0.219  0.     0.247]]\n",
        "[[ 0.     0.     0.026  0.039  0.    -0.219  0.     0.248]]\n",
        "[[ 0.     0.     0.026  0.039  0.    -0.22   0.     0.248]]\n",
        "[[ 0.     0.     0.026  0.039  0.    -0.22   0.     0.249]]\n",
        "[[ 0.     0.     0.026  0.038  0.    -0.22   0.     0.249]]"
       ]
      },
      {
       "output_type": "stream",
       "stream": "stdout",
       "text": [
        "\n",
        "[[ 0.     0.     0.027  0.038  0.    -0.22   0.     0.249]]\n",
        "[[ 0.     0.     0.028  0.038  0.    -0.22   0.     0.249]]"
       ]
      },
      {
       "output_type": "stream",
       "stream": "stdout",
       "text": [
        "\n",
        "[[ 0.     0.     0.028  0.038  0.    -0.221  0.     0.249]]\n",
        "[[ 0.     0.     0.028  0.038  0.    -0.222  0.     0.249]]\n",
        "[[ 0.     0.     0.028  0.038  0.    -0.222  0.     0.25 ]]\n",
        "[[ 0.     0.     0.028  0.038  0.    -0.223  0.     0.25 ]]\n",
        "[[ 0.     0.     0.028  0.038  0.    -0.223  0.     0.251]]"
       ]
      },
      {
       "output_type": "stream",
       "stream": "stdout",
       "text": [
        "\n",
        "[[ 0.     0.     0.028  0.038  0.    -0.224  0.     0.251]]\n",
        "[[ 0.     0.     0.028  0.038  0.    -0.225  0.     0.251]]\n",
        "[[ 0.     0.     0.029  0.038  0.    -0.225  0.     0.251]]\n",
        "[[ 0.     0.     0.029  0.038  0.    -0.226  0.     0.251]]\n",
        "[[ 0.     0.     0.029  0.038  0.    -0.227  0.     0.251]]"
       ]
      },
      {
       "output_type": "stream",
       "stream": "stdout",
       "text": [
        "\n",
        "[[ 0.     0.     0.029  0.038  0.    -0.227  0.     0.252]]\n",
        "[[ 0.     0.     0.029  0.038  0.    -0.228  0.     0.252]]"
       ]
      },
      {
       "output_type": "stream",
       "stream": "stdout",
       "text": [
        "\n",
        "[[ 0.     0.     0.029  0.038  0.    -0.229  0.     0.252]]\n",
        "[[ 0.     0.     0.03   0.038  0.    -0.229  0.     0.252]]\n",
        "[[ 0.     0.     0.03   0.038  0.    -0.23   0.     0.252]]"
       ]
      },
      {
       "output_type": "stream",
       "stream": "stdout",
       "text": [
        "\n",
        "[[ 0.     0.     0.03   0.038  0.    -0.231  0.     0.252]]\n",
        "[[ 0.     0.     0.03   0.038  0.    -0.231  0.     0.253]]\n",
        "[[ 0.     0.     0.03   0.038  0.    -0.232  0.     0.253]]\n",
        "[[ 0.     0.     0.03   0.038  0.    -0.233  0.     0.253]]\n",
        "[[ 0.     0.     0.03   0.038  0.    -0.233  0.     0.254]]"
       ]
      },
      {
       "output_type": "stream",
       "stream": "stdout",
       "text": [
        "\n",
        "[[ 0.     0.     0.03   0.038  0.    -0.234  0.     0.254]]\n",
        "[[ 0.     0.     0.03   0.038  0.    -0.234  0.     0.255]]\n",
        "[[ 0.     0.     0.03   0.038  0.    -0.235  0.     0.255]]\n",
        "[[ 0.     0.     0.03   0.038  0.    -0.236  0.     0.255]]\n",
        "[[ 0.     0.     0.031  0.038  0.    -0.236  0.     0.255]]"
       ]
      },
      {
       "output_type": "stream",
       "stream": "stdout",
       "text": [
        "\n",
        "[[ 0.     0.     0.031  0.038  0.    -0.237  0.     0.255]]\n",
        "[[ 0.     0.     0.031  0.038  0.    -0.238  0.     0.255]]"
       ]
      },
      {
       "output_type": "stream",
       "stream": "stdout",
       "text": [
        "\n",
        "[[ 0.     0.     0.031  0.038  0.    -0.238  0.     0.256]]\n",
        "[[ 0.     0.     0.031  0.038  0.    -0.239  0.     0.256]]\n",
        "[[ 0.     0.     0.031  0.038  0.    -0.24   0.     0.256]]\n",
        "[[ 0.     0.     0.032  0.038  0.    -0.24   0.     0.256]]"
       ]
      },
      {
       "output_type": "stream",
       "stream": "stdout",
       "text": [
        "\n",
        "[[ 0.     0.     0.032  0.037  0.    -0.24   0.     0.256]]\n",
        "[[ 0.     0.     0.033  0.037  0.    -0.24   0.     0.256]]\n",
        "[[ 0.     0.     0.033  0.037  0.    -0.24   0.     0.257]]\n",
        "[[ 0.     0.     0.033  0.037  0.    -0.241  0.     0.257]]\n",
        "[[ 0.     0.     0.033  0.037  0.    -0.241  0.     0.258]]"
       ]
      },
      {
       "output_type": "stream",
       "stream": "stdout",
       "text": [
        "\n",
        "[[ 0.     0.     0.033  0.037  0.    -0.242  0.     0.258]]\n",
        "[[ 0.     0.     0.033  0.037  0.    -0.243  0.     0.258]]\n",
        "[[ 0.     0.     0.034  0.037  0.    -0.243  0.     0.258]]\n",
        "[[ 0.     0.     0.034  0.037  0.    -0.244  0.     0.258]]\n",
        "[[ 0.     0.     0.034  0.037  0.    -0.245  0.     0.258]]"
       ]
      },
      {
       "output_type": "stream",
       "stream": "stdout",
       "text": [
        "\n",
        "[[ 0.     0.     0.034  0.037  0.    -0.245  0.     0.259]]\n",
        "[[ 0.     0.     0.034  0.037  0.    -0.246  0.     0.259]]"
       ]
      },
      {
       "output_type": "stream",
       "stream": "stdout",
       "text": [
        "\n",
        "[[ 0.     0.     0.034  0.037  0.    -0.247  0.     0.259]]\n",
        "[[ 0.     0.     0.034  0.037  0.    -0.247  0.     0.26 ]]\n",
        "[[ 0.     0.     0.034  0.037  0.    -0.248  0.     0.26 ]]\n",
        "[[ 0.     0.     0.034  0.037  0.    -0.248  0.     0.261]]"
       ]
      },
      {
       "output_type": "stream",
       "stream": "stdout",
       "text": [
        "\n",
        "[[ 0.     0.     0.034  0.037  0.    -0.249  0.     0.261]]\n",
        "[[ 0.     0.     0.034  0.037  0.    -0.25   0.     0.261]]\n",
        "[[ 0.     0.     0.035  0.037  0.    -0.25   0.     0.261]]\n",
        "[[ 0.     0.     0.035  0.037  0.    -0.251  0.     0.261]]\n",
        "[[ 0.     0.     0.035  0.037  0.    -0.252  0.     0.261]]"
       ]
      },
      {
       "output_type": "stream",
       "stream": "stdout",
       "text": [
        "\n",
        "[[ 0.     0.     0.035  0.037  0.    -0.252  0.     0.262]]\n",
        "[[ 0.     0.     0.035  0.037  0.    -0.253  0.     0.262]]\n",
        "[[ 0.     0.     0.035  0.037  0.    -0.254  0.     0.262]]"
       ]
      },
      {
       "output_type": "stream",
       "stream": "stdout",
       "text": [
        "\n",
        "[[ 0.     0.     0.036  0.037  0.    -0.254  0.     0.262]]\n",
        "[[ 0.     0.     0.036  0.037  0.    -0.255  0.     0.262]]\n",
        "[[ 0.     0.     0.036  0.037  0.    -0.256  0.     0.262]]\n",
        "[[ 0.     0.     0.036  0.037  0.    -0.256  0.     0.263]]\n",
        "[[ 0.     0.     0.036  0.037  0.    -0.257  0.     0.263]]"
       ]
      },
      {
       "output_type": "stream",
       "stream": "stdout",
       "text": [
        "\n",
        "[[ 0.     0.     0.036  0.037  0.    -0.258  0.     0.263]]\n",
        "[[ 0.     0.     0.037  0.037  0.    -0.258  0.     0.263]]\n",
        "[[ 0.     0.     0.037  0.037  0.    -0.259  0.     0.263]]\n",
        "[[ 0.     0.     0.037  0.037  0.    -0.26   0.     0.263]]"
       ]
      },
      {
       "output_type": "stream",
       "stream": "stdout",
       "text": [
        "\n",
        "[[ 0.     0.     0.037  0.037  0.    -0.26   0.     0.264]]\n",
        "[[ 0.     0.     0.037  0.037  0.    -0.261  0.     0.264]]\n",
        "[[ 0.     0.     0.037  0.037  0.    -0.261  0.     0.265]]"
       ]
      },
      {
       "output_type": "stream",
       "stream": "stdout",
       "text": [
        "\n",
        "[[ 0.     0.     0.037  0.036  0.    -0.261  0.     0.265]]\n",
        "[[ 0.     0.     0.038  0.036  0.    -0.261  0.     0.265]]\n",
        "[[ 0.     0.     0.038  0.036  0.    -0.261  0.     0.266]]\n",
        "[[ 0.     0.     0.038  0.036  0.    -0.262  0.     0.266]]\n",
        "[[ 0.     0.     0.038  0.036  0.    -0.262  0.     0.267]]"
       ]
      },
      {
       "output_type": "stream",
       "stream": "stdout",
       "text": [
        "\n",
        "[[ 0.     0.     0.038  0.036  0.    -0.263  0.     0.267]]\n",
        "[[ 0.     0.     0.038  0.036  0.    -0.264  0.     0.267]]\n",
        "[[ 0.     0.     0.039  0.036  0.    -0.264  0.     0.267]]\n",
        "[[ 0.     0.     0.039  0.036  0.    -0.265  0.     0.267]]"
       ]
      },
      {
       "output_type": "stream",
       "stream": "stdout",
       "text": [
        "\n",
        "[[ 0.     0.     0.039  0.036  0.    -0.266  0.     0.267]]\n",
        "[[ 0.     0.     0.039  0.036  0.    -0.266  0.     0.268]]\n",
        "[[ 0.     0.     0.039  0.036  0.    -0.267  0.     0.268]]\n",
        "[[ 0.     0.     0.039  0.036  0.    -0.268  0.     0.268]]"
       ]
      },
      {
       "output_type": "stream",
       "stream": "stdout",
       "text": [
        "\n",
        "[[ 0.     0.     0.04   0.036  0.    -0.268  0.     0.268]]\n",
        "[[ 0.     0.     0.04   0.036  0.    -0.269  0.     0.268]]\n",
        "[[ 0.     0.     0.04   0.036  0.    -0.27   0.     0.268]]\n",
        "[[ 0.     0.     0.04   0.036  0.    -0.27   0.     0.269]]\n",
        "[[ 0.     0.     0.04   0.036  0.    -0.271  0.     0.269]]"
       ]
      },
      {
       "output_type": "stream",
       "stream": "stdout",
       "text": [
        "\n",
        "[[ 0.     0.     0.04   0.036  0.    -0.271  0.     0.27 ]]\n",
        "[[ 0.     0.     0.04   0.036  0.    -0.272  0.     0.27 ]]\n",
        "[[ 0.     0.     0.04   0.036  0.    -0.273  0.     0.27 ]]\n",
        "[[ 0.     0.     0.041  0.036  0.    -0.273  0.     0.27 ]]\n",
        "[[ 0.     0.     0.041  0.036  0.    -0.274  0.     0.27 ]]\n",
        "[[ 0.     0.     0.041  0.036  0.    -0.275  0.     0.27 ]]"
       ]
      },
      {
       "output_type": "stream",
       "stream": "stdout",
       "text": [
        "\n",
        "[[ 0.     0.     0.041  0.036  0.    -0.275  0.     0.271]]\n",
        "[[ 0.     0.     0.041  0.036  0.    -0.276  0.     0.271]]\n",
        "[[ 0.     0.     0.041  0.036  0.    -0.277  0.     0.271]]\n",
        "[[ 0.     0.     0.041  0.036  0.    -0.277  0.     0.272]]\n",
        "[[ 0.     0.     0.041  0.036  0.    -0.278  0.     0.272]]"
       ]
      },
      {
       "output_type": "stream",
       "stream": "stdout",
       "text": [
        "\n",
        "[[ 0.     0.     0.041  0.036  0.    -0.279  0.     0.272]]\n",
        "[[ 0.     0.     0.042  0.036  0.    -0.279  0.     0.272]]\n",
        "[[ 0.     0.     0.042  0.036  0.    -0.28   0.     0.272]]\n",
        "[[ 0.     0.     0.042  0.036  0.    -0.281  0.     0.272]]"
       ]
      },
      {
       "output_type": "stream",
       "stream": "stdout",
       "text": [
        "\n",
        "[[ 0.     0.     0.042  0.036  0.    -0.281  0.     0.273]]\n",
        "[[ 0.     0.     0.042  0.036  0.    -0.282  0.     0.273]]\n",
        "[[ 0.     0.     0.042  0.036  0.    -0.282  0.     0.274]]\n",
        "[[ 0.     0.     0.042  0.035  0.    -0.282  0.     0.274]]\n",
        "[[ 0.     0.     0.043  0.035  0.    -0.282  0.     0.274]]"
       ]
      },
      {
       "output_type": "stream",
       "stream": "stdout",
       "text": [
        "\n",
        "[[ 0.     0.     0.044  0.035  0.    -0.282  0.     0.274]]\n",
        "[[ 0.     0.     0.044  0.035  0.    -0.283  0.     0.274]]\n",
        "[[ 0.     0.     0.044  0.035  0.    -0.284  0.     0.274]]\n",
        "[[ 0.     0.     0.044  0.035  0.    -0.284  0.     0.275]]"
       ]
      },
      {
       "output_type": "stream",
       "stream": "stdout",
       "text": [
        "\n",
        "[[ 0.     0.     0.044  0.035  0.    -0.285  0.     0.275]]\n",
        "[[ 0.     0.     0.044  0.035  0.    -0.285  0.     0.276]]\n",
        "[[ 0.     0.     0.044  0.035  0.    -0.286  0.     0.276]]\n",
        "[[ 0.     0.     0.044  0.035  0.    -0.287  0.     0.276]]"
       ]
      },
      {
       "output_type": "stream",
       "stream": "stdout",
       "text": [
        "\n",
        "[[ 0.     0.     0.045  0.035  0.    -0.287  0.     0.276]]\n",
        "[[ 0.     0.     0.045  0.035  0.    -0.288  0.     0.276]]\n",
        "[[ 0.     0.     0.045  0.035  0.    -0.289  0.     0.276]]\n",
        "[[ 0.     0.     0.045  0.035  0.    -0.289  0.     0.277]]\n",
        "[[ 0.     0.     0.045  0.035  0.    -0.29   0.     0.277]]"
       ]
      },
      {
       "output_type": "stream",
       "stream": "stdout",
       "text": [
        "\n",
        "[[ 0.     0.     0.045  0.035  0.    -0.291  0.     0.277]]\n",
        "[[ 0.     0.     0.046  0.035  0.    -0.291  0.     0.277]]\n",
        "[[ 0.     0.     0.046  0.035  0.    -0.292  0.     0.277]]\n",
        "[[ 0.     0.     0.046  0.035  0.    -0.293  0.     0.277]]\n",
        "[[ 0.     0.     0.046  0.035  0.    -0.293  0.     0.278]]"
       ]
      },
      {
       "output_type": "stream",
       "stream": "stdout",
       "text": [
        "\n",
        "[[ 0.     0.     0.046  0.035  0.    -0.294  0.     0.278]]\n",
        "[[ 0.     0.     0.046  0.035  0.    -0.295  0.     0.278]]\n",
        "[[ 0.     0.     0.046  0.035  0.    -0.295  0.     0.279]]"
       ]
      },
      {
       "output_type": "stream",
       "stream": "stdout",
       "text": [
        "\n",
        "[[ 0.     0.     0.046  0.035  0.    -0.296  0.     0.279]]\n",
        "[[ 0.     0.     0.046  0.035  0.    -0.296  0.     0.28 ]]\n",
        "[[ 0.     0.     0.046  0.035  0.    -0.297  0.     0.28 ]]\n",
        "[[ 0.     0.     0.046  0.035  0.    -0.298  0.     0.28 ]]\n",
        "[[ 0.     0.     0.047  0.035  0.    -0.298  0.     0.28 ]]"
       ]
      },
      {
       "output_type": "stream",
       "stream": "stdout",
       "text": [
        "\n",
        "[[ 0.     0.     0.047  0.035  0.    -0.299  0.     0.28 ]]\n",
        "[[ 0.     0.     0.047  0.035  0.    -0.3    0.     0.28 ]]\n",
        "[[ 0.     0.     0.047  0.035  0.    -0.3    0.     0.281]]\n",
        "[[ 0.     0.     0.047  0.035  0.    -0.301  0.     0.281]]"
       ]
      },
      {
       "output_type": "stream",
       "stream": "stdout",
       "text": [
        "\n",
        "[[ 0.     0.     0.047  0.035  0.    -0.302  0.     0.281]]\n",
        "[[ 0.     0.     0.048  0.035  0.    -0.302  0.     0.281]]"
       ]
      },
      {
       "output_type": "stream",
       "stream": "stdout",
       "text": [
        "\n",
        "[[ 0.     0.     0.048  0.035  0.    -0.303  0.     0.281]]\n",
        "[[ 0.     0.     0.048  0.035  0.    -0.304  0.     0.281]]\n",
        "[[ 0.     0.     0.048  0.035  0.    -0.304  0.     0.282]]\n",
        "[[ 0.     0.     0.048  0.035  0.    -0.305  0.     0.282]]"
       ]
      },
      {
       "output_type": "stream",
       "stream": "stdout",
       "text": [
        "\n",
        "[[ 0.     0.     0.048  0.035  0.    -0.306  0.     0.282]]\n",
        "[[ 0.     0.     0.049  0.035  0.    -0.306  0.     0.282]]\n",
        "[[ 0.     0.     0.049  0.034  0.    -0.306  0.     0.282]]\n",
        "[[ 0.     0.     0.05   0.034  0.    -0.306  0.     0.282]]\n",
        "[[ 0.     0.     0.05   0.034  0.    -0.306  0.     0.283]]"
       ]
      },
      {
       "output_type": "stream",
       "stream": "stdout",
       "text": [
        "\n",
        "[[ 0.     0.     0.05   0.034  0.    -0.307  0.     0.283]]\n",
        "[[ 0.     0.     0.05   0.034  0.    -0.307  0.     0.284]]\n",
        "[[ 0.     0.     0.05   0.034  0.    -0.308  0.     0.284]]\n",
        "[[ 0.     0.     0.05   0.034  0.    -0.309  0.     0.284]]\n",
        "[[ 0.     0.     0.05   0.034  0.    -0.309  0.     0.285]]\n",
        "[[ 0.     0.     0.05   0.034  0.    -0.31   0.     0.285]]"
       ]
      },
      {
       "output_type": "stream",
       "stream": "stdout",
       "text": [
        "\n",
        "[[ 0.     0.     0.05   0.034  0.    -0.31   0.     0.286]]\n",
        "[[ 0.     0.     0.05   0.034  0.    -0.311  0.     0.286]]\n",
        "[[ 0.     0.     0.05   0.034  0.    -0.312  0.     0.286]]\n",
        "[[ 0.     0.     0.051  0.034  0.    -0.312  0.     0.286]]\n",
        "[[ 0.     0.     0.051  0.034  0.    -0.313  0.     0.286]]\n",
        "[[ 0.     0.     0.051  0.034  0.    -0.314  0.     0.286]]"
       ]
      },
      {
       "output_type": "stream",
       "stream": "stdout",
       "text": [
        "\n",
        "[[ 0.     0.     0.051  0.034  0.    -0.314  0.     0.287]]\n",
        "[[ 0.     0.     0.051  0.034  0.    -0.315  0.     0.287]]"
       ]
      },
      {
       "output_type": "stream",
       "stream": "stdout",
       "text": [
        "\n",
        "[[ 0.     0.     0.051  0.034  0.    -0.316  0.     0.287]]\n",
        "[[ 0.     0.     0.052  0.034  0.    -0.316  0.     0.287]]\n",
        "[[ 0.     0.     0.052  0.034  0.    -0.317  0.     0.287]]\n",
        "[[ 0.     0.     0.052  0.034  0.    -0.318  0.     0.287]]"
       ]
      },
      {
       "output_type": "stream",
       "stream": "stdout",
       "text": [
        "\n",
        "[[ 0.     0.     0.052  0.034  0.    -0.318  0.     0.288]]\n",
        "[[ 0.     0.     0.052  0.034  0.    -0.319  0.     0.288]]\n",
        "[[ 0.     0.     0.052  0.034  0.    -0.32   0.     0.288]]\n",
        "[[ 0.     0.     0.053  0.034  0.    -0.32   0.     0.288]]\n",
        "[[ 0.     0.     0.053  0.034  0.    -0.321  0.     0.288]]"
       ]
      },
      {
       "output_type": "stream",
       "stream": "stdout",
       "text": [
        "\n",
        "[[ 0.     0.     0.053  0.034  0.    -0.322  0.     0.288]]\n",
        "[[ 0.     0.     0.053  0.034  0.    -0.322  0.     0.289]]\n",
        "[[ 0.     0.     0.053  0.034  0.    -0.323  0.     0.289]]\n",
        "[[ 0.     0.     0.053  0.034  0.    -0.323  0.     0.29 ]]\n",
        "[[ 0.     0.     0.053  0.034  0.    -0.324  0.     0.29 ]]"
       ]
      },
      {
       "output_type": "stream",
       "stream": "stdout",
       "text": [
        "\n",
        "[[ 0.     0.     0.053  0.034  0.    -0.325  0.     0.29 ]]\n",
        "[[ 0.     0.     0.053  0.034  0.    -0.325  0.     0.291]]\n",
        "[[ 0.     0.     0.053  0.034  0.    -0.326  0.     0.291]]\n",
        "[[ 0.     0.     0.053  0.034  0.    -0.327  0.     0.291]]\n",
        "[[ 0.     0.     0.054  0.034  0.    -0.327  0.     0.291]]"
       ]
      },
      {
       "output_type": "stream",
       "stream": "stdout",
       "text": [
        "\n",
        "[[ 0.     0.     0.054  0.033  0.    -0.327  0.     0.291]]\n",
        "[[ 0.     0.     0.055  0.033  0.    -0.327  0.     0.291]]\n",
        "[[ 0.     0.     0.055  0.033  0.    -0.327  0.     0.292]]\n",
        "[[ 0.     0.     0.055  0.033  0.    -0.328  0.     0.292]]\n",
        "[[ 0.     0.     0.055  0.033  0.    -0.328  0.     0.293]]"
       ]
      },
      {
       "output_type": "stream",
       "stream": "stdout",
       "text": [
        "\n",
        "[[ 0.     0.     0.055  0.033  0.    -0.329  0.     0.293]]\n",
        "[[ 0.     0.     0.055  0.033  0.    -0.33   0.     0.293]]\n",
        "[[ 0.     0.     0.056  0.033  0.    -0.33   0.     0.293]]\n",
        "[[ 0.     0.     0.056  0.033  0.    -0.331  0.     0.293]]"
       ]
      },
      {
       "output_type": "stream",
       "stream": "stdout",
       "text": [
        "\n",
        "[[ 0.     0.     0.056  0.033  0.    -0.332  0.     0.293]]\n",
        "[[ 0.     0.     0.056  0.033  0.    -0.332  0.     0.294]]\n",
        "[[ 0.     0.     0.056  0.033  0.    -0.333  0.     0.294]]\n",
        "[[ 0.     0.     0.056  0.033  0.    -0.333  0.     0.295]]\n",
        "[[ 0.     0.     0.056  0.033  0.    -0.334  0.     0.295]]"
       ]
      },
      {
       "output_type": "stream",
       "stream": "stdout",
       "text": [
        "\n",
        "[[ 0.     0.     0.056  0.033  0.    -0.335  0.     0.295]]\n",
        "[[ 0.     0.     0.057  0.033  0.    -0.335  0.     0.295]]\n",
        "[[ 0.     0.     0.057  0.033  0.    -0.336  0.     0.295]]\n",
        "[[ 0.     0.     0.057  0.033  0.    -0.337  0.     0.295]]\n",
        "[[ 0.     0.     0.057  0.033  0.    -0.337  0.     0.296]]\n",
        "[[ 0.     0.     0.057  0.033  0.    -0.338  0.     0.296]]"
       ]
      },
      {
       "output_type": "stream",
       "stream": "stdout",
       "text": [
        "\n",
        "[[ 0.     0.     0.057  0.033  0.    -0.339  0.     0.296]]\n",
        "[[ 0.     0.     0.057  0.033  0.    -0.339  0.     0.297]]\n",
        "[[ 0.     0.     0.057  0.033  0.    -0.34   0.     0.297]]\n",
        "[[ 0.     0.     0.057  0.033  0.    -0.341  0.     0.297]]\n",
        "[[ 0.     0.     0.058  0.033  0.    -0.341  0.     0.297]]"
       ]
      },
      {
       "output_type": "stream",
       "stream": "stdout",
       "text": [
        "\n",
        "[[ 0.     0.     0.058  0.033  0.    -0.342  0.     0.297]]\n",
        "[[ 0.     0.     0.058  0.033  0.    -0.343  0.     0.297]]\n",
        "[[ 0.     0.     0.058  0.033  0.    -0.343  0.     0.298]]\n",
        "[[ 0.     0.     0.058  0.033  0.    -0.344  0.     0.298]]\n",
        "[[ 0.     0.     0.058  0.033  0.    -0.344  0.     0.299]]"
       ]
      },
      {
       "output_type": "stream",
       "stream": "stdout",
       "text": [
        "\n",
        "[[ 0.     0.     0.058  0.033  0.    -0.345  0.     0.299]]\n",
        "[[ 0.     0.     0.058  0.033  0.    -0.346  0.     0.299]]\n",
        "[[ 0.     0.     0.059  0.033  0.    -0.346  0.     0.299]]\n",
        "[[ 0.     0.     0.059  0.032  0.    -0.346  0.     0.299]]\n",
        "[[ 0.     0.     0.06   0.032  0.    -0.346  0.     0.299]]"
       ]
      },
      {
       "output_type": "stream",
       "stream": "stdout",
       "text": [
        "\n",
        "[[ 0.     0.     0.06   0.032  0.    -0.346  0.     0.3  ]]\n",
        "[[ 0.     0.     0.06   0.032  0.    -0.347  0.     0.3  ]]"
       ]
      },
      {
       "output_type": "stream",
       "stream": "stdout",
       "text": [
        "\n",
        "[[ 0.     0.     0.06   0.032  0.    -0.347  0.     0.301]]\n",
        "[[ 0.     0.     0.06   0.032  0.    -0.348  0.     0.301]]\n",
        "[[ 0.     0.     0.06   0.032  0.    -0.349  0.     0.301]]\n",
        "[[ 0.     0.     0.061  0.032  0.    -0.349  0.     0.301]]"
       ]
      },
      {
       "output_type": "stream",
       "stream": "stdout",
       "text": [
        "\n",
        "[[ 0.     0.     0.061  0.032  0.    -0.35   0.     0.301]]\n",
        "[[ 0.     0.     0.061  0.032  0.    -0.351  0.     0.301]]\n",
        "[[ 0.     0.     0.061  0.032  0.    -0.351  0.     0.302]]\n",
        "[[ 0.     0.     0.061  0.032  0.    -0.352  0.     0.302]]\n",
        "[[ 0.     0.     0.061  0.032  0.    -0.353  0.     0.302]]"
       ]
      },
      {
       "output_type": "stream",
       "stream": "stdout",
       "text": [
        "\n",
        "[[ 0.     0.     0.062  0.032  0.    -0.353  0.     0.302]]\n",
        "[[ 0.     0.     0.062  0.032  0.    -0.354  0.     0.302]]\n",
        "[[ 0.     0.     0.062  0.032  0.    -0.355  0.     0.302]]\n",
        "[[ 0.     0.     0.062  0.032  0.    -0.355  0.     0.303]]\n",
        "[[ 0.     0.     0.062  0.032  0.    -0.356  0.     0.303]]\n",
        "[[ 0.     0.     0.062  0.032  0.    -0.357  0.     0.303]]"
       ]
      },
      {
       "output_type": "stream",
       "stream": "stdout",
       "text": [
        "\n",
        "[[ 0.     0.     0.062  0.032  0.    -0.357  0.     0.304]]\n",
        "[[ 0.     0.     0.062  0.032  0.    -0.358  0.     0.304]]\n",
        "[[ 0.     0.     0.062  0.032  0.    -0.358  0.     0.305]]\n",
        "[[ 0.     0.     0.062  0.032  0.    -0.359  0.     0.305]]\n",
        "[[ 0.     0.     0.062  0.032  0.    -0.36   0.     0.305]]"
       ]
      },
      {
       "output_type": "stream",
       "stream": "stdout",
       "text": [
        "\n",
        "[[ 0.     0.     0.063  0.032  0.    -0.36   0.     0.305]]\n",
        "[[ 0.     0.     0.063  0.032  0.    -0.361  0.     0.305]]\n",
        "[[ 0.     0.     0.063  0.032  0.    -0.362  0.     0.305]]\n",
        "[[ 0.     0.     0.063  0.032  0.    -0.362  0.     0.306]]\n",
        "[[ 0.     0.     0.063  0.032  0.    -0.363  0.     0.306]]\n",
        "[[ 0.     0.     0.063  0.032  0.    -0.364  0.     0.306]]"
       ]
      },
      {
       "output_type": "stream",
       "stream": "stdout",
       "text": [
        "\n",
        "[[ 0.     0.     0.064  0.032  0.    -0.364  0.     0.306]]\n",
        "[[ 0.     0.     0.064  0.032  0.    -0.365  0.     0.306]]\n",
        "[[ 0.     0.     0.064  0.032  0.    -0.366  0.     0.306]]\n",
        "[[ 0.     0.     0.064  0.032  0.    -0.366  0.     0.307]]\n",
        "[[ 0.     0.     0.064  0.032  0.    -0.367  0.     0.307]]\n",
        "[[ 0.     0.     0.064  0.032  0.    -0.368  0.     0.307]]"
       ]
      },
      {
       "output_type": "stream",
       "stream": "stdout",
       "text": [
        "\n",
        "[[ 0.     0.     0.065  0.032  0.    -0.368  0.     0.307]]\n",
        "[[ 0.     0.     0.065  0.032  0.    -0.369  0.     0.307]]\n",
        "[[ 0.     0.     0.065  0.032  0.    -0.37   0.     0.307]]\n",
        "[[ 0.     0.     0.065  0.032  0.    -0.37   0.     0.308]]\n",
        "[[ 0.     0.     0.065  0.032  0.    -0.371  0.     0.308]]\n",
        "[[ 0.     0.     0.065  0.032  0.    -0.371  0.     0.309]]"
       ]
      },
      {
       "output_type": "stream",
       "stream": "stdout",
       "text": [
        "\n",
        "[[ 0.     0.     0.065  0.031  0.    -0.371  0.     0.309]]"
       ]
      },
      {
       "output_type": "stream",
       "stream": "stdout",
       "text": [
        "\n",
        "[[ 0.     0.     0.066  0.031  0.    -0.371  0.     0.309]]\n",
        "[[ 0.     0.     0.066  0.031  0.    -0.371  0.     0.31 ]]\n",
        "[[ 0.     0.     0.066  0.031  0.    -0.372  0.     0.31 ]]\n",
        "[[ 0.     0.     0.066  0.031  0.    -0.372  0.     0.311]]\n",
        "[[ 0.     0.     0.066  0.031  0.    -0.373  0.     0.311]]\n",
        "[[ 0.     0.     0.066  0.031  0.    -0.374  0.     0.311]]"
       ]
      },
      {
       "output_type": "stream",
       "stream": "stdout",
       "text": [
        "\n",
        "[[ 0.     0.     0.067  0.031  0.    -0.374  0.     0.311]]\n",
        "[[ 0.     0.     0.067  0.031  0.    -0.375  0.     0.311]]\n",
        "[[ 0.     0.     0.067  0.031  0.    -0.376  0.     0.311]]\n",
        "[[ 0.     0.     0.067  0.031  0.    -0.376  0.     0.312]]\n",
        "[[ 0.     0.     0.067  0.031  0.    -0.377  0.     0.312]]\n",
        "[[ 0.     0.     0.067  0.031  0.    -0.378  0.     0.312]]"
       ]
      },
      {
       "output_type": "stream",
       "stream": "stdout",
       "text": [
        "\n",
        "[[ 0.     0.     0.068  0.031  0.    -0.378  0.     0.312]]\n",
        "[[ 0.     0.     0.068  0.031  0.    -0.379  0.     0.312]]\n",
        "[[ 0.     0.     0.068  0.031  0.    -0.38   0.     0.312]]\n",
        "[[ 0.     0.     0.068  0.031  0.    -0.38   0.     0.313]]\n",
        "[[ 0.     0.     0.068  0.031  0.    -0.381  0.     0.313]]"
       ]
      },
      {
       "output_type": "stream",
       "stream": "stdout",
       "text": [
        "\n",
        "[[ 0.     0.     0.068  0.031  0.    -0.382  0.     0.313]]\n",
        "[[ 0.     0.     0.069  0.031  0.    -0.382  0.     0.313]]\n",
        "[[ 0.     0.     0.069  0.031  0.    -0.383  0.     0.313]]\n",
        "[[ 0.     0.     0.069  0.031  0.    -0.384  0.     0.313]]\n",
        "[[ 0.     0.     0.069  0.031  0.    -0.384  0.     0.314]]"
       ]
      },
      {
       "output_type": "stream",
       "stream": "stdout",
       "text": [
        "\n",
        "[[ 0.     0.     0.069  0.031  0.    -0.385  0.     0.314]]\n",
        "[[ 0.     0.     0.069  0.031  0.    -0.385  0.     0.315]]\n",
        "[[ 0.     0.     0.069  0.031  0.    -0.386  0.     0.315]]\n",
        "[[ 0.     0.     0.069  0.031  0.    -0.387  0.     0.315]]\n",
        "[[ 0.     0.     0.069  0.031  0.    -0.387  0.     0.316]]"
       ]
      },
      {
       "output_type": "stream",
       "stream": "stdout",
       "text": [
        "\n",
        "[[ 0.     0.     0.069  0.031  0.    -0.388  0.     0.316]]\n",
        "[[ 0.     0.     0.069  0.031  0.    -0.389  0.     0.316]]\n",
        "[[ 0.     0.     0.07   0.031  0.    -0.389  0.     0.316]]\n",
        "[[ 0.     0.     0.07   0.031  0.    -0.39   0.     0.316]]\n",
        "[[ 0.     0.     0.07   0.031  0.    -0.391  0.     0.316]]"
       ]
      },
      {
       "output_type": "stream",
       "stream": "stdout",
       "text": [
        "\n",
        "[[ 0.     0.     0.07   0.031  0.    -0.391  0.     0.317]]\n",
        "[[ 0.     0.     0.07   0.031  0.    -0.392  0.     0.317]]\n",
        "[[ 0.     0.     0.07   0.031  0.    -0.392  0.     0.318]]\n",
        "[[ 0.     0.     0.07   0.03   0.    -0.392  0.     0.318]]\n",
        "[[ 0.     0.     0.071  0.03   0.    -0.392  0.     0.318]]\n",
        "[[ 0.     0.     0.072  0.03   0.    -0.392  0.     0.318]]"
       ]
      },
      {
       "output_type": "stream",
       "stream": "stdout",
       "text": [
        "\n",
        "[[ 0.     0.     0.072  0.03   0.    -0.393  0.     0.318]]\n",
        "[[ 0.     0.     0.072  0.03   0.    -0.394  0.     0.318]]\n",
        "[[ 0.     0.     0.072  0.03   0.    -0.394  0.     0.319]]\n",
        "[[ 0.     0.     0.072  0.03   0.    -0.395  0.     0.319]]\n",
        "[[ 0.     0.     0.072  0.03   0.    -0.395  0.     0.32 ]]\n",
        "[[ 0.     0.     0.072  0.03   0.    -0.396  0.     0.32 ]]"
       ]
      },
      {
       "output_type": "stream",
       "stream": "stdout",
       "text": [
        "\n",
        "[[ 0.     0.     0.072  0.03   0.    -0.397  0.     0.32 ]]\n",
        "[[ 0.     0.     0.073  0.03   0.    -0.397  0.     0.32 ]]"
       ]
      },
      {
       "output_type": "stream",
       "stream": "stdout",
       "text": [
        "\n",
        "[[ 0.     0.     0.073  0.03   0.    -0.398  0.     0.32 ]]\n",
        "[[ 0.     0.     0.073  0.03   0.    -0.399  0.     0.32 ]]\n",
        "[[ 0.     0.     0.073  0.03   0.    -0.399  0.     0.321]]"
       ]
      },
      {
       "output_type": "stream",
       "stream": "stdout",
       "text": [
        "\n",
        "[[ 0.     0.     0.073  0.03   0.    -0.4    0.     0.321]]\n",
        "[[ 0.     0.     0.073  0.03   0.    -0.401  0.     0.321]]\n",
        "[[ 0.     0.     0.073  0.03   0.    -0.401  0.     0.322]]\n",
        "[[ 0.     0.     0.073  0.03   0.    -0.402  0.     0.322]]\n",
        "[[ 0.     0.     0.073  0.03   0.    -0.403  0.     0.322]]"
       ]
      },
      {
       "output_type": "stream",
       "stream": "stdout",
       "text": [
        "\n",
        "[[ 0.     0.     0.074  0.03   0.    -0.403  0.     0.322]]\n",
        "[[ 0.     0.     0.074  0.03   0.    -0.404  0.     0.322]]\n",
        "[[ 0.     0.     0.074  0.03   0.    -0.405  0.     0.322]]\n",
        "[[ 0.     0.     0.074  0.03   0.    -0.405  0.     0.323]]\n",
        "[[ 0.     0.     0.074  0.03   0.    -0.406  0.     0.323]]\n",
        "[[ 0.     0.     0.074  0.03   0.    -0.406  0.     0.324]]"
       ]
      },
      {
       "output_type": "stream",
       "stream": "stdout",
       "text": [
        "\n",
        "[[ 0.     0.     0.074  0.03   0.    -0.407  0.     0.324]]\n",
        "[[ 0.     0.     0.074  0.03   0.    -0.408  0.     0.324]]\n",
        "[[ 0.     0.     0.075  0.03   0.    -0.408  0.     0.324]]\n",
        "[[ 0.     0.     0.075  0.03   0.    -0.409  0.     0.324]]\n",
        "[[ 0.     0.     0.075  0.03   0.    -0.41   0.     0.324]]"
       ]
      },
      {
       "output_type": "stream",
       "stream": "stdout",
       "text": [
        "\n",
        "[[ 0.     0.     0.075  0.03   0.    -0.41   0.     0.325]]\n",
        "[[ 0.     0.     0.075  0.03   0.    -0.411  0.     0.325]]\n",
        "[[ 0.     0.     0.075  0.03   0.    -0.412  0.     0.325]]\n",
        "[[ 0.     0.     0.076  0.03   0.    -0.412  0.     0.325]]\n",
        "[[ 0.     0.     0.076  0.029  0.    -0.412  0.     0.325]]"
       ]
      },
      {
       "output_type": "stream",
       "stream": "stdout",
       "text": [
        "\n",
        "[[ 0.     0.     0.077  0.029  0.    -0.412  0.     0.325]]\n",
        "[[ 0.     0.     0.077  0.029  0.    -0.412  0.     0.326]]\n",
        "[[ 0.     0.     0.077  0.029  0.    -0.413  0.     0.326]]\n",
        "[[ 0.     0.     0.077  0.029  0.    -0.413  0.     0.327]]\n",
        "[[ 0.     0.     0.077  0.029  0.    -0.414  0.     0.327]]\n",
        "[[ 0.     0.     0.077  0.029  0.    -0.415  0.     0.327]]"
       ]
      },
      {
       "output_type": "stream",
       "stream": "stdout",
       "text": [
        "\n",
        "[[ 0.     0.     0.078  0.029  0.    -0.415  0.     0.327]]\n",
        "[[ 0.     0.     0.078  0.029  0.    -0.416  0.     0.327]]\n",
        "[[ 0.     0.     0.078  0.029  0.    -0.417  0.     0.327]]\n",
        "[[ 0.     0.     0.078  0.029  0.    -0.417  0.     0.328]]\n",
        "[[ 0.     0.     0.078  0.029  0.    -0.418  0.     0.328]]\n",
        "[[ 0.     0.     0.078  0.029  0.    -0.419  0.     0.328]]"
       ]
      },
      {
       "output_type": "stream",
       "stream": "stdout",
       "text": [
        "\n",
        "[[ 0.     0.     0.078  0.029  0.    -0.419  0.     0.329]]\n",
        "[[ 0.     0.     0.078  0.029  0.    -0.42   0.     0.329]]\n",
        "[[ 0.     0.     0.078  0.029  0.    -0.42   0.     0.33 ]]\n",
        "[[ 0.     0.     0.078  0.029  0.    -0.421  0.     0.33 ]]\n",
        "[[ 0.     0.     0.078  0.029  0.    -0.422  0.     0.33 ]]\n",
        "[[ 0.     0.     0.079  0.029  0.    -0.422  0.     0.33 ]]"
       ]
      },
      {
       "output_type": "stream",
       "stream": "stdout",
       "text": [
        "\n",
        "[[ 0.     0.     0.079  0.029  0.    -0.423  0.     0.33 ]]\n",
        "[[ 0.     0.     0.079  0.029  0.    -0.424  0.     0.33 ]]\n",
        "[[ 0.     0.     0.079  0.029  0.    -0.424  0.     0.331]]\n",
        "[[ 0.     0.     0.079  0.029  0.    -0.425  0.     0.331]]\n",
        "[[ 0.     0.     0.079  0.029  0.    -0.426  0.     0.331]]"
       ]
      },
      {
       "output_type": "stream",
       "stream": "stdout",
       "text": [
        "\n",
        "[[ 0.     0.     0.08   0.029  0.    -0.426  0.     0.331]]\n",
        "[[ 0.     0.     0.08   0.029  0.    -0.427  0.     0.331]]\n",
        "[[ 0.     0.     0.08   0.029  0.    -0.428  0.     0.331]]\n",
        "[[ 0.     0.     0.08   0.029  0.    -0.428  0.     0.332]]\n",
        "[[ 0.     0.     0.08   0.029  0.    -0.429  0.     0.332]]\n",
        "[[ 0.     0.     0.08   0.029  0.    -0.43   0.     0.332]]"
       ]
      },
      {
       "output_type": "stream",
       "stream": "stdout",
       "text": [
        "\n",
        "[[ 0.     0.     0.081  0.029  0.    -0.43   0.     0.332]]\n",
        "[[ 0.     0.     0.081  0.029  0.    -0.431  0.     0.332]]\n",
        "[[ 0.     0.     0.081  0.029  0.    -0.432  0.     0.332]]"
       ]
      },
      {
       "output_type": "stream",
       "stream": "stdout",
       "text": [
        "\n",
        "[[ 0.     0.     0.081  0.029  0.    -0.432  0.     0.333]]\n",
        "[[ 0.     0.     0.081  0.029  0.    -0.433  0.     0.333]]"
       ]
      },
      {
       "output_type": "stream",
       "stream": "stdout",
       "text": [
        "\n",
        "[[ 0.     0.     0.081  0.029  0.    -0.433  0.     0.334]]\n",
        "[[ 0.     0.     0.081  0.028  0.    -0.433  0.     0.334]]\n",
        "[[ 0.     0.     0.082  0.028  0.    -0.433  0.     0.334]]\n",
        "[[ 0.     0.     0.082  0.028  0.    -0.433  0.     0.335]]\n",
        "[[ 0.     0.     0.082  0.028  0.    -0.434  0.     0.335]]\n",
        "[[ 0.     0.     0.082  0.028  0.    -0.434  0.     0.336]]"
       ]
      },
      {
       "output_type": "stream",
       "stream": "stdout",
       "text": [
        "\n",
        "[[ 0.     0.     0.082  0.028  0.    -0.435  0.     0.336]]\n",
        "[[ 0.     0.     0.082  0.028  0.    -0.436  0.     0.336]]\n",
        "[[ 0.     0.     0.083  0.028  0.    -0.436  0.     0.336]]\n",
        "[[ 0.     0.     0.083  0.028  0.    -0.437  0.     0.336]]\n",
        "[[ 0.     0.     0.083  0.028  0.    -0.438  0.     0.336]]\n",
        "[[ 0.     0.     0.083  0.028  0.    -0.438  0.     0.337]]"
       ]
      },
      {
       "output_type": "stream",
       "stream": "stdout",
       "text": [
        "\n",
        "[[ 0.     0.     0.083  0.028  0.    -0.439  0.     0.337]]\n",
        "[[ 0.     0.     0.083  0.028  0.    -0.44   0.     0.337]]\n",
        "[[ 0.     0.     0.084  0.028  0.    -0.44   0.     0.337]]\n",
        "[[ 0.     0.     0.084  0.028  0.    -0.441  0.     0.337]]\n",
        "[[ 0.     0.     0.084  0.028  0.    -0.442  0.     0.337]]\n",
        "[[ 0.     0.     0.084  0.028  0.    -0.442  0.     0.338]]"
       ]
      },
      {
       "output_type": "stream",
       "stream": "stdout",
       "text": [
        "\n",
        "[[ 0.     0.     0.084  0.028  0.    -0.443  0.     0.338]]\n",
        "[[ 0.     0.     0.084  0.028  0.    -0.444  0.     0.338]]\n",
        "[[ 0.     0.     0.085  0.028  0.    -0.444  0.     0.338]]\n",
        "[[ 0.     0.     0.085  0.028  0.    -0.445  0.     0.338]]\n",
        "[[ 0.     0.     0.085  0.028  0.    -0.446  0.     0.338]]\n",
        "[[ 0.     0.     0.085  0.028  0.    -0.446  0.     0.339]]"
       ]
      },
      {
       "output_type": "stream",
       "stream": "stdout",
       "text": [
        "\n",
        "[[ 0.     0.     0.085  0.028  0.    -0.447  0.     0.339]]\n",
        "[[ 0.     0.     0.085  0.028  0.    -0.447  0.     0.34 ]]\n",
        "[[ 0.     0.     0.085  0.028  0.    -0.448  0.     0.34 ]]\n",
        "[[ 0.     0.     0.085  0.028  0.    -0.449  0.     0.34 ]]\n",
        "[[ 0.     0.     0.085  0.028  0.    -0.449  0.     0.341]]\n",
        "[[ 0.     0.     0.085  0.028  0.    -0.45   0.     0.341]]"
       ]
      },
      {
       "output_type": "stream",
       "stream": "stdout",
       "text": [
        "\n",
        "[[ 0.     0.     0.085  0.028  0.    -0.451  0.     0.341]]\n",
        "[[ 0.     0.     0.086  0.028  0.    -0.451  0.     0.341]]\n",
        "[[ 0.     0.     0.086  0.028  0.    -0.452  0.     0.341]]\n",
        "[[ 0.     0.     0.086  0.028  0.    -0.453  0.     0.341]]\n",
        "[[ 0.     0.     0.086  0.028  0.    -0.453  0.     0.342]]\n",
        "[[ 0.     0.     0.086  0.028  0.    -0.454  0.     0.342]]"
       ]
      },
      {
       "output_type": "stream",
       "stream": "stdout",
       "text": [
        "\n",
        "[[ 0.     0.     0.086  0.028  0.    -0.454  0.     0.343]]\n",
        "[[ 0.     0.     0.086  0.028  0.    -0.455  0.     0.343]]\n",
        "[[ 0.     0.     0.086  0.028  0.    -0.456  0.     0.343]]\n",
        "[[ 0.     0.     0.087  0.028  0.    -0.456  0.     0.343]]\n",
        "[[ 0.     0.     0.087  0.027  0.    -0.456  0.     0.343]]\n",
        "[[ 0.     0.     0.088  0.027  0.    -0.456  0.     0.343]]"
       ]
      },
      {
       "output_type": "stream",
       "stream": "stdout",
       "text": [
        "\n",
        "[[ 0.     0.     0.088  0.027  0.    -0.456  0.     0.344]]\n",
        "[[ 0.     0.     0.088  0.027  0.    -0.457  0.     0.344]]\n",
        "[[ 0.     0.     0.088  0.027  0.    -0.457  0.     0.345]]\n",
        "[[ 0.     0.     0.088  0.027  0.    -0.458  0.     0.345]]\n",
        "[[ 0.     0.     0.088  0.027  0.    -0.459  0.     0.345]]\n",
        "[[ 0.     0.     0.089  0.027  0.    -0.459  0.     0.345]]"
       ]
      },
      {
       "output_type": "stream",
       "stream": "stdout",
       "text": [
        "\n",
        "[[ 0.     0.     0.089  0.027  0.    -0.46   0.     0.345]]\n",
        "[[ 0.     0.     0.089  0.027  0.    -0.461  0.     0.345]]\n",
        "[[ 0.     0.     0.089  0.027  0.    -0.461  0.     0.346]]\n",
        "[[ 0.     0.     0.089  0.027  0.    -0.462  0.     0.346]]\n",
        "[[ 0.     0.     0.089  0.027  0.    -0.463  0.     0.346]]\n",
        "[[ 0.     0.     0.089  0.027  0.    -0.463  0.     0.347]]"
       ]
      },
      {
       "output_type": "stream",
       "stream": "stdout",
       "text": [
        "\n",
        "[[ 0.     0.     0.089  0.027  0.    -0.464  0.     0.347]]\n",
        "[[ 0.     0.     0.089  0.027  0.    -0.465  0.     0.347]]\n",
        "[[ 0.     0.     0.09   0.027  0.    -0.465  0.     0.347]]\n",
        "[[ 0.     0.     0.09   0.027  0.    -0.466  0.     0.347]]\n",
        "[[ 0.     0.     0.09   0.027  0.    -0.467  0.     0.347]]"
       ]
      },
      {
       "output_type": "stream",
       "stream": "stdout",
       "text": [
        "\n",
        "[[ 0.     0.     0.09   0.027  0.    -0.467  0.     0.348]]\n",
        "[[ 0.     0.     0.09   0.027  0.    -0.468  0.     0.348]]\n",
        "[[ 0.     0.     0.09   0.027  0.    -0.468  0.     0.349]]\n",
        "[[ 0.     0.     0.09   0.027  0.    -0.469  0.     0.349]]\n",
        "[[ 0.     0.     0.09   0.027  0.    -0.47   0.     0.349]]\n",
        "[[ 0.     0.     0.091  0.027  0.    -0.47   0.     0.349]]"
       ]
      },
      {
       "output_type": "stream",
       "stream": "stdout",
       "text": [
        "\n",
        "[[ 0.     0.     0.091  0.027  0.    -0.471  0.     0.349]]\n",
        "[[ 0.     0.     0.091  0.027  0.    -0.472  0.     0.349]]\n",
        "[[ 0.     0.     0.091  0.027  0.    -0.472  0.     0.35 ]]\n",
        "[[ 0.     0.     0.091  0.027  0.    -0.473  0.     0.35 ]]\n",
        "[[ 0.     0.     0.091  0.027  0.    -0.474  0.     0.35 ]]\n",
        "[[ 0.     0.     0.092  0.027  0.    -0.474  0.     0.35 ]]"
       ]
      },
      {
       "output_type": "stream",
       "stream": "stdout",
       "text": [
        "\n",
        "[[ 0.     0.     0.092  0.027  0.    -0.475  0.     0.35 ]]\n",
        "[[ 0.     0.     0.092  0.027  0.    -0.476  0.     0.35 ]]\n",
        "[[ 0.     0.     0.092  0.027  0.    -0.476  0.     0.351]]"
       ]
      },
      {
       "output_type": "stream",
       "stream": "stdout",
       "text": [
        "\n",
        "[[ 0.     0.     0.092  0.027  0.    -0.477  0.     0.351]]\n",
        "[[ 0.     0.     0.092  0.027  0.    -0.478  0.     0.351]]"
       ]
      },
      {
       "output_type": "stream",
       "stream": "stdout",
       "text": [
        "\n",
        "[[ 0.     0.     0.093  0.027  0.    -0.478  0.     0.351]]\n",
        "[[ 0.     0.     0.093  0.026  0.    -0.478  0.     0.351]]\n",
        "[[ 0.     0.     0.094  0.026  0.    -0.478  0.     0.351]]\n",
        "[[ 0.     0.     0.094  0.026  0.    -0.478  0.     0.352]]\n",
        "[[ 0.     0.     0.094  0.026  0.    -0.479  0.     0.352]]"
       ]
      },
      {
       "output_type": "stream",
       "stream": "stdout",
       "text": [
        "\n",
        "[[ 0.     0.     0.094  0.026  0.    -0.479  0.     0.353]]\n",
        "[[ 0.     0.     0.094  0.026  0.    -0.48   0.     0.353]]\n",
        "[[ 0.     0.     0.094  0.026  0.    -0.481  0.     0.353]]\n",
        "[[ 0.     0.     0.094  0.026  0.    -0.481  0.     0.354]]\n",
        "[[ 0.     0.     0.094  0.026  0.    -0.482  0.     0.354]]"
       ]
      },
      {
       "output_type": "stream",
       "stream": "stdout",
       "text": [
        "\n",
        "[[ 0.     0.     0.094  0.026  0.    -0.482  0.     0.355]]\n",
        "[[ 0.     0.     0.094  0.026  0.    -0.483  0.     0.355]]\n",
        "[[ 0.     0.     0.094  0.026  0.    -0.484  0.     0.355]]\n",
        "[[ 0.     0.     0.095  0.026  0.    -0.484  0.     0.355]]\n",
        "[[ 0.     0.     0.095  0.026  0.    -0.485  0.     0.355]]"
       ]
      },
      {
       "output_type": "stream",
       "stream": "stdout",
       "text": [
        "\n",
        "[[ 0.     0.     0.095  0.026  0.    -0.486  0.     0.355]]\n",
        "[[ 0.     0.     0.095  0.026  0.    -0.486  0.     0.356]]\n",
        "[[ 0.     0.     0.095  0.026  0.    -0.487  0.     0.356]]\n",
        "[[ 0.     0.     0.095  0.026  0.    -0.488  0.     0.356]]\n",
        "[[ 0.     0.     0.096  0.026  0.    -0.488  0.     0.356]]"
       ]
      },
      {
       "output_type": "stream",
       "stream": "stdout",
       "text": [
        "\n",
        "[[ 0.     0.     0.096  0.026  0.    -0.489  0.     0.356]]\n",
        "[[ 0.     0.     0.096  0.026  0.    -0.49   0.     0.356]]\n",
        "[[ 0.     0.     0.096  0.026  0.    -0.49   0.     0.357]]\n",
        "[[ 0.     0.     0.096  0.026  0.    -0.491  0.     0.357]]\n",
        "[[ 0.     0.     0.096  0.026  0.    -0.492  0.     0.357]]\n",
        "[[ 0.     0.     0.097  0.026  0.    -0.492  0.     0.357]]"
       ]
      },
      {
       "output_type": "stream",
       "stream": "stdout",
       "text": [
        "\n",
        "[[ 0.     0.     0.097  0.026  0.    -0.493  0.     0.357]]\n",
        "[[ 0.     0.     0.097  0.026  0.    -0.494  0.     0.357]]\n",
        "[[ 0.     0.     0.097  0.026  0.    -0.494  0.     0.358]]\n",
        "[[ 0.     0.     0.097  0.026  0.    -0.495  0.     0.358]]\n",
        "[[ 0.     0.     0.097  0.026  0.    -0.495  0.     0.359]]\n",
        "[[ 0.     0.     0.097  0.026  0.    -0.496  0.     0.359]]"
       ]
      },
      {
       "output_type": "stream",
       "stream": "stdout",
       "text": [
        "\n",
        "[[ 0.     0.     0.097  0.026  0.    -0.497  0.     0.359]]\n",
        "[[ 0.     0.     0.097  0.026  0.    -0.497  0.     0.36 ]]\n",
        "[[ 0.     0.     0.097  0.026  0.    -0.498  0.     0.36 ]]\n",
        "[[ 0.     0.     0.097  0.026  0.    -0.499  0.     0.36 ]]\n",
        "[[ 0.     0.     0.098  0.026  0.    -0.499  0.     0.36 ]]\n",
        "[[ 0.     0.     0.098  0.025  0.    -0.499  0.     0.36 ]]"
       ]
      },
      {
       "output_type": "stream",
       "stream": "stdout",
       "text": [
        "\n",
        "[[ 0.     0.     0.099  0.025  0.    -0.499  0.     0.36 ]]\n",
        "[[ 0.     0.     0.099  0.025  0.    -0.499  0.     0.361]]\n",
        "[[ 0.     0.     0.099  0.025  0.    -0.5    0.     0.361]]\n",
        "[[ 0.     0.     0.099  0.025  0.    -0.5    0.     0.362]]\n",
        "[[ 0.     0.     0.099  0.025  0.    -0.501  0.     0.362]]"
       ]
      },
      {
       "output_type": "stream",
       "stream": "stdout",
       "text": [
        "\n",
        "[[ 0.     0.     0.099  0.025  0.    -0.502  0.     0.362]]\n",
        "[[ 0.     0.     0.1    0.025  0.    -0.502  0.     0.362]]\n",
        "[[ 0.     0.     0.1    0.025  0.    -0.503  0.     0.362]]\n",
        "[[ 0.     0.     0.1    0.025  0.    -0.504  0.     0.362]]\n",
        "[[ 0.     0.     0.1    0.025  0.    -0.504  0.     0.363]]"
       ]
      },
      {
       "output_type": "stream",
       "stream": "stdout",
       "text": [
        "\n",
        "[[ 0.     0.     0.1    0.025  0.    -0.505  0.     0.363]]\n",
        "[[ 0.     0.     0.1    0.025  0.    -0.506  0.     0.363]]\n",
        "[[ 0.     0.     0.101  0.025  0.    -0.506  0.     0.363]]\n",
        "[[ 0.     0.     0.101  0.025  0.    -0.507  0.     0.363]]\n",
        "[[ 0.     0.     0.101  0.025  0.    -0.508  0.     0.363]]\n",
        "[[ 0.     0.     0.101  0.025  0.    -0.508  0.     0.364]]"
       ]
      },
      {
       "output_type": "stream",
       "stream": "stdout",
       "text": [
        "\n",
        "[[ 0.     0.     0.101  0.025  0.    -0.509  0.     0.364]]\n",
        "[[ 0.     0.     0.101  0.025  0.    -0.509  0.     0.365]]\n",
        "[[ 0.     0.     0.101  0.025  0.    -0.51   0.     0.365]]\n",
        "[[ 0.     0.     0.101  0.025  0.    -0.511  0.     0.365]]\n",
        "[[ 0.     0.     0.101  0.025  0.    -0.511  0.     0.366]]\n",
        "[[ 0.     0.     0.101  0.025  0.    -0.512  0.     0.366]]"
       ]
      },
      {
       "output_type": "stream",
       "stream": "stdout",
       "text": [
        "\n",
        "[[ 0.     0.     0.101  0.025  0.    -0.513  0.     0.366]]\n",
        "[[ 0.     0.     0.102  0.025  0.    -0.513  0.     0.366]]\n",
        "[[ 0.     0.     0.102  0.025  0.    -0.514  0.     0.366]]\n",
        "[[ 0.     0.     0.102  0.025  0.    -0.515  0.     0.366]]\n",
        "[[ 0.     0.     0.102  0.025  0.    -0.515  0.     0.367]]\n",
        "[[ 0.     0.     0.102  0.025  0.    -0.516  0.     0.367]]"
       ]
      },
      {
       "output_type": "stream",
       "stream": "stdout",
       "text": [
        "\n",
        "[[ 0.     0.     0.102  0.025  0.    -0.516  0.     0.368]]\n",
        "[[ 0.     0.     0.102  0.025  0.    -0.517  0.     0.368]]\n",
        "[[ 0.     0.     0.102  0.025  0.    -0.518  0.     0.368]]\n",
        "[[ 0.     0.     0.103  0.025  0.    -0.518  0.     0.368]]\n",
        "[[ 0.     0.     0.103  0.024  0.    -0.518  0.     0.368]]\n",
        "[[ 0.     0.     0.104  0.024  0.    -0.518  0.     0.368]]"
       ]
      },
      {
       "output_type": "stream",
       "stream": "stdout",
       "text": [
        "\n",
        "[[ 0.     0.     0.104  0.024  0.    -0.518  0.     0.369]]\n",
        "[[ 0.     0.     0.104  0.024  0.    -0.519  0.     0.369]]\n",
        "[[ 0.     0.     0.104  0.024  0.    -0.519  0.     0.37 ]]\n",
        "[[ 0.     0.     0.104  0.024  0.    -0.52   0.     0.37 ]]\n",
        "[[ 0.     0.     0.104  0.024  0.    -0.521  0.     0.37 ]]\n",
        "[[ 0.     0.     0.105  0.024  0.    -0.521  0.     0.37 ]]"
       ]
      },
      {
       "output_type": "stream",
       "stream": "stdout",
       "text": [
        "\n",
        "[[ 0.     0.     0.105  0.024  0.    -0.522  0.     0.37 ]]\n",
        "[[ 0.     0.     0.105  0.024  0.    -0.523  0.     0.37 ]]\n",
        "[[ 0.     0.     0.105  0.024  0.    -0.523  0.     0.371]]\n",
        "[[ 0.     0.     0.105  0.024  0.    -0.524  0.     0.371]]\n",
        "[[ 0.     0.     0.105  0.024  0.    -0.525  0.     0.371]]\n",
        "[[ 0.     0.     0.105  0.024  0.    -0.525  0.     0.372]]"
       ]
      },
      {
       "output_type": "stream",
       "stream": "stdout",
       "text": [
        "\n",
        "[[ 0.     0.     0.105  0.024  0.    -0.526  0.     0.372]]\n",
        "[[ 0.     0.     0.105  0.024  0.    -0.527  0.     0.372]]\n",
        "[[ 0.     0.     0.106  0.024  0.    -0.527  0.     0.372]]\n",
        "[[ 0.     0.     0.106  0.024  0.    -0.528  0.     0.372]]\n",
        "[[ 0.     0.     0.106  0.024  0.    -0.529  0.     0.372]]\n",
        "[[ 0.     0.     0.106  0.024  0.    -0.529  0.     0.373]]"
       ]
      },
      {
       "output_type": "stream",
       "stream": "stdout",
       "text": [
        "\n",
        "[[ 0.     0.     0.106  0.024  0.    -0.53   0.     0.373]]\n",
        "[[ 0.     0.     0.106  0.024  0.    -0.53   0.     0.374]]\n",
        "[[ 0.     0.     0.106  0.024  0.    -0.531  0.     0.374]]\n",
        "[[ 0.     0.     0.106  0.024  0.    -0.532  0.     0.374]]\n",
        "[[ 0.     0.     0.107  0.024  0.    -0.532  0.     0.374]]\n",
        "[[ 0.     0.     0.107  0.024  0.    -0.533  0.     0.374]]"
       ]
      },
      {
       "output_type": "stream",
       "stream": "stdout",
       "text": [
        "\n",
        "[[ 0.     0.     0.107  0.024  0.    -0.534  0.     0.374]]\n",
        "[[ 0.     0.     0.107  0.024  0.001 -0.534  0.     0.374]]\n",
        "[[ 0.     0.     0.107  0.024  0.002 -0.534  0.     0.374]]\n",
        "[[ 0.     0.     0.107  0.024  0.002 -0.535  0.     0.374]]\n",
        "[[ 0.     0.     0.107  0.024  0.003 -0.535  0.     0.374]]"
       ]
      },
      {
       "output_type": "stream",
       "stream": "stdout",
       "text": [
        "\n",
        "[[ 0.     0.     0.107  0.024  0.004 -0.535  0.     0.374]]\n",
        "[[ 0.     0.     0.107  0.024  0.004 -0.536  0.     0.374]]\n",
        "[[ 0.     0.     0.107  0.024  0.005 -0.536  0.     0.374]]\n",
        "[[ 0.     0.     0.107  0.024  0.006 -0.536  0.     0.374]]\n",
        "[[ 0.     0.     0.107  0.024  0.006 -0.537  0.     0.374]]\n",
        "[[ 0.     0.     0.107  0.024  0.007 -0.537  0.     0.374]]"
       ]
      },
      {
       "output_type": "stream",
       "stream": "stdout",
       "text": [
        "\n",
        "[[ 0.     0.     0.107  0.024  0.008 -0.537  0.     0.374]]\n",
        "[[ 0.     0.     0.107  0.024  0.008 -0.538  0.     0.374]]\n",
        "[[ 0.     0.     0.108  0.024  0.008 -0.538  0.     0.374]]\n",
        "[[ 0.     0.     0.108  0.024  0.008 -0.539  0.     0.374]]\n",
        "[[ 0.     0.     0.108  0.024  0.008 -0.54   0.     0.374]]"
       ]
      },
      {
       "output_type": "stream",
       "stream": "stdout",
       "text": [
        "\n",
        "[[ 0.     0.     0.108  0.024  0.009 -0.54   0.     0.374]]\n",
        "[[ 0.     0.     0.108  0.024  0.01  -0.54   0.     0.374]]\n",
        "[[ 0.     0.     0.108  0.024  0.01  -0.541  0.     0.374]]"
       ]
      },
      {
       "output_type": "stream",
       "stream": "stdout",
       "text": [
        "\n",
        "[[ 0.     0.     0.108  0.024  0.011 -0.541  0.     0.374]]\n",
        "[[ 0.     0.     0.108  0.024  0.012 -0.541  0.     0.374]]\n",
        "[[ 0.     0.     0.108  0.024  0.013 -0.541  0.     0.374]]\n",
        "[[ 0.     0.     0.108  0.024  0.013 -0.542  0.     0.374]]"
       ]
      },
      {
       "output_type": "stream",
       "stream": "stdout",
       "text": [
        "\n",
        "[[ 0.     0.     0.108  0.024  0.014 -0.542  0.     0.374]]\n",
        "[[ 0.     0.     0.108  0.024  0.015 -0.542  0.     0.374]]\n",
        "[[ 0.     0.     0.108  0.024  0.015 -0.543  0.     0.374]]"
       ]
      },
      {
       "output_type": "stream",
       "stream": "stdout",
       "text": [
        "\n",
        "[[ 0.     0.     0.108  0.024  0.016 -0.543  0.     0.374]]\n",
        "[[ 0.     0.     0.108  0.024  0.017 -0.543  0.     0.374]]\n",
        "[[ 0.     0.     0.108  0.024  0.017 -0.544  0.     0.374]]\n",
        "[[ 0.     0.     0.108  0.024  0.018 -0.544  0.     0.374]]\n",
        "[[ 0.     0.     0.108  0.024  0.019 -0.544  0.     0.374]]\n",
        "[[ 0.     0.     0.108  0.024  0.019 -0.545  0.     0.374]]"
       ]
      },
      {
       "output_type": "stream",
       "stream": "stdout",
       "text": [
        "\n",
        "[[ 0.     0.     0.108  0.024  0.02  -0.545  0.     0.374]]\n",
        "[[ 0.     0.     0.108  0.024  0.021 -0.545  0.     0.374]]\n",
        "[[ 0.     0.     0.108  0.024  0.022 -0.545  0.     0.374]]\n",
        "[[ 0.     0.     0.108  0.024  0.022 -0.546  0.     0.374]]\n",
        "[[ 0.     0.     0.108  0.024  0.023 -0.546  0.     0.374]]"
       ]
      },
      {
       "output_type": "stream",
       "stream": "stdout",
       "text": [
        "\n",
        "[[ 0.     0.     0.108  0.024  0.024 -0.546  0.     0.374]]\n",
        "[[ 0.     0.     0.108  0.024  0.024 -0.547  0.     0.374]]"
       ]
      },
      {
       "output_type": "stream",
       "stream": "stdout",
       "text": [
        "\n",
        "[[ 0.     0.     0.108  0.024  0.025 -0.547  0.     0.374]]\n",
        "[[ 0.     0.     0.108  0.024  0.026 -0.547  0.     0.374]]\n",
        "[[ 0.     0.     0.108  0.024  0.026 -0.548  0.     0.374]]"
       ]
      },
      {
       "output_type": "stream",
       "stream": "stdout",
       "text": [
        "\n",
        "[[ 0.     0.     0.108  0.024  0.027 -0.548  0.     0.374]]\n",
        "[[ 0.     0.     0.108  0.024  0.028 -0.548  0.     0.374]]\n",
        "[[ 0.     0.     0.108  0.024  0.028 -0.549  0.     0.374]]\n",
        "[[ 0.     0.     0.108  0.024  0.029 -0.549  0.     0.374]]"
       ]
      },
      {
       "output_type": "stream",
       "stream": "stdout",
       "text": [
        "\n",
        "[[ 0.     0.     0.108  0.024  0.03  -0.549  0.     0.374]]\n",
        "[[ 0.     0.     0.108  0.024  0.031 -0.549  0.     0.374]]\n",
        "[[ 0.     0.     0.108  0.024  0.031 -0.55   0.     0.374]]\n",
        "[[ 0.     0.     0.108  0.024  0.032 -0.55   0.     0.374]]"
       ]
      },
      {
       "output_type": "stream",
       "stream": "stdout",
       "text": [
        "\n",
        "[[ 0.     0.     0.108  0.024  0.033 -0.55   0.     0.374]]\n",
        "[[ 0.     0.     0.108  0.024  0.033 -0.551  0.     0.374]]\n",
        "[[ 0.     0.     0.108  0.024  0.034 -0.551  0.     0.374]]"
       ]
      },
      {
       "output_type": "stream",
       "stream": "stdout",
       "text": [
        "\n",
        "[[ 0.     0.     0.108  0.024  0.035 -0.551  0.     0.374]]\n",
        "[[ 0.     0.     0.108  0.024  0.035 -0.552  0.     0.374]]\n",
        "[[ 0.     0.     0.108  0.024  0.036 -0.552  0.     0.374]]"
       ]
      },
      {
       "output_type": "stream",
       "stream": "stdout",
       "text": [
        "\n",
        "[[ 0.     0.     0.108  0.024  0.037 -0.552  0.     0.374]]\n",
        "[[ 0.     0.     0.108  0.024  0.037 -0.553  0.     0.374]]\n",
        "[[ 0.     0.     0.108  0.024  0.038 -0.553  0.     0.374]]"
       ]
      },
      {
       "output_type": "stream",
       "stream": "stdout",
       "text": [
        "\n",
        "[[ 0.     0.     0.108  0.024  0.039 -0.553  0.     0.374]]\n",
        "[[ 0.     0.     0.108  0.024  0.039 -0.554  0.     0.374]]\n",
        "[[ 0.     0.     0.108  0.024  0.04  -0.554  0.     0.374]]\n",
        "[[ 0.     0.     0.108  0.024  0.041 -0.554  0.     0.374]]\n",
        "[[ 0.     0.     0.108  0.024  0.042 -0.554  0.     0.374]]"
       ]
      },
      {
       "output_type": "stream",
       "stream": "stdout",
       "text": [
        "\n",
        "[[ 0.     0.     0.108  0.023  0.042 -0.554  0.     0.374]]\n",
        "[[ 0.     0.     0.109  0.023  0.042 -0.554  0.     0.374]]\n",
        "[[ 0.     0.     0.109  0.023  0.043 -0.554  0.     0.374]]\n",
        "[[ 0.     0.     0.109  0.023  0.044 -0.554  0.     0.374]]\n",
        "[[ 0.     0.     0.109  0.023  0.045 -0.554  0.     0.374]]\n",
        "[[ 0.     0.     0.109  0.023  0.046 -0.554  0.     0.374]]"
       ]
      },
      {
       "output_type": "stream",
       "stream": "stdout",
       "text": [
        "\n",
        "[[ 0.     0.     0.109  0.023  0.047 -0.554  0.     0.374]]\n",
        "[[ 0.     0.     0.109  0.023  0.047 -0.555  0.     0.374]]"
       ]
      },
      {
       "output_type": "stream",
       "stream": "stdout",
       "text": [
        "\n",
        "[[ 0.     0.     0.109  0.023  0.048 -0.555  0.     0.374]]\n",
        "[[ 0.     0.     0.109  0.023  0.049 -0.555  0.     0.374]]\n",
        "[[ 0.     0.     0.109  0.023  0.049 -0.556  0.     0.374]]\n",
        "[[ 0.     0.     0.109  0.023  0.05  -0.556  0.     0.374]]"
       ]
      },
      {
       "output_type": "stream",
       "stream": "stdout",
       "text": [
        "\n",
        "[[ 0.     0.     0.109  0.023  0.051 -0.556  0.     0.374]]\n",
        "[[ 0.     0.     0.109  0.023  0.051 -0.557  0.     0.374]]\n",
        "[[ 0.     0.     0.109  0.023  0.052 -0.557  0.     0.374]]"
       ]
      },
      {
       "output_type": "stream",
       "stream": "stdout",
       "text": [
        "\n",
        "[[ 0.     0.     0.109  0.023  0.053 -0.557  0.     0.374]]\n",
        "[[ 0.     0.     0.109  0.023  0.053 -0.558  0.     0.374]]\n",
        "[[ 0.     0.     0.109  0.023  0.054 -0.558  0.     0.374]]\n",
        "[[ 0.     0.     0.109  0.023  0.055 -0.558  0.     0.374]]\n",
        "[[ 0.     0.     0.109  0.023  0.056 -0.558  0.     0.374]]\n",
        "[[ 0.     0.     0.109  0.023  0.056 -0.559  0.     0.374]]"
       ]
      },
      {
       "output_type": "stream",
       "stream": "stdout",
       "text": [
        "\n",
        "[[ 0.     0.     0.109  0.023  0.057 -0.559  0.     0.374]]\n",
        "[[ 0.     0.     0.109  0.023  0.058 -0.559  0.     0.374]]\n",
        "[[ 0.     0.     0.109  0.023  0.058 -0.56   0.     0.374]]\n",
        "[[ 0.     0.     0.109  0.023  0.059 -0.56   0.     0.374]]\n",
        "[[ 0.     0.     0.109  0.023  0.06  -0.56   0.     0.374]]"
       ]
      },
      {
       "output_type": "stream",
       "stream": "stdout",
       "text": [
        "\n",
        "[[ 0.     0.     0.109  0.023  0.06  -0.561  0.     0.374]]\n",
        "[[ 0.     0.     0.109  0.023  0.061 -0.561  0.     0.374]]\n",
        "[[ 0.     0.     0.109  0.023  0.062 -0.561  0.     0.374]]"
       ]
      },
      {
       "output_type": "stream",
       "stream": "stdout",
       "text": [
        "\n",
        "[[ 0.     0.     0.109  0.023  0.062 -0.562  0.     0.374]]\n",
        "[[ 0.     0.     0.109  0.023  0.063 -0.562  0.     0.374]]\n",
        "[[ 0.     0.     0.109  0.023  0.064 -0.562  0.     0.374]]"
       ]
      },
      {
       "output_type": "stream",
       "stream": "stdout",
       "text": [
        "\n",
        "[[ 0.     0.     0.109  0.023  0.064 -0.563  0.     0.374]]\n",
        "[[ 0.     0.     0.109  0.023  0.065 -0.563  0.     0.374]]\n",
        "[[ 0.     0.     0.109  0.023  0.066 -0.563  0.     0.374]]\n",
        "[[ 0.     0.     0.109  0.023  0.067 -0.563  0.     0.374]]\n",
        "[[ 0.     0.     0.109  0.023  0.067 -0.564  0.     0.374]]\n",
        "[[ 0.     0.     0.109  0.023  0.068 -0.564  0.     0.374]]"
       ]
      },
      {
       "output_type": "stream",
       "stream": "stdout",
       "text": [
        "\n",
        "[[ 0.     0.     0.109  0.023  0.069 -0.564  0.     0.374]]\n",
        "[[ 0.     0.     0.109  0.023  0.069 -0.565  0.     0.374]]\n",
        "[[ 0.     0.     0.109  0.023  0.07  -0.565  0.     0.374]]\n",
        "[[ 0.     0.     0.109  0.023  0.071 -0.565  0.     0.374]]\n",
        "[[ 0.     0.     0.109  0.023  0.071 -0.566  0.     0.374]]"
       ]
      },
      {
       "output_type": "stream",
       "stream": "stdout",
       "text": [
        "\n",
        "[[ 0.     0.     0.109  0.023  0.072 -0.566  0.     0.374]]\n",
        "[[ 0.     0.     0.109  0.023  0.073 -0.566  0.     0.374]]\n",
        "[[ 0.     0.     0.109  0.023  0.073 -0.567  0.     0.374]]"
       ]
      },
      {
       "output_type": "stream",
       "stream": "stdout",
       "text": [
        "\n",
        "[[ 0.     0.     0.109  0.023  0.074 -0.567  0.     0.374]]\n",
        "[[ 0.     0.     0.109  0.023  0.075 -0.567  0.     0.374]]\n",
        "[[ 0.     0.     0.109  0.023  0.076 -0.567  0.     0.374]]\n",
        "[[ 0.     0.     0.109  0.023  0.076 -0.568  0.     0.374]]"
       ]
      },
      {
       "output_type": "stream",
       "stream": "stdout",
       "text": [
        "\n",
        "[[ 0.     0.     0.109  0.023  0.077 -0.568  0.     0.374]]\n",
        "[[ 0.     0.     0.109  0.023  0.078 -0.568  0.     0.374]]\n",
        "[[ 0.     0.     0.109  0.023  0.078 -0.569  0.     0.374]]\n",
        "[[ 0.     0.     0.109  0.023  0.079 -0.569  0.     0.374]]\n",
        "[[ 0.     0.     0.109  0.023  0.08  -0.569  0.     0.374]]"
       ]
      },
      {
       "output_type": "stream",
       "stream": "stdout",
       "text": [
        "\n",
        "[[ 0.     0.     0.109  0.023  0.08  -0.57   0.     0.374]]\n",
        "[[ 0.     0.     0.109  0.023  0.081 -0.57   0.     0.374]]\n",
        "[[ 0.     0.     0.109  0.023  0.082 -0.57   0.     0.374]]\n",
        "[[ 0.     0.     0.109  0.023  0.082 -0.571  0.     0.374]]\n",
        "[[ 0.     0.     0.109  0.023  0.083 -0.571  0.     0.374]]"
       ]
      },
      {
       "output_type": "stream",
       "stream": "stdout",
       "text": [
        "\n",
        "[[ 0.     0.     0.109  0.023  0.084 -0.571  0.     0.374]]\n",
        "[[ 0.     0.     0.109  0.023  0.085 -0.571  0.     0.374]]\n",
        "[[ 0.     0.     0.109  0.023  0.085 -0.572  0.     0.374]]"
       ]
      },
      {
       "output_type": "stream",
       "stream": "stdout",
       "text": [
        "\n",
        "[[ 0.     0.     0.109  0.023  0.086 -0.572  0.     0.374]]\n",
        "[[ 0.     0.     0.109  0.023  0.087 -0.572  0.     0.374]]\n",
        "[[ 0.     0.     0.109  0.023  0.087 -0.573  0.     0.374]]\n",
        "[[ 0.     0.     0.109  0.023  0.088 -0.573  0.     0.374]]"
       ]
      },
      {
       "output_type": "stream",
       "stream": "stdout",
       "text": [
        "\n",
        "[[ 0.     0.     0.109  0.023  0.089 -0.573  0.     0.374]]\n",
        "[[ 0.     0.     0.109  0.023  0.089 -0.574  0.     0.374]]\n",
        "[[ 0.     0.     0.109  0.023  0.09  -0.574  0.     0.374]]\n",
        "[[ 0.     0.     0.109  0.023  0.091 -0.574  0.     0.374]]\n",
        "[[ 0.     0.     0.109  0.023  0.091 -0.575  0.     0.374]]"
       ]
      },
      {
       "output_type": "stream",
       "stream": "stdout",
       "text": [
        "\n",
        "[[ 0.     0.     0.109  0.023  0.092 -0.575  0.     0.374]]\n",
        "[[ 0.     0.     0.109  0.023  0.093 -0.575  0.     0.374]]\n",
        "[[ 0.     0.     0.109  0.023  0.094 -0.575  0.     0.374]]\n",
        "[[ 0.     0.     0.109  0.023  0.094 -0.575 -0.001  0.374]]\n",
        "[[ 0.     0.     0.109  0.023  0.095 -0.575 -0.001  0.374]]"
       ]
      },
      {
       "output_type": "stream",
       "stream": "stdout",
       "text": [
        "\n",
        "[[ 0.     0.     0.109  0.023  0.096 -0.575 -0.001  0.374]]\n",
        "[[ 0.     0.     0.109  0.023  0.097 -0.575 -0.001  0.374]]\n",
        "[[ 0.     0.     0.109  0.023  0.098 -0.575 -0.001  0.374]]"
       ]
      },
      {
       "output_type": "stream",
       "stream": "stdout",
       "text": [
        "\n",
        "[[ 0.     0.     0.109  0.023  0.098 -0.576 -0.001  0.374]]\n",
        "[[ 0.     0.     0.109  0.023  0.099 -0.576 -0.001  0.374]]\n",
        "[[ 0.     0.     0.109  0.023  0.1   -0.576 -0.001  0.374]]"
       ]
      },
      {
       "output_type": "stream",
       "stream": "stdout",
       "text": [
        "\n",
        "[[ 0.     0.     0.109  0.023  0.1   -0.577 -0.001  0.374]]\n",
        "[[ 0.     0.     0.109  0.023  0.101 -0.577 -0.001  0.374]]\n",
        "[[ 0.     0.     0.109  0.023  0.102 -0.577 -0.001  0.374]]\n",
        "[[ 0.     0.     0.109  0.023  0.102 -0.578 -0.001  0.374]]\n",
        "[[ 0.     0.     0.109  0.023  0.103 -0.578 -0.001  0.374]]"
       ]
      },
      {
       "output_type": "stream",
       "stream": "stdout",
       "text": [
        "\n",
        "[[ 0.     0.     0.109  0.023  0.104 -0.578 -0.001  0.374]]\n",
        "[[ 0.001  0.     0.109  0.023  0.104 -0.578 -0.001  0.374]]"
       ]
      },
      {
       "output_type": "stream",
       "stream": "stdout",
       "text": [
        "\n",
        "[[ 0.001  0.     0.109  0.023  0.105 -0.578 -0.001  0.374]]\n",
        "[[ 0.001  0.     0.109  0.023  0.105 -0.578 -0.002  0.374]]\n",
        "[[ 0.001  0.     0.109  0.023  0.106 -0.578 -0.002  0.374]]\n",
        "[[ 0.001  0.     0.109  0.023  0.107 -0.578 -0.002  0.374]]"
       ]
      },
      {
       "output_type": "stream",
       "stream": "stdout",
       "text": [
        "\n",
        "[[ 0.001  0.     0.109  0.023  0.108 -0.578 -0.002  0.374]]\n",
        "[[ 0.001  0.     0.109  0.023  0.109 -0.578 -0.002  0.374]]\n",
        "[[ 0.001  0.     0.109  0.023  0.109 -0.579 -0.002  0.374]]\n",
        "[[ 0.001  0.     0.109  0.023  0.11  -0.579 -0.002  0.374]]"
       ]
      },
      {
       "output_type": "stream",
       "stream": "stdout",
       "text": [
        "\n",
        "[[ 0.001  0.     0.109  0.023  0.111 -0.579 -0.002  0.374]]\n",
        "[[ 0.001  0.     0.109  0.023  0.111 -0.579 -0.003  0.374]]"
       ]
      },
      {
       "output_type": "stream",
       "stream": "stdout",
       "text": [
        "\n",
        "[[ 0.001  0.     0.109  0.023  0.112 -0.579 -0.003  0.374]]\n",
        "[[ 0.001  0.     0.109  0.023  0.113 -0.579 -0.003  0.374]]\n",
        "[[ 0.001  0.     0.109  0.023  0.114 -0.579 -0.003  0.374]]\n",
        "[[ 0.001  0.     0.109  0.023  0.115 -0.579 -0.003  0.374]]"
       ]
      },
      {
       "output_type": "stream",
       "stream": "stdout",
       "text": [
        "\n",
        "[[ 0.001  0.     0.109  0.023  0.115 -0.58  -0.003  0.374]]\n",
        "[[ 0.001  0.     0.109  0.023  0.116 -0.58  -0.003  0.374]]\n",
        "[[ 0.001  0.     0.109  0.023  0.117 -0.58  -0.003  0.374]]\n",
        "[[ 0.001  0.     0.109  0.023  0.118 -0.58  -0.003  0.374]]\n",
        "[[ 0.001  0.     0.109  0.022  0.118 -0.58  -0.003  0.374]]"
       ]
      },
      {
       "output_type": "stream",
       "stream": "stdout",
       "text": [
        "\n",
        "[[ 0.001  0.     0.11   0.022  0.118 -0.58  -0.003  0.374]]"
       ]
      },
      {
       "output_type": "stream",
       "stream": "stdout",
       "text": [
        "\n",
        "[[ 0.001  0.     0.11   0.022  0.119 -0.58  -0.003  0.374]]\n",
        "[[ 0.001  0.     0.11   0.022  0.12  -0.58  -0.003  0.374]]\n",
        "[[ 0.001  0.     0.11   0.022  0.121 -0.58  -0.003  0.374]]"
       ]
      },
      {
       "output_type": "stream",
       "stream": "stdout",
       "text": [
        "\n",
        "[[ 0.001  0.     0.11   0.022  0.122 -0.58  -0.003  0.374]]\n",
        "[[ 0.001  0.     0.11   0.022  0.123 -0.58  -0.003  0.374]]\n",
        "[[ 0.001  0.     0.11   0.022  0.123 -0.581 -0.003  0.374]]\n",
        "[[ 0.001  0.     0.11   0.022  0.124 -0.581 -0.003  0.374]]"
       ]
      },
      {
       "output_type": "stream",
       "stream": "stdout",
       "text": [
        "\n",
        "[[ 0.001  0.     0.11   0.022  0.125 -0.581 -0.003  0.374]]\n",
        "[[ 0.001  0.     0.11   0.022  0.125 -0.582 -0.003  0.374]]\n",
        "[[ 0.001  0.     0.11   0.022  0.126 -0.582 -0.003  0.374]]"
       ]
      },
      {
       "output_type": "stream",
       "stream": "stdout",
       "text": [
        "\n",
        "[[ 0.001  0.     0.11   0.022  0.127 -0.582 -0.003  0.374]]\n",
        "[[ 0.001  0.     0.11   0.022  0.127 -0.583 -0.003  0.374]]\n",
        "[[ 0.001  0.     0.11   0.022  0.128 -0.583 -0.003  0.374]]"
       ]
      },
      {
       "output_type": "stream",
       "stream": "stdout",
       "text": [
        "\n",
        "[[ 0.001  0.     0.11   0.022  0.129 -0.583 -0.003  0.374]]\n",
        "[[ 0.001  0.     0.11   0.022  0.129 -0.584 -0.003  0.374]]\n",
        "[[ 0.001  0.     0.11   0.022  0.13  -0.584 -0.003  0.374]]\n",
        "[[ 0.001  0.     0.11   0.022  0.131 -0.584 -0.003  0.374]]\n",
        "[[ 0.002  0.     0.11   0.022  0.131 -0.584 -0.003  0.374]]\n",
        "[[ 0.002  0.     0.11   0.022  0.131 -0.585 -0.003  0.374]]"
       ]
      },
      {
       "output_type": "stream",
       "stream": "stdout",
       "text": [
        "\n",
        "[[ 0.002  0.     0.11   0.022  0.132 -0.585 -0.003  0.374]]\n",
        "[[ 0.002  0.     0.11   0.022  0.133 -0.585 -0.003  0.374]]\n",
        "[[ 0.002  0.     0.11   0.022  0.134 -0.585 -0.003  0.374]]\n",
        "[[ 0.002  0.     0.11   0.022  0.134 -0.585 -0.004  0.374]]"
       ]
      },
      {
       "output_type": "stream",
       "stream": "stdout",
       "text": [
        "\n",
        "[[ 0.002  0.     0.11   0.022  0.135 -0.585 -0.004  0.374]]\n",
        "[[ 0.002  0.     0.11   0.022  0.136 -0.585 -0.004  0.374]]\n",
        "[[ 0.002  0.     0.11   0.022  0.137 -0.585 -0.004  0.374]]\n",
        "[[ 0.002  0.     0.11   0.022  0.138 -0.585 -0.004  0.374]]"
       ]
      },
      {
       "output_type": "stream",
       "stream": "stdout",
       "text": [
        "\n",
        "[[ 0.002  0.     0.11   0.022  0.138 -0.586 -0.004  0.374]]\n",
        "[[ 0.002  0.     0.11   0.022  0.139 -0.586 -0.004  0.374]]\n",
        "[[ 0.002  0.     0.11   0.022  0.14  -0.586 -0.004  0.374]]\n",
        "[[ 0.002  0.     0.11   0.022  0.14  -0.587 -0.004  0.374]]\n",
        "[[ 0.002  0.     0.11   0.022  0.141 -0.587 -0.004  0.374]]"
       ]
      },
      {
       "output_type": "stream",
       "stream": "stdout",
       "text": [
        "\n",
        "[[ 0.002  0.     0.11   0.022  0.142 -0.587 -0.004  0.374]]\n",
        "[[ 0.003  0.     0.11   0.022  0.142 -0.587 -0.004  0.374]]\n",
        "[[ 0.003  0.     0.11   0.022  0.143 -0.587 -0.004  0.374]]\n",
        "[[ 0.003  0.     0.11   0.022  0.143 -0.587 -0.005  0.374]]\n",
        "[[ 0.003  0.     0.11   0.022  0.144 -0.587 -0.005  0.374]]"
       ]
      },
      {
       "output_type": "stream",
       "stream": "stdout",
       "text": [
        "\n",
        "[[ 0.003  0.     0.11   0.022  0.145 -0.587 -0.005  0.374]]\n",
        "[[ 0.003  0.     0.11   0.022  0.146 -0.587 -0.005  0.374]]\n",
        "[[ 0.003  0.     0.11   0.022  0.147 -0.587 -0.005  0.374]]\n",
        "[[ 0.003  0.     0.11   0.022  0.147 -0.588 -0.005  0.374]]\n",
        "[[ 0.003  0.     0.11   0.022  0.148 -0.588 -0.005  0.374]]"
       ]
      },
      {
       "output_type": "stream",
       "stream": "stdout",
       "text": [
        "\n",
        "[[ 0.003  0.     0.11   0.022  0.149 -0.588 -0.005  0.374]]\n",
        "[[ 0.003  0.     0.11   0.022  0.149 -0.589 -0.005  0.374]]\n",
        "[[ 0.003  0.     0.11   0.022  0.15  -0.589 -0.005  0.374]]\n",
        "[[ 0.003  0.     0.11   0.022  0.151 -0.589 -0.005  0.374]]\n",
        "[[ 0.003  0.     0.11   0.022  0.151 -0.59  -0.005  0.374]]"
       ]
      },
      {
       "output_type": "stream",
       "stream": "stdout",
       "text": [
        "\n",
        "[[ 0.003  0.     0.11   0.022  0.152 -0.59  -0.005  0.374]]\n",
        "[[ 0.003  0.     0.11   0.022  0.153 -0.59  -0.005  0.374]]\n",
        "[[ 0.004  0.     0.11   0.022  0.153 -0.59  -0.005  0.374]]\n",
        "[[ 0.004  0.     0.11   0.022  0.154 -0.59  -0.005  0.374]]\n",
        "[[ 0.004  0.     0.11   0.022  0.154 -0.59  -0.006  0.374]]"
       ]
      },
      {
       "output_type": "stream",
       "stream": "stdout",
       "text": [
        "\n",
        "[[ 0.004  0.     0.11   0.022  0.155 -0.59  -0.006  0.374]]\n",
        "[[ 0.004  0.     0.11   0.022  0.156 -0.59  -0.006  0.374]]\n",
        "[[ 0.004  0.     0.11   0.022  0.157 -0.59  -0.006  0.374]]\n",
        "[[ 0.004  0.     0.11   0.022  0.158 -0.59  -0.006  0.374]]\n",
        "[[ 0.004  0.     0.11   0.022  0.158 -0.591 -0.006  0.374]]"
       ]
      },
      {
       "output_type": "stream",
       "stream": "stdout",
       "text": [
        "\n",
        "[[ 0.004  0.     0.11   0.022  0.159 -0.591 -0.006  0.374]]\n",
        "[[ 0.004  0.     0.11   0.022  0.16  -0.591 -0.006  0.374]]\n",
        "[[ 0.004  0.     0.11   0.022  0.16  -0.592 -0.006  0.374]]\n",
        "[[ 0.004  0.     0.11   0.022  0.161 -0.592 -0.006  0.374]]\n",
        "[[ 0.004  0.     0.11   0.022  0.162 -0.592 -0.006  0.374]]"
       ]
      },
      {
       "output_type": "stream",
       "stream": "stdout",
       "text": [
        "\n",
        "[[ 0.004  0.     0.11   0.022  0.162 -0.593 -0.006  0.374]]\n",
        "[[ 0.004  0.     0.11   0.022  0.163 -0.593 -0.006  0.374]]\n",
        "[[ 0.004  0.     0.11   0.022  0.164 -0.593 -0.006  0.374]]\n",
        "[[ 0.005  0.     0.11   0.022  0.164 -0.593 -0.006  0.374]]\n",
        "[[ 0.005  0.     0.11   0.022  0.165 -0.593 -0.006  0.374]]"
       ]
      },
      {
       "output_type": "stream",
       "stream": "stdout",
       "text": [
        "\n",
        "[[ 0.005  0.     0.11   0.022  0.165 -0.593 -0.007  0.374]]\n",
        "[[ 0.005  0.     0.11   0.022  0.166 -0.593 -0.007  0.374]]\n",
        "[[ 0.005  0.     0.11   0.022  0.167 -0.593 -0.007  0.374]]"
       ]
      },
      {
       "output_type": "stream",
       "stream": "stdout",
       "text": [
        "\n",
        "[[ 0.005  0.     0.11   0.022  0.168 -0.593 -0.007  0.374]]\n",
        "[[ 0.005  0.     0.11   0.022  0.169 -0.593 -0.007  0.374]]\n",
        "[[ 0.005  0.     0.11   0.022  0.169 -0.594 -0.007  0.374]]\n",
        "[[ 0.005  0.     0.11   0.022  0.17  -0.594 -0.007  0.374]]"
       ]
      },
      {
       "output_type": "stream",
       "stream": "stdout",
       "text": [
        "\n",
        "[[ 0.005  0.     0.11   0.022  0.171 -0.594 -0.007  0.374]]\n",
        "[[ 0.005  0.     0.11   0.022  0.171 -0.595 -0.007  0.374]]\n",
        "[[ 0.005  0.     0.11   0.022  0.172 -0.595 -0.007  0.374]]\n",
        "[[ 0.005  0.     0.11   0.022  0.173 -0.595 -0.007  0.374]]\n",
        "[[ 0.005  0.     0.11   0.022  0.173 -0.596 -0.007  0.374]]"
       ]
      },
      {
       "output_type": "stream",
       "stream": "stdout",
       "text": [
        "\n",
        "[[ 0.005  0.     0.11   0.022  0.174 -0.596 -0.007  0.374]]\n",
        "[[ 0.005  0.     0.11   0.022  0.175 -0.596 -0.007  0.374]]\n",
        "[[ 0.005  0.     0.11   0.022  0.176 -0.596 -0.007  0.374]]\n",
        "[[ 0.005  0.     0.11   0.022  0.176 -0.596 -0.008  0.374]]\n",
        "[[ 0.005  0.     0.11   0.022  0.177 -0.596 -0.008  0.374]]"
       ]
      },
      {
       "output_type": "stream",
       "stream": "stdout",
       "text": [
        "\n",
        "[[ 0.005  0.     0.11   0.022  0.178 -0.596 -0.008  0.374]]\n",
        "[[ 0.005  0.     0.11   0.022  0.179 -0.596 -0.008  0.374]]\n",
        "[[ 0.005  0.     0.11   0.022  0.18  -0.596 -0.008  0.374]]"
       ]
      },
      {
       "output_type": "stream",
       "stream": "stdout",
       "text": [
        "\n",
        "[[ 0.005  0.     0.11   0.022  0.18  -0.596 -0.009  0.374]]\n",
        "[[ 0.005  0.     0.11   0.022  0.181 -0.596 -0.009  0.374]]\n",
        "[[ 0.005  0.     0.11   0.022  0.182 -0.596 -0.009  0.374]]"
       ]
      },
      {
       "output_type": "stream",
       "stream": "stdout",
       "text": [
        "\n",
        "[[ 0.005  0.     0.11   0.022  0.183 -0.596 -0.009  0.374]]\n",
        "[[ 0.005  0.     0.11   0.022  0.184 -0.596 -0.009  0.374]]\n",
        "[[ 0.005  0.     0.11   0.022  0.184 -0.597 -0.009  0.374]]\n",
        "[[ 0.005  0.     0.11   0.022  0.185 -0.597 -0.009  0.374]]"
       ]
      },
      {
       "output_type": "stream",
       "stream": "stdout",
       "text": [
        "\n",
        "[[ 0.005  0.     0.11   0.022  0.186 -0.597 -0.009  0.374]]\n",
        "[[ 0.005  0.     0.11   0.022  0.186 -0.597 -0.009  0.373]]\n",
        "[[ 0.005  0.     0.11   0.022  0.187 -0.597 -0.009  0.373]]"
       ]
      },
      {
       "output_type": "stream",
       "stream": "stdout",
       "text": [
        "\n",
        "[[ 0.005  0.     0.11   0.022  0.188 -0.597 -0.009  0.373]]\n",
        "[[ 0.005  0.     0.11   0.022  0.189 -0.597 -0.009  0.373]]\n",
        "[[ 0.005  0.     0.11   0.022  0.19  -0.597 -0.009  0.373]]\n",
        "[[ 0.005  0.     0.11   0.022  0.19  -0.598 -0.009  0.373]]\n",
        "[[ 0.005  0.     0.11   0.022  0.191 -0.598 -0.009  0.373]]"
       ]
      },
      {
       "output_type": "stream",
       "stream": "stdout",
       "text": [
        "\n",
        "[[ 0.005  0.     0.11   0.022  0.192 -0.598 -0.009  0.373]]\n",
        "[[ 0.005  0.     0.11   0.022  0.192 -0.599 -0.009  0.373]]\n",
        "[[ 0.005  0.     0.11   0.022  0.193 -0.599 -0.009  0.373]]\n",
        "[[ 0.005  0.     0.11   0.022  0.194 -0.599 -0.009  0.373]]\n",
        "[[ 0.005  0.     0.11   0.022  0.194 -0.599 -0.009  0.372]]"
       ]
      },
      {
       "output_type": "stream",
       "stream": "stdout",
       "text": [
        "\n",
        "[[ 0.005  0.     0.11   0.022  0.195 -0.599 -0.009  0.372]]\n",
        "[[ 0.005  0.     0.11   0.022  0.196 -0.599 -0.009  0.372]]\n",
        "[[ 0.005  0.     0.11   0.022  0.197 -0.599 -0.009  0.372]]\n",
        "[[ 0.005  0.     0.11   0.022  0.197 -0.6   -0.009  0.372]]\n",
        "[[ 0.005  0.     0.11   0.022  0.198 -0.6   -0.009  0.372]]"
       ]
      },
      {
       "output_type": "stream",
       "stream": "stdout",
       "text": [
        "\n",
        "[[ 0.005  0.     0.11   0.022  0.199 -0.6   -0.009  0.372]]\n",
        "[[ 0.006  0.     0.11   0.022  0.199 -0.6   -0.009  0.372]]\n",
        "[[ 0.006  0.     0.11   0.022  0.2   -0.6   -0.009  0.372]]\n",
        "[[ 0.006  0.     0.11   0.022  0.2   -0.6   -0.01   0.372]]\n",
        "[[ 0.006  0.     0.11   0.022  0.201 -0.6   -0.01   0.372]]"
       ]
      },
      {
       "output_type": "stream",
       "stream": "stdout",
       "text": [
        "\n",
        "[[ 0.006  0.     0.11   0.022  0.202 -0.6   -0.01   0.372]]\n",
        "[[ 0.006  0.     0.11   0.022  0.203 -0.6   -0.01   0.372]]\n",
        "[[ 0.006  0.     0.11   0.022  0.204 -0.6   -0.01   0.372]]\n",
        "[[ 0.006  0.     0.11   0.022  0.204 -0.601 -0.01   0.372]]\n",
        "[[ 0.006  0.     0.11   0.022  0.205 -0.601 -0.01   0.372]]"
       ]
      },
      {
       "output_type": "stream",
       "stream": "stdout",
       "text": [
        "\n",
        "[[ 0.006  0.     0.11   0.022  0.206 -0.601 -0.01   0.372]]\n",
        "[[ 0.006  0.     0.11   0.022  0.206 -0.601 -0.01   0.371]]\n",
        "[[ 0.006  0.     0.11   0.022  0.207 -0.601 -0.01   0.371]]\n",
        "[[ 0.006  0.     0.11   0.022  0.208 -0.601 -0.01   0.371]]\n",
        "[[ 0.006  0.     0.11   0.022  0.209 -0.601 -0.01   0.371]]\n",
        "[[ 0.006  0.     0.11   0.022  0.209 -0.602 -0.01   0.371]]"
       ]
      },
      {
       "output_type": "stream",
       "stream": "stdout",
       "text": [
        "\n",
        "[[ 0.006  0.     0.11   0.022  0.21  -0.602 -0.01   0.371]]\n",
        "[[ 0.006  0.     0.11   0.022  0.211 -0.602 -0.01   0.371]]\n",
        "[[ 0.006  0.     0.11   0.022  0.212 -0.602 -0.01   0.371]]\n",
        "[[ 0.006  0.     0.11   0.022  0.212 -0.602 -0.01   0.37 ]]\n",
        "[[ 0.006  0.     0.11   0.022  0.213 -0.602 -0.01   0.37 ]]\n",
        "[[ 0.006  0.     0.11   0.022  0.214 -0.602 -0.01   0.37 ]]"
       ]
      },
      {
       "output_type": "stream",
       "stream": "stdout",
       "text": [
        "\n",
        "[[ 0.006  0.     0.11   0.022  0.215 -0.602 -0.01   0.37 ]]\n",
        "[[ 0.006  0.     0.11   0.022  0.215 -0.603 -0.01   0.37 ]]\n",
        "[[ 0.006  0.     0.11   0.022  0.216 -0.603 -0.01   0.37 ]]\n",
        "[[ 0.006  0.     0.11   0.022  0.217 -0.603 -0.01   0.37 ]]\n",
        "[[ 0.006  0.     0.11   0.022  0.217 -0.604 -0.01   0.37 ]]\n",
        "[[ 0.006  0.     0.11   0.022  0.218 -0.604 -0.01   0.37 ]]"
       ]
      },
      {
       "output_type": "stream",
       "stream": "stdout",
       "text": [
        "\n",
        "[[ 0.006  0.     0.11   0.022  0.219 -0.604 -0.01   0.37 ]]\n",
        "[[ 0.006  0.     0.11   0.022  0.219 -0.605 -0.01   0.37 ]]\n",
        "[[ 0.006  0.     0.11   0.022  0.22  -0.605 -0.01   0.37 ]]\n",
        "[[ 0.006  0.     0.11   0.022  0.221 -0.605 -0.01   0.37 ]]\n",
        "[[ 0.006  0.     0.11   0.022  0.222 -0.605 -0.01   0.37 ]]\n",
        "[[ 0.006  0.     0.11   0.022  0.222 -0.605 -0.011  0.37 ]]"
       ]
      },
      {
       "output_type": "stream",
       "stream": "stdout",
       "text": [
        "\n",
        "[[ 0.006  0.     0.11   0.022  0.223 -0.605 -0.011  0.37 ]]\n",
        "[[ 0.006  0.     0.11   0.022  0.224 -0.605 -0.011  0.37 ]]\n",
        "[[ 0.006  0.     0.11   0.022  0.225 -0.605 -0.011  0.37 ]]\n",
        "[[ 0.006  0.     0.11   0.022  0.226 -0.605 -0.011  0.37 ]]\n",
        "[[ 0.006  0.     0.11   0.022  0.226 -0.605 -0.011  0.369]]\n",
        "[[ 0.006  0.     0.11   0.022  0.227 -0.605 -0.011  0.369]]"
       ]
      },
      {
       "output_type": "stream",
       "stream": "stdout",
       "text": [
        "\n",
        "[[ 0.006  0.     0.11   0.022  0.228 -0.605 -0.011  0.369]]\n",
        "[[ 0.006  0.     0.11   0.022  0.229 -0.605 -0.011  0.369]]\n",
        "[[ 0.006  0.     0.11   0.022  0.229 -0.606 -0.011  0.369]]\n",
        "[[ 0.006  0.     0.11   0.022  0.23  -0.606 -0.011  0.369]]\n",
        "[[ 0.006  0.     0.11   0.022  0.231 -0.606 -0.011  0.369]]\n",
        "[[ 0.006  0.     0.11   0.022  0.231 -0.607 -0.011  0.369]]"
       ]
      },
      {
       "output_type": "stream",
       "stream": "stdout",
       "text": [
        "\n",
        "[[ 0.006  0.     0.11   0.022  0.232 -0.607 -0.011  0.369]]\n",
        "[[ 0.006  0.     0.11   0.022  0.233 -0.607 -0.011  0.369]]\n",
        "[[ 0.006  0.     0.11   0.022  0.234 -0.607 -0.011  0.369]]\n",
        "[[ 0.006  0.     0.11   0.022  0.234 -0.607 -0.011  0.368]]\n",
        "[[ 0.006  0.     0.11   0.022  0.235 -0.607 -0.011  0.368]]\n",
        "[[ 0.006  0.     0.11   0.022  0.236 -0.607 -0.011  0.368]]"
       ]
      },
      {
       "output_type": "stream",
       "stream": "stdout",
       "text": [
        "\n",
        "[[ 0.006  0.     0.11   0.022  0.237 -0.607 -0.011  0.368]]\n",
        "[[ 0.006  0.     0.11   0.022  0.237 -0.608 -0.011  0.368]]\n",
        "[[ 0.006  0.     0.11   0.022  0.238 -0.608 -0.011  0.368]]\n",
        "[[ 0.006  0.     0.11   0.022  0.239 -0.608 -0.011  0.368]]\n",
        "[[ 0.006  0.     0.11   0.022  0.239 -0.609 -0.011  0.368]]\n",
        "[[ 0.006  0.     0.11   0.022  0.24  -0.609 -0.011  0.368]]"
       ]
      },
      {
       "output_type": "stream",
       "stream": "stdout",
       "text": [
        "\n",
        "[[ 0.006  0.     0.11   0.022  0.241 -0.609 -0.011  0.368]]\n",
        "[[ 0.006  0.     0.11   0.022  0.241 -0.609 -0.011  0.367]]\n",
        "[[ 0.006  0.     0.11   0.022  0.242 -0.609 -0.011  0.367]]\n",
        "[[ 0.006  0.     0.11   0.022  0.243 -0.609 -0.011  0.367]]\n",
        "[[ 0.006  0.     0.11   0.022  0.244 -0.609 -0.011  0.367]]\n",
        "[[ 0.006  0.     0.11   0.022  0.245 -0.609 -0.011  0.367]]"
       ]
      },
      {
       "output_type": "stream",
       "stream": "stdout",
       "text": [
        "\n",
        "[[ 0.006  0.     0.11   0.022  0.245 -0.609 -0.012  0.367]]\n",
        "[[ 0.006  0.     0.11   0.022  0.246 -0.609 -0.012  0.367]]\n",
        "[[ 0.006  0.     0.11   0.022  0.247 -0.609 -0.012  0.367]]\n",
        "[[ 0.006  0.     0.11   0.022  0.248 -0.609 -0.012  0.367]]\n",
        "[[ 0.006  0.     0.11   0.022  0.249 -0.609 -0.012  0.367]]\n",
        "[[ 0.006  0.     0.11   0.022  0.249 -0.61  -0.012  0.367]]"
       ]
      },
      {
       "output_type": "stream",
       "stream": "stdout",
       "text": [
        "\n",
        "[[ 0.006  0.     0.11   0.022  0.25  -0.61  -0.012  0.367]]\n",
        "[[ 0.006  0.     0.11   0.022  0.251 -0.61  -0.012  0.367]]\n",
        "[[ 0.006  0.     0.11   0.022  0.251 -0.611 -0.012  0.367]]\n",
        "[[ 0.006  0.     0.11   0.022  0.252 -0.611 -0.012  0.367]]\n",
        "[[ 0.006  0.     0.11   0.022  0.253 -0.611 -0.012  0.367]]\n",
        "[[ 0.007  0.     0.11   0.022  0.253 -0.611 -0.012  0.367]]"
       ]
      },
      {
       "output_type": "stream",
       "stream": "stdout",
       "text": [
        "\n",
        "[[ 0.007  0.     0.11   0.022  0.253 -0.611 -0.012  0.366]]\n",
        "[[ 0.007  0.     0.11   0.022  0.254 -0.611 -0.012  0.366]]\n",
        "[[ 0.007  0.     0.11   0.022  0.255 -0.611 -0.012  0.366]]\n",
        "[[ 0.007  0.     0.11   0.022  0.256 -0.611 -0.012  0.366]]\n",
        "[[ 0.007  0.     0.11   0.022  0.257 -0.611 -0.012  0.366]]\n",
        "[[ 0.007  0.     0.11   0.022  0.257 -0.611 -0.013  0.366]]"
       ]
      },
      {
       "output_type": "stream",
       "stream": "stdout",
       "text": [
        "\n",
        "[[ 0.007  0.     0.11   0.022  0.258 -0.611 -0.013  0.366]]\n",
        "[[ 0.007  0.     0.11   0.022  0.259 -0.611 -0.013  0.366]]\n",
        "[[ 0.007  0.     0.11   0.022  0.26  -0.611 -0.013  0.366]]\n",
        "[[ 0.007  0.     0.11   0.022  0.261 -0.611 -0.013  0.366]]\n",
        "[[ 0.007  0.     0.11   0.022  0.261 -0.612 -0.013  0.366]]\n",
        "[[ 0.007  0.     0.11   0.022  0.262 -0.612 -0.013  0.366]]"
       ]
      },
      {
       "output_type": "stream",
       "stream": "stdout",
       "text": [
        "\n",
        "[[ 0.007  0.     0.11   0.022  0.263 -0.612 -0.013  0.366]]\n",
        "[[ 0.007  0.     0.11   0.022  0.263 -0.613 -0.013  0.366]]\n",
        "[[ 0.007  0.     0.11   0.022  0.264 -0.613 -0.013  0.366]]\n",
        "[[ 0.007  0.     0.11   0.022  0.265 -0.613 -0.013  0.366]]\n",
        "[[ 0.007  0.     0.11   0.022  0.265 -0.613 -0.013  0.365]]\n",
        "[[ 0.007  0.     0.11   0.022  0.266 -0.613 -0.013  0.365]]"
       ]
      },
      {
       "output_type": "stream",
       "stream": "stdout",
       "text": [
        "\n",
        "[[ 0.007  0.     0.11   0.022  0.267 -0.613 -0.013  0.365]]\n",
        "[[ 0.007  0.     0.11   0.022  0.268 -0.613 -0.013  0.365]]\n",
        "[[ 0.007  0.     0.11   0.022  0.269 -0.613 -0.013  0.365]]\n",
        "[[ 0.007  0.     0.11   0.022  0.269 -0.614 -0.013  0.365]]\n",
        "[[ 0.007  0.     0.11   0.022  0.27  -0.614 -0.013  0.365]]\n",
        "[[ 0.007  0.     0.11   0.022  0.271 -0.614 -0.013  0.365]]"
       ]
      },
      {
       "output_type": "stream",
       "stream": "stdout",
       "text": [
        "\n",
        "[[ 0.007  0.     0.11   0.022  0.271 -0.615 -0.013  0.365]]\n",
        "[[ 0.007  0.     0.11   0.022  0.272 -0.615 -0.013  0.365]]\n",
        "[[ 0.007  0.     0.11   0.022  0.273 -0.615 -0.013  0.365]]\n",
        "[[ 0.007  0.     0.11   0.022  0.273 -0.615 -0.013  0.364]]\n",
        "[[ 0.007  0.     0.11   0.022  0.274 -0.615 -0.013  0.364]]\n",
        "[[ 0.007  0.     0.11   0.022  0.275 -0.615 -0.013  0.364]]"
       ]
      },
      {
       "output_type": "stream",
       "stream": "stdout",
       "text": [
        "\n",
        "[[ 0.007  0.     0.11   0.022  0.276 -0.615 -0.013  0.364]]\n",
        "[[ 0.007  0.     0.11   0.022  0.276 -0.616 -0.013  0.364]]\n",
        "[[ 0.007  0.     0.11   0.022  0.277 -0.616 -0.013  0.364]]\n",
        "[[ 0.007  0.     0.11   0.022  0.278 -0.616 -0.013  0.364]]\n",
        "[[ 0.007  0.     0.11   0.022  0.279 -0.616 -0.013  0.364]]\n",
        "[[ 0.007  0.     0.11   0.022  0.279 -0.616 -0.014  0.364]]"
       ]
      },
      {
       "output_type": "stream",
       "stream": "stdout",
       "text": [
        "\n",
        "[[ 0.007  0.     0.11   0.022  0.28  -0.616 -0.014  0.364]]\n",
        "[[ 0.007  0.     0.11   0.022  0.281 -0.616 -0.014  0.364]]\n",
        "[[ 0.007  0.     0.11   0.022  0.282 -0.616 -0.014  0.364]]\n",
        "[[ 0.007  0.     0.11   0.022  0.283 -0.616 -0.014  0.364]]\n",
        "[[ 0.007  0.     0.11   0.022  0.283 -0.616 -0.014  0.363]]"
       ]
      },
      {
       "output_type": "stream",
       "stream": "stdout",
       "text": [
        "\n",
        "[[ 0.007  0.     0.11   0.022  0.284 -0.616 -0.014  0.363]]\n",
        "[[ 0.007  0.     0.11   0.022  0.285 -0.616 -0.014  0.363]]\n",
        "[[ 0.007  0.     0.11   0.022  0.286 -0.616 -0.014  0.363]]\n",
        "[[ 0.007  0.     0.11   0.022  0.286 -0.617 -0.014  0.363]]\n",
        "[[ 0.007  0.     0.11   0.022  0.287 -0.617 -0.014  0.363]]\n",
        "[[ 0.007  0.     0.11   0.022  0.288 -0.617 -0.014  0.363]]"
       ]
      },
      {
       "output_type": "stream",
       "stream": "stdout",
       "text": [
        "\n",
        "[[ 0.007  0.     0.11   0.022  0.288 -0.618 -0.014  0.363]]\n",
        "[[ 0.007  0.     0.11   0.022  0.289 -0.618 -0.014  0.363]]\n",
        "[[ 0.007  0.     0.11   0.022  0.29  -0.618 -0.014  0.363]]\n",
        "[[ 0.007  0.     0.11   0.022  0.291 -0.618 -0.014  0.363]]\n",
        "[[ 0.007  0.     0.11   0.022  0.291 -0.618 -0.014  0.362]]\n",
        "[[ 0.007  0.     0.11   0.022  0.292 -0.618 -0.014  0.362]]"
       ]
      },
      {
       "output_type": "stream",
       "stream": "stdout",
       "text": [
        "\n",
        "[[ 0.007  0.     0.11   0.022  0.293 -0.618 -0.014  0.362]]\n",
        "[[ 0.007  0.     0.11   0.022  0.294 -0.618 -0.014  0.362]]\n",
        "[[ 0.007  0.     0.11   0.022  0.294 -0.619 -0.014  0.362]]\n",
        "[[ 0.007  0.     0.11   0.022  0.295 -0.619 -0.014  0.362]]\n",
        "[[ 0.007  0.     0.11   0.022  0.296 -0.619 -0.014  0.362]]"
       ]
      },
      {
       "output_type": "stream",
       "stream": "stdout",
       "text": [
        "\n",
        "[[ 0.007  0.     0.11   0.022  0.296 -0.62  -0.014  0.362]]\n",
        "[[ 0.007  0.     0.11   0.022  0.297 -0.62  -0.014  0.362]]\n",
        "[[ 0.007  0.     0.11   0.022  0.298 -0.62  -0.014  0.362]]\n",
        "[[ 0.008  0.     0.11   0.022  0.298 -0.62  -0.014  0.362]]"
       ]
      },
      {
       "output_type": "stream",
       "stream": "stdout",
       "text": [
        "\n",
        "[[ 0.008  0.     0.11   0.022  0.298 -0.621 -0.014  0.362]]\n",
        "[[ 0.008  0.     0.11   0.022  0.299 -0.621 -0.014  0.362]]\n",
        "[[ 0.008  0.     0.11   0.022  0.3   -0.621 -0.014  0.362]]"
       ]
      },
      {
       "output_type": "stream",
       "stream": "stdout",
       "text": [
        "\n",
        "[[ 0.008  0.     0.11   0.022  0.301 -0.621 -0.014  0.362]]\n",
        "[[ 0.008  0.     0.11   0.022  0.301 -0.621 -0.015  0.362]]\n",
        "[[ 0.008  0.     0.11   0.022  0.302 -0.621 -0.015  0.362]]\n",
        "[[ 0.008  0.     0.11   0.022  0.303 -0.621 -0.015  0.362]]\n",
        "[[ 0.008  0.     0.11   0.022  0.304 -0.621 -0.015  0.362]]"
       ]
      },
      {
       "output_type": "stream",
       "stream": "stdout",
       "text": [
        "\n",
        "[[ 0.008  0.     0.11   0.022  0.305 -0.621 -0.015  0.362]]\n",
        "[[ 0.008  0.     0.11   0.022  0.305 -0.621 -0.015  0.361]]"
       ]
      },
      {
       "output_type": "stream",
       "stream": "stdout",
       "text": [
        "\n",
        "[[ 0.008  0.     0.11   0.022  0.306 -0.621 -0.015  0.361]]\n",
        "[[ 0.008  0.     0.11   0.022  0.307 -0.621 -0.015  0.361]]\n",
        "[[ 0.008  0.     0.11   0.022  0.308 -0.621 -0.015  0.361]]"
       ]
      },
      {
       "output_type": "stream",
       "stream": "stdout",
       "text": [
        "\n",
        "[[ 0.008  0.     0.11   0.022  0.308 -0.622 -0.015  0.361]]\n",
        "[[ 0.008  0.     0.11   0.022  0.309 -0.622 -0.015  0.361]]\n",
        "[[ 0.008  0.     0.11   0.022  0.31  -0.622 -0.015  0.361]]\n",
        "[[ 0.008  0.     0.11   0.022  0.311 -0.622 -0.015  0.361]]\n",
        "[[ 0.008  0.     0.11   0.022  0.311 -0.622 -0.016  0.361]]"
       ]
      },
      {
       "output_type": "stream",
       "stream": "stdout",
       "text": [
        "\n",
        "[[ 0.008  0.     0.11   0.022  0.312 -0.622 -0.016  0.361]]\n",
        "[[ 0.008  0.     0.11   0.022  0.313 -0.622 -0.016  0.361]]"
       ]
      },
      {
       "output_type": "stream",
       "stream": "stdout",
       "text": [
        "\n",
        "[[ 0.008  0.     0.11   0.022  0.314 -0.622 -0.016  0.361]]\n",
        "[[ 0.008  0.     0.11   0.022  0.315 -0.622 -0.016  0.361]]\n",
        "[[ 0.008  0.     0.11   0.022  0.315 -0.622 -0.016  0.36 ]]\n",
        "[[ 0.008  0.     0.11   0.022  0.316 -0.622 -0.016  0.36 ]]\n",
        "[[ 0.008  0.     0.11   0.022  0.317 -0.622 -0.016  0.36 ]]"
       ]
      },
      {
       "output_type": "stream",
       "stream": "stdout",
       "text": [
        "\n",
        "[[ 0.008  0.     0.11   0.022  0.318 -0.622 -0.016  0.36 ]]\n",
        "[[ 0.008  0.     0.11   0.022  0.318 -0.623 -0.016  0.36 ]]\n",
        "[[ 0.008  0.     0.11   0.022  0.319 -0.623 -0.016  0.36 ]]\n",
        "[[ 0.008  0.     0.11   0.022  0.32  -0.623 -0.016  0.36 ]]\n",
        "[[ 0.008  0.     0.11   0.022  0.32  -0.624 -0.016  0.36 ]]"
       ]
      },
      {
       "output_type": "stream",
       "stream": "stdout",
       "text": [
        "\n",
        "[[ 0.008  0.     0.11   0.022  0.321 -0.624 -0.016  0.36 ]]\n",
        "[[ 0.008  0.     0.11   0.022  0.322 -0.624 -0.016  0.36 ]]\n",
        "[[ 0.008  0.     0.11   0.022  0.323 -0.624 -0.016  0.36 ]]\n",
        "[[ 0.008  0.     0.11   0.022  0.323 -0.624 -0.016  0.359]]\n",
        "[[ 0.008  0.     0.11   0.022  0.324 -0.624 -0.016  0.359]]"
       ]
      },
      {
       "output_type": "stream",
       "stream": "stdout",
       "text": [
        "\n",
        "[[ 0.008  0.     0.11   0.022  0.325 -0.624 -0.016  0.359]]\n",
        "[[ 0.008  0.     0.11   0.022  0.326 -0.624 -0.016  0.359]]\n",
        "[[ 0.008  0.     0.11   0.022  0.326 -0.625 -0.016  0.359]]\n",
        "[[ 0.008  0.     0.11   0.022  0.327 -0.625 -0.016  0.359]]\n",
        "[[ 0.008  0.     0.11   0.022  0.328 -0.625 -0.016  0.359]]"
       ]
      },
      {
       "output_type": "stream",
       "stream": "stdout",
       "text": [
        "\n",
        "[[ 0.008  0.     0.11   0.022  0.328 -0.626 -0.016  0.359]]\n",
        "[[ 0.008  0.     0.11   0.022  0.329 -0.626 -0.016  0.359]]\n",
        "[[ 0.008  0.     0.11   0.022  0.33  -0.626 -0.016  0.359]]\n",
        "[[ 0.008  0.     0.11   0.022  0.33  -0.627 -0.016  0.359]]\n",
        "[[ 0.008  0.     0.11   0.022  0.331 -0.627 -0.016  0.359]]\n",
        "[[ 0.008  0.     0.11   0.022  0.332 -0.627 -0.016  0.359]]"
       ]
      },
      {
       "output_type": "stream",
       "stream": "stdout",
       "text": [
        "\n",
        "[[ 0.009  0.     0.11   0.022  0.332 -0.627 -0.016  0.359]]\n",
        "[[ 0.009  0.     0.11   0.022  0.332 -0.627 -0.016  0.358]]\n",
        "[[ 0.009  0.     0.11   0.022  0.333 -0.627 -0.016  0.358]]\n",
        "[[ 0.009  0.     0.11   0.022  0.334 -0.627 -0.016  0.358]]\n",
        "[[ 0.009  0.     0.11   0.022  0.335 -0.627 -0.016  0.358]]\n",
        "[[ 0.009  0.     0.11   0.022  0.336 -0.627 -0.016  0.358]]"
       ]
      },
      {
       "output_type": "stream",
       "stream": "stdout",
       "text": [
        "\n",
        "[[ 0.009  0.     0.11   0.022  0.336 -0.627 -0.017  0.358]]\n",
        "[[ 0.009  0.     0.11   0.022  0.337 -0.627 -0.017  0.358]]\n",
        "[[ 0.009  0.     0.11   0.022  0.338 -0.627 -0.017  0.358]]\n",
        "[[ 0.009  0.     0.11   0.022  0.339 -0.627 -0.017  0.358]]\n",
        "[[ 0.009  0.     0.11   0.022  0.34  -0.627 -0.017  0.358]]\n",
        "[[ 0.009  0.     0.11   0.022  0.34  -0.628 -0.017  0.358]]"
       ]
      },
      {
       "output_type": "stream",
       "stream": "stdout",
       "text": [
        "\n",
        "[[ 0.009  0.     0.11   0.022  0.341 -0.628 -0.017  0.358]]\n",
        "[[ 0.009  0.     0.11   0.022  0.342 -0.628 -0.017  0.358]]\n",
        "[[ 0.009  0.     0.11   0.022  0.342 -0.629 -0.017  0.358]]\n",
        "[[ 0.009  0.     0.11   0.022  0.343 -0.629 -0.017  0.358]]\n",
        "[[ 0.009  0.     0.11   0.022  0.344 -0.629 -0.017  0.358]]\n",
        "[[ 0.009  0.     0.11   0.022  0.344 -0.629 -0.017  0.357]]"
       ]
      },
      {
       "output_type": "stream",
       "stream": "stdout",
       "text": [
        "\n",
        "[[ 0.009  0.     0.11   0.022  0.345 -0.629 -0.017  0.357]]\n",
        "[[ 0.009  0.     0.11   0.022  0.346 -0.629 -0.017  0.357]]\n",
        "[[ 0.009  0.     0.11   0.022  0.347 -0.629 -0.017  0.357]]\n",
        "[[ 0.009  0.     0.11   0.022  0.348 -0.629 -0.017  0.357]]\n",
        "[[ 0.009  0.     0.11   0.022  0.348 -0.63  -0.017  0.357]]\n",
        "[[ 0.009  0.     0.11   0.022  0.349 -0.63  -0.017  0.357]]"
       ]
      },
      {
       "output_type": "stream",
       "stream": "stdout",
       "text": [
        "\n",
        "[[ 0.009  0.     0.11   0.022  0.35  -0.63  -0.017  0.357]]\n",
        "[[ 0.009  0.     0.11   0.022  0.35  -0.631 -0.017  0.357]]\n",
        "[[ 0.009  0.     0.11   0.022  0.351 -0.631 -0.017  0.357]]\n",
        "[[ 0.009  0.     0.11   0.022  0.352 -0.631 -0.017  0.357]]"
       ]
      },
      {
       "output_type": "stream",
       "stream": "stdout",
       "text": [
        "\n",
        "[[ 0.009  0.     0.11   0.022  0.352 -0.631 -0.017  0.356]]\n",
        "[[ 0.009  0.     0.11   0.022  0.353 -0.631 -0.017  0.356]]\n",
        "[[ 0.009  0.     0.11   0.022  0.354 -0.631 -0.017  0.356]]\n",
        "[[ 0.009  0.     0.11   0.022  0.355 -0.631 -0.017  0.356]]\n",
        "[[ 0.009  0.     0.11   0.022  0.356 -0.631 -0.017  0.356]]"
       ]
      },
      {
       "output_type": "stream",
       "stream": "stdout",
       "text": [
        "\n",
        "[[ 0.009  0.     0.11   0.022  0.356 -0.631 -0.018  0.356]]\n",
        "[[ 0.009  0.     0.11   0.022  0.357 -0.631 -0.018  0.356]]"
       ]
      },
      {
       "output_type": "stream",
       "stream": "stdout",
       "text": [
        "\n",
        "[[ 0.009  0.     0.11   0.022  0.358 -0.631 -0.018  0.356]]\n",
        "[[ 0.009  0.     0.11   0.022  0.359 -0.631 -0.018  0.356]]\n",
        "[[ 0.009  0.     0.11   0.022  0.36  -0.631 -0.018  0.356]]\n",
        "[[ 0.009  0.     0.11   0.022  0.36  -0.632 -0.018  0.356]]\n",
        "[[ 0.009  0.     0.11   0.022  0.361 -0.632 -0.018  0.356]]"
       ]
      },
      {
       "output_type": "stream",
       "stream": "stdout",
       "text": [
        "\n",
        "[[ 0.009  0.     0.11   0.022  0.362 -0.632 -0.018  0.356]]\n",
        "[[ 0.009  0.     0.11   0.022  0.362 -0.632 -0.018  0.355]]\n",
        "[[ 0.009  0.     0.11   0.022  0.363 -0.632 -0.018  0.355]]"
       ]
      },
      {
       "output_type": "stream",
       "stream": "stdout",
       "text": [
        "\n",
        "[[ 0.009  0.     0.11   0.022  0.364 -0.632 -0.018  0.355]]\n",
        "[[ 0.009  0.     0.11   0.022  0.365 -0.632 -0.018  0.355]]\n",
        "[[ 0.009  0.     0.11   0.022  0.365 -0.633 -0.018  0.355]]"
       ]
      },
      {
       "output_type": "stream",
       "stream": "stdout",
       "text": [
        "\n",
        "[[ 0.009  0.     0.11   0.022  0.366 -0.633 -0.018  0.355]]\n",
        "[[ 0.009  0.     0.11   0.022  0.367 -0.633 -0.018  0.355]]\n",
        "[[ 0.009  0.     0.11   0.022  0.368 -0.633 -0.018  0.355]]\n",
        "[[ 0.009  0.     0.11   0.022  0.368 -0.633 -0.019  0.355]]\n",
        "[[ 0.009  0.     0.11   0.022  0.369 -0.633 -0.019  0.355]]"
       ]
      },
      {
       "output_type": "stream",
       "stream": "stdout",
       "text": [
        "\n",
        "[[ 0.009  0.     0.11   0.022  0.37  -0.633 -0.019  0.355]]\n",
        "[[ 0.009  0.     0.11   0.022  0.371 -0.633 -0.019  0.355]]\n",
        "[[ 0.009  0.     0.11   0.022  0.372 -0.633 -0.019  0.355]]\n",
        "[[ 0.009  0.     0.11   0.022  0.372 -0.634 -0.019  0.355]]\n",
        "[[ 0.009  0.     0.11   0.022  0.373 -0.634 -0.019  0.355]]"
       ]
      },
      {
       "output_type": "stream",
       "stream": "stdout",
       "text": [
        "\n",
        "[[ 0.009  0.     0.11   0.022  0.374 -0.634 -0.019  0.355]]\n",
        "[[ 0.009  0.     0.11   0.022  0.374 -0.634 -0.019  0.354]]\n",
        "[[ 0.009  0.     0.11   0.022  0.375 -0.634 -0.019  0.354]]\n",
        "[[ 0.009  0.     0.11   0.022  0.376 -0.634 -0.019  0.354]]"
       ]
      },
      {
       "output_type": "stream",
       "stream": "stdout",
       "text": [
        "\n",
        "[[ 0.009  0.     0.11   0.022  0.377 -0.634 -0.019  0.354]]\n",
        "[[ 0.009  0.     0.11   0.022  0.377 -0.635 -0.019  0.354]]\n",
        "[[ 0.009  0.     0.11   0.022  0.378 -0.635 -0.019  0.354]]\n",
        "[[ 0.009  0.     0.11   0.022  0.379 -0.635 -0.019  0.354]]\n",
        "[[ 0.009  0.     0.11   0.022  0.38  -0.635 -0.019  0.354]]"
       ]
      },
      {
       "output_type": "stream",
       "stream": "stdout",
       "text": [
        "\n",
        "[[ 0.009  0.     0.11   0.022  0.38  -0.636 -0.019  0.354]]\n",
        "[[ 0.009  0.     0.11   0.022  0.381 -0.636 -0.019  0.354]]\n",
        "[[ 0.009  0.     0.11   0.022  0.382 -0.636 -0.019  0.354]]\n",
        "[[ 0.009  0.     0.11   0.022  0.382 -0.636 -0.019  0.353]]"
       ]
      },
      {
       "output_type": "stream",
       "stream": "stdout",
       "text": [
        "\n",
        "[[ 0.009  0.     0.11   0.022  0.383 -0.636 -0.019  0.353]]\n",
        "[[ 0.009  0.     0.11   0.022  0.384 -0.636 -0.019  0.353]]\n",
        "[[ 0.009  0.     0.11   0.022  0.385 -0.636 -0.019  0.353]]\n",
        "[[ 0.009  0.     0.11   0.022  0.385 -0.637 -0.019  0.353]]\n",
        "[[ 0.009  0.     0.11   0.022  0.386 -0.637 -0.019  0.353]]"
       ]
      },
      {
       "output_type": "stream",
       "stream": "stdout",
       "text": [
        "\n",
        "[[ 0.009  0.     0.11   0.022  0.387 -0.637 -0.019  0.353]]\n",
        "[[ 0.009  0.     0.11   0.022  0.387 -0.638 -0.019  0.353]]\n",
        "[[ 0.009  0.     0.11   0.022  0.388 -0.638 -0.019  0.353]]\n",
        "[[ 0.009  0.     0.11   0.022  0.389 -0.638 -0.019  0.353]]\n",
        "[[ 0.01   0.     0.11   0.022  0.389 -0.638 -0.019  0.353]]\n",
        "[[ 0.01   0.     0.11   0.022  0.39  -0.638 -0.019  0.353]]"
       ]
      },
      {
       "output_type": "stream",
       "stream": "stdout",
       "text": [
        "\n",
        "[[ 0.01   0.     0.11   0.022  0.39  -0.638 -0.02   0.353]]\n",
        "[[ 0.01   0.     0.11   0.022  0.391 -0.638 -0.02   0.353]]\n",
        "[[ 0.01   0.     0.11   0.022  0.392 -0.638 -0.02   0.353]]\n",
        "[[ 0.01   0.     0.11   0.022  0.393 -0.638 -0.02   0.353]]\n",
        "[[ 0.01   0.     0.11   0.022  0.394 -0.638 -0.02   0.353]]\n",
        "[[ 0.01   0.     0.11   0.022  0.394 -0.638 -0.02   0.352]]"
       ]
      },
      {
       "output_type": "stream",
       "stream": "stdout",
       "text": [
        "\n",
        "[[ 0.01   0.     0.11   0.022  0.395 -0.638 -0.02   0.352]]\n",
        "[[ 0.01   0.     0.11   0.022  0.396 -0.638 -0.02   0.352]]\n",
        "[[ 0.01   0.     0.11   0.022  0.397 -0.638 -0.02   0.352]]\n",
        "[[ 0.01   0.     0.11   0.022  0.397 -0.639 -0.02   0.352]]\n",
        "[[ 0.01   0.     0.11   0.022  0.398 -0.639 -0.02   0.352]]\n",
        "[[ 0.01   0.     0.11   0.022  0.399 -0.639 -0.02   0.352]]"
       ]
      },
      {
       "output_type": "stream",
       "stream": "stdout",
       "text": [
        "\n",
        "[[ 0.01   0.     0.11   0.022  0.399 -0.64  -0.02   0.352]]\n",
        "[[ 0.01   0.     0.11   0.022  0.4   -0.64  -0.02   0.352]]\n",
        "[[ 0.01   0.     0.11   0.022  0.401 -0.64  -0.02   0.352]]\n",
        "[[ 0.01   0.     0.11   0.022  0.402 -0.64  -0.02   0.352]]\n",
        "[[ 0.01   0.     0.11   0.022  0.402 -0.64  -0.02   0.351]]\n",
        "[[ 0.01   0.     0.11   0.022  0.403 -0.64  -0.02   0.351]]"
       ]
      },
      {
       "output_type": "stream",
       "stream": "stdout",
       "text": [
        "\n",
        "[[ 0.01   0.     0.11   0.022  0.404 -0.64  -0.02   0.351]]\n",
        "[[ 0.01   0.     0.11   0.022  0.405 -0.64  -0.02   0.351]]\n",
        "[[ 0.01   0.     0.11   0.022  0.405 -0.641 -0.02   0.351]]\n",
        "[[ 0.01   0.     0.11   0.022  0.406 -0.641 -0.02   0.351]]\n",
        "[[ 0.01   0.     0.11   0.022  0.407 -0.641 -0.02   0.351]]\n",
        "[[ 0.01   0.     0.11   0.022  0.407 -0.642 -0.02   0.351]]"
       ]
      },
      {
       "output_type": "stream",
       "stream": "stdout",
       "text": [
        "\n",
        "[[ 0.01   0.     0.11   0.022  0.408 -0.642 -0.02   0.351]]\n",
        "[[ 0.01   0.     0.11   0.022  0.409 -0.642 -0.02   0.351]]\n",
        "[[ 0.01   0.     0.11   0.022  0.409 -0.643 -0.02   0.351]]\n",
        "[[ 0.01   0.     0.11   0.022  0.41  -0.643 -0.02   0.351]]\n",
        "[[ 0.01   0.     0.11   0.022  0.411 -0.643 -0.02   0.351]]\n",
        "[[ 0.01   0.     0.11   0.022  0.412 -0.643 -0.02   0.351]]"
       ]
      },
      {
       "output_type": "stream",
       "stream": "stdout",
       "text": [
        "\n",
        "[[ 0.01   0.     0.11   0.022  0.412 -0.643 -0.021  0.351]]\n",
        "[[ 0.01   0.     0.11   0.022  0.413 -0.643 -0.021  0.351]]\n",
        "[[ 0.01   0.     0.11   0.022  0.414 -0.643 -0.021  0.351]]\n",
        "[[ 0.01   0.     0.11   0.022  0.415 -0.643 -0.021  0.351]]\n",
        "[[ 0.01   0.     0.11   0.022  0.416 -0.643 -0.021  0.351]]\n",
        "[[ 0.01   0.     0.11   0.022  0.416 -0.643 -0.021  0.35 ]]"
       ]
      },
      {
       "output_type": "stream",
       "stream": "stdout",
       "text": [
        "\n",
        "[[ 0.01   0.     0.11   0.022  0.417 -0.643 -0.021  0.35 ]]\n",
        "[[ 0.01   0.     0.11   0.022  0.418 -0.643 -0.021  0.35 ]]\n",
        "[[ 0.01   0.     0.11   0.022  0.419 -0.643 -0.021  0.35 ]]\n",
        "[[ 0.01   0.     0.11   0.022  0.419 -0.644 -0.021  0.35 ]]\n",
        "[[ 0.01   0.     0.11   0.022  0.42  -0.644 -0.021  0.35 ]]\n",
        "[[ 0.01   0.     0.11   0.022  0.421 -0.644 -0.021  0.35 ]]"
       ]
      },
      {
       "output_type": "stream",
       "stream": "stdout",
       "text": [
        "\n",
        "[[ 0.01   0.     0.11   0.022  0.421 -0.645 -0.021  0.35 ]]\n",
        "[[ 0.01   0.     0.11   0.022  0.422 -0.645 -0.021  0.35 ]]\n",
        "[[ 0.01   0.     0.11   0.022  0.423 -0.645 -0.021  0.35 ]]\n",
        "[[ 0.011  0.     0.11   0.022  0.423 -0.645 -0.021  0.35 ]]\n",
        "[[ 0.011  0.     0.11   0.022  0.424 -0.645 -0.021  0.35 ]]\n",
        "[[ 0.011  0.     0.11   0.022  0.424 -0.645 -0.021  0.349]]"
       ]
      },
      {
       "output_type": "stream",
       "stream": "stdout",
       "text": [
        "\n",
        "[[ 0.011  0.     0.11   0.022  0.425 -0.645 -0.021  0.349]]\n",
        "[[ 0.011  0.     0.11   0.022  0.426 -0.645 -0.021  0.349]]\n",
        "[[ 0.011  0.     0.11   0.022  0.427 -0.645 -0.021  0.349]]\n",
        "[[ 0.011  0.     0.11   0.022  0.427 -0.646 -0.021  0.349]]\n",
        "[[ 0.011  0.     0.11   0.022  0.428 -0.646 -0.021  0.349]]"
       ]
      },
      {
       "output_type": "stream",
       "stream": "stdout",
       "text": [
        "\n",
        "[[ 0.011  0.     0.11   0.022  0.429 -0.646 -0.021  0.349]]\n",
        "[[ 0.011  0.     0.11   0.022  0.429 -0.647 -0.021  0.349]]\n",
        "[[ 0.011  0.     0.11   0.022  0.43  -0.647 -0.021  0.349]]\n",
        "[[ 0.011  0.     0.11   0.022  0.431 -0.647 -0.021  0.349]]\n",
        "[[ 0.011  0.     0.11   0.022  0.431 -0.647 -0.021  0.348]]\n",
        "[[ 0.011  0.     0.11   0.022  0.432 -0.647 -0.021  0.348]]"
       ]
      },
      {
       "output_type": "stream",
       "stream": "stdout",
       "text": [
        "\n",
        "[[ 0.011  0.     0.11   0.022  0.433 -0.647 -0.021  0.348]]\n",
        "[[ 0.011  0.     0.11   0.022  0.434 -0.647 -0.021  0.348]]\n",
        "[[ 0.011  0.     0.11   0.022  0.435 -0.647 -0.021  0.348]]\n",
        "[[ 0.011  0.     0.11   0.022  0.435 -0.647 -0.022  0.348]]\n",
        "[[ 0.011  0.     0.11   0.022  0.436 -0.647 -0.022  0.348]]\n",
        "[[ 0.011  0.     0.11   0.022  0.437 -0.647 -0.022  0.348]]"
       ]
      },
      {
       "output_type": "stream",
       "stream": "stdout",
       "text": [
        "\n",
        "[[ 0.011  0.     0.11   0.022  0.438 -0.647 -0.022  0.348]]\n",
        "[[ 0.011  0.     0.11   0.022  0.439 -0.647 -0.022  0.348]]\n",
        "[[ 0.011  0.     0.11   0.022  0.439 -0.648 -0.022  0.348]]\n",
        "[[ 0.011  0.     0.11   0.022  0.44  -0.648 -0.022  0.348]]\n",
        "[[ 0.011  0.     0.11   0.022  0.441 -0.648 -0.022  0.348]]\n",
        "[[ 0.011  0.     0.11   0.022  0.441 -0.648 -0.022  0.347]]"
       ]
      },
      {
       "output_type": "stream",
       "stream": "stdout",
       "text": [
        "\n",
        "[[ 0.011  0.     0.11   0.022  0.442 -0.648 -0.022  0.347]]\n",
        "[[ 0.011  0.     0.11   0.022  0.443 -0.648 -0.022  0.347]]\n",
        "[[ 0.011  0.     0.11   0.022  0.444 -0.648 -0.022  0.347]]\n",
        "[[ 0.011  0.     0.11   0.022  0.444 -0.649 -0.022  0.347]]\n",
        "[[ 0.011  0.     0.11   0.022  0.445 -0.649 -0.022  0.347]]"
       ]
      },
      {
       "output_type": "stream",
       "stream": "stdout",
       "text": [
        "\n",
        "[[ 0.011  0.     0.11   0.022  0.446 -0.649 -0.022  0.347]]\n",
        "[[ 0.011  0.     0.11   0.022  0.447 -0.649 -0.022  0.347]]\n",
        "[[ 0.011  0.     0.11   0.022  0.447 -0.649 -0.023  0.347]]\n",
        "[[ 0.011  0.     0.11   0.022  0.448 -0.649 -0.023  0.347]]\n",
        "[[ 0.011  0.     0.11   0.022  0.449 -0.649 -0.023  0.347]]"
       ]
      },
      {
       "output_type": "stream",
       "stream": "stdout",
       "text": [
        "\n",
        "[[ 0.011  0.     0.11   0.022  0.45  -0.649 -0.023  0.347]]\n",
        "[[ 0.011  0.     0.11   0.022  0.451 -0.649 -0.023  0.347]]\n",
        "[[ 0.011  0.     0.11   0.022  0.451 -0.65  -0.023  0.347]]\n",
        "[[ 0.011  0.     0.11   0.022  0.452 -0.65  -0.023  0.347]]\n",
        "[[ 0.011  0.     0.11   0.022  0.453 -0.65  -0.023  0.347]]\n",
        "[[ 0.011  0.     0.11   0.022  0.453 -0.65  -0.023  0.346]]"
       ]
      },
      {
       "output_type": "stream",
       "stream": "stdout",
       "text": [
        "\n",
        "[[ 0.011  0.     0.11   0.022  0.454 -0.65  -0.023  0.346]]\n",
        "[[ 0.011  0.     0.11   0.022  0.455 -0.65  -0.023  0.346]]\n",
        "[[ 0.011  0.     0.11   0.022  0.456 -0.65  -0.023  0.346]]\n",
        "[[ 0.011  0.     0.11   0.022  0.456 -0.651 -0.023  0.346]]\n",
        "[[ 0.011  0.     0.11   0.022  0.457 -0.651 -0.023  0.346]]\n",
        "[[ 0.011  0.     0.11   0.022  0.458 -0.651 -0.023  0.346]]"
       ]
      },
      {
       "output_type": "stream",
       "stream": "stdout",
       "text": [
        "\n",
        "[[ 0.011  0.     0.11   0.022  0.459 -0.651 -0.023  0.346]]\n",
        "[[ 0.011  0.     0.11   0.022  0.459 -0.652 -0.023  0.346]]\n",
        "[[ 0.011  0.     0.11   0.022  0.46  -0.652 -0.023  0.346]]\n",
        "[[ 0.011  0.     0.11   0.022  0.461 -0.652 -0.023  0.346]]\n",
        "[[ 0.011  0.     0.11   0.022  0.461 -0.652 -0.023  0.345]]\n",
        "[[ 0.011  0.     0.11   0.022  0.462 -0.652 -0.023  0.345]]"
       ]
      },
      {
       "output_type": "stream",
       "stream": "stdout",
       "text": [
        "\n",
        "[[ 0.011  0.     0.11   0.022  0.463 -0.652 -0.023  0.345]]\n",
        "[[ 0.011  0.     0.11   0.022  0.464 -0.652 -0.023  0.345]]\n",
        "[[ 0.011  0.     0.11   0.022  0.464 -0.653 -0.023  0.345]]\n",
        "[[ 0.011  0.     0.11   0.022  0.465 -0.653 -0.023  0.345]]\n",
        "[[ 0.011  0.     0.11   0.022  0.466 -0.653 -0.023  0.345]]\n",
        "[[ 0.011  0.     0.11   0.022  0.466 -0.654 -0.023  0.345]]"
       ]
      },
      {
       "output_type": "stream",
       "stream": "stdout",
       "text": [
        "\n",
        "[[ 0.011  0.     0.11   0.022  0.467 -0.654 -0.023  0.345]]\n",
        "[[ 0.011  0.     0.11   0.022  0.468 -0.654 -0.023  0.345]]\n",
        "[[ 0.011  0.     0.11   0.022  0.469 -0.654 -0.023  0.345]]\n",
        "[[ 0.011  0.     0.11   0.022  0.469 -0.654 -0.024  0.345]]\n",
        "[[ 0.011  0.     0.11   0.022  0.47  -0.654 -0.024  0.345]]\n",
        "[[ 0.011  0.     0.11   0.022  0.471 -0.654 -0.024  0.345]]"
       ]
      },
      {
       "output_type": "stream",
       "stream": "stdout",
       "text": [
        "\n",
        "[[ 0.011  0.     0.11   0.022  0.472 -0.654 -0.024  0.345]]\n",
        "[[ 0.011  0.     0.11   0.022  0.473 -0.654 -0.024  0.345]]\n",
        "[[ 0.011  0.     0.11   0.022  0.473 -0.654 -0.024  0.344]]\n",
        "[[ 0.011  0.     0.11   0.022  0.474 -0.654 -0.024  0.344]]\n",
        "[[ 0.011  0.     0.11   0.022  0.475 -0.654 -0.024  0.344]]\n",
        "[[ 0.011  0.     0.11   0.022  0.476 -0.654 -0.024  0.344]]"
       ]
      },
      {
       "output_type": "stream",
       "stream": "stdout",
       "text": [
        "\n",
        "[[ 0.011  0.     0.11   0.022  0.476 -0.655 -0.024  0.344]]\n",
        "[[ 0.011  0.     0.11   0.022  0.477 -0.655 -0.024  0.344]]\n",
        "[[ 0.011  0.     0.11   0.022  0.478 -0.655 -0.024  0.344]]\n",
        "[[ 0.011  0.     0.11   0.022  0.478 -0.656 -0.024  0.344]]\n",
        "[[ 0.011  0.     0.11   0.022  0.479 -0.656 -0.024  0.344]]\n",
        "[[ 0.011  0.     0.11   0.022  0.48  -0.656 -0.024  0.344]]"
       ]
      },
      {
       "output_type": "stream",
       "stream": "stdout",
       "text": [
        "\n",
        "[[ 0.011  0.     0.11   0.022  0.481 -0.656 -0.024  0.344]]\n",
        "[[ 0.011  0.     0.11   0.022  0.481 -0.656 -0.024  0.343]]\n",
        "[[ 0.011  0.     0.11   0.022  0.482 -0.656 -0.024  0.343]]\n",
        "[[ 0.011  0.     0.11   0.022  0.483 -0.656 -0.024  0.343]]\n",
        "[[ 0.011  0.     0.11   0.022  0.484 -0.656 -0.024  0.343]]\n",
        "[[ 0.011  0.     0.11   0.022  0.484 -0.657 -0.024  0.343]]"
       ]
      },
      {
       "output_type": "stream",
       "stream": "stdout",
       "text": [
        "\n",
        "[[ 0.011  0.     0.11   0.022  0.485 -0.657 -0.024  0.343]]\n",
        "[[ 0.011  0.     0.11   0.022  0.486 -0.657 -0.024  0.343]]\n",
        "[[ 0.011  0.     0.11   0.022  0.486 -0.658 -0.024  0.343]]\n",
        "[[ 0.011  0.     0.11   0.022  0.487 -0.658 -0.024  0.343]]\n",
        "[[ 0.011  0.     0.11   0.022  0.488 -0.658 -0.024  0.343]]\n",
        "[[ 0.011  0.     0.11   0.022  0.488 -0.659 -0.024  0.343]]"
       ]
      },
      {
       "output_type": "stream",
       "stream": "stdout",
       "text": [
        "\n",
        "[[ 0.011  0.     0.11   0.022  0.489 -0.659 -0.024  0.343]]\n",
        "[[ 0.011  0.     0.11   0.022  0.49  -0.659 -0.024  0.343]]\n",
        "[[ 0.012  0.     0.11   0.022  0.49  -0.659 -0.024  0.343]]\n",
        "[[ 0.012  0.     0.11   0.022  0.491 -0.659 -0.024  0.343]]\n",
        "[[ 0.012  0.     0.11   0.022  0.491 -0.659 -0.025  0.343]]\n",
        "[[ 0.012  0.     0.11   0.022  0.492 -0.659 -0.025  0.343]]"
       ]
      },
      {
       "output_type": "stream",
       "stream": "stdout",
       "text": [
        "\n",
        "[[ 0.012  0.     0.11   0.022  0.493 -0.659 -0.025  0.343]]\n",
        "[[ 0.012  0.     0.11   0.022  0.494 -0.659 -0.025  0.343]]\n",
        "[[ 0.012  0.     0.11   0.022  0.495 -0.659 -0.025  0.343]]\n",
        "[[ 0.012  0.     0.11   0.022  0.495 -0.659 -0.025  0.342]]\n",
        "[[ 0.012  0.     0.11   0.022  0.496 -0.659 -0.025  0.342]]\n",
        "[[ 0.012  0.     0.11   0.022  0.497 -0.659 -0.025  0.342]]"
       ]
      },
      {
       "output_type": "stream",
       "stream": "stdout",
       "text": [
        "\n",
        "[[ 0.012  0.     0.11   0.022  0.498 -0.659 -0.025  0.342]]\n",
        "[[ 0.012  0.     0.11   0.022  0.498 -0.66  -0.025  0.342]]\n",
        "[[ 0.012  0.     0.11   0.022  0.499 -0.66  -0.025  0.342]]\n",
        "[[ 0.012  0.     0.11   0.022  0.5   -0.66  -0.025  0.342]]\n",
        "[[ 0.012  0.     0.11   0.022  0.5   -0.661 -0.025  0.342]]\n",
        "[[ 0.012  0.     0.11   0.022  0.501 -0.661 -0.025  0.342]]"
       ]
      },
      {
       "output_type": "stream",
       "stream": "stdout",
       "text": [
        "\n",
        "[[ 0.012  0.     0.11   0.022  0.502 -0.661 -0.025  0.342]]\n",
        "[[ 0.012  0.     0.11   0.022  0.503 -0.661 -0.025  0.342]]\n",
        "[[ 0.012  0.     0.11   0.022  0.503 -0.661 -0.025  0.341]]\n",
        "[[ 0.012  0.     0.11   0.022  0.504 -0.661 -0.025  0.341]]\n",
        "[[ 0.012  0.     0.11   0.022  0.505 -0.661 -0.025  0.341]]\n",
        "[[ 0.012  0.     0.11   0.022  0.506 -0.661 -0.025  0.341]]"
       ]
      },
      {
       "output_type": "stream",
       "stream": "stdout",
       "text": [
        "\n",
        "[[ 0.012  0.     0.11   0.022  0.506 -0.661 -0.026  0.341]]\n",
        "[[ 0.012  0.     0.11   0.022  0.507 -0.661 -0.026  0.341]]\n",
        "[[ 0.012  0.     0.11   0.022  0.508 -0.661 -0.026  0.341]]\n",
        "[[ 0.012  0.     0.11   0.022  0.509 -0.661 -0.026  0.341]]\n",
        "[[ 0.012  0.     0.11   0.022  0.51  -0.661 -0.026  0.341]]\n",
        "[[ 0.012  0.     0.11   0.022  0.51  -0.662 -0.026  0.341]]"
       ]
      },
      {
       "output_type": "stream",
       "stream": "stdout",
       "text": [
        "\n",
        "[[ 0.012  0.     0.11   0.022  0.511 -0.662 -0.026  0.341]]\n",
        "[[ 0.012  0.     0.11   0.022  0.512 -0.662 -0.026  0.341]]\n",
        "[[ 0.012  0.     0.11   0.022  0.512 -0.663 -0.026  0.341]]\n",
        "[[ 0.012  0.     0.11   0.022  0.513 -0.663 -0.026  0.341]]\n",
        "[[ 0.012  0.     0.11   0.022  0.514 -0.663 -0.026  0.341]]\n",
        "[[ 0.012  0.     0.11   0.022  0.515 -0.663 -0.026  0.341]]"
       ]
      },
      {
       "output_type": "stream",
       "stream": "stdout",
       "text": [
        "\n",
        "[[ 0.012  0.     0.11   0.022  0.515 -0.663 -0.026  0.34 ]]\n",
        "[[ 0.012  0.     0.11   0.022  0.516 -0.663 -0.026  0.34 ]]\n",
        "[[ 0.012  0.     0.11   0.022  0.517 -0.663 -0.026  0.34 ]]\n",
        "[[ 0.012  0.     0.11   0.022  0.518 -0.663 -0.026  0.34 ]]\n",
        "[[ 0.012  0.     0.11   0.022  0.518 -0.664 -0.026  0.34 ]]\n",
        "[[ 0.012  0.     0.11   0.022  0.519 -0.664 -0.026  0.34 ]]"
       ]
      },
      {
       "output_type": "stream",
       "stream": "stdout",
       "text": [
        "\n",
        "[[ 0.012  0.     0.11   0.022  0.52  -0.664 -0.026  0.34 ]]\n",
        "[[ 0.012  0.     0.11   0.022  0.52  -0.664 -0.026  0.339]]\n",
        "[[ 0.012  0.     0.11   0.022  0.521 -0.664 -0.026  0.339]]\n",
        "[[ 0.012  0.     0.11   0.022  0.522 -0.664 -0.026  0.339]]\n",
        "[[ 0.012  0.     0.11   0.022  0.523 -0.664 -0.026  0.339]]"
       ]
      },
      {
       "output_type": "stream",
       "stream": "stdout",
       "text": [
        "\n",
        "[[ 0.012  0.     0.11   0.022  0.523 -0.665 -0.026  0.339]]\n",
        "[[ 0.012  0.     0.11   0.022  0.524 -0.665 -0.026  0.339]]\n",
        "[[ 0.012  0.     0.11   0.022  0.525 -0.665 -0.026  0.339]]\n",
        "[[ 0.012  0.     0.11   0.022  0.526 -0.665 -0.026  0.339]]\n",
        "[[ 0.012  0.     0.11   0.022  0.526 -0.665 -0.027  0.339]]\n",
        "[[ 0.012  0.     0.11   0.022  0.527 -0.665 -0.027  0.339]]"
       ]
      },
      {
       "output_type": "stream",
       "stream": "stdout",
       "text": [
        "\n",
        "[[ 0.012  0.     0.11   0.022  0.528 -0.665 -0.027  0.339]]\n",
        "[[ 0.012  0.     0.11   0.022  0.529 -0.665 -0.027  0.339]]\n",
        "[[ 0.012  0.     0.11   0.022  0.53  -0.665 -0.027  0.339]]\n",
        "[[ 0.012  0.     0.11   0.022  0.53  -0.666 -0.027  0.339]]\n",
        "[[ 0.012  0.     0.11   0.022  0.531 -0.666 -0.027  0.339]]\n",
        "[[ 0.012  0.     0.11   0.022  0.532 -0.666 -0.027  0.339]]"
       ]
      },
      {
       "output_type": "stream",
       "stream": "stdout",
       "text": [
        "\n",
        "[[ 0.012  0.     0.11   0.022  0.532 -0.666 -0.027  0.338]]\n",
        "[[ 0.012  0.     0.11   0.022  0.533 -0.666 -0.027  0.338]]\n",
        "[[ 0.012  0.     0.11   0.022  0.534 -0.666 -0.027  0.338]]\n",
        "[[ 0.012  0.     0.11   0.022  0.535 -0.666 -0.027  0.338]]\n",
        "[[ 0.012  0.     0.11   0.022  0.536 -0.666 -0.027  0.338]]\n",
        "[[ 0.012  0.     0.11   0.022  0.536 -0.666 -0.028  0.338]]"
       ]
      },
      {
       "output_type": "stream",
       "stream": "stdout",
       "text": [
        "\n",
        "[[ 0.012  0.     0.11   0.022  0.537 -0.666 -0.028  0.338]]\n",
        "[[ 0.012  0.     0.11   0.022  0.538 -0.666 -0.028  0.338]]\n",
        "[[ 0.012  0.     0.11   0.022  0.539 -0.666 -0.028  0.338]]\n",
        "[[ 0.012  0.     0.11   0.022  0.54  -0.666 -0.028  0.338]]\n",
        "[[ 0.012  0.     0.11   0.022  0.54  -0.667 -0.028  0.338]]\n",
        "[[ 0.012  0.     0.11   0.022  0.541 -0.667 -0.028  0.338]]"
       ]
      },
      {
       "output_type": "stream",
       "stream": "stdout",
       "text": [
        "\n",
        "[[ 0.012  0.     0.11   0.022  0.542 -0.667 -0.028  0.338]]\n",
        "[[ 0.012  0.     0.11   0.022  0.542 -0.668 -0.028  0.338]]\n",
        "[[ 0.012  0.     0.11   0.022  0.543 -0.668 -0.028  0.338]]\n",
        "[[ 0.012  0.     0.11   0.022  0.544 -0.668 -0.028  0.338]]\n",
        "[[ 0.012  0.     0.11   0.022  0.544 -0.668 -0.028  0.337]]\n",
        "[[ 0.012  0.     0.11   0.022  0.545 -0.668 -0.028  0.337]]"
       ]
      },
      {
       "output_type": "stream",
       "stream": "stdout",
       "text": [
        "\n",
        "[[ 0.012  0.     0.11   0.022  0.546 -0.668 -0.028  0.337]]\n",
        "[[ 0.012  0.     0.11   0.022  0.547 -0.668 -0.028  0.337]]\n",
        "[[ 0.012  0.     0.11   0.022  0.548 -0.668 -0.028  0.337]]\n",
        "[[ 0.012  0.     0.11   0.022  0.548 -0.669 -0.028  0.337]]\n",
        "[[ 0.012  0.     0.11   0.022  0.549 -0.669 -0.028  0.337]]\n",
        "[[ 0.012  0.     0.11   0.022  0.55  -0.669 -0.028  0.337]]"
       ]
      },
      {
       "output_type": "stream",
       "stream": "stdout",
       "text": [
        "\n",
        "[[ 0.012  0.     0.11   0.022  0.55  -0.669 -0.028  0.336]]\n",
        "[[ 0.012  0.     0.11   0.022  0.551 -0.669 -0.028  0.336]]\n",
        "[[ 0.012  0.     0.11   0.022  0.552 -0.669 -0.028  0.336]]\n",
        "[[ 0.012  0.     0.11   0.022  0.553 -0.669 -0.028  0.336]]\n",
        "[[ 0.012  0.     0.11   0.022  0.553 -0.67  -0.028  0.336]]\n",
        "[[ 0.012  0.     0.11   0.022  0.554 -0.67  -0.028  0.336]]"
       ]
      },
      {
       "output_type": "stream",
       "stream": "stdout",
       "text": [
        "\n",
        "[[ 0.012  0.     0.11   0.022  0.555 -0.67  -0.028  0.336]]\n",
        "[[ 0.012  0.     0.11   0.022  0.555 -0.671 -0.028  0.336]]\n",
        "[[ 0.012  0.     0.11   0.022  0.556 -0.671 -0.028  0.336]]\n",
        "[[ 0.012  0.     0.11   0.022  0.557 -0.671 -0.028  0.336]]\n",
        "[[ 0.013  0.     0.11   0.022  0.557 -0.671 -0.028  0.336]]\n",
        "[[ 0.013  0.     0.11   0.022  0.558 -0.671 -0.028  0.336]]"
       ]
      },
      {
       "output_type": "stream",
       "stream": "stdout",
       "text": [
        "\n",
        "[[ 0.013  0.     0.11   0.022  0.558 -0.671 -0.029  0.336]]\n",
        "[[ 0.013  0.     0.11   0.022  0.559 -0.671 -0.029  0.336]]\n",
        "[[ 0.013  0.     0.11   0.022  0.56  -0.671 -0.029  0.336]]\n",
        "[[ 0.013  0.     0.11   0.022  0.561 -0.671 -0.029  0.336]]\n",
        "[[ 0.013  0.     0.11   0.022  0.562 -0.671 -0.029  0.336]]\n",
        "[[ 0.013  0.     0.11   0.022  0.562 -0.671 -0.029  0.335]]"
       ]
      },
      {
       "output_type": "stream",
       "stream": "stdout",
       "text": [
        "\n",
        "[[ 0.013  0.     0.11   0.022  0.563 -0.671 -0.029  0.335]]\n",
        "[[ 0.013  0.     0.11   0.022  0.564 -0.671 -0.029  0.335]]\n",
        "[[ 0.013  0.     0.11   0.022  0.565 -0.671 -0.029  0.335]]\n",
        "[[ 0.013  0.     0.11   0.022  0.565 -0.672 -0.029  0.335]]\n",
        "[[ 0.013  0.     0.11   0.022  0.566 -0.672 -0.029  0.335]]\n",
        "[[ 0.013  0.     0.11   0.022  0.567 -0.672 -0.029  0.335]]"
       ]
      },
      {
       "output_type": "stream",
       "stream": "stdout",
       "text": [
        "\n",
        "[[ 0.013  0.     0.11   0.022  0.567 -0.673 -0.029  0.335]]\n",
        "[[ 0.013  0.     0.11   0.022  0.568 -0.673 -0.029  0.335]]\n",
        "[[ 0.013  0.     0.11   0.022  0.569 -0.673 -0.029  0.335]]\n",
        "[[ 0.013  0.     0.11   0.022  0.57  -0.673 -0.029  0.335]]\n",
        "[[ 0.013  0.     0.11   0.022  0.57  -0.673 -0.029  0.334]]\n",
        "[[ 0.013  0.     0.11   0.022  0.571 -0.673 -0.029  0.334]]"
       ]
      },
      {
       "output_type": "stream",
       "stream": "stdout",
       "text": [
        "\n",
        "[[ 0.013  0.     0.11   0.022  0.572 -0.673 -0.029  0.334]]\n",
        "[[ 0.013  0.     0.11   0.022  0.573 -0.673 -0.029  0.334]]\n",
        "[[ 0.013  0.     0.11   0.022  0.573 -0.674 -0.029  0.334]]\n",
        "[[ 0.013  0.     0.11   0.022  0.574 -0.674 -0.029  0.334]]\n",
        "[[ 0.013  0.     0.11   0.022  0.575 -0.674 -0.029  0.334]]\n",
        "[[ 0.013  0.     0.11   0.022  0.575 -0.675 -0.029  0.334]]"
       ]
      },
      {
       "output_type": "stream",
       "stream": "stdout",
       "text": [
        "\n",
        "[[ 0.013  0.     0.11   0.022  0.576 -0.675 -0.029  0.334]]\n",
        "[[ 0.013  0.     0.11   0.022  0.577 -0.675 -0.029  0.334]]\n",
        "[[ 0.013  0.     0.11   0.022  0.577 -0.676 -0.029  0.334]]\n",
        "[[ 0.013  0.     0.11   0.022  0.578 -0.676 -0.029  0.334]]\n",
        "[[ 0.013  0.     0.11   0.022  0.579 -0.676 -0.029  0.334]]\n",
        "[[ 0.014  0.     0.11   0.022  0.579 -0.676 -0.029  0.334]]"
       ]
      },
      {
       "output_type": "stream",
       "stream": "stdout",
       "text": [
        "\n",
        "[[ 0.014  0.     0.11   0.022  0.58  -0.676 -0.029  0.334]]\n",
        "[[ 0.014  0.     0.11   0.022  0.58  -0.676 -0.03   0.334]]\n",
        "[[ 0.014  0.     0.11   0.022  0.581 -0.676 -0.03   0.334]]\n",
        "[[ 0.014  0.     0.11   0.022  0.582 -0.676 -0.03   0.334]]\n",
        "[[ 0.014  0.     0.11   0.022  0.583 -0.676 -0.03   0.334]]\n",
        "[[ 0.014  0.     0.11   0.022  0.584 -0.676 -0.03   0.334]]"
       ]
      },
      {
       "output_type": "stream",
       "stream": "stdout",
       "text": [
        "\n",
        "[[ 0.014  0.     0.11   0.022  0.584 -0.676 -0.03   0.333]]\n",
        "[[ 0.014  0.     0.11   0.022  0.585 -0.676 -0.03   0.333]]\n",
        "[[ 0.014  0.     0.11   0.022  0.586 -0.676 -0.03   0.333]]\n",
        "[[ 0.014  0.     0.11   0.022  0.587 -0.676 -0.03   0.333]]\n",
        "[[ 0.014  0.     0.11   0.022  0.587 -0.677 -0.03   0.333]]\n",
        "[[ 0.014  0.     0.11   0.022  0.588 -0.677 -0.03   0.333]]"
       ]
      },
      {
       "output_type": "stream",
       "stream": "stdout",
       "text": [
        "\n",
        "[[ 0.014  0.     0.11   0.022  0.589 -0.677 -0.03   0.333]]\n",
        "[[ 0.014  0.     0.11   0.022  0.589 -0.678 -0.03   0.333]]\n",
        "[[ 0.014  0.     0.11   0.022  0.59  -0.678 -0.03   0.333]]\n",
        "[[ 0.014  0.     0.11   0.022  0.591 -0.678 -0.03   0.333]]\n",
        "[[ 0.014  0.     0.11   0.022  0.592 -0.678 -0.03   0.333]]\n",
        "[[ 0.014  0.     0.11   0.022  0.592 -0.678 -0.03   0.332]]"
       ]
      },
      {
       "output_type": "stream",
       "stream": "stdout",
       "text": [
        "\n",
        "[[ 0.014  0.     0.11   0.022  0.593 -0.678 -0.03   0.332]]\n",
        "[[ 0.014  0.     0.11   0.022  0.594 -0.678 -0.03   0.332]]\n",
        "[[ 0.014  0.     0.11   0.022  0.595 -0.678 -0.03   0.332]]\n",
        "[[ 0.014  0.     0.11   0.022  0.595 -0.679 -0.03   0.332]]\n",
        "[[ 0.014  0.     0.11   0.022  0.596 -0.679 -0.03   0.332]]"
       ]
      },
      {
       "output_type": "stream",
       "stream": "stdout",
       "text": [
        "\n",
        "[[ 0.014  0.     0.11   0.022  0.597 -0.679 -0.03   0.332]]\n",
        "[[ 0.014  0.     0.11   0.022  0.597 -0.68  -0.03   0.332]]\n",
        "[[ 0.014  0.     0.11   0.022  0.598 -0.68  -0.03   0.332]]\n",
        "[[ 0.014  0.     0.11   0.022  0.599 -0.68  -0.03   0.332]]\n",
        "[[ 0.014  0.     0.11   0.022  0.599 -0.68  -0.03   0.331]]\n",
        "[[ 0.014  0.     0.11   0.022  0.6   -0.68  -0.03   0.331]]"
       ]
      },
      {
       "output_type": "stream",
       "stream": "stdout",
       "text": [
        "\n",
        "[[ 0.014  0.     0.11   0.022  0.601 -0.68  -0.03   0.331]]\n",
        "[[ 0.014  0.     0.11   0.022  0.602 -0.68  -0.03   0.331]]\n",
        "[[ 0.014  0.     0.11   0.022  0.603 -0.68  -0.03   0.331]]\n",
        "[[ 0.014  0.     0.11   0.022  0.603 -0.68  -0.031  0.331]]\n",
        "[[ 0.014  0.     0.11   0.022  0.604 -0.68  -0.031  0.331]]\n",
        "[[ 0.014  0.     0.11   0.022  0.605 -0.68  -0.031  0.331]]"
       ]
      },
      {
       "output_type": "stream",
       "stream": "stdout",
       "text": [
        "\n",
        "[[ 0.014  0.     0.11   0.022  0.606 -0.68  -0.031  0.331]]\n",
        "[[ 0.014  0.     0.11   0.022  0.607 -0.68  -0.031  0.331]]\n",
        "[[ 0.014  0.     0.11   0.022  0.607 -0.681 -0.031  0.331]]\n",
        "[[ 0.014  0.     0.11   0.022  0.608 -0.681 -0.031  0.331]]\n",
        "[[ 0.014  0.     0.11   0.022  0.609 -0.681 -0.031  0.331]]\n",
        "[[ 0.014  0.     0.11   0.022  0.609 -0.682 -0.031  0.331]]"
       ]
      },
      {
       "output_type": "stream",
       "stream": "stdout",
       "text": [
        "\n",
        "[[ 0.014  0.     0.11   0.022  0.61  -0.682 -0.031  0.331]]\n",
        "[[ 0.014  0.     0.11   0.022  0.611 -0.682 -0.031  0.331]]\n",
        "[[ 0.014  0.     0.11   0.022  0.611 -0.682 -0.031  0.33 ]]\n",
        "[[ 0.014  0.     0.11   0.022  0.612 -0.682 -0.031  0.33 ]]\n",
        "[[ 0.014  0.     0.11   0.022  0.613 -0.682 -0.031  0.33 ]]\n",
        "[[ 0.014  0.     0.11   0.022  0.614 -0.682 -0.031  0.33 ]]"
       ]
      },
      {
       "output_type": "stream",
       "stream": "stdout",
       "text": [
        "\n",
        "[[ 0.014  0.     0.11   0.022  0.615 -0.682 -0.031  0.33 ]]\n",
        "[[ 0.014  0.     0.11   0.022  0.615 -0.682 -0.032  0.33 ]]\n",
        "[[ 0.014  0.     0.11   0.022  0.616 -0.682 -0.032  0.33 ]]\n",
        "[[ 0.014  0.     0.11   0.022  0.617 -0.682 -0.032  0.33 ]]\n",
        "[[ 0.014  0.     0.11   0.022  0.618 -0.682 -0.032  0.33 ]]"
       ]
      },
      {
       "output_type": "stream",
       "stream": "stdout",
       "text": [
        "\n",
        "[[ 0.014  0.     0.11   0.022  0.619 -0.682 -0.032  0.33 ]]\n",
        "[[ 0.014  0.     0.11   0.022  0.619 -0.683 -0.032  0.33 ]]\n",
        "[[ 0.014  0.     0.11   0.022  0.62  -0.683 -0.032  0.33 ]]\n",
        "[[ 0.014  0.     0.11   0.022  0.621 -0.683 -0.032  0.33 ]]\n",
        "[[ 0.014  0.     0.11   0.022  0.621 -0.684 -0.032  0.33 ]]\n",
        "[[ 0.014  0.     0.11   0.022  0.622 -0.684 -0.032  0.33 ]]"
       ]
      },
      {
       "output_type": "stream",
       "stream": "stdout",
       "text": [
        "\n",
        "[[ 0.014  0.     0.11   0.022  0.623 -0.684 -0.032  0.33 ]]\n",
        "[[ 0.014  0.     0.11   0.022  0.623 -0.684 -0.032  0.329]]\n",
        "[[ 0.014  0.     0.11   0.022  0.624 -0.684 -0.032  0.329]]\n",
        "[[ 0.014  0.     0.11   0.022  0.625 -0.684 -0.032  0.329]]\n",
        "[[ 0.014  0.     0.11   0.022  0.626 -0.684 -0.032  0.329]]\n",
        "[[ 0.014  0.     0.11   0.022  0.627 -0.684 -0.032  0.329]]"
       ]
      },
      {
       "output_type": "stream",
       "stream": "stdout",
       "text": [
        "\n",
        "[[ 0.014  0.     0.11   0.022  0.627 -0.685 -0.032  0.329]]\n",
        "[[ 0.014  0.     0.11   0.022  0.628 -0.685 -0.032  0.329]]\n",
        "[[ 0.014  0.     0.11   0.022  0.629 -0.685 -0.032  0.329]]\n",
        "[[ 0.014  0.     0.11   0.022  0.629 -0.685 -0.032  0.328]]\n",
        "[[ 0.014  0.     0.11   0.022  0.63  -0.685 -0.032  0.328]]\n",
        "[[ 0.014  0.     0.11   0.022  0.631 -0.685 -0.032  0.328]]"
       ]
      },
      {
       "output_type": "stream",
       "stream": "stdout",
       "text": [
        "\n",
        "[[ 0.014  0.     0.11   0.022  0.632 -0.685 -0.032  0.328]]\n",
        "[[ 0.014  0.     0.11   0.022  0.632 -0.686 -0.032  0.328]]\n",
        "[[ 0.014  0.     0.11   0.022  0.633 -0.686 -0.032  0.328]]\n",
        "[[ 0.014  0.     0.11   0.022  0.634 -0.686 -0.032  0.328]]\n",
        "[[ 0.014  0.     0.11   0.022  0.634 -0.687 -0.032  0.328]]\n",
        "[[ 0.014  0.     0.11   0.022  0.635 -0.687 -0.032  0.328]]"
       ]
      },
      {
       "output_type": "stream",
       "stream": "stdout",
       "text": [
        "\n",
        "[[ 0.014  0.     0.11   0.022  0.636 -0.687 -0.032  0.328]]\n",
        "[[ 0.015  0.     0.11   0.022  0.636 -0.687 -0.032  0.328]]\n",
        "[[ 0.015  0.     0.11   0.022  0.637 -0.687 -0.032  0.328]]\n",
        "[[ 0.015  0.     0.11   0.022  0.637 -0.687 -0.033  0.328]]\n",
        "[[ 0.015  0.     0.11   0.022  0.638 -0.687 -0.033  0.328]]\n",
        "[[ 0.015  0.     0.11   0.022  0.639 -0.687 -0.033  0.328]]"
       ]
      },
      {
       "output_type": "stream",
       "stream": "stdout",
       "text": [
        "\n",
        "[[ 0.015  0.     0.11   0.022  0.64  -0.687 -0.033  0.328]]\n",
        "[[ 0.015  0.     0.11   0.022  0.641 -0.687 -0.033  0.328]]\n",
        "[[ 0.015  0.     0.11   0.022  0.641 -0.687 -0.033  0.327]]\n",
        "[[ 0.015  0.     0.11   0.022  0.642 -0.687 -0.033  0.327]]\n",
        "[[ 0.015  0.     0.11   0.022  0.643 -0.687 -0.033  0.327]]\n",
        "[[ 0.015  0.     0.11   0.022  0.644 -0.687 -0.033  0.327]]"
       ]
      },
      {
       "output_type": "stream",
       "stream": "stdout",
       "text": [
        "\n",
        "[[ 0.015  0.     0.11   0.022  0.644 -0.688 -0.033  0.327]]\n",
        "[[ 0.015  0.     0.11   0.022  0.645 -0.688 -0.033  0.327]]\n",
        "[[ 0.015  0.     0.11   0.022  0.646 -0.688 -0.033  0.327]]\n",
        "[[ 0.015  0.     0.11   0.022  0.646 -0.689 -0.033  0.327]]\n",
        "[[ 0.015  0.     0.11   0.022  0.647 -0.689 -0.033  0.327]]\n",
        "[[ 0.015  0.     0.11   0.022  0.648 -0.689 -0.033  0.327]]"
       ]
      },
      {
       "output_type": "stream",
       "stream": "stdout",
       "text": [
        "\n",
        "[[ 0.015  0.     0.11   0.022  0.649 -0.689 -0.033  0.327]]\n",
        "[[ 0.015  0.     0.11   0.022  0.649 -0.689 -0.033  0.326]]\n",
        "[[ 0.015  0.     0.11   0.022  0.65  -0.689 -0.033  0.326]]\n",
        "[[ 0.015  0.     0.11   0.022  0.651 -0.689 -0.033  0.326]]\n",
        "[[ 0.015  0.     0.11   0.022  0.652 -0.689 -0.033  0.326]]\n",
        "[[ 0.015  0.     0.11   0.022  0.652 -0.69  -0.033  0.326]]"
       ]
      },
      {
       "output_type": "stream",
       "stream": "stdout",
       "text": [
        "\n",
        "[[ 0.015  0.     0.11   0.022  0.653 -0.69  -0.033  0.326]]\n",
        "[[ 0.015  0.     0.11   0.022  0.654 -0.69  -0.033  0.326]]\n",
        "[[ 0.015  0.     0.11   0.022  0.654 -0.691 -0.033  0.326]]\n",
        "[[ 0.015  0.     0.11   0.022  0.655 -0.691 -0.033  0.326]]\n",
        "[[ 0.015  0.     0.11   0.022  0.656 -0.691 -0.033  0.326]]\n",
        "[[ 0.015  0.     0.11   0.022  0.656 -0.692 -0.033  0.326]]"
       ]
      },
      {
       "output_type": "stream",
       "stream": "stdout",
       "text": [
        "\n",
        "[[ 0.015  0.     0.11   0.022  0.657 -0.692 -0.033  0.326]]\n",
        "[[ 0.015  0.     0.11   0.022  0.658 -0.692 -0.033  0.326]]\n",
        "[[ 0.015  0.     0.11   0.022  0.659 -0.692 -0.033  0.326]]\n",
        "[[ 0.015  0.     0.11   0.022  0.659 -0.692 -0.034  0.326]]\n",
        "[[ 0.015  0.     0.11   0.022  0.66  -0.692 -0.034  0.326]]\n",
        "[[ 0.015  0.     0.11   0.022  0.661 -0.692 -0.034  0.326]]"
       ]
      },
      {
       "output_type": "stream",
       "stream": "stdout",
       "text": [
        "\n",
        "[[ 0.015  0.     0.11   0.022  0.662 -0.692 -0.034  0.326]]\n",
        "[[ 0.015  0.     0.11   0.022  0.663 -0.692 -0.034  0.326]]\n",
        "[[ 0.015  0.     0.11   0.022  0.663 -0.692 -0.034  0.325]]\n",
        "[[ 0.015  0.     0.11   0.022  0.664 -0.692 -0.034  0.325]]\n",
        "[[ 0.015  0.     0.11   0.022  0.665 -0.692 -0.034  0.325]]\n",
        "[[ 0.015  0.     0.11   0.022  0.666 -0.692 -0.034  0.325]]"
       ]
      },
      {
       "output_type": "stream",
       "stream": "stdout",
       "text": [
        "\n",
        "[[ 0.015  0.     0.11   0.022  0.666 -0.693 -0.034  0.325]]\n",
        "[[ 0.015  0.     0.11   0.022  0.667 -0.693 -0.034  0.325]]\n",
        "[[ 0.015  0.     0.11   0.022  0.668 -0.693 -0.034  0.325]]\n",
        "[[ 0.015  0.     0.11   0.022  0.668 -0.694 -0.034  0.325]]\n",
        "[[ 0.015  0.     0.11   0.022  0.669 -0.694 -0.034  0.325]]\n",
        "[[ 0.015  0.     0.11   0.022  0.67  -0.694 -0.034  0.325]]"
       ]
      },
      {
       "output_type": "stream",
       "stream": "stdout",
       "text": [
        "\n",
        "[[ 0.015  0.     0.11   0.022  0.671 -0.694 -0.034  0.325]]\n",
        "[[ 0.015  0.     0.11   0.022  0.671 -0.694 -0.034  0.324]]\n",
        "[[ 0.015  0.     0.11   0.022  0.672 -0.694 -0.034  0.324]]\n",
        "[[ 0.015  0.     0.11   0.022  0.673 -0.694 -0.034  0.324]]\n",
        "[[ 0.015  0.     0.11   0.022  0.674 -0.694 -0.034  0.324]]\n",
        "[[ 0.015  0.     0.11   0.022  0.674 -0.695 -0.034  0.324]]"
       ]
      },
      {
       "output_type": "stream",
       "stream": "stdout",
       "text": [
        "\n",
        "[[ 0.015  0.     0.11   0.022  0.675 -0.695 -0.034  0.324]]\n",
        "[[ 0.015  0.     0.11   0.022  0.676 -0.695 -0.034  0.324]]\n",
        "[[ 0.015  0.     0.11   0.022  0.676 -0.696 -0.034  0.324]]\n",
        "[[ 0.015  0.     0.11   0.022  0.677 -0.696 -0.034  0.324]]\n",
        "[[ 0.015  0.     0.11   0.022  0.678 -0.696 -0.034  0.324]]\n",
        "[[ 0.015  0.     0.11   0.022  0.678 -0.696 -0.034  0.323]]"
       ]
      },
      {
       "output_type": "stream",
       "stream": "stdout",
       "text": [
        "\n",
        "[[ 0.015  0.     0.11   0.022  0.679 -0.696 -0.034  0.323]]\n",
        "[[ 0.015  0.     0.11   0.022  0.68  -0.696 -0.034  0.323]]\n",
        "[[ 0.015  0.     0.11   0.022  0.681 -0.696 -0.034  0.323]]\n",
        "[[ 0.015  0.     0.11   0.022  0.682 -0.696 -0.034  0.323]]\n",
        "[[ 0.015  0.     0.11   0.022  0.682 -0.696 -0.035  0.323]]\n",
        "[[ 0.015  0.     0.11   0.022  0.683 -0.696 -0.035  0.323]]"
       ]
      },
      {
       "output_type": "stream",
       "stream": "stdout",
       "text": [
        "\n",
        "[[ 0.015  0.     0.11   0.022  0.684 -0.696 -0.035  0.323]]\n",
        "[[ 0.015  0.     0.11   0.022  0.685 -0.696 -0.035  0.323]]\n",
        "[[ 0.015  0.     0.11   0.022  0.686 -0.696 -0.035  0.323]]\n",
        "[[ 0.015  0.     0.11   0.022  0.686 -0.697 -0.035  0.323]]\n",
        "[[ 0.015  0.     0.11   0.022  0.687 -0.697 -0.035  0.323]]\n",
        "[[ 0.015  0.     0.11   0.022  0.688 -0.697 -0.035  0.323]]"
       ]
      },
      {
       "output_type": "stream",
       "stream": "stdout",
       "text": [
        "\n",
        "[[ 0.015  0.     0.11   0.022  0.688 -0.698 -0.035  0.323]]\n",
        "[[ 0.015  0.     0.11   0.022  0.689 -0.698 -0.035  0.323]]\n",
        "[[ 0.015  0.     0.11   0.022  0.69  -0.698 -0.035  0.323]]\n",
        "[[ 0.015  0.     0.11   0.022  0.69  -0.698 -0.035  0.322]]\n",
        "[[ 0.015  0.     0.11   0.022  0.691 -0.698 -0.035  0.322]]\n",
        "[[ 0.015  0.     0.11   0.022  0.692 -0.698 -0.035  0.322]]"
       ]
      },
      {
       "output_type": "stream",
       "stream": "stdout",
       "text": [
        "\n",
        "[[ 0.015  0.     0.11   0.022  0.693 -0.698 -0.035  0.322]]\n",
        "[[ 0.015  0.     0.11   0.022  0.694 -0.698 -0.035  0.322]]\n",
        "[[ 0.015  0.     0.11   0.022  0.694 -0.698 -0.036  0.322]]\n",
        "[[ 0.015  0.     0.11   0.022  0.695 -0.698 -0.036  0.322]]\n",
        "[[ 0.015  0.     0.11   0.022  0.696 -0.698 -0.036  0.322]]\n",
        "[[ 0.015  0.     0.11   0.022  0.697 -0.698 -0.036  0.322]]"
       ]
      },
      {
       "output_type": "stream",
       "stream": "stdout",
       "text": [
        "\n",
        "[[ 0.015  0.     0.11   0.022  0.698 -0.698 -0.036  0.322]]\n",
        "[[ 0.015  0.     0.11   0.022  0.698 -0.699 -0.036  0.322]]\n",
        "[[ 0.015  0.     0.11   0.022  0.699 -0.699 -0.036  0.322]]\n",
        "[[ 0.015  0.     0.11   0.022  0.7   -0.699 -0.036  0.322]]\n",
        "[[ 0.015  0.     0.11   0.022  0.7   -0.7   -0.036  0.322]]\n",
        "[[ 0.015  0.     0.11   0.022  0.701 -0.7   -0.036  0.322]]"
       ]
      },
      {
       "output_type": "stream",
       "stream": "stdout",
       "text": [
        "\n",
        "[[ 0.015  0.     0.11   0.022  0.702 -0.7   -0.036  0.322]]\n",
        "[[ 0.015  0.     0.11   0.022  0.702 -0.7   -0.036  0.321]]\n",
        "[[ 0.015  0.     0.11   0.022  0.703 -0.7   -0.036  0.321]]\n",
        "[[ 0.015  0.     0.11   0.022  0.704 -0.7   -0.036  0.321]]\n",
        "[[ 0.015  0.     0.11   0.022  0.705 -0.7   -0.036  0.321]]\n",
        "[[ 0.016  0.     0.11   0.022  0.705 -0.7   -0.036  0.321]]"
       ]
      },
      {
       "output_type": "stream",
       "stream": "stdout",
       "text": [
        "\n",
        "[[ 0.016  0.     0.11   0.022  0.706 -0.7   -0.036  0.321]]\n",
        "[[ 0.016  0.     0.11   0.022  0.706 -0.701 -0.036  0.321]]\n",
        "[[ 0.016  0.     0.11   0.022  0.707 -0.701 -0.036  0.321]]\n",
        "[[ 0.016  0.     0.11   0.022  0.708 -0.701 -0.036  0.321]]\n",
        "[[ 0.016  0.     0.11   0.022  0.708 -0.701 -0.036  0.32 ]]"
       ]
      },
      {
       "output_type": "stream",
       "stream": "stdout",
       "text": [
        "\n",
        "[[ 0.016  0.     0.11   0.022  0.709 -0.701 -0.036  0.32 ]]\n",
        "[[ 0.016  0.     0.11   0.022  0.71  -0.701 -0.036  0.32 ]]\n",
        "[[ 0.016  0.     0.11   0.022  0.711 -0.701 -0.036  0.32 ]]\n",
        "[[ 0.016  0.     0.11   0.022  0.711 -0.702 -0.036  0.32 ]]\n",
        "[[ 0.016  0.     0.11   0.022  0.712 -0.702 -0.036  0.32 ]]\n",
        "[[ 0.016  0.     0.11   0.022  0.713 -0.702 -0.036  0.32 ]]"
       ]
      },
      {
       "output_type": "stream",
       "stream": "stdout",
       "text": [
        "\n",
        "[[ 0.016  0.     0.11   0.022  0.713 -0.703 -0.036  0.32 ]]\n",
        "[[ 0.016  0.     0.11   0.022  0.714 -0.703 -0.036  0.32 ]]\n",
        "[[ 0.016  0.     0.11   0.022  0.715 -0.703 -0.036  0.32 ]]\n",
        "[[ 0.016  0.     0.11   0.022  0.716 -0.703 -0.036  0.32 ]]\n",
        "[[ 0.016  0.     0.11   0.022  0.716 -0.703 -0.037  0.32 ]]\n",
        "[[ 0.016  0.     0.11   0.022  0.717 -0.703 -0.037  0.32 ]]"
       ]
      },
      {
       "output_type": "stream",
       "stream": "stdout",
       "text": [
        "\n",
        "[[ 0.016  0.     0.11   0.022  0.718 -0.703 -0.037  0.32 ]]\n",
        "[[ 0.016  0.     0.11   0.022  0.719 -0.703 -0.037  0.32 ]]\n",
        "[[ 0.016  0.     0.11   0.022  0.72  -0.703 -0.037  0.32 ]]\n",
        "[[ 0.016  0.     0.11   0.022  0.72  -0.703 -0.037  0.319]]\n",
        "[[ 0.016  0.     0.11   0.022  0.721 -0.703 -0.037  0.319]]\n",
        "[[ 0.016  0.     0.11   0.022  0.722 -0.703 -0.037  0.319]]"
       ]
      },
      {
       "output_type": "stream",
       "stream": "stdout",
       "text": [
        "\n",
        "[[ 0.016  0.     0.11   0.022  0.723 -0.703 -0.037  0.319]]\n",
        "[[ 0.016  0.     0.11   0.022  0.723 -0.704 -0.037  0.319]]\n",
        "[[ 0.016  0.     0.11   0.022  0.724 -0.704 -0.037  0.319]]\n",
        "[[ 0.016  0.     0.11   0.022  0.725 -0.704 -0.037  0.319]]\n",
        "[[ 0.016  0.     0.11   0.022  0.725 -0.705 -0.037  0.319]]\n",
        "[[ 0.016  0.     0.11   0.022  0.726 -0.705 -0.037  0.319]]"
       ]
      },
      {
       "output_type": "stream",
       "stream": "stdout",
       "text": [
        "\n",
        "[[ 0.016  0.     0.11   0.022  0.727 -0.705 -0.037  0.319]]\n",
        "[[ 0.016  0.     0.11   0.022  0.728 -0.705 -0.037  0.319]]"
       ]
      },
      {
       "output_type": "stream",
       "stream": "stdout",
       "text": [
        "\n",
        "[[ 0.016  0.     0.11   0.022  0.728 -0.705 -0.037  0.318]]\n",
        "[[ 0.016  0.     0.11   0.022  0.729 -0.705 -0.037  0.318]]\n",
        "[[ 0.016  0.     0.11   0.022  0.73  -0.705 -0.037  0.318]]\n",
        "[[ 0.016  0.     0.11   0.022  0.731 -0.705 -0.037  0.318]]"
       ]
      },
      {
       "output_type": "stream",
       "stream": "stdout",
       "text": [
        "\n",
        "[[ 0.016  0.     0.11   0.022  0.731 -0.706 -0.037  0.318]]\n",
        "[[ 0.016  0.     0.11   0.022  0.732 -0.706 -0.037  0.318]]\n",
        "[[ 0.016  0.     0.11   0.022  0.733 -0.706 -0.037  0.318]]\n",
        "[[ 0.016  0.     0.11   0.022  0.733 -0.707 -0.037  0.318]]\n",
        "[[ 0.016  0.     0.11   0.022  0.734 -0.707 -0.037  0.318]]"
       ]
      },
      {
       "output_type": "stream",
       "stream": "stdout",
       "text": [
        "\n",
        "[[ 0.016  0.     0.11   0.022  0.735 -0.707 -0.037  0.318]]\n",
        "[[ 0.016  0.     0.11   0.022  0.735 -0.708 -0.037  0.318]]\n",
        "[[ 0.016  0.     0.11   0.022  0.736 -0.708 -0.037  0.318]]\n",
        "[[ 0.016  0.     0.11   0.022  0.737 -0.708 -0.037  0.318]]\n",
        "[[ 0.017  0.     0.11   0.022  0.737 -0.708 -0.037  0.318]]"
       ]
      },
      {
       "output_type": "stream",
       "stream": "stdout",
       "text": [
        "\n",
        "[[ 0.017  0.     0.11   0.022  0.738 -0.708 -0.037  0.318]]\n",
        "[[ 0.017  0.     0.11   0.022  0.738 -0.708 -0.038  0.318]]\n",
        "[[ 0.017  0.     0.11   0.022  0.739 -0.708 -0.038  0.318]]\n",
        "[[ 0.017  0.     0.11   0.022  0.74  -0.708 -0.038  0.318]]\n",
        "[[ 0.017  0.     0.11   0.022  0.741 -0.708 -0.038  0.318]]"
       ]
      },
      {
       "output_type": "stream",
       "stream": "stdout",
       "text": [
        "\n",
        "[[ 0.017  0.     0.11   0.022  0.742 -0.708 -0.038  0.318]]\n",
        "[[ 0.017  0.     0.11   0.022  0.742 -0.708 -0.038  0.317]]\n",
        "[[ 0.017  0.     0.11   0.022  0.743 -0.708 -0.038  0.317]]\n",
        "[[ 0.017  0.     0.11   0.022  0.744 -0.708 -0.038  0.317]]\n",
        "[[ 0.017  0.     0.11   0.022  0.745 -0.708 -0.038  0.317]]"
       ]
      },
      {
       "output_type": "stream",
       "stream": "stdout",
       "text": [
        "\n",
        "[[ 0.017  0.     0.11   0.022  0.745 -0.709 -0.038  0.317]]\n",
        "[[ 0.017  0.     0.11   0.022  0.746 -0.709 -0.038  0.317]]\n",
        "[[ 0.017  0.     0.11   0.022  0.747 -0.709 -0.038  0.317]]\n",
        "[[ 0.017  0.     0.11   0.022  0.747 -0.71  -0.038  0.317]]\n",
        "[[ 0.017  0.     0.11   0.022  0.748 -0.71  -0.038  0.317]]"
       ]
      },
      {
       "output_type": "stream",
       "stream": "stdout",
       "text": [
        "\n",
        "[[ 0.017  0.     0.11   0.022  0.749 -0.71  -0.038  0.317]]\n",
        "[[ 0.017  0.     0.11   0.022  0.75  -0.71  -0.038  0.317]]\n",
        "[[ 0.017  0.     0.11   0.022  0.75  -0.71  -0.038  0.316]]\n",
        "[[ 0.017  0.     0.11   0.022  0.751 -0.71  -0.038  0.316]]\n",
        "[[ 0.017  0.     0.11   0.022  0.752 -0.71  -0.038  0.316]]"
       ]
      },
      {
       "output_type": "stream",
       "stream": "stdout",
       "text": [
        "\n",
        "[[ 0.017  0.     0.11   0.022  0.753 -0.71  -0.038  0.316]]\n",
        "[[ 0.017  0.     0.11   0.022  0.753 -0.71  -0.039  0.316]]\n",
        "[[ 0.017  0.     0.11   0.022  0.754 -0.71  -0.039  0.316]]\n",
        "[[ 0.017  0.     0.11   0.022  0.755 -0.71  -0.039  0.316]]\n",
        "[[ 0.017  0.     0.11   0.022  0.756 -0.71  -0.039  0.316]]"
       ]
      },
      {
       "output_type": "stream",
       "stream": "stdout",
       "text": [
        "\n",
        "[[ 0.017  0.     0.11   0.022  0.757 -0.71  -0.039  0.316]]\n",
        "[[ 0.017  0.     0.11   0.022  0.757 -0.711 -0.039  0.316]]\n",
        "[[ 0.017  0.     0.11   0.022  0.758 -0.711 -0.039  0.316]]\n",
        "[[ 0.017  0.     0.11   0.022  0.759 -0.711 -0.039  0.316]]\n",
        "[[ 0.017  0.     0.11   0.022  0.759 -0.712 -0.039  0.316]]\n",
        "[[ 0.017  0.     0.11   0.022  0.76  -0.712 -0.039  0.316]]"
       ]
      },
      {
       "output_type": "stream",
       "stream": "stdout",
       "text": [
        "\n",
        "[[ 0.017  0.     0.11   0.022  0.761 -0.712 -0.039  0.316]]\n",
        "[[ 0.017  0.     0.11   0.022  0.762 -0.712 -0.039  0.316]]\n",
        "[[ 0.017  0.     0.11   0.022  0.762 -0.712 -0.039  0.315]]\n",
        "[[ 0.017  0.     0.11   0.022  0.763 -0.712 -0.039  0.315]]\n",
        "[[ 0.017  0.     0.11   0.022  0.764 -0.712 -0.039  0.315]]\n",
        "[[ 0.017  0.     0.11   0.022  0.765 -0.712 -0.039  0.315]]"
       ]
      },
      {
       "output_type": "stream",
       "stream": "stdout",
       "text": [
        "\n",
        "[[ 0.017  0.     0.11   0.022  0.765 -0.713 -0.039  0.315]]\n",
        "[[ 0.017  0.     0.11   0.022  0.766 -0.713 -0.039  0.315]]\n",
        "[[ 0.017  0.     0.11   0.022  0.767 -0.713 -0.039  0.315]]\n",
        "[[ 0.017  0.     0.11   0.022  0.767 -0.714 -0.039  0.315]]\n",
        "[[ 0.017  0.     0.11   0.022  0.768 -0.714 -0.039  0.315]]\n",
        "[[ 0.017  0.     0.11   0.022  0.769 -0.714 -0.039  0.315]]"
       ]
      },
      {
       "output_type": "stream",
       "stream": "stdout",
       "text": [
        "\n",
        "[[ 0.017  0.     0.11   0.022  0.769 -0.714 -0.039  0.314]]\n",
        "[[ 0.017  0.     0.11   0.022  0.77  -0.714 -0.039  0.314]]\n",
        "[[ 0.017  0.     0.11   0.022  0.771 -0.714 -0.039  0.314]]\n",
        "[[ 0.017  0.     0.11   0.022  0.772 -0.714 -0.039  0.314]]\n",
        "[[ 0.017  0.     0.11   0.022  0.773 -0.714 -0.039  0.314]]\n",
        "[[ 0.017  0.     0.11   0.022  0.773 -0.714 -0.04   0.314]]"
       ]
      },
      {
       "output_type": "stream",
       "stream": "stdout",
       "text": [
        "\n",
        "[[ 0.017  0.     0.11   0.022  0.774 -0.714 -0.04   0.314]]\n",
        "[[ 0.017  0.     0.11   0.022  0.775 -0.714 -0.04   0.314]]\n",
        "[[ 0.017  0.     0.11   0.022  0.776 -0.714 -0.04   0.314]]\n",
        "[[ 0.017  0.     0.11   0.022  0.777 -0.714 -0.04   0.314]]\n",
        "[[ 0.017  0.     0.11   0.022  0.777 -0.715 -0.04   0.314]]"
       ]
      },
      {
       "output_type": "stream",
       "stream": "stdout",
       "text": [
        "\n",
        "[[ 0.017  0.     0.11   0.022  0.778 -0.715 -0.04   0.314]]\n",
        "[[ 0.017  0.     0.11   0.022  0.779 -0.715 -0.04   0.314]]\n",
        "[[ 0.017  0.     0.11   0.022  0.779 -0.716 -0.04   0.314]]\n",
        "[[ 0.017  0.     0.11   0.022  0.78  -0.716 -0.04   0.314]]\n",
        "[[ 0.017  0.     0.11   0.022  0.781 -0.716 -0.04   0.314]]\n",
        "[[ 0.017  0.     0.11   0.022  0.781 -0.716 -0.04   0.313]]"
       ]
      },
      {
       "output_type": "stream",
       "stream": "stdout",
       "text": [
        "\n",
        "[[ 0.017  0.     0.11   0.022  0.782 -0.716 -0.04   0.313]]\n",
        "[[ 0.017  0.     0.11   0.022  0.783 -0.716 -0.04   0.313]]\n",
        "[[ 0.017  0.     0.11   0.022  0.784 -0.716 -0.04   0.313]]\n",
        "[[ 0.017  0.     0.11   0.022  0.785 -0.716 -0.04   0.313]]\n",
        "[[ 0.017  0.     0.11   0.022  0.785 -0.716 -0.041  0.313]]\n",
        "[[ 0.017  0.     0.11   0.022  0.786 -0.716 -0.041  0.313]]"
       ]
      },
      {
       "output_type": "stream",
       "stream": "stdout",
       "text": [
        "\n",
        "[[ 0.017  0.     0.11   0.022  0.787 -0.716 -0.041  0.313]]\n",
        "[[ 0.017  0.     0.11   0.022  0.788 -0.716 -0.041  0.313]]\n",
        "[[ 0.017  0.     0.11   0.022  0.789 -0.716 -0.041  0.313]]\n",
        "[[ 0.017  0.     0.11   0.022  0.789 -0.717 -0.041  0.313]]"
       ]
      },
      {
       "output_type": "stream",
       "stream": "stdout",
       "text": [
        "\n",
        "[[ 0.017  0.     0.11   0.022  0.79  -0.717 -0.041  0.313]]\n",
        "[[ 0.017  0.     0.11   0.022  0.791 -0.717 -0.041  0.313]]\n",
        "[[ 0.017  0.     0.11   0.022  0.791 -0.717 -0.041  0.312]]\n",
        "[[ 0.017  0.     0.11   0.022  0.792 -0.717 -0.041  0.312]]\n",
        "[[ 0.017  0.     0.11   0.022  0.793 -0.717 -0.041  0.312]]"
       ]
      },
      {
       "output_type": "stream",
       "stream": "stdout",
       "text": [
        "\n",
        "[[ 0.017  0.     0.11   0.022  0.794 -0.717 -0.041  0.312]]\n",
        "[[ 0.017  0.     0.11   0.022  0.795 -0.717 -0.041  0.312]]\n",
        "[[ 0.017  0.     0.11   0.022  0.795 -0.718 -0.041  0.312]]\n",
        "[[ 0.017  0.     0.11   0.022  0.796 -0.718 -0.041  0.312]]\n",
        "[[ 0.017  0.     0.11   0.022  0.797 -0.718 -0.041  0.312]]"
       ]
      },
      {
       "output_type": "stream",
       "stream": "stdout",
       "text": [
        "\n",
        "[[ 0.017  0.     0.11   0.022  0.797 -0.719 -0.041  0.312]]\n",
        "[[ 0.017  0.     0.11   0.022  0.798 -0.719 -0.041  0.312]]\n",
        "[[ 0.017  0.     0.11   0.022  0.799 -0.719 -0.041  0.312]]\n",
        "[[ 0.017  0.     0.11   0.022  0.799 -0.719 -0.041  0.311]]\n",
        "[[ 0.017  0.     0.11   0.022  0.8   -0.719 -0.041  0.311]]"
       ]
      },
      {
       "output_type": "stream",
       "stream": "stdout",
       "text": [
        "\n",
        "[[ 0.017  0.     0.11   0.022  0.801 -0.719 -0.041  0.311]]\n",
        "[[ 0.017  0.     0.11   0.022  0.802 -0.719 -0.041  0.311]]\n",
        "[[ 0.017  0.     0.11   0.022  0.802 -0.72  -0.041  0.311]]\n",
        "[[ 0.017  0.     0.11   0.022  0.803 -0.72  -0.041  0.311]]\n",
        "[[ 0.017  0.     0.11   0.022  0.804 -0.72  -0.041  0.311]]\n",
        "[[ 0.018  0.     0.11   0.022  0.804 -0.72  -0.041  0.311]]"
       ]
      },
      {
       "output_type": "stream",
       "stream": "stdout",
       "text": [
        "\n",
        "[[ 0.018  0.     0.11   0.022  0.805 -0.72  -0.041  0.311]]\n",
        "[[ 0.018  0.     0.11   0.022  0.805 -0.72  -0.042  0.311]]\n",
        "[[ 0.018  0.     0.11   0.022  0.806 -0.72  -0.042  0.311]]\n",
        "[[ 0.018  0.     0.11   0.022  0.807 -0.72  -0.042  0.311]]\n",
        "[[ 0.018  0.     0.11   0.022  0.808 -0.72  -0.042  0.311]]\n",
        "[[ 0.018  0.     0.11   0.022  0.809 -0.72  -0.042  0.311]]"
       ]
      },
      {
       "output_type": "stream",
       "stream": "stdout",
       "text": [
        "\n",
        "[[ 0.018  0.     0.11   0.022  0.809 -0.721 -0.042  0.311]]\n",
        "[[ 0.018  0.     0.11   0.022  0.81  -0.721 -0.042  0.311]]\n",
        "[[ 0.018  0.     0.11   0.022  0.811 -0.721 -0.042  0.311]]\n",
        "[[ 0.018  0.     0.11   0.022  0.811 -0.721 -0.042  0.31 ]]\n",
        "[[ 0.018  0.     0.11   0.022  0.812 -0.721 -0.042  0.31 ]]"
       ]
      },
      {
       "output_type": "stream",
       "stream": "stdout",
       "text": [
        "\n",
        "[[ 0.018  0.     0.11   0.022  0.813 -0.721 -0.042  0.31 ]]\n",
        "[[ 0.018  0.     0.11   0.022  0.814 -0.721 -0.042  0.31 ]]\n",
        "[[ 0.018  0.     0.11   0.022  0.814 -0.722 -0.042  0.31 ]]\n",
        "[[ 0.018  0.     0.11   0.022  0.815 -0.722 -0.042  0.31 ]]\n",
        "[[ 0.018  0.     0.11   0.022  0.816 -0.722 -0.042  0.31 ]]\n",
        "[[ 0.018  0.     0.11   0.022  0.817 -0.722 -0.042  0.31 ]]"
       ]
      },
      {
       "output_type": "stream",
       "stream": "stdout",
       "text": [
        "\n",
        "[[ 0.018  0.     0.11   0.022  0.817 -0.722 -0.042  0.309]]\n",
        "[[ 0.018  0.     0.11   0.022  0.818 -0.722 -0.042  0.309]]\n",
        "[[ 0.018  0.     0.11   0.022  0.819 -0.722 -0.042  0.309]]\n",
        "[[ 0.018  0.     0.11   0.022  0.82  -0.722 -0.042  0.309]]\n",
        "[[ 0.018  0.     0.11   0.022  0.82  -0.723 -0.042  0.309]]\n",
        "[[ 0.018  0.     0.11   0.022  0.821 -0.723 -0.042  0.309]]"
       ]
      },
      {
       "output_type": "stream",
       "stream": "stdout",
       "text": [
        "\n",
        "[[ 0.018  0.     0.11   0.022  0.822 -0.723 -0.042  0.309]]\n",
        "[[ 0.018  0.     0.11   0.022  0.822 -0.724 -0.042  0.309]]\n",
        "[[ 0.018  0.     0.11   0.022  0.823 -0.724 -0.042  0.309]]\n",
        "[[ 0.018  0.     0.11   0.022  0.824 -0.724 -0.042  0.309]]\n",
        "[[ 0.018  0.     0.11   0.022  0.824 -0.725 -0.042  0.309]]\n",
        "[[ 0.018  0.     0.11   0.022  0.825 -0.725 -0.042  0.309]]"
       ]
      },
      {
       "output_type": "stream",
       "stream": "stdout",
       "text": [
        "\n",
        "[[ 0.018  0.     0.11   0.022  0.826 -0.725 -0.042  0.309]]\n",
        "[[ 0.019  0.     0.11   0.022  0.826 -0.725 -0.042  0.309]]\n",
        "[[ 0.019  0.     0.11   0.022  0.827 -0.725 -0.042  0.309]]\n",
        "[[ 0.019  0.     0.11   0.022  0.827 -0.725 -0.043  0.309]]\n",
        "[[ 0.019  0.     0.11   0.022  0.828 -0.725 -0.043  0.309]]\n",
        "[[ 0.019  0.     0.11   0.022  0.829 -0.725 -0.043  0.309]]"
       ]
      },
      {
       "output_type": "stream",
       "stream": "stdout",
       "text": [
        "\n",
        "[[ 0.019  0.     0.11   0.022  0.83  -0.725 -0.043  0.309]]\n",
        "[[ 0.019  0.     0.11   0.022  0.831 -0.725 -0.043  0.309]]\n",
        "[[ 0.019  0.     0.11   0.022  0.831 -0.725 -0.043  0.308]]\n",
        "[[ 0.019  0.     0.11   0.022  0.832 -0.725 -0.043  0.308]]\n",
        "[[ 0.019  0.     0.11   0.022  0.833 -0.725 -0.043  0.308]]\n",
        "[[ 0.019  0.     0.11   0.022  0.834 -0.725 -0.043  0.308]]"
       ]
      },
      {
       "output_type": "stream",
       "stream": "stdout",
       "text": [
        "\n",
        "[[ 0.019  0.     0.11   0.022  0.834 -0.726 -0.043  0.308]]\n",
        "[[ 0.019  0.     0.11   0.022  0.835 -0.726 -0.043  0.308]]\n",
        "[[ 0.019  0.     0.11   0.022  0.836 -0.726 -0.043  0.308]]\n",
        "[[ 0.019  0.     0.11   0.022  0.836 -0.727 -0.043  0.308]]\n",
        "[[ 0.019  0.     0.11   0.022  0.837 -0.727 -0.043  0.308]]\n",
        "[[ 0.019  0.     0.11   0.022  0.838 -0.727 -0.043  0.308]]"
       ]
      },
      {
       "output_type": "stream",
       "stream": "stdout",
       "text": [
        "\n",
        "[[ 0.019  0.     0.11   0.022  0.839 -0.727 -0.043  0.308]]\n",
        "[[ 0.019  0.     0.11   0.022  0.839 -0.727 -0.043  0.307]]\n",
        "[[ 0.019  0.     0.11   0.022  0.84  -0.727 -0.043  0.307]]\n",
        "[[ 0.019  0.     0.11   0.022  0.841 -0.727 -0.043  0.307]]\n",
        "[[ 0.019  0.     0.11   0.022  0.842 -0.727 -0.043  0.307]]\n",
        "[[ 0.019  0.     0.11   0.022  0.842 -0.728 -0.043  0.307]]"
       ]
      },
      {
       "output_type": "stream",
       "stream": "stdout",
       "text": [
        "\n",
        "[[ 0.019  0.     0.11   0.022  0.843 -0.728 -0.043  0.307]]\n",
        "[[ 0.019  0.     0.11   0.022  0.844 -0.728 -0.043  0.307]]\n",
        "[[ 0.019  0.     0.11   0.022  0.844 -0.729 -0.043  0.307]]\n",
        "[[ 0.019  0.     0.11   0.022  0.845 -0.729 -0.043  0.307]]\n",
        "[[ 0.019  0.     0.11   0.022  0.846 -0.729 -0.043  0.307]]\n",
        "[[ 0.019  0.     0.11   0.022  0.846 -0.73  -0.043  0.307]]"
       ]
      },
      {
       "output_type": "stream",
       "stream": "stdout",
       "text": [
        "\n",
        "[[ 0.019  0.     0.11   0.022  0.847 -0.73  -0.043  0.307]]\n",
        "[[ 0.019  0.     0.11   0.022  0.848 -0.73  -0.043  0.307]]\n",
        "[[ 0.019  0.     0.11   0.022  0.848 -0.73  -0.043  0.306]]\n",
        "[[ 0.019  0.     0.11   0.022  0.849 -0.73  -0.043  0.306]]\n",
        "[[ 0.019  0.     0.11   0.022  0.85  -0.73  -0.043  0.306]]\n",
        "[[ 0.019  0.     0.11   0.022  0.851 -0.73  -0.043  0.306]]"
       ]
      },
      {
       "output_type": "stream",
       "stream": "stdout",
       "text": [
        "\n",
        "[[ 0.019  0.     0.11   0.022  0.852 -0.73  -0.043  0.306]]\n",
        "[[ 0.019  0.     0.11   0.022  0.852 -0.73  -0.044  0.306]]\n",
        "[[ 0.019  0.     0.11   0.022  0.853 -0.73  -0.044  0.306]]\n",
        "[[ 0.019  0.     0.11   0.022  0.854 -0.73  -0.044  0.306]]\n",
        "[[ 0.019  0.     0.11   0.022  0.855 -0.73  -0.044  0.306]]\n",
        "[[ 0.019  0.     0.11   0.022  0.856 -0.73  -0.044  0.306]]"
       ]
      },
      {
       "output_type": "stream",
       "stream": "stdout",
       "text": [
        "\n",
        "[[ 0.019  0.     0.11   0.022  0.856 -0.731 -0.044  0.306]]\n",
        "[[ 0.019  0.     0.11   0.022  0.857 -0.731 -0.044  0.306]]\n",
        "[[ 0.019  0.     0.11   0.022  0.858 -0.731 -0.044  0.306]]\n",
        "[[ 0.019  0.     0.11   0.022  0.858 -0.731 -0.044  0.305]]\n",
        "[[ 0.019  0.     0.11   0.022  0.859 -0.731 -0.044  0.305]]"
       ]
      },
      {
       "output_type": "stream",
       "stream": "stdout",
       "text": [
        "\n",
        "[[ 0.019  0.     0.11   0.022  0.86  -0.731 -0.044  0.305]]\n",
        "[[ 0.019  0.     0.11   0.022  0.861 -0.731 -0.044  0.305]]\n",
        "[[ 0.019  0.     0.11   0.022  0.862 -0.731 -0.044  0.305]]\n",
        "[[ 0.019  0.     0.11   0.022  0.862 -0.731 -0.045  0.305]]\n",
        "[[ 0.019  0.     0.11   0.022  0.863 -0.731 -0.045  0.305]]\n",
        "[[ 0.019  0.     0.11   0.022  0.864 -0.731 -0.045  0.305]]"
       ]
      },
      {
       "output_type": "stream",
       "stream": "stdout",
       "text": [
        "\n",
        "[[ 0.019  0.     0.11   0.022  0.865 -0.731 -0.045  0.305]]\n",
        "[[ 0.019  0.     0.11   0.022  0.866 -0.731 -0.045  0.305]]\n",
        "[[ 0.019  0.     0.11   0.022  0.866 -0.732 -0.045  0.305]]\n",
        "[[ 0.019  0.     0.11   0.022  0.867 -0.732 -0.045  0.305]]\n",
        "[[ 0.019  0.     0.11   0.022  0.868 -0.732 -0.045  0.305]]\n",
        "[[ 0.019  0.     0.11   0.022  0.868 -0.733 -0.045  0.305]]"
       ]
      },
      {
       "output_type": "stream",
       "stream": "stdout",
       "text": [
        "\n",
        "[[ 0.019  0.     0.11   0.022  0.869 -0.733 -0.045  0.305]]\n",
        "[[ 0.019  0.     0.11   0.022  0.87  -0.733 -0.045  0.305]]\n",
        "[[ 0.019  0.     0.11   0.022  0.87  -0.733 -0.045  0.304]]\n",
        "[[ 0.019  0.     0.11   0.022  0.871 -0.733 -0.045  0.304]]\n",
        "[[ 0.019  0.     0.11   0.022  0.872 -0.733 -0.045  0.304]]\n",
        "[[ 0.019  0.     0.11   0.022  0.873 -0.733 -0.045  0.304]]"
       ]
      },
      {
       "output_type": "stream",
       "stream": "stdout",
       "text": [
        "\n",
        "[[ 0.019  0.     0.11   0.022  0.874 -0.733 -0.045  0.304]]\n",
        "[[ 0.019  0.     0.11   0.022  0.874 -0.734 -0.045  0.304]]\n",
        "[[ 0.019  0.     0.11   0.022  0.875 -0.734 -0.045  0.304]]\n",
        "[[ 0.019  0.     0.11   0.022  0.876 -0.734 -0.045  0.304]]\n",
        "[[ 0.019  0.     0.11   0.022  0.876 -0.735 -0.045  0.304]]\n",
        "[[ 0.019  0.     0.11   0.022  0.877 -0.735 -0.045  0.304]]"
       ]
      },
      {
       "output_type": "stream",
       "stream": "stdout",
       "text": [
        "\n",
        "[[ 0.019  0.     0.11   0.022  0.878 -0.735 -0.045  0.304]]\n",
        "[[ 0.019  0.     0.11   0.022  0.878 -0.735 -0.045  0.303]]\n",
        "[[ 0.019  0.     0.11   0.022  0.879 -0.735 -0.045  0.303]]\n",
        "[[ 0.019  0.     0.11   0.022  0.88  -0.735 -0.045  0.303]]\n",
        "[[ 0.019  0.     0.11   0.022  0.881 -0.735 -0.045  0.303]]"
       ]
      },
      {
       "output_type": "stream",
       "stream": "stdout",
       "text": [
        "\n",
        "[[ 0.019  0.     0.11   0.022  0.881 -0.736 -0.045  0.303]]\n",
        "[[ 0.019  0.     0.11   0.022  0.882 -0.736 -0.045  0.303]]\n",
        "[[ 0.019  0.     0.11   0.022  0.883 -0.736 -0.045  0.303]]\n",
        "[[ 0.02   0.     0.11   0.022  0.883 -0.736 -0.045  0.303]]\n",
        "[[ 0.02   0.     0.11   0.022  0.884 -0.736 -0.045  0.303]]\n",
        "[[ 0.02   0.     0.11   0.022  0.884 -0.736 -0.046  0.303]]"
       ]
      },
      {
       "output_type": "stream",
       "stream": "stdout",
       "text": [
        "\n",
        "[[ 0.02   0.     0.11   0.022  0.885 -0.736 -0.046  0.303]]\n",
        "[[ 0.02   0.     0.11   0.022  0.886 -0.736 -0.046  0.303]]\n",
        "[[ 0.02   0.     0.11   0.022  0.887 -0.736 -0.046  0.303]]\n",
        "[[ 0.02   0.     0.11   0.022  0.888 -0.736 -0.046  0.303]]\n",
        "[[ 0.02   0.     0.11   0.022  0.888 -0.737 -0.046  0.303]]\n",
        "[[ 0.02   0.     0.11   0.022  0.889 -0.737 -0.046  0.303]]"
       ]
      },
      {
       "output_type": "stream",
       "stream": "stdout",
       "text": [
        "\n",
        "[[ 0.02   0.     0.11   0.022  0.89  -0.737 -0.046  0.303]]\n",
        "[[ 0.02   0.     0.11   0.022  0.89  -0.737 -0.046  0.302]]\n",
        "[[ 0.02   0.     0.11   0.022  0.891 -0.737 -0.046  0.302]]\n",
        "[[ 0.02   0.     0.11   0.022  0.892 -0.737 -0.046  0.302]]\n",
        "[[ 0.02   0.     0.11   0.022  0.893 -0.737 -0.046  0.302]]\n",
        "[[ 0.02   0.     0.11   0.022  0.893 -0.738 -0.046  0.302]]"
       ]
      },
      {
       "output_type": "stream",
       "stream": "stdout",
       "text": [
        "\n",
        "[[ 0.02   0.     0.11   0.022  0.894 -0.738 -0.046  0.302]]\n",
        "[[ 0.02   0.     0.11   0.022  0.895 -0.738 -0.046  0.302]]\n",
        "[[ 0.02   0.     0.11   0.022  0.896 -0.738 -0.046  0.302]]\n",
        "[[ 0.02   0.     0.11   0.022  0.896 -0.738 -0.046  0.301]]\n",
        "[[ 0.02   0.     0.11   0.022  0.897 -0.738 -0.046  0.301]]\n",
        "[[ 0.02   0.     0.11   0.022  0.898 -0.738 -0.046  0.301]]"
       ]
      },
      {
       "output_type": "stream",
       "stream": "stdout",
       "text": [
        "\n",
        "[[ 0.02   0.     0.11   0.022  0.899 -0.738 -0.046  0.301]]\n",
        "[[ 0.02   0.     0.11   0.022  0.899 -0.739 -0.046  0.301]]\n",
        "[[ 0.02   0.     0.11   0.022  0.9   -0.739 -0.046  0.301]]\n",
        "[[ 0.02   0.     0.11   0.022  0.901 -0.739 -0.046  0.301]]\n",
        "[[ 0.02   0.     0.11   0.022  0.901 -0.74  -0.046  0.301]]\n",
        "[[ 0.02   0.     0.11   0.022  0.902 -0.74  -0.046  0.301]]"
       ]
      },
      {
       "output_type": "stream",
       "stream": "stdout",
       "text": [
        "\n",
        "[[ 0.02   0.     0.11   0.022  0.903 -0.74  -0.046  0.301]]\n",
        "[[ 0.02   0.     0.11   0.022  0.903 -0.741 -0.046  0.301]]\n",
        "[[ 0.02   0.     0.11   0.022  0.904 -0.741 -0.046  0.301]]\n",
        "[[ 0.02   0.     0.11   0.022  0.905 -0.741 -0.046  0.301]]\n",
        "[[ 0.02   0.     0.11   0.022  0.906 -0.741 -0.046  0.301]]\n",
        "[[ 0.02   0.     0.11   0.022  0.906 -0.741 -0.047  0.301]]"
       ]
      },
      {
       "output_type": "stream",
       "stream": "stdout",
       "text": [
        "\n",
        "[[ 0.02   0.     0.11   0.022  0.907 -0.741 -0.047  0.301]]\n",
        "[[ 0.02   0.     0.11   0.022  0.908 -0.741 -0.047  0.301]]\n",
        "[[ 0.02   0.     0.11   0.022  0.909 -0.741 -0.047  0.301]]\n",
        "[[ 0.02   0.     0.11   0.022  0.91  -0.741 -0.047  0.301]]\n",
        "[[ 0.02   0.     0.11   0.022  0.91  -0.741 -0.047  0.3  ]]\n",
        "[[ 0.02   0.     0.11   0.022  0.911 -0.741 -0.047  0.3  ]]"
       ]
      },
      {
       "output_type": "stream",
       "stream": "stdout",
       "text": [
        "\n",
        "[[ 0.02   0.     0.11   0.022  0.912 -0.741 -0.047  0.3  ]]\n",
        "[[ 0.02   0.     0.11   0.022  0.913 -0.741 -0.047  0.3  ]]\n",
        "[[ 0.02   0.     0.11   0.022  0.913 -0.742 -0.047  0.3  ]]\n",
        "[[ 0.02   0.     0.11   0.022  0.914 -0.742 -0.047  0.3  ]]\n",
        "[[ 0.02   0.     0.11   0.022  0.915 -0.742 -0.047  0.3  ]]\n",
        "[[ 0.02   0.     0.11   0.022  0.915 -0.743 -0.047  0.3  ]]"
       ]
      },
      {
       "output_type": "stream",
       "stream": "stdout",
       "text": [
        "\n",
        "[[ 0.02   0.     0.11   0.022  0.916 -0.743 -0.047  0.3  ]]\n",
        "[[ 0.02   0.     0.11   0.022  0.917 -0.743 -0.047  0.3  ]]\n",
        "[[ 0.02   0.     0.11   0.022  0.918 -0.743 -0.047  0.3  ]]\n",
        "[[ 0.02   0.     0.11   0.022  0.918 -0.743 -0.047  0.299]]\n",
        "[[ 0.02   0.     0.11   0.022  0.919 -0.743 -0.047  0.299]]\n",
        "[[ 0.02   0.     0.11   0.022  0.92  -0.743 -0.047  0.299]]"
       ]
      },
      {
       "output_type": "stream",
       "stream": "stdout",
       "text": [
        "\n",
        "[[ 0.02   0.     0.11   0.022  0.921 -0.743 -0.047  0.299]]\n",
        "[[ 0.02   0.     0.11   0.022  0.921 -0.744 -0.047  0.299]]\n",
        "[[ 0.02   0.     0.11   0.022  0.922 -0.744 -0.047  0.299]]\n",
        "[[ 0.02   0.     0.11   0.022  0.923 -0.744 -0.047  0.299]]\n",
        "[[ 0.02   0.     0.11   0.022  0.923 -0.745 -0.047  0.299]]\n",
        "[[ 0.02   0.     0.11   0.022  0.924 -0.745 -0.047  0.299]]"
       ]
      },
      {
       "output_type": "stream",
       "stream": "stdout",
       "text": [
        "\n",
        "[[ 0.02   0.     0.11   0.022  0.925 -0.745 -0.047  0.299]]\n",
        "[[ 0.02   0.     0.11   0.022  0.925 -0.745 -0.047  0.298]]\n",
        "[[ 0.02   0.     0.11   0.022  0.926 -0.745 -0.047  0.298]]\n",
        "[[ 0.02   0.     0.11   0.022  0.927 -0.745 -0.047  0.298]]\n",
        "[[ 0.02   0.     0.11   0.022  0.928 -0.745 -0.047  0.298]]\n",
        "[[ 0.02   0.     0.11   0.022  0.929 -0.745 -0.047  0.298]]"
       ]
      },
      {
       "output_type": "stream",
       "stream": "stdout",
       "text": [
        "\n",
        "[[ 0.02   0.     0.11   0.022  0.929 -0.745 -0.048  0.298]]\n",
        "[[ 0.02   0.     0.11   0.022  0.93  -0.745 -0.048  0.298]]\n",
        "[[ 0.02   0.     0.11   0.022  0.931 -0.745 -0.048  0.298]]\n",
        "[[ 0.02   0.     0.11   0.022  0.932 -0.745 -0.048  0.298]]\n",
        "[[ 0.02   0.     0.11   0.022  0.933 -0.745 -0.048  0.298]]\n",
        "[[ 0.02   0.     0.11   0.022  0.933 -0.746 -0.048  0.298]]"
       ]
      },
      {
       "output_type": "stream",
       "stream": "stdout",
       "text": [
        "\n",
        "[[ 0.02   0.     0.11   0.022  0.934 -0.746 -0.048  0.298]]\n",
        "[[ 0.02   0.     0.11   0.022  0.935 -0.746 -0.048  0.298]]\n",
        "[[ 0.02   0.     0.11   0.022  0.935 -0.747 -0.048  0.298]]\n",
        "[[ 0.02   0.     0.11   0.022  0.936 -0.747 -0.048  0.298]]\n",
        "[[ 0.02   0.     0.11   0.022  0.937 -0.747 -0.048  0.298]]\n",
        "[[ 0.02   0.     0.11   0.022  0.937 -0.747 -0.048  0.297]]"
       ]
      },
      {
       "output_type": "stream",
       "stream": "stdout",
       "text": [
        "\n",
        "[[ 0.02   0.     0.11   0.022  0.938 -0.747 -0.048  0.297]]\n",
        "[[ 0.02   0.     0.11   0.022  0.939 -0.747 -0.048  0.297]]\n",
        "[[ 0.02   0.     0.11   0.022  0.94  -0.747 -0.048  0.297]]\n",
        "[[ 0.02   0.     0.11   0.022  0.941 -0.747 -0.048  0.297]]\n",
        "[[ 0.02   0.     0.11   0.022  0.941 -0.747 -0.049  0.297]]\n",
        "[[ 0.02   0.     0.11   0.022  0.942 -0.747 -0.049  0.297]]"
       ]
      },
      {
       "output_type": "stream",
       "stream": "stdout",
       "text": [
        "\n",
        "[[ 0.02   0.     0.11   0.022  0.943 -0.747 -0.049  0.297]]\n",
        "[[ 0.02   0.     0.11   0.022  0.944 -0.747 -0.049  0.297]]\n",
        "[[ 0.02   0.     0.11   0.022  0.945 -0.747 -0.049  0.297]]\n",
        "[[ 0.02   0.     0.11   0.022  0.945 -0.748 -0.049  0.297]]\n",
        "[[ 0.02   0.     0.11   0.022  0.946 -0.748 -0.049  0.297]]\n",
        "[[ 0.02   0.     0.11   0.022  0.947 -0.748 -0.049  0.297]]"
       ]
      },
      {
       "output_type": "stream",
       "stream": "stdout",
       "text": [
        "\n",
        "[[ 0.02   0.     0.11   0.022  0.947 -0.749 -0.049  0.297]]\n",
        "[[ 0.02   0.     0.11   0.022  0.948 -0.749 -0.049  0.297]]\n",
        "[[ 0.02   0.     0.11   0.022  0.949 -0.749 -0.049  0.297]]\n",
        "[[ 0.02   0.     0.11   0.022  0.949 -0.749 -0.049  0.296]]\n",
        "[[ 0.02   0.     0.11   0.022  0.95  -0.749 -0.049  0.296]]\n",
        "[[ 0.02   0.     0.11   0.022  0.951 -0.749 -0.049  0.296]]"
       ]
      },
      {
       "output_type": "stream",
       "stream": "stdout",
       "text": [
        "\n",
        "[[ 0.02   0.     0.11   0.022  0.952 -0.749 -0.049  0.296]]\n",
        "[[ 0.021  0.     0.11   0.022  0.952 -0.749 -0.049  0.296]]\n",
        "[[ 0.021  0.     0.11   0.022  0.953 -0.749 -0.049  0.296]]\n",
        "[[ 0.021  0.     0.11   0.022  0.953 -0.75  -0.049  0.296]]\n",
        "[[ 0.021  0.     0.11   0.022  0.954 -0.75  -0.049  0.296]]\n",
        "[[ 0.021  0.     0.11   0.022  0.955 -0.75  -0.049  0.296]]"
       ]
      },
      {
       "output_type": "stream",
       "stream": "stdout",
       "text": [
        "\n",
        "[[ 0.021  0.     0.11   0.022  0.955 -0.751 -0.049  0.296]]\n",
        "[[ 0.021  0.     0.11   0.022  0.956 -0.751 -0.049  0.296]]\n",
        "[[ 0.021  0.     0.11   0.022  0.957 -0.751 -0.049  0.296]]\n",
        "[[ 0.021  0.     0.11   0.022  0.957 -0.751 -0.049  0.295]]\n",
        "[[ 0.021  0.     0.11   0.022  0.958 -0.751 -0.049  0.295]]"
       ]
      },
      {
       "output_type": "stream",
       "stream": "stdout",
       "text": [
        "\n",
        "[[ 0.021  0.     0.11   0.022  0.959 -0.751 -0.049  0.295]]\n",
        "[[ 0.021  0.     0.11   0.022  0.96  -0.751 -0.049  0.295]]\n",
        "[[ 0.021  0.     0.11   0.022  0.96  -0.752 -0.049  0.295]]\n",
        "[[ 0.021  0.     0.11   0.022  0.961 -0.752 -0.049  0.295]]\n",
        "[[ 0.021  0.     0.11   0.022  0.962 -0.752 -0.049  0.295]]\n",
        "[[ 0.021  0.     0.11   0.022  0.963 -0.752 -0.049  0.295]]"
       ]
      },
      {
       "output_type": "stream",
       "stream": "stdout",
       "text": [
        "\n",
        "[[ 0.021  0.     0.11   0.022  0.963 -0.752 -0.05   0.295]]\n",
        "[[ 0.021  0.     0.11   0.022  0.964 -0.752 -0.05   0.295]]\n",
        "[[ 0.021  0.     0.11   0.022  0.965 -0.752 -0.05   0.295]]\n",
        "[[ 0.021  0.     0.11   0.022  0.966 -0.752 -0.05   0.295]]\n",
        "[[ 0.021  0.     0.11   0.022  0.967 -0.752 -0.05   0.295]]\n",
        "[[ 0.021  0.     0.11   0.022  0.967 -0.752 -0.05   0.294]]"
       ]
      },
      {
       "output_type": "stream",
       "stream": "stdout",
       "text": [
        "\n",
        "[[ 0.021  0.     0.11   0.022  0.968 -0.752 -0.05   0.294]]\n",
        "[[ 0.021  0.     0.11   0.022  0.969 -0.752 -0.05   0.294]]\n",
        "[[ 0.021  0.     0.11   0.022  0.97  -0.752 -0.05   0.294]]\n",
        "[[ 0.021  0.     0.11   0.022  0.97  -0.753 -0.05   0.294]]\n",
        "[[ 0.021  0.     0.11   0.022  0.971 -0.753 -0.05   0.294]]"
       ]
      },
      {
       "output_type": "stream",
       "stream": "stdout",
       "text": [
        "\n",
        "[[ 0.021  0.     0.11   0.022  0.972 -0.753 -0.05   0.294]]\n",
        "[[ 0.021  0.     0.11   0.022  0.972 -0.754 -0.05   0.294]]\n",
        "[[ 0.021  0.     0.11   0.022  0.973 -0.754 -0.05   0.294]]\n",
        "[[ 0.021  0.     0.11   0.022  0.974 -0.754 -0.05   0.294]]\n",
        "[[ 0.021  0.     0.11   0.022  0.975 -0.754 -0.05   0.294]]\n",
        "[[ 0.021  0.     0.11   0.022  0.975 -0.754 -0.051  0.294]]"
       ]
      },
      {
       "output_type": "stream",
       "stream": "stdout",
       "text": [
        "\n",
        "[[ 0.021  0.     0.11   0.022  0.976 -0.754 -0.051  0.294]]\n",
        "[[ 0.021  0.     0.11   0.022  0.977 -0.754 -0.051  0.294]]\n",
        "[[ 0.021  0.     0.11   0.022  0.978 -0.754 -0.051  0.294]]\n",
        "[[ 0.021  0.     0.11   0.022  0.979 -0.754 -0.051  0.294]]\n",
        "[[ 0.021  0.     0.11   0.022  0.979 -0.754 -0.051  0.293]]\n",
        "[[ 0.021  0.     0.11   0.022  0.98  -0.754 -0.051  0.293]]"
       ]
      },
      {
       "output_type": "stream",
       "stream": "stdout",
       "text": [
        "\n",
        "[[ 0.021  0.     0.11   0.022  0.981 -0.754 -0.051  0.293]]\n",
        "[[ 0.021  0.     0.11   0.022  0.982 -0.754 -0.051  0.293]]\n",
        "[[ 0.021  0.     0.11   0.022  0.982 -0.755 -0.051  0.293]]\n",
        "[[ 0.021  0.     0.11   0.022  0.983 -0.755 -0.051  0.293]]\n",
        "[[ 0.021  0.     0.11   0.022  0.984 -0.755 -0.051  0.293]]\n",
        "[[ 0.021  0.     0.11   0.022  0.984 -0.756 -0.051  0.293]]"
       ]
      },
      {
       "output_type": "stream",
       "stream": "stdout",
       "text": [
        "\n",
        "[[ 0.021  0.     0.11   0.022  0.985 -0.756 -0.051  0.293]]\n",
        "[[ 0.021  0.     0.11   0.022  0.986 -0.756 -0.051  0.293]]\n",
        "[[ 0.021  0.     0.11   0.022  0.987 -0.756 -0.051  0.293]]\n",
        "[[ 0.021  0.     0.11   0.022  0.987 -0.756 -0.051  0.292]]\n",
        "[[ 0.021  0.     0.11   0.022  0.988 -0.756 -0.051  0.292]]\n",
        "[[ 0.021  0.     0.11   0.022  0.989 -0.756 -0.051  0.292]]"
       ]
      },
      {
       "output_type": "stream",
       "stream": "stdout",
       "text": [
        "\n",
        "[[ 0.021  0.     0.11   0.022  0.99  -0.756 -0.051  0.292]]\n",
        "[[ 0.021  0.     0.11   0.022  0.99  -0.757 -0.051  0.292]]\n",
        "[[ 0.021  0.     0.11   0.022  0.991 -0.757 -0.051  0.292]]\n",
        "[[ 0.021  0.     0.11   0.022  0.992 -0.757 -0.051  0.292]]\n",
        "[[ 0.021  0.     0.11   0.022  0.992 -0.758 -0.051  0.292]]\n",
        "[[ 0.021  0.     0.11   0.022  0.993 -0.758 -0.051  0.292]]"
       ]
      },
      {
       "output_type": "stream",
       "stream": "stdout",
       "text": [
        "\n",
        "[[ 0.021  0.     0.11   0.022  0.994 -0.758 -0.051  0.292]]\n",
        "[[ 0.022  0.     0.11   0.022  0.994 -0.758 -0.051  0.292]]\n",
        "[[ 0.022  0.     0.11   0.022  0.994 -0.759 -0.051  0.292]]\n",
        "[[ 0.022  0.     0.11   0.022  0.995 -0.759 -0.051  0.292]]\n",
        "[[ 0.022  0.     0.11   0.022  0.996 -0.759 -0.051  0.292]]"
       ]
      },
      {
       "output_type": "stream",
       "stream": "stdout",
       "text": [
        "\n",
        "[[ 0.022  0.     0.11   0.022  0.997 -0.759 -0.051  0.292]]\n",
        "[[ 0.022  0.     0.11   0.022  0.997 -0.759 -0.051  0.291]]\n",
        "[[ 0.022  0.     0.11   0.022  0.998 -0.759 -0.051  0.291]]\n",
        "[[ 0.022  0.     0.11   0.022  0.999 -0.759 -0.051  0.291]]\n",
        "[[ 0.022  0.     0.11   0.022  1.    -0.759 -0.051  0.291]]\n",
        "[[ 0.022  0.     0.11   0.022  1.    -0.759 -0.052  0.291]]"
       ]
      },
      {
       "output_type": "stream",
       "stream": "stdout",
       "text": [
        "\n",
        "[[ 0.022  0.     0.11   0.022  1.001 -0.759 -0.052  0.291]]\n",
        "[[ 0.022  0.     0.11   0.022  1.002 -0.759 -0.052  0.291]]\n",
        "[[ 0.022  0.     0.11   0.022  1.003 -0.759 -0.052  0.291]]\n",
        "[[ 0.022  0.     0.11   0.022  1.004 -0.759 -0.052  0.291]]\n",
        "[[ 0.022  0.     0.11   0.022  1.004 -0.76  -0.052  0.291]]"
       ]
      },
      {
       "output_type": "stream",
       "stream": "stdout",
       "text": [
        "\n",
        "[[ 0.022  0.     0.11   0.022  1.005 -0.76  -0.052  0.291]]\n",
        "[[ 0.022  0.     0.11   0.022  1.006 -0.76  -0.052  0.291]]\n",
        "[[ 0.022  0.     0.11   0.022  1.006 -0.761 -0.052  0.291]]\n",
        "[[ 0.022  0.     0.11   0.022  1.007 -0.761 -0.052  0.291]]\n",
        "[[ 0.022  0.     0.11   0.022  1.008 -0.761 -0.052  0.291]]\n",
        "[[ 0.022  0.     0.11   0.022  1.009 -0.761 -0.052  0.291]]"
       ]
      },
      {
       "output_type": "stream",
       "stream": "stdout",
       "text": [
        "\n",
        "[[ 0.022  0.     0.11   0.022  1.009 -0.761 -0.052  0.29 ]]\n",
        "[[ 0.022  0.     0.11   0.022  1.01  -0.761 -0.052  0.29 ]]\n",
        "[[ 0.022  0.     0.11   0.022  1.011 -0.761 -0.052  0.29 ]]\n",
        "[[ 0.022  0.     0.11   0.022  1.012 -0.761 -0.052  0.29 ]]\n",
        "[[ 0.022  0.     0.11   0.022  1.012 -0.762 -0.052  0.29 ]]\n",
        "[[ 0.022  0.     0.11   0.022  1.013 -0.762 -0.052  0.29 ]]"
       ]
      },
      {
       "output_type": "stream",
       "stream": "stdout",
       "text": [
        "\n",
        "[[ 0.022  0.     0.11   0.022  1.014 -0.762 -0.052  0.29 ]]\n",
        "[[ 0.022  0.     0.11   0.022  1.014 -0.763 -0.052  0.29 ]]\n",
        "[[ 0.022  0.     0.11   0.022  1.015 -0.763 -0.052  0.29 ]]\n",
        "[[ 0.022  0.     0.11   0.022  1.016 -0.763 -0.052  0.29 ]]\n",
        "[[ 0.022  0.     0.11   0.022  1.016 -0.763 -0.052  0.289]]\n",
        "[[ 0.022  0.     0.11   0.022  1.017 -0.763 -0.052  0.289]]"
       ]
      },
      {
       "output_type": "stream",
       "stream": "stdout",
       "text": [
        "\n",
        "[[ 0.022  0.     0.11   0.022  1.018 -0.763 -0.052  0.289]]\n",
        "[[ 0.022  0.     0.11   0.022  1.019 -0.763 -0.052  0.289]]\n",
        "[[ 0.022  0.     0.11   0.022  1.02  -0.763 -0.052  0.289]]\n",
        "[[ 0.022  0.     0.11   0.022  1.02  -0.763 -0.053  0.289]]\n",
        "[[ 0.022  0.     0.11   0.022  1.021 -0.763 -0.053  0.289]]"
       ]
      },
      {
       "output_type": "stream",
       "stream": "stdout",
       "text": [
        "\n",
        "[[ 0.022  0.     0.11   0.022  1.022 -0.763 -0.053  0.289]]\n",
        "[[ 0.022  0.     0.11   0.022  1.023 -0.763 -0.053  0.289]]\n",
        "[[ 0.022  0.     0.11   0.022  1.024 -0.763 -0.053  0.289]]\n",
        "[[ 0.022  0.     0.11   0.022  1.024 -0.764 -0.053  0.289]]\n",
        "[[ 0.022  0.     0.11   0.022  1.025 -0.764 -0.053  0.289]]\n",
        "[[ 0.022  0.     0.11   0.022  1.026 -0.764 -0.053  0.289]]"
       ]
      },
      {
       "output_type": "stream",
       "stream": "stdout",
       "text": [
        "\n",
        "[[ 0.022  0.     0.11   0.022  1.026 -0.765 -0.053  0.289]]\n",
        "[[ 0.022  0.     0.11   0.022  1.027 -0.765 -0.053  0.289]]\n",
        "[[ 0.022  0.     0.11   0.022  1.028 -0.765 -0.053  0.289]]\n",
        "[[ 0.022  0.     0.11   0.022  1.028 -0.765 -0.053  0.288]]\n",
        "[[ 0.022  0.     0.11   0.022  1.029 -0.765 -0.053  0.288]]"
       ]
      },
      {
       "output_type": "stream",
       "stream": "stdout",
       "text": [
        "\n",
        "[[ 0.022  0.     0.11   0.022  1.03  -0.765 -0.053  0.288]]\n",
        "[[ 0.022  0.     0.11   0.022  1.031 -0.765 -0.053  0.288]]\n",
        "[[ 0.022  0.     0.11   0.022  1.032 -0.765 -0.053  0.288]]\n",
        "[[ 0.022  0.     0.11   0.022  1.032 -0.766 -0.053  0.288]]\n",
        "[[ 0.022  0.     0.11   0.022  1.033 -0.766 -0.053  0.288]]\n",
        "[[ 0.022  0.     0.11   0.022  1.034 -0.766 -0.053  0.288]]"
       ]
      },
      {
       "output_type": "stream",
       "stream": "stdout",
       "text": [
        "\n",
        "[[ 0.022  0.     0.11   0.022  1.034 -0.766 -0.053  0.287]]\n",
        "[[ 0.022  0.     0.11   0.022  1.035 -0.766 -0.053  0.287]]\n",
        "[[ 0.022  0.     0.11   0.022  1.036 -0.766 -0.053  0.287]]\n",
        "[[ 0.022  0.     0.11   0.022  1.037 -0.766 -0.053  0.287]]\n",
        "[[ 0.022  0.     0.11   0.022  1.037 -0.767 -0.053  0.287]]\n",
        "[[ 0.022  0.     0.11   0.022  1.038 -0.767 -0.053  0.287]]"
       ]
      },
      {
       "output_type": "stream",
       "stream": "stdout",
       "text": [
        "\n",
        "[[ 0.022  0.     0.11   0.022  1.039 -0.767 -0.053  0.287]]\n",
        "[[ 0.023  0.     0.11   0.022  1.039 -0.767 -0.053  0.287]]\n",
        "[[ 0.023  0.     0.11   0.022  1.039 -0.768 -0.053  0.287]]\n",
        "[[ 0.023  0.     0.11   0.022  1.04  -0.768 -0.053  0.287]]\n",
        "[[ 0.023  0.     0.11   0.022  1.041 -0.768 -0.053  0.287]]\n",
        "[[ 0.023  0.     0.11   0.022  1.042 -0.768 -0.053  0.287]]"
       ]
      },
      {
       "output_type": "stream",
       "stream": "stdout",
       "text": [
        "\n",
        "[[ 0.023  0.     0.11   0.022  1.042 -0.768 -0.054  0.287]]\n",
        "[[ 0.023  0.     0.11   0.022  1.043 -0.768 -0.054  0.287]]\n",
        "[[ 0.023  0.     0.11   0.022  1.044 -0.768 -0.054  0.287]]\n",
        "[[ 0.023  0.     0.11   0.022  1.045 -0.768 -0.054  0.287]]\n",
        "[[ 0.023  0.     0.11   0.022  1.046 -0.768 -0.054  0.287]]\n",
        "[[ 0.023  0.     0.11   0.022  1.046 -0.768 -0.054  0.286]]"
       ]
      },
      {
       "output_type": "stream",
       "stream": "stdout",
       "text": [
        "\n",
        "[[ 0.023  0.     0.11   0.022  1.047 -0.768 -0.054  0.286]]\n",
        "[[ 0.023  0.     0.11   0.022  1.048 -0.768 -0.054  0.286]]\n",
        "[[ 0.023  0.     0.11   0.022  1.049 -0.768 -0.054  0.286]]\n",
        "[[ 0.023  0.     0.11   0.022  1.049 -0.769 -0.054  0.286]]\n",
        "[[ 0.023  0.     0.11   0.022  1.05  -0.769 -0.054  0.286]]"
       ]
      },
      {
       "output_type": "stream",
       "stream": "stdout",
       "text": [
        "\n",
        "[[ 0.023  0.     0.11   0.022  1.051 -0.769 -0.054  0.286]]\n",
        "[[ 0.023  0.     0.11   0.022  1.052 -0.769 -0.054  0.286]]\n",
        "[[ 0.023  0.     0.11   0.022  1.052 -0.769 -0.055  0.286]]\n",
        "[[ 0.023  0.     0.11   0.022  1.053 -0.769 -0.055  0.286]]\n",
        "[[ 0.023  0.     0.11   0.022  1.054 -0.769 -0.055  0.286]]\n",
        "[[ 0.023  0.     0.11   0.022  1.055 -0.769 -0.055  0.286]]"
       ]
      },
      {
       "output_type": "stream",
       "stream": "stdout",
       "text": [
        "\n",
        "[[ 0.023  0.     0.11   0.022  1.056 -0.769 -0.055  0.286]]\n",
        "[[ 0.023  0.     0.11   0.022  1.056 -0.77  -0.055  0.286]]\n",
        "[[ 0.023  0.     0.11   0.022  1.057 -0.77  -0.055  0.286]]\n",
        "[[ 0.023  0.     0.11   0.022  1.058 -0.77  -0.055  0.286]]"
       ]
      },
      {
       "output_type": "stream",
       "stream": "stdout",
       "text": [
        "\n",
        "[[ 0.023  0.     0.11   0.022  1.058 -0.77  -0.055  0.285]]\n",
        "[[ 0.023  0.     0.11   0.022  1.059 -0.77  -0.055  0.285]]\n",
        "[[ 0.023  0.     0.11   0.022  1.06  -0.77  -0.055  0.285]]\n",
        "[[ 0.023  0.     0.11   0.022  1.061 -0.77  -0.055  0.285]]\n",
        "[[ 0.023  0.     0.11   0.022  1.061 -0.771 -0.055  0.285]]\n",
        "[[ 0.023  0.     0.11   0.022  1.062 -0.771 -0.055  0.285]]"
       ]
      },
      {
       "output_type": "stream",
       "stream": "stdout",
       "text": [
        "\n",
        "[[ 0.023  0.     0.11   0.022  1.063 -0.771 -0.055  0.285]]\n",
        "[[ 0.023  0.     0.11   0.022  1.064 -0.771 -0.055  0.285]]\n",
        "[[ 0.023  0.     0.11   0.022  1.064 -0.772 -0.055  0.285]]\n",
        "[[ 0.023  0.     0.11   0.022  1.065 -0.772 -0.055  0.285]]\n",
        "[[ 0.023  0.     0.11   0.022  1.066 -0.772 -0.055  0.285]]"
       ]
      },
      {
       "output_type": "stream",
       "stream": "stdout",
       "text": [
        "\n",
        "[[ 0.023  0.     0.11   0.022  1.066 -0.772 -0.055  0.284]]\n",
        "[[ 0.023  0.     0.11   0.022  1.067 -0.772 -0.055  0.284]]\n",
        "[[ 0.023  0.     0.11   0.022  1.068 -0.772 -0.055  0.284]]\n",
        "[[ 0.023  0.     0.11   0.022  1.069 -0.772 -0.055  0.284]]\n",
        "[[ 0.023  0.     0.11   0.022  1.069 -0.773 -0.055  0.284]]\n",
        "[[ 0.023  0.     0.11   0.022  1.07  -0.773 -0.055  0.284]]"
       ]
      },
      {
       "output_type": "stream",
       "stream": "stdout",
       "text": [
        "\n",
        "[[ 0.023  0.     0.11   0.022  1.071 -0.773 -0.055  0.284]]\n",
        "[[ 0.023  0.     0.11   0.022  1.071 -0.774 -0.055  0.284]]\n",
        "[[ 0.023  0.     0.11   0.022  1.072 -0.774 -0.055  0.284]]\n",
        "[[ 0.023  0.     0.11   0.022  1.073 -0.774 -0.055  0.284]]\n",
        "[[ 0.024  0.     0.11   0.022  1.073 -0.774 -0.055  0.284]]\n",
        "[[ 0.024  0.     0.11   0.022  1.074 -0.774 -0.055  0.284]]"
       ]
      },
      {
       "output_type": "stream",
       "stream": "stdout",
       "text": [
        "\n",
        "[[ 0.024  0.     0.11   0.022  1.074 -0.774 -0.056  0.284]]\n",
        "[[ 0.024  0.     0.11   0.022  1.075 -0.774 -0.056  0.284]]\n",
        "[[ 0.024  0.     0.11   0.022  1.076 -0.774 -0.056  0.284]]\n",
        "[[ 0.024  0.     0.11   0.022  1.077 -0.774 -0.056  0.284]]\n",
        "[[ 0.024  0.     0.11   0.022  1.078 -0.774 -0.056  0.284]]\n",
        "[[ 0.024  0.     0.11   0.022  1.078 -0.774 -0.056  0.283]]"
       ]
      },
      {
       "output_type": "stream",
       "stream": "stdout",
       "text": [
        "\n",
        "[[ 0.024  0.     0.11   0.022  1.079 -0.774 -0.056  0.283]]\n",
        "[[ 0.024  0.     0.11   0.022  1.08  -0.774 -0.056  0.283]]\n",
        "[[ 0.024  0.     0.11   0.022  1.081 -0.774 -0.056  0.283]]\n",
        "[[ 0.024  0.     0.11   0.022  1.081 -0.775 -0.056  0.283]]\n",
        "[[ 0.024  0.     0.11   0.022  1.082 -0.775 -0.056  0.283]]\n",
        "[[ 0.024  0.     0.11   0.022  1.083 -0.775 -0.056  0.283]]"
       ]
      },
      {
       "output_type": "stream",
       "stream": "stdout",
       "text": [
        "\n",
        "[[ 0.024  0.     0.11   0.022  1.083 -0.776 -0.056  0.283]]\n",
        "[[ 0.024  0.     0.11   0.022  1.084 -0.776 -0.056  0.283]]\n",
        "[[ 0.024  0.     0.11   0.022  1.085 -0.776 -0.056  0.283]]\n",
        "[[ 0.024  0.     0.11   0.022  1.086 -0.776 -0.056  0.283]]\n",
        "[[ 0.024  0.     0.11   0.022  1.086 -0.776 -0.056  0.282]]\n",
        "[[ 0.024  0.     0.11   0.022  1.087 -0.776 -0.056  0.282]]"
       ]
      },
      {
       "output_type": "stream",
       "stream": "stdout",
       "text": [
        "\n",
        "[[ 0.024  0.     0.11   0.022  1.088 -0.776 -0.056  0.282]]\n",
        "[[ 0.024  0.     0.11   0.022  1.089 -0.776 -0.056  0.282]]\n",
        "[[ 0.024  0.     0.11   0.022  1.089 -0.777 -0.056  0.282]]\n",
        "[[ 0.024  0.     0.11   0.022  1.09  -0.777 -0.056  0.282]]\n",
        "[[ 0.024  0.     0.11   0.022  1.091 -0.777 -0.056  0.282]]\n",
        "[[ 0.024  0.     0.11   0.022  1.091 -0.778 -0.056  0.282]]"
       ]
      },
      {
       "output_type": "stream",
       "stream": "stdout",
       "text": [
        "\n",
        "[[ 0.024  0.     0.11   0.022  1.092 -0.778 -0.056  0.282]]\n",
        "[[ 0.024  0.     0.11   0.022  1.093 -0.778 -0.056  0.282]]\n",
        "[[ 0.024  0.     0.11   0.022  1.093 -0.779 -0.056  0.282]]\n",
        "[[ 0.024  0.     0.11   0.022  1.094 -0.779 -0.056  0.282]]\n",
        "[[ 0.024  0.     0.11   0.022  1.095 -0.779 -0.056  0.282]]\n",
        "[[ 0.024  0.     0.11   0.022  1.095 -0.779 -0.056  0.281]]"
       ]
      },
      {
       "output_type": "stream",
       "stream": "stdout",
       "text": [
        "\n",
        "[[ 0.024  0.     0.11   0.022  1.096 -0.779 -0.056  0.281]]\n",
        "[[ 0.024  0.     0.11   0.022  1.097 -0.779 -0.056  0.281]]\n",
        "[[ 0.024  0.     0.11   0.022  1.098 -0.779 -0.056  0.281]]\n",
        "[[ 0.024  0.     0.11   0.022  1.099 -0.779 -0.056  0.281]]\n",
        "[[ 0.024  0.     0.11   0.022  1.099 -0.779 -0.057  0.281]]"
       ]
      },
      {
       "output_type": "stream",
       "stream": "stdout",
       "text": [
        "\n",
        "[[ 0.024  0.     0.11   0.022  1.1   -0.779 -0.057  0.281]]\n",
        "[[ 0.024  0.     0.11   0.022  1.101 -0.779 -0.057  0.281]]\n",
        "[[ 0.024  0.     0.11   0.022  1.102 -0.779 -0.057  0.281]]\n",
        "[[ 0.024  0.     0.11   0.022  1.103 -0.779 -0.057  0.281]]\n",
        "[[ 0.024  0.     0.11   0.022  1.103 -0.78  -0.057  0.281]]"
       ]
      },
      {
       "output_type": "stream",
       "stream": "stdout",
       "text": [
        "\n",
        "[[ 0.024  0.     0.11   0.022  1.104 -0.78  -0.057  0.281]]\n",
        "[[ 0.024  0.     0.11   0.022  1.105 -0.78  -0.057  0.281]]\n",
        "[[ 0.024  0.     0.11   0.022  1.105 -0.781 -0.057  0.281]]\n",
        "[[ 0.024  0.     0.11   0.022  1.106 -0.781 -0.057  0.281]]\n",
        "[[ 0.024  0.     0.11   0.022  1.107 -0.781 -0.057  0.281]]\n",
        "[[ 0.025  0.     0.11   0.022  1.107 -0.781 -0.057  0.281]]"
       ]
      },
      {
       "output_type": "stream",
       "stream": "stdout",
       "text": [
        "\n",
        "[[ 0.025  0.     0.11   0.022  1.108 -0.781 -0.057  0.281]]\n",
        "[[ 0.025  0.     0.11   0.022  1.108 -0.781 -0.057  0.28 ]]\n",
        "[[ 0.025  0.     0.11   0.022  1.109 -0.781 -0.057  0.28 ]]\n",
        "[[ 0.025  0.     0.11   0.022  1.11  -0.781 -0.057  0.28 ]]\n",
        "[[ 0.025  0.     0.11   0.022  1.111 -0.781 -0.057  0.28 ]]\n",
        "[[ 0.025  0.     0.11   0.022  1.111 -0.781 -0.058  0.28 ]]"
       ]
      },
      {
       "output_type": "stream",
       "stream": "stdout",
       "text": [
        "\n",
        "[[ 0.025  0.     0.11   0.022  1.112 -0.781 -0.058  0.28 ]]\n",
        "[[ 0.025  0.     0.11   0.022  1.113 -0.781 -0.058  0.28 ]]\n",
        "[[ 0.025  0.     0.11   0.022  1.114 -0.781 -0.058  0.28 ]]\n",
        "[[ 0.025  0.     0.11   0.022  1.115 -0.781 -0.058  0.28 ]]\n",
        "[[ 0.025  0.     0.11   0.022  1.115 -0.782 -0.058  0.28 ]]\n",
        "[[ 0.025  0.     0.11   0.022  1.116 -0.782 -0.058  0.28 ]]"
       ]
      },
      {
       "output_type": "stream",
       "stream": "stdout",
       "text": [
        "\n",
        "[[ 0.025  0.     0.11   0.022  1.117 -0.782 -0.058  0.28 ]]\n",
        "[[ 0.025  0.     0.11   0.022  1.117 -0.783 -0.058  0.28 ]]\n",
        "[[ 0.025  0.     0.11   0.022  1.118 -0.783 -0.058  0.28 ]]\n",
        "[[ 0.025  0.     0.11   0.022  1.119 -0.783 -0.058  0.28 ]]\n",
        "[[ 0.025  0.     0.11   0.022  1.12  -0.783 -0.058  0.28 ]]\n",
        "[[ 0.025  0.     0.11   0.022  1.12  -0.783 -0.058  0.279]]"
       ]
      },
      {
       "output_type": "stream",
       "stream": "stdout",
       "text": [
        "\n",
        "[[ 0.025  0.     0.11   0.022  1.121 -0.783 -0.058  0.279]]\n",
        "[[ 0.025  0.     0.11   0.022  1.122 -0.783 -0.058  0.279]]\n",
        "[[ 0.025  0.     0.11   0.022  1.123 -0.783 -0.058  0.279]]\n",
        "[[ 0.025  0.     0.11   0.022  1.123 -0.784 -0.058  0.279]]\n",
        "[[ 0.025  0.     0.11   0.022  1.124 -0.784 -0.058  0.279]]\n",
        "[[ 0.025  0.     0.11   0.022  1.125 -0.784 -0.058  0.279]]"
       ]
      },
      {
       "output_type": "stream",
       "stream": "stdout",
       "text": [
        "\n",
        "[[ 0.025  0.     0.11   0.022  1.125 -0.784 -0.058  0.278]]\n",
        "[[ 0.025  0.     0.11   0.022  1.126 -0.784 -0.058  0.278]]\n",
        "[[ 0.025  0.     0.11   0.022  1.127 -0.784 -0.058  0.278]]\n",
        "[[ 0.025  0.     0.11   0.022  1.128 -0.784 -0.058  0.278]]\n",
        "[[ 0.025  0.     0.11   0.022  1.128 -0.785 -0.058  0.278]]\n",
        "[[ 0.025  0.     0.11   0.022  1.129 -0.785 -0.058  0.278]]"
       ]
      },
      {
       "output_type": "stream",
       "stream": "stdout",
       "text": [
        "\n",
        "[[ 0.025  0.     0.11   0.022  1.13  -0.785 -0.058  0.278]]\n",
        "[[ 0.025  0.     0.11   0.022  1.131 -0.785 -0.058  0.278]]\n",
        "[[ 0.025  0.     0.11   0.022  1.131 -0.785 -0.059  0.278]]\n",
        "[[ 0.025  0.     0.11   0.022  1.132 -0.785 -0.059  0.278]]\n",
        "[[ 0.025  0.     0.11   0.022  1.133 -0.785 -0.059  0.278]]\n",
        "[[ 0.025  0.     0.11   0.022  1.134 -0.785 -0.059  0.278]]"
       ]
      },
      {
       "output_type": "stream",
       "stream": "stdout",
       "text": [
        "\n",
        "[[ 0.025  0.     0.11   0.022  1.135 -0.785 -0.059  0.278]]\n",
        "[[ 0.025  0.     0.11   0.022  1.135 -0.786 -0.059  0.278]]\n",
        "[[ 0.025  0.     0.11   0.022  1.136 -0.786 -0.059  0.278]]\n",
        "[[ 0.025  0.     0.11   0.022  1.137 -0.786 -0.059  0.278]]\n",
        "[[ 0.025  0.     0.11   0.022  1.137 -0.786 -0.059  0.277]]\n",
        "[[ 0.025  0.     0.11   0.022  1.138 -0.786 -0.059  0.277]]"
       ]
      },
      {
       "output_type": "stream",
       "stream": "stdout",
       "text": [
        "\n",
        "[[ 0.025  0.     0.11   0.022  1.139 -0.786 -0.059  0.277]]\n",
        "[[ 0.025  0.     0.11   0.022  1.14  -0.786 -0.059  0.277]]\n",
        "[[ 0.025  0.     0.11   0.022  1.14  -0.787 -0.059  0.277]]\n",
        "[[ 0.025  0.     0.11   0.022  1.141 -0.787 -0.059  0.277]]"
       ]
      },
      {
       "output_type": "stream",
       "stream": "stdout",
       "text": [
        "\n",
        "[[ 0.025  0.     0.11   0.022  1.142 -0.787 -0.059  0.277]]\n",
        "[[ 0.025  0.     0.11   0.022  1.143 -0.787 -0.059  0.277]]\n",
        "[[ 0.025  0.     0.11   0.022  1.143 -0.787 -0.06   0.277]]\n",
        "[[ 0.025  0.     0.11   0.022  1.144 -0.787 -0.06   0.277]]\n",
        "[[ 0.025  0.     0.11   0.022  1.145 -0.787 -0.06   0.277]]"
       ]
      },
      {
       "output_type": "stream",
       "stream": "stdout",
       "text": [
        "\n",
        "[[ 0.025  0.     0.11   0.022  1.146 -0.787 -0.06   0.277]]\n",
        "[[ 0.025  0.     0.11   0.022  1.147 -0.787 -0.06   0.277]]\n",
        "[[ 0.025  0.     0.11   0.022  1.147 -0.788 -0.06   0.277]]\n",
        "[[ 0.025  0.     0.11   0.022  1.148 -0.788 -0.06   0.277]]\n",
        "[[ 0.025  0.     0.11   0.022  1.149 -0.788 -0.06   0.277]]"
       ]
      },
      {
       "output_type": "stream",
       "stream": "stdout",
       "text": [
        "\n",
        "[[ 0.025  0.     0.11   0.022  1.149 -0.788 -0.06   0.276]]\n",
        "[[ 0.025  0.     0.11   0.022  1.15  -0.788 -0.06   0.276]]\n",
        "[[ 0.025  0.     0.11   0.022  1.151 -0.788 -0.06   0.276]]\n",
        "[[ 0.025  0.     0.11   0.022  1.152 -0.788 -0.06   0.276]]\n",
        "[[ 0.025  0.     0.11   0.022  1.152 -0.789 -0.06   0.276]]"
       ]
      },
      {
       "output_type": "stream",
       "stream": "stdout",
       "text": [
        "\n",
        "[[ 0.025  0.     0.11   0.022  1.153 -0.789 -0.06   0.276]]\n",
        "[[ 0.025  0.     0.11   0.022  1.154 -0.789 -0.06   0.276]]\n",
        "[[ 0.025  0.     0.11   0.022  1.155 -0.789 -0.06   0.276]]\n",
        "[[ 0.025  0.     0.11   0.022  1.155 -0.789 -0.06   0.275]]\n",
        "[[ 0.025  0.     0.11   0.022  1.156 -0.789 -0.06   0.275]]\n",
        "[[ 0.025  0.     0.11   0.022  1.157 -0.789 -0.06   0.275]]"
       ]
      },
      {
       "output_type": "stream",
       "stream": "stdout",
       "text": [
        "\n",
        "[[ 0.025  0.     0.11   0.022  1.158 -0.789 -0.06   0.275]]\n",
        "[[ 0.025  0.     0.11   0.022  1.158 -0.79  -0.06   0.275]]\n",
        "[[ 0.025  0.     0.11   0.022  1.159 -0.79  -0.06   0.275]]\n",
        "[[ 0.025  0.     0.11   0.022  1.16  -0.79  -0.06   0.275]]\n",
        "[[ 0.025  0.     0.11   0.022  1.16  -0.791 -0.06   0.275]]\n",
        "[[ 0.025  0.     0.11   0.022  1.161 -0.791 -0.06   0.275]]"
       ]
      },
      {
       "output_type": "stream",
       "stream": "stdout",
       "text": [
        "\n",
        "[[ 0.025  0.     0.11   0.022  1.162 -0.791 -0.06   0.275]]\n",
        "[[ 0.025  0.     0.11   0.022  1.162 -0.792 -0.06   0.275]]\n",
        "[[ 0.025  0.     0.11   0.022  1.163 -0.792 -0.06   0.275]]\n",
        "[[ 0.025  0.     0.11   0.022  1.164 -0.792 -0.06   0.275]]\n",
        "[[ 0.025  0.     0.11   0.022  1.165 -0.792 -0.06   0.275]]\n",
        "[[ 0.025  0.     0.11   0.022  1.165 -0.792 -0.06   0.274]]"
       ]
      },
      {
       "output_type": "stream",
       "stream": "stdout",
       "text": [
        "\n",
        "[[ 0.025  0.     0.11   0.022  1.166 -0.792 -0.06   0.274]]\n",
        "[[ 0.025  0.     0.11   0.022  1.167 -0.792 -0.06   0.274]]\n",
        "[[ 0.025  0.     0.11   0.022  1.168 -0.792 -0.06   0.274]]\n",
        "[[ 0.025  0.     0.11   0.022  1.168 -0.793 -0.06   0.274]]\n",
        "[[ 0.025  0.     0.11   0.022  1.169 -0.793 -0.06   0.274]]"
       ]
      },
      {
       "output_type": "stream",
       "stream": "stdout",
       "text": [
        "\n",
        "[[ 0.025  0.     0.11   0.022  1.17  -0.793 -0.06   0.274]]\n",
        "[[ 0.025  0.     0.11   0.022  1.17  -0.794 -0.06   0.274]]\n",
        "[[ 0.025  0.     0.11   0.022  1.171 -0.794 -0.06   0.274]]\n",
        "[[ 0.025  0.     0.11   0.022  1.172 -0.794 -0.06   0.274]]\n",
        "[[ 0.025  0.     0.11   0.022  1.172 -0.795 -0.06   0.274]]\n",
        "[[ 0.025  0.     0.11   0.022  1.173 -0.795 -0.06   0.274]]"
       ]
      },
      {
       "output_type": "stream",
       "stream": "stdout",
       "text": [
        "\n",
        "[[ 0.025  0.     0.11   0.022  1.174 -0.795 -0.06   0.274]]\n",
        "[[ 0.026  0.     0.11   0.022  1.174 -0.795 -0.06   0.274]]\n",
        "[[ 0.026  0.     0.11   0.022  1.175 -0.795 -0.06   0.274]]\n",
        "[[ 0.026  0.     0.11   0.022  1.175 -0.795 -0.061  0.274]]\n",
        "[[ 0.026  0.     0.11   0.022  1.176 -0.795 -0.061  0.274]]"
       ]
      },
      {
       "output_type": "stream",
       "stream": "stdout",
       "text": [
        "\n",
        "[[ 0.026  0.     0.11   0.022  1.177 -0.795 -0.061  0.274]]\n",
        "[[ 0.026  0.     0.11   0.022  1.178 -0.795 -0.061  0.274]]\n",
        "[[ 0.026  0.     0.11   0.022  1.179 -0.795 -0.061  0.274]]\n",
        "[[ 0.026  0.     0.11   0.022  1.179 -0.795 -0.061  0.273]]\n",
        "[[ 0.026  0.     0.11   0.022  1.18  -0.795 -0.061  0.273]]\n",
        "[[ 0.026  0.     0.11   0.022  1.181 -0.795 -0.061  0.273]]"
       ]
      },
      {
       "output_type": "stream",
       "stream": "stdout",
       "text": [
        "\n",
        "[[ 0.026  0.     0.11   0.022  1.182 -0.795 -0.061  0.273]]\n",
        "[[ 0.026  0.     0.11   0.022  1.182 -0.796 -0.061  0.273]]\n",
        "[[ 0.026  0.     0.11   0.022  1.183 -0.796 -0.061  0.273]]\n",
        "[[ 0.026  0.     0.11   0.022  1.184 -0.796 -0.061  0.273]]\n",
        "[[ 0.026  0.     0.11   0.022  1.184 -0.797 -0.061  0.273]]\n",
        "[[ 0.026  0.     0.11   0.022  1.185 -0.797 -0.061  0.273]]"
       ]
      },
      {
       "output_type": "stream",
       "stream": "stdout",
       "text": [
        "\n",
        "[[ 0.026  0.     0.11   0.022  1.186 -0.797 -0.061  0.273]]\n",
        "[[ 0.026  0.     0.11   0.022  1.187 -0.797 -0.061  0.273]]\n",
        "[[ 0.026  0.     0.11   0.022  1.187 -0.797 -0.061  0.272]]\n",
        "[[ 0.026  0.     0.11   0.022  1.188 -0.797 -0.061  0.272]]\n",
        "[[ 0.026  0.     0.11   0.022  1.189 -0.797 -0.061  0.272]]\n",
        "[[ 0.026  0.     0.11   0.022  1.19  -0.797 -0.061  0.272]]"
       ]
      },
      {
       "output_type": "stream",
       "stream": "stdout",
       "text": [
        "\n",
        "[[ 0.026  0.     0.11   0.022  1.19  -0.797 -0.062  0.272]]\n",
        "[[ 0.026  0.     0.11   0.022  1.191 -0.797 -0.062  0.272]]\n",
        "[[ 0.026  0.     0.11   0.022  1.192 -0.797 -0.062  0.272]]\n",
        "[[ 0.026  0.     0.11   0.022  1.193 -0.797 -0.062  0.272]]\n",
        "[[ 0.026  0.     0.11   0.022  1.194 -0.797 -0.062  0.272]]\n",
        "[[ 0.026  0.     0.11   0.022  1.194 -0.798 -0.062  0.272]]"
       ]
      },
      {
       "output_type": "stream",
       "stream": "stdout",
       "text": [
        "\n",
        "[[ 0.026  0.     0.11   0.022  1.195 -0.798 -0.062  0.272]]\n",
        "[[ 0.026  0.     0.11   0.022  1.196 -0.798 -0.062  0.272]]\n",
        "[[ 0.026  0.     0.11   0.022  1.196 -0.799 -0.062  0.272]]\n",
        "[[ 0.026  0.     0.11   0.022  1.197 -0.799 -0.062  0.272]]\n",
        "[[ 0.026  0.     0.11   0.022  1.198 -0.799 -0.062  0.272]]\n",
        "[[ 0.026  0.     0.11   0.022  1.199 -0.799 -0.062  0.272]]"
       ]
      },
      {
       "output_type": "stream",
       "stream": "stdout",
       "text": [
        "\n",
        "[[ 0.026  0.     0.11   0.022  1.199 -0.799 -0.062  0.271]]\n",
        "[[ 0.026  0.     0.11   0.022  1.2   -0.799 -0.062  0.271]]\n",
        "[[ 0.026  0.     0.11   0.022  1.201 -0.799 -0.062  0.271]]\n",
        "[[ 0.026  0.     0.11   0.022  1.202 -0.799 -0.062  0.271]]\n",
        "[[ 0.026  0.     0.11   0.022  1.202 -0.8   -0.062  0.271]]\n",
        "[[ 0.026  0.     0.11   0.022  1.203 -0.8   -0.062  0.271]]"
       ]
      },
      {
       "output_type": "stream",
       "stream": "stdout",
       "text": [
        "\n",
        "[[ 0.026  0.     0.11   0.022  1.204 -0.8   -0.062  0.271]]\n",
        "[[ 0.026  0.     0.11   0.022  1.204 -0.8   -0.062  0.27 ]]\n",
        "[[ 0.026  0.     0.11   0.022  1.205 -0.8   -0.062  0.27 ]]\n",
        "[[ 0.026  0.     0.11   0.022  1.206 -0.8   -0.062  0.27 ]]\n",
        "[[ 0.026  0.     0.11   0.022  1.207 -0.8   -0.062  0.27 ]]"
       ]
      },
      {
       "output_type": "stream",
       "stream": "stdout",
       "text": [
        "\n",
        "[[ 0.026  0.     0.11   0.022  1.207 -0.801 -0.062  0.27 ]]\n",
        "[[ 0.026  0.     0.11   0.022  1.208 -0.801 -0.062  0.27 ]]\n",
        "[[ 0.026  0.     0.11   0.022  1.209 -0.801 -0.062  0.27 ]]\n",
        "[[ 0.026  0.     0.11   0.022  1.21  -0.801 -0.062  0.27 ]]\n",
        "[[ 0.026  0.     0.11   0.022  1.21  -0.801 -0.063  0.27 ]]\n",
        "[[ 0.026  0.     0.11   0.022  1.211 -0.801 -0.063  0.27 ]]"
       ]
      },
      {
       "output_type": "stream",
       "stream": "stdout",
       "text": [
        "\n",
        "[[ 0.026  0.     0.11   0.022  1.212 -0.801 -0.063  0.27 ]]\n",
        "[[ 0.026  0.     0.11   0.022  1.213 -0.801 -0.063  0.27 ]]\n",
        "[[ 0.026  0.     0.11   0.022  1.214 -0.801 -0.063  0.27 ]]\n",
        "[[ 0.026  0.     0.11   0.022  1.214 -0.802 -0.063  0.27 ]]\n",
        "[[ 0.026  0.     0.11   0.022  1.215 -0.802 -0.063  0.27 ]]\n",
        "[[ 0.026  0.     0.11   0.022  1.216 -0.802 -0.063  0.27 ]]"
       ]
      },
      {
       "output_type": "stream",
       "stream": "stdout",
       "text": [
        "\n",
        "[[ 0.026  0.     0.11   0.022  1.216 -0.802 -0.063  0.269]]\n",
        "[[ 0.026  0.     0.11   0.022  1.217 -0.802 -0.063  0.269]]\n",
        "[[ 0.026  0.     0.11   0.022  1.218 -0.802 -0.063  0.269]]\n",
        "[[ 0.026  0.     0.11   0.022  1.219 -0.802 -0.063  0.269]]\n",
        "[[ 0.026  0.     0.11   0.022  1.219 -0.803 -0.063  0.269]]\n",
        "[[ 0.026  0.     0.11   0.022  1.22  -0.803 -0.063  0.269]]"
       ]
      },
      {
       "output_type": "stream",
       "stream": "stdout",
       "text": [
        "\n",
        "[[ 0.026  0.     0.11   0.022  1.221 -0.803 -0.063  0.269]]\n",
        "[[ 0.026  0.     0.11   0.022  1.222 -0.803 -0.063  0.269]]\n",
        "[[ 0.026  0.     0.11   0.022  1.222 -0.803 -0.064  0.269]]\n",
        "[[ 0.026  0.     0.11   0.022  1.223 -0.803 -0.064  0.269]]\n",
        "[[ 0.026  0.     0.11   0.022  1.224 -0.803 -0.064  0.269]]\n",
        "[[ 0.026  0.     0.11   0.022  1.225 -0.803 -0.064  0.269]]"
       ]
      },
      {
       "output_type": "stream",
       "stream": "stdout",
       "text": [
        "\n",
        "[[ 0.026  0.     0.11   0.022  1.226 -0.803 -0.064  0.269]]\n",
        "[[ 0.026  0.     0.11   0.022  1.226 -0.804 -0.064  0.269]]\n",
        "[[ 0.026  0.     0.11   0.022  1.227 -0.804 -0.064  0.269]]\n",
        "[[ 0.026  0.     0.11   0.022  1.228 -0.804 -0.064  0.269]]\n",
        "[[ 0.026  0.     0.11   0.022  1.228 -0.804 -0.064  0.268]]\n",
        "[[ 0.026  0.     0.11   0.022  1.229 -0.804 -0.064  0.268]]"
       ]
      },
      {
       "output_type": "stream",
       "stream": "stdout",
       "text": [
        "\n",
        "[[ 0.026  0.     0.11   0.022  1.23  -0.804 -0.064  0.268]]\n",
        "[[ 0.026  0.     0.11   0.022  1.231 -0.804 -0.064  0.268]]\n",
        "[[ 0.026  0.     0.11   0.022  1.231 -0.805 -0.064  0.268]]\n",
        "[[ 0.026  0.     0.11   0.022  1.232 -0.805 -0.064  0.268]]\n",
        "[[ 0.026  0.     0.11   0.022  1.233 -0.805 -0.064  0.268]]"
       ]
      },
      {
       "output_type": "stream",
       "stream": "stdout",
       "text": [
        "\n",
        "[[ 0.026  0.     0.11   0.022  1.234 -0.805 -0.064  0.268]]\n",
        "[[ 0.026  0.     0.11   0.022  1.234 -0.805 -0.064  0.267]]\n",
        "[[ 0.026  0.     0.11   0.022  1.235 -0.805 -0.064  0.267]]\n",
        "[[ 0.026  0.     0.11   0.022  1.236 -0.805 -0.064  0.267]]\n",
        "[[ 0.026  0.     0.11   0.022  1.237 -0.805 -0.064  0.267]]\n",
        "[[ 0.026  0.     0.11   0.022  1.237 -0.806 -0.064  0.267]]"
       ]
      },
      {
       "output_type": "stream",
       "stream": "stdout",
       "text": [
        "\n",
        "[[ 0.026  0.     0.11   0.022  1.238 -0.806 -0.064  0.267]]\n",
        "[[ 0.026  0.     0.11   0.022  1.239 -0.806 -0.064  0.267]]\n",
        "[[ 0.026  0.     0.11   0.022  1.239 -0.807 -0.064  0.267]]\n",
        "[[ 0.026  0.     0.11   0.022  1.24  -0.807 -0.064  0.267]]\n",
        "[[ 0.026  0.     0.11   0.022  1.241 -0.807 -0.064  0.267]]"
       ]
      },
      {
       "output_type": "stream",
       "stream": "stdout",
       "text": [
        "\n",
        "[[ 0.027  0.     0.11   0.022  1.241 -0.807 -0.064  0.267]]\n",
        "[[ 0.027  0.     0.11   0.022  1.241 -0.808 -0.064  0.267]]\n",
        "[[ 0.027  0.     0.11   0.022  1.242 -0.808 -0.064  0.267]]\n",
        "[[ 0.027  0.     0.11   0.022  1.243 -0.808 -0.064  0.267]]\n",
        "[[ 0.027  0.     0.11   0.022  1.244 -0.808 -0.064  0.267]]\n",
        "[[ 0.027  0.     0.11   0.022  1.244 -0.808 -0.065  0.267]]"
       ]
      },
      {
       "output_type": "stream",
       "stream": "stdout",
       "text": [
        "\n",
        "[[ 0.027  0.     0.11   0.022  1.245 -0.808 -0.065  0.267]]\n",
        "[[ 0.027  0.     0.11   0.022  1.246 -0.808 -0.065  0.267]]\n",
        "[[ 0.027  0.     0.11   0.022  1.247 -0.808 -0.065  0.267]]\n",
        "[[ 0.027  0.     0.11   0.022  1.248 -0.808 -0.065  0.267]]\n",
        "[[ 0.027  0.     0.11   0.022  1.248 -0.808 -0.065  0.266]]\n",
        "[[ 0.027  0.     0.11   0.022  1.249 -0.808 -0.065  0.266]]"
       ]
      },
      {
       "output_type": "stream",
       "stream": "stdout",
       "text": [
        "\n",
        "[[ 0.027  0.     0.11   0.022  1.25  -0.808 -0.065  0.266]]\n",
        "[[ 0.027  0.     0.11   0.022  1.251 -0.808 -0.065  0.266]]\n",
        "[[ 0.027  0.     0.11   0.022  1.251 -0.809 -0.065  0.266]]\n",
        "[[ 0.027  0.     0.11   0.022  1.252 -0.809 -0.065  0.266]]\n",
        "[[ 0.027  0.     0.11   0.022  1.253 -0.809 -0.065  0.266]]\n",
        "[[ 0.027  0.     0.11   0.022  1.253 -0.81  -0.065  0.266]]"
       ]
      },
      {
       "output_type": "stream",
       "stream": "stdout",
       "text": [
        "\n",
        "[[ 0.027  0.     0.11   0.022  1.254 -0.81  -0.065  0.266]]\n",
        "[[ 0.027  0.     0.11   0.022  1.255 -0.81  -0.065  0.266]]\n",
        "[[ 0.027  0.     0.11   0.022  1.256 -0.81  -0.065  0.266]]\n",
        "[[ 0.027  0.     0.11   0.022  1.256 -0.81  -0.065  0.265]]\n",
        "[[ 0.027  0.     0.11   0.022  1.257 -0.81  -0.065  0.265]]\n",
        "[[ 0.027  0.     0.11   0.022  1.258 -0.81  -0.065  0.265]]"
       ]
      },
      {
       "output_type": "stream",
       "stream": "stdout",
       "text": [
        "\n",
        "[[ 0.027  0.     0.11   0.022  1.259 -0.81  -0.065  0.265]]\n",
        "[[ 0.027  0.     0.11   0.022  1.259 -0.811 -0.065  0.265]]\n",
        "[[ 0.027  0.     0.11   0.022  1.26  -0.811 -0.065  0.265]]\n",
        "[[ 0.027  0.     0.11   0.022  1.261 -0.811 -0.065  0.265]]\n",
        "[[ 0.027  0.     0.11   0.022  1.261 -0.812 -0.065  0.265]]\n",
        "[[ 0.027  0.     0.11   0.022  1.262 -0.812 -0.065  0.265]]"
       ]
      },
      {
       "output_type": "stream",
       "stream": "stdout",
       "text": [
        "\n",
        "[[ 0.027  0.     0.11   0.022  1.263 -0.812 -0.065  0.265]]\n",
        "[[ 0.028  0.     0.11   0.022  1.263 -0.812 -0.065  0.265]]\n",
        "[[ 0.028  0.     0.11   0.022  1.263 -0.813 -0.065  0.265]]\n",
        "[[ 0.028  0.     0.11   0.022  1.264 -0.813 -0.065  0.265]]\n",
        "[[ 0.028  0.     0.11   0.022  1.265 -0.813 -0.065  0.265]]\n",
        "[[ 0.028  0.     0.11   0.022  1.266 -0.813 -0.065  0.265]]"
       ]
      },
      {
       "output_type": "stream",
       "stream": "stdout",
       "text": [
        "\n",
        "[[ 0.028  0.     0.11   0.022  1.266 -0.813 -0.065  0.264]]\n",
        "[[ 0.028  0.     0.11   0.022  1.267 -0.813 -0.065  0.264]]\n",
        "[[ 0.028  0.     0.11   0.022  1.268 -0.813 -0.065  0.264]]\n",
        "[[ 0.028  0.     0.11   0.022  1.269 -0.813 -0.065  0.264]]\n",
        "[[ 0.028  0.     0.11   0.022  1.269 -0.813 -0.066  0.264]]\n",
        "[[ 0.028  0.     0.11   0.022  1.27  -0.813 -0.066  0.264]]"
       ]
      },
      {
       "output_type": "stream",
       "stream": "stdout",
       "text": [
        "\n",
        "[[ 0.028  0.     0.11   0.022  1.271 -0.813 -0.066  0.264]]\n",
        "[[ 0.028  0.     0.11   0.022  1.272 -0.813 -0.066  0.264]]\n",
        "[[ 0.028  0.     0.11   0.022  1.273 -0.813 -0.066  0.264]]\n",
        "[[ 0.028  0.     0.11   0.022  1.273 -0.814 -0.066  0.264]]\n",
        "[[ 0.028  0.     0.11   0.022  1.274 -0.814 -0.066  0.264]]\n",
        "[[ 0.028  0.     0.11   0.022  1.275 -0.814 -0.066  0.264]]"
       ]
      },
      {
       "output_type": "stream",
       "stream": "stdout",
       "text": [
        "\n",
        "[[ 0.028  0.     0.11   0.022  1.275 -0.815 -0.066  0.264]]\n",
        "[[ 0.028  0.     0.11   0.022  1.276 -0.815 -0.066  0.264]]\n",
        "[[ 0.028  0.     0.11   0.022  1.277 -0.815 -0.066  0.264]]\n",
        "[[ 0.028  0.     0.11   0.022  1.278 -0.815 -0.066  0.264]]\n",
        "[[ 0.028  0.     0.11   0.022  1.278 -0.815 -0.066  0.263]]\n",
        "[[ 0.028  0.     0.11   0.022  1.279 -0.815 -0.066  0.263]]"
       ]
      },
      {
       "output_type": "stream",
       "stream": "stdout",
       "text": [
        "\n",
        "[[ 0.028  0.     0.11   0.022  1.28  -0.815 -0.066  0.263]]\n",
        "[[ 0.028  0.     0.11   0.022  1.281 -0.815 -0.066  0.263]]\n",
        "[[ 0.028  0.     0.11   0.022  1.281 -0.816 -0.066  0.263]]\n",
        "[[ 0.028  0.     0.11   0.022  1.282 -0.816 -0.066  0.263]]\n",
        "[[ 0.028  0.     0.11   0.022  1.283 -0.816 -0.066  0.263]]\n",
        "[[ 0.028  0.     0.11   0.022  1.283 -0.816 -0.066  0.262]]"
       ]
      },
      {
       "output_type": "stream",
       "stream": "stdout",
       "text": [
        "\n",
        "[[ 0.028  0.     0.11   0.022  1.284 -0.816 -0.066  0.262]]\n",
        "[[ 0.028  0.     0.11   0.022  1.285 -0.816 -0.066  0.262]]\n",
        "[[ 0.028  0.     0.11   0.022  1.286 -0.816 -0.066  0.262]]\n",
        "[[ 0.028  0.     0.11   0.022  1.286 -0.817 -0.066  0.262]]\n",
        "[[ 0.028  0.     0.11   0.022  1.287 -0.817 -0.066  0.262]]\n",
        "[[ 0.028  0.     0.11   0.022  1.288 -0.817 -0.066  0.262]]"
       ]
      },
      {
       "output_type": "stream",
       "stream": "stdout",
       "text": [
        "\n",
        "[[ 0.028  0.     0.11   0.022  1.289 -0.817 -0.066  0.262]]\n",
        "[[ 0.028  0.     0.11   0.022  1.289 -0.817 -0.067  0.262]]\n",
        "[[ 0.028  0.     0.11   0.022  1.29  -0.817 -0.067  0.262]]\n",
        "[[ 0.028  0.     0.11   0.022  1.291 -0.817 -0.067  0.262]]\n",
        "[[ 0.028  0.     0.11   0.022  1.292 -0.817 -0.067  0.262]]\n",
        "[[ 0.028  0.     0.11   0.022  1.293 -0.817 -0.067  0.262]]"
       ]
      },
      {
       "output_type": "stream",
       "stream": "stdout",
       "text": [
        "\n",
        "[[ 0.028  0.     0.11   0.022  1.293 -0.818 -0.067  0.262]]\n",
        "[[ 0.028  0.     0.11   0.022  1.294 -0.818 -0.067  0.262]]\n",
        "[[ 0.028  0.     0.11   0.022  1.295 -0.818 -0.067  0.262]]\n",
        "[[ 0.028  0.     0.11   0.022  1.295 -0.818 -0.067  0.261]]\n",
        "[[ 0.028  0.     0.11   0.022  1.296 -0.818 -0.067  0.261]]\n",
        "[[ 0.028  0.     0.11   0.022  1.297 -0.818 -0.067  0.261]]"
       ]
      },
      {
       "output_type": "stream",
       "stream": "stdout",
       "text": [
        "\n",
        "[[ 0.028  0.     0.11   0.022  1.298 -0.818 -0.067  0.261]]\n",
        "[[ 0.028  0.     0.11   0.022  1.299 -0.818 -0.067  0.261]]\n",
        "[[ 0.028  0.     0.11   0.022  1.299 -0.818 -0.068  0.261]]\n",
        "[[ 0.028  0.     0.11   0.022  1.3   -0.818 -0.068  0.261]]\n",
        "[[ 0.028  0.     0.11   0.022  1.301 -0.818 -0.068  0.261]]\n",
        "[[ 0.028  0.     0.11   0.022  1.302 -0.818 -0.068  0.261]]"
       ]
      },
      {
       "output_type": "stream",
       "stream": "stdout",
       "text": [
        "\n",
        "[[ 0.028  0.     0.11   0.022  1.303 -0.818 -0.068  0.261]]\n",
        "[[ 0.028  0.     0.11   0.022  1.303 -0.819 -0.068  0.261]]\n",
        "[[ 0.028  0.     0.11   0.022  1.304 -0.819 -0.068  0.261]]\n",
        "[[ 0.028  0.     0.11   0.022  1.305 -0.819 -0.068  0.261]]\n",
        "[[ 0.028  0.     0.11   0.022  1.305 -0.82  -0.068  0.261]]\n",
        "[[ 0.028  0.     0.11   0.022  1.306 -0.82  -0.068  0.261]]"
       ]
      },
      {
       "output_type": "stream",
       "stream": "stdout",
       "text": [
        "\n",
        "[[ 0.028  0.     0.11   0.022  1.307 -0.82  -0.068  0.261]]\n",
        "[[ 0.028  0.     0.11   0.022  1.307 -0.82  -0.068  0.26 ]]\n",
        "[[ 0.028  0.     0.11   0.022  1.308 -0.82  -0.068  0.26 ]]\n",
        "[[ 0.028  0.     0.11   0.022  1.309 -0.82  -0.068  0.26 ]]\n",
        "[[ 0.028  0.     0.11   0.022  1.31  -0.82  -0.068  0.26 ]]\n",
        "[[ 0.028  0.     0.11   0.022  1.311 -0.82  -0.068  0.26 ]]"
       ]
      },
      {
       "output_type": "stream",
       "stream": "stdout",
       "text": [
        "\n",
        "[[ 0.028  0.     0.11   0.022  1.311 -0.821 -0.068  0.26 ]]\n",
        "[[ 0.028  0.     0.11   0.022  1.312 -0.821 -0.068  0.26 ]]\n",
        "[[ 0.028  0.     0.11   0.022  1.313 -0.821 -0.068  0.26 ]]\n",
        "[[ 0.028  0.     0.11   0.022  1.313 -0.821 -0.068  0.259]]\n",
        "[[ 0.028  0.     0.11   0.022  1.314 -0.821 -0.068  0.259]]\n",
        "[[ 0.028  0.     0.11   0.022  1.315 -0.821 -0.068  0.259]]"
       ]
      },
      {
       "output_type": "stream",
       "stream": "stdout",
       "text": [
        "\n",
        "[[ 0.028  0.     0.11   0.022  1.316 -0.821 -0.068  0.259]]\n",
        "[[ 0.028  0.     0.11   0.022  1.316 -0.822 -0.068  0.259]]\n",
        "[[ 0.028  0.     0.11   0.022  1.317 -0.822 -0.068  0.259]]\n",
        "[[ 0.028  0.     0.11   0.022  1.318 -0.822 -0.068  0.259]]\n",
        "[[ 0.028  0.     0.11   0.022  1.318 -0.823 -0.068  0.259]]"
       ]
      },
      {
       "output_type": "stream",
       "stream": "stdout",
       "text": [
        "\n",
        "[[ 0.028  0.     0.11   0.022  1.319 -0.823 -0.068  0.259]]\n",
        "[[ 0.028  0.     0.11   0.022  1.32  -0.823 -0.068  0.259]]\n",
        "[[ 0.029  0.     0.11   0.022  1.32  -0.823 -0.068  0.259]]\n",
        "[[ 0.029  0.     0.11   0.022  1.321 -0.823 -0.068  0.259]]\n",
        "[[ 0.029  0.     0.11   0.022  1.321 -0.823 -0.069  0.259]]\n",
        "[[ 0.029  0.     0.11   0.022  1.322 -0.823 -0.069  0.259]]"
       ]
      },
      {
       "output_type": "stream",
       "stream": "stdout",
       "text": [
        "\n",
        "[[ 0.029  0.     0.11   0.022  1.323 -0.823 -0.069  0.259]]\n",
        "[[ 0.029  0.     0.11   0.022  1.324 -0.823 -0.069  0.259]]\n",
        "[[ 0.029  0.     0.11   0.022  1.325 -0.823 -0.069  0.259]]\n",
        "[[ 0.029  0.     0.11   0.022  1.325 -0.823 -0.069  0.258]]\n",
        "[[ 0.029  0.     0.11   0.022  1.326 -0.823 -0.069  0.258]]"
       ]
      },
      {
       "output_type": "stream",
       "stream": "stdout",
       "text": [
        "\n",
        "[[ 0.029  0.     0.11   0.022  1.327 -0.823 -0.069  0.258]]\n",
        "[[ 0.029  0.     0.11   0.022  1.328 -0.823 -0.069  0.258]]\n",
        "[[ 0.029  0.     0.11   0.022  1.328 -0.824 -0.069  0.258]]\n",
        "[[ 0.029  0.     0.11   0.022  1.329 -0.824 -0.069  0.258]]\n",
        "[[ 0.029  0.     0.11   0.022  1.33  -0.824 -0.069  0.258]]\n",
        "[[ 0.029  0.     0.11   0.022  1.33  -0.825 -0.069  0.258]]"
       ]
      },
      {
       "output_type": "stream",
       "stream": "stdout",
       "text": [
        "\n",
        "[[ 0.029  0.     0.11   0.022  1.331 -0.825 -0.069  0.258]]\n",
        "[[ 0.029  0.     0.11   0.022  1.332 -0.825 -0.069  0.258]]\n",
        "[[ 0.029  0.     0.11   0.022  1.333 -0.825 -0.069  0.258]]\n",
        "[[ 0.029  0.     0.11   0.022  1.333 -0.825 -0.069  0.257]]\n",
        "[[ 0.029  0.     0.11   0.022  1.334 -0.825 -0.069  0.257]]\n",
        "[[ 0.029  0.     0.11   0.022  1.335 -0.825 -0.069  0.257]]"
       ]
      },
      {
       "output_type": "stream",
       "stream": "stdout",
       "text": [
        "\n",
        "[[ 0.029  0.     0.11   0.022  1.336 -0.825 -0.069  0.257]]\n",
        "[[ 0.029  0.     0.11   0.022  1.336 -0.826 -0.069  0.257]]\n",
        "[[ 0.029  0.     0.11   0.022  1.337 -0.826 -0.069  0.257]]\n",
        "[[ 0.029  0.     0.11   0.022  1.338 -0.826 -0.069  0.257]]\n",
        "[[ 0.029  0.     0.11   0.022  1.338 -0.827 -0.069  0.257]]\n",
        "[[ 0.029  0.     0.11   0.022  1.339 -0.827 -0.069  0.257]]"
       ]
      },
      {
       "output_type": "stream",
       "stream": "stdout",
       "text": [
        "\n",
        "[[ 0.029  0.     0.11   0.022  1.34  -0.827 -0.069  0.257]]\n",
        "[[ 0.029  0.     0.11   0.022  1.34  -0.828 -0.069  0.257]]\n",
        "[[ 0.029  0.     0.11   0.022  1.341 -0.828 -0.069  0.257]]\n",
        "[[ 0.029  0.     0.11   0.022  1.342 -0.828 -0.069  0.257]]\n",
        "[[ 0.03   0.     0.11   0.022  1.342 -0.828 -0.069  0.257]]\n",
        "[[ 0.03   0.     0.11   0.022  1.343 -0.828 -0.069  0.257]]"
       ]
      },
      {
       "output_type": "stream",
       "stream": "stdout",
       "text": [
        "\n",
        "[[ 0.03   0.     0.11   0.022  1.343 -0.828 -0.07   0.257]]\n",
        "[[ 0.03   0.     0.11   0.022  1.344 -0.828 -0.07   0.257]]\n",
        "[[ 0.03   0.     0.11   0.022  1.345 -0.828 -0.07   0.257]]\n",
        "[[ 0.03   0.     0.11   0.022  1.346 -0.828 -0.07   0.257]]\n",
        "[[ 0.03   0.     0.11   0.022  1.347 -0.828 -0.07   0.257]]\n",
        "[[ 0.03   0.     0.11   0.022  1.347 -0.828 -0.07   0.256]]"
       ]
      },
      {
       "output_type": "stream",
       "stream": "stdout",
       "text": [
        "\n",
        "[[ 0.03   0.     0.11   0.022  1.348 -0.828 -0.07   0.256]]\n",
        "[[ 0.03   0.     0.11   0.022  1.349 -0.828 -0.07   0.256]]\n",
        "[[ 0.03   0.     0.11   0.022  1.35  -0.828 -0.07   0.256]]\n",
        "[[ 0.03   0.     0.11   0.022  1.35  -0.829 -0.07   0.256]]\n",
        "[[ 0.03   0.     0.11   0.022  1.351 -0.829 -0.07   0.256]]\n",
        "[[ 0.03   0.     0.11   0.022  1.352 -0.829 -0.07   0.256]]"
       ]
      },
      {
       "output_type": "stream",
       "stream": "stdout",
       "text": [
        "\n",
        "[[ 0.03   0.     0.11   0.022  1.352 -0.83  -0.07   0.256]]\n",
        "[[ 0.03   0.     0.11   0.022  1.353 -0.83  -0.07   0.256]]\n",
        "[[ 0.03   0.     0.11   0.022  1.354 -0.83  -0.07   0.256]]\n",
        "[[ 0.03   0.     0.11   0.022  1.355 -0.83  -0.07   0.256]]\n",
        "[[ 0.03   0.     0.11   0.022  1.355 -0.83  -0.07   0.255]]\n",
        "[[ 0.03   0.     0.11   0.022  1.356 -0.83  -0.07   0.255]]"
       ]
      },
      {
       "output_type": "stream",
       "stream": "stdout",
       "text": [
        "\n",
        "[[ 0.03   0.     0.11   0.022  1.357 -0.83  -0.07   0.255]]\n",
        "[[ 0.03   0.     0.11   0.022  1.358 -0.83  -0.07   0.255]]\n",
        "[[ 0.03   0.     0.11   0.022  1.358 -0.83  -0.071  0.255]]\n",
        "[[ 0.03   0.     0.11   0.022  1.359 -0.83  -0.071  0.255]]\n",
        "[[ 0.03   0.     0.11   0.022  1.36  -0.83  -0.071  0.255]]"
       ]
      },
      {
       "output_type": "stream",
       "stream": "stdout",
       "text": [
        "\n",
        "[[ 0.03   0.     0.11   0.022  1.361 -0.83  -0.071  0.255]]\n",
        "[[ 0.03   0.     0.11   0.022  1.362 -0.83  -0.071  0.255]]\n",
        "[[ 0.03   0.     0.11   0.022  1.362 -0.831 -0.071  0.255]]\n",
        "[[ 0.03   0.     0.11   0.022  1.363 -0.831 -0.071  0.255]]\n",
        "[[ 0.03   0.     0.11   0.022  1.364 -0.831 -0.071  0.255]]\n",
        "[[ 0.03   0.     0.11   0.022  1.364 -0.832 -0.071  0.255]]"
       ]
      },
      {
       "output_type": "stream",
       "stream": "stdout",
       "text": [
        "\n",
        "[[ 0.03   0.     0.11   0.022  1.365 -0.832 -0.071  0.255]]\n",
        "[[ 0.03   0.     0.11   0.022  1.366 -0.832 -0.071  0.255]]\n",
        "[[ 0.03   0.     0.11   0.022  1.367 -0.832 -0.071  0.255]]\n",
        "[[ 0.03   0.     0.11   0.022  1.367 -0.832 -0.071  0.254]]\n",
        "[[ 0.03   0.     0.11   0.022  1.368 -0.832 -0.071  0.254]]\n",
        "[[ 0.03   0.     0.11   0.022  1.369 -0.832 -0.071  0.254]]"
       ]
      },
      {
       "output_type": "stream",
       "stream": "stdout",
       "text": [
        "\n",
        "[[ 0.03   0.     0.11   0.022  1.37  -0.832 -0.071  0.254]]\n",
        "[[ 0.03   0.     0.11   0.022  1.37  -0.833 -0.071  0.254]]\n",
        "[[ 0.03   0.     0.11   0.022  1.371 -0.833 -0.071  0.254]]\n",
        "[[ 0.03   0.     0.11   0.022  1.372 -0.833 -0.071  0.254]]\n",
        "[[ 0.03   0.     0.11   0.022  1.372 -0.834 -0.071  0.254]]\n",
        "[[ 0.03   0.     0.11   0.022  1.373 -0.834 -0.071  0.254]]"
       ]
      },
      {
       "output_type": "stream",
       "stream": "stdout",
       "text": [
        "\n",
        "[[ 0.03   0.     0.11   0.022  1.374 -0.834 -0.071  0.254]]\n",
        "[[ 0.03   0.     0.11   0.022  1.374 -0.834 -0.071  0.253]]\n",
        "[[ 0.03   0.     0.11   0.022  1.375 -0.834 -0.071  0.253]]\n",
        "[[ 0.03   0.     0.11   0.022  1.376 -0.834 -0.071  0.253]]\n",
        "[[ 0.03   0.     0.11   0.022  1.377 -0.834 -0.071  0.253]]\n",
        "[[ 0.03   0.     0.11   0.022  1.378 -0.834 -0.071  0.253]]"
       ]
      },
      {
       "output_type": "stream",
       "stream": "stdout",
       "text": [
        "\n",
        "[[ 0.03   0.     0.11   0.022  1.378 -0.834 -0.072  0.253]]\n",
        "[[ 0.03   0.     0.11   0.022  1.379 -0.834 -0.072  0.253]]\n",
        "[[ 0.03   0.     0.11   0.022  1.38  -0.834 -0.072  0.253]]\n",
        "[[ 0.03   0.     0.11   0.022  1.381 -0.834 -0.072  0.253]]\n",
        "[[ 0.03   0.     0.11   0.022  1.382 -0.834 -0.072  0.253]]\n",
        "[[ 0.03   0.     0.11   0.022  1.382 -0.835 -0.072  0.253]]"
       ]
      },
      {
       "output_type": "stream",
       "stream": "stdout",
       "text": [
        "\n",
        "[[ 0.03   0.     0.11   0.022  1.383 -0.835 -0.072  0.253]]\n",
        "[[ 0.03   0.     0.11   0.022  1.384 -0.835 -0.072  0.253]]\n",
        "[[ 0.03   0.     0.11   0.022  1.384 -0.836 -0.072  0.253]]\n",
        "[[ 0.03   0.     0.11   0.022  1.385 -0.836 -0.072  0.253]]\n",
        "[[ 0.03   0.     0.11   0.022  1.386 -0.836 -0.072  0.253]]\n",
        "[[ 0.03   0.     0.11   0.022  1.386 -0.836 -0.072  0.252]]"
       ]
      },
      {
       "output_type": "stream",
       "stream": "stdout",
       "text": [
        "\n",
        "[[ 0.03   0.     0.11   0.022  1.387 -0.836 -0.072  0.252]]\n",
        "[[ 0.03   0.     0.11   0.022  1.388 -0.836 -0.072  0.252]]\n",
        "[[ 0.03   0.     0.11   0.022  1.389 -0.836 -0.072  0.252]]\n",
        "[[ 0.03   0.     0.11   0.022  1.39  -0.836 -0.072  0.252]]\n",
        "[[ 0.03   0.     0.11   0.022  1.39  -0.837 -0.072  0.252]]\n",
        "[[ 0.03   0.     0.11   0.022  1.391 -0.837 -0.072  0.252]]"
       ]
      },
      {
       "output_type": "stream",
       "stream": "stdout",
       "text": [
        "\n",
        "[[ 0.03   0.     0.11   0.022  1.392 -0.837 -0.072  0.252]]\n",
        "[[ 0.03   0.     0.11   0.022  1.392 -0.837 -0.072  0.251]]\n",
        "[[ 0.03   0.     0.11   0.022  1.393 -0.837 -0.072  0.251]]\n",
        "[[ 0.03   0.     0.11   0.022  1.394 -0.837 -0.072  0.251]]\n",
        "[[ 0.03   0.     0.11   0.022  1.395 -0.837 -0.072  0.251]]\n",
        "[[ 0.03   0.     0.11   0.022  1.395 -0.838 -0.072  0.251]]"
       ]
      },
      {
       "output_type": "stream",
       "stream": "stdout",
       "text": [
        "\n",
        "[[ 0.03   0.     0.11   0.022  1.396 -0.838 -0.072  0.251]]\n",
        "[[ 0.03   0.     0.11   0.022  1.397 -0.838 -0.072  0.251]]\n",
        "[[ 0.03   0.     0.11   0.022  1.397 -0.839 -0.072  0.251]]\n",
        "[[ 0.03   0.     0.11   0.022  1.398 -0.839 -0.072  0.251]]\n",
        "[[ 0.03   0.     0.11   0.022  1.399 -0.839 -0.072  0.251]]\n",
        "[[ 0.03   0.     0.11   0.022  1.4   -0.839 -0.072  0.251]]"
       ]
      },
      {
       "output_type": "stream",
       "stream": "stdout",
       "text": [
        "\n",
        "[[ 0.03   0.     0.11   0.022  1.4   -0.839 -0.073  0.251]]\n",
        "[[ 0.03   0.     0.11   0.022  1.401 -0.839 -0.073  0.251]]\n",
        "[[ 0.03   0.     0.11   0.022  1.402 -0.839 -0.073  0.251]]\n",
        "[[ 0.03   0.     0.11   0.022  1.403 -0.839 -0.073  0.251]]\n",
        "[[ 0.03   0.     0.11   0.022  1.404 -0.839 -0.073  0.251]]\n",
        "[[ 0.03   0.     0.11   0.022  1.404 -0.839 -0.073  0.25 ]]"
       ]
      },
      {
       "output_type": "stream",
       "stream": "stdout",
       "text": [
        "\n",
        "[[ 0.03   0.     0.11   0.022  1.405 -0.839 -0.073  0.25 ]]\n",
        "[[ 0.03   0.     0.11   0.022  1.406 -0.839 -0.073  0.25 ]]\n",
        "[[ 0.03   0.     0.11   0.022  1.407 -0.839 -0.073  0.25 ]]\n",
        "[[ 0.03   0.     0.11   0.022  1.407 -0.84  -0.073  0.25 ]]\n",
        "[[ 0.03   0.     0.11   0.022  1.408 -0.84  -0.073  0.25 ]]\n",
        "[[ 0.03   0.     0.11   0.022  1.409 -0.84  -0.073  0.25 ]]"
       ]
      },
      {
       "output_type": "stream",
       "stream": "stdout",
       "text": [
        "\n",
        "[[ 0.03   0.     0.11   0.022  1.409 -0.841 -0.073  0.25 ]]\n",
        "[[ 0.03   0.     0.11   0.022  1.41  -0.841 -0.073  0.25 ]]\n",
        "[[ 0.03   0.     0.11   0.022  1.411 -0.841 -0.073  0.25 ]]\n",
        "[[ 0.03   0.     0.11   0.022  1.412 -0.841 -0.073  0.25 ]]\n",
        "[[ 0.03   0.     0.11   0.022  1.412 -0.841 -0.074  0.25 ]]\n",
        "[[ 0.03   0.     0.11   0.022  1.413 -0.841 -0.074  0.25 ]]"
       ]
      },
      {
       "output_type": "stream",
       "stream": "stdout",
       "text": [
        "\n",
        "[[ 0.03   0.     0.11   0.022  1.414 -0.841 -0.074  0.25 ]]\n",
        "[[ 0.03   0.     0.11   0.022  1.415 -0.841 -0.074  0.25 ]]\n",
        "[[ 0.03   0.     0.11   0.022  1.416 -0.841 -0.074  0.25 ]]\n",
        "[[ 0.03   0.     0.11   0.022  1.416 -0.841 -0.074  0.249]]\n",
        "[[ 0.03   0.     0.11   0.022  1.417 -0.841 -0.074  0.249]]"
       ]
      },
      {
       "output_type": "stream",
       "stream": "stdout",
       "text": [
        "\n",
        "[[ 0.03   0.     0.11   0.022  1.418 -0.841 -0.074  0.249]]\n",
        "[[ 0.03   0.     0.11   0.022  1.419 -0.841 -0.074  0.249]]\n",
        "[[ 0.03   0.     0.11   0.022  1.419 -0.842 -0.074  0.249]]\n",
        "[[ 0.03   0.     0.11   0.022  1.42  -0.842 -0.074  0.249]]\n",
        "[[ 0.03   0.     0.11   0.022  1.421 -0.842 -0.074  0.249]]\n",
        "[[ 0.03   0.     0.11   0.022  1.421 -0.843 -0.074  0.249]]"
       ]
      },
      {
       "output_type": "stream",
       "stream": "stdout",
       "text": [
        "\n",
        "[[ 0.03   0.     0.11   0.022  1.422 -0.843 -0.074  0.249]]\n",
        "[[ 0.03   0.     0.11   0.022  1.423 -0.843 -0.074  0.249]]\n",
        "[[ 0.03   0.     0.11   0.022  1.424 -0.843 -0.074  0.249]]\n",
        "[[ 0.03   0.     0.11   0.022  1.424 -0.843 -0.074  0.248]]\n",
        "[[ 0.03   0.     0.11   0.022  1.425 -0.843 -0.074  0.248]]\n",
        "[[ 0.03   0.     0.11   0.022  1.426 -0.843 -0.074  0.248]]"
       ]
      },
      {
       "output_type": "stream",
       "stream": "stdout",
       "text": [
        "\n",
        "[[ 0.03   0.     0.11   0.022  1.427 -0.843 -0.074  0.248]]\n",
        "[[ 0.03   0.     0.11   0.022  1.427 -0.844 -0.074  0.248]]\n",
        "[[ 0.03   0.     0.11   0.022  1.428 -0.844 -0.074  0.248]]\n",
        "[[ 0.03   0.     0.11   0.022  1.429 -0.844 -0.074  0.248]]\n",
        "[[ 0.03   0.     0.11   0.022  1.429 -0.845 -0.074  0.248]]\n",
        "[[ 0.03   0.     0.11   0.022  1.43  -0.845 -0.074  0.248]]"
       ]
      },
      {
       "output_type": "stream",
       "stream": "stdout",
       "text": [
        "\n",
        "[[ 0.03   0.     0.11   0.022  1.431 -0.845 -0.074  0.248]]\n",
        "[[ 0.031  0.     0.11   0.022  1.431 -0.845 -0.074  0.248]]\n",
        "[[ 0.031  0.     0.11   0.022  1.431 -0.846 -0.074  0.248]]\n",
        "[[ 0.031  0.     0.11   0.022  1.432 -0.846 -0.074  0.248]]\n",
        "[[ 0.031  0.     0.11   0.022  1.433 -0.846 -0.074  0.248]]\n",
        "[[ 0.031  0.     0.11   0.022  1.434 -0.846 -0.074  0.248]]"
       ]
      },
      {
       "output_type": "stream",
       "stream": "stdout",
       "text": [
        "\n",
        "[[ 0.031  0.     0.11   0.022  1.434 -0.846 -0.074  0.247]]\n",
        "[[ 0.031  0.     0.11   0.022  1.435 -0.846 -0.074  0.247]]\n",
        "[[ 0.031  0.     0.11   0.022  1.436 -0.846 -0.074  0.247]]\n",
        "[[ 0.031  0.     0.11   0.022  1.437 -0.846 -0.074  0.247]]\n",
        "[[ 0.031  0.     0.11   0.022  1.437 -0.846 -0.075  0.247]]\n",
        "[[ 0.031  0.     0.111  0.022  1.437 -0.846 -0.075  0.247]]"
       ]
      },
      {
       "output_type": "stream",
       "stream": "stdout",
       "text": [
        "\n",
        "[[ 0.031  0.     0.111  0.022  1.437 -0.846 -0.075  0.246]]\n",
        "[[ 0.031  0.     0.111  0.022  1.438 -0.846 -0.075  0.246]]\n",
        "[[ 0.031  0.     0.111  0.022  1.439 -0.846 -0.075  0.246]]\n",
        "[[ 0.031  0.     0.111  0.022  1.44  -0.846 -0.075  0.246]]\n",
        "[[ 0.031  0.     0.111  0.022  1.44  -0.847 -0.075  0.246]]\n",
        "[[ 0.031  0.     0.111  0.022  1.441 -0.847 -0.075  0.246]]"
       ]
      },
      {
       "output_type": "stream",
       "stream": "stdout",
       "text": [
        "\n",
        "[[ 0.031  0.     0.111  0.022  1.442 -0.847 -0.075  0.246]]\n",
        "[[ 0.031  0.     0.111  0.022  1.442 -0.848 -0.075  0.246]]\n",
        "[[ 0.031  0.     0.111  0.022  1.443 -0.848 -0.075  0.246]]\n",
        "[[ 0.031  0.     0.111  0.022  1.444 -0.848 -0.075  0.246]]\n",
        "[[ 0.031  0.     0.111  0.022  1.444 -0.849 -0.075  0.246]]\n",
        "[[ 0.031  0.     0.111  0.022  1.445 -0.849 -0.075  0.246]]"
       ]
      },
      {
       "output_type": "stream",
       "stream": "stdout",
       "text": [
        "\n",
        "[[ 0.031  0.     0.111  0.022  1.446 -0.849 -0.075  0.246]]\n",
        "[[ 0.032  0.     0.111  0.022  1.446 -0.849 -0.075  0.246]]\n",
        "[[ 0.032  0.     0.111  0.022  1.447 -0.849 -0.075  0.246]]\n",
        "[[ 0.032  0.     0.111  0.022  1.447 -0.849 -0.075  0.245]]\n",
        "[[ 0.032  0.     0.111  0.022  1.448 -0.849 -0.075  0.245]]\n",
        "[[ 0.032  0.     0.111  0.022  1.449 -0.849 -0.075  0.245]]"
       ]
      },
      {
       "output_type": "stream",
       "stream": "stdout",
       "text": [
        "\n",
        "[[ 0.032  0.     0.111  0.022  1.45  -0.849 -0.075  0.245]]\n",
        "[[ 0.032  0.     0.111  0.022  1.45  -0.849 -0.076  0.245]]\n",
        "[[ 0.032  0.     0.111  0.022  1.451 -0.849 -0.076  0.245]]\n",
        "[[ 0.032  0.     0.111  0.022  1.452 -0.849 -0.076  0.245]]\n",
        "[[ 0.032  0.     0.111  0.022  1.453 -0.849 -0.076  0.245]]\n",
        "[[ 0.032  0.     0.111  0.022  1.454 -0.849 -0.076  0.245]]"
       ]
      },
      {
       "output_type": "stream",
       "stream": "stdout",
       "text": [
        "\n",
        "[[ 0.032  0.     0.111  0.022  1.454 -0.85  -0.076  0.245]]\n",
        "[[ 0.032  0.     0.111  0.022  1.455 -0.85  -0.076  0.245]]\n",
        "[[ 0.032  0.     0.111  0.022  1.456 -0.85  -0.076  0.245]]\n",
        "[[ 0.032  0.     0.111  0.022  1.456 -0.851 -0.076  0.245]]\n",
        "[[ 0.032  0.     0.111  0.022  1.457 -0.851 -0.076  0.245]]"
       ]
      },
      {
       "output_type": "stream",
       "stream": "stdout",
       "text": [
        "\n",
        "[[ 0.032  0.     0.111  0.022  1.458 -0.851 -0.076  0.245]]\n",
        "[[ 0.032  0.     0.111  0.022  1.459 -0.851 -0.076  0.245]]\n",
        "[[ 0.032  0.     0.111  0.022  1.459 -0.851 -0.076  0.244]]"
       ]
      },
      {
       "output_type": "stream",
       "stream": "stdout",
       "text": [
        "\n",
        "[[ 0.032  0.     0.111  0.022  1.46  -0.851 -0.076  0.244]]\n",
        "[[ 0.032  0.     0.111  0.022  1.461 -0.851 -0.076  0.244]]\n",
        "[[ 0.032  0.     0.111  0.022  1.462 -0.851 -0.076  0.244]]\n",
        "[[ 0.032  0.     0.111  0.022  1.462 -0.852 -0.076  0.244]]\n",
        "[[ 0.032  0.     0.111  0.022  1.463 -0.852 -0.076  0.244]]\n",
        "[[ 0.032  0.     0.111  0.022  1.464 -0.852 -0.076  0.244]]"
       ]
      },
      {
       "output_type": "stream",
       "stream": "stdout",
       "text": [
        "\n",
        "[[ 0.032  0.     0.111  0.022  1.464 -0.853 -0.076  0.244]]\n",
        "[[ 0.032  0.     0.111  0.022  1.465 -0.853 -0.076  0.244]]\n",
        "[[ 0.032  0.     0.111  0.022  1.466 -0.853 -0.076  0.244]]\n",
        "[[ 0.032  0.     0.111  0.022  1.466 -0.853 -0.076  0.243]]\n",
        "[[ 0.032  0.     0.111  0.022  1.467 -0.853 -0.076  0.243]]"
       ]
      },
      {
       "output_type": "stream",
       "stream": "stdout",
       "text": [
        "\n",
        "[[ 0.032  0.     0.111  0.022  1.468 -0.853 -0.076  0.243]]\n",
        "[[ 0.032  0.     0.111  0.022  1.469 -0.853 -0.076  0.243]]\n",
        "[[ 0.032  0.     0.111  0.022  1.47  -0.853 -0.076  0.243]]\n",
        "[[ 0.032  0.     0.111  0.022  1.47  -0.853 -0.077  0.243]]"
       ]
      },
      {
       "output_type": "stream",
       "stream": "stdout",
       "text": [
        "\n",
        "[[ 0.032  0.     0.111  0.022  1.471 -0.853 -0.077  0.243]]\n",
        "[[ 0.032  0.     0.111  0.022  1.472 -0.853 -0.077  0.243]]\n",
        "[[ 0.032  0.     0.111  0.022  1.473 -0.853 -0.077  0.243]]\n",
        "[[ 0.032  0.     0.111  0.022  1.474 -0.853 -0.077  0.243]]\n",
        "[[ 0.032  0.     0.111  0.022  1.474 -0.854 -0.077  0.243]]"
       ]
      },
      {
       "output_type": "stream",
       "stream": "stdout",
       "text": [
        "\n",
        "[[ 0.032  0.     0.111  0.022  1.475 -0.854 -0.077  0.243]]\n",
        "[[ 0.032  0.     0.111  0.022  1.476 -0.854 -0.077  0.243]]\n",
        "[[ 0.032  0.     0.111  0.022  1.476 -0.855 -0.077  0.243]]\n",
        "[[ 0.032  0.     0.111  0.022  1.477 -0.855 -0.077  0.243]]\n",
        "[[ 0.032  0.     0.111  0.022  1.478 -0.855 -0.077  0.243]]"
       ]
      },
      {
       "output_type": "stream",
       "stream": "stdout",
       "text": [
        "\n",
        "[[ 0.032  0.     0.111  0.022  1.478 -0.855 -0.077  0.242]]\n",
        "[[ 0.032  0.     0.111  0.022  1.479 -0.855 -0.077  0.242]]\n",
        "[[ 0.032  0.     0.111  0.022  1.48  -0.855 -0.077  0.242]]\n",
        "[[ 0.032  0.     0.111  0.022  1.481 -0.855 -0.077  0.242]]\n",
        "[[ 0.032  0.     0.111  0.022  1.482 -0.855 -0.077  0.242]]\n",
        "[[ 0.032  0.     0.111  0.022  1.482 -0.856 -0.077  0.242]]"
       ]
      },
      {
       "output_type": "stream",
       "stream": "stdout",
       "text": [
        "\n",
        "[[ 0.032  0.     0.111  0.022  1.483 -0.856 -0.077  0.242]]\n",
        "[[ 0.032  0.     0.111  0.022  1.484 -0.856 -0.077  0.242]]\n",
        "[[  3.20000000e-02  -1.00000000e-03   1.11000000e-01   2.20000000e-02\n",
        "    1.48400000e+00  -8.56000000e-01  -7.70000000e-02   2.42000000e-01]]\n",
        "[[  3.20000000e-02  -1.00000000e-03   1.11000000e-01   2.20000000e-02\n",
        "    1.48500000e+00  -8.56000000e-01  -7.70000000e-02   2.42000000e-01]]\n",
        "[[  3.20000000e-02  -1.00000000e-03   1.11000000e-01   2.20000000e-02\n",
        "    1.48600000e+00  -8.56000000e-01  -7.70000000e-02   2.42000000e-01]]\n",
        "[[  3.20000000e-02  -1.00000000e-03   1.11000000e-01   2.20000000e-02\n",
        "    1.48700000e+00  -8.56000000e-01  -7.70000000e-02   2.42000000e-01]]"
       ]
      },
      {
       "output_type": "stream",
       "stream": "stdout",
       "text": [
        "\n",
        "[[  3.20000000e-02  -1.00000000e-03   1.11000000e-01   2.20000000e-02\n",
        "    1.48800000e+00  -8.56000000e-01  -7.70000000e-02   2.42000000e-01]]\n",
        "[[  3.20000000e-02  -1.00000000e-03   1.11000000e-01   2.20000000e-02\n",
        "    1.48800000e+00  -8.56000000e-01  -7.80000000e-02   2.42000000e-01]]\n",
        "[[  3.20000000e-02  -1.00000000e-03   1.11000000e-01   2.20000000e-02\n",
        "    1.48900000e+00  -8.56000000e-01  -7.80000000e-02   2.42000000e-01]]\n",
        "[[  3.20000000e-02  -1.00000000e-03   1.11000000e-01   2.20000000e-02\n",
        "    1.49000000e+00  -8.56000000e-01  -7.80000000e-02   2.42000000e-01]]\n",
        "[[  3.20000000e-02  -1.00000000e-03   1.11000000e-01   2.20000000e-02\n",
        "    1.49100000e+00  -8.56000000e-01  -7.80000000e-02   2.42000000e-01]]\n",
        "[[  3.20000000e-02  -1.00000000e-03   1.11000000e-01   2.20000000e-02\n",
        "    1.49200000e+00  -8.56000000e-01  -7.80000000e-02   2.42000000e-01]]"
       ]
      },
      {
       "output_type": "stream",
       "stream": "stdout",
       "text": [
        "\n",
        "[[  3.20000000e-02  -1.00000000e-03   1.11000000e-01   2.20000000e-02\n",
        "    1.49200000e+00  -8.57000000e-01  -7.80000000e-02   2.42000000e-01]]\n",
        "[[  3.20000000e-02  -1.00000000e-03   1.11000000e-01   2.20000000e-02\n",
        "    1.49300000e+00  -8.57000000e-01  -7.80000000e-02   2.42000000e-01]]\n",
        "[[  3.20000000e-02  -1.00000000e-03   1.11000000e-01   2.20000000e-02\n",
        "    1.49400000e+00  -8.57000000e-01  -7.80000000e-02   2.42000000e-01]]\n",
        "[[  3.20000000e-02  -1.00000000e-03   1.11000000e-01   2.20000000e-02\n",
        "    1.49400000e+00  -8.57000000e-01  -7.80000000e-02   2.41000000e-01]]"
       ]
      },
      {
       "output_type": "stream",
       "stream": "stdout",
       "text": [
        "\n",
        "[[  3.20000000e-02  -1.00000000e-03   1.11000000e-01   2.20000000e-02\n",
        "    1.49500000e+00  -8.57000000e-01  -7.80000000e-02   2.41000000e-01]]\n",
        "[[  3.20000000e-02  -1.00000000e-03   1.11000000e-01   2.20000000e-02\n",
        "    1.49600000e+00  -8.57000000e-01  -7.80000000e-02   2.41000000e-01]]\n",
        "[[  3.20000000e-02  -1.00000000e-03   1.11000000e-01   2.20000000e-02\n",
        "    1.49700000e+00  -8.57000000e-01  -7.80000000e-02   2.41000000e-01]]\n",
        "[[  3.20000000e-02  -1.00000000e-03   1.11000000e-01   2.20000000e-02\n",
        "    1.49700000e+00  -8.58000000e-01  -7.80000000e-02   2.41000000e-01]]\n",
        "[[  3.20000000e-02  -1.00000000e-03   1.11000000e-01   2.20000000e-02\n",
        "    1.49800000e+00  -8.58000000e-01  -7.80000000e-02   2.41000000e-01]]\n",
        "[[  3.20000000e-02  -1.00000000e-03   1.11000000e-01   2.20000000e-02\n",
        "    1.49900000e+00  -8.58000000e-01  -7.80000000e-02   2.41000000e-01]]"
       ]
      },
      {
       "output_type": "stream",
       "stream": "stdout",
       "text": [
        "\n",
        "[[  3.20000000e-02  -1.00000000e-03   1.11000000e-01   2.20000000e-02\n",
        "    1.50000000e+00  -8.58000000e-01  -7.80000000e-02   2.41000000e-01]]\n",
        "[[  3.20000000e-02  -1.00000000e-03   1.11000000e-01   2.20000000e-02\n",
        "    1.50000000e+00  -8.58000000e-01  -7.80000000e-02   2.40000000e-01]]\n",
        "[[  3.20000000e-02  -1.00000000e-03   1.11000000e-01   2.20000000e-02\n",
        "    1.50100000e+00  -8.58000000e-01  -7.80000000e-02   2.40000000e-01]]\n",
        "[[  3.20000000e-02  -1.00000000e-03   1.11000000e-01   2.20000000e-02\n",
        "    1.50200000e+00  -8.58000000e-01  -7.80000000e-02   2.40000000e-01]]\n",
        "[[  3.20000000e-02  -1.00000000e-03   1.11000000e-01   2.20000000e-02\n",
        "    1.50300000e+00  -8.58000000e-01  -7.80000000e-02   2.40000000e-01]]\n",
        "[[  3.20000000e-02  -1.00000000e-03   1.11000000e-01   2.20000000e-02\n",
        "    1.50300000e+00  -8.59000000e-01  -7.80000000e-02   2.40000000e-01]]"
       ]
      },
      {
       "output_type": "stream",
       "stream": "stdout",
       "text": [
        "\n",
        "[[  3.20000000e-02  -1.00000000e-03   1.11000000e-01   2.20000000e-02\n",
        "    1.50400000e+00  -8.59000000e-01  -7.80000000e-02   2.40000000e-01]]\n",
        "[[  3.20000000e-02  -1.00000000e-03   1.11000000e-01   2.20000000e-02\n",
        "    1.50500000e+00  -8.59000000e-01  -7.80000000e-02   2.40000000e-01]]\n",
        "[[  3.20000000e-02  -1.00000000e-03   1.11000000e-01   2.20000000e-02\n",
        "    1.50500000e+00  -8.60000000e-01  -7.80000000e-02   2.40000000e-01]]\n",
        "[[  3.20000000e-02  -1.00000000e-03   1.11000000e-01   2.20000000e-02\n",
        "    1.50600000e+00  -8.60000000e-01  -7.80000000e-02   2.40000000e-01]]\n",
        "[[  3.20000000e-02  -1.00000000e-03   1.11000000e-01   2.20000000e-02\n",
        "    1.50700000e+00  -8.60000000e-01  -7.80000000e-02   2.40000000e-01]]\n",
        "[[  3.20000000e-02  -1.00000000e-03   1.11000000e-01   2.20000000e-02\n",
        "    1.50700000e+00  -8.61000000e-01  -7.80000000e-02   2.40000000e-01]]"
       ]
      },
      {
       "output_type": "stream",
       "stream": "stdout",
       "text": [
        "\n",
        "[[  3.20000000e-02  -1.00000000e-03   1.11000000e-01   2.20000000e-02\n",
        "    1.50800000e+00  -8.61000000e-01  -7.80000000e-02   2.40000000e-01]]\n",
        "[[  3.20000000e-02  -1.00000000e-03   1.11000000e-01   2.20000000e-02\n",
        "    1.50900000e+00  -8.61000000e-01  -7.80000000e-02   2.40000000e-01]]\n",
        "[[  3.20000000e-02  -1.00000000e-03   1.11000000e-01   2.20000000e-02\n",
        "    1.51000000e+00  -8.61000000e-01  -7.80000000e-02   2.40000000e-01]]\n",
        "[[  3.20000000e-02  -1.00000000e-03   1.11000000e-01   2.20000000e-02\n",
        "    1.51000000e+00  -8.61000000e-01  -7.90000000e-02   2.40000000e-01]]\n",
        "[[  3.20000000e-02  -1.00000000e-03   1.11000000e-01   2.20000000e-02\n",
        "    1.51100000e+00  -8.61000000e-01  -7.90000000e-02   2.40000000e-01]]\n",
        "[[  3.20000000e-02  -1.00000000e-03   1.11000000e-01   2.20000000e-02\n",
        "    1.51200000e+00  -8.61000000e-01  -7.90000000e-02   2.40000000e-01]]"
       ]
      },
      {
       "output_type": "stream",
       "stream": "stdout",
       "text": [
        "\n",
        "[[  3.20000000e-02  -1.00000000e-03   1.11000000e-01   2.20000000e-02\n",
        "    1.51300000e+00  -8.61000000e-01  -7.90000000e-02   2.40000000e-01]]\n",
        "[[  3.20000000e-02  -1.00000000e-03   1.11000000e-01   2.20000000e-02\n",
        "    1.51400000e+00  -8.61000000e-01  -7.90000000e-02   2.40000000e-01]]\n",
        "[[  3.20000000e-02  -1.00000000e-03   1.11000000e-01   2.20000000e-02\n",
        "    1.51400000e+00  -8.61000000e-01  -7.90000000e-02   2.39000000e-01]]\n",
        "[[  3.20000000e-02  -1.00000000e-03   1.11000000e-01   2.20000000e-02\n",
        "    1.51500000e+00  -8.61000000e-01  -7.90000000e-02   2.39000000e-01]]\n",
        "[[  3.20000000e-02  -1.00000000e-03   1.11000000e-01   2.20000000e-02\n",
        "    1.51600000e+00  -8.61000000e-01  -7.90000000e-02   2.39000000e-01]]\n",
        "[[  3.20000000e-02  -1.00000000e-03   1.11000000e-01   2.20000000e-02\n",
        "    1.51700000e+00  -8.61000000e-01  -7.90000000e-02   2.39000000e-01]]"
       ]
      },
      {
       "output_type": "stream",
       "stream": "stdout",
       "text": [
        "\n",
        "[[  3.20000000e-02  -1.00000000e-03   1.11000000e-01   2.20000000e-02\n",
        "    1.51700000e+00  -8.62000000e-01  -7.90000000e-02   2.39000000e-01]]\n",
        "[[  3.20000000e-02  -1.00000000e-03   1.11000000e-01   2.20000000e-02\n",
        "    1.51800000e+00  -8.62000000e-01  -7.90000000e-02   2.39000000e-01]]\n",
        "[[  3.20000000e-02  -1.00000000e-03   1.11000000e-01   2.20000000e-02\n",
        "    1.51900000e+00  -8.62000000e-01  -7.90000000e-02   2.39000000e-01]]\n",
        "[[  3.30000000e-02  -1.00000000e-03   1.11000000e-01   2.20000000e-02\n",
        "    1.51900000e+00  -8.62000000e-01  -7.90000000e-02   2.39000000e-01]]\n",
        "[[  3.30000000e-02  -1.00000000e-03   1.11000000e-01   2.20000000e-02\n",
        "    1.51900000e+00  -8.63000000e-01  -7.90000000e-02   2.39000000e-01]]\n",
        "[[  3.30000000e-02  -1.00000000e-03   1.11000000e-01   2.20000000e-02\n",
        "    1.52000000e+00  -8.63000000e-01  -7.90000000e-02   2.39000000e-01]]"
       ]
      },
      {
       "output_type": "stream",
       "stream": "stdout",
       "text": [
        "\n",
        "[[  3.30000000e-02  -1.00000000e-03   1.11000000e-01   2.20000000e-02\n",
        "    1.52100000e+00  -8.63000000e-01  -7.90000000e-02   2.39000000e-01]]\n",
        "[[  3.30000000e-02  -1.00000000e-03   1.11000000e-01   2.20000000e-02\n",
        "    1.52200000e+00  -8.63000000e-01  -7.90000000e-02   2.39000000e-01]]\n",
        "[[  3.30000000e-02  -1.00000000e-03   1.11000000e-01   2.20000000e-02\n",
        "    1.52200000e+00  -8.63000000e-01  -7.90000000e-02   2.38000000e-01]]\n",
        "[[  3.30000000e-02  -1.00000000e-03   1.11000000e-01   2.20000000e-02\n",
        "    1.52300000e+00  -8.63000000e-01  -7.90000000e-02   2.38000000e-01]]\n",
        "[[  3.30000000e-02  -1.00000000e-03   1.11000000e-01   2.20000000e-02\n",
        "    1.52400000e+00  -8.63000000e-01  -7.90000000e-02   2.38000000e-01]]\n",
        "[[  3.30000000e-02  -1.00000000e-03   1.11000000e-01   2.20000000e-02\n",
        "    1.52500000e+00  -8.63000000e-01  -7.90000000e-02   2.38000000e-01]]"
       ]
      },
      {
       "output_type": "stream",
       "stream": "stdout",
       "text": [
        "\n",
        "[[  3.30000000e-02  -1.00000000e-03   1.11000000e-01   2.20000000e-02\n",
        "    1.52500000e+00  -8.64000000e-01  -7.90000000e-02   2.38000000e-01]]\n",
        "[[  3.30000000e-02  -1.00000000e-03   1.11000000e-01   2.20000000e-02\n",
        "    1.52600000e+00  -8.64000000e-01  -7.90000000e-02   2.38000000e-01]]\n",
        "[[  3.30000000e-02  -1.00000000e-03   1.11000000e-01   2.20000000e-02\n",
        "    1.52700000e+00  -8.64000000e-01  -7.90000000e-02   2.38000000e-01]]\n",
        "[[  3.30000000e-02  -1.00000000e-03   1.11000000e-01   2.20000000e-02\n",
        "    1.52700000e+00  -8.65000000e-01  -7.90000000e-02   2.38000000e-01]]\n",
        "[[  3.30000000e-02  -1.00000000e-03   1.11000000e-01   2.20000000e-02\n",
        "    1.52800000e+00  -8.65000000e-01  -7.90000000e-02   2.38000000e-01]]\n",
        "[[  3.30000000e-02  -1.00000000e-03   1.11000000e-01   2.20000000e-02\n",
        "    1.52900000e+00  -8.65000000e-01  -7.90000000e-02   2.38000000e-01]]"
       ]
      },
      {
       "output_type": "stream",
       "stream": "stdout",
       "text": [
        "\n",
        "[[  3.30000000e-02  -1.00000000e-03   1.11000000e-01   2.20000000e-02\n",
        "    1.52900000e+00  -8.66000000e-01  -7.90000000e-02   2.38000000e-01]]\n",
        "[[  3.30000000e-02  -1.00000000e-03   1.11000000e-01   2.20000000e-02\n",
        "    1.53000000e+00  -8.66000000e-01  -7.90000000e-02   2.38000000e-01]]\n",
        "[[  3.30000000e-02  -1.00000000e-03   1.11000000e-01   2.20000000e-02\n",
        "    1.53100000e+00  -8.66000000e-01  -7.90000000e-02   2.38000000e-01]]\n",
        "[[  3.30000000e-02  -1.00000000e-03   1.11000000e-01   2.20000000e-02\n",
        "    1.53200000e+00  -8.66000000e-01  -7.90000000e-02   2.38000000e-01]]\n",
        "[[  3.30000000e-02  -1.00000000e-03   1.11000000e-01   2.20000000e-02\n",
        "    1.53200000e+00  -8.66000000e-01  -7.90000000e-02   2.37000000e-01]]\n",
        "[[  3.30000000e-02  -1.00000000e-03   1.11000000e-01   2.20000000e-02\n",
        "    1.53300000e+00  -8.66000000e-01  -7.90000000e-02   2.37000000e-01]]"
       ]
      },
      {
       "output_type": "stream",
       "stream": "stdout",
       "text": [
        "\n",
        "[[  3.30000000e-02  -1.00000000e-03   1.11000000e-01   2.20000000e-02\n",
        "    1.53400000e+00  -8.66000000e-01  -7.90000000e-02   2.37000000e-01]]\n",
        "[[  3.30000000e-02  -1.00000000e-03   1.11000000e-01   2.20000000e-02\n",
        "    1.53500000e+00  -8.66000000e-01  -7.90000000e-02   2.37000000e-01]]\n",
        "[[  3.30000000e-02  -1.00000000e-03   1.11000000e-01   2.20000000e-02\n",
        "    1.53500000e+00  -8.66000000e-01  -8.00000000e-02   2.37000000e-01]]\n",
        "[[  3.30000000e-02  -1.00000000e-03   1.12000000e-01   2.20000000e-02\n",
        "    1.53500000e+00  -8.66000000e-01  -8.00000000e-02   2.37000000e-01]]\n",
        "[[ 0.033 -0.002  0.112  0.022  1.535 -0.866 -0.08   0.237]]\n",
        "[[ 0.033 -0.002  0.112  0.022  1.536 -0.866 -0.08   0.237]]"
       ]
      },
      {
       "output_type": "stream",
       "stream": "stdout",
       "text": [
        "\n",
        "[[ 0.033 -0.002  0.112  0.022  1.537 -0.866 -0.08   0.237]]\n",
        "[[ 0.033 -0.002  0.112  0.022  1.538 -0.866 -0.08   0.237]]\n",
        "[[ 0.033 -0.002  0.112  0.022  1.538 -0.867 -0.08   0.237]]\n",
        "[[ 0.033 -0.002  0.112  0.022  1.539 -0.867 -0.08   0.237]]\n",
        "[[ 0.033 -0.002  0.112  0.022  1.54  -0.867 -0.08   0.237]]\n",
        "[[ 0.033 -0.002  0.112  0.022  1.541 -0.867 -0.08   0.237]]"
       ]
      },
      {
       "output_type": "stream",
       "stream": "stdout",
       "text": [
        "\n",
        "[[ 0.033 -0.002  0.112  0.022  1.541 -0.867 -0.08   0.236]]\n",
        "[[ 0.033 -0.002  0.112  0.022  1.542 -0.867 -0.08   0.236]]\n",
        "[[ 0.033 -0.002  0.112  0.022  1.543 -0.867 -0.08   0.236]]\n",
        "[[ 0.033 -0.002  0.112  0.022  1.544 -0.867 -0.08   0.236]]\n",
        "[[ 0.033 -0.002  0.112  0.022  1.544 -0.868 -0.08   0.236]]\n",
        "[[ 0.033 -0.002  0.112  0.022  1.545 -0.868 -0.08   0.236]]"
       ]
      },
      {
       "output_type": "stream",
       "stream": "stdout",
       "text": [
        "\n",
        "[[ 0.033 -0.002  0.112  0.022  1.546 -0.868 -0.08   0.236]]\n",
        "[[ 0.033 -0.002  0.112  0.022  1.546 -0.869 -0.08   0.236]]\n",
        "[[ 0.033 -0.002  0.112  0.022  1.547 -0.869 -0.08   0.236]]\n",
        "[[ 0.033 -0.002  0.112  0.022  1.548 -0.869 -0.08   0.236]]\n",
        "[[ 0.033 -0.002  0.112  0.022  1.548 -0.869 -0.08   0.235]]\n",
        "[[ 0.033 -0.002  0.112  0.022  1.549 -0.869 -0.08   0.235]]"
       ]
      },
      {
       "output_type": "stream",
       "stream": "stdout",
       "text": [
        "\n",
        "[[ 0.033 -0.002  0.112  0.022  1.55  -0.869 -0.08   0.235]]\n",
        "[[ 0.033 -0.002  0.112  0.022  1.551 -0.869 -0.08   0.235]]\n",
        "[[ 0.033 -0.002  0.112  0.022  1.552 -0.869 -0.08   0.235]]\n",
        "[[ 0.033 -0.002  0.112  0.022  1.552 -0.869 -0.081  0.235]]\n",
        "[[ 0.033 -0.002  0.112  0.022  1.553 -0.869 -0.081  0.235]]\n",
        "[[ 0.033 -0.002  0.112  0.022  1.554 -0.869 -0.081  0.235]]"
       ]
      },
      {
       "output_type": "stream",
       "stream": "stdout",
       "text": [
        "\n",
        "[[ 0.033 -0.002  0.112  0.022  1.555 -0.869 -0.081  0.235]]\n",
        "[[ 0.033 -0.002  0.112  0.022  1.556 -0.869 -0.081  0.235]]\n",
        "[[ 0.033 -0.002  0.112  0.022  1.556 -0.87  -0.081  0.235]]\n",
        "[[ 0.033 -0.002  0.112  0.022  1.557 -0.87  -0.081  0.235]]\n",
        "[[ 0.033 -0.002  0.112  0.022  1.558 -0.87  -0.081  0.235]]\n",
        "[[ 0.033 -0.002  0.112  0.022  1.558 -0.871 -0.081  0.235]]"
       ]
      },
      {
       "output_type": "stream",
       "stream": "stdout",
       "text": [
        "\n",
        "[[ 0.033 -0.002  0.112  0.022  1.559 -0.871 -0.081  0.235]]\n",
        "[[ 0.033 -0.002  0.112  0.022  1.56  -0.871 -0.081  0.235]]\n",
        "[[ 0.033 -0.002  0.112  0.022  1.56  -0.871 -0.081  0.234]]\n",
        "[[ 0.033 -0.002  0.112  0.022  1.561 -0.871 -0.081  0.234]]\n",
        "[[ 0.033 -0.002  0.112  0.022  1.562 -0.871 -0.081  0.234]]\n",
        "[[ 0.033 -0.002  0.112  0.022  1.563 -0.871 -0.081  0.234]]"
       ]
      },
      {
       "output_type": "stream",
       "stream": "stdout",
       "text": [
        "\n",
        "[[ 0.033 -0.002  0.112  0.022  1.564 -0.871 -0.081  0.234]]\n",
        "[[ 0.033 -0.002  0.112  0.022  1.564 -0.871 -0.082  0.234]]\n",
        "[[ 0.033 -0.002  0.113  0.022  1.564 -0.871 -0.082  0.234]]\n",
        "[[ 0.033 -0.003  0.113  0.022  1.564 -0.871 -0.082  0.234]]\n",
        "[[ 0.033 -0.003  0.113  0.022  1.565 -0.871 -0.082  0.234]]\n",
        "[[ 0.033 -0.003  0.113  0.022  1.566 -0.871 -0.082  0.234]]"
       ]
      },
      {
       "output_type": "stream",
       "stream": "stdout",
       "text": [
        "\n",
        "[[ 0.033 -0.003  0.113  0.022  1.567 -0.871 -0.082  0.234]]\n",
        "[[ 0.033 -0.003  0.113  0.022  1.567 -0.872 -0.082  0.234]]\n",
        "[[ 0.033 -0.003  0.113  0.022  1.568 -0.872 -0.082  0.234]]\n",
        "[[ 0.033 -0.003  0.113  0.022  1.569 -0.872 -0.082  0.234]]\n",
        "[[ 0.034 -0.003  0.113  0.022  1.569 -0.872 -0.082  0.234]]\n",
        "[[ 0.034 -0.003  0.113  0.022  1.57  -0.872 -0.082  0.234]]"
       ]
      },
      {
       "output_type": "stream",
       "stream": "stdout",
       "text": [
        "\n",
        "[[ 0.034 -0.003  0.113  0.022  1.57  -0.872 -0.082  0.233]]\n",
        "[[ 0.034 -0.003  0.113  0.022  1.571 -0.872 -0.082  0.233]]\n",
        "[[ 0.034 -0.003  0.113  0.022  1.572 -0.872 -0.082  0.233]]\n",
        "[[ 0.034 -0.003  0.113  0.022  1.573 -0.872 -0.082  0.233]]\n",
        "[[ 0.034 -0.003  0.113  0.022  1.573 -0.873 -0.082  0.233]]"
       ]
      },
      {
       "output_type": "stream",
       "stream": "stdout",
       "text": [
        "\n",
        "[[ 0.034 -0.003  0.113  0.022  1.574 -0.873 -0.082  0.233]]\n",
        "[[ 0.034 -0.003  0.113  0.022  1.575 -0.873 -0.082  0.233]]\n",
        "[[ 0.034 -0.003  0.113  0.022  1.575 -0.874 -0.082  0.233]]\n",
        "[[ 0.034 -0.003  0.113  0.022  1.576 -0.874 -0.082  0.233]]\n",
        "[[ 0.034 -0.003  0.113  0.022  1.577 -0.874 -0.082  0.233]]\n",
        "[[ 0.034 -0.003  0.113  0.022  1.577 -0.874 -0.082  0.232]]"
       ]
      },
      {
       "output_type": "stream",
       "stream": "stdout",
       "text": [
        "\n",
        "[[ 0.034 -0.003  0.113  0.022  1.578 -0.874 -0.082  0.232]]\n",
        "[[ 0.034 -0.003  0.113  0.022  1.579 -0.874 -0.082  0.232]]\n",
        "[[ 0.034 -0.003  0.113  0.022  1.58  -0.874 -0.082  0.232]]\n",
        "[[ 0.034 -0.003  0.113  0.022  1.58  -0.875 -0.082  0.232]]\n",
        "[[ 0.034 -0.003  0.113  0.022  1.581 -0.875 -0.082  0.232]]\n",
        "[[ 0.034 -0.003  0.113  0.022  1.582 -0.875 -0.082  0.232]]"
       ]
      },
      {
       "output_type": "stream",
       "stream": "stdout",
       "text": [
        "\n",
        "[[ 0.034 -0.003  0.113  0.022  1.583 -0.875 -0.082  0.232]]\n",
        "[[ 0.034 -0.003  0.113  0.022  1.583 -0.875 -0.083  0.232]]\n",
        "[[ 0.034 -0.003  0.113  0.022  1.584 -0.875 -0.083  0.232]]\n",
        "[[ 0.034 -0.003  0.113  0.022  1.585 -0.875 -0.083  0.232]]\n",
        "[[ 0.034 -0.003  0.113  0.022  1.586 -0.875 -0.083  0.232]]"
       ]
      },
      {
       "output_type": "stream",
       "stream": "stdout",
       "text": [
        "\n",
        "[[ 0.034 -0.003  0.113  0.022  1.587 -0.875 -0.083  0.232]]\n",
        "[[ 0.034 -0.003  0.113  0.022  1.587 -0.876 -0.083  0.232]]\n",
        "[[ 0.034 -0.003  0.113  0.022  1.588 -0.876 -0.083  0.232]]\n",
        "[[ 0.034 -0.003  0.113  0.022  1.589 -0.876 -0.083  0.232]]\n",
        "[[ 0.034 -0.003  0.113  0.022  1.589 -0.876 -0.083  0.231]]\n",
        "[[ 0.034 -0.003  0.113  0.022  1.59  -0.876 -0.083  0.231]]"
       ]
      },
      {
       "output_type": "stream",
       "stream": "stdout",
       "text": [
        "\n",
        "[[ 0.034 -0.003  0.113  0.022  1.591 -0.876 -0.083  0.231]]\n",
        "[[ 0.034 -0.003  0.113  0.022  1.592 -0.876 -0.083  0.231]]\n",
        "[[ 0.034 -0.003  0.113  0.022  1.593 -0.876 -0.083  0.231]]\n",
        "[[ 0.034 -0.003  0.113  0.022  1.593 -0.877 -0.083  0.231]]\n",
        "[[ 0.034 -0.003  0.113  0.022  1.594 -0.877 -0.083  0.231]]"
       ]
      },
      {
       "output_type": "stream",
       "stream": "stdout",
       "text": [
        "\n",
        "[[ 0.034 -0.003  0.113  0.022  1.595 -0.877 -0.083  0.231]]\n",
        "[[ 0.034 -0.003  0.113  0.022  1.595 -0.878 -0.083  0.231]]\n",
        "[[ 0.034 -0.003  0.113  0.022  1.596 -0.878 -0.083  0.231]]\n",
        "[[ 0.034 -0.003  0.113  0.022  1.597 -0.878 -0.083  0.231]]\n",
        "[[ 0.034 -0.003  0.113  0.022  1.597 -0.878 -0.083  0.23 ]]"
       ]
      },
      {
       "output_type": "stream",
       "stream": "stdout",
       "text": [
        "\n",
        "[[ 0.034 -0.003  0.113  0.022  1.598 -0.878 -0.083  0.23 ]]\n",
        "[[ 0.034 -0.003  0.113  0.022  1.599 -0.878 -0.083  0.23 ]]\n",
        "[[ 0.034 -0.003  0.113  0.022  1.6   -0.878 -0.083  0.23 ]]\n",
        "[[ 0.034 -0.003  0.113  0.022  1.6   -0.879 -0.083  0.23 ]]\n",
        "[[ 0.034 -0.003  0.113  0.022  1.601 -0.879 -0.083  0.23 ]]\n",
        "[[ 0.034 -0.003  0.113  0.022  1.602 -0.879 -0.083  0.23 ]]"
       ]
      },
      {
       "output_type": "stream",
       "stream": "stdout",
       "text": [
        "\n",
        "[[ 0.035 -0.003  0.113  0.022  1.602 -0.879 -0.083  0.23 ]]\n",
        "[[ 0.035 -0.003  0.113  0.022  1.602 -0.88  -0.083  0.23 ]]\n",
        "[[ 0.035 -0.003  0.113  0.022  1.603 -0.88  -0.083  0.23 ]]\n",
        "[[ 0.035 -0.003  0.113  0.022  1.604 -0.88  -0.083  0.23 ]]\n",
        "[[ 0.035 -0.003  0.113  0.022  1.605 -0.88  -0.083  0.23 ]]\n",
        "[[ 0.035 -0.003  0.113  0.022  1.605 -0.88  -0.084  0.23 ]]"
       ]
      },
      {
       "output_type": "stream",
       "stream": "stdout",
       "text": [
        "\n",
        "[[ 0.035 -0.003  0.113  0.022  1.606 -0.88  -0.084  0.23 ]]\n",
        "[[ 0.035 -0.003  0.113  0.022  1.607 -0.88  -0.084  0.23 ]]\n",
        "[[ 0.035 -0.003  0.113  0.022  1.608 -0.88  -0.084  0.23 ]]\n",
        "[[ 0.035 -0.003  0.113  0.022  1.609 -0.88  -0.084  0.23 ]]\n",
        "[[ 0.035 -0.003  0.113  0.022  1.609 -0.88  -0.084  0.229]]"
       ]
      },
      {
       "output_type": "stream",
       "stream": "stdout",
       "text": [
        "\n",
        "[[ 0.035 -0.003  0.113  0.022  1.61  -0.88  -0.084  0.229]]\n",
        "[[ 0.035 -0.003  0.113  0.022  1.611 -0.88  -0.084  0.229]]\n",
        "[[ 0.035 -0.003  0.113  0.022  1.612 -0.88  -0.084  0.229]]\n",
        "[[ 0.035 -0.003  0.113  0.022  1.612 -0.881 -0.084  0.229]]\n",
        "[[ 0.035 -0.003  0.113  0.022  1.613 -0.881 -0.084  0.229]]"
       ]
      },
      {
       "output_type": "stream",
       "stream": "stdout",
       "text": [
        "\n",
        "[[ 0.035 -0.003  0.113  0.022  1.614 -0.881 -0.084  0.229]]\n",
        "[[ 0.035 -0.003  0.113  0.022  1.615 -0.881 -0.084  0.229]]\n",
        "[[ 0.035 -0.003  0.113  0.022  1.615 -0.881 -0.084  0.228]]\n",
        "[[ 0.035 -0.003  0.113  0.022  1.616 -0.881 -0.084  0.228]]\n",
        "[[ 0.035 -0.003  0.113  0.022  1.617 -0.881 -0.084  0.228]]\n",
        "[[ 0.035 -0.003  0.113  0.022  1.618 -0.881 -0.084  0.228]]"
       ]
      },
      {
       "output_type": "stream",
       "stream": "stdout",
       "text": [
        "\n",
        "[[ 0.035 -0.003  0.113  0.022  1.618 -0.882 -0.084  0.228]]\n",
        "[[ 0.035 -0.003  0.113  0.022  1.619 -0.882 -0.084  0.228]]\n",
        "[[ 0.035 -0.003  0.113  0.022  1.62  -0.882 -0.084  0.228]]\n",
        "[[ 0.035 -0.003  0.113  0.022  1.62  -0.883 -0.084  0.228]]\n",
        "[[ 0.035 -0.003  0.113  0.022  1.621 -0.883 -0.084  0.228]]\n",
        "[[ 0.035 -0.003  0.113  0.022  1.622 -0.883 -0.084  0.228]]"
       ]
      },
      {
       "output_type": "stream",
       "stream": "stdout",
       "text": [
        "\n",
        "[[ 0.035 -0.003  0.113  0.022  1.622 -0.884 -0.084  0.228]]\n",
        "[[ 0.035 -0.003  0.113  0.022  1.623 -0.884 -0.084  0.228]]\n",
        "[[ 0.035 -0.003  0.113  0.022  1.624 -0.884 -0.084  0.228]]\n",
        "[[ 0.035 -0.003  0.113  0.022  1.624 -0.885 -0.084  0.228]]\n",
        "[[ 0.035 -0.003  0.113  0.022  1.625 -0.885 -0.084  0.228]]\n",
        "[[ 0.035 -0.003  0.113  0.022  1.626 -0.885 -0.084  0.228]]"
       ]
      },
      {
       "output_type": "stream",
       "stream": "stdout",
       "text": [
        "\n",
        "[[ 0.035 -0.003  0.113  0.022  1.627 -0.885 -0.084  0.228]]\n",
        "[[ 0.035 -0.003  0.113  0.022  1.627 -0.885 -0.085  0.228]]\n",
        "[[ 0.035 -0.003  0.113  0.022  1.628 -0.885 -0.085  0.228]]\n",
        "[[ 0.035 -0.003  0.113  0.022  1.629 -0.885 -0.085  0.228]]\n",
        "[[ 0.035 -0.003  0.113  0.022  1.63  -0.885 -0.085  0.228]]\n",
        "[[ 0.035 -0.003  0.113  0.022  1.631 -0.885 -0.085  0.228]]"
       ]
      },
      {
       "output_type": "stream",
       "stream": "stdout",
       "text": [
        "\n",
        "[[ 0.035 -0.003  0.113  0.022  1.631 -0.885 -0.085  0.227]]\n",
        "[[ 0.035 -0.003  0.113  0.022  1.632 -0.885 -0.085  0.227]]\n",
        "[[ 0.035 -0.003  0.113  0.022  1.633 -0.885 -0.085  0.227]]\n",
        "[[ 0.035 -0.003  0.113  0.022  1.634 -0.885 -0.085  0.227]]\n",
        "[[ 0.035 -0.003  0.113  0.022  1.634 -0.886 -0.085  0.227]]\n",
        "[[ 0.035 -0.003  0.113  0.022  1.635 -0.886 -0.085  0.227]]"
       ]
      },
      {
       "output_type": "stream",
       "stream": "stdout",
       "text": [
        "\n",
        "[[ 0.035 -0.003  0.113  0.022  1.636 -0.886 -0.085  0.227]]\n",
        "[[ 0.036 -0.003  0.113  0.022  1.636 -0.886 -0.085  0.227]]\n",
        "[[ 0.036 -0.003  0.113  0.022  1.637 -0.886 -0.085  0.227]]\n",
        "[[ 0.036 -0.003  0.113  0.022  1.637 -0.886 -0.085  0.226]]\n",
        "[[ 0.036 -0.003  0.113  0.022  1.638 -0.886 -0.085  0.226]]\n",
        "[[ 0.036 -0.003  0.113  0.022  1.639 -0.886 -0.085  0.226]]"
       ]
      },
      {
       "output_type": "stream",
       "stream": "stdout",
       "text": [
        "\n",
        "[[ 0.036 -0.003  0.113  0.022  1.64  -0.886 -0.085  0.226]]\n",
        "[[ 0.036 -0.003  0.113  0.022  1.64  -0.887 -0.085  0.226]]\n",
        "[[ 0.036 -0.003  0.113  0.022  1.641 -0.887 -0.085  0.226]]\n",
        "[[ 0.036 -0.003  0.113  0.022  1.642 -0.887 -0.085  0.226]]\n",
        "[[ 0.036 -0.003  0.113  0.022  1.642 -0.888 -0.085  0.226]]\n",
        "[[ 0.036 -0.003  0.113  0.022  1.643 -0.888 -0.085  0.226]]"
       ]
      },
      {
       "output_type": "stream",
       "stream": "stdout",
       "text": [
        "\n",
        "[[ 0.036 -0.003  0.113  0.022  1.644 -0.888 -0.085  0.226]]\n",
        "[[ 0.036 -0.003  0.113  0.022  1.644 -0.888 -0.085  0.225]]\n",
        "[[ 0.036 -0.003  0.113  0.022  1.645 -0.888 -0.085  0.225]]\n",
        "[[ 0.036 -0.003  0.113  0.022  1.646 -0.888 -0.085  0.225]]\n",
        "[[ 0.036 -0.003  0.113  0.022  1.647 -0.888 -0.085  0.225]]"
       ]
      },
      {
       "output_type": "stream",
       "stream": "stdout",
       "text": [
        "\n",
        "[[ 0.036 -0.003  0.113  0.022  1.648 -0.888 -0.085  0.225]]\n",
        "[[ 0.036 -0.003  0.113  0.022  1.648 -0.888 -0.086  0.225]]\n",
        "[[ 0.036 -0.003  0.113  0.022  1.649 -0.888 -0.086  0.225]]\n",
        "[[ 0.036 -0.003  0.113  0.022  1.65  -0.888 -0.086  0.225]]\n",
        "[[ 0.036 -0.003  0.113  0.022  1.651 -0.888 -0.086  0.225]]"
       ]
      },
      {
       "output_type": "stream",
       "stream": "stdout",
       "text": [
        "\n",
        "[[ 0.036 -0.003  0.113  0.022  1.652 -0.888 -0.086  0.225]]\n",
        "[[ 0.036 -0.003  0.113  0.022  1.652 -0.889 -0.086  0.225]]\n",
        "[[ 0.036 -0.003  0.113  0.022  1.653 -0.889 -0.086  0.225]]\n",
        "[[ 0.036 -0.003  0.113  0.022  1.654 -0.889 -0.086  0.225]]\n",
        "[[ 0.036 -0.003  0.113  0.022  1.654 -0.89  -0.086  0.225]]\n",
        "[[ 0.036 -0.003  0.113  0.022  1.655 -0.89  -0.086  0.225]]"
       ]
      },
      {
       "output_type": "stream",
       "stream": "stdout",
       "text": [
        "\n",
        "[[ 0.036 -0.003  0.113  0.022  1.656 -0.89  -0.086  0.225]]\n",
        "[[ 0.036 -0.003  0.113  0.022  1.656 -0.89  -0.086  0.224]]\n",
        "[[ 0.036 -0.003  0.113  0.022  1.657 -0.89  -0.086  0.224]]\n",
        "[[ 0.036 -0.003  0.113  0.022  1.658 -0.89  -0.086  0.224]]\n",
        "[[ 0.036 -0.003  0.113  0.022  1.659 -0.89  -0.086  0.224]]\n",
        "[[ 0.036 -0.003  0.113  0.022  1.66  -0.89  -0.086  0.224]]"
       ]
      },
      {
       "output_type": "stream",
       "stream": "stdout",
       "text": [
        "\n",
        "[[ 0.036 -0.003  0.113  0.022  1.66  -0.89  -0.087  0.224]]\n",
        "[[ 0.036 -0.003  0.113  0.022  1.661 -0.89  -0.087  0.224]]\n",
        "[[ 0.036 -0.003  0.113  0.022  1.662 -0.89  -0.087  0.224]]\n",
        "[[ 0.036 -0.003  0.113  0.022  1.663 -0.89  -0.087  0.224]]\n",
        "[[ 0.036 -0.003  0.113  0.022  1.664 -0.89  -0.087  0.224]]\n",
        "[[ 0.036 -0.003  0.113  0.022  1.664 -0.891 -0.087  0.224]]"
       ]
      },
      {
       "output_type": "stream",
       "stream": "stdout",
       "text": [
        "\n",
        "[[ 0.036 -0.003  0.113  0.022  1.665 -0.891 -0.087  0.224]]\n",
        "[[ 0.036 -0.003  0.113  0.022  1.666 -0.891 -0.087  0.224]]\n",
        "[[ 0.036 -0.003  0.113  0.022  1.666 -0.892 -0.087  0.224]]\n",
        "[[ 0.036 -0.003  0.113  0.022  1.667 -0.892 -0.087  0.224]]\n",
        "[[ 0.036 -0.003  0.113  0.022  1.668 -0.892 -0.087  0.224]]\n",
        "[[ 0.036 -0.003  0.113  0.022  1.668 -0.892 -0.087  0.223]]"
       ]
      },
      {
       "output_type": "stream",
       "stream": "stdout",
       "text": [
        "\n",
        "[[ 0.036 -0.003  0.113  0.022  1.669 -0.892 -0.087  0.223]]\n",
        "[[ 0.036 -0.003  0.113  0.022  1.67  -0.892 -0.087  0.223]]\n",
        "[[ 0.036 -0.003  0.113  0.022  1.671 -0.892 -0.087  0.223]]\n",
        "[[ 0.036 -0.003  0.113  0.022  1.672 -0.892 -0.087  0.223]]\n",
        "[[ 0.036 -0.003  0.113  0.022  1.672 -0.893 -0.087  0.223]]"
       ]
      },
      {
       "output_type": "stream",
       "stream": "stdout",
       "text": [
        "\n",
        "[[ 0.036 -0.003  0.113  0.022  1.673 -0.893 -0.087  0.223]]\n",
        "[[ 0.036 -0.003  0.113  0.022  1.674 -0.893 -0.087  0.223]]\n",
        "[[ 0.036 -0.003  0.113  0.022  1.674 -0.893 -0.087  0.222]]\n",
        "[[ 0.036 -0.003  0.113  0.022  1.675 -0.893 -0.087  0.222]]\n",
        "[[ 0.036 -0.003  0.113  0.022  1.676 -0.893 -0.087  0.222]]\n",
        "[[ 0.036 -0.003  0.113  0.022  1.677 -0.893 -0.087  0.222]]"
       ]
      },
      {
       "output_type": "stream",
       "stream": "stdout",
       "text": [
        "\n",
        "[[ 0.036 -0.003  0.113  0.022  1.677 -0.894 -0.087  0.222]]\n",
        "[[ 0.036 -0.003  0.113  0.022  1.678 -0.894 -0.087  0.222]]\n",
        "[[ 0.036 -0.003  0.113  0.022  1.679 -0.894 -0.087  0.222]]\n",
        "[[ 0.036 -0.003  0.113  0.022  1.679 -0.895 -0.087  0.222]]\n",
        "[[ 0.036 -0.003  0.113  0.022  1.68  -0.895 -0.087  0.222]]"
       ]
      },
      {
       "output_type": "stream",
       "stream": "stdout",
       "text": [
        "\n",
        "[[ 0.036 -0.003  0.113  0.022  1.681 -0.895 -0.087  0.222]]\n",
        "[[ 0.036 -0.003  0.113  0.022  1.682 -0.895 -0.087  0.222]]\n",
        "[[ 0.036 -0.003  0.113  0.022  1.682 -0.895 -0.088  0.222]]\n",
        "[[ 0.036 -0.003  0.113  0.022  1.683 -0.895 -0.088  0.222]]\n",
        "[[ 0.036 -0.003  0.113  0.022  1.684 -0.895 -0.088  0.222]]\n",
        "[[ 0.036 -0.003  0.113  0.022  1.685 -0.895 -0.088  0.222]]"
       ]
      },
      {
       "output_type": "stream",
       "stream": "stdout",
       "text": [
        "\n",
        "[[ 0.036 -0.003  0.113  0.022  1.686 -0.895 -0.088  0.222]]\n",
        "[[ 0.036 -0.003  0.113  0.022  1.686 -0.895 -0.088  0.221]]\n",
        "[[ 0.036 -0.003  0.113  0.022  1.687 -0.895 -0.088  0.221]]\n",
        "[[ 0.036 -0.003  0.113  0.022  1.688 -0.895 -0.088  0.221]]\n",
        "[[ 0.036 -0.003  0.113  0.022  1.689 -0.895 -0.088  0.221]]\n",
        "[[ 0.036 -0.003  0.113  0.022  1.689 -0.896 -0.088  0.221]]"
       ]
      },
      {
       "output_type": "stream",
       "stream": "stdout",
       "text": [
        "\n",
        "[[ 0.036 -0.003  0.113  0.022  1.69  -0.896 -0.088  0.221]]\n",
        "[[ 0.036 -0.003  0.113  0.022  1.691 -0.896 -0.088  0.221]]\n",
        "[[ 0.036 -0.003  0.113  0.022  1.691 -0.897 -0.088  0.221]]\n",
        "[[ 0.036 -0.003  0.113  0.022  1.692 -0.897 -0.088  0.221]]\n",
        "[[ 0.036 -0.003  0.113  0.022  1.693 -0.897 -0.088  0.221]]\n",
        "[[ 0.036 -0.003  0.113  0.022  1.694 -0.897 -0.088  0.221]]"
       ]
      },
      {
       "output_type": "stream",
       "stream": "stdout",
       "text": [
        "\n",
        "[[ 0.036 -0.003  0.113  0.022  1.694 -0.897 -0.089  0.221]]\n",
        "[[ 0.036 -0.003  0.114  0.022  1.694 -0.897 -0.089  0.221]]\n",
        "[[ 0.036 -0.004  0.114  0.022  1.694 -0.897 -0.089  0.221]]\n",
        "[[ 0.036 -0.004  0.114  0.022  1.695 -0.897 -0.089  0.221]]\n",
        "[[ 0.036 -0.004  0.114  0.022  1.696 -0.897 -0.089  0.221]]\n",
        "[[ 0.036 -0.004  0.114  0.022  1.697 -0.897 -0.089  0.221]]"
       ]
      },
      {
       "output_type": "stream",
       "stream": "stdout",
       "text": [
        "\n",
        "[[ 0.036 -0.004  0.114  0.022  1.697 -0.897 -0.089  0.22 ]]\n",
        "[[ 0.036 -0.004  0.114  0.022  1.698 -0.897 -0.089  0.22 ]]\n",
        "[[ 0.036 -0.004  0.114  0.022  1.699 -0.897 -0.089  0.22 ]]\n",
        "[[ 0.036 -0.004  0.114  0.022  1.7   -0.897 -0.089  0.22 ]]\n",
        "[[ 0.036 -0.004  0.114  0.022  1.7   -0.898 -0.089  0.22 ]]\n",
        "[[ 0.036 -0.004  0.114  0.022  1.701 -0.898 -0.089  0.22 ]]"
       ]
      },
      {
       "output_type": "stream",
       "stream": "stdout",
       "text": [
        "\n",
        "[[ 0.036 -0.004  0.114  0.022  1.702 -0.898 -0.089  0.22 ]]\n",
        "[[ 0.036 -0.004  0.114  0.022  1.703 -0.898 -0.089  0.22 ]]\n",
        "[[ 0.036 -0.004  0.114  0.022  1.703 -0.899 -0.089  0.22 ]]\n",
        "[[ 0.036 -0.004  0.114  0.022  1.704 -0.899 -0.089  0.22 ]]\n",
        "[[ 0.036 -0.004  0.114  0.022  1.705 -0.899 -0.089  0.22 ]]\n",
        "[[ 0.036 -0.004  0.114  0.022  1.705 -0.899 -0.089  0.219]]"
       ]
      },
      {
       "output_type": "stream",
       "stream": "stdout",
       "text": [
        "\n",
        "[[ 0.036 -0.004  0.114  0.022  1.706 -0.899 -0.089  0.219]]\n",
        "[[ 0.036 -0.004  0.114  0.022  1.707 -0.899 -0.089  0.219]]\n",
        "[[ 0.036 -0.004  0.114  0.022  1.708 -0.899 -0.089  0.219]]\n",
        "[[ 0.036 -0.004  0.114  0.022  1.708 -0.9   -0.089  0.219]]\n",
        "[[ 0.036 -0.004  0.114  0.022  1.709 -0.9   -0.089  0.219]]"
       ]
      },
      {
       "output_type": "stream",
       "stream": "stdout",
       "text": [
        "\n",
        "[[ 0.036 -0.004  0.114  0.022  1.71  -0.9   -0.089  0.219]]\n",
        "[[ 0.036 -0.004  0.114  0.022  1.71  -0.901 -0.089  0.219]]\n",
        "[[ 0.036 -0.004  0.114  0.022  1.711 -0.901 -0.089  0.219]]\n",
        "[[ 0.036 -0.004  0.114  0.022  1.712 -0.901 -0.089  0.219]]\n",
        "[[ 0.037 -0.004  0.114  0.022  1.712 -0.901 -0.089  0.219]]\n",
        "[[ 0.037 -0.004  0.114  0.022  1.713 -0.901 -0.089  0.219]]"
       ]
      },
      {
       "output_type": "stream",
       "stream": "stdout",
       "text": [
        "\n",
        "[[ 0.037 -0.004  0.114  0.022  1.713 -0.901 -0.089  0.218]]\n",
        "[[ 0.037 -0.004  0.114  0.022  1.714 -0.901 -0.089  0.218]]\n",
        "[[ 0.037 -0.004  0.114  0.022  1.715 -0.901 -0.089  0.218]]\n",
        "[[ 0.037 -0.004  0.114  0.022  1.716 -0.901 -0.089  0.218]]\n",
        "[[ 0.037 -0.004  0.114  0.022  1.716 -0.902 -0.089  0.218]]"
       ]
      },
      {
       "output_type": "stream",
       "stream": "stdout",
       "text": [
        "\n",
        "[[ 0.037 -0.004  0.114  0.022  1.717 -0.902 -0.089  0.218]]\n",
        "[[ 0.037 -0.004  0.114  0.022  1.718 -0.902 -0.089  0.218]]\n",
        "[[ 0.037 -0.004  0.114  0.022  1.718 -0.903 -0.089  0.218]]\n",
        "[[ 0.037 -0.004  0.114  0.022  1.719 -0.903 -0.089  0.218]]\n",
        "[[ 0.037 -0.004  0.114  0.022  1.72  -0.903 -0.089  0.218]]"
       ]
      },
      {
       "output_type": "stream",
       "stream": "stdout",
       "text": [
        "\n",
        "[[ 0.037 -0.004  0.114  0.022  1.72  -0.904 -0.089  0.218]]\n",
        "[[ 0.037 -0.004  0.114  0.022  1.721 -0.904 -0.089  0.218]]\n",
        "[[ 0.037 -0.004  0.114  0.022  1.722 -0.904 -0.089  0.218]]\n",
        "[[ 0.038 -0.004  0.114  0.022  1.722 -0.904 -0.089  0.218]]\n",
        "[[ 0.038 -0.004  0.114  0.022  1.723 -0.904 -0.089  0.218]]\n",
        "[[ 0.038 -0.004  0.114  0.022  1.723 -0.904 -0.09   0.218]]"
       ]
      },
      {
       "output_type": "stream",
       "stream": "stdout",
       "text": [
        "\n",
        "[[ 0.038 -0.004  0.114  0.022  1.724 -0.904 -0.09   0.218]]\n",
        "[[ 0.038 -0.004  0.114  0.022  1.725 -0.904 -0.09   0.218]]\n",
        "[[ 0.038 -0.004  0.114  0.022  1.726 -0.904 -0.09   0.218]]\n",
        "[[ 0.038 -0.004  0.114  0.022  1.727 -0.904 -0.09   0.218]]\n",
        "[[ 0.038 -0.004  0.114  0.022  1.727 -0.904 -0.09   0.217]]\n",
        "[[ 0.038 -0.004  0.114  0.022  1.728 -0.904 -0.09   0.217]]"
       ]
      },
      {
       "output_type": "stream",
       "stream": "stdout",
       "text": [
        "\n",
        "[[ 0.038 -0.004  0.114  0.022  1.729 -0.904 -0.09   0.217]]\n",
        "[[ 0.038 -0.004  0.114  0.022  1.73  -0.904 -0.09   0.217]]\n",
        "[[ 0.038 -0.004  0.114  0.022  1.73  -0.905 -0.09   0.217]]\n",
        "[[ 0.038 -0.004  0.114  0.022  1.731 -0.905 -0.09   0.217]]\n",
        "[[ 0.038 -0.004  0.114  0.022  1.732 -0.905 -0.09   0.217]]\n",
        "[[ 0.038 -0.004  0.114  0.022  1.732 -0.906 -0.09   0.217]]"
       ]
      },
      {
       "output_type": "stream",
       "stream": "stdout",
       "text": [
        "\n",
        "[[ 0.038 -0.004  0.114  0.022  1.733 -0.906 -0.09   0.217]]\n",
        "[[ 0.038 -0.004  0.114  0.022  1.734 -0.906 -0.09   0.217]]\n",
        "[[ 0.038 -0.004  0.114  0.022  1.735 -0.906 -0.09   0.217]]\n",
        "[[ 0.038 -0.004  0.114  0.022  1.735 -0.906 -0.09   0.216]]\n",
        "[[ 0.038 -0.004  0.114  0.022  1.736 -0.906 -0.09   0.216]]\n",
        "[[ 0.038 -0.004  0.114  0.022  1.737 -0.906 -0.09   0.216]]"
       ]
      },
      {
       "output_type": "stream",
       "stream": "stdout",
       "text": [
        "\n",
        "[[ 0.038 -0.004  0.114  0.022  1.738 -0.906 -0.09   0.216]]\n",
        "[[ 0.038 -0.004  0.114  0.022  1.738 -0.906 -0.091  0.216]]\n",
        "[[ 0.038 -0.004  0.115  0.022  1.738 -0.906 -0.091  0.216]]\n",
        "[[ 0.038 -0.005  0.115  0.022  1.738 -0.906 -0.091  0.216]]\n",
        "[[ 0.038 -0.005  0.115  0.022  1.739 -0.906 -0.091  0.216]]\n",
        "[[ 0.038 -0.005  0.115  0.022  1.74  -0.906 -0.091  0.216]]"
       ]
      },
      {
       "output_type": "stream",
       "stream": "stdout",
       "text": [
        "\n",
        "[[ 0.038 -0.005  0.115  0.022  1.741 -0.906 -0.091  0.216]]\n",
        "[[ 0.038 -0.005  0.115  0.022  1.741 -0.907 -0.091  0.216]]\n",
        "[[ 0.038 -0.005  0.115  0.022  1.742 -0.907 -0.091  0.216]]\n",
        "[[ 0.038 -0.005  0.115  0.022  1.743 -0.907 -0.091  0.216]]\n",
        "[[ 0.038 -0.005  0.115  0.022  1.744 -0.907 -0.091  0.216]]\n",
        "[[ 0.038 -0.005  0.115  0.022  1.744 -0.907 -0.091  0.215]]"
       ]
      },
      {
       "output_type": "stream",
       "stream": "stdout",
       "text": [
        "\n",
        "[[ 0.038 -0.005  0.115  0.022  1.745 -0.907 -0.091  0.215]]\n",
        "[[ 0.038 -0.005  0.115  0.022  1.746 -0.907 -0.091  0.215]]\n",
        "[[ 0.038 -0.005  0.115  0.022  1.747 -0.907 -0.091  0.215]]\n",
        "[[ 0.038 -0.005  0.115  0.022  1.747 -0.908 -0.091  0.215]]\n",
        "[[ 0.038 -0.005  0.115  0.022  1.748 -0.908 -0.091  0.215]]\n",
        "[[ 0.038 -0.005  0.115  0.022  1.749 -0.908 -0.091  0.215]]"
       ]
      },
      {
       "output_type": "stream",
       "stream": "stdout",
       "text": [
        "\n",
        "[[ 0.038 -0.005  0.115  0.022  1.749 -0.909 -0.091  0.215]]\n",
        "[[ 0.038 -0.005  0.115  0.022  1.75  -0.909 -0.091  0.215]]\n",
        "[[ 0.038 -0.005  0.115  0.022  1.751 -0.909 -0.091  0.215]]\n",
        "[[ 0.038 -0.005  0.115  0.022  1.751 -0.91  -0.091  0.215]]\n",
        "[[ 0.038 -0.005  0.115  0.022  1.752 -0.91  -0.091  0.215]]\n",
        "[[ 0.038 -0.005  0.115  0.022  1.753 -0.91  -0.091  0.215]]"
       ]
      },
      {
       "output_type": "stream",
       "stream": "stdout",
       "text": [
        "\n",
        "[[ 0.038 -0.005  0.115  0.022  1.753 -0.91  -0.091  0.214]]\n",
        "[[ 0.038 -0.005  0.115  0.022  1.754 -0.91  -0.091  0.214]]\n",
        "[[ 0.038 -0.005  0.115  0.022  1.755 -0.91  -0.091  0.214]]\n",
        "[[ 0.038 -0.005  0.115  0.022  1.756 -0.91  -0.091  0.214]]\n",
        "[[ 0.038 -0.005  0.115  0.022  1.757 -0.91  -0.091  0.214]]\n",
        "[[ 0.038 -0.005  0.115  0.022  1.757 -0.91  -0.092  0.214]]"
       ]
      },
      {
       "output_type": "stream",
       "stream": "stdout",
       "text": [
        "\n",
        "[[ 0.038 -0.005  0.116  0.022  1.757 -0.91  -0.092  0.214]]\n",
        "[[ 0.038 -0.006  0.116  0.022  1.757 -0.91  -0.092  0.214]]\n",
        "[[ 0.038 -0.006  0.116  0.022  1.758 -0.91  -0.092  0.214]]"
       ]
      },
      {
       "output_type": "stream",
       "stream": "stdout",
       "text": [
        "\n",
        "[[ 0.038 -0.006  0.116  0.022  1.759 -0.91  -0.092  0.214]]\n",
        "[[ 0.038 -0.006  0.116  0.022  1.76  -0.91  -0.092  0.214]]\n",
        "[[ 0.038 -0.006  0.116  0.022  1.76  -0.911 -0.092  0.214]]\n",
        "[[ 0.038 -0.006  0.116  0.022  1.761 -0.911 -0.092  0.214]]"
       ]
      },
      {
       "output_type": "stream",
       "stream": "stdout",
       "text": [
        "\n",
        "[[ 0.038 -0.006  0.116  0.022  1.762 -0.911 -0.092  0.214]]\n",
        "[[ 0.038 -0.006  0.116  0.022  1.763 -0.911 -0.092  0.214]]\n",
        "[[ 0.038 -0.006  0.116  0.022  1.763 -0.911 -0.092  0.213]]\n",
        "[[ 0.038 -0.006  0.116  0.022  1.764 -0.911 -0.092  0.213]]\n",
        "[[ 0.038 -0.006  0.116  0.022  1.765 -0.911 -0.092  0.213]]"
       ]
      },
      {
       "output_type": "stream",
       "stream": "stdout",
       "text": [
        "\n",
        "[[ 0.038 -0.006  0.116  0.022  1.766 -0.911 -0.092  0.213]]\n",
        "[[ 0.038 -0.006  0.116  0.022  1.766 -0.912 -0.092  0.213]]\n",
        "[[ 0.038 -0.006  0.116  0.022  1.767 -0.912 -0.092  0.213]]\n",
        "[[ 0.038 -0.006  0.116  0.022  1.768 -0.912 -0.092  0.213]]\n",
        "[[ 0.038 -0.006  0.116  0.022  1.768 -0.913 -0.092  0.213]]"
       ]
      },
      {
       "output_type": "stream",
       "stream": "stdout",
       "text": [
        "\n",
        "[[ 0.038 -0.006  0.116  0.022  1.769 -0.913 -0.092  0.213]]\n",
        "[[ 0.038 -0.006  0.116  0.022  1.77  -0.913 -0.092  0.213]]\n",
        "[[ 0.038 -0.006  0.116  0.022  1.77  -0.913 -0.092  0.212]]\n",
        "[[ 0.038 -0.006  0.116  0.022  1.771 -0.913 -0.092  0.212]]"
       ]
      },
      {
       "output_type": "stream",
       "stream": "stdout",
       "text": [
        "\n",
        "[[ 0.038 -0.006  0.116  0.022  1.772 -0.913 -0.092  0.212]]\n",
        "[[ 0.038 -0.006  0.116  0.022  1.773 -0.913 -0.092  0.212]]\n",
        "[[ 0.038 -0.006  0.116  0.022  1.774 -0.913 -0.092  0.212]]\n",
        "[[ 0.038 -0.006  0.116  0.022  1.774 -0.913 -0.093  0.212]]\n",
        "[[ 0.038 -0.006  0.116  0.022  1.775 -0.913 -0.093  0.212]]"
       ]
      },
      {
       "output_type": "stream",
       "stream": "stdout",
       "text": [
        "\n",
        "[[ 0.038 -0.006  0.116  0.022  1.776 -0.913 -0.093  0.212]]\n",
        "[[ 0.038 -0.006  0.116  0.022  1.777 -0.913 -0.093  0.212]]\n",
        "[[ 0.038 -0.006  0.116  0.022  1.778 -0.913 -0.093  0.212]]\n",
        "[[ 0.038 -0.006  0.116  0.022  1.778 -0.914 -0.093  0.212]]"
       ]
      },
      {
       "output_type": "stream",
       "stream": "stdout",
       "text": [
        "\n",
        "[[ 0.038 -0.006  0.116  0.022  1.779 -0.914 -0.093  0.212]]\n",
        "[[ 0.038 -0.006  0.116  0.022  1.78  -0.914 -0.093  0.212]]\n",
        "[[ 0.038 -0.006  0.116  0.022  1.78  -0.915 -0.093  0.212]]\n",
        "[[ 0.038 -0.006  0.116  0.022  1.781 -0.915 -0.093  0.212]]\n",
        "[[ 0.038 -0.006  0.116  0.022  1.782 -0.915 -0.093  0.212]]"
       ]
      },
      {
       "output_type": "stream",
       "stream": "stdout",
       "text": [
        "\n",
        "[[ 0.038 -0.006  0.116  0.022  1.782 -0.915 -0.093  0.211]]\n",
        "[[ 0.038 -0.006  0.116  0.022  1.783 -0.915 -0.093  0.211]]\n",
        "[[ 0.038 -0.006  0.116  0.022  1.784 -0.915 -0.093  0.211]]"
       ]
      },
      {
       "output_type": "stream",
       "stream": "stdout",
       "text": [
        "\n",
        "[[ 0.038 -0.006  0.116  0.022  1.785 -0.915 -0.093  0.211]]\n",
        "[[ 0.038 -0.006  0.116  0.022  1.786 -0.915 -0.093  0.211]]\n",
        "[[ 0.038 -0.006  0.116  0.022  1.786 -0.916 -0.093  0.211]]\n",
        "[[ 0.038 -0.006  0.116  0.022  1.787 -0.916 -0.093  0.211]]\n",
        "[[ 0.038 -0.006  0.116  0.022  1.788 -0.916 -0.093  0.211]]"
       ]
      },
      {
       "output_type": "stream",
       "stream": "stdout",
       "text": [
        "\n",
        "[[ 0.038 -0.006  0.116  0.022  1.788 -0.916 -0.093  0.21 ]]\n",
        "[[ 0.038 -0.006  0.116  0.022  1.789 -0.916 -0.093  0.21 ]]\n",
        "[[ 0.038 -0.006  0.116  0.022  1.79  -0.916 -0.093  0.21 ]]\n",
        "[[ 0.038 -0.006  0.116  0.022  1.791 -0.916 -0.093  0.21 ]]\n",
        "[[ 0.038 -0.006  0.116  0.022  1.791 -0.917 -0.093  0.21 ]]"
       ]
      },
      {
       "output_type": "stream",
       "stream": "stdout",
       "text": [
        "\n",
        "[[ 0.038 -0.006  0.116  0.022  1.792 -0.917 -0.093  0.21 ]]\n",
        "[[ 0.038 -0.006  0.116  0.022  1.793 -0.917 -0.093  0.21 ]]\n",
        "[[ 0.038 -0.006  0.116  0.022  1.793 -0.918 -0.093  0.21 ]]\n",
        "[[ 0.038 -0.006  0.116  0.022  1.794 -0.918 -0.093  0.21 ]]\n",
        "[[ 0.038 -0.006  0.116  0.022  1.795 -0.918 -0.093  0.21 ]]"
       ]
      },
      {
       "output_type": "stream",
       "stream": "stdout",
       "text": [
        "\n",
        "[[ 0.039 -0.006  0.116  0.022  1.795 -0.918 -0.093  0.21 ]]\n",
        "[[ 0.039 -0.006  0.116  0.022  1.796 -0.918 -0.093  0.21 ]]\n",
        "[[ 0.039 -0.006  0.116  0.022  1.796 -0.918 -0.094  0.21 ]]\n",
        "[[ 0.039 -0.006  0.116  0.022  1.797 -0.918 -0.094  0.21 ]]\n",
        "[[ 0.039 -0.006  0.116  0.022  1.798 -0.918 -0.094  0.21 ]]"
       ]
      },
      {
       "output_type": "stream",
       "stream": "stdout",
       "text": [
        "\n",
        "[[ 0.039 -0.006  0.116  0.022  1.799 -0.918 -0.094  0.21 ]]\n",
        "[[ 0.039 -0.006  0.116  0.022  1.8   -0.918 -0.094  0.21 ]]\n",
        "[[ 0.039 -0.006  0.116  0.022  1.8   -0.918 -0.094  0.209]]\n",
        "[[ 0.039 -0.006  0.116  0.022  1.801 -0.918 -0.094  0.209]]\n",
        "[[ 0.039 -0.006  0.116  0.022  1.802 -0.918 -0.094  0.209]]"
       ]
      },
      {
       "output_type": "stream",
       "stream": "stdout",
       "text": [
        "\n",
        "[[ 0.039 -0.006  0.116  0.022  1.803 -0.918 -0.094  0.209]]\n",
        "[[ 0.039 -0.006  0.116  0.022  1.803 -0.919 -0.094  0.209]]\n",
        "[[ 0.039 -0.006  0.116  0.022  1.804 -0.919 -0.094  0.209]]\n",
        "[[ 0.039 -0.006  0.116  0.022  1.805 -0.919 -0.094  0.209]]\n",
        "[[ 0.039 -0.006  0.116  0.022  1.805 -0.92  -0.094  0.209]]\n",
        "[[ 0.039 -0.006  0.116  0.022  1.806 -0.92  -0.094  0.209]]"
       ]
      },
      {
       "output_type": "stream",
       "stream": "stdout",
       "text": [
        "\n",
        "[[ 0.039 -0.006  0.116  0.022  1.807 -0.92  -0.094  0.209]]\n",
        "[[ 0.039 -0.006  0.116  0.022  1.808 -0.92  -0.094  0.209]]\n",
        "[[ 0.039 -0.006  0.116  0.022  1.808 -0.92  -0.094  0.208]]\n",
        "[[ 0.039 -0.006  0.116  0.022  1.809 -0.92  -0.094  0.208]]\n",
        "[[ 0.039 -0.006  0.116  0.022  1.81  -0.92  -0.094  0.208]]\n",
        "[[ 0.039 -0.006  0.116  0.022  1.811 -0.92  -0.094  0.208]]"
       ]
      },
      {
       "output_type": "stream",
       "stream": "stdout",
       "text": [
        "\n",
        "[[ 0.039 -0.006  0.116  0.022  1.811 -0.921 -0.094  0.208]]\n",
        "[[ 0.039 -0.006  0.116  0.022  1.812 -0.921 -0.094  0.208]]\n",
        "[[ 0.039 -0.006  0.116  0.022  1.813 -0.921 -0.094  0.208]]\n",
        "[[ 0.039 -0.006  0.116  0.022  1.813 -0.922 -0.094  0.208]]\n",
        "[[ 0.039 -0.006  0.116  0.022  1.814 -0.922 -0.094  0.208]]\n",
        "[[ 0.039 -0.006  0.116  0.022  1.815 -0.922 -0.094  0.208]]"
       ]
      },
      {
       "output_type": "stream",
       "stream": "stdout",
       "text": [
        "\n",
        "[[ 0.039 -0.006  0.116  0.022  1.815 -0.923 -0.094  0.208]]\n",
        "[[ 0.039 -0.006  0.116  0.022  1.816 -0.923 -0.094  0.208]]\n",
        "[[ 0.039 -0.006  0.116  0.022  1.817 -0.923 -0.094  0.208]]\n",
        "[[ 0.039 -0.006  0.116  0.022  1.818 -0.923 -0.094  0.208]]\n",
        "[[ 0.039 -0.006  0.116  0.022  1.818 -0.923 -0.095  0.208]]\n",
        "[[ 0.039 -0.006  0.116  0.022  1.819 -0.923 -0.095  0.208]]"
       ]
      },
      {
       "output_type": "stream",
       "stream": "stdout",
       "text": [
        "\n",
        "[[ 0.039 -0.006  0.116  0.022  1.82  -0.923 -0.095  0.208]]\n",
        "[[ 0.039 -0.006  0.116  0.022  1.821 -0.923 -0.095  0.208]]\n",
        "[[ 0.039 -0.006  0.116  0.022  1.822 -0.923 -0.095  0.208]]\n",
        "[[ 0.039 -0.006  0.116  0.022  1.822 -0.923 -0.095  0.207]]\n",
        "[[ 0.039 -0.006  0.116  0.022  1.823 -0.923 -0.095  0.207]]\n",
        "[[ 0.039 -0.006  0.116  0.022  1.824 -0.923 -0.095  0.207]]"
       ]
      },
      {
       "output_type": "stream",
       "stream": "stdout",
       "text": [
        "\n",
        "[[ 0.039 -0.006  0.116  0.022  1.825 -0.923 -0.095  0.207]]\n",
        "[[ 0.039 -0.006  0.116  0.022  1.825 -0.924 -0.095  0.207]]\n",
        "[[ 0.039 -0.006  0.116  0.022  1.826 -0.924 -0.095  0.207]]\n",
        "[[ 0.039 -0.006  0.116  0.022  1.827 -0.924 -0.095  0.207]]\n",
        "[[ 0.039 -0.006  0.116  0.022  1.827 -0.925 -0.095  0.207]]\n",
        "[[ 0.039 -0.006  0.116  0.022  1.828 -0.925 -0.095  0.207]]"
       ]
      },
      {
       "output_type": "stream",
       "stream": "stdout",
       "text": [
        "\n",
        "[[ 0.039 -0.006  0.116  0.022  1.829 -0.925 -0.095  0.207]]\n",
        "[[ 0.039 -0.006  0.116  0.022  1.83  -0.925 -0.095  0.207]]\n",
        "[[ 0.039 -0.006  0.116  0.022  1.83  -0.925 -0.095  0.206]]\n",
        "[[ 0.039 -0.006  0.116  0.022  1.831 -0.925 -0.095  0.206]]"
       ]
      },
      {
       "output_type": "stream",
       "stream": "stdout",
       "text": [
        "\n",
        "[[ 0.039 -0.006  0.116  0.022  1.832 -0.925 -0.095  0.206]]\n",
        "[[ 0.039 -0.006  0.116  0.022  1.833 -0.925 -0.095  0.206]]\n",
        "[[ 0.039 -0.006  0.116  0.022  1.833 -0.925 -0.096  0.206]]\n",
        "[[ 0.039 -0.006  0.117  0.022  1.833 -0.925 -0.096  0.206]]\n",
        "[[ 0.039 -0.007  0.117  0.022  1.833 -0.925 -0.096  0.206]]\n",
        "[[ 0.039 -0.007  0.117  0.022  1.834 -0.925 -0.096  0.206]]"
       ]
      },
      {
       "output_type": "stream",
       "stream": "stdout",
       "text": [
        "\n",
        "[[ 0.039 -0.007  0.117  0.022  1.835 -0.925 -0.096  0.206]]\n",
        "[[ 0.039 -0.007  0.117  0.022  1.836 -0.925 -0.096  0.206]]\n",
        "[[ 0.039 -0.007  0.117  0.022  1.836 -0.926 -0.096  0.206]]\n",
        "[[ 0.039 -0.007  0.117  0.022  1.837 -0.926 -0.096  0.206]]\n",
        "[[ 0.039 -0.007  0.117  0.022  1.838 -0.926 -0.096  0.206]]\n",
        "[[ 0.039 -0.007  0.117  0.022  1.839 -0.926 -0.096  0.206]]"
       ]
      },
      {
       "output_type": "stream",
       "stream": "stdout",
       "text": [
        "\n",
        "[[ 0.039 -0.007  0.117  0.022  1.839 -0.926 -0.096  0.205]]\n",
        "[[ 0.039 -0.007  0.117  0.022  1.84  -0.926 -0.096  0.205]]\n",
        "[[ 0.039 -0.007  0.117  0.022  1.841 -0.926 -0.096  0.205]]\n",
        "[[ 0.039 -0.007  0.117  0.022  1.842 -0.926 -0.096  0.205]]\n",
        "[[ 0.039 -0.007  0.117  0.022  1.842 -0.927 -0.096  0.205]]"
       ]
      },
      {
       "output_type": "stream",
       "stream": "stdout",
       "text": [
        "\n",
        "[[ 0.039 -0.007  0.117  0.022  1.843 -0.927 -0.096  0.205]]\n",
        "[[ 0.039 -0.007  0.117  0.022  1.844 -0.927 -0.096  0.205]]\n",
        "[[ 0.039 -0.007  0.117  0.022  1.844 -0.928 -0.096  0.205]]\n",
        "[[ 0.039 -0.007  0.117  0.022  1.845 -0.928 -0.096  0.205]]\n",
        "[[ 0.039 -0.007  0.117  0.022  1.846 -0.928 -0.096  0.205]]\n",
        "[[ 0.039 -0.007  0.117  0.022  1.846 -0.929 -0.096  0.205]]"
       ]
      },
      {
       "output_type": "stream",
       "stream": "stdout",
       "text": [
        "\n",
        "[[ 0.039 -0.007  0.117  0.022  1.847 -0.929 -0.096  0.205]]\n",
        "[[ 0.039 -0.007  0.117  0.022  1.848 -0.929 -0.096  0.205]]\n",
        "[[ 0.04  -0.007  0.117  0.022  1.848 -0.929 -0.096  0.205]]\n",
        "[[ 0.04  -0.007  0.117  0.022  1.849 -0.929 -0.096  0.205]]\n",
        "[[ 0.04  -0.007  0.117  0.022  1.849 -0.929 -0.096  0.204]]\n",
        "[[ 0.04  -0.007  0.117  0.022  1.85  -0.929 -0.096  0.204]]"
       ]
      },
      {
       "output_type": "stream",
       "stream": "stdout",
       "text": [
        "\n",
        "[[ 0.04  -0.007  0.117  0.022  1.851 -0.929 -0.096  0.204]]\n",
        "[[ 0.04  -0.007  0.117  0.022  1.852 -0.929 -0.096  0.204]]\n",
        "[[ 0.04  -0.007  0.117  0.022  1.852 -0.929 -0.097  0.204]]\n",
        "[[ 0.04  -0.007  0.117  0.022  1.853 -0.929 -0.097  0.204]]\n",
        "[[ 0.04  -0.007  0.117  0.022  1.854 -0.929 -0.097  0.204]]"
       ]
      },
      {
       "output_type": "stream",
       "stream": "stdout",
       "text": [
        "\n",
        "[[ 0.04  -0.007  0.117  0.022  1.855 -0.929 -0.097  0.204]]\n",
        "[[ 0.04  -0.007  0.117  0.022  1.856 -0.929 -0.097  0.204]]\n",
        "[[ 0.04  -0.007  0.117  0.022  1.856 -0.93  -0.097  0.204]]"
       ]
      },
      {
       "output_type": "stream",
       "stream": "stdout",
       "text": [
        "\n",
        "[[ 0.04  -0.007  0.117  0.022  1.857 -0.93  -0.097  0.204]]\n",
        "[[ 0.04  -0.007  0.117  0.022  1.858 -0.93  -0.097  0.204]]\n",
        "[[ 0.04  -0.007  0.117  0.022  1.858 -0.931 -0.097  0.204]]\n",
        "[[ 0.04  -0.007  0.117  0.022  1.859 -0.931 -0.097  0.204]]\n",
        "[[ 0.04  -0.007  0.117  0.022  1.86  -0.931 -0.097  0.204]]"
       ]
      },
      {
       "output_type": "stream",
       "stream": "stdout",
       "text": [
        "\n",
        "[[ 0.04  -0.007  0.117  0.022  1.861 -0.931 -0.097  0.204]]\n",
        "[[ 0.04  -0.007  0.117  0.022  1.861 -0.931 -0.097  0.203]]\n",
        "[[ 0.04  -0.007  0.117  0.022  1.862 -0.931 -0.097  0.203]]\n",
        "[[ 0.04  -0.007  0.117  0.022  1.863 -0.931 -0.097  0.203]]\n",
        "[[ 0.04  -0.007  0.117  0.022  1.864 -0.931 -0.097  0.203]]"
       ]
      },
      {
       "output_type": "stream",
       "stream": "stdout",
       "text": [
        "\n",
        "[[ 0.04  -0.007  0.117  0.022  1.864 -0.932 -0.097  0.203]]\n",
        "[[ 0.04  -0.007  0.117  0.022  1.865 -0.932 -0.097  0.203]]\n",
        "[[ 0.04  -0.007  0.117  0.022  1.866 -0.932 -0.097  0.203]]\n",
        "[[ 0.04  -0.007  0.117  0.022  1.866 -0.932 -0.097  0.202]]\n",
        "[[ 0.04  -0.007  0.117  0.022  1.867 -0.932 -0.097  0.202]]"
       ]
      },
      {
       "output_type": "stream",
       "stream": "stdout",
       "text": [
        "\n",
        "[[ 0.04  -0.007  0.117  0.022  1.868 -0.932 -0.097  0.202]]\n",
        "[[ 0.04  -0.007  0.117  0.022  1.869 -0.932 -0.097  0.202]]"
       ]
      },
      {
       "output_type": "stream",
       "stream": "stdout",
       "text": [
        "\n",
        "[[ 0.04  -0.007  0.117  0.022  1.869 -0.933 -0.097  0.202]]\n",
        "[[ 0.04  -0.007  0.117  0.022  1.87  -0.933 -0.097  0.202]]\n",
        "[[ 0.04  -0.007  0.117  0.022  1.871 -0.933 -0.097  0.202]]\n",
        "[[ 0.04  -0.007  0.117  0.022  1.872 -0.933 -0.097  0.202]]"
       ]
      },
      {
       "output_type": "stream",
       "stream": "stdout",
       "text": [
        "\n",
        "[[ 0.04  -0.007  0.117  0.022  1.872 -0.933 -0.098  0.202]]\n",
        "[[ 0.04  -0.007  0.117  0.022  1.873 -0.933 -0.098  0.202]]\n",
        "[[ 0.04  -0.007  0.117  0.022  1.874 -0.933 -0.098  0.202]]\n",
        "[[ 0.04  -0.007  0.117  0.022  1.875 -0.933 -0.098  0.202]]\n",
        "[[ 0.04  -0.007  0.117  0.022  1.876 -0.933 -0.098  0.202]]"
       ]
      },
      {
       "output_type": "stream",
       "stream": "stdout",
       "text": [
        "\n",
        "[[ 0.04  -0.007  0.117  0.022  1.876 -0.934 -0.098  0.202]]\n",
        "[[ 0.04  -0.007  0.117  0.022  1.877 -0.934 -0.098  0.202]]\n",
        "[[ 0.04  -0.007  0.117  0.022  1.878 -0.934 -0.098  0.202]]"
       ]
      },
      {
       "output_type": "stream",
       "stream": "stdout",
       "text": [
        "\n",
        "[[ 0.04  -0.007  0.117  0.022  1.878 -0.934 -0.098  0.201]]\n",
        "[[ 0.04  -0.007  0.117  0.022  1.879 -0.934 -0.098  0.201]]\n",
        "[[ 0.04  -0.007  0.117  0.022  1.88  -0.934 -0.098  0.201]]\n",
        "[[ 0.04  -0.007  0.117  0.022  1.881 -0.934 -0.098  0.201]]"
       ]
      },
      {
       "output_type": "stream",
       "stream": "stdout",
       "text": [
        "\n",
        "[[ 0.04  -0.007  0.117  0.022  1.881 -0.935 -0.098  0.201]]\n",
        "[[ 0.04  -0.007  0.117  0.022  1.882 -0.935 -0.098  0.201]]\n",
        "[[ 0.04  -0.007  0.117  0.022  1.883 -0.935 -0.098  0.201]]\n",
        "[[ 0.04  -0.007  0.117  0.022  1.884 -0.935 -0.098  0.201]]\n",
        "[[ 0.04  -0.007  0.117  0.022  1.884 -0.935 -0.099  0.201]]"
       ]
      },
      {
       "output_type": "stream",
       "stream": "stdout",
       "text": [
        "\n",
        "[[ 0.04  -0.007  0.117  0.022  1.885 -0.935 -0.099  0.201]]\n",
        "[[ 0.04  -0.007  0.117  0.022  1.886 -0.935 -0.099  0.201]]\n",
        "[[ 0.04  -0.007  0.117  0.022  1.887 -0.935 -0.099  0.201]]\n",
        "[[ 0.04  -0.007  0.117  0.022  1.888 -0.935 -0.099  0.201]]\n",
        "[[ 0.04  -0.007  0.117  0.022  1.888 -0.936 -0.099  0.201]]\n",
        "[[ 0.04  -0.007  0.117  0.022  1.889 -0.936 -0.099  0.201]]"
       ]
      },
      {
       "output_type": "stream",
       "stream": "stdout",
       "text": [
        "\n",
        "[[ 0.04  -0.007  0.117  0.022  1.89  -0.936 -0.099  0.201]]\n",
        "[[ 0.04  -0.007  0.117  0.022  1.89  -0.936 -0.099  0.2  ]]\n",
        "[[ 0.04  -0.007  0.117  0.022  1.891 -0.936 -0.099  0.2  ]]\n",
        "[[ 0.04  -0.007  0.117  0.022  1.892 -0.936 -0.099  0.2  ]]\n",
        "[[ 0.04  -0.007  0.117  0.022  1.893 -0.936 -0.099  0.2  ]]"
       ]
      },
      {
       "output_type": "stream",
       "stream": "stdout",
       "text": [
        "\n",
        "[[ 0.04  -0.007  0.117  0.022  1.893 -0.937 -0.099  0.2  ]]\n",
        "[[ 0.04  -0.007  0.117  0.022  1.894 -0.937 -0.099  0.2  ]]\n",
        "[[ 0.04  -0.007  0.117  0.022  1.895 -0.937 -0.099  0.2  ]]\n",
        "[[ 0.04  -0.007  0.117  0.022  1.896 -0.937 -0.099  0.2  ]]\n",
        "[[ 0.04  -0.007  0.117  0.022  1.896 -0.937 -0.099  0.199]]\n",
        "[[ 0.04  -0.007  0.117  0.022  1.897 -0.937 -0.099  0.199]]"
       ]
      },
      {
       "output_type": "stream",
       "stream": "stdout",
       "text": [
        "\n",
        "[[ 0.04  -0.007  0.117  0.022  1.898 -0.937 -0.099  0.199]]\n",
        "[[ 0.04  -0.007  0.117  0.022  1.899 -0.937 -0.099  0.199]]\n",
        "[[ 0.04  -0.007  0.117  0.022  1.899 -0.938 -0.099  0.199]]\n",
        "[[ 0.04  -0.007  0.117  0.022  1.9   -0.938 -0.099  0.199]]"
       ]
      },
      {
       "output_type": "stream",
       "stream": "stdout",
       "text": [
        "\n",
        "[[ 0.04  -0.007  0.117  0.022  1.901 -0.938 -0.099  0.199]]\n",
        "[[ 0.04  -0.007  0.117  0.022  1.901 -0.939 -0.099  0.199]]\n",
        "[[ 0.04  -0.007  0.117  0.022  1.902 -0.939 -0.099  0.199]]\n",
        "[[ 0.04  -0.007  0.117  0.022  1.903 -0.939 -0.099  0.199]]\n",
        "[[ 0.041 -0.007  0.117  0.022  1.903 -0.939 -0.099  0.199]]"
       ]
      },
      {
       "output_type": "stream",
       "stream": "stdout",
       "text": [
        "\n",
        "[[ 0.041 -0.007  0.117  0.022  1.903 -0.94  -0.099  0.199]]\n",
        "[[ 0.041 -0.007  0.117  0.022  1.904 -0.94  -0.099  0.199]]"
       ]
      },
      {
       "output_type": "stream",
       "stream": "stdout",
       "text": [
        "\n",
        "[[ 0.041 -0.007  0.117  0.022  1.905 -0.94  -0.099  0.199]]\n",
        "[[ 0.041 -0.007  0.117  0.022  1.906 -0.94  -0.099  0.199]]\n",
        "[[ 0.041 -0.007  0.117  0.022  1.906 -0.94  -0.099  0.198]]\n",
        "[[ 0.041 -0.007  0.117  0.022  1.907 -0.94  -0.099  0.198]]\n",
        "[[ 0.041 -0.007  0.117  0.022  1.908 -0.94  -0.099  0.198]]"
       ]
      },
      {
       "output_type": "stream",
       "stream": "stdout",
       "text": [
        "\n",
        "[[ 0.041 -0.007  0.117  0.022  1.909 -0.94  -0.099  0.198]]\n",
        "[[ 0.041 -0.007  0.117  0.022  1.909 -0.941 -0.099  0.198]]\n",
        "[[ 0.041 -0.007  0.117  0.022  1.91  -0.941 -0.099  0.198]]\n",
        "[[ 0.041 -0.007  0.117  0.022  1.911 -0.941 -0.099  0.198]]"
       ]
      },
      {
       "output_type": "stream",
       "stream": "stdout",
       "text": [
        "\n",
        "[[ 0.041 -0.007  0.117  0.022  1.911 -0.942 -0.099  0.198]]\n",
        "[[ 0.041 -0.007  0.117  0.022  1.912 -0.942 -0.099  0.198]]\n",
        "[[ 0.041 -0.007  0.117  0.022  1.913 -0.942 -0.099  0.198]]\n",
        "[[ 0.041 -0.007  0.117  0.022  1.913 -0.943 -0.099  0.198]]\n",
        "[[ 0.041 -0.007  0.117  0.022  1.914 -0.943 -0.099  0.198]]"
       ]
      },
      {
       "output_type": "stream",
       "stream": "stdout",
       "text": [
        "\n",
        "[[ 0.041 -0.007  0.117  0.022  1.915 -0.943 -0.099  0.198]]\n",
        "[[ 0.042 -0.007  0.117  0.022  1.915 -0.943 -0.099  0.198]]\n",
        "[[ 0.042 -0.007  0.117  0.022  1.916 -0.943 -0.099  0.198]]\n",
        "[[ 0.042 -0.007  0.117  0.022  1.916 -0.943 -0.1    0.198]]"
       ]
      },
      {
       "output_type": "stream",
       "stream": "stdout",
       "text": [
        "\n",
        "[[ 0.042 -0.007  0.117  0.022  1.917 -0.943 -0.1    0.198]]\n",
        "[[ 0.042 -0.007  0.117  0.022  1.918 -0.943 -0.1    0.198]]\n",
        "[[ 0.042 -0.007  0.117  0.022  1.919 -0.943 -0.1    0.198]]\n",
        "[[ 0.042 -0.007  0.117  0.022  1.92  -0.943 -0.1    0.198]]\n",
        "[[ 0.042 -0.007  0.117  0.022  1.92  -0.943 -0.1    0.197]]"
       ]
      },
      {
       "output_type": "stream",
       "stream": "stdout",
       "text": [
        "\n",
        "[[ 0.042 -0.007  0.117  0.022  1.921 -0.943 -0.1    0.197]]\n",
        "[[ 0.042 -0.007  0.117  0.022  1.922 -0.943 -0.1    0.197]]\n",
        "[[ 0.042 -0.007  0.117  0.022  1.923 -0.943 -0.1    0.197]]\n",
        "[[ 0.042 -0.007  0.117  0.022  1.923 -0.944 -0.1    0.197]]\n",
        "[[ 0.042 -0.007  0.117  0.022  1.924 -0.944 -0.1    0.197]]\n",
        "[[ 0.042 -0.007  0.117  0.022  1.925 -0.944 -0.1    0.197]]"
       ]
      },
      {
       "output_type": "stream",
       "stream": "stdout",
       "text": [
        "\n",
        "[[ 0.042 -0.007  0.117  0.022  1.925 -0.945 -0.1    0.197]]\n",
        "[[ 0.042 -0.007  0.117  0.022  1.926 -0.945 -0.1    0.197]]\n",
        "[[ 0.042 -0.007  0.117  0.022  1.927 -0.945 -0.1    0.197]]\n",
        "[[ 0.042 -0.007  0.117  0.022  1.928 -0.945 -0.1    0.197]]\n",
        "[[ 0.042 -0.007  0.117  0.022  1.928 -0.945 -0.1    0.196]]\n",
        "[[ 0.042 -0.007  0.117  0.022  1.929 -0.945 -0.1    0.196]]"
       ]
      },
      {
       "output_type": "stream",
       "stream": "stdout",
       "text": [
        "\n",
        "[[ 0.042 -0.007  0.117  0.022  1.93  -0.945 -0.1    0.196]]\n",
        "[[ 0.042 -0.007  0.117  0.022  1.931 -0.945 -0.1    0.196]]\n",
        "[[ 0.042 -0.007  0.117  0.022  1.931 -0.945 -0.101  0.196]]\n",
        "[[ 0.042 -0.007  0.118  0.022  1.931 -0.945 -0.101  0.196]]\n",
        "[[ 0.042 -0.008  0.118  0.022  1.931 -0.945 -0.101  0.196]]\n",
        "[[ 0.042 -0.008  0.118  0.022  1.932 -0.945 -0.101  0.196]]"
       ]
      },
      {
       "output_type": "stream",
       "stream": "stdout",
       "text": [
        "\n",
        "[[ 0.042 -0.008  0.118  0.022  1.933 -0.945 -0.101  0.196]]\n",
        "[[ 0.042 -0.008  0.118  0.022  1.934 -0.945 -0.101  0.196]]\n",
        "[[ 0.042 -0.008  0.118  0.022  1.934 -0.946 -0.101  0.196]]\n",
        "[[ 0.042 -0.008  0.118  0.022  1.935 -0.946 -0.101  0.196]]\n",
        "[[ 0.042 -0.008  0.118  0.022  1.936 -0.946 -0.101  0.196]]"
       ]
      },
      {
       "output_type": "stream",
       "stream": "stdout",
       "text": [
        "\n",
        "[[ 0.042 -0.008  0.118  0.022  1.937 -0.946 -0.101  0.196]]\n",
        "[[ 0.042 -0.008  0.118  0.022  1.937 -0.946 -0.101  0.195]]\n",
        "[[ 0.042 -0.008  0.118  0.022  1.938 -0.946 -0.101  0.195]]\n",
        "[[ 0.042 -0.008  0.118  0.022  1.939 -0.946 -0.101  0.195]]\n",
        "[[ 0.042 -0.008  0.118  0.022  1.94  -0.946 -0.101  0.195]]"
       ]
      },
      {
       "output_type": "stream",
       "stream": "stdout",
       "text": [
        "\n",
        "[[ 0.042 -0.008  0.118  0.022  1.94  -0.947 -0.101  0.195]]\n",
        "[[ 0.042 -0.008  0.118  0.022  1.941 -0.947 -0.101  0.195]]\n",
        "[[ 0.042 -0.008  0.118  0.022  1.942 -0.947 -0.101  0.195]]\n",
        "[[ 0.042 -0.008  0.118  0.022  1.942 -0.948 -0.101  0.195]]\n",
        "[[ 0.042 -0.008  0.118  0.022  1.943 -0.948 -0.101  0.195]]\n",
        "[[ 0.042 -0.008  0.118  0.022  1.944 -0.948 -0.101  0.195]]"
       ]
      },
      {
       "output_type": "stream",
       "stream": "stdout",
       "text": [
        "\n",
        "[[ 0.042 -0.008  0.118  0.022  1.944 -0.948 -0.101  0.194]]\n",
        "[[ 0.042 -0.008  0.118  0.022  1.945 -0.948 -0.101  0.194]]\n",
        "[[ 0.042 -0.008  0.118  0.022  1.946 -0.948 -0.101  0.194]]\n",
        "[[ 0.042 -0.008  0.118  0.022  1.947 -0.948 -0.101  0.194]]\n",
        "[[ 0.042 -0.008  0.118  0.022  1.948 -0.948 -0.101  0.194]]\n",
        "[[ 0.042 -0.008  0.118  0.022  1.948 -0.948 -0.102  0.194]]"
       ]
      },
      {
       "output_type": "stream",
       "stream": "stdout",
       "text": [
        "\n",
        "[[ 0.042 -0.008  0.118  0.022  1.949 -0.948 -0.102  0.194]]\n",
        "[[ 0.042 -0.008  0.118  0.022  1.95  -0.948 -0.102  0.194]]\n",
        "[[ 0.042 -0.008  0.118  0.022  1.951 -0.948 -0.102  0.194]]\n",
        "[[ 0.042 -0.008  0.118  0.022  1.952 -0.948 -0.102  0.194]]\n",
        "[[ 0.042 -0.008  0.118  0.022  1.952 -0.949 -0.102  0.194]]"
       ]
      },
      {
       "output_type": "stream",
       "stream": "stdout",
       "text": [
        "\n",
        "[[ 0.042 -0.008  0.118  0.022  1.953 -0.949 -0.102  0.194]]\n",
        "[[ 0.042 -0.008  0.118  0.022  1.954 -0.949 -0.102  0.194]]\n",
        "[[ 0.042 -0.008  0.118  0.022  1.954 -0.95  -0.102  0.194]]\n",
        "[[ 0.042 -0.008  0.118  0.022  1.955 -0.95  -0.102  0.194]]\n",
        "[[ 0.042 -0.008  0.118  0.022  1.956 -0.95  -0.102  0.194]]\n",
        "[[ 0.042 -0.008  0.118  0.022  1.956 -0.95  -0.102  0.193]]"
       ]
      },
      {
       "output_type": "stream",
       "stream": "stdout",
       "text": [
        "\n",
        "[[ 0.042 -0.008  0.118  0.022  1.957 -0.95  -0.102  0.193]]\n",
        "[[ 0.042 -0.008  0.118  0.022  1.958 -0.95  -0.102  0.193]]\n",
        "[[ 0.042 -0.008  0.118  0.022  1.959 -0.95  -0.102  0.193]]\n",
        "[[ 0.042 -0.008  0.118  0.022  1.96  -0.95  -0.102  0.193]]"
       ]
      },
      {
       "output_type": "stream",
       "stream": "stdout",
       "text": [
        "\n",
        "[[ 0.042 -0.008  0.118  0.022  1.96  -0.951 -0.102  0.193]]\n",
        "[[ 0.042 -0.008  0.118  0.022  1.961 -0.951 -0.102  0.193]]\n",
        "[[ 0.042 -0.008  0.118  0.022  1.962 -0.951 -0.102  0.193]]\n",
        "[[ 0.042 -0.008  0.118  0.022  1.962 -0.951 -0.102  0.192]]\n",
        "[[ 0.042 -0.008  0.118  0.022  1.963 -0.951 -0.102  0.192]]\n",
        "[[ 0.042 -0.008  0.118  0.022  1.964 -0.951 -0.102  0.192]]"
       ]
      },
      {
       "output_type": "stream",
       "stream": "stdout",
       "text": [
        "\n",
        "[[ 0.042 -0.008  0.118  0.022  1.965 -0.951 -0.102  0.192]]\n",
        "[[ 0.042 -0.008  0.118  0.022  1.965 -0.952 -0.102  0.192]]\n",
        "[[ 0.042 -0.008  0.118  0.022  1.966 -0.952 -0.102  0.192]]\n",
        "[[ 0.042 -0.008  0.118  0.022  1.967 -0.952 -0.102  0.192]]\n",
        "[[ 0.042 -0.008  0.118  0.022  1.967 -0.953 -0.102  0.192]]"
       ]
      },
      {
       "output_type": "stream",
       "stream": "stdout",
       "text": [
        "\n",
        "[[ 0.042 -0.008  0.118  0.022  1.968 -0.953 -0.102  0.192]]\n",
        "[[ 0.042 -0.008  0.118  0.022  1.969 -0.953 -0.102  0.192]]\n",
        "[[ 0.042 -0.008  0.118  0.022  1.97  -0.953 -0.102  0.192]]\n",
        "[[ 0.042 -0.008  0.118  0.022  1.97  -0.953 -0.103  0.192]]\n",
        "[[ 0.042 -0.008  0.118  0.022  1.971 -0.953 -0.103  0.192]]"
       ]
      },
      {
       "output_type": "stream",
       "stream": "stdout",
       "text": [
        "\n",
        "[[ 0.042 -0.008  0.118  0.022  1.972 -0.953 -0.103  0.192]]\n",
        "[[ 0.042 -0.008  0.118  0.022  1.973 -0.953 -0.103  0.192]]\n",
        "[[ 0.042 -0.008  0.118  0.022  1.974 -0.953 -0.103  0.192]]\n",
        "[[ 0.042 -0.008  0.118  0.022  1.974 -0.953 -0.103  0.191]]"
       ]
      },
      {
       "output_type": "stream",
       "stream": "stdout",
       "text": [
        "\n",
        "[[ 0.042 -0.008  0.118  0.022  1.975 -0.953 -0.103  0.191]]\n",
        "[[ 0.042 -0.008  0.118  0.022  1.976 -0.953 -0.103  0.191]]\n",
        "[[ 0.042 -0.008  0.118  0.022  1.977 -0.953 -0.103  0.191]]\n",
        "[[ 0.042 -0.008  0.118  0.022  1.977 -0.954 -0.103  0.191]]\n",
        "[[ 0.042 -0.008  0.118  0.022  1.978 -0.954 -0.103  0.191]]"
       ]
      },
      {
       "output_type": "stream",
       "stream": "stdout",
       "text": [
        "\n",
        "[[ 0.042 -0.008  0.118  0.022  1.979 -0.954 -0.103  0.191]]\n",
        "[[ 0.042 -0.008  0.118  0.022  1.98  -0.954 -0.103  0.191]]\n",
        "[[ 0.042 -0.008  0.118  0.022  1.98  -0.954 -0.104  0.191]]\n",
        "[[ 0.042 -0.008  0.118  0.022  1.981 -0.954 -0.104  0.191]]"
       ]
      },
      {
       "output_type": "stream",
       "stream": "stdout",
       "text": [
        "\n",
        "[[ 0.042 -0.008  0.118  0.022  1.982 -0.954 -0.104  0.191]]\n",
        "[[ 0.042 -0.008  0.118  0.022  1.983 -0.954 -0.104  0.191]]\n",
        "[[ 0.042 -0.008  0.118  0.022  1.984 -0.954 -0.104  0.191]]\n",
        "[[ 0.042 -0.008  0.118  0.022  1.984 -0.955 -0.104  0.191]]"
       ]
      },
      {
       "output_type": "stream",
       "stream": "stdout",
       "text": [
        "\n",
        "[[ 0.042 -0.008  0.118  0.022  1.985 -0.955 -0.104  0.191]]\n",
        "[[ 0.042 -0.008  0.118  0.022  1.986 -0.955 -0.104  0.191]]\n",
        "[[ 0.042 -0.008  0.118  0.022  1.986 -0.955 -0.104  0.19 ]]\n",
        "[[ 0.042 -0.008  0.118  0.022  1.987 -0.955 -0.104  0.19 ]]\n",
        "[[ 0.042 -0.008  0.118  0.022  1.988 -0.955 -0.104  0.19 ]]"
       ]
      },
      {
       "output_type": "stream",
       "stream": "stdout",
       "text": [
        "\n",
        "[[ 0.042 -0.008  0.118  0.022  1.989 -0.955 -0.104  0.19 ]]\n",
        "[[ 0.042 -0.008  0.118  0.022  1.989 -0.956 -0.104  0.19 ]]\n",
        "[[ 0.042 -0.008  0.118  0.022  1.99  -0.956 -0.104  0.19 ]]\n",
        "[[ 0.042 -0.008  0.118  0.022  1.991 -0.956 -0.104  0.19 ]]\n",
        "[[ 0.043 -0.008  0.118  0.022  1.991 -0.956 -0.104  0.19 ]]\n",
        "[[ 0.043 -0.008  0.118  0.022  1.992 -0.956 -0.104  0.19 ]]"
       ]
      },
      {
       "output_type": "stream",
       "stream": "stdout",
       "text": [
        "\n",
        "[[ 0.043 -0.009  0.118  0.022  1.992 -0.956 -0.104  0.19 ]]\n",
        "[[ 0.043 -0.009  0.119  0.022  1.992 -0.956 -0.104  0.19 ]]\n",
        "[[ 0.043 -0.01   0.119  0.022  1.992 -0.956 -0.104  0.19 ]]\n",
        "[[ 0.043 -0.01   0.119  0.022  1.993 -0.956 -0.104  0.19 ]]\n",
        "[[ 0.043 -0.01   0.119  0.022  1.994 -0.956 -0.104  0.19 ]]"
       ]
      },
      {
       "output_type": "stream",
       "stream": "stdout",
       "text": [
        "\n",
        "[[ 0.043 -0.01   0.119  0.022  1.995 -0.956 -0.104  0.19 ]]\n",
        "[[ 0.043 -0.01   0.119  0.022  1.995 -0.956 -0.104  0.189]]\n",
        "[[ 0.043 -0.01   0.119  0.022  1.996 -0.956 -0.104  0.189]]\n",
        "[[ 0.043 -0.01   0.119  0.022  1.997 -0.956 -0.104  0.189]]\n",
        "[[ 0.043 -0.01   0.119  0.022  1.998 -0.956 -0.104  0.189]]"
       ]
      },
      {
       "output_type": "stream",
       "stream": "stdout",
       "text": [
        "\n",
        "[[ 0.043 -0.01   0.119  0.022  1.998 -0.957 -0.104  0.189]]\n",
        "[[ 0.043 -0.01   0.119  0.022  1.999 -0.957 -0.104  0.189]]\n",
        "[[ 0.043 -0.01   0.119  0.022  2.    -0.957 -0.104  0.189]]\n",
        "[[ 0.043 -0.01   0.119  0.022  2.    -0.958 -0.104  0.189]]\n",
        "[[ 0.043 -0.01   0.119  0.022  2.001 -0.958 -0.104  0.189]]"
       ]
      },
      {
       "output_type": "stream",
       "stream": "stdout",
       "text": [
        "\n",
        "[[ 0.043 -0.01   0.119  0.022  2.002 -0.958 -0.104  0.189]]\n",
        "[[ 0.043 -0.01   0.119  0.022  2.002 -0.959 -0.104  0.189]]\n",
        "[[ 0.043 -0.01   0.119  0.022  2.003 -0.959 -0.104  0.189]]\n",
        "[[ 0.043 -0.01   0.119  0.022  2.004 -0.959 -0.104  0.189]]\n",
        "[[ 0.043 -0.01   0.119  0.022  2.005 -0.959 -0.104  0.189]]\n",
        "[[ 0.043 -0.01   0.119  0.022  2.005 -0.959 -0.105  0.189]]"
       ]
      },
      {
       "output_type": "stream",
       "stream": "stdout",
       "text": [
        "\n",
        "[[ 0.043 -0.01   0.12   0.022  2.005 -0.959 -0.105  0.189]]\n",
        "[[ 0.043 -0.01   0.12   0.022  2.005 -0.959 -0.105  0.188]]\n",
        "[[ 0.043 -0.01   0.12   0.022  2.006 -0.959 -0.105  0.188]]\n",
        "[[ 0.043 -0.01   0.12   0.022  2.007 -0.959 -0.105  0.188]]\n",
        "[[ 0.043 -0.01   0.12   0.022  2.008 -0.959 -0.105  0.188]]\n",
        "[[ 0.043 -0.011  0.12   0.022  2.008 -0.959 -0.105  0.188]]"
       ]
      },
      {
       "output_type": "stream",
       "stream": "stdout",
       "text": [
        "\n",
        "[[ 0.043 -0.011  0.12   0.022  2.009 -0.959 -0.105  0.188]]\n",
        "[[ 0.043 -0.011  0.12   0.022  2.01  -0.959 -0.105  0.188]]\n",
        "[[ 0.043 -0.011  0.12   0.022  2.011 -0.959 -0.105  0.188]]\n",
        "[[ 0.043 -0.011  0.12   0.022  2.011 -0.96  -0.105  0.188]]\n",
        "[[ 0.043 -0.011  0.12   0.022  2.012 -0.96  -0.105  0.188]]"
       ]
      },
      {
       "output_type": "stream",
       "stream": "stdout",
       "text": [
        "\n",
        "[[ 0.043 -0.011  0.12   0.022  2.013 -0.96  -0.105  0.188]]\n",
        "[[ 0.043 -0.011  0.12   0.022  2.014 -0.96  -0.105  0.188]]\n",
        "[[ 0.043 -0.011  0.12   0.022  2.014 -0.96  -0.105  0.187]]\n",
        "[[ 0.043 -0.011  0.12   0.022  2.015 -0.96  -0.105  0.187]]\n",
        "[[ 0.043 -0.011  0.12   0.022  2.016 -0.96  -0.105  0.187]]"
       ]
      },
      {
       "output_type": "stream",
       "stream": "stdout",
       "text": [
        "\n",
        "[[ 0.043 -0.011  0.12   0.022  2.017 -0.96  -0.105  0.187]]\n",
        "[[ 0.043 -0.011  0.12   0.022  2.017 -0.961 -0.105  0.187]]\n",
        "[[ 0.043 -0.011  0.12   0.022  2.018 -0.961 -0.105  0.187]]\n",
        "[[ 0.043 -0.011  0.12   0.022  2.019 -0.961 -0.105  0.187]]\n",
        "[[ 0.043 -0.011  0.12   0.022  2.019 -0.962 -0.105  0.187]]"
       ]
      },
      {
       "output_type": "stream",
       "stream": "stdout",
       "text": [
        "\n",
        "[[ 0.043 -0.011  0.12   0.022  2.02  -0.962 -0.105  0.187]]\n",
        "[[ 0.043 -0.011  0.12   0.022  2.021 -0.962 -0.105  0.187]]\n",
        "[[ 0.043 -0.011  0.12   0.022  2.021 -0.963 -0.105  0.187]]\n",
        "[[ 0.043 -0.011  0.12   0.022  2.022 -0.963 -0.105  0.187]]\n",
        "[[ 0.043 -0.011  0.12   0.022  2.023 -0.963 -0.105  0.187]]"
       ]
      },
      {
       "output_type": "stream",
       "stream": "stdout",
       "text": [
        "\n",
        "[[ 0.044 -0.011  0.12   0.022  2.023 -0.963 -0.105  0.187]]\n",
        "[[ 0.043 -0.011  0.12   0.022  2.023 -0.963 -0.105  0.187]]\n",
        "[[ 0.044 -0.011  0.12   0.022  2.023 -0.963 -0.105  0.187]]\n",
        "[[ 0.043 -0.011  0.12   0.022  2.023 -0.963 -0.105  0.187]]\n",
        "[[ 0.044 -0.011  0.12   0.022  2.023 -0.963 -0.105  0.187]]"
       ]
      },
      {
       "output_type": "stream",
       "stream": "stdout",
       "text": [
        "\n",
        "[[ 0.043 -0.011  0.12   0.022  2.023 -0.963 -0.105  0.187]]\n",
        "[[ 0.044 -0.011  0.12   0.022  2.023 -0.963 -0.105  0.187]]\n",
        "[[ 0.043 -0.011  0.12   0.022  2.023 -0.963 -0.105  0.187]]\n",
        "[[ 0.044 -0.011  0.12   0.022  2.023 -0.963 -0.105  0.187]]\n",
        "[[ 0.043 -0.011  0.12   0.022  2.023 -0.963 -0.105  0.187]]"
       ]
      },
      {
       "output_type": "stream",
       "stream": "stdout",
       "text": [
        "\n",
        "[[ 0.044 -0.011  0.12   0.022  2.023 -0.963 -0.105  0.187]]\n",
        "[[ 0.043 -0.011  0.12   0.022  2.023 -0.963 -0.105  0.187]]\n",
        "[[ 0.044 -0.011  0.12   0.022  2.023 -0.963 -0.105  0.187]]\n",
        "[[ 0.043 -0.011  0.12   0.022  2.023 -0.963 -0.105  0.187]]\n",
        "[[ 0.044 -0.011  0.12   0.022  2.023 -0.963 -0.105  0.187]]"
       ]
      },
      {
       "output_type": "stream",
       "stream": "stdout",
       "text": [
        "\n",
        "[[ 0.043 -0.011  0.12   0.022  2.023 -0.963 -0.105  0.187]]\n",
        "[[ 0.044 -0.011  0.12   0.022  2.023 -0.963 -0.105  0.187]]\n",
        "[[ 0.043 -0.011  0.12   0.022  2.023 -0.963 -0.105  0.187]]\n",
        "[[ 0.044 -0.011  0.12   0.022  2.023 -0.963 -0.105  0.187]]\n",
        "[[ 0.043 -0.011  0.12   0.022  2.023 -0.963 -0.105  0.187]]"
       ]
      },
      {
       "output_type": "stream",
       "stream": "stdout",
       "text": [
        "\n",
        "[[ 0.044 -0.011  0.12   0.022  2.023 -0.963 -0.105  0.187]]\n",
        "[[ 0.043 -0.011  0.12   0.022  2.023 -0.963 -0.105  0.187]]\n",
        "[[ 0.044 -0.011  0.12   0.022  2.023 -0.963 -0.105  0.187]]\n",
        "[[ 0.043 -0.011  0.12   0.022  2.023 -0.963 -0.105  0.187]]\n",
        "[[ 0.044 -0.011  0.12   0.022  2.023 -0.963 -0.105  0.187]]"
       ]
      },
      {
       "output_type": "stream",
       "stream": "stdout",
       "text": [
        "\n",
        "[[ 0.043 -0.011  0.12   0.022  2.023 -0.963 -0.105  0.187]]\n",
        "[[ 0.044 -0.011  0.12   0.022  2.023 -0.963 -0.105  0.187]]\n",
        "[[ 0.043 -0.011  0.12   0.022  2.023 -0.963 -0.105  0.187]]\n",
        "[[ 0.044 -0.011  0.12   0.022  2.023 -0.963 -0.105  0.187]]\n",
        "[[ 0.043 -0.011  0.12   0.022  2.023 -0.963 -0.105  0.187]]\n",
        "[[ 0.044 -0.011  0.12   0.022  2.023 -0.963 -0.105  0.187]]"
       ]
      },
      {
       "output_type": "stream",
       "stream": "stdout",
       "text": [
        "\n",
        "[[ 0.043 -0.011  0.12   0.022  2.023 -0.963 -0.105  0.187]]\n",
        "[[ 0.044 -0.011  0.12   0.022  2.023 -0.963 -0.105  0.187]]\n",
        "[[ 0.043 -0.011  0.12   0.022  2.023 -0.963 -0.105  0.187]]\n",
        "[[ 0.044 -0.011  0.12   0.022  2.023 -0.963 -0.105  0.187]]\n",
        "[[ 0.043 -0.011  0.12   0.022  2.023 -0.963 -0.105  0.187]]"
       ]
      },
      {
       "output_type": "stream",
       "stream": "stdout",
       "text": [
        "\n",
        "[[ 0.044 -0.011  0.12   0.022  2.023 -0.963 -0.105  0.187]]\n",
        "[[ 0.043 -0.011  0.12   0.022  2.023 -0.963 -0.105  0.187]]\n",
        "[[ 0.044 -0.011  0.12   0.022  2.023 -0.963 -0.105  0.187]]\n",
        "[[ 0.043 -0.011  0.12   0.022  2.023 -0.963 -0.105  0.187]]\n",
        "[[ 0.044 -0.011  0.12   0.022  2.023 -0.963 -0.105  0.187]]"
       ]
      },
      {
       "output_type": "stream",
       "stream": "stdout",
       "text": [
        "\n",
        "[[ 0.043 -0.011  0.12   0.022  2.023 -0.963 -0.105  0.187]]\n",
        "[[ 0.044 -0.011  0.12   0.022  2.023 -0.963 -0.105  0.187]]\n",
        "[[ 0.043 -0.011  0.12   0.022  2.023 -0.963 -0.105  0.187]]\n",
        "[[ 0.044 -0.011  0.12   0.022  2.023 -0.963 -0.105  0.187]]\n",
        "[[ 0.043 -0.011  0.12   0.022  2.023 -0.963 -0.105  0.187]]"
       ]
      },
      {
       "output_type": "stream",
       "stream": "stdout",
       "text": [
        "\n",
        "[[ 0.044 -0.011  0.12   0.022  2.023 -0.963 -0.105  0.187]]\n",
        "[[ 0.043 -0.011  0.12   0.022  2.023 -0.963 -0.105  0.187]]\n",
        "[[ 0.044 -0.011  0.12   0.022  2.023 -0.963 -0.105  0.187]]\n",
        "[[ 0.043 -0.011  0.12   0.022  2.023 -0.963 -0.105  0.187]]\n",
        "[[ 0.044 -0.011  0.12   0.022  2.023 -0.963 -0.105  0.187]]"
       ]
      },
      {
       "output_type": "stream",
       "stream": "stdout",
       "text": [
        "\n",
        "[[ 0.043 -0.011  0.12   0.022  2.023 -0.963 -0.105  0.187]]\n",
        "[[ 0.044 -0.011  0.12   0.022  2.023 -0.963 -0.105  0.187]]\n",
        "[[ 0.043 -0.011  0.12   0.022  2.023 -0.963 -0.105  0.187]]\n",
        "[[ 0.044 -0.011  0.12   0.022  2.023 -0.963 -0.105  0.187]]\n",
        "[[ 0.043 -0.011  0.12   0.022  2.023 -0.963 -0.105  0.187]]"
       ]
      },
      {
       "output_type": "stream",
       "stream": "stdout",
       "text": [
        "\n",
        "[[ 0.044 -0.011  0.12   0.022  2.023 -0.963 -0.105  0.187]]\n",
        "[[ 0.043 -0.011  0.12   0.022  2.023 -0.963 -0.105  0.187]]\n",
        "[[ 0.044 -0.011  0.12   0.022  2.023 -0.963 -0.105  0.187]]\n",
        "[[ 0.043 -0.011  0.12   0.022  2.023 -0.963 -0.105  0.187]]\n",
        "[[ 0.044 -0.011  0.12   0.022  2.023 -0.963 -0.105  0.187]]"
       ]
      },
      {
       "output_type": "stream",
       "stream": "stdout",
       "text": [
        "\n",
        "[[ 0.043 -0.011  0.12   0.022  2.023 -0.963 -0.105  0.187]]\n",
        "[[ 0.044 -0.011  0.12   0.022  2.023 -0.963 -0.105  0.187]]\n",
        "[[ 0.043 -0.011  0.12   0.022  2.023 -0.963 -0.105  0.187]]\n",
        "[[ 0.044 -0.011  0.12   0.022  2.023 -0.963 -0.105  0.187]]\n",
        "[[ 0.043 -0.011  0.12   0.022  2.023 -0.963 -0.105  0.187]]"
       ]
      },
      {
       "output_type": "stream",
       "stream": "stdout",
       "text": [
        "\n",
        "[[ 0.044 -0.011  0.12   0.022  2.023 -0.963 -0.105  0.187]]\n",
        "[[ 0.043 -0.011  0.12   0.022  2.023 -0.963 -0.105  0.187]]\n",
        "[[ 0.044 -0.011  0.12   0.022  2.023 -0.963 -0.105  0.187]]\n",
        "[[ 0.043 -0.011  0.12   0.022  2.023 -0.963 -0.105  0.187]]\n",
        "[[ 0.044 -0.011  0.12   0.022  2.023 -0.963 -0.105  0.187]]"
       ]
      },
      {
       "output_type": "stream",
       "stream": "stdout",
       "text": [
        "\n",
        "[[ 0.043 -0.011  0.12   0.022  2.023 -0.963 -0.105  0.187]]\n",
        "[[ 0.044 -0.011  0.12   0.022  2.023 -0.963 -0.105  0.187]]\n",
        "[[ 0.043 -0.011  0.12   0.022  2.023 -0.963 -0.105  0.187]]\n",
        "[[ 0.044 -0.011  0.12   0.022  2.023 -0.963 -0.105  0.187]]\n",
        "[[ 0.043 -0.011  0.12   0.022  2.023 -0.963 -0.105  0.187]]\n",
        "[[ 0.044 -0.011  0.12   0.022  2.023 -0.963 -0.105  0.187]]"
       ]
      },
      {
       "output_type": "stream",
       "stream": "stdout",
       "text": [
        "\n",
        "[[ 0.043 -0.011  0.12   0.022  2.023 -0.963 -0.105  0.187]]\n",
        "[[ 0.044 -0.011  0.12   0.022  2.023 -0.963 -0.105  0.187]]\n",
        "[[ 0.043 -0.011  0.12   0.022  2.023 -0.963 -0.105  0.187]]\n",
        "[[ 0.044 -0.011  0.12   0.022  2.023 -0.963 -0.105  0.187]]\n",
        "[[ 0.043 -0.011  0.12   0.022  2.023 -0.963 -0.105  0.187]]\n",
        "[[ 0.044 -0.011  0.12   0.022  2.023 -0.963 -0.105  0.187]]"
       ]
      },
      {
       "output_type": "stream",
       "stream": "stdout",
       "text": [
        "\n",
        "[[ 0.043 -0.011  0.12   0.022  2.023 -0.963 -0.105  0.187]]\n",
        "[[ 0.044 -0.011  0.12   0.022  2.023 -0.963 -0.105  0.187]]\n",
        "[[ 0.043 -0.011  0.12   0.022  2.023 -0.963 -0.105  0.187]]\n",
        "[[ 0.044 -0.011  0.12   0.022  2.023 -0.963 -0.105  0.187]]\n",
        "[[ 0.043 -0.011  0.12   0.022  2.023 -0.963 -0.105  0.187]]\n",
        "[[ 0.044 -0.011  0.12   0.022  2.023 -0.963 -0.105  0.187]]"
       ]
      },
      {
       "output_type": "stream",
       "stream": "stdout",
       "text": [
        "\n",
        "[[ 0.043 -0.011  0.12   0.022  2.023 -0.963 -0.105  0.187]]\n",
        "[[ 0.044 -0.011  0.12   0.022  2.023 -0.963 -0.105  0.187]]\n",
        "[[ 0.043 -0.011  0.12   0.022  2.023 -0.963 -0.105  0.187]]\n",
        "[[ 0.044 -0.011  0.12   0.022  2.023 -0.963 -0.105  0.187]]\n",
        "[[ 0.043 -0.011  0.12   0.022  2.023 -0.963 -0.105  0.187]]\n",
        "[[ 0.044 -0.011  0.12   0.022  2.023 -0.963 -0.105  0.187]]"
       ]
      },
      {
       "output_type": "stream",
       "stream": "stdout",
       "text": [
        "\n",
        "[[ 0.043 -0.011  0.12   0.022  2.023 -0.963 -0.105  0.187]]\n",
        "[[ 0.044 -0.011  0.12   0.022  2.023 -0.963 -0.105  0.187]]\n",
        "[[ 0.043 -0.011  0.12   0.022  2.023 -0.963 -0.105  0.187]]\n",
        "[[ 0.044 -0.011  0.12   0.022  2.023 -0.963 -0.105  0.187]]\n",
        "[[ 0.043 -0.011  0.12   0.022  2.023 -0.963 -0.105  0.187]]"
       ]
      },
      {
       "output_type": "stream",
       "stream": "stdout",
       "text": [
        "\n",
        "[[ 0.044 -0.011  0.12   0.022  2.023 -0.963 -0.105  0.187]]\n",
        "[[ 0.043 -0.011  0.12   0.022  2.023 -0.963 -0.105  0.187]]\n",
        "[[ 0.044 -0.011  0.12   0.022  2.023 -0.963 -0.105  0.187]]\n",
        "[[ 0.043 -0.011  0.12   0.022  2.023 -0.963 -0.105  0.187]]\n",
        "[[ 0.044 -0.011  0.12   0.022  2.023 -0.963 -0.105  0.187]]"
       ]
      },
      {
       "output_type": "stream",
       "stream": "stdout",
       "text": [
        "\n",
        "[[ 0.043 -0.011  0.12   0.022  2.023 -0.963 -0.105  0.187]]\n",
        "[[ 0.044 -0.011  0.12   0.022  2.023 -0.963 -0.105  0.187]]\n",
        "[[ 0.043 -0.011  0.12   0.022  2.023 -0.963 -0.105  0.187]]\n",
        "[[ 0.044 -0.011  0.12   0.022  2.023 -0.963 -0.105  0.187]]\n",
        "[[ 0.043 -0.011  0.12   0.022  2.023 -0.963 -0.105  0.187]]"
       ]
      },
      {
       "output_type": "stream",
       "stream": "stdout",
       "text": [
        "\n",
        "[[ 0.044 -0.011  0.12   0.022  2.023 -0.963 -0.105  0.187]]\n",
        "[[ 0.043 -0.011  0.12   0.022  2.023 -0.963 -0.105  0.187]]\n",
        "[[ 0.044 -0.011  0.12   0.022  2.023 -0.963 -0.105  0.187]]\n",
        "[[ 0.043 -0.011  0.12   0.022  2.023 -0.963 -0.105  0.187]]\n",
        "[[ 0.044 -0.011  0.12   0.022  2.023 -0.963 -0.105  0.187]]\n",
        "[[ 0.043 -0.011  0.12   0.022  2.023 -0.963 -0.105  0.187]]"
       ]
      },
      {
       "output_type": "stream",
       "stream": "stdout",
       "text": [
        "\n",
        "[[ 0.044 -0.011  0.12   0.022  2.023 -0.963 -0.105  0.187]]\n",
        "[[ 0.043 -0.011  0.12   0.022  2.023 -0.963 -0.105  0.187]]\n",
        "[[ 0.044 -0.011  0.12   0.022  2.023 -0.963 -0.105  0.187]]\n",
        "[[ 0.043 -0.011  0.12   0.022  2.023 -0.963 -0.105  0.187]]\n",
        "[[ 0.044 -0.011  0.12   0.022  2.023 -0.963 -0.105  0.187]]\n",
        "[[ 0.043 -0.011  0.12   0.022  2.023 -0.963 -0.105  0.187]]"
       ]
      },
      {
       "output_type": "stream",
       "stream": "stdout",
       "text": [
        "\n",
        "[[ 0.044 -0.011  0.12   0.022  2.023 -0.963 -0.105  0.187]]\n",
        "[[ 0.043 -0.011  0.12   0.022  2.023 -0.963 -0.105  0.187]]\n",
        "[[ 0.044 -0.011  0.12   0.022  2.023 -0.963 -0.105  0.187]]\n",
        "[[ 0.043 -0.011  0.12   0.022  2.023 -0.963 -0.105  0.187]]\n",
        "[[ 0.044 -0.011  0.12   0.022  2.023 -0.963 -0.105  0.187]]\n",
        "[[ 0.043 -0.011  0.12   0.022  2.023 -0.963 -0.105  0.187]]"
       ]
      },
      {
       "output_type": "stream",
       "stream": "stdout",
       "text": [
        "\n",
        "[[ 0.044 -0.011  0.12   0.022  2.023 -0.963 -0.105  0.187]]\n",
        "[[ 0.043 -0.011  0.12   0.022  2.023 -0.963 -0.105  0.187]]\n",
        "[[ 0.044 -0.011  0.12   0.022  2.023 -0.963 -0.105  0.187]]\n",
        "[[ 0.043 -0.011  0.12   0.022  2.023 -0.963 -0.105  0.187]]\n",
        "[[ 0.044 -0.011  0.12   0.022  2.023 -0.963 -0.105  0.187]]\n",
        "[[ 0.043 -0.011  0.12   0.022  2.023 -0.963 -0.105  0.187]]"
       ]
      },
      {
       "output_type": "stream",
       "stream": "stdout",
       "text": [
        "\n",
        "[[ 0.044 -0.011  0.12   0.022  2.023 -0.963 -0.105  0.187]]\n",
        "[[ 0.043 -0.011  0.12   0.022  2.023 -0.963 -0.105  0.187]]\n",
        "[[ 0.044 -0.011  0.12   0.022  2.023 -0.963 -0.105  0.187]]\n",
        "[[ 0.043 -0.011  0.12   0.022  2.023 -0.963 -0.105  0.187]]\n",
        "[[ 0.044 -0.011  0.12   0.022  2.023 -0.963 -0.105  0.187]]\n",
        "[[ 0.043 -0.011  0.12   0.022  2.023 -0.963 -0.105  0.187]]"
       ]
      },
      {
       "output_type": "stream",
       "stream": "stdout",
       "text": [
        "\n",
        "[[ 0.044 -0.011  0.12   0.022  2.023 -0.963 -0.105  0.187]]\n",
        "[[ 0.043 -0.011  0.12   0.022  2.023 -0.963 -0.105  0.187]]\n",
        "[[ 0.044 -0.011  0.12   0.022  2.023 -0.963 -0.105  0.187]]\n",
        "[[ 0.043 -0.011  0.12   0.022  2.023 -0.963 -0.105  0.187]]\n",
        "[[ 0.044 -0.011  0.12   0.022  2.023 -0.963 -0.105  0.187]]\n",
        "[[ 0.043 -0.011  0.12   0.022  2.023 -0.963 -0.105  0.187]]"
       ]
      },
      {
       "output_type": "stream",
       "stream": "stdout",
       "text": [
        "\n",
        "[[ 0.044 -0.011  0.12   0.022  2.023 -0.963 -0.105  0.187]]\n",
        "[[ 0.043 -0.011  0.12   0.022  2.023 -0.963 -0.105  0.187]]\n",
        "[[ 0.044 -0.011  0.12   0.022  2.023 -0.963 -0.105  0.187]]\n",
        "[[ 0.043 -0.011  0.12   0.022  2.023 -0.963 -0.105  0.187]]\n",
        "[[ 0.044 -0.011  0.12   0.022  2.023 -0.963 -0.105  0.187]]"
       ]
      },
      {
       "output_type": "stream",
       "stream": "stdout",
       "text": [
        "\n",
        "[[ 0.043 -0.011  0.12   0.022  2.023 -0.963 -0.105  0.187]]\n",
        "[[ 0.044 -0.011  0.12   0.022  2.023 -0.963 -0.105  0.187]]\n",
        "[[ 0.043 -0.011  0.12   0.022  2.023 -0.963 -0.105  0.187]]\n",
        "[[ 0.044 -0.011  0.12   0.022  2.023 -0.963 -0.105  0.187]]\n",
        "[[ 0.043 -0.011  0.12   0.022  2.023 -0.963 -0.105  0.187]]"
       ]
      },
      {
       "output_type": "stream",
       "stream": "stdout",
       "text": [
        "\n",
        "[[ 0.044 -0.011  0.12   0.022  2.023 -0.963 -0.105  0.187]]\n",
        "[[ 0.043 -0.011  0.12   0.022  2.023 -0.963 -0.105  0.187]]\n",
        "[[ 0.044 -0.011  0.12   0.022  2.023 -0.963 -0.105  0.187]]\n",
        "[[ 0.043 -0.011  0.12   0.022  2.023 -0.963 -0.105  0.187]]\n",
        "[[ 0.044 -0.011  0.12   0.022  2.023 -0.963 -0.105  0.187]]"
       ]
      },
      {
       "output_type": "stream",
       "stream": "stdout",
       "text": [
        "\n",
        "[[ 0.043 -0.011  0.12   0.022  2.023 -0.963 -0.105  0.187]]\n",
        "[[ 0.044 -0.011  0.12   0.022  2.023 -0.963 -0.105  0.187]]\n",
        "[[ 0.043 -0.011  0.12   0.022  2.023 -0.963 -0.105  0.187]]\n",
        "[[ 0.044 -0.011  0.12   0.022  2.023 -0.963 -0.105  0.187]]\n",
        "[[ 0.043 -0.011  0.12   0.022  2.023 -0.963 -0.105  0.187]]"
       ]
      },
      {
       "output_type": "stream",
       "stream": "stdout",
       "text": [
        "\n",
        "[[ 0.044 -0.011  0.12   0.022  2.023 -0.963 -0.105  0.187]]\n",
        "[[ 0.043 -0.011  0.12   0.022  2.023 -0.963 -0.105  0.187]]\n",
        "[[ 0.044 -0.011  0.12   0.022  2.023 -0.963 -0.105  0.187]]\n",
        "[[ 0.043 -0.011  0.12   0.022  2.023 -0.963 -0.105  0.187]]\n",
        "[[ 0.044 -0.011  0.12   0.022  2.023 -0.963 -0.105  0.187]]"
       ]
      },
      {
       "output_type": "stream",
       "stream": "stdout",
       "text": [
        "\n",
        "[[ 0.043 -0.011  0.12   0.022  2.023 -0.963 -0.105  0.187]]\n",
        "[[ 0.044 -0.011  0.12   0.022  2.023 -0.963 -0.105  0.187]]\n",
        "[[ 0.043 -0.011  0.12   0.022  2.023 -0.963 -0.105  0.187]]\n",
        "[[ 0.044 -0.011  0.12   0.022  2.023 -0.963 -0.105  0.187]]"
       ]
      },
      {
       "output_type": "stream",
       "stream": "stdout",
       "text": [
        "\n",
        "[[ 0.043 -0.011  0.12   0.022  2.023 -0.963 -0.105  0.187]]\n",
        "[[ 0.044 -0.011  0.12   0.022  2.023 -0.963 -0.105  0.187]]\n",
        "[[ 0.043 -0.011  0.12   0.022  2.023 -0.963 -0.105  0.187]]\n",
        "[[ 0.044 -0.011  0.12   0.022  2.023 -0.963 -0.105  0.187]]\n",
        "[[ 0.043 -0.011  0.12   0.022  2.023 -0.963 -0.105  0.187]]"
       ]
      },
      {
       "output_type": "stream",
       "stream": "stdout",
       "text": [
        "\n",
        "[[ 0.044 -0.011  0.12   0.022  2.023 -0.963 -0.105  0.187]]\n",
        "[[ 0.043 -0.011  0.12   0.022  2.023 -0.963 -0.105  0.187]]\n",
        "[[ 0.044 -0.011  0.12   0.022  2.023 -0.963 -0.105  0.187]]\n",
        "[[ 0.043 -0.011  0.12   0.022  2.023 -0.963 -0.105  0.187]]\n",
        "[[ 0.044 -0.011  0.12   0.022  2.023 -0.963 -0.105  0.187]]"
       ]
      },
      {
       "output_type": "stream",
       "stream": "stdout",
       "text": [
        "\n",
        "[[ 0.043 -0.011  0.12   0.022  2.023 -0.963 -0.105  0.187]]\n",
        "[[ 0.044 -0.011  0.12   0.022  2.023 -0.963 -0.105  0.187]]\n",
        "[[ 0.043 -0.011  0.12   0.022  2.023 -0.963 -0.105  0.187]]\n",
        "[[ 0.044 -0.011  0.12   0.022  2.023 -0.963 -0.105  0.187]]\n",
        "[[ 0.043 -0.011  0.12   0.022  2.023 -0.963 -0.105  0.187]]"
       ]
      },
      {
       "output_type": "stream",
       "stream": "stdout",
       "text": [
        "\n",
        "[[ 0.044 -0.011  0.12   0.022  2.023 -0.963 -0.105  0.187]]\n",
        "[[ 0.043 -0.011  0.12   0.022  2.023 -0.963 -0.105  0.187]]\n",
        "[[ 0.044 -0.011  0.12   0.022  2.023 -0.963 -0.105  0.187]]\n",
        "[[ 0.043 -0.011  0.12   0.022  2.023 -0.963 -0.105  0.187]]\n",
        "[[ 0.044 -0.011  0.12   0.022  2.023 -0.963 -0.105  0.187]]"
       ]
      },
      {
       "output_type": "stream",
       "stream": "stdout",
       "text": [
        "\n",
        "[[ 0.043 -0.011  0.12   0.022  2.023 -0.963 -0.105  0.187]]\n",
        "[[ 0.044 -0.011  0.12   0.022  2.023 -0.963 -0.105  0.187]]\n",
        "[[ 0.043 -0.011  0.12   0.022  2.023 -0.963 -0.105  0.187]]\n",
        "[[ 0.044 -0.011  0.12   0.022  2.023 -0.963 -0.105  0.187]]\n",
        "[[ 0.043 -0.011  0.12   0.022  2.023 -0.963 -0.105  0.187]]\n",
        "[[ 0.044 -0.011  0.12   0.022  2.023 -0.963 -0.105  0.187]]"
       ]
      },
      {
       "output_type": "stream",
       "stream": "stdout",
       "text": [
        "\n",
        "[[ 0.043 -0.011  0.12   0.022  2.023 -0.963 -0.105  0.187]]\n",
        "[[ 0.044 -0.011  0.12   0.022  2.023 -0.963 -0.105  0.187]]\n",
        "[[ 0.043 -0.011  0.12   0.022  2.023 -0.963 -0.105  0.187]]\n",
        "[[ 0.044 -0.011  0.12   0.022  2.023 -0.963 -0.105  0.187]]\n",
        "[[ 0.043 -0.011  0.12   0.022  2.023 -0.963 -0.105  0.187]]\n",
        "[[ 0.044 -0.011  0.12   0.022  2.023 -0.963 -0.105  0.187]]"
       ]
      },
      {
       "output_type": "stream",
       "stream": "stdout",
       "text": [
        "\n",
        "[[ 0.043 -0.011  0.12   0.022  2.023 -0.963 -0.105  0.187]]\n",
        "[[ 0.044 -0.011  0.12   0.022  2.023 -0.963 -0.105  0.187]]\n",
        "[[ 0.043 -0.011  0.12   0.022  2.023 -0.963 -0.105  0.187]]\n",
        "[[ 0.044 -0.011  0.12   0.022  2.023 -0.963 -0.105  0.187]]\n",
        "[[ 0.043 -0.011  0.12   0.022  2.023 -0.963 -0.105  0.187]]"
       ]
      },
      {
       "output_type": "stream",
       "stream": "stdout",
       "text": [
        "\n",
        "[[ 0.044 -0.011  0.12   0.022  2.023 -0.963 -0.105  0.187]]\n",
        "[[ 0.043 -0.011  0.12   0.022  2.023 -0.963 -0.105  0.187]]\n",
        "[[ 0.044 -0.011  0.12   0.022  2.023 -0.963 -0.105  0.187]]\n",
        "[[ 0.043 -0.011  0.12   0.022  2.023 -0.963 -0.105  0.187]]\n",
        "[[ 0.044 -0.011  0.12   0.022  2.023 -0.963 -0.105  0.187]]\n",
        "[[ 0.043 -0.011  0.12   0.022  2.023 -0.963 -0.105  0.187]]"
       ]
      },
      {
       "output_type": "stream",
       "stream": "stdout",
       "text": [
        "\n",
        "[[ 0.044 -0.011  0.12   0.022  2.023 -0.963 -0.105  0.187]]\n",
        "[[ 0.043 -0.011  0.12   0.022  2.023 -0.963 -0.105  0.187]]\n",
        "[[ 0.044 -0.011  0.12   0.022  2.023 -0.963 -0.105  0.187]]\n",
        "[[ 0.043 -0.011  0.12   0.022  2.023 -0.963 -0.105  0.187]]\n",
        "[[ 0.044 -0.011  0.12   0.022  2.023 -0.963 -0.105  0.187]]\n",
        "[[ 0.043 -0.011  0.12   0.022  2.023 -0.963 -0.105  0.187]]"
       ]
      },
      {
       "output_type": "stream",
       "stream": "stdout",
       "text": [
        "\n",
        "[[ 0.044 -0.011  0.12   0.022  2.023 -0.963 -0.105  0.187]]\n",
        "[[ 0.043 -0.011  0.12   0.022  2.023 -0.963 -0.105  0.187]]\n",
        "[[ 0.044 -0.011  0.12   0.022  2.023 -0.963 -0.105  0.187]]\n",
        "[[ 0.043 -0.011  0.12   0.022  2.023 -0.963 -0.105  0.187]]\n",
        "[[ 0.044 -0.011  0.12   0.022  2.023 -0.963 -0.105  0.187]]\n",
        "[[ 0.043 -0.011  0.12   0.022  2.023 -0.963 -0.105  0.187]]"
       ]
      },
      {
       "output_type": "stream",
       "stream": "stdout",
       "text": [
        "\n",
        "[[ 0.044 -0.011  0.12   0.022  2.023 -0.963 -0.105  0.187]]\n",
        "[[ 0.043 -0.011  0.12   0.022  2.023 -0.963 -0.105  0.187]]\n",
        "[[ 0.044 -0.011  0.12   0.022  2.023 -0.963 -0.105  0.187]]\n",
        "[[ 0.043 -0.011  0.12   0.022  2.023 -0.963 -0.105  0.187]]\n",
        "[[ 0.044 -0.011  0.12   0.022  2.023 -0.963 -0.105  0.187]]\n",
        "[[ 0.043 -0.011  0.12   0.022  2.023 -0.963 -0.105  0.187]]"
       ]
      },
      {
       "output_type": "stream",
       "stream": "stdout",
       "text": [
        "\n",
        "[[ 0.044 -0.011  0.12   0.022  2.023 -0.963 -0.105  0.187]]\n",
        "[[ 0.043 -0.011  0.12   0.022  2.023 -0.963 -0.105  0.187]]\n",
        "[[ 0.044 -0.011  0.12   0.022  2.023 -0.963 -0.105  0.187]]\n",
        "[[ 0.043 -0.011  0.12   0.022  2.023 -0.963 -0.105  0.187]]\n",
        "[[ 0.044 -0.011  0.12   0.022  2.023 -0.963 -0.105  0.187]]"
       ]
      },
      {
       "output_type": "stream",
       "stream": "stdout",
       "text": [
        "\n",
        "[[ 0.043 -0.011  0.12   0.022  2.023 -0.963 -0.105  0.187]]\n",
        "[[ 0.044 -0.011  0.12   0.022  2.023 -0.963 -0.105  0.187]]\n",
        "[[ 0.043 -0.011  0.12   0.022  2.023 -0.963 -0.105  0.187]]\n",
        "[[ 0.044 -0.011  0.12   0.022  2.023 -0.963 -0.105  0.187]]\n",
        "[[ 0.043 -0.011  0.12   0.022  2.023 -0.963 -0.105  0.187]]"
       ]
      },
      {
       "output_type": "stream",
       "stream": "stdout",
       "text": [
        "\n",
        "[[ 0.044 -0.011  0.12   0.022  2.023 -0.963 -0.105  0.187]]\n",
        "[[ 0.043 -0.011  0.12   0.022  2.023 -0.963 -0.105  0.187]]\n",
        "[[ 0.044 -0.011  0.12   0.022  2.023 -0.963 -0.105  0.187]]\n",
        "[[ 0.043 -0.011  0.12   0.022  2.023 -0.963 -0.105  0.187]]\n",
        "[[ 0.044 -0.011  0.12   0.022  2.023 -0.963 -0.105  0.187]]\n",
        "[[ 0.043 -0.011  0.12   0.022  2.023 -0.963 -0.105  0.187]]"
       ]
      },
      {
       "output_type": "stream",
       "stream": "stdout",
       "text": [
        "\n",
        "[[ 0.044 -0.011  0.12   0.022  2.023 -0.963 -0.105  0.187]]\n",
        "[[ 0.043 -0.011  0.12   0.022  2.023 -0.963 -0.105  0.187]]\n",
        "[[ 0.044 -0.011  0.12   0.022  2.023 -0.963 -0.105  0.187]]\n",
        "[[ 0.043 -0.011  0.12   0.022  2.023 -0.963 -0.105  0.187]]\n",
        "[[ 0.044 -0.011  0.12   0.022  2.023 -0.963 -0.105  0.187]]\n",
        "[[ 0.043 -0.011  0.12   0.022  2.023 -0.963 -0.105  0.187]]"
       ]
      },
      {
       "output_type": "stream",
       "stream": "stdout",
       "text": [
        "\n",
        "[[ 0.044 -0.011  0.12   0.022  2.023 -0.963 -0.105  0.187]]\n",
        "[[ 0.043 -0.011  0.12   0.022  2.023 -0.963 -0.105  0.187]]\n",
        "[[ 0.044 -0.011  0.12   0.022  2.023 -0.963 -0.105  0.187]]\n",
        "[[ 0.043 -0.011  0.12   0.022  2.023 -0.963 -0.105  0.187]]\n",
        "[[ 0.044 -0.011  0.12   0.022  2.023 -0.963 -0.105  0.187]]"
       ]
      },
      {
       "output_type": "stream",
       "stream": "stdout",
       "text": [
        "\n",
        "[[ 0.043 -0.011  0.12   0.022  2.023 -0.963 -0.105  0.187]]\n",
        "[[ 0.044 -0.011  0.12   0.022  2.023 -0.963 -0.105  0.187]]\n",
        "[[ 0.043 -0.011  0.12   0.022  2.023 -0.963 -0.105  0.187]]\n",
        "[[ 0.044 -0.011  0.12   0.022  2.023 -0.963 -0.105  0.187]]\n",
        "[[ 0.043 -0.011  0.12   0.022  2.023 -0.963 -0.105  0.187]]\n",
        "[[ 0.044 -0.011  0.12   0.022  2.023 -0.963 -0.105  0.187]]"
       ]
      },
      {
       "output_type": "stream",
       "stream": "stdout",
       "text": [
        "\n",
        "[[ 0.043 -0.011  0.12   0.022  2.023 -0.963 -0.105  0.187]]\n",
        "[[ 0.044 -0.011  0.12   0.022  2.023 -0.963 -0.105  0.187]]\n",
        "[[ 0.043 -0.011  0.12   0.022  2.023 -0.963 -0.105  0.187]]\n",
        "[[ 0.044 -0.011  0.12   0.022  2.023 -0.963 -0.105  0.187]]\n",
        "[[ 0.043 -0.011  0.12   0.022  2.023 -0.963 -0.105  0.187]]\n",
        "[[ 0.044 -0.011  0.12   0.022  2.023 -0.963 -0.105  0.187]]"
       ]
      },
      {
       "output_type": "stream",
       "stream": "stdout",
       "text": [
        "\n",
        "[[ 0.043 -0.011  0.12   0.022  2.023 -0.963 -0.105  0.187]]\n",
        "[[ 0.044 -0.011  0.12   0.022  2.023 -0.963 -0.105  0.187]]\n",
        "[[ 0.043 -0.011  0.12   0.022  2.023 -0.963 -0.105  0.187]]\n",
        "[[ 0.044 -0.011  0.12   0.022  2.023 -0.963 -0.105  0.187]]\n",
        "[[ 0.043 -0.011  0.12   0.022  2.023 -0.963 -0.105  0.187]]"
       ]
      },
      {
       "output_type": "stream",
       "stream": "stdout",
       "text": [
        "\n",
        "[[ 0.044 -0.011  0.12   0.022  2.023 -0.963 -0.105  0.187]]\n",
        "[[ 0.043 -0.011  0.12   0.022  2.023 -0.963 -0.105  0.187]]\n",
        "[[ 0.044 -0.011  0.12   0.022  2.023 -0.963 -0.105  0.187]]\n",
        "[[ 0.043 -0.011  0.12   0.022  2.023 -0.963 -0.105  0.187]]\n",
        "[[ 0.044 -0.011  0.12   0.022  2.023 -0.963 -0.105  0.187]]"
       ]
      },
      {
       "output_type": "stream",
       "stream": "stdout",
       "text": [
        "\n",
        "[[ 0.043 -0.011  0.12   0.022  2.023 -0.963 -0.105  0.187]]\n",
        "[[ 0.044 -0.011  0.12   0.022  2.023 -0.963 -0.105  0.187]]\n",
        "[[ 0.043 -0.011  0.12   0.022  2.023 -0.963 -0.105  0.187]]\n",
        "[[ 0.044 -0.011  0.12   0.022  2.023 -0.963 -0.105  0.187]]\n",
        "[[ 0.043 -0.011  0.12   0.022  2.023 -0.963 -0.105  0.187]]"
       ]
      },
      {
       "output_type": "stream",
       "stream": "stdout",
       "text": [
        "\n",
        "[[ 0.044 -0.011  0.12   0.022  2.023 -0.963 -0.105  0.187]]\n",
        "[[ 0.043 -0.011  0.12   0.022  2.023 -0.963 -0.105  0.187]]\n",
        "[[ 0.044 -0.011  0.12   0.022  2.023 -0.963 -0.105  0.187]]\n",
        "[[ 0.043 -0.011  0.12   0.022  2.023 -0.963 -0.105  0.187]]\n",
        "[[ 0.044 -0.011  0.12   0.022  2.023 -0.963 -0.105  0.187]]\n",
        "[[ 0.043 -0.011  0.12   0.022  2.023 -0.963 -0.105  0.187]]"
       ]
      },
      {
       "output_type": "stream",
       "stream": "stdout",
       "text": [
        "\n",
        "[[ 0.044 -0.011  0.12   0.022  2.023 -0.963 -0.105  0.187]]\n",
        "[[ 0.043 -0.011  0.12   0.022  2.023 -0.963 -0.105  0.187]]\n",
        "[[ 0.044 -0.011  0.12   0.022  2.023 -0.963 -0.105  0.187]]\n",
        "[[ 0.043 -0.011  0.12   0.022  2.023 -0.963 -0.105  0.187]]\n",
        "[[ 0.044 -0.011  0.12   0.022  2.023 -0.963 -0.105  0.187]]\n",
        "[[ 0.043 -0.011  0.12   0.022  2.023 -0.963 -0.105  0.187]]"
       ]
      },
      {
       "output_type": "stream",
       "stream": "stdout",
       "text": [
        "\n",
        "[[ 0.044 -0.011  0.12   0.022  2.023 -0.963 -0.105  0.187]]\n",
        "[[ 0.043 -0.011  0.12   0.022  2.023 -0.963 -0.105  0.187]]\n",
        "[[ 0.044 -0.011  0.12   0.022  2.023 -0.963 -0.105  0.187]]\n",
        "[[ 0.043 -0.011  0.12   0.022  2.023 -0.963 -0.105  0.187]]\n",
        "[[ 0.044 -0.011  0.12   0.022  2.023 -0.963 -0.105  0.187]]\n",
        "[[ 0.043 -0.011  0.12   0.022  2.023 -0.963 -0.105  0.187]]"
       ]
      },
      {
       "output_type": "stream",
       "stream": "stdout",
       "text": [
        "\n",
        "[[ 0.044 -0.011  0.12   0.022  2.023 -0.963 -0.105  0.187]]\n",
        "[[ 0.043 -0.011  0.12   0.022  2.023 -0.963 -0.105  0.187]]\n",
        "[[ 0.044 -0.011  0.12   0.022  2.023 -0.963 -0.105  0.187]]\n",
        "[[ 0.043 -0.011  0.12   0.022  2.023 -0.963 -0.105  0.187]]\n",
        "[[ 0.044 -0.011  0.12   0.022  2.023 -0.963 -0.105  0.187]]\n",
        "[[ 0.043 -0.011  0.12   0.022  2.023 -0.963 -0.105  0.187]]"
       ]
      },
      {
       "output_type": "stream",
       "stream": "stdout",
       "text": [
        "\n",
        "[[ 0.044 -0.011  0.12   0.022  2.023 -0.963 -0.105  0.187]]\n",
        "[[ 0.043 -0.011  0.12   0.022  2.023 -0.963 -0.105  0.187]]\n",
        "[[ 0.044 -0.011  0.12   0.022  2.023 -0.963 -0.105  0.187]]\n",
        "[[ 0.043 -0.011  0.12   0.022  2.023 -0.963 -0.105  0.187]]\n",
        "[[ 0.044 -0.011  0.12   0.022  2.023 -0.963 -0.105  0.187]]"
       ]
      },
      {
       "output_type": "stream",
       "stream": "stdout",
       "text": [
        "\n",
        "[[ 0.043 -0.011  0.12   0.022  2.023 -0.963 -0.105  0.187]]\n",
        "[[ 0.044 -0.011  0.12   0.022  2.023 -0.963 -0.105  0.187]]\n",
        "[[ 0.043 -0.011  0.12   0.022  2.023 -0.963 -0.105  0.187]]\n",
        "[[ 0.044 -0.011  0.12   0.022  2.023 -0.963 -0.105  0.187]]\n",
        "[[ 0.043 -0.011  0.12   0.022  2.023 -0.963 -0.105  0.187]]\n",
        "[[ 0.044 -0.011  0.12   0.022  2.023 -0.963 -0.105  0.187]]"
       ]
      },
      {
       "output_type": "stream",
       "stream": "stdout",
       "text": [
        "\n",
        "[[ 0.043 -0.011  0.12   0.022  2.023 -0.963 -0.105  0.187]]\n",
        "[[ 0.044 -0.011  0.12   0.022  2.023 -0.963 -0.105  0.187]]\n",
        "[[ 0.043 -0.011  0.12   0.022  2.023 -0.963 -0.105  0.187]]\n",
        "[[ 0.044 -0.011  0.12   0.022  2.023 -0.963 -0.105  0.187]]\n",
        "[[ 0.043 -0.011  0.12   0.022  2.023 -0.963 -0.105  0.187]]\n",
        "[[ 0.044 -0.011  0.12   0.022  2.023 -0.963 -0.105  0.187]]"
       ]
      },
      {
       "output_type": "stream",
       "stream": "stdout",
       "text": [
        "\n",
        "[[ 0.043 -0.011  0.12   0.022  2.023 -0.963 -0.105  0.187]]\n",
        "[[ 0.044 -0.011  0.12   0.022  2.023 -0.963 -0.105  0.187]]\n",
        "[[ 0.043 -0.011  0.12   0.022  2.023 -0.963 -0.105  0.187]]\n",
        "[[ 0.044 -0.011  0.12   0.022  2.023 -0.963 -0.105  0.187]]\n",
        "[[ 0.043 -0.011  0.12   0.022  2.023 -0.963 -0.105  0.187]]"
       ]
      },
      {
       "output_type": "stream",
       "stream": "stdout",
       "text": [
        "\n",
        "[[ 0.044 -0.011  0.12   0.022  2.023 -0.963 -0.105  0.187]]\n",
        "[[ 0.043 -0.011  0.12   0.022  2.023 -0.963 -0.105  0.187]]\n",
        "[[ 0.044 -0.011  0.12   0.022  2.023 -0.963 -0.105  0.187]]\n",
        "[[ 0.043 -0.011  0.12   0.022  2.023 -0.963 -0.105  0.187]]\n",
        "[[ 0.044 -0.011  0.12   0.022  2.023 -0.963 -0.105  0.187]]"
       ]
      },
      {
       "output_type": "stream",
       "stream": "stdout",
       "text": [
        "\n",
        "[[ 0.043 -0.011  0.12   0.022  2.023 -0.963 -0.105  0.187]]\n",
        "[[ 0.044 -0.011  0.12   0.022  2.023 -0.963 -0.105  0.187]]\n",
        "[[ 0.043 -0.011  0.12   0.022  2.023 -0.963 -0.105  0.187]]\n",
        "[[ 0.044 -0.011  0.12   0.022  2.023 -0.963 -0.105  0.187]]\n",
        "[[ 0.043 -0.011  0.12   0.022  2.023 -0.963 -0.105  0.187]]"
       ]
      },
      {
       "output_type": "stream",
       "stream": "stdout",
       "text": [
        "\n",
        "[[ 0.044 -0.011  0.12   0.022  2.023 -0.963 -0.105  0.187]]\n",
        "[[ 0.043 -0.011  0.12   0.022  2.023 -0.963 -0.105  0.187]]\n",
        "[[ 0.044 -0.011  0.12   0.022  2.023 -0.963 -0.105  0.187]]\n",
        "[[ 0.043 -0.011  0.12   0.022  2.023 -0.963 -0.105  0.187]]\n",
        "[[ 0.044 -0.011  0.12   0.022  2.023 -0.963 -0.105  0.187]]"
       ]
      },
      {
       "output_type": "stream",
       "stream": "stdout",
       "text": [
        "\n",
        "[[ 0.043 -0.011  0.12   0.022  2.023 -0.963 -0.105  0.187]]\n",
        "[[ 0.044 -0.011  0.12   0.022  2.023 -0.963 -0.105  0.187]]\n",
        "[[ 0.043 -0.011  0.12   0.022  2.023 -0.963 -0.105  0.187]]\n",
        "[[ 0.044 -0.011  0.12   0.022  2.023 -0.963 -0.105  0.187]]"
       ]
      },
      {
       "output_type": "stream",
       "stream": "stdout",
       "text": [
        "\n",
        "[[ 0.043 -0.011  0.12   0.022  2.023 -0.963 -0.105  0.187]]\n",
        "[[ 0.044 -0.011  0.12   0.022  2.023 -0.963 -0.105  0.187]]\n",
        "[[ 0.043 -0.011  0.12   0.022  2.023 -0.963 -0.105  0.187]]\n",
        "[[ 0.044 -0.011  0.12   0.022  2.023 -0.963 -0.105  0.187]]\n",
        "[[ 0.043 -0.011  0.12   0.022  2.023 -0.963 -0.105  0.187]]"
       ]
      },
      {
       "output_type": "stream",
       "stream": "stdout",
       "text": [
        "\n",
        "[[ 0.044 -0.011  0.12   0.022  2.023 -0.963 -0.105  0.187]]\n",
        "[[ 0.043 -0.011  0.12   0.022  2.023 -0.963 -0.105  0.187]]\n",
        "[[ 0.044 -0.011  0.12   0.022  2.023 -0.963 -0.105  0.187]]\n",
        "[[ 0.043 -0.011  0.12   0.022  2.023 -0.963 -0.105  0.187]]\n",
        "[[ 0.044 -0.011  0.12   0.022  2.023 -0.963 -0.105  0.187]]\n",
        "[[ 0.043 -0.011  0.12   0.022  2.023 -0.963 -0.105  0.187]]"
       ]
      },
      {
       "output_type": "stream",
       "stream": "stdout",
       "text": [
        "\n",
        "[[ 0.044 -0.011  0.12   0.022  2.023 -0.963 -0.105  0.187]]\n",
        "[[ 0.043 -0.011  0.12   0.022  2.023 -0.963 -0.105  0.187]]\n",
        "[[ 0.044 -0.011  0.12   0.022  2.023 -0.963 -0.105  0.187]]"
       ]
      },
      {
       "output_type": "stream",
       "stream": "stdout",
       "text": [
        "\n",
        "[[ 0.043 -0.011  0.12   0.022  2.023 -0.963 -0.105  0.187]]\n",
        "[[ 0.044 -0.011  0.12   0.022  2.023 -0.963 -0.105  0.187]]\n",
        "[[ 0.043 -0.011  0.12   0.022  2.023 -0.963 -0.105  0.187]]\n",
        "[[ 0.044 -0.011  0.12   0.022  2.023 -0.963 -0.105  0.187]]\n",
        "[[ 0.043 -0.011  0.12   0.022  2.023 -0.963 -0.105  0.187]]\n",
        "[[ 0.044 -0.011  0.12   0.022  2.023 -0.963 -0.105  0.187]]"
       ]
      },
      {
       "output_type": "stream",
       "stream": "stdout",
       "text": [
        "\n",
        "[[ 0.043 -0.011  0.12   0.022  2.023 -0.963 -0.105  0.187]]\n",
        "[[ 0.044 -0.011  0.12   0.022  2.023 -0.963 -0.105  0.187]]\n",
        "[[ 0.043 -0.011  0.12   0.022  2.023 -0.963 -0.105  0.187]]\n",
        "[[ 0.044 -0.011  0.12   0.022  2.023 -0.963 -0.105  0.187]]\n",
        "[[ 0.043 -0.011  0.12   0.022  2.023 -0.963 -0.105  0.187]]"
       ]
      },
      {
       "output_type": "stream",
       "stream": "stdout",
       "text": [
        "\n",
        "[[ 0.044 -0.011  0.12   0.022  2.023 -0.963 -0.105  0.187]]\n",
        "[[ 0.043 -0.011  0.12   0.022  2.023 -0.963 -0.105  0.187]]\n",
        "[[ 0.044 -0.011  0.12   0.022  2.023 -0.963 -0.105  0.187]]\n",
        "[[ 0.043 -0.011  0.12   0.022  2.023 -0.963 -0.105  0.187]]\n",
        "[[ 0.044 -0.011  0.12   0.022  2.023 -0.963 -0.105  0.187]]"
       ]
      },
      {
       "output_type": "stream",
       "stream": "stdout",
       "text": [
        "\n",
        "[[ 0.043 -0.011  0.12   0.022  2.023 -0.963 -0.105  0.187]]\n",
        "[[ 0.044 -0.011  0.12   0.022  2.023 -0.963 -0.105  0.187]]\n",
        "[[ 0.043 -0.011  0.12   0.022  2.023 -0.963 -0.105  0.187]]\n",
        "[[ 0.044 -0.011  0.12   0.022  2.023 -0.963 -0.105  0.187]]\n",
        "[[ 0.043 -0.011  0.12   0.022  2.023 -0.963 -0.105  0.187]]"
       ]
      },
      {
       "output_type": "stream",
       "stream": "stdout",
       "text": [
        "\n",
        "[[ 0.044 -0.011  0.12   0.022  2.023 -0.963 -0.105  0.187]]\n",
        "[[ 0.043 -0.011  0.12   0.022  2.023 -0.963 -0.105  0.187]]\n",
        "[[ 0.044 -0.011  0.12   0.022  2.023 -0.963 -0.105  0.187]]\n",
        "[[ 0.043 -0.011  0.12   0.022  2.023 -0.963 -0.105  0.187]]\n",
        "[[ 0.044 -0.011  0.12   0.022  2.023 -0.963 -0.105  0.187]]"
       ]
      },
      {
       "output_type": "stream",
       "stream": "stdout",
       "text": [
        "\n",
        "[[ 0.043 -0.011  0.12   0.022  2.023 -0.963 -0.105  0.187]]\n",
        "[[ 0.044 -0.011  0.12   0.022  2.023 -0.963 -0.105  0.187]]\n",
        "[[ 0.043 -0.011  0.12   0.022  2.023 -0.963 -0.105  0.187]]\n",
        "[[ 0.044 -0.011  0.12   0.022  2.023 -0.963 -0.105  0.187]]\n",
        "[[ 0.043 -0.011  0.12   0.022  2.023 -0.963 -0.105  0.187]]"
       ]
      },
      {
       "output_type": "stream",
       "stream": "stdout",
       "text": [
        "\n",
        "[[ 0.044 -0.011  0.12   0.022  2.023 -0.963 -0.105  0.187]]\n",
        "[[ 0.043 -0.011  0.12   0.022  2.023 -0.963 -0.105  0.187]]\n",
        "[[ 0.044 -0.011  0.12   0.022  2.023 -0.963 -0.105  0.187]]\n",
        "[[ 0.043 -0.011  0.12   0.022  2.023 -0.963 -0.105  0.187]]\n",
        "[[ 0.044 -0.011  0.12   0.022  2.023 -0.963 -0.105  0.187]]"
       ]
      },
      {
       "output_type": "stream",
       "stream": "stdout",
       "text": [
        "\n",
        "[[ 0.043 -0.011  0.12   0.022  2.023 -0.963 -0.105  0.187]]\n",
        "[[ 0.044 -0.011  0.12   0.022  2.023 -0.963 -0.105  0.187]]\n",
        "[[ 0.043 -0.011  0.12   0.022  2.023 -0.963 -0.105  0.187]]\n",
        "[[ 0.044 -0.011  0.12   0.022  2.023 -0.963 -0.105  0.187]]\n",
        "[[ 0.043 -0.011  0.12   0.022  2.023 -0.963 -0.105  0.187]]"
       ]
      },
      {
       "output_type": "stream",
       "stream": "stdout",
       "text": [
        "\n",
        "[[ 0.044 -0.011  0.12   0.022  2.023 -0.963 -0.105  0.187]]\n",
        "[[ 0.043 -0.011  0.12   0.022  2.023 -0.963 -0.105  0.187]]\n",
        "[[ 0.044 -0.011  0.12   0.022  2.023 -0.963 -0.105  0.187]]\n",
        "[[ 0.043 -0.011  0.12   0.022  2.023 -0.963 -0.105  0.187]]\n",
        "[[ 0.044 -0.011  0.12   0.022  2.023 -0.963 -0.105  0.187]]\n",
        "[[ 0.043 -0.011  0.12   0.022  2.023 -0.963 -0.105  0.187]]"
       ]
      },
      {
       "output_type": "stream",
       "stream": "stdout",
       "text": [
        "\n",
        "[[ 0.044 -0.011  0.12   0.022  2.023 -0.963 -0.105  0.187]]\n",
        "[[ 0.043 -0.011  0.12   0.022  2.023 -0.963 -0.105  0.187]]\n",
        "[[ 0.044 -0.011  0.12   0.022  2.023 -0.963 -0.105  0.187]]\n",
        "[[ 0.043 -0.011  0.12   0.022  2.023 -0.963 -0.105  0.187]]\n",
        "[[ 0.044 -0.011  0.12   0.022  2.023 -0.963 -0.105  0.187]]\n",
        "[[ 0.043 -0.011  0.12   0.022  2.023 -0.963 -0.105  0.187]]"
       ]
      },
      {
       "output_type": "stream",
       "stream": "stdout",
       "text": [
        "\n",
        "[[ 0.044 -0.011  0.12   0.022  2.023 -0.963 -0.105  0.187]]\n",
        "[[ 0.043 -0.011  0.12   0.022  2.023 -0.963 -0.105  0.187]]\n",
        "[[ 0.044 -0.011  0.12   0.022  2.023 -0.963 -0.105  0.187]]\n",
        "[[ 0.043 -0.011  0.12   0.022  2.023 -0.963 -0.105  0.187]]\n",
        "[[ 0.044 -0.011  0.12   0.022  2.023 -0.963 -0.105  0.187]]\n",
        "[[ 0.043 -0.011  0.12   0.022  2.023 -0.963 -0.105  0.187]]"
       ]
      },
      {
       "output_type": "stream",
       "stream": "stdout",
       "text": [
        "\n",
        "[[ 0.044 -0.011  0.12   0.022  2.023 -0.963 -0.105  0.187]]\n",
        "[[ 0.043 -0.011  0.12   0.022  2.023 -0.963 -0.105  0.187]]\n",
        "[[ 0.044 -0.011  0.12   0.022  2.023 -0.963 -0.105  0.187]]\n",
        "[[ 0.043 -0.011  0.12   0.022  2.023 -0.963 -0.105  0.187]]\n",
        "[[ 0.044 -0.011  0.12   0.022  2.023 -0.963 -0.105  0.187]]\n",
        "[[ 0.043 -0.011  0.12   0.022  2.023 -0.963 -0.105  0.187]]"
       ]
      },
      {
       "output_type": "stream",
       "stream": "stdout",
       "text": [
        "\n",
        "[[ 0.044 -0.011  0.12   0.022  2.023 -0.963 -0.105  0.187]]\n",
        "[[ 0.043 -0.011  0.12   0.022  2.023 -0.963 -0.105  0.187]]\n",
        "[[ 0.044 -0.011  0.12   0.022  2.023 -0.963 -0.105  0.187]]\n",
        "[[ 0.043 -0.011  0.12   0.022  2.023 -0.963 -0.105  0.187]]\n",
        "[[ 0.044 -0.011  0.12   0.022  2.023 -0.963 -0.105  0.187]]\n",
        "[[ 0.043 -0.011  0.12   0.022  2.023 -0.963 -0.105  0.187]]"
       ]
      },
      {
       "output_type": "stream",
       "stream": "stdout",
       "text": [
        "\n",
        "[[ 0.044 -0.011  0.12   0.022  2.023 -0.963 -0.105  0.187]]\n",
        "[[ 0.043 -0.011  0.12   0.022  2.023 -0.963 -0.105  0.187]]\n",
        "[[ 0.044 -0.011  0.12   0.022  2.023 -0.963 -0.105  0.187]]\n",
        "[[ 0.043 -0.011  0.12   0.022  2.023 -0.963 -0.105  0.187]]\n",
        "[[ 0.044 -0.011  0.12   0.022  2.023 -0.963 -0.105  0.187]]\n",
        "[[ 0.043 -0.011  0.12   0.022  2.023 -0.963 -0.105  0.187]]"
       ]
      },
      {
       "output_type": "stream",
       "stream": "stdout",
       "text": [
        "\n",
        "[[ 0.044 -0.011  0.12   0.022  2.023 -0.963 -0.105  0.187]]\n",
        "[[ 0.043 -0.011  0.12   0.022  2.023 -0.963 -0.105  0.187]]\n",
        "[[ 0.044 -0.011  0.12   0.022  2.023 -0.963 -0.105  0.187]]\n",
        "[[ 0.043 -0.011  0.12   0.022  2.023 -0.963 -0.105  0.187]]\n",
        "[[ 0.044 -0.011  0.12   0.022  2.023 -0.963 -0.105  0.187]]\n",
        "[[ 0.043 -0.011  0.12   0.022  2.023 -0.963 -0.105  0.187]]"
       ]
      },
      {
       "output_type": "stream",
       "stream": "stdout",
       "text": [
        "\n",
        "[[ 0.044 -0.011  0.12   0.022  2.023 -0.963 -0.105  0.187]]\n",
        "[[ 0.043 -0.011  0.12   0.022  2.023 -0.963 -0.105  0.187]]\n",
        "[[ 0.044 -0.011  0.12   0.022  2.023 -0.963 -0.105  0.187]]\n",
        "[[ 0.043 -0.011  0.12   0.022  2.023 -0.963 -0.105  0.187]]\n",
        "[[ 0.044 -0.011  0.12   0.022  2.023 -0.963 -0.105  0.187]]\n",
        "[[ 0.043 -0.011  0.12   0.022  2.023 -0.963 -0.105  0.187]]"
       ]
      },
      {
       "output_type": "stream",
       "stream": "stdout",
       "text": [
        "\n",
        "[[ 0.044 -0.011  0.12   0.022  2.023 -0.963 -0.105  0.187]]\n",
        "[[ 0.043 -0.011  0.12   0.022  2.023 -0.963 -0.105  0.187]]\n",
        "[[ 0.044 -0.011  0.12   0.022  2.023 -0.963 -0.105  0.187]]\n",
        "[[ 0.043 -0.011  0.12   0.022  2.023 -0.963 -0.105  0.187]]\n",
        "[[ 0.044 -0.011  0.12   0.022  2.023 -0.963 -0.105  0.187]]\n",
        "[[ 0.043 -0.011  0.12   0.022  2.023 -0.963 -0.105  0.187]]"
       ]
      },
      {
       "output_type": "stream",
       "stream": "stdout",
       "text": [
        "\n",
        "[[ 0.044 -0.011  0.12   0.022  2.023 -0.963 -0.105  0.187]]\n",
        "[[ 0.043 -0.011  0.12   0.022  2.023 -0.963 -0.105  0.187]]\n",
        "[[ 0.044 -0.011  0.12   0.022  2.023 -0.963 -0.105  0.187]]\n",
        "[[ 0.043 -0.011  0.12   0.022  2.023 -0.963 -0.105  0.187]]\n",
        "[[ 0.044 -0.011  0.12   0.022  2.023 -0.963 -0.105  0.187]]\n",
        "[[ 0.043 -0.011  0.12   0.022  2.023 -0.963 -0.105  0.187]]"
       ]
      },
      {
       "output_type": "stream",
       "stream": "stdout",
       "text": [
        "\n",
        "[[ 0.044 -0.011  0.12   0.022  2.023 -0.963 -0.105  0.187]]\n",
        "[[ 0.043 -0.011  0.12   0.022  2.023 -0.963 -0.105  0.187]]\n",
        "[[ 0.044 -0.011  0.12   0.022  2.023 -0.963 -0.105  0.187]]\n",
        "[[ 0.043 -0.011  0.12   0.022  2.023 -0.963 -0.105  0.187]]\n",
        "[[ 0.044 -0.011  0.12   0.022  2.023 -0.963 -0.105  0.187]]\n",
        "[[ 0.043 -0.011  0.12   0.022  2.023 -0.963 -0.105  0.187]]"
       ]
      },
      {
       "output_type": "stream",
       "stream": "stdout",
       "text": [
        "\n",
        "[[ 0.044 -0.011  0.12   0.022  2.023 -0.963 -0.105  0.187]]\n",
        "[[ 0.043 -0.011  0.12   0.022  2.023 -0.963 -0.105  0.187]]\n",
        "[[ 0.044 -0.011  0.12   0.022  2.023 -0.963 -0.105  0.187]]\n",
        "[[ 0.043 -0.011  0.12   0.022  2.023 -0.963 -0.105  0.187]]\n",
        "[[ 0.044 -0.011  0.12   0.022  2.023 -0.963 -0.105  0.187]]\n",
        "[[ 0.043 -0.011  0.12   0.022  2.023 -0.963 -0.105  0.187]]"
       ]
      },
      {
       "output_type": "stream",
       "stream": "stdout",
       "text": [
        "\n",
        "[[ 0.044 -0.011  0.12   0.022  2.023 -0.963 -0.105  0.187]]\n",
        "[[ 0.043 -0.011  0.12   0.022  2.023 -0.963 -0.105  0.187]]\n",
        "[[ 0.044 -0.011  0.12   0.022  2.023 -0.963 -0.105  0.187]]\n",
        "[[ 0.043 -0.011  0.12   0.022  2.023 -0.963 -0.105  0.187]]\n",
        "[[ 0.044 -0.011  0.12   0.022  2.023 -0.963 -0.105  0.187]]"
       ]
      },
      {
       "output_type": "stream",
       "stream": "stdout",
       "text": [
        "\n",
        "[[ 0.043 -0.011  0.12   0.022  2.023 -0.963 -0.105  0.187]]\n",
        "[[ 0.044 -0.011  0.12   0.022  2.023 -0.963 -0.105  0.187]]\n",
        "[[ 0.043 -0.011  0.12   0.022  2.023 -0.963 -0.105  0.187]]\n",
        "[[ 0.044 -0.011  0.12   0.022  2.023 -0.963 -0.105  0.187]]\n",
        "[[ 0.043 -0.011  0.12   0.022  2.023 -0.963 -0.105  0.187]]"
       ]
      },
      {
       "output_type": "stream",
       "stream": "stdout",
       "text": [
        "\n",
        "[[ 0.044 -0.011  0.12   0.022  2.023 -0.963 -0.105  0.187]]\n",
        "[[ 0.043 -0.011  0.12   0.022  2.023 -0.963 -0.105  0.187]]\n",
        "[[ 0.044 -0.011  0.12   0.022  2.023 -0.963 -0.105  0.187]]\n",
        "[[ 0.043 -0.011  0.12   0.022  2.023 -0.963 -0.105  0.187]]\n",
        "[[ 0.044 -0.011  0.12   0.022  2.023 -0.963 -0.105  0.187]]"
       ]
      },
      {
       "output_type": "stream",
       "stream": "stdout",
       "text": [
        "\n",
        "[[ 0.043 -0.011  0.12   0.022  2.023 -0.963 -0.105  0.187]]\n",
        "[[ 0.044 -0.011  0.12   0.022  2.023 -0.963 -0.105  0.187]]\n",
        "[[ 0.043 -0.011  0.12   0.022  2.023 -0.963 -0.105  0.187]]\n",
        "[[ 0.044 -0.011  0.12   0.022  2.023 -0.963 -0.105  0.187]]\n",
        "[[ 0.043 -0.011  0.12   0.022  2.023 -0.963 -0.105  0.187]]"
       ]
      },
      {
       "output_type": "stream",
       "stream": "stdout",
       "text": [
        "\n",
        "[[ 0.044 -0.011  0.12   0.022  2.023 -0.963 -0.105  0.187]]\n",
        "[[ 0.043 -0.011  0.12   0.022  2.023 -0.963 -0.105  0.187]]"
       ]
      },
      {
       "output_type": "stream",
       "stream": "stdout",
       "text": [
        "\n",
        "[[ 0.044 -0.011  0.12   0.022  2.023 -0.963 -0.105  0.187]]\n",
        "[[ 0.043 -0.011  0.12   0.022  2.023 -0.963 -0.105  0.187]]\n",
        "[[ 0.044 -0.011  0.12   0.022  2.023 -0.963 -0.105  0.187]]\n",
        "[[ 0.043 -0.011  0.12   0.022  2.023 -0.963 -0.105  0.187]]\n",
        "[[ 0.044 -0.011  0.12   0.022  2.023 -0.963 -0.105  0.187]]"
       ]
      },
      {
       "output_type": "stream",
       "stream": "stdout",
       "text": [
        "\n",
        "[[ 0.043 -0.011  0.12   0.022  2.023 -0.963 -0.105  0.187]]\n",
        "[[ 0.044 -0.011  0.12   0.022  2.023 -0.963 -0.105  0.187]]\n",
        "[[ 0.043 -0.011  0.12   0.022  2.023 -0.963 -0.105  0.187]]\n",
        "[[ 0.044 -0.011  0.12   0.022  2.023 -0.963 -0.105  0.187]]\n",
        "[[ 0.043 -0.011  0.12   0.022  2.023 -0.963 -0.105  0.187]]"
       ]
      },
      {
       "output_type": "stream",
       "stream": "stdout",
       "text": [
        "\n",
        "[[ 0.044 -0.011  0.12   0.022  2.023 -0.963 -0.105  0.187]]\n",
        "[[ 0.043 -0.011  0.12   0.022  2.023 -0.963 -0.105  0.187]]\n",
        "[[ 0.044 -0.011  0.12   0.022  2.023 -0.963 -0.105  0.187]]\n",
        "[[ 0.043 -0.011  0.12   0.022  2.023 -0.963 -0.105  0.187]]\n",
        "[[ 0.044 -0.011  0.12   0.022  2.023 -0.963 -0.105  0.187]]"
       ]
      },
      {
       "output_type": "stream",
       "stream": "stdout",
       "text": [
        "\n",
        "[[ 0.043 -0.011  0.12   0.022  2.023 -0.963 -0.105  0.187]]\n",
        "[[ 0.044 -0.011  0.12   0.022  2.023 -0.963 -0.105  0.187]]"
       ]
      },
      {
       "output_type": "stream",
       "stream": "stdout",
       "text": [
        "\n",
        "[[ 0.043 -0.011  0.12   0.022  2.023 -0.963 -0.105  0.187]]\n",
        "[[ 0.044 -0.011  0.12   0.022  2.023 -0.963 -0.105  0.187]]\n",
        "[[ 0.043 -0.011  0.12   0.022  2.023 -0.963 -0.105  0.187]]\n",
        "[[ 0.044 -0.011  0.12   0.022  2.023 -0.963 -0.105  0.187]]\n",
        "[[ 0.043 -0.011  0.12   0.022  2.023 -0.963 -0.105  0.187]]"
       ]
      },
      {
       "output_type": "stream",
       "stream": "stdout",
       "text": [
        "\n",
        "[[ 0.044 -0.011  0.12   0.022  2.023 -0.963 -0.105  0.187]]\n",
        "[[ 0.043 -0.011  0.12   0.022  2.023 -0.963 -0.105  0.187]]\n",
        "[[ 0.044 -0.011  0.12   0.022  2.023 -0.963 -0.105  0.187]]\n",
        "[[ 0.043 -0.011  0.12   0.022  2.023 -0.963 -0.105  0.187]]\n",
        "[[ 0.044 -0.011  0.12   0.022  2.023 -0.963 -0.105  0.187]]"
       ]
      },
      {
       "output_type": "stream",
       "stream": "stdout",
       "text": [
        "\n",
        "[[ 0.043 -0.011  0.12   0.022  2.023 -0.963 -0.105  0.187]]\n",
        "[[ 0.044 -0.011  0.12   0.022  2.023 -0.963 -0.105  0.187]]\n",
        "[[ 0.043 -0.011  0.12   0.022  2.023 -0.963 -0.105  0.187]]\n",
        "[[ 0.044 -0.011  0.12   0.022  2.023 -0.963 -0.105  0.187]]\n",
        "[[ 0.043 -0.011  0.12   0.022  2.023 -0.963 -0.105  0.187]]"
       ]
      },
      {
       "output_type": "stream",
       "stream": "stdout",
       "text": [
        "\n",
        "[[ 0.044 -0.011  0.12   0.022  2.023 -0.963 -0.105  0.187]]\n",
        "[[ 0.043 -0.011  0.12   0.022  2.023 -0.963 -0.105  0.187]]\n",
        "[[ 0.044 -0.011  0.12   0.022  2.023 -0.963 -0.105  0.187]]\n",
        "[[ 0.043 -0.011  0.12   0.022  2.023 -0.963 -0.105  0.187]]\n",
        "[[ 0.044 -0.011  0.12   0.022  2.023 -0.963 -0.105  0.187]]"
       ]
      },
      {
       "output_type": "stream",
       "stream": "stdout",
       "text": [
        "\n",
        "[[ 0.043 -0.011  0.12   0.022  2.023 -0.963 -0.105  0.187]]\n",
        "[[ 0.044 -0.011  0.12   0.022  2.023 -0.963 -0.105  0.187]]\n",
        "[[ 0.043 -0.011  0.12   0.022  2.023 -0.963 -0.105  0.187]]\n",
        "[[ 0.044 -0.011  0.12   0.022  2.023 -0.963 -0.105  0.187]]\n",
        "[[ 0.043 -0.011  0.12   0.022  2.023 -0.963 -0.105  0.187]]"
       ]
      },
      {
       "output_type": "stream",
       "stream": "stdout",
       "text": [
        "\n",
        "[[ 0.044 -0.011  0.12   0.022  2.023 -0.963 -0.105  0.187]]\n",
        "[[ 0.043 -0.011  0.12   0.022  2.023 -0.963 -0.105  0.187]]\n",
        "[[ 0.044 -0.011  0.12   0.022  2.023 -0.963 -0.105  0.187]]\n",
        "[[ 0.043 -0.011  0.12   0.022  2.023 -0.963 -0.105  0.187]]\n",
        "[[ 0.044 -0.011  0.12   0.022  2.023 -0.963 -0.105  0.187]]"
       ]
      },
      {
       "output_type": "stream",
       "stream": "stdout",
       "text": [
        "\n",
        "[[ 0.043 -0.011  0.12   0.022  2.023 -0.963 -0.105  0.187]]\n",
        "[[ 0.044 -0.011  0.12   0.022  2.023 -0.963 -0.105  0.187]]\n",
        "[[ 0.043 -0.011  0.12   0.022  2.023 -0.963 -0.105  0.187]]\n",
        "[[ 0.044 -0.011  0.12   0.022  2.023 -0.963 -0.105  0.187]]\n",
        "[[ 0.043 -0.011  0.12   0.022  2.023 -0.963 -0.105  0.187]]"
       ]
      },
      {
       "output_type": "stream",
       "stream": "stdout",
       "text": [
        "\n",
        "[[ 0.044 -0.011  0.12   0.022  2.023 -0.963 -0.105  0.187]]\n",
        "[[ 0.043 -0.011  0.12   0.022  2.023 -0.963 -0.105  0.187]]\n",
        "[[ 0.044 -0.011  0.12   0.022  2.023 -0.963 -0.105  0.187]]\n",
        "[[ 0.043 -0.011  0.12   0.022  2.023 -0.963 -0.105  0.187]]\n",
        "[[ 0.044 -0.011  0.12   0.022  2.023 -0.963 -0.105  0.187]]\n",
        "[[ 0.043 -0.011  0.12   0.022  2.023 -0.963 -0.105  0.187]]"
       ]
      },
      {
       "output_type": "stream",
       "stream": "stdout",
       "text": [
        "\n",
        "[[ 0.044 -0.011  0.12   0.022  2.023 -0.963 -0.105  0.187]]\n",
        "[[ 0.043 -0.011  0.12   0.022  2.023 -0.963 -0.105  0.187]]\n",
        "[[ 0.044 -0.011  0.12   0.022  2.023 -0.963 -0.105  0.187]]\n",
        "[[ 0.043 -0.011  0.12   0.022  2.023 -0.963 -0.105  0.187]]\n",
        "[[ 0.044 -0.011  0.12   0.022  2.023 -0.963 -0.105  0.187]]\n",
        "[[ 0.043 -0.011  0.12   0.022  2.023 -0.963 -0.105  0.187]]"
       ]
      },
      {
       "output_type": "stream",
       "stream": "stdout",
       "text": [
        "\n",
        "[[ 0.044 -0.011  0.12   0.022  2.023 -0.963 -0.105  0.187]]\n",
        "[[ 0.043 -0.011  0.12   0.022  2.023 -0.963 -0.105  0.187]]\n",
        "[[ 0.044 -0.011  0.12   0.022  2.023 -0.963 -0.105  0.187]]\n",
        "[[ 0.043 -0.011  0.12   0.022  2.023 -0.963 -0.105  0.187]]\n",
        "[[ 0.044 -0.011  0.12   0.022  2.023 -0.963 -0.105  0.187]]"
       ]
      },
      {
       "output_type": "stream",
       "stream": "stdout",
       "text": [
        "\n",
        "[[ 0.043 -0.011  0.12   0.022  2.023 -0.963 -0.105  0.187]]\n",
        "[[ 0.044 -0.011  0.12   0.022  2.023 -0.963 -0.105  0.187]]\n",
        "[[ 0.043 -0.011  0.12   0.022  2.023 -0.963 -0.105  0.187]]\n",
        "[[ 0.044 -0.011  0.12   0.022  2.023 -0.963 -0.105  0.187]]\n",
        "[[ 0.043 -0.011  0.12   0.022  2.023 -0.963 -0.105  0.187]]\n",
        "[[ 0.044 -0.011  0.12   0.022  2.023 -0.963 -0.105  0.187]]"
       ]
      },
      {
       "output_type": "stream",
       "stream": "stdout",
       "text": [
        "\n",
        "[[ 0.043 -0.011  0.12   0.022  2.023 -0.963 -0.105  0.187]]\n",
        "[[ 0.044 -0.011  0.12   0.022  2.023 -0.963 -0.105  0.187]]\n",
        "[[ 0.043 -0.011  0.12   0.022  2.023 -0.963 -0.105  0.187]]\n",
        "[[ 0.044 -0.011  0.12   0.022  2.023 -0.963 -0.105  0.187]]\n",
        "[[ 0.043 -0.011  0.12   0.022  2.023 -0.963 -0.105  0.187]]\n",
        "[[ 0.044 -0.011  0.12   0.022  2.023 -0.963 -0.105  0.187]]"
       ]
      },
      {
       "output_type": "stream",
       "stream": "stdout",
       "text": [
        "\n",
        "[[ 0.043 -0.011  0.12   0.022  2.023 -0.963 -0.105  0.187]]\n",
        "[[ 0.044 -0.011  0.12   0.022  2.023 -0.963 -0.105  0.187]]\n",
        "[[ 0.043 -0.011  0.12   0.022  2.023 -0.963 -0.105  0.187]]\n",
        "[[ 0.044 -0.011  0.12   0.022  2.023 -0.963 -0.105  0.187]]\n",
        "[[ 0.043 -0.011  0.12   0.022  2.023 -0.963 -0.105  0.187]]"
       ]
      },
      {
       "output_type": "stream",
       "stream": "stdout",
       "text": [
        "\n",
        "[[ 0.044 -0.011  0.12   0.022  2.023 -0.963 -0.105  0.187]]\n",
        "[[ 0.043 -0.011  0.12   0.022  2.023 -0.963 -0.105  0.187]]\n",
        "[[ 0.044 -0.011  0.12   0.022  2.023 -0.963 -0.105  0.187]]\n",
        "[[ 0.043 -0.011  0.12   0.022  2.023 -0.963 -0.105  0.187]]\n",
        "[[ 0.044 -0.011  0.12   0.022  2.023 -0.963 -0.105  0.187]]\n",
        "[[ 0.043 -0.011  0.12   0.022  2.023 -0.963 -0.105  0.187]]"
       ]
      },
      {
       "output_type": "stream",
       "stream": "stdout",
       "text": [
        "\n",
        "[[ 0.044 -0.011  0.12   0.022  2.023 -0.963 -0.105  0.187]]\n",
        "[[ 0.043 -0.011  0.12   0.022  2.023 -0.963 -0.105  0.187]]\n",
        "[[ 0.044 -0.011  0.12   0.022  2.023 -0.963 -0.105  0.187]]\n",
        "[[ 0.043 -0.011  0.12   0.022  2.023 -0.963 -0.105  0.187]]\n",
        "[[ 0.044 -0.011  0.12   0.022  2.023 -0.963 -0.105  0.187]]\n",
        "[[ 0.043 -0.011  0.12   0.022  2.023 -0.963 -0.105  0.187]]"
       ]
      },
      {
       "output_type": "stream",
       "stream": "stdout",
       "text": [
        "\n",
        "[[ 0.044 -0.011  0.12   0.022  2.023 -0.963 -0.105  0.187]]\n",
        "[[ 0.043 -0.011  0.12   0.022  2.023 -0.963 -0.105  0.187]]\n",
        "[[ 0.044 -0.011  0.12   0.022  2.023 -0.963 -0.105  0.187]]\n",
        "[[ 0.043 -0.011  0.12   0.022  2.023 -0.963 -0.105  0.187]]\n",
        "[[ 0.044 -0.011  0.12   0.022  2.023 -0.963 -0.105  0.187]]\n",
        "[[ 0.043 -0.011  0.12   0.022  2.023 -0.963 -0.105  0.187]]"
       ]
      },
      {
       "output_type": "stream",
       "stream": "stdout",
       "text": [
        "\n",
        "[[ 0.044 -0.011  0.12   0.022  2.023 -0.963 -0.105  0.187]]\n",
        "[[ 0.043 -0.011  0.12   0.022  2.023 -0.963 -0.105  0.187]]\n",
        "[[ 0.044 -0.011  0.12   0.022  2.023 -0.963 -0.105  0.187]]\n",
        "[[ 0.043 -0.011  0.12   0.022  2.023 -0.963 -0.105  0.187]]\n",
        "[[ 0.044 -0.011  0.12   0.022  2.023 -0.963 -0.105  0.187]]\n",
        "[[ 0.043 -0.011  0.12   0.022  2.023 -0.963 -0.105  0.187]]"
       ]
      },
      {
       "output_type": "stream",
       "stream": "stdout",
       "text": [
        "\n",
        "[[ 0.044 -0.011  0.12   0.022  2.023 -0.963 -0.105  0.187]]\n",
        "[[ 0.043 -0.011  0.12   0.022  2.023 -0.963 -0.105  0.187]]\n",
        "[[ 0.044 -0.011  0.12   0.022  2.023 -0.963 -0.105  0.187]]\n",
        "[[ 0.043 -0.011  0.12   0.022  2.023 -0.963 -0.105  0.187]]\n",
        "[[ 0.044 -0.011  0.12   0.022  2.023 -0.963 -0.105  0.187]]\n",
        "[[ 0.043 -0.011  0.12   0.022  2.023 -0.963 -0.105  0.187]]"
       ]
      },
      {
       "output_type": "stream",
       "stream": "stdout",
       "text": [
        "\n",
        "[[ 0.044 -0.011  0.12   0.022  2.023 -0.963 -0.105  0.187]]\n",
        "[[ 0.043 -0.011  0.12   0.022  2.023 -0.963 -0.105  0.187]]\n",
        "[[ 0.044 -0.011  0.12   0.022  2.023 -0.963 -0.105  0.187]]\n",
        "[[ 0.043 -0.011  0.12   0.022  2.023 -0.963 -0.105  0.187]]\n",
        "[[ 0.044 -0.011  0.12   0.022  2.023 -0.963 -0.105  0.187]]"
       ]
      },
      {
       "output_type": "stream",
       "stream": "stdout",
       "text": [
        "\n",
        "[[ 0.043 -0.011  0.12   0.022  2.023 -0.963 -0.105  0.187]]\n",
        "[[ 0.044 -0.011  0.12   0.022  2.023 -0.963 -0.105  0.187]]\n",
        "[[ 0.043 -0.011  0.12   0.022  2.023 -0.963 -0.105  0.187]]\n",
        "[[ 0.044 -0.011  0.12   0.022  2.023 -0.963 -0.105  0.187]]\n",
        "[[ 0.043 -0.011  0.12   0.022  2.023 -0.963 -0.105  0.187]]\n",
        "[[ 0.044 -0.011  0.12   0.022  2.023 -0.963 -0.105  0.187]]"
       ]
      },
      {
       "output_type": "stream",
       "stream": "stdout",
       "text": [
        "\n",
        "[[ 0.043 -0.011  0.12   0.022  2.023 -0.963 -0.105  0.187]]\n",
        "[[ 0.044 -0.011  0.12   0.022  2.023 -0.963 -0.105  0.187]]\n",
        "[[ 0.043 -0.011  0.12   0.022  2.023 -0.963 -0.105  0.187]]\n",
        "[[ 0.044 -0.011  0.12   0.022  2.023 -0.963 -0.105  0.187]]\n",
        "[[ 0.043 -0.011  0.12   0.022  2.023 -0.963 -0.105  0.187]]\n",
        "[[ 0.044 -0.011  0.12   0.022  2.023 -0.963 -0.105  0.187]]"
       ]
      },
      {
       "output_type": "stream",
       "stream": "stdout",
       "text": [
        "\n",
        "[[ 0.043 -0.011  0.12   0.022  2.023 -0.963 -0.105  0.187]]\n",
        "[[ 0.044 -0.011  0.12   0.022  2.023 -0.963 -0.105  0.187]]\n",
        "[[ 0.043 -0.011  0.12   0.022  2.023 -0.963 -0.105  0.187]]\n",
        "[[ 0.044 -0.011  0.12   0.022  2.023 -0.963 -0.105  0.187]]\n",
        "[[ 0.043 -0.011  0.12   0.022  2.023 -0.963 -0.105  0.187]]\n",
        "[[ 0.044 -0.011  0.12   0.022  2.023 -0.963 -0.105  0.187]]"
       ]
      },
      {
       "output_type": "stream",
       "stream": "stdout",
       "text": [
        "\n",
        "[[ 0.043 -0.011  0.12   0.022  2.023 -0.963 -0.105  0.187]]\n",
        "[[ 0.044 -0.011  0.12   0.022  2.023 -0.963 -0.105  0.187]]\n",
        "[[ 0.043 -0.011  0.12   0.022  2.023 -0.963 -0.105  0.187]]\n",
        "[[ 0.044 -0.011  0.12   0.022  2.023 -0.963 -0.105  0.187]]\n",
        "[[ 0.043 -0.011  0.12   0.022  2.023 -0.963 -0.105  0.187]]"
       ]
      },
      {
       "output_type": "stream",
       "stream": "stdout",
       "text": [
        "\n",
        "[[ 0.044 -0.011  0.12   0.022  2.023 -0.963 -0.105  0.187]]\n",
        "[[ 0.043 -0.011  0.12   0.022  2.023 -0.963 -0.105  0.187]]\n",
        "[[ 0.044 -0.011  0.12   0.022  2.023 -0.963 -0.105  0.187]]\n",
        "[[ 0.043 -0.011  0.12   0.022  2.023 -0.963 -0.105  0.187]]\n",
        "[[ 0.044 -0.011  0.12   0.022  2.023 -0.963 -0.105  0.187]]\n",
        "[[ 0.043 -0.011  0.12   0.022  2.023 -0.963 -0.105  0.187]]"
       ]
      },
      {
       "output_type": "stream",
       "stream": "stdout",
       "text": [
        "\n",
        "[[ 0.044 -0.011  0.12   0.022  2.023 -0.963 -0.105  0.187]]\n",
        "[[ 0.043 -0.011  0.12   0.022  2.023 -0.963 -0.105  0.187]]\n",
        "[[ 0.044 -0.011  0.12   0.022  2.023 -0.963 -0.105  0.187]]\n",
        "[[ 0.043 -0.011  0.12   0.022  2.023 -0.963 -0.105  0.187]]\n",
        "[[ 0.044 -0.011  0.12   0.022  2.023 -0.963 -0.105  0.187]]\n",
        "[[ 0.043 -0.011  0.12   0.022  2.023 -0.963 -0.105  0.187]]"
       ]
      },
      {
       "output_type": "stream",
       "stream": "stdout",
       "text": [
        "\n",
        "[[ 0.044 -0.011  0.12   0.022  2.023 -0.963 -0.105  0.187]]\n",
        "[[ 0.043 -0.011  0.12   0.022  2.023 -0.963 -0.105  0.187]]\n",
        "[[ 0.044 -0.011  0.12   0.022  2.023 -0.963 -0.105  0.187]]\n",
        "[[ 0.043 -0.011  0.12   0.022  2.023 -0.963 -0.105  0.187]]\n",
        "[[ 0.044 -0.011  0.12   0.022  2.023 -0.963 -0.105  0.187]]"
       ]
      },
      {
       "output_type": "stream",
       "stream": "stdout",
       "text": [
        "\n",
        "[[ 0.043 -0.011  0.12   0.022  2.023 -0.963 -0.105  0.187]]\n",
        "[[ 0.044 -0.011  0.12   0.022  2.023 -0.963 -0.105  0.187]]\n",
        "[[ 0.043 -0.011  0.12   0.022  2.023 -0.963 -0.105  0.187]]\n",
        "[[ 0.044 -0.011  0.12   0.022  2.023 -0.963 -0.105  0.187]]\n",
        "[[ 0.043 -0.011  0.12   0.022  2.023 -0.963 -0.105  0.187]]"
       ]
      },
      {
       "output_type": "stream",
       "stream": "stdout",
       "text": [
        "\n",
        "[[ 0.044 -0.011  0.12   0.022  2.023 -0.963 -0.105  0.187]]\n",
        "[[ 0.043 -0.011  0.12   0.022  2.023 -0.963 -0.105  0.187]]\n",
        "[[ 0.044 -0.011  0.12   0.022  2.023 -0.963 -0.105  0.187]]\n",
        "[[ 0.043 -0.011  0.12   0.022  2.023 -0.963 -0.105  0.187]]\n",
        "[[ 0.044 -0.011  0.12   0.022  2.023 -0.963 -0.105  0.187]]\n",
        "[[ 0.043 -0.011  0.12   0.022  2.023 -0.963 -0.105  0.187]]"
       ]
      },
      {
       "output_type": "stream",
       "stream": "stdout",
       "text": [
        "\n",
        "[[ 0.044 -0.011  0.12   0.022  2.023 -0.963 -0.105  0.187]]\n",
        "[[ 0.043 -0.011  0.12   0.022  2.023 -0.963 -0.105  0.187]]\n",
        "[[ 0.044 -0.011  0.12   0.022  2.023 -0.963 -0.105  0.187]]\n",
        "[[ 0.043 -0.011  0.12   0.022  2.023 -0.963 -0.105  0.187]]\n",
        "[[ 0.044 -0.011  0.12   0.022  2.023 -0.963 -0.105  0.187]]"
       ]
      },
      {
       "output_type": "stream",
       "stream": "stdout",
       "text": [
        "\n",
        "[[ 0.043 -0.011  0.12   0.022  2.023 -0.963 -0.105  0.187]]\n",
        "[[ 0.044 -0.011  0.12   0.022  2.023 -0.963 -0.105  0.187]]\n",
        "[[ 0.043 -0.011  0.12   0.022  2.023 -0.963 -0.105  0.187]]\n",
        "[[ 0.044 -0.011  0.12   0.022  2.023 -0.963 -0.105  0.187]]\n",
        "[[ 0.043 -0.011  0.12   0.022  2.023 -0.963 -0.105  0.187]]\n",
        "[[ 0.044 -0.011  0.12   0.022  2.023 -0.963 -0.105  0.187]]"
       ]
      },
      {
       "output_type": "stream",
       "stream": "stdout",
       "text": [
        "\n",
        "[[ 0.043 -0.011  0.12   0.022  2.023 -0.963 -0.105  0.187]]\n",
        "[[ 0.044 -0.011  0.12   0.022  2.023 -0.963 -0.105  0.187]]\n",
        "[[ 0.043 -0.011  0.12   0.022  2.023 -0.963 -0.105  0.187]]\n",
        "[[ 0.044 -0.011  0.12   0.022  2.023 -0.963 -0.105  0.187]]\n",
        "[[ 0.043 -0.011  0.12   0.022  2.023 -0.963 -0.105  0.187]]\n",
        "[[ 0.044 -0.011  0.12   0.022  2.023 -0.963 -0.105  0.187]]"
       ]
      },
      {
       "output_type": "stream",
       "stream": "stdout",
       "text": [
        "\n",
        "[[ 0.043 -0.011  0.12   0.022  2.023 -0.963 -0.105  0.187]]\n",
        "[[ 0.044 -0.011  0.12   0.022  2.023 -0.963 -0.105  0.187]]\n",
        "[[ 0.043 -0.011  0.12   0.022  2.023 -0.963 -0.105  0.187]]\n",
        "[[ 0.044 -0.011  0.12   0.022  2.023 -0.963 -0.105  0.187]]\n",
        "[[ 0.043 -0.011  0.12   0.022  2.023 -0.963 -0.105  0.187]]"
       ]
      },
      {
       "output_type": "stream",
       "stream": "stdout",
       "text": [
        "\n",
        "[[ 0.044 -0.011  0.12   0.022  2.023 -0.963 -0.105  0.187]]\n",
        "[[ 0.043 -0.011  0.12   0.022  2.023 -0.963 -0.105  0.187]]\n",
        "[[ 0.044 -0.011  0.12   0.022  2.023 -0.963 -0.105  0.187]]\n",
        "[[ 0.043 -0.011  0.12   0.022  2.023 -0.963 -0.105  0.187]]\n",
        "[[ 0.044 -0.011  0.12   0.022  2.023 -0.963 -0.105  0.187]]\n",
        "[[ 0.043 -0.011  0.12   0.022  2.023 -0.963 -0.105  0.187]]"
       ]
      },
      {
       "output_type": "stream",
       "stream": "stdout",
       "text": [
        "\n",
        "[[ 0.044 -0.011  0.12   0.022  2.023 -0.963 -0.105  0.187]]\n",
        "[[ 0.043 -0.011  0.12   0.022  2.023 -0.963 -0.105  0.187]]\n",
        "[[ 0.044 -0.011  0.12   0.022  2.023 -0.963 -0.105  0.187]]\n",
        "[[ 0.043 -0.011  0.12   0.022  2.023 -0.963 -0.105  0.187]]\n",
        "[[ 0.044 -0.011  0.12   0.022  2.023 -0.963 -0.105  0.187]]\n",
        "[[ 0.043 -0.011  0.12   0.022  2.023 -0.963 -0.105  0.187]]"
       ]
      },
      {
       "output_type": "stream",
       "stream": "stdout",
       "text": [
        "\n",
        "[[ 0.044 -0.011  0.12   0.022  2.023 -0.963 -0.105  0.187]]\n",
        "[[ 0.043 -0.011  0.12   0.022  2.023 -0.963 -0.105  0.187]]\n",
        "[[ 0.044 -0.011  0.12   0.022  2.023 -0.963 -0.105  0.187]]\n",
        "[[ 0.043 -0.011  0.12   0.022  2.023 -0.963 -0.105  0.187]]\n",
        "[[ 0.044 -0.011  0.12   0.022  2.023 -0.963 -0.105  0.187]]"
       ]
      },
      {
       "output_type": "stream",
       "stream": "stdout",
       "text": [
        "\n",
        "[[ 0.043 -0.011  0.12   0.022  2.023 -0.963 -0.105  0.187]]\n",
        "[[ 0.044 -0.011  0.12   0.022  2.023 -0.963 -0.105  0.187]]\n",
        "[[ 0.043 -0.011  0.12   0.022  2.023 -0.963 -0.105  0.187]]\n",
        "[[ 0.044 -0.011  0.12   0.022  2.023 -0.963 -0.105  0.187]]\n",
        "[[ 0.043 -0.011  0.12   0.022  2.023 -0.963 -0.105  0.187]]"
       ]
      },
      {
       "output_type": "stream",
       "stream": "stdout",
       "text": [
        "\n",
        "[[ 0.044 -0.011  0.12   0.022  2.023 -0.963 -0.105  0.187]]\n",
        "[[ 0.043 -0.011  0.12   0.022  2.023 -0.963 -0.105  0.187]]\n",
        "[[ 0.044 -0.011  0.12   0.022  2.023 -0.963 -0.105  0.187]]\n",
        "[[ 0.043 -0.011  0.12   0.022  2.023 -0.963 -0.105  0.187]]\n",
        "[[ 0.044 -0.011  0.12   0.022  2.023 -0.963 -0.105  0.187]]"
       ]
      },
      {
       "output_type": "stream",
       "stream": "stdout",
       "text": [
        "\n",
        "[[ 0.043 -0.011  0.12   0.022  2.023 -0.963 -0.105  0.187]]\n",
        "[[ 0.044 -0.011  0.12   0.022  2.023 -0.963 -0.105  0.187]]\n",
        "[[ 0.043 -0.011  0.12   0.022  2.023 -0.963 -0.105  0.187]]\n",
        "[[ 0.044 -0.011  0.12   0.022  2.023 -0.963 -0.105  0.187]]\n",
        "[[ 0.043 -0.011  0.12   0.022  2.023 -0.963 -0.105  0.187]]"
       ]
      },
      {
       "output_type": "stream",
       "stream": "stdout",
       "text": [
        "\n",
        "[[ 0.044 -0.011  0.12   0.022  2.023 -0.963 -0.105  0.187]]"
       ]
      },
      {
       "output_type": "stream",
       "stream": "stdout",
       "text": [
        "\n",
        "[[ 0.043 -0.011  0.12   0.022  2.023 -0.963 -0.105  0.187]]\n",
        "[[ 0.044 -0.011  0.12   0.022  2.023 -0.963 -0.105  0.187]]\n",
        "[[ 0.043 -0.011  0.12   0.022  2.023 -0.963 -0.105  0.187]]\n",
        "[[ 0.044 -0.011  0.12   0.022  2.023 -0.963 -0.105  0.187]]"
       ]
      },
      {
       "output_type": "stream",
       "stream": "stdout",
       "text": [
        "\n",
        "[[ 0.043 -0.011  0.12   0.022  2.023 -0.963 -0.105  0.187]]\n",
        "[[ 0.044 -0.011  0.12   0.022  2.023 -0.963 -0.105  0.187]]\n",
        "[[ 0.043 -0.011  0.12   0.022  2.023 -0.963 -0.105  0.187]]\n",
        "[[ 0.044 -0.011  0.12   0.022  2.023 -0.963 -0.105  0.187]]"
       ]
      },
      {
       "output_type": "stream",
       "stream": "stdout",
       "text": [
        "\n",
        "[[ 0.043 -0.011  0.12   0.022  2.023 -0.963 -0.105  0.187]]\n",
        "[[ 0.044 -0.011  0.12   0.022  2.023 -0.963 -0.105  0.187]]\n",
        "[[ 0.043 -0.011  0.12   0.022  2.023 -0.963 -0.105  0.187]]\n",
        "[[ 0.044 -0.011  0.12   0.022  2.023 -0.963 -0.105  0.187]]\n",
        "[[ 0.043 -0.011  0.12   0.022  2.023 -0.963 -0.105  0.187]]"
       ]
      },
      {
       "output_type": "stream",
       "stream": "stdout",
       "text": [
        "\n",
        "[[ 0.044 -0.011  0.12   0.022  2.023 -0.963 -0.105  0.187]]\n",
        "[[ 0.043 -0.011  0.12   0.022  2.023 -0.963 -0.105  0.187]]\n",
        "[[ 0.044 -0.011  0.12   0.022  2.023 -0.963 -0.105  0.187]]\n",
        "[[ 0.043 -0.011  0.12   0.022  2.023 -0.963 -0.105  0.187]]\n",
        "[[ 0.044 -0.011  0.12   0.022  2.023 -0.963 -0.105  0.187]]"
       ]
      },
      {
       "output_type": "stream",
       "stream": "stdout",
       "text": [
        "\n",
        "[[ 0.043 -0.011  0.12   0.022  2.023 -0.963 -0.105  0.187]]\n",
        "[[ 0.044 -0.011  0.12   0.022  2.023 -0.963 -0.105  0.187]]\n",
        "[[ 0.043 -0.011  0.12   0.022  2.023 -0.963 -0.105  0.187]]\n",
        "[[ 0.044 -0.011  0.12   0.022  2.023 -0.963 -0.105  0.187]]"
       ]
      },
      {
       "output_type": "stream",
       "stream": "stdout",
       "text": [
        "\n",
        "[[ 0.043 -0.011  0.12   0.022  2.023 -0.963 -0.105  0.187]]\n",
        "[[ 0.044 -0.011  0.12   0.022  2.023 -0.963 -0.105  0.187]]\n",
        "[[ 0.043 -0.011  0.12   0.022  2.023 -0.963 -0.105  0.187]]\n",
        "[[ 0.044 -0.011  0.12   0.022  2.023 -0.963 -0.105  0.187]]"
       ]
      },
      {
       "output_type": "stream",
       "stream": "stdout",
       "text": [
        "\n",
        "[[ 0.043 -0.011  0.12   0.022  2.023 -0.963 -0.105  0.187]]\n",
        "[[ 0.044 -0.011  0.12   0.022  2.023 -0.963 -0.105  0.187]]\n",
        "[[ 0.043 -0.011  0.12   0.022  2.023 -0.963 -0.105  0.187]]\n",
        "[[ 0.044 -0.011  0.12   0.022  2.023 -0.963 -0.105  0.187]]"
       ]
      },
      {
       "output_type": "stream",
       "stream": "stdout",
       "text": [
        "\n",
        "[[ 0.043 -0.011  0.12   0.022  2.023 -0.963 -0.105  0.187]]\n",
        "[[ 0.044 -0.011  0.12   0.022  2.023 -0.963 -0.105  0.187]]\n",
        "[[ 0.043 -0.011  0.12   0.022  2.023 -0.963 -0.105  0.187]]\n",
        "[[ 0.044 -0.011  0.12   0.022  2.023 -0.963 -0.105  0.187]]\n",
        "[[ 0.043 -0.011  0.12   0.022  2.023 -0.963 -0.105  0.187]]"
       ]
      },
      {
       "output_type": "stream",
       "stream": "stdout",
       "text": [
        "\n",
        "[[ 0.044 -0.011  0.12   0.022  2.023 -0.963 -0.105  0.187]]\n",
        "[[ 0.043 -0.011  0.12   0.022  2.023 -0.963 -0.105  0.187]]\n",
        "[[ 0.044 -0.011  0.12   0.022  2.023 -0.963 -0.105  0.187]]\n",
        "[[ 0.043 -0.011  0.12   0.022  2.023 -0.963 -0.105  0.187]]\n",
        "[[ 0.044 -0.011  0.12   0.022  2.023 -0.963 -0.105  0.187]]"
       ]
      },
      {
       "output_type": "stream",
       "stream": "stdout",
       "text": [
        "\n",
        "[[ 0.043 -0.011  0.12   0.022  2.023 -0.963 -0.105  0.187]]\n",
        "[[ 0.044 -0.011  0.12   0.022  2.023 -0.963 -0.105  0.187]]\n",
        "[[ 0.043 -0.011  0.12   0.022  2.023 -0.963 -0.105  0.187]]\n",
        "[[ 0.044 -0.011  0.12   0.022  2.023 -0.963 -0.105  0.187]]"
       ]
      },
      {
       "output_type": "stream",
       "stream": "stdout",
       "text": [
        "\n",
        "[[ 0.043 -0.011  0.12   0.022  2.023 -0.963 -0.105  0.187]]\n",
        "[[ 0.044 -0.011  0.12   0.022  2.023 -0.963 -0.105  0.187]]\n",
        "[[ 0.043 -0.011  0.12   0.022  2.023 -0.963 -0.105  0.187]]\n",
        "[[ 0.044 -0.011  0.12   0.022  2.023 -0.963 -0.105  0.187]]\n",
        "[[ 0.043 -0.011  0.12   0.022  2.023 -0.963 -0.105  0.187]]"
       ]
      },
      {
       "output_type": "stream",
       "stream": "stdout",
       "text": [
        "\n",
        "[[ 0.044 -0.011  0.12   0.022  2.023 -0.963 -0.105  0.187]]\n",
        "[[ 0.043 -0.011  0.12   0.022  2.023 -0.963 -0.105  0.187]]\n",
        "[[ 0.044 -0.011  0.12   0.022  2.023 -0.963 -0.105  0.187]]\n",
        "[[ 0.043 -0.011  0.12   0.022  2.023 -0.963 -0.105  0.187]]\n",
        "[[ 0.044 -0.011  0.12   0.022  2.023 -0.963 -0.105  0.187]]"
       ]
      },
      {
       "output_type": "stream",
       "stream": "stdout",
       "text": [
        "\n",
        "[[ 0.043 -0.011  0.12   0.022  2.023 -0.963 -0.105  0.187]]\n",
        "[[ 0.044 -0.011  0.12   0.022  2.023 -0.963 -0.105  0.187]]\n",
        "[[ 0.043 -0.011  0.12   0.022  2.023 -0.963 -0.105  0.187]]\n",
        "[[ 0.044 -0.011  0.12   0.022  2.023 -0.963 -0.105  0.187]]\n",
        "[[ 0.043 -0.011  0.12   0.022  2.023 -0.963 -0.105  0.187]]\n",
        "[[ 0.044 -0.011  0.12   0.022  2.023 -0.963 -0.105  0.187]]"
       ]
      },
      {
       "output_type": "stream",
       "stream": "stdout",
       "text": [
        "\n",
        "[[ 0.043 -0.011  0.12   0.022  2.023 -0.963 -0.105  0.187]]\n",
        "[[ 0.044 -0.011  0.12   0.022  2.023 -0.963 -0.105  0.187]]\n",
        "[[ 0.043 -0.011  0.12   0.022  2.023 -0.963 -0.105  0.187]]\n",
        "[[ 0.044 -0.011  0.12   0.022  2.023 -0.963 -0.105  0.187]]\n",
        "[[ 0.043 -0.011  0.12   0.022  2.023 -0.963 -0.105  0.187]]\n",
        "[[ 0.044 -0.011  0.12   0.022  2.023 -0.963 -0.105  0.187]]"
       ]
      },
      {
       "output_type": "stream",
       "stream": "stdout",
       "text": [
        "\n",
        "[[ 0.043 -0.011  0.12   0.022  2.023 -0.963 -0.105  0.187]]\n",
        "[[ 0.044 -0.011  0.12   0.022  2.023 -0.963 -0.105  0.187]]\n",
        "[[ 0.043 -0.011  0.12   0.022  2.023 -0.963 -0.105  0.187]]\n",
        "[[ 0.044 -0.011  0.12   0.022  2.023 -0.963 -0.105  0.187]]"
       ]
      },
      {
       "output_type": "stream",
       "stream": "stdout",
       "text": [
        "\n",
        "[[ 0.043 -0.011  0.12   0.022  2.023 -0.963 -0.105  0.187]]\n",
        "[[ 0.044 -0.011  0.12   0.022  2.023 -0.963 -0.105  0.187]]\n",
        "[[ 0.043 -0.011  0.12   0.022  2.023 -0.963 -0.105  0.187]]\n",
        "[[ 0.044 -0.011  0.12   0.022  2.023 -0.963 -0.105  0.187]]\n",
        "[[ 0.043 -0.011  0.12   0.022  2.023 -0.963 -0.105  0.187]]"
       ]
      },
      {
       "output_type": "stream",
       "stream": "stdout",
       "text": [
        "\n",
        "[[ 0.044 -0.011  0.12   0.022  2.023 -0.963 -0.105  0.187]]\n",
        "[[ 0.043 -0.011  0.12   0.022  2.023 -0.963 -0.105  0.187]]\n",
        "[[ 0.044 -0.011  0.12   0.022  2.023 -0.963 -0.105  0.187]]\n",
        "[[ 0.043 -0.011  0.12   0.022  2.023 -0.963 -0.105  0.187]]\n",
        "[[ 0.044 -0.011  0.12   0.022  2.023 -0.963 -0.105  0.187]]\n",
        "[[ 0.043 -0.011  0.12   0.022  2.023 -0.963 -0.105  0.187]]"
       ]
      },
      {
       "output_type": "stream",
       "stream": "stdout",
       "text": [
        "\n",
        "[[ 0.044 -0.011  0.12   0.022  2.023 -0.963 -0.105  0.187]]\n",
        "[[ 0.043 -0.011  0.12   0.022  2.023 -0.963 -0.105  0.187]]\n",
        "[[ 0.044 -0.011  0.12   0.022  2.023 -0.963 -0.105  0.187]]\n",
        "[[ 0.043 -0.011  0.12   0.022  2.023 -0.963 -0.105  0.187]]\n",
        "[[ 0.044 -0.011  0.12   0.022  2.023 -0.963 -0.105  0.187]]\n",
        "[[ 0.043 -0.011  0.12   0.022  2.023 -0.963 -0.105  0.187]]"
       ]
      },
      {
       "output_type": "stream",
       "stream": "stdout",
       "text": [
        "\n",
        "[[ 0.044 -0.011  0.12   0.022  2.023 -0.963 -0.105  0.187]]\n",
        "[[ 0.043 -0.011  0.12   0.022  2.023 -0.963 -0.105  0.187]]\n",
        "[[ 0.044 -0.011  0.12   0.022  2.023 -0.963 -0.105  0.187]]\n",
        "[[ 0.043 -0.011  0.12   0.022  2.023 -0.963 -0.105  0.187]]\n",
        "[[ 0.044 -0.011  0.12   0.022  2.023 -0.963 -0.105  0.187]]\n",
        "[[ 0.043 -0.011  0.12   0.022  2.023 -0.963 -0.105  0.187]]"
       ]
      },
      {
       "output_type": "stream",
       "stream": "stdout",
       "text": [
        "\n",
        "[[ 0.044 -0.011  0.12   0.022  2.023 -0.963 -0.105  0.187]]\n",
        "[[ 0.043 -0.011  0.12   0.022  2.023 -0.963 -0.105  0.187]]\n",
        "[[ 0.044 -0.011  0.12   0.022  2.023 -0.963 -0.105  0.187]]\n",
        "[[ 0.043 -0.011  0.12   0.022  2.023 -0.963 -0.105  0.187]]\n",
        "[[ 0.044 -0.011  0.12   0.022  2.023 -0.963 -0.105  0.187]]"
       ]
      },
      {
       "output_type": "stream",
       "stream": "stdout",
       "text": [
        "\n",
        "[[ 0.043 -0.011  0.12   0.022  2.023 -0.963 -0.105  0.187]]\n",
        "[[ 0.044 -0.011  0.12   0.022  2.023 -0.963 -0.105  0.187]]\n",
        "[[ 0.043 -0.011  0.12   0.022  2.023 -0.963 -0.105  0.187]]\n",
        "[[ 0.044 -0.011  0.12   0.022  2.023 -0.963 -0.105  0.187]]\n",
        "[[ 0.043 -0.011  0.12   0.022  2.023 -0.963 -0.105  0.187]]\n",
        "[[ 0.044 -0.011  0.12   0.022  2.023 -0.963 -0.105  0.187]]"
       ]
      },
      {
       "output_type": "stream",
       "stream": "stdout",
       "text": [
        "\n",
        "[[ 0.043 -0.011  0.12   0.022  2.023 -0.963 -0.105  0.187]]\n",
        "[[ 0.044 -0.011  0.12   0.022  2.023 -0.963 -0.105  0.187]]\n",
        "[[ 0.043 -0.011  0.12   0.022  2.023 -0.963 -0.105  0.187]]\n",
        "[[ 0.044 -0.011  0.12   0.022  2.023 -0.963 -0.105  0.187]]\n",
        "[[ 0.043 -0.011  0.12   0.022  2.023 -0.963 -0.105  0.187]]\n",
        "[[ 0.044 -0.011  0.12   0.022  2.023 -0.963 -0.105  0.187]]"
       ]
      },
      {
       "output_type": "stream",
       "stream": "stdout",
       "text": [
        "\n",
        "[[ 0.043 -0.011  0.12   0.022  2.023 -0.963 -0.105  0.187]]\n",
        "[[ 0.044 -0.011  0.12   0.022  2.023 -0.963 -0.105  0.187]]\n",
        "[[ 0.043 -0.011  0.12   0.022  2.023 -0.963 -0.105  0.187]]\n",
        "[[ 0.044 -0.011  0.12   0.022  2.023 -0.963 -0.105  0.187]]\n",
        "[[ 0.043 -0.011  0.12   0.022  2.023 -0.963 -0.105  0.187]]\n",
        "[[ 0.044 -0.011  0.12   0.022  2.023 -0.963 -0.105  0.187]]"
       ]
      },
      {
       "output_type": "stream",
       "stream": "stdout",
       "text": [
        "\n",
        "[[ 0.043 -0.011  0.12   0.022  2.023 -0.963 -0.105  0.187]]\n",
        "[[ 0.044 -0.011  0.12   0.022  2.023 -0.963 -0.105  0.187]]\n",
        "[[ 0.043 -0.011  0.12   0.022  2.023 -0.963 -0.105  0.187]]\n",
        "[[ 0.044 -0.011  0.12   0.022  2.023 -0.963 -0.105  0.187]]\n",
        "[[ 0.043 -0.011  0.12   0.022  2.023 -0.963 -0.105  0.187]]\n",
        "[[ 0.044 -0.011  0.12   0.022  2.023 -0.963 -0.105  0.187]]"
       ]
      },
      {
       "output_type": "stream",
       "stream": "stdout",
       "text": [
        "\n",
        "[[ 0.043 -0.011  0.12   0.022  2.023 -0.963 -0.105  0.187]]\n",
        "[[ 0.044 -0.011  0.12   0.022  2.023 -0.963 -0.105  0.187]]\n",
        "[[ 0.043 -0.011  0.12   0.022  2.023 -0.963 -0.105  0.187]]\n",
        "[[ 0.044 -0.011  0.12   0.022  2.023 -0.963 -0.105  0.187]]\n",
        "[[ 0.043 -0.011  0.12   0.022  2.023 -0.963 -0.105  0.187]]\n",
        "[[ 0.044 -0.011  0.12   0.022  2.023 -0.963 -0.105  0.187]]"
       ]
      },
      {
       "output_type": "stream",
       "stream": "stdout",
       "text": [
        "\n",
        "[[ 0.043 -0.011  0.12   0.022  2.023 -0.963 -0.105  0.187]]\n",
        "[[ 0.044 -0.011  0.12   0.022  2.023 -0.963 -0.105  0.187]]\n",
        "[[ 0.043 -0.011  0.12   0.022  2.023 -0.963 -0.105  0.187]]\n",
        "[[ 0.044 -0.011  0.12   0.022  2.023 -0.963 -0.105  0.187]]\n",
        "[[ 0.043 -0.011  0.12   0.022  2.023 -0.963 -0.105  0.187]]\n",
        "[[ 0.044 -0.011  0.12   0.022  2.023 -0.963 -0.105  0.187]]"
       ]
      },
      {
       "output_type": "stream",
       "stream": "stdout",
       "text": [
        "\n",
        "[[ 0.043 -0.011  0.12   0.022  2.023 -0.963 -0.105  0.187]]\n",
        "[[ 0.044 -0.011  0.12   0.022  2.023 -0.963 -0.105  0.187]]\n",
        "[[ 0.043 -0.011  0.12   0.022  2.023 -0.963 -0.105  0.187]]\n",
        "[[ 0.044 -0.011  0.12   0.022  2.023 -0.963 -0.105  0.187]]\n",
        "[[ 0.043 -0.011  0.12   0.022  2.023 -0.963 -0.105  0.187]]\n",
        "[[ 0.044 -0.011  0.12   0.022  2.023 -0.963 -0.105  0.187]]"
       ]
      },
      {
       "output_type": "stream",
       "stream": "stdout",
       "text": [
        "\n",
        "[[ 0.043 -0.011  0.12   0.022  2.023 -0.963 -0.105  0.187]]\n",
        "[[ 0.044 -0.011  0.12   0.022  2.023 -0.963 -0.105  0.187]]\n",
        "[[ 0.043 -0.011  0.12   0.022  2.023 -0.963 -0.105  0.187]]\n",
        "[[ 0.044 -0.011  0.12   0.022  2.023 -0.963 -0.105  0.187]]\n",
        "[[ 0.043 -0.011  0.12   0.022  2.023 -0.963 -0.105  0.187]]\n",
        "[[ 0.044 -0.011  0.12   0.022  2.023 -0.963 -0.105  0.187]]"
       ]
      },
      {
       "output_type": "stream",
       "stream": "stdout",
       "text": [
        "\n",
        "[[ 0.043 -0.011  0.12   0.022  2.023 -0.963 -0.105  0.187]]\n",
        "[[ 0.044 -0.011  0.12   0.022  2.023 -0.963 -0.105  0.187]]\n",
        "[[ 0.043 -0.011  0.12   0.022  2.023 -0.963 -0.105  0.187]]\n",
        "[[ 0.044 -0.011  0.12   0.022  2.023 -0.963 -0.105  0.187]]\n",
        "[[ 0.043 -0.011  0.12   0.022  2.023 -0.963 -0.105  0.187]]\n"
       ]
      },
      {
       "output_type": "stream",
       "stream": "stdout",
       "text": [
        "[[ 0.044 -0.011  0.12   0.022  2.023 -0.963 -0.105  0.187]]\n",
        "[[ 0.043 -0.011  0.12   0.022  2.023 -0.963 -0.105  0.187]]\n",
        "[[ 0.044 -0.011  0.12   0.022  2.023 -0.963 -0.105  0.187]]\n",
        "[[ 0.043 -0.011  0.12   0.022  2.023 -0.963 -0.105  0.187]]\n",
        "[[ 0.044 -0.011  0.12   0.022  2.023 -0.963 -0.105  0.187]]\n",
        "[[ 0.043 -0.011  0.12   0.022  2.023 -0.963 -0.105  0.187]]\n",
        "[[ 0.044 -0.011  0.12   0.022  2.023 -0.963 -0.105  0.187]]"
       ]
      },
      {
       "output_type": "stream",
       "stream": "stdout",
       "text": [
        "\n",
        "[[ 0.043 -0.011  0.12   0.022  2.023 -0.963 -0.105  0.187]]\n",
        "[[ 0.044 -0.011  0.12   0.022  2.023 -0.963 -0.105  0.187]]\n",
        "[[ 0.043 -0.011  0.12   0.022  2.023 -0.963 -0.105  0.187]]\n",
        "[[ 0.044 -0.011  0.12   0.022  2.023 -0.963 -0.105  0.187]]\n",
        "[[ 0.043 -0.011  0.12   0.022  2.023 -0.963 -0.105  0.187]]\n",
        "[[ 0.044 -0.011  0.12   0.022  2.023 -0.963 -0.105  0.187]]"
       ]
      },
      {
       "output_type": "stream",
       "stream": "stdout",
       "text": [
        "\n",
        "[[ 0.043 -0.011  0.12   0.022  2.023 -0.963 -0.105  0.187]]\n",
        "[[ 0.044 -0.011  0.12   0.022  2.023 -0.963 -0.105  0.187]]\n",
        "[[ 0.043 -0.011  0.12   0.022  2.023 -0.963 -0.105  0.187]]\n",
        "[[ 0.044 -0.011  0.12   0.022  2.023 -0.963 -0.105  0.187]]\n",
        "[[ 0.043 -0.011  0.12   0.022  2.023 -0.963 -0.105  0.187]]\n",
        "[[ 0.044 -0.011  0.12   0.022  2.023 -0.963 -0.105  0.187]]"
       ]
      },
      {
       "output_type": "stream",
       "stream": "stdout",
       "text": [
        "\n",
        "[[ 0.043 -0.011  0.12   0.022  2.023 -0.963 -0.105  0.187]]\n",
        "[[ 0.044 -0.011  0.12   0.022  2.023 -0.963 -0.105  0.187]]\n",
        "[[ 0.043 -0.011  0.12   0.022  2.023 -0.963 -0.105  0.187]]\n",
        "[[ 0.044 -0.011  0.12   0.022  2.023 -0.963 -0.105  0.187]]\n",
        "[[ 0.043 -0.011  0.12   0.022  2.023 -0.963 -0.105  0.187]]"
       ]
      },
      {
       "output_type": "stream",
       "stream": "stdout",
       "text": [
        "\n",
        "[[ 0.044 -0.011  0.12   0.022  2.023 -0.963 -0.105  0.187]]\n",
        "[[ 0.043 -0.011  0.12   0.022  2.023 -0.963 -0.105  0.187]]\n",
        "[[ 0.044 -0.011  0.12   0.022  2.023 -0.963 -0.105  0.187]]"
       ]
      },
      {
       "output_type": "stream",
       "stream": "stdout",
       "text": [
        "\n",
        "[[ 0.043 -0.011  0.12   0.022  2.023 -0.963 -0.105  0.187]]\n",
        "[[ 0.044 -0.011  0.12   0.022  2.023 -0.963 -0.105  0.187]]\n",
        "[[ 0.043 -0.011  0.12   0.022  2.023 -0.963 -0.105  0.187]]\n",
        "[[ 0.044 -0.011  0.12   0.022  2.023 -0.963 -0.105  0.187]]\n",
        "[[ 0.043 -0.011  0.12   0.022  2.023 -0.963 -0.105  0.187]]"
       ]
      },
      {
       "output_type": "stream",
       "stream": "stdout",
       "text": [
        "\n",
        "[[ 0.044 -0.011  0.12   0.022  2.023 -0.963 -0.105  0.187]]\n",
        "[[ 0.043 -0.011  0.12   0.022  2.023 -0.963 -0.105  0.187]]\n",
        "[[ 0.044 -0.011  0.12   0.022  2.023 -0.963 -0.105  0.187]]\n",
        "[[ 0.043 -0.011  0.12   0.022  2.023 -0.963 -0.105  0.187]]\n",
        "[[ 0.044 -0.011  0.12   0.022  2.023 -0.963 -0.105  0.187]]\n",
        "[[ 0.043 -0.011  0.12   0.022  2.023 -0.963 -0.105  0.187]]"
       ]
      },
      {
       "output_type": "stream",
       "stream": "stdout",
       "text": [
        "\n",
        "[[ 0.044 -0.011  0.12   0.022  2.023 -0.963 -0.105  0.187]]\n",
        "[[ 0.043 -0.011  0.12   0.022  2.023 -0.963 -0.105  0.187]]\n",
        "[[ 0.044 -0.011  0.12   0.022  2.023 -0.963 -0.105  0.187]]\n",
        "[[ 0.043 -0.011  0.12   0.022  2.023 -0.963 -0.105  0.187]]\n",
        "[[ 0.044 -0.011  0.12   0.022  2.023 -0.963 -0.105  0.187]]\n",
        "[[ 0.043 -0.011  0.12   0.022  2.023 -0.963 -0.105  0.187]]"
       ]
      },
      {
       "output_type": "stream",
       "stream": "stdout",
       "text": [
        "\n",
        "[[ 0.044 -0.011  0.12   0.022  2.023 -0.963 -0.105  0.187]]\n",
        "[[ 0.043 -0.011  0.12   0.022  2.023 -0.963 -0.105  0.187]]\n",
        "[[ 0.044 -0.011  0.12   0.022  2.023 -0.963 -0.105  0.187]]"
       ]
      },
      {
       "output_type": "stream",
       "stream": "stdout",
       "text": [
        "\n",
        "[[ 0.043 -0.011  0.12   0.022  2.023 -0.963 -0.105  0.187]]\n",
        "[[ 0.044 -0.011  0.12   0.022  2.023 -0.963 -0.105  0.187]]\n",
        "[[ 0.043 -0.011  0.12   0.022  2.023 -0.963 -0.105  0.187]]\n",
        "[[ 0.044 -0.011  0.12   0.022  2.023 -0.963 -0.105  0.187]]\n",
        "[[ 0.043 -0.011  0.12   0.022  2.023 -0.963 -0.105  0.187]]"
       ]
      },
      {
       "output_type": "stream",
       "stream": "stdout",
       "text": [
        "\n",
        "[[ 0.044 -0.011  0.12   0.022  2.023 -0.963 -0.105  0.187]]\n",
        "[[ 0.043 -0.011  0.12   0.022  2.023 -0.963 -0.105  0.187]]\n",
        "[[ 0.044 -0.011  0.12   0.022  2.023 -0.963 -0.105  0.187]]\n",
        "[[ 0.043 -0.011  0.12   0.022  2.023 -0.963 -0.105  0.187]]\n",
        "[[ 0.044 -0.011  0.12   0.022  2.023 -0.963 -0.105  0.187]]"
       ]
      },
      {
       "output_type": "stream",
       "stream": "stdout",
       "text": [
        "\n",
        "[[ 0.043 -0.011  0.12   0.022  2.023 -0.963 -0.105  0.187]]\n",
        "[[ 0.044 -0.011  0.12   0.022  2.023 -0.963 -0.105  0.187]]\n",
        "[[ 0.043 -0.011  0.12   0.022  2.023 -0.963 -0.105  0.187]]\n",
        "[[ 0.044 -0.011  0.12   0.022  2.023 -0.963 -0.105  0.187]]"
       ]
      },
      {
       "output_type": "stream",
       "stream": "stdout",
       "text": [
        "\n",
        "[[ 0.043 -0.011  0.12   0.022  2.023 -0.963 -0.105  0.187]]\n",
        "[[ 0.044 -0.011  0.12   0.022  2.023 -0.963 -0.105  0.187]]\n",
        "[[ 0.043 -0.011  0.12   0.022  2.023 -0.963 -0.105  0.187]]\n",
        "[[ 0.044 -0.011  0.12   0.022  2.023 -0.963 -0.105  0.187]]\n",
        "[[ 0.043 -0.011  0.12   0.022  2.023 -0.963 -0.105  0.187]]"
       ]
      },
      {
       "output_type": "stream",
       "stream": "stdout",
       "text": [
        "\n",
        "[[ 0.044 -0.011  0.12   0.022  2.023 -0.963 -0.105  0.187]]\n",
        "[[ 0.043 -0.011  0.12   0.022  2.023 -0.963 -0.105  0.187]]\n",
        "[[ 0.044 -0.011  0.12   0.022  2.023 -0.963 -0.105  0.187]]\n",
        "[[ 0.043 -0.011  0.12   0.022  2.023 -0.963 -0.105  0.187]]\n",
        "[[ 0.044 -0.011  0.12   0.022  2.023 -0.963 -0.105  0.187]]"
       ]
      },
      {
       "output_type": "stream",
       "stream": "stdout",
       "text": [
        "\n",
        "[[ 0.043 -0.011  0.12   0.022  2.023 -0.963 -0.105  0.187]]\n",
        "[[ 0.044 -0.011  0.12   0.022  2.023 -0.963 -0.105  0.187]]\n",
        "[[ 0.043 -0.011  0.12   0.022  2.023 -0.963 -0.105  0.187]]\n",
        "[[ 0.044 -0.011  0.12   0.022  2.023 -0.963 -0.105  0.187]]\n",
        "[[ 0.043 -0.011  0.12   0.022  2.023 -0.963 -0.105  0.187]]\n",
        "[[ 0.044 -0.011  0.12   0.022  2.023 -0.963 -0.105  0.187]]"
       ]
      },
      {
       "output_type": "stream",
       "stream": "stdout",
       "text": [
        "\n",
        "[[ 0.043 -0.011  0.12   0.022  2.023 -0.963 -0.105  0.187]]\n",
        "[[ 0.044 -0.011  0.12   0.022  2.023 -0.963 -0.105  0.187]]\n",
        "[[ 0.043 -0.011  0.12   0.022  2.023 -0.963 -0.105  0.187]]\n",
        "[[ 0.044 -0.011  0.12   0.022  2.023 -0.963 -0.105  0.187]]\n",
        "[[ 0.043 -0.011  0.12   0.022  2.023 -0.963 -0.105  0.187]]\n",
        "[[ 0.044 -0.011  0.12   0.022  2.023 -0.963 -0.105  0.187]]"
       ]
      },
      {
       "output_type": "stream",
       "stream": "stdout",
       "text": [
        "\n",
        "[[ 0.043 -0.011  0.12   0.022  2.023 -0.963 -0.105  0.187]]\n",
        "[[ 0.044 -0.011  0.12   0.022  2.023 -0.963 -0.105  0.187]]\n",
        "[[ 0.043 -0.011  0.12   0.022  2.023 -0.963 -0.105  0.187]]\n",
        "[[ 0.044 -0.011  0.12   0.022  2.023 -0.963 -0.105  0.187]]\n",
        "[[ 0.043 -0.011  0.12   0.022  2.023 -0.963 -0.105  0.187]]\n",
        "[[ 0.044 -0.011  0.12   0.022  2.023 -0.963 -0.105  0.187]]"
       ]
      },
      {
       "output_type": "stream",
       "stream": "stdout",
       "text": [
        "\n",
        "[[ 0.043 -0.011  0.12   0.022  2.023 -0.963 -0.105  0.187]]\n",
        "[[ 0.044 -0.011  0.12   0.022  2.023 -0.963 -0.105  0.187]]\n",
        "[[ 0.043 -0.011  0.12   0.022  2.023 -0.963 -0.105  0.187]]\n",
        "[[ 0.044 -0.011  0.12   0.022  2.023 -0.963 -0.105  0.187]]\n",
        "[[ 0.043 -0.011  0.12   0.022  2.023 -0.963 -0.105  0.187]]\n",
        "[[ 0.044 -0.011  0.12   0.022  2.023 -0.963 -0.105  0.187]]"
       ]
      },
      {
       "output_type": "stream",
       "stream": "stdout",
       "text": [
        "\n",
        "[[ 0.043 -0.011  0.12   0.022  2.023 -0.963 -0.105  0.187]]\n",
        "[[ 0.044 -0.011  0.12   0.022  2.023 -0.963 -0.105  0.187]]\n",
        "[[ 0.043 -0.011  0.12   0.022  2.023 -0.963 -0.105  0.187]]\n",
        "[[ 0.044 -0.011  0.12   0.022  2.023 -0.963 -0.105  0.187]]\n",
        "[[ 0.043 -0.011  0.12   0.022  2.023 -0.963 -0.105  0.187]]\n",
        "[[ 0.044 -0.011  0.12   0.022  2.023 -0.963 -0.105  0.187]]"
       ]
      },
      {
       "output_type": "stream",
       "stream": "stdout",
       "text": [
        "\n",
        "[[ 0.043 -0.011  0.12   0.022  2.023 -0.963 -0.105  0.187]]\n",
        "[[ 0.044 -0.011  0.12   0.022  2.023 -0.963 -0.105  0.187]]\n",
        "[[ 0.043 -0.011  0.12   0.022  2.023 -0.963 -0.105  0.187]]\n",
        "[[ 0.044 -0.011  0.12   0.022  2.023 -0.963 -0.105  0.187]]\n",
        "[[ 0.043 -0.011  0.12   0.022  2.023 -0.963 -0.105  0.187]]\n",
        "[[ 0.044 -0.011  0.12   0.022  2.023 -0.963 -0.105  0.187]]"
       ]
      },
      {
       "output_type": "stream",
       "stream": "stdout",
       "text": [
        "\n",
        "[[ 0.043 -0.011  0.12   0.022  2.023 -0.963 -0.105  0.187]]\n",
        "[[ 0.044 -0.011  0.12   0.022  2.023 -0.963 -0.105  0.187]]\n",
        "[[ 0.043 -0.011  0.12   0.022  2.023 -0.963 -0.105  0.187]]\n",
        "[[ 0.044 -0.011  0.12   0.022  2.023 -0.963 -0.105  0.187]]\n",
        "[[ 0.043 -0.011  0.12   0.022  2.023 -0.963 -0.105  0.187]]\n",
        "[[ 0.044 -0.011  0.12   0.022  2.023 -0.963 -0.105  0.187]]"
       ]
      },
      {
       "output_type": "stream",
       "stream": "stdout",
       "text": [
        "\n",
        "[[ 0.043 -0.011  0.12   0.022  2.023 -0.963 -0.105  0.187]]\n",
        "[[ 0.044 -0.011  0.12   0.022  2.023 -0.963 -0.105  0.187]]\n",
        "[[ 0.043 -0.011  0.12   0.022  2.023 -0.963 -0.105  0.187]]\n",
        "[[ 0.044 -0.011  0.12   0.022  2.023 -0.963 -0.105  0.187]]\n",
        "[[ 0.043 -0.011  0.12   0.022  2.023 -0.963 -0.105  0.187]]\n",
        "[[ 0.044 -0.011  0.12   0.022  2.023 -0.963 -0.105  0.187]]"
       ]
      },
      {
       "output_type": "stream",
       "stream": "stdout",
       "text": [
        "\n",
        "[[ 0.043 -0.011  0.12   0.022  2.023 -0.963 -0.105  0.187]]\n",
        "[[ 0.044 -0.011  0.12   0.022  2.023 -0.963 -0.105  0.187]]\n",
        "[[ 0.043 -0.011  0.12   0.022  2.023 -0.963 -0.105  0.187]]\n",
        "[[ 0.044 -0.011  0.12   0.022  2.023 -0.963 -0.105  0.187]]\n",
        "[[ 0.043 -0.011  0.12   0.022  2.023 -0.963 -0.105  0.187]]\n",
        "[[ 0.044 -0.011  0.12   0.022  2.023 -0.963 -0.105  0.187]]"
       ]
      },
      {
       "output_type": "stream",
       "stream": "stdout",
       "text": [
        "\n",
        "[[ 0.043 -0.011  0.12   0.022  2.023 -0.963 -0.105  0.187]]\n",
        "[[ 0.044 -0.011  0.12   0.022  2.023 -0.963 -0.105  0.187]]\n",
        "[[ 0.043 -0.011  0.12   0.022  2.023 -0.963 -0.105  0.187]]\n",
        "[[ 0.044 -0.011  0.12   0.022  2.023 -0.963 -0.105  0.187]]\n",
        "[[ 0.043 -0.011  0.12   0.022  2.023 -0.963 -0.105  0.187]]\n",
        "[[ 0.044 -0.011  0.12   0.022  2.023 -0.963 -0.105  0.187]]"
       ]
      },
      {
       "output_type": "stream",
       "stream": "stdout",
       "text": [
        "\n",
        "[[ 0.043 -0.011  0.12   0.022  2.023 -0.963 -0.105  0.187]]\n",
        "[[ 0.044 -0.011  0.12   0.022  2.023 -0.963 -0.105  0.187]]\n",
        "[[ 0.043 -0.011  0.12   0.022  2.023 -0.963 -0.105  0.187]]\n",
        "[[ 0.044 -0.011  0.12   0.022  2.023 -0.963 -0.105  0.187]]\n",
        "[[ 0.043 -0.011  0.12   0.022  2.023 -0.963 -0.105  0.187]]\n",
        "[[ 0.044 -0.011  0.12   0.022  2.023 -0.963 -0.105  0.187]]"
       ]
      },
      {
       "output_type": "stream",
       "stream": "stdout",
       "text": [
        "\n",
        "[[ 0.043 -0.011  0.12   0.022  2.023 -0.963 -0.105  0.187]]\n",
        "[[ 0.044 -0.011  0.12   0.022  2.023 -0.963 -0.105  0.187]]\n",
        "[[ 0.043 -0.011  0.12   0.022  2.023 -0.963 -0.105  0.187]]\n",
        "[[ 0.044 -0.011  0.12   0.022  2.023 -0.963 -0.105  0.187]]\n",
        "[[ 0.043 -0.011  0.12   0.022  2.023 -0.963 -0.105  0.187]]\n",
        "[[ 0.044 -0.011  0.12   0.022  2.023 -0.963 -0.105  0.187]]"
       ]
      },
      {
       "output_type": "stream",
       "stream": "stdout",
       "text": [
        "\n",
        "[[ 0.043 -0.011  0.12   0.022  2.023 -0.963 -0.105  0.187]]\n",
        "[[ 0.044 -0.011  0.12   0.022  2.023 -0.963 -0.105  0.187]]\n",
        "[[ 0.043 -0.011  0.12   0.022  2.023 -0.963 -0.105  0.187]]\n",
        "[[ 0.044 -0.011  0.12   0.022  2.023 -0.963 -0.105  0.187]]\n",
        "[[ 0.043 -0.011  0.12   0.022  2.023 -0.963 -0.105  0.187]]\n",
        "[[ 0.044 -0.011  0.12   0.022  2.023 -0.963 -0.105  0.187]]"
       ]
      },
      {
       "output_type": "stream",
       "stream": "stdout",
       "text": [
        "\n",
        "[[ 0.043 -0.011  0.12   0.022  2.023 -0.963 -0.105  0.187]]\n",
        "[[ 0.044 -0.011  0.12   0.022  2.023 -0.963 -0.105  0.187]]\n",
        "[[ 0.043 -0.011  0.12   0.022  2.023 -0.963 -0.105  0.187]]\n",
        "[[ 0.044 -0.011  0.12   0.022  2.023 -0.963 -0.105  0.187]]\n",
        "[[ 0.043 -0.011  0.12   0.022  2.023 -0.963 -0.105  0.187]]"
       ]
      },
      {
       "output_type": "stream",
       "stream": "stdout",
       "text": [
        "\n",
        "[[ 0.044 -0.011  0.12   0.022  2.023 -0.963 -0.105  0.187]]\n",
        "[[ 0.043 -0.011  0.12   0.022  2.023 -0.963 -0.105  0.187]]\n",
        "[[ 0.044 -0.011  0.12   0.022  2.023 -0.963 -0.105  0.187]]\n",
        "[[ 0.043 -0.011  0.12   0.022  2.023 -0.963 -0.105  0.187]]"
       ]
      },
      {
       "output_type": "stream",
       "stream": "stdout",
       "text": [
        "\n",
        "[[ 0.044 -0.011  0.12   0.022  2.023 -0.963 -0.105  0.187]]\n",
        "[[ 0.043 -0.011  0.12   0.022  2.023 -0.963 -0.105  0.187]]\n",
        "[[ 0.044 -0.011  0.12   0.022  2.023 -0.963 -0.105  0.187]]\n",
        "[[ 0.043 -0.011  0.12   0.022  2.023 -0.963 -0.105  0.187]]\n",
        "[[ 0.044 -0.011  0.12   0.022  2.023 -0.963 -0.105  0.187]]"
       ]
      },
      {
       "output_type": "stream",
       "stream": "stdout",
       "text": [
        "\n",
        "[[ 0.043 -0.011  0.12   0.022  2.023 -0.963 -0.105  0.187]]\n",
        "[[ 0.044 -0.011  0.12   0.022  2.023 -0.963 -0.105  0.187]]\n",
        "[[ 0.043 -0.011  0.12   0.022  2.023 -0.963 -0.105  0.187]]\n",
        "[[ 0.044 -0.011  0.12   0.022  2.023 -0.963 -0.105  0.187]]\n",
        "[[ 0.043 -0.011  0.12   0.022  2.023 -0.963 -0.105  0.187]]"
       ]
      },
      {
       "output_type": "stream",
       "stream": "stdout",
       "text": [
        "\n",
        "[[ 0.044 -0.011  0.12   0.022  2.023 -0.963 -0.105  0.187]]\n",
        "[[ 0.043 -0.011  0.12   0.022  2.023 -0.963 -0.105  0.187]]\n",
        "[[ 0.044 -0.011  0.12   0.022  2.023 -0.963 -0.105  0.187]]\n",
        "[[ 0.043 -0.011  0.12   0.022  2.023 -0.963 -0.105  0.187]]\n",
        "[[ 0.044 -0.011  0.12   0.022  2.023 -0.963 -0.105  0.187]]"
       ]
      },
      {
       "output_type": "stream",
       "stream": "stdout",
       "text": [
        "\n",
        "[[ 0.043 -0.011  0.12   0.022  2.023 -0.963 -0.105  0.187]]\n",
        "[[ 0.044 -0.011  0.12   0.022  2.023 -0.963 -0.105  0.187]]\n",
        "[[ 0.043 -0.011  0.12   0.022  2.023 -0.963 -0.105  0.187]]\n",
        "[[ 0.044 -0.011  0.12   0.022  2.023 -0.963 -0.105  0.187]]\n",
        "[[ 0.043 -0.011  0.12   0.022  2.023 -0.963 -0.105  0.187]]"
       ]
      },
      {
       "output_type": "stream",
       "stream": "stdout",
       "text": [
        "\n",
        "[[ 0.044 -0.011  0.12   0.022  2.023 -0.963 -0.105  0.187]]\n",
        "[[ 0.043 -0.011  0.12   0.022  2.023 -0.963 -0.105  0.187]]\n",
        "[[ 0.044 -0.011  0.12   0.022  2.023 -0.963 -0.105  0.187]]\n",
        "[[ 0.043 -0.011  0.12   0.022  2.023 -0.963 -0.105  0.187]]\n",
        "[[ 0.044 -0.011  0.12   0.022  2.023 -0.963 -0.105  0.187]]"
       ]
      },
      {
       "output_type": "stream",
       "stream": "stdout",
       "text": [
        "\n"
       ]
      }
     ],
     "prompt_number": 28
    },
    {
     "cell_type": "code",
     "collapsed": false,
     "input": [
      "xMat=mat(xArr)\n",
      "yMat=mat(yArr).T\n",
      "xMat=regression.regularize(xMat)\n",
      "yM = mean(yMat,0)\n",
      "yMat = yMat - yM\n",
      "weights=regression.standRegres(xMat,yMat.T)   ## \ucd5c\uc18c \uc81c\uacf1 \uac00\uc911\uce58\n",
      "weights.T"
     ],
     "language": "python",
     "metadata": {},
     "outputs": [
      {
       "metadata": {},
       "output_type": "pyout",
       "prompt_number": 29,
       "text": [
        "matrix([[ 0.0430442 , -0.02274163,  0.13214087,  0.02075182,  2.22403814,\n",
        "         -0.99895312, -0.11725427,  0.16622915]])"
       ]
      }
     ],
     "prompt_number": 29
    },
    {
     "cell_type": "markdown",
     "metadata": {},
     "source": [
      "\ucd95\uc18c \uc54c\uace0\ub9ac\uc998\ub97c \ud1b5\ud574 \ubaa8\ub378\uc5d0 \uc131\ud5a5\uc744 \ucd94\uac00, \uc911\uc694\ud55c \uc18d\uc131\ud55c \uc18d\uc131\uc744 \ucc3e\uace0, \uc911\uc694\ud558\uc9c0 \uc54a\uc740 \uc18d\uc131\uc5d0 \ub300\ud574\uc11c\ub294 \ub370\uc774\ud130 \uc218\uc9d1\uc744 \uc911\ub2e8\ud558\uc5ec w\uac12\ub4e4\uc744 \uac00\uc9c4 \ub2e4\uc591\ud55c \ubaa8\ub378\ub4e4\uc744 \uad6c\ucd95\ud558\uace0 \uc624\ub958\uac00 \ucd5c\uc18c\uc778 \ubaa8\ub378\uc744 \uc120\ud0dd\ud568 "
     ]
    },
    {
     "cell_type": "markdown",
     "metadata": {},
     "source": [
      "## 8.5 \uc131\ud5a5 / \ubcc0\ud654\ub7c9 \uad00\uacc4\n",
      "<n>\n",
      "<b>\uc6b0\ub9ac\uac00 \ub9cc\ub4e0 \ubaa8\ub378\uacfc \uce21\uc815 \uc0ac\uc774\uc5d0\ub294 \ud56d\uc0c1 \uc624\ucc28\uac00 \uc874\uc7ac\ud568.</b> \ubcf5\uc7a1\ud55c \uc808\ucc28\ub97c \uac04\uc18c\ud654\ud558\uc5ec \ucc98\ub9ac\ud558\ub2e4\ubcf4\uba74 \ubaa8\ub378\uacfc \uce21\uc815 \uac04\uc758 \ub178\uc774\uc988\ub098 \uc624\ub958\uac00 \ubc1c\uc0dd\ud558\uac8c \ub418\uba70, \ub370\uc774\ud130\uac00 \uc0dd\uc131\ub41c \uacfc\uc815\uc744 \uc774\ud574\ud558\uc9c0 \ubabb\ud558\uac8c \ud558\uae30\ub3c4\ud568.\n",
      "<n><n>\n",
      "\n",
      "8.1\uc808\n",
      "<b>\\begin{equation*} y={3.0+1.7x+0.1sin(30x)+0.06N(0,1)}  \\end{equation*} </b>\n",
      "<n>\n",
      "3.0+1.7x\ubd80\ubd84\uc744 \uad6c\ud588\uc74c. \ud558\uc9c0\ub9cc, 0.1sin(30x)+0.06N(0,1)\uc5d0 \ub300\ud55c \uc624\ub958\ub294 \uc874\uc7ac\n",
      "<n>\n",
      "8.2-3\uc808\n",
      "<b>\uc9c0\uc5ed\uc801 \uac00\uc911\uce58 \uacc4\uc218</b>\ub97c \uc801\uc6a9\ud558\uc5ec \uc624\ub958\ub97c \uc801\uac8c \ud558\ub294 \ud574\uacb0\ucc45\uc744 \ucc3e\uc74c, \uc77c\ubc18\uc801\uc73c\ub85c <b>\uc624\ub958\ub294 \uc131\ud5a5(bias), \uc624\ub958, \uc784\uc758 \ub178\uc774\uc988 \ub4f1 \uad6c\uc131\uc694\uc18c\uc758 \ud569\uc73c\ub85c \uacc4\uc0b0</b>. \uac00\uc6b0\uc2a4 \ud655\ub960\ubd84\ud3ec \ucee4\ub110\uc744 \uc801\uc6a9\ud558\uc5ec \ubaa8\ub378\uc5d0 <b>\ubcc0\ud654\ub7c9(variance)</b>\uc744 \ucd94\uac00\ud568.\n",
      "<n>\n",
      "8.4\uc808\n",
      "\ucd95\uc18c \ubc29\ubc95\uc744 \uc801\uc6a9\ud560 \ub54c, \ubaa8\ub378\uc5d0 <b>\uc131\ud5a5\uc744 \ucd94\uac00</b>\ud558\uc5ec \uad6c\uc131\uc694\uc18c \uc911 \uc77c\ubd80\ub97c \uc644\uc804\ud788 0\uc73c\ub85c \ucd95\uc18c\uc2dc\ucf1c \ubaa8\ub378\uc758 \ubcf5\uc7a1\ub3c4\ub97c \uc904\uc784. \ubaa8\ub378\uc758 \uc18d\uc131\uc218\uac00 \uc904\uc5b4\ub4e4\uc218\ub85d \ubaa8\ub378\uc744 \uc774\ud574\ud558\uae30 \uc26c\uc6cc\uc9c0\uace0, \ub354 \uc801\uc740 \uc608\uce21 \uc624\ub958\ub97c \uc5bb\uc744 \uc218 \uc788\uc74c.\n",
      "<n>\n",
      "<b>\ubcc0\ud654\ub7c9\uc740 \uac00\uc911\uce58\uac00 \ubcc0\uacbd\ub41c \uac12\ub4e4\uc758 \ud569\uc73c\ub85c \uacc4\uc0b0\ub428</b>"
     ]
    },
    {
     "cell_type": "markdown",
     "metadata": {},
     "source": [
      "##8.7 \uc694\uc57d\n",
      "<n>\n",
      "<b>\ud68c\uadc0\ub294 \uacc4\uc18d\uc801\uc73c\ub85c \ubcc0\ud558\ub294 \uac12\uc778 \ubcc0\uc218(\ubaa9\uc801 \uac12)\ub97c \uc608\uce21\ud558\ub294 \uacfc\uc815</b>\n",
      "<n>\n",
      "\ud68c\uadc0 \ubc29\uc815\uc2dd\uc5d0\uc11c \uac00\uc7a5 \uc88b\uc740 <b>\uac00\uc911\uce58</b>\ub97c \ucc3e\uae30 \uc704\ud574\uc11c \uc81c\uacf1\uc758 \ud3b8\ucc28\uc758 \ud569\uc774 \ucd5c\uc18c\uac00 \ub418\ub294 \uac00\uc911\uce58\ub97c \ud65c\uc6a9\n",
      "<n>\n",
      "\uc785\ub825 \ud589\ub82c X\uc5d0 \ub300\ud574\uc11c <b>XTX\uc758 \uc5ed\ud589\ub82c\uc774 \uc874\uc7ac\ud55c\ub2e4\uba74 \uc5b4\ub5a0\ud55c \ud615\ud0dc\uc758 \ub370\uc774\ud130 \uc9d1\ud569\uc73c\ub85c\ub3c4 \ud68c\uadc0\ub97c \uc218\ud589\ud560 \uc218 \uc788\uc74c</b>\n",
      "<n>\n",
      "\ub370\uc774\ud130 \uc810\ubcf4\ub2e4 \uc18d\uc131\uc758 \uc218\uac00 \ub9ce\uc740 \uacbd\uc6b0 XTX\uc758 \uc5ed\ud589\ub82c\uc744 \uacc4\uc0b0\ud560 \uc218 \uc5c6\uc9c0\ub9cc, \ub2a5\ud615 \ud68c\uadc0(\ucd95\uc18c \ubc29\ubc95)\ub97c \ud65c\uc6a9\ud558\uc5ec \uad6c\ud560 \uc218 \uc788\uc74c. (I*lamda)\n",
      "<n>\n",
      "<b>\ucd95\uc18c \ubc29\ubc95\uc740 \ubaa8\ub378\uc5d0 \uc131\ud5a5\uc744 \ub354\ud558\uace0 \ubcc0\ud654\ub7c9\uc744 \uc904\uc784.</b>\n",
      "<n>"
     ]
    },
    {
     "cell_type": "code",
     "collapsed": false,
     "input": [],
     "language": "python",
     "metadata": {},
     "outputs": []
    }
   ],
   "metadata": {}
  }
 ]
}