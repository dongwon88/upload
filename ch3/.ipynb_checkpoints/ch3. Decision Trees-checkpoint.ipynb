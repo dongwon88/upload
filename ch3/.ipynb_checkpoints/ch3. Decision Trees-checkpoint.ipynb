{
 "metadata": {
  "name": "",
  "signature": "sha256:f1b3f1dca5ccf34d8f657149c55f8fe40a180ac3b898c10c5f22b6cf80cff806"
 },
 "nbformat": 3,
 "nbformat_minor": 0,
 "worksheets": [
  {
   "cells": [
    {
     "cell_type": "code",
     "collapsed": false,
     "input": [
      "# \ub370\uc774\ud130 \uc9d1\ud569\uc758 \uc100\ub10c \uc5d4\ud2b8\ub85c\ud53c\ub97c \uacc4\uc0b0\ud558\ub294 \ud568\uc218\n",
      "\n",
      "from math import log\n",
      "import operator\n",
      "\n",
      "def createDataSet():\n",
      "    dataSet = [[1, 1, 'yes'],\n",
      "               [1, 1, 'yes'],\n",
      "               [1, 0, 'no'],\n",
      "               [0, 1, 'no'],\n",
      "               [0, 1, 'no']]\n",
      "    labels = ['no surfacing','flippers']\n",
      "    #change to discrete values\n",
      "    return dataSet, labels\n",
      "\n",
      "def calcShannonEnt(dataSet):\n",
      "    numEntries = len(dataSet)\n",
      "    labelCounts = {}\n",
      "    for featVec in dataSet: #the the number of unique elements and their occurance\n",
      "        currentLabel = featVec[-1]\n",
      "        if currentLabel not in labelCounts.keys(): labelCounts[currentLabel] = 0\n",
      "        labelCounts[currentLabel] += 1\n",
      "    shannonEnt = 0.0\n",
      "    for key in labelCounts:\n",
      "        prob = float(labelCounts[key])/numEntries\n",
      "        shannonEnt -= prob * log(prob,2) #log base 2\n",
      "    return shannonEnt"
     ],
     "language": "python",
     "metadata": {},
     "outputs": [],
     "prompt_number": 1
    },
    {
     "cell_type": "code",
     "collapsed": false,
     "input": [
      "#trees.py \uc784\ud3f4\ud2b8\n",
      "import trees\n",
      "\n",
      "myDat, labels = trees.createDataSet()\n",
      "myDat\n",
      "\n",
      "# \uc5d4\ud2b8\ub85c\ud53c \uacc4\uc0b0\n",
      "trees.calcShannonEnt(myDat) "
     ],
     "language": "python",
     "metadata": {},
     "outputs": [
      {
       "metadata": {},
       "output_type": "pyout",
       "prompt_number": 4,
       "text": [
        "0.9709505944546686"
       ]
      }
     ],
     "prompt_number": 4
    },
    {
     "cell_type": "code",
     "collapsed": false,
     "input": [
      "reload(trees)\n",
      "myDat[0][-1]='maybe'\n",
      "myDat\n",
      "trees.calcShannonEnt(myDat)\n",
      "# \uc5d4\ud2b8\ub85c\ud53c\uac00 \ud074\uc218\ub85d \ub370\uc774\ud130\uac00 \ud63c\uc7a1\ud558\ub2e4\ub294 \uc758\ubbf8"
     ],
     "language": "python",
     "metadata": {},
     "outputs": [
      {
       "metadata": {},
       "output_type": "pyout",
       "prompt_number": 6,
       "text": [
        "1.3709505944546687"
       ]
      }
     ],
     "prompt_number": 6
    },
    {
     "cell_type": "code",
     "collapsed": false,
     "input": [
      "# \uc8fc\uc5b4\uc9c4 \uc18d\uc131\uc73c\ub85c \ub370\uc774\ud130 \uc9d1\ud569 \ubd84\ud560\ud558\uae30\n",
      "\n",
      "def splitDataSet(dataSet, axis, value):\n",
      "    retDataSet = []\n",
      "    for featVec in dataSet:\n",
      "        if featVec[axis] == value:\n",
      "            reducedFeatVec = featVec[:axis]     #chop out axis used for splitting\n",
      "            reducedFeatVec.extend(featVec[axis+1:])\n",
      "            retDataSet.append(reducedFeatVec)\n",
      "    return retDataSet"
     ],
     "language": "python",
     "metadata": {},
     "outputs": []
    },
    {
     "cell_type": "code",
     "collapsed": false,
     "input": [
      "reload(trees)\n",
      "myDat\n",
      "trees.splitDataSet(myDat, 0, 1)\n",
      "trees.splitDataSet(myDat, 0, 0)"
     ],
     "language": "python",
     "metadata": {},
     "outputs": [
      {
       "metadata": {},
       "output_type": "pyout",
       "prompt_number": 10,
       "text": [
        "[[1, 'no'], [1, 'no']]"
       ]
      }
     ],
     "prompt_number": 10
    },
    {
     "cell_type": "code",
     "collapsed": false,
     "input": [
      "# \ub370\uc774\ud130 \ubd84\ud560 \uc2dc \uac00\uc7a5 \uc88b\uc740 \uc18d\uc131 \uc120\ud0dd\ud558\uae30\n",
      "\n",
      "def chooseBestFeatureToSplit(dataSet):\n",
      "    numFeatures = len(dataSet[0]) - 1      #the last column is used for the labels\n",
      "    baseEntropy = calcShannonEnt(dataSet)\n",
      "    bestInfoGain = 0.0; bestFeature = -1\n",
      "    for i in range(numFeatures):        #iterate over all the features\n",
      "        featList = [example[i] for example in dataSet]#create a list of all the examples of this feature\n",
      "        uniqueVals = set(featList)       #get a set of unique values\n",
      "        newEntropy = 0.0\n",
      "        for value in uniqueVals:\n",
      "            subDataSet = splitDataSet(dataSet, i, value)\n",
      "            prob = len(subDataSet)/float(len(dataSet))\n",
      "            newEntropy += prob * calcShannonEnt(subDataSet)     \n",
      "        infoGain = baseEntropy - newEntropy     #calculate the info gain; ie reduction in entropy\n",
      "        if (infoGain > bestInfoGain):       #compare this to the best gain so far\n",
      "            bestInfoGain = infoGain         #if better than current best, set to best\n",
      "            bestFeature = i\n",
      "    return bestFeature                      #returns an integer"
     ],
     "language": "python",
     "metadata": {},
     "outputs": []
    },
    {
     "cell_type": "code",
     "collapsed": false,
     "input": [
      "reload(trees)\n",
      "myDat, labels = trees.createDataSet()\n",
      "trees.chooseBestFeatureToSplit(myDat)  # \uccab\ubc88\uc9f8 \uc18d\uc131\uc774 \ubd84\ud560 \uc2dc \uac00\uc7a5 \uc88b\uc740 \uc18d\uc131\uc784\n",
      "myDat"
     ],
     "language": "python",
     "metadata": {},
     "outputs": [
      {
       "metadata": {},
       "output_type": "pyout",
       "prompt_number": 16,
       "text": [
        "[[1, 1, 'yes'], [1, 1, 'yes'], [1, 0, 'no'], [0, 1, 'no'], [0, 1, 'no']]"
       ]
      }
     ],
     "prompt_number": 16
    },
    {
     "cell_type": "code",
     "collapsed": false,
     "input": [
      "# \ud2b8\ub9ac \uadf8\ub9ac\uae30 - plotTree \ud568\uc218\n",
      "\n",
      "import treePlotter\n",
      "\n",
      "def plotMidText(cntrPt, parentPt, txtString):\n",
      "    xMid = (parentPt[0]-cntrPt[0])/2.0 + cntrPt[0]\n",
      "    yMid = (parentPt[1]-cntrPt[1])/2.0 + cntrPt[1]\n",
      "    createPlot.ax1.text(xMid, yMid, txtString, va=\"center\", ha=\"center\", rotation=30)\n",
      "\n",
      "def plotTree(myTree, parentPt, nodeTxt):#if the first key tells you what feat was split on\n",
      "    numLeafs = getNumLeafs(myTree)  #this determines the x width of this tree\n",
      "    depth = getTreeDepth(myTree)\n",
      "    firstStr = myTree.keys()[0]     #the text label for this node should be this\n",
      "    cntrPt = (plotTree.xOff + (1.0 + float(numLeafs))/2.0/plotTree.totalW, plotTree.yOff)\n",
      "    plotMidText(cntrPt, parentPt, nodeTxt)\n",
      "    plotNode(firstStr, cntrPt, parentPt, decisionNode)\n",
      "    secondDict = myTree[firstStr]\n",
      "    plotTree.yOff = plotTree.yOff - 1.0/plotTree.totalD\n",
      "    for key in secondDict.keys():\n",
      "        if type(secondDict[key]).__name__=='dict':#test to see if the nodes are dictonaires, if not they are leaf nodes   \n",
      "            plotTree(secondDict[key],cntrPt,str(key))        #recursion\n",
      "        else:   #it's a leaf node print the leaf node\n",
      "            plotTree.xOff = plotTree.xOff + 1.0/plotTree.totalW\n",
      "            plotNode(secondDict[key], (plotTree.xOff, plotTree.yOff), cntrPt, leafNode)\n",
      "            plotMidText((plotTree.xOff, plotTree.yOff), cntrPt, str(key))\n",
      "    plotTree.yOff = plotTree.yOff + 1.0/plotTree.totalD\n",
      "#if you do get a dictonary you know it's a tree, and the first element will be another dict\n",
      "\n",
      "def createPlot(inTree):\n",
      "    fig = plt.figure(1, facecolor='white')\n",
      "    fig.clf()\n",
      "    axprops = dict(xticks=[], yticks=[])\n",
      "    createPlot.ax1 = plt.subplot(111, frameon=False, **axprops)    #no ticks\n",
      "    #createPlot.ax1 = plt.subplot(111, frameon=False) #ticks for demo puropses \n",
      "    plotTree.totalW = float(getNumLeafs(inTree))\n",
      "    plotTree.totalD = float(getTreeDepth(inTree))\n",
      "    plotTree.xOff = -0.5/plotTree.totalW; plotTree.yOff = 1.0;\n",
      "    plotTree(inTree, (0.5,1.0), '')\n",
      "    plt.show()"
     ],
     "language": "python",
     "metadata": {},
     "outputs": [],
     "prompt_number": 18
    },
    {
     "cell_type": "code",
     "collapsed": false,
     "input": [
      "reload(treePlotter)\n",
      "myTree = treePlotter.retrieveTree(0)\n",
      "treePlotter.createPlot(myTree)"
     ],
     "language": "python",
     "metadata": {},
     "outputs": [
      {
       "output_type": "stream",
       "stream": "stderr",
       "text": [
        "C:\\Users\\LDW\\Anaconda\\lib\\site-packages\\matplotlib\\patches.py:3145: RuntimeWarning: invalid value encountered in double_scalars\n",
        "  ddx = pad_projected * dx / cp_distance\n",
        "C:\\Users\\LDW\\Anaconda\\lib\\site-packages\\matplotlib\\patches.py:3146: RuntimeWarning: invalid value encountered in double_scalars\n",
        "  ddy = pad_projected * dy / cp_distance\n",
        "C:\\Users\\LDW\\Anaconda\\lib\\site-packages\\matplotlib\\patches.py:3149: RuntimeWarning: invalid value encountered in double_scalars\n",
        "  dx = dx / cp_distance * head_dist\n",
        "C:\\Users\\LDW\\Anaconda\\lib\\site-packages\\matplotlib\\patches.py:3150: RuntimeWarning: invalid value encountered in double_scalars\n",
        "  dy = dy / cp_distance * head_dist\n"
       ]
      }
     ],
     "prompt_number": 21
    },
    {
     "cell_type": "code",
     "collapsed": false,
     "input": [
      "myTree['no surfacing'][3]='maybe'\n",
      "myTree\n",
      "treePlotter.createPlot(myTree)"
     ],
     "language": "python",
     "metadata": {},
     "outputs": [],
     "prompt_number": 24
    }
   ],
   "metadata": {}
  }
 ]
}