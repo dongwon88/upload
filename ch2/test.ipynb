{
 "metadata": {
  "name": "",
  "signature": "sha256:399a16e6878b065679b2d70de48c32641ae061c14217adc8f673a7b26cc47f8f"
 },
 "nbformat": 3,
 "nbformat_minor": 0,
 "worksheets": [
  {
   "cells": [
    {
     "cell_type": "code",
     "collapsed": false,
     "input": [
      "testtest"
     ],
     "language": "python",
     "metadata": {},
     "outputs": []
    }
   ],
   "metadata": {}
  }
 ]
}